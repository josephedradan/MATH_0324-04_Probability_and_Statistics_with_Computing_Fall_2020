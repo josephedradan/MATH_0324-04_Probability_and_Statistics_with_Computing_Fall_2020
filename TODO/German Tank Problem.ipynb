{
 "cells": [
  {
   "cell_type": "markdown",
   "metadata": {},
   "source": [
    "# \"German Tank Problem\" \n",
    "In World War II there was interest in estimating  the size of the fleet of German tanks,  from serial numbers of captured tanks.  Simplifying the actual situation,   assume the fleet is numbered 1, ...,  M  where M is unknown.   Suppose 8 tanks captured.   The serial numbers are  39,  64,   5,   85,   33,   8,    26,   45.        Can we estimate M?\n",
    "\n",
    "You'll do a probability problem that is related.     Presume the size of the fleet of German tanks is 70,  and that  tanks are numbered 1, 2, ....,  70.   What is the probability that when five tanks are captured,   all five tanks are numbered 40 or below?  Give your answer accurate to three decimal places.\n",
    "\n",
    "Do this in R by calculating an accurate empirical probability.    Below are some commands in R for a similar example.    By modifying this code appropriately, you can get an accurate empirical probability.  You'll want to be accurate to the true probability by about 3 decimal places.\n",
    "\n",
    "<!-- ![german_tank_problem.png](images/german_tank_problem.png) -->\n",
    "<img src=\"images/german_tank_problem.png\" alt=\"german_tank_problem.png\" style=\"width: 600px;\" align=\"left\"/>\n"
   ]
  },
  {
   "cell_type": "code",
   "execution_count": 1,
   "metadata": {
    "ExecuteTime": {
     "end_time": "2020-10-14T01:40:55.947061Z",
     "start_time": "2020-10-14T01:40:55.263977Z"
    },
    "scrolled": true
   },
   "outputs": [
    {
     "name": "stderr",
     "output_type": "stream",
     "text": [
      "C:\\Users\\Joseph\\anaconda3\\lib\\site-packages\\rpy2\\robjects\\packages.py:365: UserWarning: The symbol 'quartz' is not in this R namespace/package.\n",
      "  warnings.warn(\n"
     ]
    }
   ],
   "source": [
    "import rpy2\n",
    "%reload_ext rpy2.ipython"
   ]
  },
  {
   "cell_type": "markdown",
   "metadata": {},
   "source": [
    "# R Solution"
   ]
  },
  {
   "cell_type": "code",
   "execution_count": 2,
   "metadata": {
    "ExecuteTime": {
     "end_time": "2020-10-14T01:41:03.317188Z",
     "start_time": "2020-10-14T01:40:55.948063Z"
    }
   },
   "outputs": [
    {
     "name": "stdout",
     "output_type": "stream",
     "text": [
      "[1] 0.054049\n"
     ]
    }
   ],
   "source": [
    "%%R\n",
    "# Runtime: 9.74s\n",
    "\n",
    "START <- 1\n",
    "END <- 70\n",
    "SIZE <- 5\n",
    "MAX_LIMIT <- 40\n",
    "\n",
    "get_random_numbers <- function(start, end, size_given){\n",
    "    return (sample(start:end, size=size_given, replace=FALSE));  # replace=FALSE -> no recurring \n",
    "}\n",
    "\n",
    "is_max_num_more_than_given_value <- function(list_given, max_limit){\n",
    "    return (max(list_given) <= max_limit);\n",
    "}\n",
    "\n",
    "run_simulation <- function(amount_of_runs, start, end, size, max_limit){\n",
    "    \n",
    "    temp <- function(start, end, size, max_limit){\n",
    "        return (is_max_num_more_than_given_value(get_random_numbers(start, end, size), max_limit))\n",
    "    }\n",
    "    \n",
    "    repeat_call <- function(amount_of_runs, start, end, size, max_limit){\n",
    "        replicate(amount_of_runs, temp(start, end, size, max_limit))\n",
    "    }\n",
    "    \n",
    "    return (mean(repeat_call(amount_of_runs, start, end, size, max_limit)))\n",
    "}\n",
    "\n",
    "# Example single run\n",
    "# x <- get_random_numbers(START, END, SIZE)\n",
    "# print(x)\n",
    "# print(is_max_num_more_than_given_value(x, MAX_LIMIT))\n",
    "\n",
    "print(run_simulation(1000000, START, END, SIZE, MAX_LIMIT))"
   ]
  },
  {
   "cell_type": "markdown",
   "metadata": {},
   "source": [
    "# Python Solution"
   ]
  },
  {
   "cell_type": "code",
   "execution_count": 3,
   "metadata": {
    "ExecuteTime": {
     "end_time": "2020-10-14T01:41:30.665356Z",
     "start_time": "2020-10-14T01:41:03.318190Z"
    }
   },
   "outputs": [
    {
     "name": "stdout",
     "output_type": "stream",
     "text": [
      "0.054474\n"
     ]
    }
   ],
   "source": [
    "\"\"\"\n",
    "Runtime: 28.4s\n",
    "\n",
    "Notes:\n",
    "    Significantly slower than R, due to using python rather than numpy\n",
    "\n",
    "Reference:\n",
    "    numpy.random.choice\n",
    "        https://docs.scipy.org/doc//numpy-1.10.4/reference/generated/numpy.random.choice.html\n",
    "        \n",
    "    numpy.random.randint\n",
    "        https://numpy.org/doc/stable/reference/random/generated/numpy.random.randint.html\n",
    "        \n",
    "    Counting the number of True Booleans in a Python List\n",
    "        https://stackoverflow.com/questions/12765833/counting-the-number-of-true-booleans-in-a-python-list\n",
    "\"\"\"\n",
    "import numpy as np\n",
    "\n",
    "START = 1\n",
    "END = 70\n",
    "SIZE = 5\n",
    "MAX_LIMIT = 40\n",
    "\n",
    "\n",
    "def get_random_numbers(start, end, size_given):\n",
    "    return np.random.choice(range(start, end + 1), size=size_given, replace=False)\n",
    "\n",
    "\n",
    "def is_max_num_more_than_given_value(list_given, max_limit):\n",
    "    return np.amax(list_given) <= max_limit\n",
    "\n",
    "\n",
    "def run_simulation(amount_of_runs, start, end, size, max_limit):\n",
    "    \"\"\"\n",
    "    Python bool is differnt from numpy boolean when using \"result is True\"\n",
    "    temp() use function scope\n",
    "    \"\"\"\n",
    "    def temp(): return (is_max_num_more_than_given_value(get_random_numbers(start, end, size), max_limit))\n",
    "    \n",
    "    def repeat_call(): return np.fromiter((temp() for i in range(amount_of_runs)), float)\n",
    "#     def repeat_call(): return [temp() for i in range(amount_of_runs)]  # Python speed slow?\n",
    "#     def repeat_call(): return np.repeat(temp(), amount_of_runs)  # Does not work as intended\n",
    "\n",
    "    return np.sum(repeat_call()) / amount_of_runs\n",
    "\n",
    "# Example single run\n",
    "# x = get_random_numbers(START, END, SIZE)\n",
    "# print(x)\n",
    "# print(is_max_num_more_than_given_value(x, MAX_LIMIT))\n",
    "\n",
    "print(run_simulation(1000000, START, END, SIZE, MAX_LIMIT))"
   ]
  }
 ],
 "metadata": {
  "kernelspec": {
   "display_name": "Python 3.8.5 64-bit Anaconda (Only works with Anaconda's Jupyter)",
   "language": "python",
   "name": "python3"
  },
  "language_info": {
   "codemirror_mode": {
    "name": "ipython",
    "version": 3
   },
   "file_extension": ".py",
   "mimetype": "text/x-python",
   "name": "python",
   "nbconvert_exporter": "python",
   "pygments_lexer": "ipython3",
   "version": "3.8.5"
  },
  "varInspector": {
   "cols": {
    "lenName": 16,
    "lenType": 16,
    "lenVar": 40
   },
   "kernels_config": {
    "python": {
     "delete_cmd_postfix": "",
     "delete_cmd_prefix": "del ",
     "library": "var_list.py",
     "varRefreshCmd": "print(var_dic_list())"
    },
    "r": {
     "delete_cmd_postfix": ") ",
     "delete_cmd_prefix": "rm(",
     "library": "var_list.r",
     "varRefreshCmd": "cat(var_dic_list()) "
    }
   },
   "types_to_exclude": [
    "module",
    "function",
    "builtin_function_or_method",
    "instance",
    "_Feature"
   ],
   "window_display": false
  }
 },
 "nbformat": 4,
 "nbformat_minor": 4
}

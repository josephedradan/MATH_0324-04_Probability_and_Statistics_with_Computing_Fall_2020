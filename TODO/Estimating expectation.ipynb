{
 "cells": [
  {
   "cell_type": "markdown",
   "metadata": {},
   "source": [
    "# \"Estimating expectation\""
   ]
  },
  {
   "cell_type": "markdown",
   "metadata": {},
   "source": [
    "<img src=\"images/estimating_expectation_problem.png\" alt=\"estimating_expectation_problem.png\" style=\"width:100%; height: 100%;\" align=\"left\"/>"
   ]
  },
  {
   "cell_type": "code",
   "execution_count": 1,
   "metadata": {
    "ExecuteTime": {
     "end_time": "2020-10-14T21:57:16.724259Z",
     "start_time": "2020-10-14T21:57:16.018847Z"
    }
   },
   "outputs": [
    {
     "name": "stderr",
     "output_type": "stream",
     "text": [
      "C:\\Users\\Joseph\\anaconda3\\lib\\site-packages\\rpy2\\robjects\\packages.py:365: UserWarning: The symbol 'quartz' is not in this R namespace/package.\n",
      "  warnings.warn(\n"
     ]
    }
   ],
   "source": [
    "import rpy2\n",
    "%load_ext rpy2.ipython"
   ]
  },
  {
   "cell_type": "code",
   "execution_count": 2,
   "metadata": {
    "ExecuteTime": {
     "end_time": "2020-10-14T21:57:19.878511Z",
     "start_time": "2020-10-14T21:57:16.725260Z"
    }
   },
   "outputs": [
    {
     "name": "stdout",
     "output_type": "stream",
     "text": [
      " [1] 16  1  1  4  4  1  4  4 25 25\n",
      "[1] 8.5\n",
      "\n",
      "[1] 10.7313\n"
     ]
    }
   ],
   "source": [
    "%%R\n",
    "\n",
    "w <- function(){\n",
    "    y <-rnbinom(1,4,0.61);\n",
    "    return(y^2)\n",
    "}\n",
    "\n",
    "x_1 <- replicate(10, w())\n",
    "print(x_1)\n",
    "mean_1 <- mean(x_1)\n",
    "print(mean_1)\n",
    "cat(\"\\n\")\n",
    "\n",
    "x_2 <-replicate(1000000, w())\n",
    "# print(x_2)\n",
    "mean_2 <- mean(x_2)\n",
    "print(mean_2)\n"
   ]
  },
  {
   "cell_type": "markdown",
   "metadata": {},
   "source": [
    "# R Solution"
   ]
  },
  {
   "cell_type": "code",
   "execution_count": 3,
   "metadata": {
    "ExecuteTime": {
     "end_time": "2020-10-14T21:57:23.984578Z",
     "start_time": "2020-10-14T21:57:19.879512Z"
    }
   },
   "outputs": [
    {
     "name": "stdout",
     "output_type": "stream",
     "text": [
      "N:  1 \n",
      "Size:  22 \n",
      "Probability:  0.53 \n",
      "Mu:  19.50943 \n",
      "Amount of runs:  1e+06 \n",
      "[1] 101.5678\n"
     ]
    }
   ],
   "source": [
    "%%R\n",
    "\n",
    "# Runtime: 4.93s\n",
    "\n",
    "N <- 1\n",
    "SIZE <- 22\n",
    "PROBABILITY <- .53\n",
    "\n",
    "MU = SIZE * (1 - PROBABILITY) / PROBABILITY\n",
    "\n",
    "AMOUNT_OF_RUNS = 1000000\n",
    "\n",
    "cat(\"N: \", N, \"\\n\")\n",
    "cat(\"Size: \", SIZE, \"\\n\")\n",
    "cat(\"Probability: \", PROBABILITY, \"\\n\")\n",
    "cat(\"Mu: \", MU, \"\\n\")\n",
    "cat(\"Amount of runs: \", AMOUNT_OF_RUNS, \"\\n\")\n",
    "\n",
    "\n",
    "function_custom <- function(){\n",
    "    variable <- rnbinom(N, SIZE, PROBABILITY)\n",
    "    y_minus_mu <- variable-MU\n",
    "    result <- y_minus_mu ^ 3\n",
    "\n",
    "    return(result)\n",
    "}\n",
    "\n",
    "# print(function_custom())\n",
    "\n",
    "list_of_runs <- replicate(1000000, function_custom())\n",
    "\n",
    "solution_mean <- mean(list_of_runs)\n",
    "print(solution_mean)\n",
    "\n"
   ]
  },
  {
   "cell_type": "markdown",
   "metadata": {
    "ExecuteTime": {
     "end_time": "2020-10-03T06:50:12.176723Z",
     "start_time": "2020-10-03T06:50:12.174721Z"
    }
   },
   "source": [
    "# Python Solution"
   ]
  },
  {
   "cell_type": "code",
   "execution_count": 4,
   "metadata": {
    "ExecuteTime": {
     "end_time": "2020-10-14T21:57:25.474844Z",
     "start_time": "2020-10-14T21:57:23.985579Z"
    }
   },
   "outputs": [
    {
     "name": "stdout",
     "output_type": "stream",
     "text": [
      "N:  1\n",
      "Size:  22\n",
      "Probability:  0.53\n",
      "Mu:  19.50943396226415\n",
      "Amount of runs:  1000000\n",
      "101.45952520915256\n"
     ]
    }
   ],
   "source": [
    "\"\"\"\n",
    "Runtime: 1.55s\n",
    "\n",
    "Notes:\n",
    "    Faster than R at the cost of precision?\n",
    "\n",
    "Reference:\n",
    "    numpy.random.binomial\n",
    "        https://numpy.org/doc/stable/reference/random/generated/numpy.random.binomial.html\n",
    "            np.random.negative_binomial(n, p, size)\n",
    "            np.random.negative_binomial(number_of_wins, probability_of_winning, amount_of_win_results_you_want)\n",
    "\n",
    "    The Negative Binomial Distribution\n",
    "        https://stat.ethz.ch/R-manual/R-devel/library/stats/html/NegBinomial.html\n",
    "            rnbinom(n, size, prob, mu)\n",
    "            rnbinom(amount_of_win_results_you_want, number_of_wins, probability_of_winning)\n",
    "\n",
    "\"\"\"\n",
    "import numpy as np\n",
    "\n",
    "N = 1\n",
    "SIZE = 22\n",
    "PROBABILITY = .53\n",
    "\n",
    "MU = SIZE * (1 - PROBABILITY) / PROBABILITY\n",
    "\n",
    "AMOUNT_OF_RUNS = 1000000\n",
    "\n",
    "print(\"N: \", N)\n",
    "print(\"Size: \", SIZE)\n",
    "print(\"Probability: \", PROBABILITY)\n",
    "print(\"Mu: \", MU)\n",
    "print(\"Amount of runs: \", AMOUNT_OF_RUNS)\n",
    "\n",
    "\n",
    "def function_custom():\n",
    "    # Don't use np.random.negative_binomial(SIZE, PROBABILITY, N)\n",
    "    # You will get an array of size N (which is 1). This is slower that just getting a number (N=None by default)\n",
    "    variable = np.random.negative_binomial(SIZE, PROBABILITY)\n",
    "    y_minus_mu = variable-MU\n",
    "    result = y_minus_mu**3\n",
    "\n",
    "    return result\n",
    "\n",
    "# print(function_custom())\n",
    "\n",
    "iterable = (function_custom() for i in range(AMOUNT_OF_RUNS))\n",
    "\n",
    "list_of_runs = np.fromiter(iterable, float)\n",
    "\n",
    "solution_mean = np.mean(list_of_runs)\n",
    "print(solution_mean)\n",
    "\n"
   ]
  }
 ],
 "metadata": {
  "kernelspec": {
   "display_name": "Python 3.8.5 64-bit Anaconda (Only works with Anaconda's Jupyter)",
   "language": "python",
   "name": "python_3.8.5_64-bit_anaconda"
  },
  "language_info": {
   "codemirror_mode": {
    "name": "ipython",
    "version": 3
   },
   "file_extension": ".py",
   "mimetype": "text/x-python",
   "name": "python",
   "nbconvert_exporter": "python",
   "pygments_lexer": "ipython3",
   "version": "3.8.5"
  },
  "varInspector": {
   "cols": {
    "lenName": 16,
    "lenType": 16,
    "lenVar": 40
   },
   "kernels_config": {
    "python": {
     "delete_cmd_postfix": "",
     "delete_cmd_prefix": "del ",
     "library": "var_list.py",
     "varRefreshCmd": "print(var_dic_list())"
    },
    "r": {
     "delete_cmd_postfix": ") ",
     "delete_cmd_prefix": "rm(",
     "library": "var_list.r",
     "varRefreshCmd": "cat(var_dic_list()) "
    }
   },
   "types_to_exclude": [
    "module",
    "function",
    "builtin_function_or_method",
    "instance",
    "_Feature"
   ],
   "window_display": false
  }
 },
 "nbformat": 4,
 "nbformat_minor": 4
}

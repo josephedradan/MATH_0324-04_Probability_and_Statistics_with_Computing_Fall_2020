{
 "cells": [
  {
   "cell_type": "markdown",
   "metadata": {},
   "source": [
    "<div id=\"description\" style=\"margin-bottom: 10px;\" class=\"intro\"><p><span style=\"color: #ff0000;\"><strong>NOTE:&nbsp; YOU CAN VIEW OTHERS'&nbsp; POSTS BEFORE YOU POST</strong></span></p>\n",
    "<p><span style=\"color: #000000;\">Would you believe that Antoinette and Bianca were competing in coin tossing?&nbsp; &nbsp;&nbsp;</span></p>\n",
    "<p><span style=\"color: #000000;\">(+1)&nbsp; any time Antoinette \"wins\" with heads,&nbsp; &nbsp;(-1)&nbsp; any time Bianca wins with tails.&nbsp;&nbsp;</span></p>\n",
    "<p>Hard to believe, but true.&nbsp; &nbsp; What you saw on the video on the last two forums,&nbsp; was *my* result when I typed in the code.&nbsp; &nbsp;(See the end for the code.&nbsp; &nbsp;You can also see an additional line of code to animate the competition.)</p>\n",
    "<p>WHEN I RAN THE CODE A SECOND TIME,&nbsp; &nbsp;I HAD THIS RESULT:&nbsp; &nbsp; &nbsp; ( the full result,&nbsp; no animation this time)</p>\n",
    "<p><img src=\"images/Screen_Shot_2020-10-07_at_5.03.43_PM.png\" alt=\"\" width=\"400\" height=\"420\"></p>\n",
    "<p><span style=\"color: #ff0000;\"><strong>Notice that,&nbsp; in my example&nbsp; the last equalization occurred (roughly) 10% of the way through the competition,&nbsp; as 2000/20000 =10%</strong></span></p>\n",
    "<p><span style=\"text-decoration: underline;\"><strong>YOUR ASSIGNMENT:</strong></span>&nbsp; &nbsp;In <span style=\"color: #ff0000; font-size: large;\"><strong>one post</strong></span> to the forum:</p>\n",
    "<ol>\n",
    "<li>Type in the code (see below), and take a screenshot of the plot you get,&nbsp; and attach this plot to your post. (It likely will look completely different from my plot.)</li>\n",
    "<li>&nbsp;State,&nbsp; &nbsp;in the same post,&nbsp; a <strong>rough estimate</strong><span style=\"text-decoration: underline;\"> of how far along the competition</span> the last equalization took place.&nbsp; (You can get this by just looking a your plot.&nbsp; I got roughy 10%&nbsp; on my plot.....&nbsp; you might get 5%,&nbsp; 40%,&nbsp; 95%,&nbsp; etc..... (anything is possible)</li>\n",
    "<li>Look at a whole bunch of classmates plots.</li>\n",
    "<li>Find <strong>at least two classmates</strong>&nbsp; posts that have remarkably different looking plots&nbsp; than yours.&nbsp; &nbsp; Reply to these posts.</li>\n",
    "</ol>\n",
    "<p>&nbsp;</p>\n",
    "<p><img src=\"images/Screen_Shot_2020-10-07_at_4.42.44_PM.png\" alt=\"\" width=\"700\" height=\"245\"></p></div>"
   ]
  },
  {
   "cell_type": "code",
   "execution_count": 1,
   "metadata": {
    "ExecuteTime": {
     "end_time": "2020-10-14T10:59:33.467640Z",
     "start_time": "2020-10-14T10:59:32.754337Z"
    }
   },
   "outputs": [
    {
     "name": "stderr",
     "output_type": "stream",
     "text": [
      "C:\\Users\\Joseph\\anaconda3\\lib\\site-packages\\rpy2\\robjects\\packages.py:365: UserWarning: The symbol 'quartz' is not in this R namespace/package.\n",
      "  warnings.warn(\n"
     ]
    }
   ],
   "source": [
    "\"\"\"\n",
    "More on rpy2 options\n",
    "https://ipython.org/ipython-doc/2/config/extensions/rmagic.html\n",
    "\"\"\"\n",
    "import rpy2\n",
    "%load_ext rpy2.ipython"
   ]
  },
  {
   "cell_type": "markdown",
   "metadata": {},
   "source": [
    "# R Solution V1"
   ]
  },
  {
   "cell_type": "code",
   "execution_count": 2,
   "metadata": {
    "ExecuteTime": {
     "end_time": "2020-10-14T10:59:33.483571Z",
     "start_time": "2020-10-14T10:59:33.468558Z"
    }
   },
   "outputs": [],
   "source": [
    "\"\"\"\n",
    "Reference:\n",
    "    how to append an element to a list without keeping track of the index?\n",
    "        https://stackoverflow.com/questions/45962474/how-to-append-an-element-to-a-list-without-keeping-track-of-the-index\n",
    "        \n",
    "    Zip or enumerate in R?\n",
    "        https://stackoverflow.com/questions/9281323/zip-or-enumerate-in-r\n",
    "    \n",
    "    How to get index in a loop in R\n",
    "        https://stackoverflow.com/questions/48205370/how-to-get-index-in-a-loop-in-r\n",
    "\"\"\"\n",
    "print(end=\"\")"
   ]
  },
  {
   "cell_type": "code",
   "execution_count": 3,
   "metadata": {
    "ExecuteTime": {
     "end_time": "2020-10-14T10:59:35.063791Z",
     "start_time": "2020-10-14T10:59:33.484572Z"
    },
    "scrolled": false
   },
   "outputs": [
    {
     "name": "stdout",
     "output_type": "stream",
     "text": [
      " [1]    2   10  218  442  480  484  490  492  510  514  522  524  532 1836 1838\n",
      "[16] 2638 2640 2646 2648 2650 2652 2656 2658 2814 2834 2838 2844 2848 2850 2852\n",
      "[31] 3022 3024 3026 3040 3174 3176 3178 3180 3182 3184 3188 3332 3400 3404 3406\n",
      "[46] 3408\n",
      "\n",
      " [1] 0.0001 0.0005 0.0109 0.0221 0.0240 0.0242 0.0245 0.0246 0.0255 0.0257\n",
      "[11] 0.0261 0.0262 0.0266 0.0918 0.0919 0.1319 0.1320 0.1323 0.1324 0.1325\n",
      "[21] 0.1326 0.1328 0.1329 0.1407 0.1417 0.1419 0.1422 0.1424 0.1425 0.1426\n",
      "[31] 0.1511 0.1512 0.1513 0.1520 0.1587 0.1588 0.1589 0.1590 0.1591 0.1592\n",
      "[41] 0.1594 0.1666 0.1700 0.1702 0.1703 0.1704\n"
     ]
    },
    {
     "data": {
      "image/png": "[encoded data removed]"
     },
     "metadata": {},
     "output_type": "display_data"
    }
   ],
   "source": [
    "%%R -w 1200 -h 800\n",
    "\n",
    "set.seed(999)\n",
    "# set.seed(1985032)\n",
    "\n",
    "amount_of_points <- 20000\n",
    "\n",
    "t <-function(){\n",
    "    y <-sample(c(-1, 1), size=amount_of_points, replace=T)\n",
    "    return(y)\n",
    "}\n",
    "\n",
    "w <-t()\n",
    "z <-c()\n",
    "\n",
    "vector_equalization_points = c()\n",
    "vector_equalization_points_percentage = c()\n",
    "\n",
    "for (i in 1: amount_of_points){\n",
    "    current_sum <- sum(head(w, i))\n",
    "\n",
    "    z <-append(z, current_sum)\n",
    "    if (current_sum == 0){\n",
    "        vector_equalization_points <- append(vector_equalization_points, i)\n",
    "        vector_equalization_points_percentage <- append(vector_equalization_points_percentage, i/amount_of_points)\n",
    "    }\n",
    "\n",
    "}\n",
    "\n",
    "x <- seq(1: amount_of_points)\n",
    "\n",
    "plot(x, z, pch=16, col=\"blue\", abline(h=0))\n",
    "\n",
    "print(vector_equalization_points)\n",
    "cat(\"\\n\")\n",
    "print(vector_equalization_points_percentage)"
   ]
  },
  {
   "cell_type": "markdown",
   "metadata": {},
   "source": [
    "# R Solution V2"
   ]
  },
  {
   "cell_type": "code",
   "execution_count": 4,
   "metadata": {
    "ExecuteTime": {
     "end_time": "2020-10-14T10:59:36.590389Z",
     "start_time": "2020-10-14T10:59:35.064792Z"
    },
    "scrolled": false
   },
   "outputs": [
    {
     "name": "stdout",
     "output_type": "stream",
     "text": [
      "2 \t 1e-04 \n",
      "10 \t 5e-04 \n",
      "218 \t 0.0109 \n",
      "442 \t 0.0221 \n",
      "480 \t 0.024 \n",
      "484 \t 0.0242 \n",
      "490 \t 0.0245 \n",
      "492 \t 0.0246 \n",
      "510 \t 0.0255 \n",
      "514 \t 0.0257 \n",
      "522 \t 0.0261 \n",
      "524 \t 0.0262 \n",
      "532 \t 0.0266 \n",
      "1836 \t 0.0918 \n",
      "1838 \t 0.0919 \n",
      "2638 \t 0.1319 \n",
      "2640 \t 0.132 \n",
      "2646 \t 0.1323 \n",
      "2648 \t 0.1324 \n",
      "2650 \t 0.1325 \n",
      "2652 \t 0.1326 \n",
      "2656 \t 0.1328 \n",
      "2658 \t 0.1329 \n",
      "2814 \t 0.1407 \n",
      "2834 \t 0.1417 \n",
      "2838 \t 0.1419 \n",
      "2844 \t 0.1422 \n",
      "2848 \t 0.1424 \n",
      "2850 \t 0.1425 \n",
      "2852 \t 0.1426 \n",
      "3022 \t 0.1511 \n",
      "3024 \t 0.1512 \n",
      "3026 \t 0.1513 \n",
      "3040 \t 0.152 \n",
      "3174 \t 0.1587 \n",
      "3176 \t 0.1588 \n",
      "3178 \t 0.1589 \n",
      "3180 \t 0.159 \n",
      "3182 \t 0.1591 \n",
      "3184 \t 0.1592 \n",
      "3188 \t 0.1594 \n",
      "3332 \t 0.1666 \n",
      "3400 \t 0.17 \n",
      "3404 \t 0.1702 \n",
      "3406 \t 0.1703 \n",
      "3408 \t 0.1704 \n"
     ]
    },
    {
     "data": {
      "image/png": "[encoded data removed]"
     },
     "metadata": {},
     "output_type": "display_data"
    }
   ],
   "source": [
    "%%R -w 1200 -h 800 -o w -o amount_of_points\n",
    "\n",
    "set.seed(999)\n",
    "# set.seed(1985032)\n",
    "\n",
    "amount_of_points <- 20000\n",
    "\n",
    "t <-function(){\n",
    "    y <-sample(c(-1, 1), size=amount_of_points, replace=T)\n",
    "    return(y)\n",
    "}\n",
    "\n",
    "w <-t()\n",
    "z <-c()\n",
    "\n",
    "vector_equalization_list = list()\n",
    "\n",
    "for (i in 1: amount_of_points){\n",
    "    current_sum <- sum(head(w, i))\n",
    "    z <-append(z, current_sum)\n",
    "    \n",
    "    if (current_sum == 0){\n",
    "        vector_equalization_list[[i]] <- i/amount_of_points  # Ghetto solution, but it works\n",
    "    }\n",
    "}\n",
    "\n",
    "x <- seq(1: amount_of_points)\n",
    "\n",
    "plot(x, z, pch=16, col=\"blue\", abline(h=0))\n",
    "\n",
    "for(i in seq_along(vector_equalization_list)){\n",
    "    if(!is.null(vector_equalization_list[[i]])){\n",
    "        cat(i, \"\\t\", vector_equalization_list[[i]], \"\\n\")\n",
    "    }\n",
    "}"
   ]
  },
  {
   "cell_type": "markdown",
   "metadata": {},
   "source": [
    "# Python Solution (Using R Solution V2's \"w\" and \"amount_of_points\")"
   ]
  },
  {
   "cell_type": "code",
   "execution_count": 5,
   "metadata": {
    "ExecuteTime": {
     "end_time": "2020-10-14T10:59:36.605402Z",
     "start_time": "2020-10-14T10:59:36.591390Z"
    },
    "scrolled": true
   },
   "outputs": [],
   "source": [
    "\"\"\"\n",
    "Why am I using \"w\" and \"amount_of_points\" from the code below?\n",
    "\n",
    "    amount_of_points <- 20000\n",
    "    \n",
    "    ...\n",
    "    \n",
    "    t <-function(){\n",
    "        y <-sample(c(-1, 1), size=amount_of_points, replace=T)\n",
    "        return(y)\n",
    "    }\n",
    "\n",
    "    w <-t()\n",
    "\n",
    "Because mimicking the seed's randomness in numpy is probably not possible, so taking it from the R solution is preferable.\n",
    "Also \"amount_of_points\" is just a number so I could have just used 20000, but why not just take the variable instead.\n",
    "\"\"\"\n",
    "print(end=\"\")"
   ]
  },
  {
   "cell_type": "code",
   "execution_count": 6,
   "metadata": {
    "ExecuteTime": {
     "end_time": "2020-10-14T10:59:36.620415Z",
     "start_time": "2020-10-14T10:59:36.606403Z"
    }
   },
   "outputs": [],
   "source": [
    "\"\"\"\n",
    "Reference:\n",
    "    numpy.fromiter\n",
    "        https://matplotlib.org/3.1.0/gallery/subplots_axes_and_figures/subplots_demo.html\n",
    "    \n",
    "    How do you change the size of figures drawn with matplotlib?\n",
    "        https://stackoverflow.com/questions/332289/how-do-you-change-the-size-of-figures-drawn-with-matplotlib\n",
    "        \n",
    "    How to make inline plots in Jupyter Notebook larger?\n",
    "        https://stackoverflow.com/questions/36367986/how-to-make-inline-plots-in-jupyter-notebook-larger\n",
    "    \n",
    "    Intro to pyplot\n",
    "        https://matplotlib.org/tutorials/introductory/pyplot.html\n",
    "\"\"\"\n",
    "print(end=\"\")"
   ]
  },
  {
   "cell_type": "code",
   "execution_count": 7,
   "metadata": {
    "ExecuteTime": {
     "end_time": "2020-10-14T10:59:36.825393Z",
     "start_time": "2020-10-14T10:59:36.622417Z"
    },
    "scrolled": false
   },
   "outputs": [
    {
     "name": "stdout",
     "output_type": "stream",
     "text": [
      "-----------------------------------------------------------------------------------------------------------------------------\n",
      "Numpy Array\n",
      "<class 'numpy.ndarray'>\n",
      "[-1.  1. -1. ... -1.  1. -1.]\n",
      "\n",
      "\n",
      "\n",
      "-----------------------------------------------------------------------------------------------------------------------------\n",
      "Pandas DataFrame\n",
      "<class 'pandas.core.frame.DataFrame'>\n",
      "         0\n",
      "0     -1.0\n",
      "1      1.0\n",
      "2     -1.0\n",
      "3     -1.0\n",
      "4     -1.0\n",
      "...    ...\n",
      "19995 -1.0\n",
      "19996  1.0\n",
      "19997 -1.0\n",
      "19998  1.0\n",
      "19999 -1.0\n",
      "\n",
      "[20000 rows x 1 columns]\n",
      "\n",
      "\n",
      "\n",
      "-----------------------------------------------------------------------------------------------------------------------------\n",
      "R's DataFrame (by default, it's a numpy array)\n",
      "<class 'numpy.ndarray'>\n",
      "[-1.  1. -1. ... -1.  1. -1.]\n",
      "\n"
     ]
    }
   ],
   "source": [
    "import numpy as np\n",
    "import pandas as pd\n",
    "import matplotlib.pyplot as plt\n",
    "\n",
    "\"\"\"\n",
    "Using R's variable w via\n",
    "    -o w\n",
    "Using R's variable amount_of_points via\n",
    "    -o amount_of_points\n",
    "    \n",
    "Both \"w\" and \"amount_of_points\" are dataframes with type 64-bit float \n",
    "\n",
    "\"\"\"\n",
    "# All 3 of the below are pretty much the same (64-bit float array/vector)\n",
    "np_array_of_w = np.array(w)\n",
    "pd_df_of_w = pd.DataFrame(w)\n",
    "r_solution_w_df = w\n",
    "\n",
    "# Get amount_of_points as an int (because it was returned as a numpy array of size 1 with 1 variable)\n",
    "r_solution_w_amount_of_points = int(amount_of_points[0])\n",
    "\n",
    "print(125*\"-\")\n",
    "print(\"Numpy Array\")\n",
    "print(type(np_array_of_w))\n",
    "print(np_array_of_w)\n",
    "print(\"\\n\"*2)\n",
    "\n",
    "print(125*\"-\")\n",
    "print(\"Pandas DataFrame\")\n",
    "print(type(pd_df_of_w))\n",
    "print(pd_df_of_w)\n",
    "print(\"\\n\"*2)\n",
    "\n",
    "print(125*\"-\")\n",
    "print(\"R's DataFrame (by default, it's a numpy array)\")\n",
    "print(type(r_solution_w_df))\n",
    "print(r_solution_w_df)\n",
    "print()"
   ]
  },
  {
   "cell_type": "markdown",
   "metadata": {},
   "source": [
    "### The main code"
   ]
  },
  {
   "cell_type": "code",
   "execution_count": 8,
   "metadata": {
    "ExecuteTime": {
     "end_time": "2020-10-14T10:59:37.125570Z",
     "start_time": "2020-10-14T10:59:36.826394Z"
    },
    "scrolled": false
   },
   "outputs": [
    {
     "name": "stdout",
     "output_type": "stream",
     "text": [
      "0        0.0\n",
      "2        0.0001\n",
      "10       0.0005\n",
      "218      0.0109\n",
      "442      0.0221\n",
      "480      0.024\n",
      "484      0.0242\n",
      "490      0.0245\n",
      "492      0.0246\n",
      "510      0.0255\n",
      "514      0.0257\n",
      "522      0.0261\n",
      "524      0.0262\n",
      "532      0.0266\n",
      "1836     0.0918\n",
      "1838     0.0919\n",
      "2638     0.1319\n",
      "2640     0.132\n",
      "2646     0.1323\n",
      "2648     0.1324\n",
      "2650     0.1325\n",
      "2652     0.1326\n",
      "2656     0.1328\n",
      "2658     0.1329\n",
      "2814     0.1407\n",
      "2834     0.1417\n",
      "2838     0.1419\n",
      "2844     0.1422\n",
      "2848     0.1424\n",
      "2850     0.1425\n",
      "2852     0.1426\n",
      "3022     0.1511\n",
      "3024     0.1512\n",
      "3026     0.1513\n",
      "3040     0.152\n",
      "3174     0.1587\n",
      "3176     0.1588\n",
      "3178     0.1589\n",
      "3180     0.159\n",
      "3182     0.1591\n",
      "3184     0.1592\n",
      "3188     0.1594\n",
      "3332     0.1666\n",
      "3400     0.17\n",
      "3404     0.1702\n",
      "3406     0.1703\n",
      "3408     0.1704\n"
     ]
    },
    {
     "data": {
      "image/png": "[encoded data removed]",
      "text/plain": [
       "<Figure size 1200x800 with 1 Axes>"
      ]
     },
     "metadata": {
      "needs_background": "light"
     },
     "output_type": "display_data"
    }
   ],
   "source": [
    "\"\"\"\n",
    "Creating a R's equalivant of vector_equalization_list using a dictionary because it's a lot cleaner\n",
    "Equivalent to the R solution's\n",
    "    vector_equalization_list = list()\n",
    "    \n",
    "\"\"\"\n",
    "vector_equalization_dict = {}\n",
    "\n",
    "\n",
    "\"\"\"\n",
    "Creating the for loop equivalent to append to the dataframe z\n",
    "Equivalent to the R solution's\n",
    "\n",
    "    for (i in 1: amount_of_points){\n",
    "        current_sum <- sum(head(w, i))\n",
    "        z <-append(z, current_sum)\n",
    "\n",
    "        if (current_sum == 0){\n",
    "            vector_equalization_list[[i]] <- i/amount_of_points  # Ghetto solution, but it works\n",
    "        }\n",
    "    }\n",
    "    \n",
    "\"\"\"\n",
    "\n",
    "\n",
    "def generator_for_loop_amount_of_points():\n",
    "    global vector_equalization_dict\n",
    "\n",
    "    for i in range(r_solution_w_amount_of_points):\n",
    "        current_sum = np.sum(w[:i])\n",
    "        if current_sum == 0:\n",
    "            vector_equalization_dict[i] = i/r_solution_w_amount_of_points\n",
    "\n",
    "        yield current_sum\n",
    "\n",
    "\n",
    "\"\"\"\n",
    "Naive equivalent to z, because you are making a list which wastes computation time and memory\n",
    "Equivalent to the R solution's\n",
    "    z <-c()\n",
    "\"\"\"\n",
    "# list_sums = []\n",
    "# for i in range_thingy:\n",
    "#     list_sums.append(sum(r_solution_w_df[:i]))\n",
    "\n",
    "\n",
    "\"\"\"\n",
    "Better equivalent to z, because we make a numpy array via iterator (specifcally a generator) so we don't waste memory and computation time\n",
    "Equivalent to the R solution's\n",
    "    z <-c()\n",
    "\"\"\"\n",
    "np_array_z = np.fromiter(generator_for_loop_amount_of_points(), dtype=int)\n",
    "\n",
    "\n",
    "\"\"\"\n",
    "Printing the equalization points and it's corresponding percentage\n",
    "Equivalent to the R solution's\n",
    "\n",
    "    for(i in seq_along(vector_equalization_list)){\n",
    "        if(!is.null(vector_equalization_list[[i]])){\n",
    "            cat(i, \"\\t\", vector_equalization_list[[i]], \"\\n\")\n",
    "        }\n",
    "    }\n",
    "\n",
    "\"\"\"\n",
    "for x, y in vector_equalization_dict.items():\n",
    "    print(\"{:<8} {}\".format(x, y))\n",
    "\n",
    "\n",
    "\"\"\"\n",
    "Ploting\n",
    "Equivalent to the R solution's\n",
    "    plot(x, z, pch=16, col=\"blue\", abline(h=0))\n",
    "\n",
    "\"\"\"\n",
    "plt.figure(figsize=(12, 8), dpi=100)\n",
    "# The graph of the data\n",
    "plt.plot(range(r_solution_w_amount_of_points), np_array_z, color=\"blue\")\n",
    "# The line at y = 0\n",
    "plt.plot(range(r_solution_w_amount_of_points),\n",
    "         [0 for i in range(r_solution_w_amount_of_points)],\n",
    "         color=\"black\")\n",
    "plt.xlabel(\"x\")\n",
    "plt.ylabel(\"z\")\n",
    "plt.show()"
   ]
  }
 ],
 "metadata": {
  "kernelspec": {
   "display_name": "Python 3.8.5 64-bit Anaconda (Only works with Anaconda's Jupyter)",
   "language": "python",
   "name": "python_3.8.5_64-bit_anaconda"
  },
  "language_info": {
   "codemirror_mode": {
    "name": "ipython",
    "version": 3
   },
   "file_extension": ".py",
   "mimetype": "text/x-python",
   "name": "python",
   "nbconvert_exporter": "python",
   "pygments_lexer": "ipython3",
   "version": "3.8.5"
  },
  "varInspector": {
   "cols": {
    "lenName": 16,
    "lenType": 16,
    "lenVar": 40
   },
   "kernels_config": {
    "python": {
     "delete_cmd_postfix": "",
     "delete_cmd_prefix": "del ",
     "library": "var_list.py",
     "varRefreshCmd": "print(var_dic_list())"
    },
    "r": {
     "delete_cmd_postfix": ") ",
     "delete_cmd_prefix": "rm(",
     "library": "var_list.r",
     "varRefreshCmd": "cat(var_dic_list()) "
    }
   },
   "types_to_exclude": [
    "module",
    "function",
    "builtin_function_or_method",
    "instance",
    "_Feature"
   ],
   "window_display": false
  }
 },
 "nbformat": 4,
 "nbformat_minor": 4
}

{
 "cells": [
  {
   "cell_type": "code",
   "execution_count": 1,
   "metadata": {
    "ExecuteTime": {
     "end_time": "2020-10-13T23:16:55.931771Z",
     "start_time": "2020-10-13T23:16:55.250179Z"
    }
   },
   "outputs": [
    {
     "name": "stderr",
     "output_type": "stream",
     "text": [
      "C:\\Users\\Joseph\\anaconda3\\lib\\site-packages\\rpy2\\robjects\\packages.py:365: UserWarning: The symbol 'quartz' is not in this R namespace/package.\n",
      "  warnings.warn(\n"
     ]
    }
   ],
   "source": [
    "\"\"\"\n",
    "More on rpy2 options\n",
    "https://ipython.org/ipython-doc/2/config/extensions/rmagic.html\n",
    "\"\"\"\n",
    "import rpy2\n",
    "%load_ext rpy2.ipython"
   ]
  },
  {
   "cell_type": "markdown",
   "metadata": {},
   "source": [
    "<div id=\"description\" style=\"margin-bottom: 10px;\" class=\"intro\"><p><span style=\"color: #ff0000;\"><strong>NOTE:&nbsp; YOU CAN VIEW OTHERS'&nbsp; POSTS BEFORE YOU POST</strong></span></p>\n",
    "<p><span style=\"color: #000000;\">Would you believe that Antoinette and Bianca were competing in coin tossing?&nbsp; &nbsp;&nbsp;</span></p>\n",
    "<p><span style=\"color: #000000;\">(+1)&nbsp; any time Antoinette \"wins\" with heads,&nbsp; &nbsp;(-1)&nbsp; any time Bianca wins with tails.&nbsp;&nbsp;</span></p>\n",
    "<p>Hard to believe, but true.&nbsp; &nbsp; What you saw on the video on the last two forums,&nbsp; was *my* result when I typed in the code.&nbsp; &nbsp;(See the end for the code.&nbsp; &nbsp;You can also see an additional line of code to animate the competition.)</p>\n",
    "<p>WHEN I RAN THE CODE A SECOND TIME,&nbsp; &nbsp;I HAD THIS RESULT:&nbsp; &nbsp; &nbsp; ( the full result,&nbsp; no animation this time)</p>\n",
    "<p><img src=\"images/Screen_Shot_2020-10-07_at_5.03.43_PM.png\" alt=\"\" width=\"400\" height=\"420\"></p>\n",
    "<p><span style=\"color: #ff0000;\"><strong>Notice that,&nbsp; in my example&nbsp; the last equalization occurred (roughly) 10% of the way through the competition,&nbsp; as 2000/20000 =10%</strong></span></p>\n",
    "<p><span style=\"text-decoration: underline;\"><strong>YOUR ASSIGNMENT:</strong></span>&nbsp; &nbsp;In <span style=\"color: #ff0000; font-size: large;\"><strong>one post</strong></span> to the forum:</p>\n",
    "<ol>\n",
    "<li>Type in the code (see below), and take a screenshot of the plot you get,&nbsp; and attach this plot to your post. (It likely will look completely different from my plot.)</li>\n",
    "<li>&nbsp;State,&nbsp; &nbsp;in the same post,&nbsp; a <strong>rough estimate</strong><span style=\"text-decoration: underline;\"> of how far along the competition</span> the last equalization took place.&nbsp; (You can get this by just looking a your plot.&nbsp; I got roughy 10%&nbsp; on my plot.....&nbsp; you might get 5%,&nbsp; 40%,&nbsp; 95%,&nbsp; etc..... (anything is possible)</li>\n",
    "<li>Look at a whole bunch of classmates plots.</li>\n",
    "<li>Find <strong>at least two classmates</strong>&nbsp; posts that have remarkably different looking plots&nbsp; than yours.&nbsp; &nbsp; Reply to these posts.</li>\n",
    "</ol>\n",
    "<p>&nbsp;</p>\n",
    "<p><img src=\"images/Screen_Shot_2020-10-07_at_4.42.44_PM.png\" alt=\"\" width=\"700\" height=\"245\"></p></div>"
   ]
  },
  {
   "cell_type": "markdown",
   "metadata": {},
   "source": [
    "# R Solution"
   ]
  },
  {
   "cell_type": "code",
   "execution_count": 2,
   "metadata": {
    "ExecuteTime": {
     "end_time": "2020-10-13T23:16:55.947777Z",
     "start_time": "2020-10-13T23:16:55.932772Z"
    }
   },
   "outputs": [],
   "source": [
    "\"\"\"\n",
    "Reference:\n",
    "    how to append an element to a list without keeping track of the index?\n",
    "        https://stackoverflow.com/questions/45962474/how-to-append-an-element-to-a-list-without-keeping-track-of-the-index\n",
    "        \n",
    "    Zip or enumerate in R?\n",
    "        https://stackoverflow.com/questions/9281323/zip-or-enumerate-in-r\n",
    "    \n",
    "    How to get index in a loop in R\n",
    "        https://stackoverflow.com/questions/48205370/how-to-get-index-in-a-loop-in-r\n",
    "\"\"\"\n",
    "print(end=\"\")"
   ]
  },
  {
   "cell_type": "code",
   "execution_count": 3,
   "metadata": {
    "ExecuteTime": {
     "end_time": "2020-10-13T23:16:57.448053Z",
     "start_time": "2020-10-13T23:16:55.948779Z"
    },
    "scrolled": false
   },
   "outputs": [
    {
     "name": "stdout",
     "output_type": "stream",
     "text": [
      " [1]    2   10  218  442  480  484  490  492  510  514  522  524  532 1836 1838\n",
      "[16] 2638 2640 2646 2648 2650 2652 2656 2658 2814 2834 2838 2844 2848 2850 2852\n",
      "[31] 3022 3024 3026 3040 3174 3176 3178 3180 3182 3184 3188 3332 3400 3404 3406\n",
      "[46] 3408\n",
      "\n",
      " [1] 0.0001 0.0005 0.0109 0.0221 0.0240 0.0242 0.0245 0.0246 0.0255 0.0257\n",
      "[11] 0.0261 0.0262 0.0266 0.0918 0.0919 0.1319 0.1320 0.1323 0.1324 0.1325\n",
      "[21] 0.1326 0.1328 0.1329 0.1407 0.1417 0.1419 0.1422 0.1424 0.1425 0.1426\n",
      "[31] 0.1511 0.1512 0.1513 0.1520 0.1587 0.1588 0.1589 0.1590 0.1591 0.1592\n",
      "[41] 0.1594 0.1666 0.1700 0.1702 0.1703 0.1704\n"
     ]
    },
    {
     "data": {
      "image/png": "[encoded data removed]"
     },
     "metadata": {},
     "output_type": "display_data"
    }
   ],
   "source": [
    "%%R -w 1000 -h 800\n",
    "\n",
    "set.seed(999)\n",
    "# set.seed(1985032)\n",
    "\n",
    "amount_of_points <- 20000\n",
    "\n",
    "t <-function(){\n",
    "    y <-sample(c(-1, 1), size=amount_of_points, replace=T)\n",
    "    return(y)\n",
    "}\n",
    "\n",
    "w <-t()\n",
    "z <-c()\n",
    "\n",
    "vector_equalization_points = c()\n",
    "vector_equalization_points_percentage = c()\n",
    "\n",
    "for (i in 1: amount_of_points){\n",
    "    current_sum <- sum(head(w, i))\n",
    "\n",
    "    z <-append(z, current_sum)\n",
    "    if (current_sum == 0){\n",
    "        vector_equalization_points <- append(vector_equalization_points, i)\n",
    "        vector_equalization_points_percentage <- append(vector_equalization_points_percentage, i/amount_of_points)\n",
    "    }\n",
    "\n",
    "}\n",
    "\n",
    "x <- seq(1: amount_of_points)\n",
    "\n",
    "plot(x, z, pch=16, col=\"blue\", abline(h=0))\n",
    "\n",
    "print(vector_equalization_points)\n",
    "cat(\"\\n\")\n",
    "print(vector_equalization_points_percentage)"
   ]
  },
  {
   "cell_type": "markdown",
   "metadata": {},
   "source": [
    "# R Solution V2"
   ]
  },
  {
   "cell_type": "code",
   "execution_count": 4,
   "metadata": {
    "ExecuteTime": {
     "end_time": "2020-10-13T23:16:58.957234Z",
     "start_time": "2020-10-13T23:16:57.449054Z"
    }
   },
   "outputs": [
    {
     "name": "stdout",
     "output_type": "stream",
     "text": [
      "2 \t 1e-04 \n",
      "10 \t 5e-04 \n",
      "218 \t 0.0109 \n",
      "442 \t 0.0221 \n",
      "480 \t 0.024 \n",
      "484 \t 0.0242 \n",
      "490 \t 0.0245 \n",
      "492 \t 0.0246 \n",
      "510 \t 0.0255 \n",
      "514 \t 0.0257 \n",
      "522 \t 0.0261 \n",
      "524 \t 0.0262 \n",
      "532 \t 0.0266 \n",
      "1836 \t 0.0918 \n",
      "1838 \t 0.0919 \n",
      "2638 \t 0.1319 \n",
      "2640 \t 0.132 \n",
      "2646 \t 0.1323 \n",
      "2648 \t 0.1324 \n",
      "2650 \t 0.1325 \n",
      "2652 \t 0.1326 \n",
      "2656 \t 0.1328 \n",
      "2658 \t 0.1329 \n",
      "2814 \t 0.1407 \n",
      "2834 \t 0.1417 \n",
      "2838 \t 0.1419 \n",
      "2844 \t 0.1422 \n",
      "2848 \t 0.1424 \n",
      "2850 \t 0.1425 \n",
      "2852 \t 0.1426 \n",
      "3022 \t 0.1511 \n",
      "3024 \t 0.1512 \n",
      "3026 \t 0.1513 \n",
      "3040 \t 0.152 \n",
      "3174 \t 0.1587 \n",
      "3176 \t 0.1588 \n",
      "3178 \t 0.1589 \n",
      "3180 \t 0.159 \n",
      "3182 \t 0.1591 \n",
      "3184 \t 0.1592 \n",
      "3188 \t 0.1594 \n",
      "3332 \t 0.1666 \n",
      "3400 \t 0.17 \n",
      "3404 \t 0.1702 \n",
      "3406 \t 0.1703 \n",
      "3408 \t 0.1704 \n"
     ]
    },
    {
     "data": {
      "image/png": "[encoded data removed]"
     },
     "metadata": {},
     "output_type": "display_data"
    }
   ],
   "source": [
    "%%R -w 1000 -h 800\n",
    "\n",
    "set.seed(999)\n",
    "# set.seed(1985032)\n",
    "\n",
    "amount_of_points <- 20000\n",
    "\n",
    "t <-function(){\n",
    "    y <-sample(c(-1, 1), size=amount_of_points, replace=T)\n",
    "    return(y)\n",
    "}\n",
    "\n",
    "w <-t()\n",
    "z <-c()\n",
    "\n",
    "vector_equalization_list = list()\n",
    "\n",
    "for (i in 1: amount_of_points){\n",
    "    current_sum <- sum(head(w, i))\n",
    "    z <-append(z, current_sum)\n",
    "    \n",
    "    if (current_sum == 0){\n",
    "        vector_equalization_list[[i]] <- i/amount_of_points  # Ghetto solution, but it works\n",
    "    }\n",
    "}\n",
    "\n",
    "x <- seq(1: amount_of_points)\n",
    "\n",
    "plot(x, z, pch=16, col=\"blue\", abline(h=0))\n",
    "\n",
    "for(i in seq_along(vector_equalization_list)){\n",
    "    if(!is.null(vector_equalization_list[[i]])){\n",
    "        cat(i, \"\\t\", vector_equalization_list[[i]], \"\\n\")\n",
    "    }\n",
    "}"
   ]
  }
 ],
 "metadata": {
  "kernelspec": {
   "display_name": "Python 3.8.5 64-bit Anaconda (Only works with Anaconda's Jupyter)",
   "language": "python",
   "name": "python_3.8.5_64-bit_anaconda"
  },
  "language_info": {
   "codemirror_mode": {
    "name": "ipython",
    "version": 3
   },
   "file_extension": ".py",
   "mimetype": "text/x-python",
   "name": "python",
   "nbconvert_exporter": "python",
   "pygments_lexer": "ipython3",
   "version": "3.8.5"
  },
  "varInspector": {
   "cols": {
    "lenName": 16,
    "lenType": 16,
    "lenVar": 40
   },
   "kernels_config": {
    "python": {
     "delete_cmd_postfix": "",
     "delete_cmd_prefix": "del ",
     "library": "var_list.py",
     "varRefreshCmd": "print(var_dic_list())"
    },
    "r": {
     "delete_cmd_postfix": ") ",
     "delete_cmd_prefix": "rm(",
     "library": "var_list.r",
     "varRefreshCmd": "cat(var_dic_list()) "
    }
   },
   "types_to_exclude": [
    "module",
    "function",
    "builtin_function_or_method",
    "instance",
    "_Feature"
   ],
   "window_display": false
  }
 },
 "nbformat": 4,
 "nbformat_minor": 4
}

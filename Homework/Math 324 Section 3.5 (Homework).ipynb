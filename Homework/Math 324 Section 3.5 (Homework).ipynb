{
 "cells": [
  {
   "cell_type": "code",
   "execution_count": 3,
   "metadata": {
    "ExecuteTime": {
     "end_time": "2020-09-30T02:50:47.441553Z",
     "start_time": "2020-09-30T02:50:46.527776Z"
    }
   },
   "outputs": [
    {
     "name": "stderr",
     "output_type": "stream",
     "text": [
      "C:\\Users\\Joseph\\anaconda3\\lib\\site-packages\\rpy2\\robjects\\packages.py:365: UserWarning: The symbol 'quartz' is not in this R namespace/package.\n",
      "  warnings.warn(\n"
     ]
    }
   ],
   "source": [
    "import rpy2\n",
    "%load_ext rpy2.ipython"
   ]
  },
  {
   "cell_type": "markdown",
   "metadata": {},
   "source": [
    "# 1. DEVORESTAT9 3.E.075.\n",
    "The probability that a randomly selected box of a certain type of cereal has a particular prize is 0.2. Suppose you purchase box after box until you have obtained two of these prizes.\n"
   ]
  },
  {
   "cell_type": "code",
   "execution_count": 9,
   "metadata": {
    "ExecuteTime": {
     "end_time": "2020-09-30T09:14:47.346348Z",
     "start_time": "2020-09-30T09:14:47.344347Z"
    }
   },
   "outputs": [],
   "source": [
    "p1_P_randomly_selected_box_has_prize = .2\n",
    "p1_purchased_boxes_amount_till_prizes = 2"
   ]
  },
  {
   "cell_type": "markdown",
   "metadata": {},
   "source": [
    "### (a) What is the probability that you purchase x boxes that do not have the desired prize?"
   ]
  },
  {
   "cell_type": "markdown",
   "metadata": {},
   "source": [
    "<img src=\"images/3_5_problem_1a_solution.png\" alt=\"3_5_problem_1a_solution.png\" style=\"float:left;\">\n"
   ]
  },
  {
   "cell_type": "markdown",
   "metadata": {},
   "source": [
    "### (b) What is the probability that you purchase four boxes? (Round your answer to four decimal places.)"
   ]
  },
  {
   "cell_type": "markdown",
   "metadata": {
    "ExecuteTime": {
     "end_time": "2020-09-30T10:10:56.737368Z",
     "start_time": "2020-09-30T10:10:56.735366Z"
    }
   },
   "source": [
    "<img src=\"images/dnbinom_and_pnbinom.png\" alt=\"dnbinom_and_pnbinom.png\" style=\"float:left;\">\n"
   ]
  },
  {
   "cell_type": "code",
   "execution_count": 16,
   "metadata": {
    "ExecuteTime": {
     "end_time": "2020-09-30T09:23:36.513219Z",
     "start_time": "2020-09-30T09:23:36.510217Z"
    }
   },
   "outputs": [],
   "source": [
    "p1b_purchased_boxes = 4\n",
    "\n",
    "# 2 = 4 - 2\n",
    "p1b_losses = p1b_purchased_boxes - p1_purchased_boxes_amount_till_prizes"
   ]
  },
  {
   "cell_type": "code",
   "execution_count": 15,
   "metadata": {
    "ExecuteTime": {
     "end_time": "2020-09-30T09:23:35.245344Z",
     "start_time": "2020-09-30T09:23:35.229330Z"
    }
   },
   "outputs": [
    {
     "name": "stdout",
     "output_type": "stream",
     "text": [
      "[1] 0.0768\n"
     ]
    }
   ],
   "source": [
    "%%R -i p1_P_randomly_selected_box_has_prize -i p1_purchased_boxes_amount_till_prizes -i p1b_losses\n",
    "\n",
    "# Probabiliy Density Function for Negatiev Bionomial \n",
    "\n",
    "# parameters dnbinom(losses, prescribed wins, probability)\n",
    "# (2, 2, .2)\n",
    "dnbinom(p1b_losses, p1_purchased_boxes_amount_till_prizes, p1_P_randomly_selected_box_has_prize)"
   ]
  },
  {
   "cell_type": "markdown",
   "metadata": {
    "ExecuteTime": {
     "end_time": "2020-09-30T01:53:54.721671Z",
     "start_time": "2020-09-30T01:53:54.719669Z"
    }
   },
   "source": [
    "### (c) What is the probability that you purchase at most four boxes? (Round your answer to four decimal places.)"
   ]
  },
  {
   "cell_type": "code",
   "execution_count": 17,
   "metadata": {
    "ExecuteTime": {
     "end_time": "2020-09-30T09:23:38.575154Z",
     "start_time": "2020-09-30T09:23:38.573153Z"
    }
   },
   "outputs": [],
   "source": [
    "p1c_purchased_boxes = 4\n",
    "\n",
    "p1c_losses = p1c_purchased_boxes - p1_purchased_boxes_amount_till_prizes"
   ]
  },
  {
   "cell_type": "code",
   "execution_count": 32,
   "metadata": {
    "ExecuteTime": {
     "end_time": "2020-09-30T10:08:35.649850Z",
     "start_time": "2020-09-30T10:08:35.634837Z"
    },
    "scrolled": false
   },
   "outputs": [
    {
     "name": "stdout",
     "output_type": "stream",
     "text": [
      "[1] 0.1808\n",
      "[1] 0.1808\n"
     ]
    }
   ],
   "source": [
    "%%R -i p1_P_randomly_selected_box_has_prize -i p1_purchased_boxes_amount_till_prizes -i p1c_losses\n",
    "\n",
    "# Cumulative Distribution Function for Negatiev Bionomial \n",
    "\n",
    "# parameters pnbinom(losses, prescribed wins, probability)\n",
    "# (2, 2, .2)\n",
    "p1c_solution_v1 <- pnbinom(p1b_losses, p1_purchased_boxes_amount_till_prizes, p1_P_randomly_selected_box_has_prize)\n",
    "print(p1c_solution_v1)\n",
    "\n",
    "# Alternative solution via dnbinom\n",
    "p1c_solution_v2 <- (dnbinom(0, p1_purchased_boxes_amount_till_prizes, p1_P_randomly_selected_box_has_prize) +\n",
    "                    dnbinom(1, p1_purchased_boxes_amount_till_prizes, p1_P_randomly_selected_box_has_prize) +\n",
    "                    dnbinom(2, p1_purchased_boxes_amount_till_prizes, p1_P_randomly_selected_box_has_prize)\n",
    "                   )\n",
    "\n",
    "print(p1c_solution_v2)"
   ]
  },
  {
   "cell_type": "markdown",
   "metadata": {
    "ExecuteTime": {
     "end_time": "2020-09-30T01:54:08.800778Z",
     "start_time": "2020-09-30T01:54:08.797776Z"
    }
   },
   "source": [
    "### (d) How many boxes without the desired prize do you expect to purchase?\n",
    "\n"
   ]
  },
  {
   "cell_type": "markdown",
   "metadata": {},
   "source": [
    "<img src=\"images/negative_bionomial_distirbution_mean_variance.png\" alt=\"negative_bionomial_distirbution_mean_variance.png\" style=\"float:left;\">"
   ]
  },
  {
   "cell_type": "code",
   "execution_count": 35,
   "metadata": {
    "ExecuteTime": {
     "end_time": "2020-09-30T10:49:54.177692Z",
     "start_time": "2020-09-30T10:49:54.174689Z"
    }
   },
   "outputs": [
    {
     "name": "stdout",
     "output_type": "stream",
     "text": [
      "8.0\n"
     ]
    }
   ],
   "source": [
    "\"\"\"\n",
    "EXPECT means use Expected value\n",
    "\n",
    "Know:\n",
    "    r = prescribed number of wins = p1_purchased_boxes_amount_till_prizes = 2\n",
    "    p = probability to winning = p1_P_randomly_selected_box_has_prize = .2\n",
    "    q = 1 - p\n",
    "\n",
    "\n",
    "E(Yr)   = r * (q)/(p) \n",
    "        = r * (1-p)/(p)\n",
    "        = (2) * (1-.2)/(.2)\n",
    "\n",
    "\"\"\"\n",
    "p1d_expected_value = ((p1_purchased_boxes_amount_till_prizes) *\n",
    "                      (1-p1_P_randomly_selected_box_has_prize) /\n",
    "                      (p1_P_randomly_selected_box_has_prize))\n",
    "\n",
    "print(p1d_expected_value)"
   ]
  },
  {
   "cell_type": "markdown",
   "metadata": {},
   "source": [
    "#### How many boxes do you expect to purchase?\n"
   ]
  },
  {
   "cell_type": "code",
   "execution_count": 37,
   "metadata": {
    "ExecuteTime": {
     "end_time": "2020-09-30T10:59:32.805727Z",
     "start_time": "2020-09-30T10:59:32.803725Z"
    }
   },
   "outputs": [
    {
     "name": "stdout",
     "output_type": "stream",
     "text": [
      "10.0\n"
     ]
    }
   ],
   "source": [
    "\"\"\"\n",
    "Number of purchases = Expected value + Prescribed number of wins\n",
    "                    = 8.0 + 2\n",
    "\n",
    "\"\"\"\n",
    "\n",
    "p1d_boxes_you_expect_to_purchase = p1d_expected_value + p1_purchased_boxes_amount_till_prizes\n",
    "print(p1d_boxes_you_expect_to_purchase)"
   ]
  },
  {
   "cell_type": "markdown",
   "metadata": {},
   "source": [
    "# 2. DEVORESTAT9 3.E.078.\n",
    "For a certain river, suppose the drought length Y is the number of consecutive time intervals in which the water supply remains below a critical value y0 (a deficit), preceded by and followed by periods in which the supply exceeds this critical value (a surplus). An article proposes a geometric distribution with p = 0.374 for this random variable. (Round your answers to three decimal places.)"
   ]
  },
  {
   "cell_type": "code",
   "execution_count": null,
   "metadata": {},
   "outputs": [],
   "source": []
  }
 ],
 "metadata": {
  "kernelspec": {
   "display_name": "Python 3.8.5 64-bit Anaconda (Only works with Anaconda's Jupyter)",
   "language": "python",
   "name": "python_3.8.5_64-bit_anaconda"
  },
  "language_info": {
   "codemirror_mode": {
    "name": "ipython",
    "version": 3
   },
   "file_extension": ".py",
   "mimetype": "text/x-python",
   "name": "python",
   "nbconvert_exporter": "python",
   "pygments_lexer": "ipython3",
   "version": "3.8.5"
  },
  "varInspector": {
   "cols": {
    "lenName": 16,
    "lenType": 16,
    "lenVar": 40
   },
   "kernels_config": {
    "python": {
     "delete_cmd_postfix": "",
     "delete_cmd_prefix": "del ",
     "library": "var_list.py",
     "varRefreshCmd": "print(var_dic_list())"
    },
    "r": {
     "delete_cmd_postfix": ") ",
     "delete_cmd_prefix": "rm(",
     "library": "var_list.r",
     "varRefreshCmd": "cat(var_dic_list()) "
    }
   },
   "types_to_exclude": [
    "module",
    "function",
    "builtin_function_or_method",
    "instance",
    "_Feature"
   ],
   "window_display": false
  }
 },
 "nbformat": 4,
 "nbformat_minor": 4
}

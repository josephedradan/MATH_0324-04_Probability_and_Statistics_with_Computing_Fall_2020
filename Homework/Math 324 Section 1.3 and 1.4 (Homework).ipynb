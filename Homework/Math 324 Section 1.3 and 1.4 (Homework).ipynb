{
 "cells": [
  {
   "cell_type": "markdown",
   "metadata": {},
   "source": [
    "## CODE HERE IS TO CALCUALTE THE TRIMMED MEAN USING INTERPOLATION"
   ]
  },
  {
   "cell_type": "code",
   "execution_count": 1,
   "metadata": {
    "ExecuteTime": {
     "end_time": "2020-10-28T09:25:22.260494Z",
     "start_time": "2020-10-28T09:25:22.167416Z"
    }
   },
   "outputs": [],
   "source": [
    "\"\"\"\n",
    "CODE HERE IS TO CALCUALTE THE TRIMMED MEAN USING INTERPOLATION\n",
    "\"\"\"\n",
    "from typing import List, Tuple, Union\n",
    "import numpy as np\n",
    "\n",
    "\n",
    "def trim_list(list_given: List[int], decimal_percent: float) -> List[int]:\n",
    "    \"\"\"\n",
    "    Given a list, make a copy of it and sort it in ascending order\n",
    "    trim amount = Multiply the decimal percent by the length of the given list and round it\n",
    "    Based on the trim amount, trim the copy of the list where 2 * trim amount = total items trimmed\n",
    "\n",
    "    :param list_given: list to get trimmed\n",
    "    :param decimal_percent: percentage to trim the given list by\n",
    "    :return: trimmed copy of the list\n",
    "    \"\"\"\n",
    "    list_temp = list_given.copy()\n",
    "    list_temp.sort()\n",
    "    amount_to_trim = round(decimal_percent * len(list_temp))\n",
    "\n",
    "    while amount_to_trim != 0:\n",
    "        list_temp.pop(0)\n",
    "        list_temp.pop(-1)\n",
    "        amount_to_trim -= 1\n",
    "\n",
    "    return list_temp\n",
    "\n",
    "\n",
    "def calculate_all_perfect_trimmed_means_and_percentages(list_given: List[int]) -> Tuple[List[float], List[float]]:\n",
    "    \"\"\"\n",
    "    Given a list:\n",
    "        Calculate number of trims\n",
    "        Calculate all perfect trims\n",
    "\n",
    "        Loop through all perfect trims:\n",
    "            Calculate trimmed mean\n",
    "            Add trimmed mean to list of trimmed means\n",
    "\n",
    "    :param list_given: list of values\n",
    "    :return: list_mean_trimmed_perfect, list_trim_percentage_perfect\n",
    "    \"\"\"\n",
    "    # Sort the given list if not sorted\n",
    "    list_given.sort()\n",
    "\n",
    "    # List of trimmed means that can perfectly trim the given list\n",
    "    list_mean_trimmed_perfect = []\n",
    "\n",
    "    # Length of list\n",
    "    length_list = len(list_given)\n",
    "\n",
    "    # TODO: CAN BE OPTIMIZED BY GETTING HALF THE AMOUNT OF TRIMS HERE\n",
    "    # Number of trims that will be made to the list\n",
    "    number_of_trims = length_list if length_list % 2 else length_list - 1\n",
    "\n",
    "    # List of what you can trim the given list by\n",
    "    list_trim_numbers = list(map(lambda x: x + 1, range(number_of_trims)))\n",
    "\n",
    "    # Calculate the percentages that can split the given list perfectly upto 50%\n",
    "    list_trim_percentage_perfect = (\n",
    "        [x for i in list_trim_numbers if (x := float(i / length_list)) <= .5])\n",
    "\n",
    "    # Loop through each percentage (perfect trim percentage)\n",
    "    for i in range(len(list_trim_percentage_perfect)):\n",
    "\n",
    "        # Result of a trimmed list by given percentage\n",
    "        list_trimmed_temp = trim_list(\n",
    "            list_given, list_trim_percentage_perfect[i])\n",
    "\n",
    "        # If trimmed list if empty, ignore it\n",
    "        if not list_trimmed_temp:\n",
    "            continue\n",
    "\n",
    "        # Trimmed mean\n",
    "        mean_trimmed = np.mean(list_trimmed_temp) * .01\n",
    "\n",
    "        # Add trimmed mean to list of trimmed means that can perfectly trim the given list\n",
    "        list_mean_trimmed_perfect.append(mean_trimmed)\n",
    "\n",
    "    return list_mean_trimmed_perfect, list_trim_percentage_perfect\n",
    "\n",
    "\n",
    "def trimmed_mean_interpolation(list_given: List[int], decimal_percent: float) -> Union[np.float64, float]:\n",
    "    \"\"\"\n",
    "    Calculates the trimmed mean regardless of whether or not the given decimal percent can trim the the given list\n",
    "    perfectly.\n",
    "\n",
    "    If the decimal percent is not perfect then:\n",
    "        Calculate left and right interpolated bounds\n",
    "        Calculate the alpha\n",
    "        Calculate the trimmed mean via interpolated bounds method\n",
    "\n",
    "    Notes:\n",
    "        Recall equation (interpolating weights) for finding alpha where the decimal percent is not perfect\n",
    "            PERCENT = alpha(LEFT_BOUND_PERCENT) + (1 - alpha)(RIGHT_BOUND_PERCENT)\n",
    "            Solve for alpha\n",
    "\n",
    "\n",
    "        Recall equation for trimmed mean where decimal percent is not perfect\n",
    "            TRIMMED_MEAN =  alpha(LEFT_BOUND_TRIMMED_MEAN_PERFECT) + (1 - alpha)(RIGHT_BOUND_TRIMMED_MEAN_PERFECT)\n",
    "            Solve for TRIMMED_MEAN\n",
    "\n",
    "    :param list_given: list of numbers\n",
    "    :param decimal_percent: percentage to trim the list by\n",
    "    :return: trimmed mean\n",
    "    \"\"\"\n",
    "\n",
    "    # Calculate all perfect trims and their corresponding percentages\n",
    "    list_mean_trimmed_perfect, list_trim_percentage_perfect = calculate_all_perfect_trimmed_means_and_percentages(\n",
    "        list_given)\n",
    "\n",
    "    # print(list_mean_trimmed_perfect)\n",
    "    # print(list_trim_percentage_perfect)\n",
    "\n",
    "    # If the given decimal trim is a perfect trim\n",
    "    if decimal_percent in list_mean_trimmed_perfect:\n",
    "        return np.mean(trim_list(list_given, decimal_percent))\n",
    "\n",
    "    # Index Bounds where the given decimal percent is in between\n",
    "    index_left_bound, index_right_bound = _find_interpolated_weights(decimal_percent,\n",
    "                                                                     list_trim_percentage_perfect)\n",
    "\n",
    "    # Numerator for solving alpha\n",
    "    numerator = (decimal_percent -\n",
    "                 list_trim_percentage_perfect[index_right_bound])\n",
    "\n",
    "    # Denominator for solving alpha\n",
    "    denominator = ((list_trim_percentage_perfect[index_left_bound]) -\n",
    "                   (list_trim_percentage_perfect[index_right_bound]))\n",
    "\n",
    "    # Alpha (Floating point error here)\n",
    "    alpha = (numerator / denominator)\n",
    "    # print(alpha)\n",
    "\n",
    "    # Left and Right bound interpolation for solving the trimmed mean (Floating point errors here too)\n",
    "    left_bound_interpolation = (\n",
    "        alpha * list_mean_trimmed_perfect[index_left_bound])\n",
    "    right_bound_interpolation = ((1 - alpha) *\n",
    "                                 list_mean_trimmed_perfect[index_right_bound])\n",
    "\n",
    "    # Calculate trimmed mean via interpolated method\n",
    "    # Multiply by 100 to convert it out of percentage\n",
    "    trimmed_mean = (left_bound_interpolation + right_bound_interpolation) * 100\n",
    "\n",
    "    return trimmed_mean\n",
    "\n",
    "\n",
    "def _find_interpolated_weights(value: float, list_in_between_sorted: List[float]) -> Tuple[int, int]:\n",
    "    \"\"\"\n",
    "    Finds where the given value is in between the given list that is ASSUMED to be sorted\n",
    "    Returns the indices where the value is in between in the given list\n",
    "\n",
    "    WARNING:\n",
    "        Dangerous, it assumes index + 1 exists\n",
    "\n",
    "    :param value: value that should be in between list_in_between_sorted\n",
    "    :param list_in_between_sorted: given list\n",
    "    :return:\n",
    "    \"\"\"\n",
    "    # Indices\n",
    "    index_left_bound = None\n",
    "    index_right_bound = None\n",
    "\n",
    "    # Current index\n",
    "    index = 0\n",
    "\n",
    "    try:\n",
    "        # Loop to check where the given value is in between\n",
    "        while True:\n",
    "            if value >= list_in_between_sorted[index]:\n",
    "                index_left_bound = index\n",
    "\n",
    "            if value <= list_in_between_sorted[index + 1]:\n",
    "                index_right_bound = index + 1\n",
    "\n",
    "            # If the bounds are found return it\n",
    "            if index_left_bound is not None and index_right_bound is not None:\n",
    "                return index_left_bound, index_right_bound\n",
    "\n",
    "            index += 1\n",
    "    except IndexError as e:\n",
    "        print(e)\n",
    "        print(\"Index is out of bounds. Is the given value in between a pair of the values in the given list?\")"
   ]
  },
  {
   "cell_type": "code",
   "execution_count": 2,
   "metadata": {
    "ExecuteTime": {
     "end_time": "2020-10-28T09:25:22.882550Z",
     "start_time": "2020-10-28T09:25:22.261496Z"
    }
   },
   "outputs": [
    {
     "name": "stderr",
     "output_type": "stream",
     "text": [
      "C:\\Users\\Joseph\\anaconda3\\lib\\site-packages\\rpy2\\robjects\\packages.py:365: UserWarning: The symbol 'quartz' is not in this R namespace/package.\n",
      "  warnings.warn(\n"
     ]
    }
   ],
   "source": [
    "import rpy2\n",
    "%load_ext rpy2.ipython"
   ]
  },
  {
   "cell_type": "markdown",
   "metadata": {},
   "source": [
    "# 1. DEVORESTAT9 1.E.033.S.\n",
    "The May 1, 2009, issue of a certain publication reported the following home sale amounts for a sample of homes in Alameda, CA that were sold the previous month (1,000s of $).\n",
    "\n",
    "<img src=\"images/1_3_and_1_4_problem_1.png\" alt=\"1_3_and_1_4_problem_1.png\" style=\"float:left;\">\n",
    "<table class=\"noborders\"> <tbody><tr> <td> <font color=\"red\">586</font> </td> <td> <font color=\"red\">814</font> </td> <td> <font color=\"red\">572</font> </td> <td> <font color=\"red\">610</font> </td> <td> <font color=\"red\">348</font> </td> <td> <font color=\"red\">1,280</font> </td> <td> <font color=\"red\">412</font> </td> <td> <font color=\"red\">541</font> </td> <td> <font color=\"red\">555</font> </td> <td> <font color=\"red\">681</font> </td> </tr> </tbody></table>"
   ]
  },
  {
   "cell_type": "code",
   "execution_count": 3,
   "metadata": {
    "ExecuteTime": {
     "end_time": "2020-10-28T09:25:22.897567Z",
     "start_time": "2020-10-28T09:25:22.883551Z"
    }
   },
   "outputs": [
    {
     "name": "stdout",
     "output_type": "stream",
     "text": [
      "[348, 412, 541, 555, 572, 586, 610, 681, 814, 1280]\n"
     ]
    }
   ],
   "source": [
    "p1_string_data = \"586\t814\t572\t610\t348\t1,280\t412\t541\t555\t681\"\n",
    "\n",
    "p1_list_data = p1_string_data.split(sep=\"\\t\")\n",
    "\n",
    "p1_list_data = [int(i.replace(\",\", \"\")) for i in p1_list_data]\n",
    "\n",
    "p1_list_data.sort()\n",
    "\n",
    "print(p1_list_data)"
   ]
  },
  {
   "cell_type": "markdown",
   "metadata": {},
   "source": [
    "### (a) Calculate and interpret the sample mean and median.\n",
    "<img src=\"images/1_3_and_1_4_problem_1a_solution.png\" alt=\"1_3_and_1_4_problem_1a_solution.png\" style=\"float:left;\">"
   ]
  },
  {
   "cell_type": "code",
   "execution_count": 4,
   "metadata": {
    "ExecuteTime": {
     "end_time": "2020-10-28T09:25:22.913581Z",
     "start_time": "2020-10-28T09:25:22.898568Z"
    }
   },
   "outputs": [
    {
     "name": "stdout",
     "output_type": "stream",
     "text": [
      "p1a_mean=639.9\n",
      "p1a_median=579.0\n"
     ]
    }
   ],
   "source": [
    "import numpy as np\n",
    "\n",
    "p1a_mean = np.mean(p1_list_data)\n",
    "p1a_median = np.median(p1_list_data)\n",
    "\n",
    "print(f\"{p1a_mean=}\")\n",
    "print(f\"{p1a_median=}\")"
   ]
  },
  {
   "cell_type": "code",
   "execution_count": 5,
   "metadata": {
    "ExecuteTime": {
     "end_time": "2020-10-28T09:25:22.929594Z",
     "start_time": "2020-10-28T09:25:22.914582Z"
    },
    "scrolled": true
   },
   "outputs": [
    {
     "name": "stdout",
     "output_type": "stream",
     "text": [
      "[1] 639.9\n",
      "[1] 579\n"
     ]
    }
   ],
   "source": [
    "%%R -i p1_list_data\n",
    "\n",
    "# R solution\n",
    "p1_list_data <- as.numeric(p1_list_data)\n",
    "\n",
    "print(mean(p1_list_data))\n",
    "print(median(p1_list_data))"
   ]
  },
  {
   "cell_type": "markdown",
   "metadata": {},
   "source": [
    "<h3> (b) Suppose the 6th observation had been 985 rather than <span class=\"nobr\"><font color=\"red\">1,280</font>.</span> How would the mean and median change? </h3>\n",
    "<img src=\"images/1_3_and_1_4_problem_1b_solution.png\" alt=\"1_3_and_1_4_problem_1b_solution.png\" style=\"float:left;\">"
   ]
  },
  {
   "cell_type": "code",
   "execution_count": 6,
   "metadata": {
    "ExecuteTime": {
     "end_time": "2020-10-28T09:25:22.944607Z",
     "start_time": "2020-10-28T09:25:22.930595Z"
    },
    "scrolled": false
   },
   "outputs": [
    {
     "name": "stdout",
     "output_type": "stream",
     "text": [
      "[348, 412, 541, 555, 572, 586, 610, 681, 814, 985]\n",
      "\n",
      "p1b_mean=610.4\n",
      "p1b_median=579.0\n"
     ]
    }
   ],
   "source": [
    "# Replace if 1280 then replace it with 985\n",
    "p2_list_data = [(i if i != 1280 else 985) for i in p1_list_data]\n",
    "\n",
    "# Replace if 1280 then replace it with 985 v2\n",
    "p2_list_data = [(985 if i == 1280 else i) for i in p1_list_data]\n",
    "\n",
    "print(p2_list_data)\n",
    "print()\n",
    "\n",
    "p1b_mean = np.mean(p2_list_data)  # why use np.mean, because of c speed!\n",
    "p1b_median = np.median(p2_list_data)\n",
    "\n",
    "print(f\"{p1b_mean=}\")\n",
    "print(f\"{p1b_median=}\")"
   ]
  },
  {
   "cell_type": "code",
   "execution_count": 7,
   "metadata": {
    "ExecuteTime": {
     "end_time": "2020-10-28T09:25:22.960621Z",
     "start_time": "2020-10-28T09:25:22.946609Z"
    },
    "scrolled": false
   },
   "outputs": [
    {
     "name": "stdout",
     "output_type": "stream",
     "text": [
      "[1] 610.4\n",
      "[1] 579\n"
     ]
    }
   ],
   "source": [
    "%%R -i p2_list_data\n",
    "\n",
    "# R solution\n",
    "p2_list_data <- as.numeric(p2_list_data)\n",
    "\n",
    "print(mean(p2_list_data))\n",
    "print(median(p2_list_data))"
   ]
  },
  {
   "cell_type": "markdown",
   "metadata": {},
   "source": [
    "### (c) Calculate a 20% trimmed mean by first trimming the two smallest and two largest observations. (Round your answer to the nearest hundred dollars.)"
   ]
  },
  {
   "cell_type": "code",
   "execution_count": 8,
   "metadata": {
    "ExecuteTime": {
     "end_time": "2020-10-28T09:25:22.975637Z",
     "start_time": "2020-10-28T09:25:22.961622Z"
    },
    "scrolled": true
   },
   "outputs": [
    {
     "name": "stdout",
     "output_type": "stream",
     "text": [
      "Trimmed list: [541, 555, 572, 586, 610, 681]\n",
      "\n",
      "590833\n"
     ]
    }
   ],
   "source": [
    "# Trim the list\n",
    "p1c_list_new = trim_list(p1_list_data, .20)\n",
    "\n",
    "print(\"Trimmed list: {}\".format(p1c_list_new))\n",
    "print()\n",
    "\n",
    "# Multiple by 1000 because it's not in 1,000s of $\n",
    "print(\"{:.0f}\".format(np.mean(p1c_list_new) * 1000))"
   ]
  },
  {
   "cell_type": "code",
   "execution_count": 9,
   "metadata": {
    "ExecuteTime": {
     "end_time": "2020-10-28T09:25:22.991651Z",
     "start_time": "2020-10-28T09:25:22.976638Z"
    },
    "scrolled": false
   },
   "outputs": [
    {
     "name": "stdout",
     "output_type": "stream",
     "text": [
      "[1] 590.8333\n",
      "[1] 590833\n"
     ]
    }
   ],
   "source": [
    "%%R -i p1_list_data\n",
    "\n",
    "# R solution\n",
    "p1_list_data <- as.numeric(p1_list_data)\n",
    "\n",
    "print(mean(p1_list_data, trim=0.2))\n",
    "\n",
    "# Multiple by 1000 because it's not in 1,000s of $\n",
    "print(round(mean(p1_list_data, trim=0.2) * 1000))"
   ]
  },
  {
   "cell_type": "markdown",
   "metadata": {},
   "source": [
    "### (d) Calculate a 15% trimmed mean. (Round your answer to the nearest hundred dollars.)\n"
   ]
  },
  {
   "cell_type": "code",
   "execution_count": 10,
   "metadata": {
    "ExecuteTime": {
     "end_time": "2020-10-28T09:25:23.006664Z",
     "start_time": "2020-10-28T09:25:22.992653Z"
    }
   },
   "outputs": [
    {
     "name": "stdout",
     "output_type": "stream",
     "text": [
      "[348, 412, 541, 555, 572, 586, 610, 681, 814, 1280]\n",
      "\n",
      "593604\n"
     ]
    }
   ],
   "source": [
    "p1_trimmed_mean_via_interpolation = trimmed_mean_interpolation(p1_list_data, .15)\n",
    "print(p1_list_data)\n",
    "print()\n",
    "\n",
    "# Multiple by 1000 because it's not in 1, 000s of $\n",
    "print(\"{:.0f}\".format(p1_trimmed_mean_via_interpolation * 1000))"
   ]
  },
  {
   "cell_type": "code",
   "execution_count": 11,
   "metadata": {
    "ExecuteTime": {
     "end_time": "2020-10-28T09:25:23.038691Z",
     "start_time": "2020-10-28T09:25:23.007664Z"
    }
   },
   "outputs": [
    {
     "name": "stdout",
     "output_type": "stream",
     "text": [
      "NULL\n"
     ]
    }
   ],
   "source": [
    "%%R\n",
    "# R SOLUTION NOT POSSIBLE UNLESS YOU CODE IT WHICH IS GOING TO BE DIFFICULT BECAUSE 15% DOES NOT PROPERLY CUT THE LIST"
   ]
  },
  {
   "cell_type": "markdown",
   "metadata": {},
   "source": [
    "# 2. DEVORESTAT9 1.E.035.MI.S.\n",
    "Mercury is a persistent and dispersive environmental contaminant found in many ecosystems around the world. When released as an industrial by-product, it often finds its way into aquatic systems where it can have deleterious effects on various avian and aquatic species. The accompanying data on blood mercury concentration (<span style=\"font-family: 'Trebuchet MS', 'Lucida Grande', sans-serif; font-size: 1.10em\">µ</span>g/g) for adult females near contaminated rivers in a state was read from a graph in an article.\n",
    "\n",
    "<img src=\"images/1_3_and_1_4_problem_2.png\" alt=\"1_3_and_1_4_problem_2.png\" style=\"float:left;\">\n",
    "\n",
    "<table class=\"wa1basicc\"> <tbody><tr> <td> <font color=\"red\">0.20</font> </td> <td> <font color=\"red\">0.21</font> </td> <td> <font color=\"red\">0.26</font> </td> <td> <font color=\"red\">0.30</font> </td> <td> <font color=\"red\">0.35</font> </td> <td> <font color=\"red\">0.41</font> </td> <td> <font color=\"red\">0.54</font> </td> <td> <font color=\"red\">0.57</font> </td> </tr> <tr> <td> <font color=\"red\">1.43</font> </td> <td> <font color=\"red\">1.70</font> </td> <td> <font color=\"red\">1.82</font> </td> <td> <font color=\"red\">2.20</font> </td> <td> <font color=\"red\">2.24</font> </td> <td> <font color=\"red\">3.06</font> </td> <td> <font color=\"red\">3.26</font> </td> </tr> </tbody></table>"
   ]
  },
  {
   "cell_type": "code",
   "execution_count": 12,
   "metadata": {
    "ExecuteTime": {
     "end_time": "2020-10-28T09:25:23.054704Z",
     "start_time": "2020-10-28T09:25:23.039692Z"
    }
   },
   "outputs": [
    {
     "name": "stdout",
     "output_type": "stream",
     "text": [
      "[0.2, 0.21, 0.26, 0.3, 0.35, 0.41, 0.54, 0.57, 1.43, 1.7, 1.82, 2.2, 2.24, 3.06, 3.26]\n"
     ]
    }
   ],
   "source": [
    "import re\n",
    "string_data_2 = \"\"\"\n",
    "0.20\t0.21\t0.26\t0.30\t0.35\t0.41\t0.54\t0.57\n",
    "1.43\t1.70\t1.82\t2.20\t2.24\t3.06\t3.26\"\"\"\n",
    "\n",
    "p2_list_data = re.split(\"\\t|\\n\", string_data_2)\n",
    "p2_list_data = [i for i in p2_list_data if i != \"\"]\n",
    "p2_list_data = list(map(float, p2_list_data))\n",
    "\n",
    "print(p2_list_data)"
   ]
  },
  {
   "cell_type": "code",
   "execution_count": 13,
   "metadata": {
    "ExecuteTime": {
     "end_time": "2020-10-28T09:25:23.968975Z",
     "start_time": "2020-10-28T09:25:23.055705Z"
    }
   },
   "outputs": [
    {
     "name": "stdout",
     "output_type": "stream",
     "text": [
      "(<Figure size 540x126 with 1 Axes>, <matplotlib.axes._axes.Axes object at 0x00000208E223BA00>)\n"
     ]
    },
    {
     "data": {
      "image/png": "[encoded data removed]",
      "text/plain": [
       "<Figure size 540x126 with 1 Axes>"
      ]
     },
     "metadata": {
      "needs_background": "light"
     },
     "output_type": "display_data"
    }
   ],
   "source": [
    "import stemgraphic\n",
    "\n",
    "# Positive Skew\n",
    "print(stemgraphic.stem_graphic(p2_list_data, scale=1))"
   ]
  },
  {
   "cell_type": "markdown",
   "metadata": {},
   "source": [
    "### (a) Determine the values of the sample mean and sample median. Hint: xi = 18.55. (Round your answers to four decimal places.)\n",
    "<img src=\"images/1_3_and_1_4_problem_2a_solution.png\" alt=\"1_3_and_1_4_problem_2a_solution.png\" style=\"float:left;\">\n"
   ]
  },
  {
   "cell_type": "code",
   "execution_count": 14,
   "metadata": {
    "ExecuteTime": {
     "end_time": "2020-10-28T09:25:23.984988Z",
     "start_time": "2020-10-28T09:25:23.969975Z"
    }
   },
   "outputs": [
    {
     "name": "stdout",
     "output_type": "stream",
     "text": [
      "mean: 1.2367\n",
      "median: 0.57\n"
     ]
    }
   ],
   "source": [
    "mean = np.mean(p2_list_data)\n",
    "median = np.median(p2_list_data)\n",
    "\n",
    "print(\"mean: {:.4f}\".format(mean))\n",
    "print(\"median: {}\".format(median))"
   ]
  },
  {
   "cell_type": "code",
   "execution_count": 15,
   "metadata": {
    "ExecuteTime": {
     "end_time": "2020-10-28T09:25:24.001001Z",
     "start_time": "2020-10-28T09:25:23.985989Z"
    }
   },
   "outputs": [
    {
     "name": "stdout",
     "output_type": "stream",
     "text": [
      "[1] 1.236667\n",
      "[1] 0.57\n"
     ]
    }
   ],
   "source": [
    "%%R -i p2_list_data\n",
    "\n",
    "# R Solution\n",
    "p2_list_data <- as.numeric(p2_list_data)\n",
    "\n",
    "print(mean(p2_list_data))\n",
    "print(median(p2_list_data))"
   ]
  },
  {
   "cell_type": "markdown",
   "metadata": {},
   "source": [
    "### (b) Determine the value of the 10% trimmed mean. (Round your answer to four decimal places.)\n"
   ]
  },
  {
   "cell_type": "code",
   "execution_count": 16,
   "metadata": {
    "ExecuteTime": {
     "end_time": "2020-10-28T09:25:24.017015Z",
     "start_time": "2020-10-28T09:25:24.002002Z"
    }
   },
   "outputs": [
    {
     "name": "stdout",
     "output_type": "stream",
     "text": [
      "(b) Determine the value of the 10% trimmed mean. (Round your answer to four decimal places.)\n",
      "Trimmed mean: 1.1177\n"
     ]
    }
   ],
   "source": [
    "print(\"(b) Determine the value of the 10% trimmed mean. (Round your answer to four decimal places.)\")\n",
    "\n",
    "p2_trimmed_mean_via_interpolation = trimmed_mean_interpolation(p2_list_data, .10)\n",
    "\n",
    "print(\"Trimmed mean: {:.4f}\".format(p2_trimmed_mean_via_interpolation))"
   ]
  },
  {
   "cell_type": "markdown",
   "metadata": {},
   "source": [
    "#### function: calculate_how_much_item_value_changes_without_affecting_sample_median"
   ]
  },
  {
   "cell_type": "code",
   "execution_count": 17,
   "metadata": {
    "ExecuteTime": {
     "end_time": "2020-10-28T09:25:24.033024Z",
     "start_time": "2020-10-28T09:25:24.018016Z"
    }
   },
   "outputs": [],
   "source": [
    "\"\"\"\n",
    "calculate_how_much_item_value_changes_without_affecting_sample_median\n",
    "\"\"\"\n",
    "\n",
    "def calculate_how_much_item_value_changes_without_affecting_sample_median(value_observed: float, list_given: list, add_amount: float):\n",
    "    list_given_copy = list_given.copy()\n",
    "    index = list_given.index(value_observed)\n",
    "    current_median = np.median(list_given)\n",
    "\n",
    "    while True:\n",
    "        list_given_copy[index] += add_amount\n",
    "\n",
    "        new_median = np.median(list_given_copy)\n",
    "        if current_median != new_median:\n",
    "            print(f\"Median Current: {current_median}\")\n",
    "            print(f\"Median New: {new_median}\")\n",
    "            return list_given_copy[index] - list_given[index]"
   ]
  },
  {
   "cell_type": "markdown",
   "metadata": {},
   "source": [
    "<h3> (c) By how much could the observation <font color=\"red\">0.20</font> be increased without impacting the value of the sample median? </h3>"
   ]
  },
  {
   "cell_type": "code",
   "execution_count": 18,
   "metadata": {
    "ExecuteTime": {
     "end_time": "2020-10-28T09:25:24.049037Z",
     "start_time": "2020-10-28T09:25:24.034025Z"
    }
   },
   "outputs": [
    {
     "name": "stdout",
     "output_type": "stream",
     "text": [
      "Median Current: 0.57\n",
      "Median New: 0.5700000000000003\n",
      "Increase: 0.3700\n"
     ]
    }
   ],
   "source": [
    "print(\"Increase:\", \"{:.4f}\".format(calculate_how_much_item_value_changes_without_affecting_sample_median(.2, p2_list_data, .01)))"
   ]
  },
  {
   "cell_type": "code",
   "execution_count": 19,
   "metadata": {
    "ExecuteTime": {
     "end_time": "2020-10-28T09:25:24.065051Z",
     "start_time": "2020-10-28T09:25:24.050038Z"
    }
   },
   "outputs": [
    {
     "name": "stdout",
     "output_type": "stream",
     "text": [
      "0.36\n"
     ]
    }
   ],
   "source": [
    "\"\"\"\n",
    "Alternatively, you can look where the middle is in the p2_list_data then see how much does 0.20 need to be > .57\n",
    "\n",
    "idk why it differs\n",
    "\"\"\"\n",
    "print(np.median(p2_list_data) - p2_list_data[1])"
   ]
  },
  {
   "cell_type": "markdown",
   "metadata": {},
   "source": [
    "# 3. DEVORESTAT9 1.E.039.S.\n",
    "The propagation of fatigue cracks in various aircraft parts has been the subject of extensive study in recent years. The accompanying data consists of propagation lives (flight hours/10<sup>4</sup>) to reach a given crack size in fastener holes intended for use in military aircraft.\n",
    "<img src=\"images/1_3_and_1_4_problem_3.png\" alt=\"1_3_and_1_4_problem_3.png\" style=\"float:left;\">\n",
    "<table cellspacing=\"3\" cellpadding=\"3\"> <tbody><tr style=\"text-align:right\"> <td> <font color=\"red\">0.738</font> <span style=\"white-space: nowrap\">&nbsp;&nbsp;</span> </td> <td> <font color=\"red\">0.852</font> <span style=\"white-space: nowrap\">&nbsp;&nbsp;</span> </td> <td> <font color=\"red\">0.870</font> <span style=\"white-space: nowrap\">&nbsp;&nbsp;</span> </td> <td> <font color=\"red\">0.909</font> <span style=\"white-space: nowrap\">&nbsp;&nbsp;</span> </td> <td> <font color=\"red\">0.923</font> <span style=\"white-space: nowrap\">&nbsp;&nbsp;</span> </td> <td> <font color=\"red\">0.938</font> <span style=\"white-space: nowrap\">&nbsp;&nbsp;</span> </td> <td> <font color=\"red\">0.968</font> <span style=\"white-space: nowrap\">&nbsp;&nbsp;</span> </td> <td> <font color=\"red\">1.009</font> <span style=\"white-space: nowrap\">&nbsp;&nbsp;</span> </td> </tr> <tr style=\"text-align:right\"> <td> <font color=\"red\">1.039</font> <span style=\"white-space: nowrap\">&nbsp;&nbsp;</span> </td> <td> <font color=\"red\">1.052</font> <span style=\"white-space: nowrap\">&nbsp;&nbsp;</span> </td> <td> <font color=\"red\">1.083</font> <span style=\"white-space: nowrap\">&nbsp;&nbsp;</span> </td> <td> <font color=\"red\">1.119</font> <span style=\"white-space: nowrap\">&nbsp;&nbsp;</span> </td> <td> <font color=\"red\">1.135</font> <span style=\"white-space: nowrap\">&nbsp;&nbsp;</span> </td> <td> <font color=\"red\">1.162</font> <span style=\"white-space: nowrap\">&nbsp;&nbsp;</span> </td> <td> <font color=\"red\">1.227</font> <span style=\"white-space: nowrap\">&nbsp;&nbsp;</span> </td> <td> <font color=\"red\">1.357</font> <span style=\"white-space: nowrap\">&nbsp;&nbsp;</span> </td> </tr> </tbody></table>"
   ]
  },
  {
   "cell_type": "code",
   "execution_count": 20,
   "metadata": {
    "ExecuteTime": {
     "end_time": "2020-10-28T09:25:24.081064Z",
     "start_time": "2020-10-28T09:25:24.066053Z"
    }
   },
   "outputs": [
    {
     "name": "stdout",
     "output_type": "stream",
     "text": [
      "[0.738, 0.852, 0.87, 0.909, 0.923, 0.938, 0.968, 1.009, 1.039, 1.052, 1.083, 1.119, 1.135, 1.162, 1.227, 1.357]\n"
     ]
    }
   ],
   "source": [
    "p3_string_data = \"\"\"\n",
    "0.738   \t0.852   \t0.870   \t0.909   \t0.923   \t0.938   \t0.968   \t1.009   \n",
    "1.039   \t1.052   \t1.083   \t1.119   \t1.135   \t1.162   \t1.227   \t1.357 \n",
    "\"\"\"\n",
    "p3_list_data = re.split(\"\\t|\\n\", p3_string_data)\n",
    "p3_list_data = [i for i in p3_list_data if i != \"\"]\n",
    "p3_list_data = list(map(float, p3_list_data))\n",
    "print(p3_list_data)"
   ]
  },
  {
   "cell_type": "markdown",
   "metadata": {},
   "source": [
    "### (a) Compute and compare the values of the sample mean x bar and median x tilde. (Round your mean to four decimal places.)"
   ]
  },
  {
   "cell_type": "code",
   "execution_count": 21,
   "metadata": {
    "ExecuteTime": {
     "end_time": "2020-10-28T09:25:24.096077Z",
     "start_time": "2020-10-28T09:25:24.082065Z"
    }
   },
   "outputs": [
    {
     "name": "stdout",
     "output_type": "stream",
     "text": [
      "Mean: 1.0238 flight hours/10^4\n",
      "Median: 1.0240 flight hours/10^4\n"
     ]
    }
   ],
   "source": [
    "# print(\"(a) Compute and compare the values of the sample mean x and median x tilde. (Round your mean to four decimal places.)\")\n",
    "\n",
    "print(\"Mean: {:.4f} flight hours/10^4\".format(np.mean(p3_list_data)))\n",
    "print(\"Median: {:.4f} flight hours/10^4\".format(np.median(p3_list_data)))"
   ]
  },
  {
   "cell_type": "code",
   "execution_count": 22,
   "metadata": {
    "ExecuteTime": {
     "end_time": "2020-10-28T09:25:24.112091Z",
     "start_time": "2020-10-28T09:25:24.099080Z"
    }
   },
   "outputs": [
    {
     "name": "stdout",
     "output_type": "stream",
     "text": [
      "[1] 1.023813\n",
      "[1] 1.024\n"
     ]
    }
   ],
   "source": [
    "%%R -i p3_list_data\n",
    "\n",
    "# R Solution\n",
    "p3_list_data <- as.numeric(p3_list_data)\n",
    "\n",
    "print(mean(p3_list_data))\n",
    "print(median(p3_list_data))"
   ]
  },
  {
   "cell_type": "markdown",
   "metadata": {},
   "source": [
    "### (b) By how much could the largest sample observation be decreased without affecting the value of the median? (Enter your answer to three decimal places.)\n"
   ]
  },
  {
   "cell_type": "code",
   "execution_count": 23,
   "metadata": {
    "ExecuteTime": {
     "end_time": "2020-10-28T09:25:24.300251Z",
     "start_time": "2020-10-28T09:25:24.114092Z"
    },
    "scrolled": true
   },
   "outputs": [
    {
     "name": "stdout",
     "output_type": "stream",
     "text": [
      "Median Current: 1.024\n",
      "Median New: 1.0239500000000175\n",
      "Increase: -0.318\n",
      "\n",
      "Median Current: 1.024\n",
      "Median New: 1.0239500000000175\n",
      "Decrease: 0.318\n"
     ]
    }
   ],
   "source": [
    "print(\"Increase: {:.3f}\".format(\n",
    "    calculate_how_much_item_value_changes_without_affecting_sample_median(1.357, p3_list_data, -.0001)))\n",
    "print()\n",
    "\n",
    "print(\"Decrease: {:.3f}\".format(abs(calculate_how_much_item_value_changes_without_affecting_sample_median(1.357, p3_list_data, -.0001))))"
   ]
  },
  {
   "cell_type": "markdown",
   "metadata": {},
   "source": [
    "# 4. DEVORESTAT9 1.E.047.S.\n",
    "Zinfandel is a popular red wine varietal produced almost exclusively in California. It is rather controversial among wine connoisseurs because its alcohol content varies quite substantially from one producer to another. In May 2013, the author went to a certain website, randomly selected 10 zinfandels from among the 325 available, and obtained the following values of alcohol content (%).\n",
    "\n",
    "<img src=\"images/1_3_and_1_4_problem_4.png\" alt=\"1_3_and_1_4_problem_4.png\" style=\"float:left;\">\n",
    "<table class=\"noborders\"> <tbody><tr> <td> <font color=\"red\">14.8</font> </td> <td> <font color=\"red\">14.6</font> </td> <td> <font color=\"red\">16.1</font> </td> <td> <font color=\"red\">14.3</font> </td> <td> <font color=\"red\">16.0</font> </td> </tr> <tr> <td> <font color=\"red\">13.8</font> </td> <td> <font color=\"red\">16.2</font> </td> <td> <font color=\"red\">14.7</font> </td> <td> <font color=\"red\">13.9</font> </td> <td> <font color=\"red\">15.1</font> </td> </tr> </tbody></table>"
   ]
  },
  {
   "cell_type": "code",
   "execution_count": 24,
   "metadata": {
    "ExecuteTime": {
     "end_time": "2020-10-28T09:25:24.316266Z",
     "start_time": "2020-10-28T09:25:24.301252Z"
    }
   },
   "outputs": [
    {
     "name": "stdout",
     "output_type": "stream",
     "text": [
      "[13.8, 13.9, 14.3, 14.6, 14.7, 14.8, 15.1, 16.0, 16.1, 16.2]\n"
     ]
    }
   ],
   "source": [
    "string_data_4 = \"\"\"\n",
    "\n",
    "14.8\t14.6\t16.1\t14.3\t16.0\n",
    "13.8\t16.2\t14.7\t13.9\t15.1\n",
    "\n",
    "\"\"\"\n",
    "p4_list_data = re.split(\"\\t|\\n\", string_data_4)\n",
    "p4_list_data = [i for i in p4_list_data if i != \"\"]\n",
    "p4_list_data = list(map(float, p4_list_data))\n",
    "p4_list_data.sort()\n",
    "\n",
    "print(p4_list_data)"
   ]
  },
  {
   "cell_type": "markdown",
   "metadata": {},
   "source": [
    "### (a) Calculate and interpret several measures of center\n",
    "<img src=\"images/1_3_and_1_4_problem_4a_solution.png\" alt=\"1_3_and_1_4_problem_4a_solution.png\" style=\"float:left;\">\n"
   ]
  },
  {
   "cell_type": "code",
   "execution_count": 25,
   "metadata": {
    "ExecuteTime": {
     "end_time": "2020-10-28T09:25:24.332279Z",
     "start_time": "2020-10-28T09:25:24.317266Z"
    }
   },
   "outputs": [
    {
     "name": "stdout",
     "output_type": "stream",
     "text": [
      "Mean: 14.9500\n",
      "Median: 14.7500\n"
     ]
    }
   ],
   "source": [
    "print(\"Mean: {:.4f}\".format(np.mean(p4_list_data)))\n",
    "print(\"Median: {:.4f}\".format(np.median(p4_list_data)))"
   ]
  },
  {
   "cell_type": "code",
   "execution_count": 26,
   "metadata": {
    "ExecuteTime": {
     "end_time": "2020-10-28T09:25:24.348292Z",
     "start_time": "2020-10-28T09:25:24.333280Z"
    }
   },
   "outputs": [
    {
     "name": "stdout",
     "output_type": "stream",
     "text": [
      "[1] 14.95\n",
      "[1] 14.75\n"
     ]
    }
   ],
   "source": [
    "%%R -i p4_list_data\n",
    "\n",
    "# R Solution\n",
    "p4_list_data <- as.numeric(p4_list_data)\n",
    "\n",
    "print(mean(p4_list_data))\n",
    "print(median(p4_list_data))"
   ]
  },
  {
   "cell_type": "markdown",
   "metadata": {},
   "source": [
    "### (b) Calculate the sample variance using the defining formula. (Round your answer to three decimal places.)"
   ]
  },
  {
   "cell_type": "code",
   "execution_count": 27,
   "metadata": {
    "ExecuteTime": {
     "end_time": "2020-10-28T09:25:24.364306Z",
     "start_time": "2020-10-28T09:25:24.349294Z"
    }
   },
   "outputs": [
    {
     "name": "stdout",
     "output_type": "stream",
     "text": [
      "Sample Variance: 0.785\n"
     ]
    }
   ],
   "source": [
    "# ddof=1 for sample variance\n",
    "print(\"Sample Variance: {:.3f}\".format(np.var(p4_list_data, ddof=1)))"
   ]
  },
  {
   "cell_type": "code",
   "execution_count": 28,
   "metadata": {
    "ExecuteTime": {
     "end_time": "2020-10-28T09:25:24.379319Z",
     "start_time": "2020-10-28T09:25:24.366308Z"
    }
   },
   "outputs": [
    {
     "name": "stdout",
     "output_type": "stream",
     "text": [
      "[1] 0.785\n"
     ]
    }
   ],
   "source": [
    "%%R -i p4_list_data\n",
    "\n",
    "# R Solution\n",
    "p4_list_data <- as.numeric(p4_list_data)\n",
    "\n",
    "print(var(p4_list_data))"
   ]
  },
  {
   "cell_type": "markdown",
   "metadata": {},
   "source": [
    "### (c) Calculate the sample variance using the shortcut formula after subtracting 13 from each observation. (Round your answer to three decimal places.)"
   ]
  },
  {
   "cell_type": "code",
   "execution_count": 29,
   "metadata": {
    "ExecuteTime": {
     "end_time": "2020-10-28T09:25:24.395333Z",
     "start_time": "2020-10-28T09:25:24.380320Z"
    }
   },
   "outputs": [
    {
     "name": "stdout",
     "output_type": "stream",
     "text": [
      "Values of (p4_list_data_v2 - 13)\n",
      "[0.8000000000000007, 0.9000000000000004, 1.3000000000000007, 1.5999999999999996, 1.6999999999999993, 1.8000000000000007, 2.0999999999999996, 3.0, 3.1000000000000014, 3.1999999999999993]\n",
      "\n",
      "Sample Variance: 0.785\n"
     ]
    }
   ],
   "source": [
    "p4_list_data_v2 = list(map(lambda x: x - 13, p4_list_data))\n",
    "print(\"Values of (p4_list_data_v2 - 13)\")\n",
    "print(p4_list_data_v2)\n",
    "print()\n",
    "\n",
    "# ddof= 1 for sample variance\n",
    "print(\"Sample Variance: {:.3f}\".format(np.var(p4_list_data_v2, ddof=1)))"
   ]
  },
  {
   "cell_type": "code",
   "execution_count": 30,
   "metadata": {
    "ExecuteTime": {
     "end_time": "2020-10-28T09:25:24.410346Z",
     "start_time": "2020-10-28T09:25:24.396334Z"
    }
   },
   "outputs": [
    {
     "name": "stdout",
     "output_type": "stream",
     "text": [
      "[1] 0.785\n"
     ]
    }
   ],
   "source": [
    "%%R -i p4_list_data_v2\n",
    "\n",
    "# R Solution\n",
    "p4_list_data_v2 <- as.numeric(p4_list_data_v2)\n",
    "\n",
    "print(var(p4_list_data_v2))"
   ]
  },
  {
   "cell_type": "markdown",
   "metadata": {},
   "source": [
    "# 5. DEVORESTAT9 1.E.051.S.\n",
    "An article reported the following data on oxidation-induction time (min) for various commercial oils:\n",
    "\n",
    "<img src=\"images/1_3_and_1_4_problem_5.png\" alt=\"1_3_and_1_4_problem_5.png\" style=\"float:left;\">\n",
    "<table cellpadding=\"3\"> <tbody><tr style=\"text-align:right\"> <td> <font color=\"red\">85</font> &nbsp; </td> <td> <font color=\"red\">102</font> &nbsp; </td> <td> <font color=\"red\">130</font> &nbsp; </td> <td> <font color=\"red\">160</font> &nbsp; </td> <td> <font color=\"red\">180</font> &nbsp; </td> <td> <font color=\"red\">195</font> &nbsp; </td> <td> <font color=\"red\">131</font> &nbsp; </td> <td> <font color=\"red\">145</font> &nbsp; </td> <td> <font color=\"red\">212</font> &nbsp; </td> <td> <font color=\"red\">105</font> &nbsp; </td> <td> <font color=\"red\">145</font> &nbsp; </td> </tr> <tr style=\"text-align:right\"> <td> <font color=\"red\">151</font> &nbsp; </td> <td> <font color=\"red\">153</font> &nbsp; </td> <td> <font color=\"red\">135</font> &nbsp; </td> <td> <font color=\"red\">87</font> &nbsp; </td> <td> <font color=\"red\">99</font> &nbsp; </td> <td> <font color=\"red\">95</font> &nbsp; </td> <td> <font color=\"red\">119</font> &nbsp; </td> <td> <font color=\"red\">129</font> &nbsp; </td> </tr> </tbody></table>"
   ]
  },
  {
   "cell_type": "code",
   "execution_count": 31,
   "metadata": {
    "ExecuteTime": {
     "end_time": "2020-10-28T09:25:24.426360Z",
     "start_time": "2020-10-28T09:25:24.411347Z"
    }
   },
   "outputs": [
    {
     "name": "stdout",
     "output_type": "stream",
     "text": [
      "[85, 87, 95, 99, 102, 105, 119, 129, 130, 131, 135, 145, 145, 151, 153, 160, 180, 195, 212]\n"
     ]
    }
   ],
   "source": [
    "string_data_5 = \"\"\"\n",
    "\n",
    "85  \t102  \t130  \t160  \t180  \t195  \t131  \t145  \t212  \t105  \t145  \n",
    "151  \t153  \t135  \t87  \t99  \t95  \t119  \t129  \n",
    "\n",
    "\"\"\"\n",
    "p5_list_data = re.split(\"\\t|\\n\", string_data_5)\n",
    "p5_list_data = [i for i in p5_list_data if i != \"\"]\n",
    "p5_list_data = list(map(int, p5_list_data))\n",
    "p5_list_data.sort()\n",
    "print(p5_list_data)"
   ]
  },
  {
   "cell_type": "markdown",
   "metadata": {},
   "source": [
    "### (a) Calculate the sample variance and standard deviation. (Round your answers to four decimal places.)"
   ]
  },
  {
   "cell_type": "code",
   "execution_count": 32,
   "metadata": {
    "ExecuteTime": {
     "end_time": "2020-10-28T09:25:24.442373Z",
     "start_time": "2020-10-28T09:25:24.427361Z"
    }
   },
   "outputs": [
    {
     "name": "stdout",
     "output_type": "stream",
     "text": [
      "Sample Variance (s^2): 1276.5789\n",
      "Standard Deviation (s): 35.7292\n",
      "Standard Deviation (s) V2: 35.7292\n"
     ]
    }
   ],
   "source": [
    "# ddof= 1 for sample variance\n",
    "p5_sample_variance_list_data = np.var(p5_list_data, ddof=1)\n",
    "\n",
    "print(\"Sample Variance (s^2): {:.4f}\".format(p5_sample_variance_list_data))\n",
    "\n",
    "# ddof= 1 for sample variance\n",
    "print(\"Standard Deviation (s): {:.4f}\".format(np.std(p5_list_data, ddof=1)))\n",
    "\n",
    "print(\"Standard Deviation (s) V2: {:.4f}\".format(\n",
    "    np.sqrt(p5_sample_variance_list_data)))"
   ]
  },
  {
   "cell_type": "code",
   "execution_count": 33,
   "metadata": {
    "ExecuteTime": {
     "end_time": "2020-10-28T09:25:24.458387Z",
     "start_time": "2020-10-28T09:25:24.443374Z"
    }
   },
   "outputs": [
    {
     "name": "stdout",
     "output_type": "stream",
     "text": [
      "[1] 1276.579\n",
      "[1] 35.72924\n"
     ]
    }
   ],
   "source": [
    "%%R -i p5_list_data\n",
    "\n",
    "# R Solution\n",
    "p5_list_data <- as.numeric(p5_list_data)\n",
    "\n",
    "print(var(p5_list_data))\n",
    "print(sd(p5_list_data))"
   ]
  },
  {
   "cell_type": "code",
   "execution_count": 34,
   "metadata": {
    "ExecuteTime": {
     "end_time": "2020-10-28T09:25:24.474400Z",
     "start_time": "2020-10-28T09:25:24.459388Z"
    }
   },
   "outputs": [],
   "source": [
    "\"\"\"\n",
    "min_to_hour, the second equation is correct\n",
    "\"\"\"\n",
    "\n",
    "def min_to_hour(minutes):\n",
    "    \"\"\"Hour and Minutes\"\"\"\n",
    "    hour = minutes // 60\n",
    "    minutes_new = (minutes % 60) * .01\n",
    "    return hour + minutes_new\n",
    "\n",
    "\n",
    "def min_to_hour(minutes):\n",
    "    \"\"\"Hour and percentage of hour\"\"\"\n",
    "    hour = minutes / 60\n",
    "    return hour"
   ]
  },
  {
   "cell_type": "code",
   "execution_count": 35,
   "metadata": {
    "ExecuteTime": {
     "end_time": "2020-10-28T09:25:24.489413Z",
     "start_time": "2020-10-28T09:25:24.475401Z"
    }
   },
   "outputs": [
    {
     "name": "stdout",
     "output_type": "stream",
     "text": [
      "[1.4166666666666667, 1.45, 1.5833333333333333, 1.65, 1.7, 1.75, 1.9833333333333334, 2.15, 2.1666666666666665, 2.183333333333333, 2.25, 2.4166666666666665, 2.4166666666666665, 2.5166666666666666, 2.55, 2.6666666666666665, 3.0, 3.25, 3.533333333333333]\n"
     ]
    }
   ],
   "source": [
    "p5_list_data_v2 = list(map(min_to_hour, p5_list_data))\n",
    "print(p5_list_data_v2)"
   ]
  },
  {
   "cell_type": "code",
   "execution_count": 36,
   "metadata": {
    "ExecuteTime": {
     "end_time": "2020-10-28T09:25:24.505426Z",
     "start_time": "2020-10-28T09:25:24.490415Z"
    }
   },
   "outputs": [
    {
     "name": "stdout",
     "output_type": "stream",
     "text": [
      "Sample Variance (s^2): 0.3546\n",
      "Standard Deviation (s): 0.5955\n",
      "Standard Deviation (s) V2 : 0.5955\n"
     ]
    }
   ],
   "source": [
    "# ddof= 1 for sample variance\n",
    "sample_variance_p5_list_data_v2 = np.var(p5_list_data_v2, ddof=1)\n",
    "print(\"Sample Variance (s^2): {:.4f}\".format(sample_variance_p5_list_data_v2))\n",
    "\n",
    "# ddof= 1 for sample variance\n",
    "print(\"Standard Deviation (s): {:.4f}\".format(np.std(p5_list_data_v2, ddof=1)))\n",
    "print(\"Standard Deviation (s) V2 : {:.4f}\".format(\n",
    "    np.sqrt(sample_variance_p5_list_data_v2)))"
   ]
  },
  {
   "cell_type": "code",
   "execution_count": 37,
   "metadata": {
    "ExecuteTime": {
     "end_time": "2020-10-28T09:25:24.521439Z",
     "start_time": "2020-10-28T09:25:24.506427Z"
    }
   },
   "outputs": [
    {
     "name": "stdout",
     "output_type": "stream",
     "text": [
      "[1] 0.3546053\n",
      "[1] 0.5954874\n"
     ]
    }
   ],
   "source": [
    "%%R -i p5_list_data_v2\n",
    "\n",
    "# R Solution\n",
    "p5_list_data_v2 <- as.numeric(p5_list_data_v2)\n",
    "\n",
    "print(var(p5_list_data_v2))\n",
    "print(sd(p5_list_data_v2))"
   ]
  },
  {
   "cell_type": "markdown",
   "metadata": {},
   "source": [
    "# 6. DEVORESTAT9 1.E.055.\n",
    "A sample of 26 offshore oil workers took part in a simulated escape exercise, resulting in the accompanying data on time (sec) to complete the escape. Here is a stem-and-leaf display of escape time data.\n",
    "\n",
    "<img src=\"images/1_3_and_1_4_problem_6.png\" alt=\"1_3_and_1_4_problem_6.png\" style=\"float:left;\">\n",
    "<table class=\"wa1stem tableans\" summary=\"This is a stem and leaf table. There may be empty cells.\"> <tbody><tr> <th scope=\"col\"> stem </th> <th scope=\"col\"> leaf </th> </tr> <tr> <td> 32 </td> <td> <font color=\"red\">55</font> </td> </tr> <tr> <td> 33 </td> <td> <font color=\"red\">49</font> </td> </tr> <tr> <td> 34 </td> <td> </td> </tr> <tr> <td> 35 </td> <td> <font color=\"red\">6699</font> </td> </tr> <tr> <td> 36 </td> <td> <font color=\"red\">34469</font> </td> </tr> <tr> <td> 37 </td> <td> <font color=\"red\">03345</font> </td> </tr> <tr> <td> 38 </td> <td> <font color=\"red\">3</font> </td> </tr> <tr> <td> 39 </td> <td> <font color=\"red\">2347</font> </td> </tr> <tr> <td> 40 </td> <td> <font color=\"red\">23</font> </td> </tr> <tr> <td> 41 </td> <td> </td> </tr> <tr> <td> 42 </td> <td> <font color=\"red\">5</font> </td> </tr> </tbody></table>"
   ]
  },
  {
   "cell_type": "code",
   "execution_count": 38,
   "metadata": {
    "ExecuteTime": {
     "end_time": "2020-10-28T09:25:24.537207Z",
     "start_time": "2020-10-28T09:25:24.522440Z"
    }
   },
   "outputs": [
    {
     "name": "stdout",
     "output_type": "stream",
     "text": [
      "[325, 325, 334, 339, 356, 356, 359, 359, 363, 364, 364, 366, 369, 370, 373, 373, 374, 375, 383, 392, 393, 394, 397, 402, 403, 425]\n",
      "\n",
      "Length of list: 26\n"
     ]
    }
   ],
   "source": [
    "import io\n",
    "\n",
    "string_data_6 = \"\"\"\n",
    "32\t55\n",
    "33\t49\n",
    "34\t\n",
    "35\t6699\n",
    "36\t34469\n",
    "37\t03345\n",
    "38\t3\n",
    "39\t2347\n",
    "40\t23\n",
    "41\t\n",
    "42\t5\n",
    "\"\"\"\n",
    "p6_list_data = []\n",
    "\n",
    "x = (io.StringIO(string_data_6))\n",
    "\n",
    "current_str = \" \" # While string has something in it\n",
    "while current_str:\n",
    "    # Current line\n",
    "    current_str = x.readline()\n",
    "    \n",
    "    # Base number before the \\t\n",
    "    base = current_str.split(\"\\t\")[0]\n",
    "    \n",
    "    # Left portion\n",
    "    sub_numbers = re.search(\"\\t[0-9]+\", current_str)\n",
    "    \n",
    "    # Skip empties\n",
    "    if sub_numbers is None:\n",
    "        continue\n",
    "\n",
    "    for i in sub_numbers.group(0):\n",
    "        # If the next character is tab then stop\n",
    "        if i == \"\\t\":\n",
    "            continue\n",
    "        p6_list_data.append(int(base + i))\n",
    "\n",
    "p6_list_data.sort()\n",
    "print(p6_list_data)\n",
    "print()\n",
    "\n",
    "print(\"Length of list: {}\".format(len(p6_list_data)))"
   ]
  },
  {
   "cell_type": "code",
   "execution_count": 39,
   "metadata": {
    "ExecuteTime": {
     "end_time": "2020-10-28T09:25:24.677330Z",
     "start_time": "2020-10-28T09:25:24.538208Z"
    }
   },
   "outputs": [
    {
     "name": "stdout",
     "output_type": "stream",
     "text": [
      "(<Figure size 540x252 with 1 Axes>, <matplotlib.axes._axes.Axes object at 0x00000208E23B8040>)\n"
     ]
    },
    {
     "data": {
      "image/png": "[encoded data removed]",
      "text/plain": [
       "<Figure size 540x252 with 1 Axes>"
      ]
     },
     "metadata": {
      "needs_background": "light"
     },
     "output_type": "display_data"
    }
   ],
   "source": [
    "print(stemgraphic.stem_graphic(p6_list_data, scale=10, ))"
   ]
  },
  {
   "cell_type": "markdown",
   "metadata": {},
   "source": [
    "#### function: find_fourth_spread "
   ]
  },
  {
   "cell_type": "code",
   "execution_count": 40,
   "metadata": {
    "ExecuteTime": {
     "end_time": "2020-10-28T09:25:24.724370Z",
     "start_time": "2020-10-28T09:25:24.678331Z"
    }
   },
   "outputs": [],
   "source": [
    "\"\"\"\n",
    "find_fourth_spread \n",
    "\"\"\"\n",
    "def _first_value_greater_than_min(list_given: list, minimum: int) -> int:\n",
    "    list_copy = list_given.copy()\n",
    "    list_copy.sort()\n",
    "    for i in list_copy:\n",
    "        if i > minimum:\n",
    "            return i\n",
    "\n",
    "\n",
    "def _first_value_less_than_max(list_given: list, maximum: int) -> int:\n",
    "    list_copy = list_given.copy()\n",
    "    list_copy.sort()\n",
    "    list_copy.reverse()\n",
    "    for i in list_copy:\n",
    "        if i < maximum:\n",
    "            return i\n",
    "\n",
    "\n",
    "def find_fourth_spread(list_given: list):\n",
    "    list_given.sort()\n",
    "\n",
    "    length_list = len(list_given)\n",
    "    split_size = int(length_list / 2 if length_list % 2 == 0 else length_list // 2 + 1)\n",
    "\n",
    "    # Middle line in Box in Box plot\n",
    "    median = np.median(list_given)\n",
    "\n",
    "    # Split lists\n",
    "    lower_half = list_given[:split_size]\n",
    "    upper_half = list_given[-split_size:]\n",
    "\n",
    "    # Left part of Box in Box plot\n",
    "    lower_fourth = np.median(lower_half)\n",
    "\n",
    "    # Right part of Box in Box plot\n",
    "    upper_fourth = np.median(upper_half)\n",
    "\n",
    "    # Range of Box plot\n",
    "    fourth_spread = upper_fourth - lower_fourth\n",
    "\n",
    "    # Min and Max Limit before values become outliers\n",
    "    outlier_lower = lower_fourth - 1.5 * fourth_spread\n",
    "    outlier_upper = upper_fourth + 1.5 * fourth_spread\n",
    "\n",
    "    # Minimum tail for Box Plot\n",
    "    minimum_tail_before_outlier = _first_value_greater_than_min(list_given, outlier_lower)\n",
    "\n",
    "    # Maximum tail for Box Plot\n",
    "    maximum_tail_before_outlier = _first_value_less_than_max(list_given, outlier_upper)\n",
    "\n",
    "    outlier_lower_ex = lower_fourth - 3 * fourth_spread\n",
    "    outlier_upper_ex = upper_fourth + 3 * fourth_spread\n",
    "\n",
    "    return fourth_spread, median, lower_fourth, upper_fourth, outlier_lower, outlier_upper, outlier_lower_ex, outlier_upper_ex, minimum_tail_before_outlier, maximum_tail_before_outlier\n",
    "\n",
    "\n",
    "def print_fourth_spread(find_fourth_spread_output):\n",
    "    print(\"fourth Spread: {}\".format(find_fourth_spread_output[0]))\n",
    "    print(\"Median: {}\".format(find_fourth_spread_output[1]))\n",
    "    print(\"Lower fourth: {}\".format(find_fourth_spread_output[2]))\n",
    "    print(\"Upper fourth: {}\".format(find_fourth_spread_output[3]))\n",
    "    print(\"Outlier Lower: {}\".format(find_fourth_spread_output[4]))\n",
    "    print(\"Outlier Upper: {}\".format(find_fourth_spread_output[5]))\n",
    "    print(\"Outlier Lower Extreme: {}\".format(find_fourth_spread_output[6]))\n",
    "    print(\"Outlier Upper Extreme: {}\".format(find_fourth_spread_output[7]))\n",
    "    print(\"Box plot Minimum Tail: {}\".format(find_fourth_spread_output[8]))\n",
    "    print(\"Box plot Maximum Tail: {}\".format(find_fourth_spread_output[9]))\n",
    "\n",
    "\n",
    "def fourth_spread_solver(list_given):\n",
    "    fourth_spread_values = find_fourth_spread(list_given)\n",
    "    print_fourth_spread(fourth_spread_values)\n",
    "    return (fourth_spread_values)\n"
   ]
  },
  {
   "cell_type": "markdown",
   "metadata": {},
   "source": [
    "### (a) Determine the value of the fourth spread."
   ]
  },
  {
   "cell_type": "code",
   "execution_count": 41,
   "metadata": {
    "ExecuteTime": {
     "end_time": "2020-10-28T09:25:24.739383Z",
     "start_time": "2020-10-28T09:25:24.725371Z"
    },
    "scrolled": true
   },
   "outputs": [
    {
     "name": "stdout",
     "output_type": "stream",
     "text": [
      "(a) Determine the value of the fourth spread.\n",
      "fourth Spread: 33.0\n",
      "Median: 369.5\n",
      "Lower fourth: 359.0\n",
      "Upper fourth: 392.0\n",
      "Outlier Lower: 309.5\n",
      "Outlier Upper: 441.5\n",
      "Outlier Lower Extreme: 260.0\n",
      "Outlier Upper Extreme: 491.0\n",
      "Box plot Minimum Tail: 325\n",
      "Box plot Maximum Tail: 425\n"
     ]
    }
   ],
   "source": [
    "print(\"(a) Determine the value of the fourth spread.\")\n",
    "\n",
    "p6a_fouth_spread_values = find_fourth_spread(p6_list_data)\n",
    "\n",
    "print_fourth_spread(p6a_fouth_spread_values)"
   ]
  },
  {
   "cell_type": "markdown",
   "metadata": {},
   "source": [
    "### (b) Are there any outliers in the sample? Any extreme outliers?\n",
    "<img src=\"images/1_3_and_1_4_problem_6b_solution.png\" alt=\"1_3_and_1_4_problem_6b_solution.png\" style=\"float:left;\">"
   ]
  },
  {
   "cell_type": "markdown",
   "metadata": {},
   "source": [
    "### (c) Construct a boxplot."
   ]
  },
  {
   "cell_type": "code",
   "execution_count": 42,
   "metadata": {
    "ExecuteTime": {
     "end_time": "2020-10-28T09:25:24.818453Z",
     "start_time": "2020-10-28T09:25:24.740384Z"
    }
   },
   "outputs": [
    {
     "data": {
      "image/png": "[encoded data removed]",
      "text/plain": [
       "<Figure size 576x576 with 1 Axes>"
      ]
     },
     "metadata": {
      "needs_background": "light"
     },
     "output_type": "display_data"
    }
   ],
   "source": [
    "import matplotlib.pyplot as plt\n",
    "\n",
    "fig, ax = plt.subplots()\n",
    "fig.set_size_inches(8, 8)\n",
    "ax.boxplot(p6_list_data, vert=False)  # Notice no outliers\n",
    "print(end=\"\")"
   ]
  },
  {
   "cell_type": "code",
   "execution_count": 43,
   "metadata": {
    "ExecuteTime": {
     "end_time": "2020-10-28T09:25:24.850481Z",
     "start_time": "2020-10-28T09:25:24.818453Z"
    }
   },
   "outputs": [
    {
     "data": {
      "image/png": "[encoded data removed]"
     },
     "metadata": {},
     "output_type": "display_data"
    }
   ],
   "source": [
    "%%R -i p6_list_data\n",
    "\n",
    "# R Solution\n",
    "p6_list_data <- as.numeric(p6_list_data)\n",
    "\n",
    "boxplot(p6_list_data, horizontal=TRUE)"
   ]
  },
  {
   "cell_type": "markdown",
   "metadata": {},
   "source": [
    "<img src=\"images/1_3_and_1_4_problem_6c_solution.png\" alt=\"1_3_and_1_4_problem_6c_solution.png\" style=\"float:left;\">"
   ]
  },
  {
   "cell_type": "markdown",
   "metadata": {},
   "source": [
    "#### Comment on its features.\n",
    "<img src=\"images/1_3_and_1_4_problem_6c_comment_solution.png\" alt=\"1_3_and_1_4_problem_6c_comment_solution.png\" style=\"float:left;\">"
   ]
  },
  {
   "cell_type": "markdown",
   "metadata": {},
   "source": [
    "#### function: calculate_how_much_value_be_changed_till_fourth_spread_change"
   ]
  },
  {
   "cell_type": "code",
   "execution_count": 44,
   "metadata": {
    "ExecuteTime": {
     "end_time": "2020-10-28T09:25:24.866494Z",
     "start_time": "2020-10-28T09:25:24.851481Z"
    }
   },
   "outputs": [],
   "source": [
    "def calculate_how_much_value_be_changed_till_fourth_spread_change(value_to_change, list_given, value_add):\n",
    "    list_given_copy = list_given.copy()\n",
    "\n",
    "    current_fourth_spread = find_fourth_spread(list_given)[0]\n",
    "    index = list_given.index(value_to_change)\n",
    "\n",
    "    new_fourth_spread = current_fourth_spread\n",
    "    \n",
    "    while current_fourth_spread == new_fourth_spread:\n",
    "        list_given_copy[index] += value_add\n",
    "        new_fourth_spread = find_fourth_spread(list_given_copy)[0]\n",
    "\n",
    "    return list_given[index] - list_given_copy[index]"
   ]
  },
  {
   "cell_type": "markdown",
   "metadata": {},
   "source": [
    "<h3>(d) By how much could the largest observation, currently <font color=\"red\">425</font>, be decreased without affecting the value of the fourth spread?</h3>"
   ]
  },
  {
   "cell_type": "code",
   "execution_count": 45,
   "metadata": {
    "ExecuteTime": {
     "end_time": "2020-10-28T09:25:24.881507Z",
     "start_time": "2020-10-28T09:25:24.867495Z"
    }
   },
   "outputs": [
    {
     "data": {
      "text/plain": [
       "33"
      ]
     },
     "execution_count": 45,
     "metadata": {},
     "output_type": "execute_result"
    }
   ],
   "source": [
    "calculate_how_much_value_be_changed_till_fourth_spread_change(\n",
    "    425, p6_list_data, value_add=-1)"
   ]
  },
  {
   "cell_type": "code",
   "execution_count": 46,
   "metadata": {
    "ExecuteTime": {
     "end_time": "2020-10-28T09:25:24.896519Z",
     "start_time": "2020-10-28T09:25:24.882508Z"
    }
   },
   "outputs": [
    {
     "name": "stdout",
     "output_type": "stream",
     "text": [
      "33.0\n"
     ]
    }
   ],
   "source": [
    "\"\"\"\n",
    "Alternatively if you know what half 425 is in (upper_half) then you can just find the differnce between 425 and upper_fourth (a median)\n",
    "So 425 - 392 = 33\n",
    "\"\"\"\n",
    "# Max value of p6_list_data - upper_fourth\n",
    "print(p6_list_data[-1] - p6a_fouth_spread_values[3])"
   ]
  },
  {
   "cell_type": "markdown",
   "metadata": {},
   "source": [
    "# 7. DEVORESTAT9 1.E.508.XP.\n",
    "Consider the following observations on shear strength (MPa) of a joint bonded in a particular manner.\n",
    "\n",
    "<img src=\"images/1_3_and_1_4_problem_7.png\" alt=\"1_3_and_1_4_problem_7.png\" style=\"float:left;\">\n",
    "<table cellspacing=\"3\" cellpadding=\"3\"> <tbody><tr style=\"text-align:right\"> <td> &nbsp; <font color=\"red\">22.0</font> &nbsp; </td> <td> &nbsp; <font color=\"red\">40.4</font> &nbsp; </td> <td> &nbsp; <font color=\"red\">16.4</font> &nbsp; </td> <td> &nbsp; <font color=\"red\">73.4</font> &nbsp; </td> <td> &nbsp; <font color=\"red\">36.6</font> &nbsp; </td> <td> &nbsp; <font color=\"red\">108.6</font> &nbsp; </td> </tr> <tr style=\"text-align:right\"> <td> &nbsp; <font color=\"red\">30.0</font> &nbsp; </td> <td> &nbsp; <font color=\"red\">4.4</font> &nbsp; </td> <td> &nbsp; <font color=\"red\">33.1</font> &nbsp; </td> <td> &nbsp; <font color=\"red\">66.7</font> &nbsp; </td> <td> &nbsp; <font color=\"red\">81.5</font> &nbsp; </td> </tr> </tbody></table>"
   ]
  },
  {
   "cell_type": "code",
   "execution_count": 47,
   "metadata": {
    "ExecuteTime": {
     "end_time": "2020-10-28T09:25:24.912534Z",
     "start_time": "2020-10-28T09:25:24.897521Z"
    }
   },
   "outputs": [
    {
     "name": "stdout",
     "output_type": "stream",
     "text": [
      "[4.4, 16.4, 22.0, 30.0, 33.1, 36.6, 40.4, 66.7, 73.4, 81.5, 108.6]\n"
     ]
    }
   ],
   "source": [
    "string_data_7 = \"\"\"\n",
    "\n",
    "\n",
    "  22.0  \t  40.4  \t  16.4  \t  73.4  \t  36.6  \t  108.6  \n",
    "  30.0  \t  4.4  \t  33.1  \t  66.7  \t  81.5  \n",
    "\n",
    "\n",
    "\"\"\"\n",
    "p7_list_data = re.split(\"\\t|\\n\", string_data_7)\n",
    "p7_list_data = [i for i in p7_list_data if i != \"\"]\n",
    "p7_list_data = list(map(float, p7_list_data))\n",
    "p7_list_data.sort()\n",
    "print(p7_list_data)"
   ]
  },
  {
   "cell_type": "markdown",
   "metadata": {},
   "source": [
    "### (a) What are the values of the fourths? (Enter your answers to two decimal places.) \n",
    "### (c) How large or small does an observation have to be to qualify as an outlier? (Round your answers to one decimal place.)"
   ]
  },
  {
   "cell_type": "code",
   "execution_count": 48,
   "metadata": {
    "ExecuteTime": {
     "end_time": "2020-10-28T09:25:24.928547Z",
     "start_time": "2020-10-28T09:25:24.913536Z"
    }
   },
   "outputs": [
    {
     "name": "stdout",
     "output_type": "stream",
     "text": [
      "fourth Spread: 44.05000000000001\n",
      "Median: 36.6\n",
      "Lower fourth: 26.0\n",
      "Upper fourth: 70.05000000000001\n",
      "Outlier Lower: -40.07500000000002\n",
      "Outlier Upper: 136.12500000000003\n",
      "Outlier Lower Extreme: -106.15000000000003\n",
      "Outlier Upper Extreme: 202.20000000000005\n",
      "Box plot Minimum Tail: 4.4\n",
      "Box plot Maximum Tail: 108.6\n"
     ]
    }
   ],
   "source": [
    "text = \"\"\"\n",
    "(a) What are the values of the fourths? (Enter your answers to two decimal places.)\n",
    "(c) How large or small does an observation have to be to qualify as an outlier? (Round your answers to one decimal place.)\n",
    "\"\"\"\n",
    "# print(text)\n",
    "p7a_fouth_spread_values = find_fourth_spread(p7_list_data)\n",
    "\n",
    "print_fourth_spread(p7a_fouth_spread_values)"
   ]
  },
  {
   "cell_type": "markdown",
   "metadata": {},
   "source": [
    "### (b) Construct a boxplot based on the five-number summary.\n"
   ]
  },
  {
   "cell_type": "code",
   "execution_count": 49,
   "metadata": {
    "ExecuteTime": {
     "end_time": "2020-10-28T09:25:25.004910Z",
     "start_time": "2020-10-28T09:25:24.929549Z"
    },
    "scrolled": false
   },
   "outputs": [
    {
     "data": {
      "image/png": "[encoded data removed]",
      "text/plain": [
       "<Figure size 576x576 with 1 Axes>"
      ]
     },
     "metadata": {
      "needs_background": "light"
     },
     "output_type": "display_data"
    }
   ],
   "source": [
    "fig, ax = plt.subplots()\n",
    "fig.set_size_inches(8, 8)\n",
    "ax.boxplot(p7_list_data, vert=False)\n",
    "print(end=\"\")"
   ]
  },
  {
   "cell_type": "markdown",
   "metadata": {},
   "source": [
    "<img src=\"images/1_3_and_1_4_problem_7b_solution.png\" alt=\"1_3_and_1_4_problem_7b_solution.png\" style=\"float:left;\">"
   ]
  },
  {
   "cell_type": "markdown",
   "metadata": {},
   "source": [
    "#### Comment on its features. (Select all that apply.)\n",
    "<img src=\"images/1_3_and_1_4_problem_7b_comment_solution.png\" alt=\"1_3_and_1_4_problem_7b_comment_solution.png\" style=\"float:left;\">"
   ]
  },
  {
   "cell_type": "code",
   "execution_count": 50,
   "metadata": {
    "ExecuteTime": {
     "end_time": "2020-10-28T09:25:25.020923Z",
     "start_time": "2020-10-28T09:25:25.005911Z"
    }
   },
   "outputs": [
    {
     "name": "stdout",
     "output_type": "stream",
     "text": [
      "Mean: 46.64545454545455\n",
      "Median: 36.6\n",
      "Mean is ahead of Median so skew positive\n"
     ]
    }
   ],
   "source": [
    "print(\"Mean: {}\".format(np.mean(p7_list_data)))\n",
    "print(\"Median: {}\".format(np.median(p7_list_data)))\n",
    "print(\"Mean is ahead of Median so skew positive\")"
   ]
  },
  {
   "cell_type": "code",
   "execution_count": 51,
   "metadata": {
    "ExecuteTime": {
     "end_time": "2020-10-28T09:25:25.035937Z",
     "start_time": "2020-10-28T09:25:25.021925Z"
    }
   },
   "outputs": [
    {
     "name": "stdout",
     "output_type": "stream",
     "text": [
      "[1] 46.64545\n",
      "[1] 36.6\n"
     ]
    }
   ],
   "source": [
    "%%R -i p7_list_data\n",
    "\n",
    "# R Solution\n",
    "p7_list_data <- as.numeric(p7_list_data)\n",
    "\n",
    "print(mean(p7_list_data))\n",
    "print(median(p7_list_data))"
   ]
  },
  {
   "cell_type": "markdown",
   "metadata": {},
   "source": [
    "<h3>\n",
    "(d) By how much could the largest observation be decreased without affecting <i>f<sub>s</sub></i>?<br></h3>"
   ]
  },
  {
   "cell_type": "code",
   "execution_count": 52,
   "metadata": {
    "ExecuteTime": {
     "end_time": "2020-10-28T09:25:25.082889Z",
     "start_time": "2020-10-28T09:25:25.036938Z"
    }
   },
   "outputs": [
    {
     "name": "stdout",
     "output_type": "stream",
     "text": [
      "35.20\n"
     ]
    }
   ],
   "source": [
    "how_much = calculate_how_much_value_be_changed_till_fourth_spread_change(\n",
    "    108.6,\n",
    "    p7_list_data,\n",
    "    -.1)\n",
    "\n",
    "print(\"{:.2f}\".format(how_much))"
   ]
  },
  {
   "cell_type": "code",
   "execution_count": 53,
   "metadata": {
    "ExecuteTime": {
     "end_time": "2020-10-28T09:25:25.097902Z",
     "start_time": "2020-10-28T09:25:25.083891Z"
    }
   },
   "outputs": [
    {
     "name": "stdout",
     "output_type": "stream",
     "text": [
      "38.54999999999998\n"
     ]
    }
   ],
   "source": [
    "\"\"\"\n",
    "Alternatively if you know what half 108.6 is in (upper_half) then you can just find the differnce between 108.6 and upper_fourth (a median)\n",
    "So 108.6 - 70.05 = 38.54999999999998\n",
    "\n",
    "idk why this differs\n",
    "\"\"\"\n",
    "# Max value of p7_list_data - upper_fourth\n",
    "print(p7_list_data[-1] - p7a_fouth_spread_values[3])"
   ]
  }
 ],
 "metadata": {
  "kernelspec": {
   "display_name": "Python 3.8.5 64-bit Anaconda (Only works with Anaconda's Jupyter)",
   "language": "python",
   "name": "python3"
  },
  "language_info": {
   "codemirror_mode": {
    "name": "ipython",
    "version": 3
   },
   "file_extension": ".py",
   "mimetype": "text/x-python",
   "name": "python",
   "nbconvert_exporter": "python",
   "pygments_lexer": "ipython3",
   "version": "3.8.5"
  },
  "varInspector": {
   "cols": {
    "lenName": 16,
    "lenType": 16,
    "lenVar": 40
   },
   "kernels_config": {
    "python": {
     "delete_cmd_postfix": "",
     "delete_cmd_prefix": "del ",
     "library": "var_list.py",
     "varRefreshCmd": "print(var_dic_list())"
    },
    "r": {
     "delete_cmd_postfix": ") ",
     "delete_cmd_prefix": "rm(",
     "library": "var_list.r",
     "varRefreshCmd": "cat(var_dic_list()) "
    }
   },
   "types_to_exclude": [
    "module",
    "function",
    "builtin_function_or_method",
    "instance",
    "_Feature"
   ],
   "window_display": false
  }
 },
 "nbformat": 4,
 "nbformat_minor": 4
}

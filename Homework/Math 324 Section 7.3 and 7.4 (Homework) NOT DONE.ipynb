{
 "cells": [
  {
   "cell_type": "code",
   "execution_count": 1,
   "metadata": {
    "ExecuteTime": {
     "end_time": "2020-12-01T06:01:35.166533Z",
     "start_time": "2020-12-01T06:01:34.431902Z"
    }
   },
   "outputs": [
    {
     "name": "stderr",
     "output_type": "stream",
     "text": [
      "C:\\Users\\Joseph\\anaconda3\\lib\\site-packages\\rpy2\\robjects\\packages.py:365: UserWarning: The symbol 'quartz' is not in this R namespace/package.\n",
      "  warnings.warn(\n"
     ]
    }
   ],
   "source": [
    "import rpy2\n",
    "%load_ext rpy2.ipython"
   ]
  },
  {
   "cell_type": "code",
   "execution_count": 2,
   "metadata": {
    "ExecuteTime": {
     "end_time": "2020-12-01T06:01:35.182546Z",
     "start_time": "2020-12-01T06:01:35.168534Z"
    }
   },
   "outputs": [],
   "source": [
    "import numpy as np\n",
    "import pandas as pd\n"
   ]
  },
  {
   "cell_type": "code",
   "execution_count": 3,
   "metadata": {
    "ExecuteTime": {
     "end_time": "2020-12-01T06:01:35.198560Z",
     "start_time": "2020-12-01T06:01:35.184548Z"
    }
   },
   "outputs": [],
   "source": [
    "\"\"\"\n",
    "find_fourth_spread \n",
    "\"\"\"\n",
    "def _first_value_greater_than_min(list_given: list, minimum: int) -> int:\n",
    "    list_copy = list_given.copy()\n",
    "    list_copy.sort()\n",
    "    for i in list_copy:\n",
    "        if i > minimum:\n",
    "            return i\n",
    "\n",
    "\n",
    "def _first_value_less_than_max(list_given: list, maximum: int) -> int:\n",
    "    list_copy = list_given.copy()\n",
    "    list_copy.sort()\n",
    "    list_copy.reverse()\n",
    "    for i in list_copy:\n",
    "        if i < maximum:\n",
    "            return i\n",
    "\n",
    "\n",
    "def find_fourth_spread(list_given: list):\n",
    "    list_given.sort()\n",
    "\n",
    "    length_list = len(list_given)\n",
    "    split_size = int(length_list / 2 if length_list % 2 == 0 else length_list // 2 + 1)\n",
    "\n",
    "    # Middle line in Box in Box plot\n",
    "    median = np.median(list_given)\n",
    "\n",
    "    # Split lists\n",
    "    lower_half = list_given[:split_size]\n",
    "    upper_half = list_given[-split_size:]\n",
    "\n",
    "    # Left part of Box in Box plot\n",
    "    lower_fourth = np.median(lower_half)\n",
    "\n",
    "    # Right part of Box in Box plot\n",
    "    upper_fourth = np.median(upper_half)\n",
    "\n",
    "    # Range of Box plot\n",
    "    fourth_spread = upper_fourth - lower_fourth\n",
    "\n",
    "    # Min and Max Limit before values become outliers\n",
    "    outlier_lower = lower_fourth - 1.5 * fourth_spread\n",
    "    outlier_upper = upper_fourth + 1.5 * fourth_spread\n",
    "\n",
    "    # Minimum tail for Box Plot\n",
    "    minimum_tail_before_outlier = _first_value_greater_than_min(list_given, outlier_lower)\n",
    "\n",
    "    # Maximum tail for Box Plot\n",
    "    maximum_tail_before_outlier = _first_value_less_than_max(list_given, outlier_upper)\n",
    "\n",
    "    outlier_lower_ex = lower_fourth - 3 * fourth_spread\n",
    "    outlier_upper_ex = upper_fourth + 3 * fourth_spread\n",
    "\n",
    "    return fourth_spread, median, lower_fourth, upper_fourth, outlier_lower, outlier_upper, outlier_lower_ex, outlier_upper_ex, minimum_tail_before_outlier, maximum_tail_before_outlier\n",
    "\n",
    "\n",
    "def print_fourth_spread(find_fourth_spread_output):\n",
    "    print(\"fourth Spread: {}\".format(find_fourth_spread_output[0]))\n",
    "    print(\"Median: {}\".format(find_fourth_spread_output[1]))\n",
    "    print(\"Lower fourth: {}\".format(find_fourth_spread_output[2]))\n",
    "    print(\"Upper fourth: {}\".format(find_fourth_spread_output[3]))\n",
    "    print(\"Outlier Lower: {}\".format(find_fourth_spread_output[4]))\n",
    "    print(\"Outlier Upper: {}\".format(find_fourth_spread_output[5]))\n",
    "    print(\"Outlier Lower Extreme: {}\".format(find_fourth_spread_output[6]))\n",
    "    print(\"Outlier Upper Extreme: {}\".format(find_fourth_spread_output[7]))\n",
    "    print(\"Box plot Minimum Tail: {}\".format(find_fourth_spread_output[8]))\n",
    "    print(\"Box plot Maximum Tail: {}\".format(find_fourth_spread_output[9]))\n",
    "\n",
    "\n",
    "def fourth_spread_solver(list_given):\n",
    "    fourth_spread_values = find_fourth_spread(list_given)\n",
    "    print_fourth_spread(fourth_spread_values)\n",
    "    return (fourth_spread_values)\n"
   ]
  },
  {
   "cell_type": "code",
   "execution_count": null,
   "metadata": {},
   "outputs": [],
   "source": []
  },
  {
   "cell_type": "code",
   "execution_count": null,
   "metadata": {},
   "outputs": [],
   "source": []
  },
  {
   "cell_type": "markdown",
   "metadata": {
    "ExecuteTime": {
     "end_time": "2020-11-07T04:15:22.728692Z",
     "start_time": "2020-11-07T04:15:22.725690Z"
    }
   },
   "source": [
    "# 2. DEVORESTAT9 7.E.033.\n",
    "An article contained the following observations on degree of polymerization for paper specimens for which viscosity times concentration fell in a certain middle range:"
   ]
  },
  {
   "cell_type": "code",
   "execution_count": 4,
   "metadata": {
    "ExecuteTime": {
     "end_time": "2020-12-01T06:01:35.214563Z",
     "start_time": "2020-12-01T06:01:35.200562Z"
    }
   },
   "outputs": [
    {
     "name": "stdout",
     "output_type": "stream",
     "text": [
      "[417, 421, 421, 422, 425, 427, 432, 434, 437, 438, 446, 447, 449, 452, 456, 462, 465]\n",
      "17\n"
     ]
    }
   ],
   "source": [
    "p2_data = \"\"\"\n",
    "417\n",
    "421\n",
    "421\n",
    "422\n",
    "425\n",
    "427\n",
    "432\n",
    "434\n",
    "437\n",
    "438\n",
    "446\n",
    "447\n",
    "449\n",
    "452\n",
    "456\n",
    "462\n",
    "465\"\"\"\n",
    "\n",
    "p2_list_data = p2_data.split(\"\\n\")\n",
    "p2_list_data = [int(i) for i in p2_list_data if i]\n",
    "print(p2_list_data)\n",
    "p2_len_list = len(p2_list_data)\n",
    "print(p2_len_list)"
   ]
  },
  {
   "cell_type": "code",
   "execution_count": 5,
   "metadata": {
    "ExecuteTime": {
     "end_time": "2020-12-01T06:01:35.229576Z",
     "start_time": "2020-12-01T06:01:35.215564Z"
    }
   },
   "outputs": [
    {
     "name": "stdout",
     "output_type": "stream",
     "text": [
      "Mean: 438.29411764705884\n",
      "SD: 15.222371307890704\n",
      "\n",
      "fourth Spread: 24.0\n",
      "Median: 437.0\n",
      "Lower fourth: 425.0\n",
      "Upper fourth: 449.0\n",
      "Outlier Lower: 389.0\n",
      "Outlier Upper: 485.0\n",
      "Outlier Lower Extreme: 353.0\n",
      "Outlier Upper Extreme: 521.0\n",
      "Box plot Minimum Tail: 417\n",
      "Box plot Maximum Tail: 465\n"
     ]
    },
    {
     "data": {
      "text/plain": [
       "(24.0, 437.0, 425.0, 449.0, 389.0, 485.0, 353.0, 521.0, 417, 465)"
      ]
     },
     "execution_count": 5,
     "metadata": {},
     "output_type": "execute_result"
    }
   ],
   "source": [
    "p2a_mean = np.mean(p2_list_data)\n",
    "print(\"Mean: {}\".format(p2a_mean))\n",
    "p2a_sd = np.std(p2_list_data, ddof=1)\n",
    "print(\"SD: {}\".format(p2a_sd))\n",
    "print()\n",
    "fourth_spread_solver(p2_list_data)\n"
   ]
  },
  {
   "cell_type": "code",
   "execution_count": 6,
   "metadata": {
    "ExecuteTime": {
     "end_time": "2020-12-01T06:01:35.493801Z",
     "start_time": "2020-12-01T06:01:35.230577Z"
    }
   },
   "outputs": [
    {
     "data": {
      "image/png": "[encoded data removed]",
      "text/plain": [
       "<Figure size 576x576 with 1 Axes>"
      ]
     },
     "metadata": {
      "needs_background": "light"
     },
     "output_type": "display_data"
    }
   ],
   "source": [
    "import matplotlib.pyplot as plt\n",
    "\n",
    "fig, ax = plt.subplots()\n",
    "fig.set_size_inches(8, 8)\n",
    "ax.boxplot(p2_list_data, vert=False)  # Notice no outliers\n",
    "print(end=\"\")"
   ]
  },
  {
   "cell_type": "code",
   "execution_count": 7,
   "metadata": {
    "ExecuteTime": {
     "end_time": "2020-12-01T06:01:35.541842Z",
     "start_time": "2020-12-01T06:01:35.494802Z"
    },
    "scrolled": false
   },
   "outputs": [
    {
     "data": {
      "image/png": "[encoded data removed]"
     },
     "metadata": {},
     "output_type": "display_data"
    }
   ],
   "source": [
    "%%R -i p2_list_data -w 600 -h 600\n",
    "\n",
    "# R Solution\n",
    "p6_list_data <- as.numeric(p2_list_data)\n",
    "\n",
    "boxplot(p6_list_data, horizontal=TRUE)"
   ]
  },
  {
   "cell_type": "code",
   "execution_count": 18,
   "metadata": {
    "ExecuteTime": {
     "end_time": "2020-12-01T06:44:00.703908Z",
     "start_time": "2020-12-01T06:44:00.676886Z"
    }
   },
   "outputs": [
    {
     "name": "stdout",
     "output_type": "stream",
     "text": [
      "[1] 430.4675\n",
      "[1] 446.1207\n"
     ]
    }
   ],
   "source": [
    "%%R -i p2_list_data -i p2_len_list\n",
    "\n",
    "p2_vector_data <- unlist(p2_list_data, use.names = FALSE)\n",
    "\n",
    "p2_c_upperbound = mean(p2_vector_data) + qt(.975, 17 -1 ) * sd(p2_vector_data)/sqrt(p2_len_list)\n",
    "p2_c_lowerbound = mean(p2_vector_data) - qt(.975, 17 -1 ) * sd(p2_vector_data)/sqrt(p2_len_list)\n",
    "print(p2_c_lowerbound)\n",
    "print(p2_c_upperbound)"
   ]
  },
  {
   "cell_type": "code",
   "execution_count": null,
   "metadata": {},
   "outputs": [],
   "source": []
  },
  {
   "cell_type": "code",
   "execution_count": 9,
   "metadata": {
    "ExecuteTime": {
     "end_time": "2020-12-01T06:01:35.589883Z",
     "start_time": "2020-12-01T06:01:35.574871Z"
    }
   },
   "outputs": [],
   "source": [
    "# probelm 3"
   ]
  },
  {
   "cell_type": "code",
   "execution_count": 10,
   "metadata": {
    "ExecuteTime": {
     "end_time": "2020-12-01T06:01:35.605897Z",
     "start_time": "2020-12-01T06:01:35.590884Z"
    }
   },
   "outputs": [
    {
     "name": "stdout",
     "output_type": "stream",
     "text": [
      "[1] 8.183882\n"
     ]
    }
   ],
   "source": [
    "%%R\n",
    "8.47 - qt(.95, 20-1) * .74/sqrt(20)"
   ]
  },
  {
   "cell_type": "code",
   "execution_count": 11,
   "metadata": {
    "ExecuteTime": {
     "end_time": "2020-12-01T06:01:35.621911Z",
     "start_time": "2020-12-01T06:01:35.606898Z"
    }
   },
   "outputs": [
    {
     "name": "stdout",
     "output_type": "stream",
     "text": [
      "[1] 7.158843\n"
     ]
    }
   ],
   "source": [
    "%%R\n",
    "8.47 - qt(.95, 20-1) * .74 * sqrt(1 + 1/20)"
   ]
  },
  {
   "cell_type": "code",
   "execution_count": null,
   "metadata": {},
   "outputs": [],
   "source": []
  },
  {
   "cell_type": "code",
   "execution_count": 12,
   "metadata": {
    "ExecuteTime": {
     "end_time": "2020-12-01T06:01:35.637660Z",
     "start_time": "2020-12-01T06:01:35.622912Z"
    }
   },
   "outputs": [],
   "source": [
    "# probelm 4\n"
   ]
  },
  {
   "cell_type": "code",
   "execution_count": 13,
   "metadata": {
    "ExecuteTime": {
     "end_time": "2020-12-01T06:01:35.653674Z",
     "start_time": "2020-12-01T06:01:35.638662Z"
    }
   },
   "outputs": [
    {
     "name": "stdout",
     "output_type": "stream",
     "text": [
      "[1] 24.3033\n",
      "[1] 27.6967\n"
     ]
    }
   ],
   "source": [
    "%%R\n",
    "p4_lowerbound = 26 - qt(.975, 17-1) * 3.3/sqrt(17)\n",
    "\n",
    "p4_upperbound = 26 + qt(.975, 17-1) * 3.3/sqrt(17)\n",
    "\n",
    "print(p4_lowerbound)\n",
    "print(p4_upperbound)"
   ]
  },
  {
   "cell_type": "code",
   "execution_count": 14,
   "metadata": {
    "ExecuteTime": {
     "end_time": "2020-12-01T06:01:35.668686Z",
     "start_time": "2020-12-01T06:01:35.654674Z"
    },
    "scrolled": true
   },
   "outputs": [
    {
     "name": "stdout",
     "output_type": "stream",
     "text": [
      "[1] 18.8015\n",
      "[1] 33.1985\n"
     ]
    }
   ],
   "source": [
    "%%R\n",
    "\n",
    "p4_lowerbound = 26 - qt(.975, 17-1) * 3.3 * sqrt(1 + 1/17)\n",
    "\n",
    "p4_upperbound = 26 + qt(.975, 17-1) * 3.3 * sqrt(1 + 1/17)\n",
    "\n",
    "print(p4_lowerbound)\n",
    "print(p4_upperbound)"
   ]
  },
  {
   "cell_type": "code",
   "execution_count": null,
   "metadata": {},
   "outputs": [],
   "source": []
  },
  {
   "cell_type": "code",
   "execution_count": 15,
   "metadata": {
    "ExecuteTime": {
     "end_time": "2020-12-01T06:01:35.684701Z",
     "start_time": "2020-12-01T06:01:35.669687Z"
    }
   },
   "outputs": [],
   "source": [
    "# DEVORESTAT9 7.E.044.\n",
    "# 5"
   ]
  },
  {
   "cell_type": "code",
   "execution_count": 16,
   "metadata": {
    "ExecuteTime": {
     "end_time": "2020-12-01T06:01:35.699713Z",
     "start_time": "2020-12-01T06:01:35.685702Z"
    }
   },
   "outputs": [
    {
     "name": "stdout",
     "output_type": "stream",
     "text": [
      "[1] 3.187064\n",
      "[1] 49.20287\n"
     ]
    }
   ],
   "source": [
    "%%R\n",
    "\n",
    "\n",
    "## NOTICE THE THAT UPPER REQUIRES THE chisq of teh LOWER\n",
    "p5_upperbound = (6 - 1)*(2.86)^2/(qchisq(.025, 6- 1))\n",
    "\n",
    "p5_lowerbound = (6 - 1)*(2.86)^2/(qchisq(.975, 6- 1))\n",
    "\n",
    "\n",
    "print(p5_lowerbound)\n",
    "print(p5_upperbound)"
   ]
  },
  {
   "cell_type": "code",
   "execution_count": 17,
   "metadata": {
    "ExecuteTime": {
     "end_time": "2020-12-01T06:01:35.714725Z",
     "start_time": "2020-12-01T06:01:35.700714Z"
    }
   },
   "outputs": [
    {
     "name": "stdout",
     "output_type": "stream",
     "text": [
      "[1] 1.785235\n",
      "[1] 7.014476\n"
     ]
    }
   ],
   "source": [
    "%%R\n",
    "\n",
    "\n",
    "print(sqrt(p5_lowerbound))\n",
    "print(sqrt(p5_upperbound))"
   ]
  }
 ],
 "metadata": {
  "kernelspec": {
   "display_name": "Python 3.8.5 64-bit Anaconda (Only works with Anaconda's Jupyter)",
   "language": "python",
   "name": "python_3.8.5_64-bit_anaconda"
  },
  "language_info": {
   "codemirror_mode": {
    "name": "ipython",
    "version": 3
   },
   "file_extension": ".py",
   "mimetype": "text/x-python",
   "name": "python",
   "nbconvert_exporter": "python",
   "pygments_lexer": "ipython3",
   "version": "3.8.5"
  },
  "varInspector": {
   "cols": {
    "lenName": 16,
    "lenType": 16,
    "lenVar": 40
   },
   "kernels_config": {
    "python": {
     "delete_cmd_postfix": "",
     "delete_cmd_prefix": "del ",
     "library": "var_list.py",
     "varRefreshCmd": "print(var_dic_list())"
    },
    "r": {
     "delete_cmd_postfix": ") ",
     "delete_cmd_prefix": "rm(",
     "library": "var_list.r",
     "varRefreshCmd": "cat(var_dic_list()) "
    }
   },
   "types_to_exclude": [
    "module",
    "function",
    "builtin_function_or_method",
    "instance",
    "_Feature"
   ],
   "window_display": false
  }
 },
 "nbformat": 4,
 "nbformat_minor": 4
}

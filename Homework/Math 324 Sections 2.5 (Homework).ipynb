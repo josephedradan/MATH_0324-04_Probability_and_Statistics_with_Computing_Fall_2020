{
 "cells": [
  {
   "cell_type": "markdown",
   "metadata": {},
   "source": [
    "Independent  \n",
    "    <li>probability does not change</li> \n",
    "    <li>events can happen at the same time (events are not related)</li> \n",
    "   \n",
    "Mutually exclusive \n",
    "    <li>probability does change</li> \n",
    "    <li> events cannot happen at the same time</li> \n",
    "    \n",
    "Union = Logical Or\n",
    "\n",
    "Intersection = Logical And"
   ]
  },
  {
   "cell_type": "markdown",
   "metadata": {},
   "source": [
    "<img src=\"images\\jbstatistics_ind_eve_1.png\" alt=\"jbstatistics_independent_events_1.png\" style=\"float:left;\">\n",
    "<img src=\"images\\jbstatistics_ind_eve_2.png\" alt=\"jbstatistics_independent_events_2.png\" style=\"float:left;\">\n",
    "<img src=\"images\\stat_trek_rule_of_subtraction.png\" alt=\"stat_trek_rule_of_subtraction.png\" style=\"float:left;\">\n",
    "<img src=\"images\\stat_trek_rule_of_multiplication.png\" alt=\"stat_trek_rule_of_multiplication.png\" style=\"float:left;\">\n",
    "<img src=\"images\\stat_trek_rule_of_addition.png\" alt=\"stat_trek_rule_of_addition.png\" style=\"float:left;\">"
   ]
  },
  {
   "cell_type": "markdown",
   "metadata": {},
   "source": [
    "# 1. DEVORESTAT9 2.E.075.\n",
    "One of the assumptions underlying the theory of control charting is that successive plotted points are independent of one another. Each plotted point can signal either that a manufacturing process is operating correctly or that there is some sort of malfunction. Even when a process is running correctly, there is a small probability that a particular point will signal a problem with the process. Suppose that this probability is 0.03. \n",
    "\n",
    "### What is the probability that at least one of 10 successive points indicates a problem when in fact the process is operating correctly? (Round your answer to three decimal places.)"
   ]
  },
  {
   "cell_type": "code",
   "execution_count": 1,
   "metadata": {
    "ExecuteTime": {
     "end_time": "2020-09-17T07:40:52.733426Z",
     "start_time": "2020-09-17T07:40:52.731425Z"
    }
   },
   "outputs": [],
   "source": [
    "p1_prob_that_particular_point_will_signal_problem = .03\n",
    "p1_sucessive_points_part_1 = 10"
   ]
  },
  {
   "cell_type": "code",
   "execution_count": 2,
   "metadata": {
    "ExecuteTime": {
     "end_time": "2020-09-17T07:40:52.744436Z",
     "start_time": "2020-09-17T07:40:52.734427Z"
    },
    "scrolled": true
   },
   "outputs": [
    {
     "name": "stdout",
     "output_type": "stream",
     "text": [
      "0.263\n"
     ]
    }
   ],
   "source": [
    "\"\"\"\n",
    "Explanation:\n",
    "\n",
    "    Current Form:\n",
    "        P(A1 UNION A2 UNION A3 UNION A4 UNION A5 UNION A6 UNION A7 UNION A8 UNION A9 UNION A10)\n",
    "    \n",
    "    Know:\n",
    "        Rule of Subtraction. Alternative equivalence (P(A) = 1 - Complement of A)\n",
    "            P(A) = 1 - P(A')\n",
    "            \n",
    "        Application of De Morgans law\n",
    "            P(A UNION B) = 1 - P(A' INTERSECT B')\n",
    "        \n",
    "        Multiplication Rule for Independent Events (Because we have an INTERSECTION)\n",
    "            P(A INTERSECT B) = P(A) * P(B)\n",
    "        \n",
    "        So\n",
    "            P(A' INTERSECT B') = P(A') * P(B')\n",
    "            \n",
    "    So:\n",
    "        P(A1 UNION A2 UNION A3 UNION A4 UNION A5 UNION A6 UNION A7 UNION A8 UNION A9 UNION A10) =\n",
    "        \n",
    "        1 - (\n",
    "            P(1 -P(A1)) * \n",
    "            P(1 -P(A2)) *\n",
    "            P(1 -P(A3)) *\n",
    "            P(1 -P(A4)) *\n",
    "            P(1 -P(A5)) *\n",
    "            P(1 -P(A6)) *\n",
    "            P(1 -P(A7)) *\n",
    "            P(1 -P(A8)) *\n",
    "            P(1 -P(A9)) *\n",
    "            P(1 -P(A10))\n",
    "            ) = \n",
    "        \n",
    "        1 - (P(1 -P(A)))^n where n = 10 \n",
    "\n",
    "\"\"\"\n",
    "\n",
    "# Complement\n",
    "p1_prob_that_particular_point_will_signal_problem_complement = (\n",
    "    1 - p1_prob_that_particular_point_will_signal_problem)\n",
    "\n",
    "# Alternative naming of the Complement\n",
    "p1_prob_that_particular_point_will_not_signal_problem = p1_prob_that_particular_point_will_signal_problem_complement\n",
    "\n",
    "# Stating the answer in terms of the complement which would all for the multiplication rule for indepenedent events\n",
    "p1_prob_at_least_1_of_10_successive_points_indicate_a_prblem = (\n",
    "    1 - (p1_prob_that_particular_point_will_not_signal_problem ** p1_sucessive_points_part_1))\n",
    "\n",
    "print(f\"{p1_prob_at_least_1_of_10_successive_points_indicate_a_prblem:.3f}\")"
   ]
  },
  {
   "cell_type": "markdown",
   "metadata": {},
   "source": [
    "### What is the probability that at least one of 25 successive points indicates a problem when in fact the process is operating correctly? (Round your answer to three decimal places.)"
   ]
  },
  {
   "cell_type": "code",
   "execution_count": 3,
   "metadata": {
    "ExecuteTime": {
     "end_time": "2020-09-17T07:40:52.752443Z",
     "start_time": "2020-09-17T07:40:52.745437Z"
    }
   },
   "outputs": [
    {
     "name": "stdout",
     "output_type": "stream",
     "text": [
      "0.533\n"
     ]
    }
   ],
   "source": [
    "p1_sucessive_points_part_2 = 25\n",
    "\n",
    "p1_at_least_25_successive_points_indicate_a_problem = (\n",
    "    1 - (p1_prob_that_particular_point_will_signal_problem_complement ** p1_sucessive_points_part_2))\n",
    "\n",
    "print(f\"{p1_at_least_25_successive_points_indicate_a_problem:.3f}\")"
   ]
  },
  {
   "cell_type": "markdown",
   "metadata": {},
   "source": [
    "# 2. DEVORESTAT9 2.E.078.\n",
    "A boiler has five identical relief valves. The probability that any particular valve will open on demand is 0.95. Assume independent operation of the valves."
   ]
  },
  {
   "cell_type": "code",
   "execution_count": 4,
   "metadata": {
    "ExecuteTime": {
     "end_time": "2020-09-17T07:40:52.759449Z",
     "start_time": "2020-09-17T07:40:52.753443Z"
    }
   },
   "outputs": [],
   "source": [
    "p2_boiler_relief_valves = 5\n",
    "p2_prob_that_any_valve_will_open_on_demand = .95  # Any is at least 1 to Max"
   ]
  },
  {
   "cell_type": "markdown",
   "metadata": {
    "ExecuteTime": {
     "end_time": "2020-09-16T01:07:41.807449Z",
     "start_time": "2020-09-16T01:07:41.804520Z"
    }
   },
   "source": [
    "### Calculate P(at least one valve opens). (Round your answer to eight decimal places.)\n"
   ]
  },
  {
   "cell_type": "code",
   "execution_count": 5,
   "metadata": {
    "ExecuteTime": {
     "end_time": "2020-09-17T07:40:52.767455Z",
     "start_time": "2020-09-17T07:40:52.760449Z"
    }
   },
   "outputs": [
    {
     "name": "stdout",
     "output_type": "stream",
     "text": [
      "0.99999969\n"
     ]
    }
   ],
   "source": [
    "\"\"\"\n",
    "You are looking for\n",
    "    P(at least one valve opens) \n",
    "    \n",
    "Given: \n",
    "    P(any valve will open)  # At least 1 \n",
    "    \n",
    "Complement: \n",
    "    P(all valve will not open)\n",
    "\n",
    "Explanation:\n",
    "    P(at least one valve opens) = P(A1 UNION A2 UNION A3 UNION A4 UNION A5)\n",
    "                                = 1 - P(A1' INTERSECT A2' INTERSECT A3' INTERSECT A4' INTERSECT A5')\n",
    "                                = 1 - P(A1') * P(A2') * P(A3') * P(A4') * P(A5')\n",
    "\"\"\"\n",
    "\n",
    "p2_prob_that_any_valve_will_open_on_demand_complement = (\n",
    "    1 - p2_prob_that_any_valve_will_open_on_demand)\n",
    "\n",
    "# Opposite of Any (at least 1) is All\n",
    "p2_prob_all_valves_will_not_open = p2_prob_that_any_valve_will_open_on_demand_complement\n",
    "\n",
    "# Since we have the intersection we can multiple\n",
    "p2_at_least_1_valve_open = 1 - (p2_prob_all_valves_will_not_open ** 5)\n",
    "print(f\"{p2_at_least_1_valve_open:.8f}\")"
   ]
  },
  {
   "cell_type": "markdown",
   "metadata": {},
   "source": [
    "### Calculate P(at least one valve fails to open). (Round your answer to four decimal places.)\n"
   ]
  },
  {
   "cell_type": "code",
   "execution_count": 6,
   "metadata": {
    "ExecuteTime": {
     "end_time": "2020-09-17T07:40:52.774461Z",
     "start_time": "2020-09-17T07:40:52.768457Z"
    }
   },
   "outputs": [
    {
     "name": "stdout",
     "output_type": "stream",
     "text": [
      "0.2262\n"
     ]
    }
   ],
   "source": [
    "\"\"\"\n",
    "You are looking for\n",
    "    P(at least one valve fails to open)\n",
    "\n",
    "Given: \n",
    "    P(any valve will open)\n",
    "\n",
    "Complement: \n",
    "    P(all valve will not open)\n",
    "\n",
    "Explanation:\n",
    "    This the opposite of P(at least one valve opens)\n",
    "    You know the Complement of The Complement is the given so instead of using\n",
    "    the Complement like the last one, you use the given instead\n",
    "    \n",
    "    Solving the question relative to P(at least one valve fails to open) \n",
    "        P(at least one valve fails to open) = P(A1 UNION A2 UNION A3 UNION A4 UNION A5)\n",
    "                                            = 1 - P(A1' INTERSECT A2' INTERSECT A3' INTERSECT A4' INTERSECT A5')\n",
    "                                            = 1 - P(A1') * P(A2') * P(A3') * P(A4') * P(A5')\n",
    "    \n",
    "    Solving the equation relative to what you are given\n",
    "        P(at least one valve fails to open) = P(A1' UNION A2' UNION A3' UNION A4' UNION A5')\n",
    "                                            = 1 - P(A1 INTERSECT A2 INTERSECT A3 INTERSECT A4 INTERSECT A5)\n",
    "                                            = 1 - P(A1) * P(A2) * P(A3) * P(A4) * P(A5)\n",
    "\"\"\"\n",
    "\n",
    "p2_at_least_1_valve_does_not_open = (\n",
    "    1 - (p2_prob_that_any_valve_will_open_on_demand ** 5))\n",
    "\n",
    "\n",
    "print(f\"{p2_at_least_1_valve_does_not_open:.4f}\")"
   ]
  },
  {
   "cell_type": "markdown",
   "metadata": {},
   "source": [
    "# 3. DEVORESTAT9 2.E.080.\n",
    "Consider the system of components connected as in the accompanying picture. Components 1 and 2 are connected in parallel, so that subsystem works if and only if either 1 or 2 works; since 3 and 4 are connected in series, that subsystem works if and only if both 3 and 4 work. If components work independently of one another and \n",
    "\n",
    "P(component i works) = 0.84 for i = 1, 2 and = 0.64 for i = 3, 4,\n",
    "\n",
    "### calculate P(system works). (Round your answer to four decimal places.)"
   ]
  },
  {
   "cell_type": "code",
   "execution_count": 7,
   "metadata": {
    "ExecuteTime": {
     "end_time": "2020-09-17T07:40:52.781467Z",
     "start_time": "2020-09-17T07:40:52.777464Z"
    }
   },
   "outputs": [],
   "source": [
    "p3_components_independent_and_P_componenet_i_works_for_1_2 = 0.84\n",
    "p3_components_independent_and_P_componenet_i_works_for_3_4 = 0.64"
   ]
  },
  {
   "cell_type": "markdown",
   "metadata": {},
   "source": [
    "<img src=\"images/2_5_problem_3.png\" alt=\"images/2_5_problem_3.png\" style=\"float:left;\">"
   ]
  },
  {
   "cell_type": "markdown",
   "metadata": {
    "ExecuteTime": {
     "end_time": "2020-09-16T02:58:52.279618Z",
     "start_time": "2020-09-16T02:58:52.276689Z"
    }
   },
   "source": [
    "### calculate P(system works). (Round your answer to four decimal places.)\n"
   ]
  },
  {
   "cell_type": "code",
   "execution_count": 8,
   "metadata": {
    "ExecuteTime": {
     "end_time": "2020-09-17T07:40:52.788473Z",
     "start_time": "2020-09-17T07:40:52.781467Z"
    }
   },
   "outputs": [
    {
     "name": "stdout",
     "output_type": "stream",
     "text": [
      "0.9849\n"
     ]
    }
   ],
   "source": [
    "\"\"\"\n",
    "Given\n",
    "    P((1 OR 2) OR (3 AND 4)) =\n",
    "    P((1 || 2) || (3 && 4)) = \n",
    "    P((1 UNION 2) UNION (3 INTERSECT 4))\n",
    "    \n",
    "\n",
    "    Substitute top 1st UNION for bottom equivalance\n",
    "        P(1 UNION 2) = P(1) + P(2) - P(1 INTERSECT 2)\n",
    "\n",
    "    Result\n",
    "        P((P(1) + P(2) - P(1 INTERSECT 2)) UNION (3 INTERSECT 4))\n",
    "\n",
    "    Substitute top 2nd UNION for bottom equivalance\n",
    "        (P(1) + P(2) - P(1 INTERSECT 2)) UNION (3 INTERSECT 4) =\n",
    "                                                                (P(1) + P(2) - P(1 INTERSECT 2)) + (3 INTERSECT 4) - \n",
    "                                                                ((P(1) + P(2) - P(1 INTERSECT 2)) INSERSECT (3 INTERSECT 4))\n",
    "\n",
    "    Result\n",
    "        P((P(1) + P(2) - P(1 INTERSECT 2)) + (3 INTERSECT 4) - ((P(1) + P(2) - P(1 INTERSECT 2)) INSERSECT (3 INTERSECT 4)))\n",
    "\n",
    "\n",
    "\"\"\"\n",
    "# Short hand names for less words\n",
    "p3_1_2 = p3_components_independent_and_P_componenet_i_works_for_1_2\n",
    "p3_3_4 = p3_components_independent_and_P_componenet_i_works_for_3_4\n",
    "\n",
    "p3_P_system_works = (\n",
    "    (p3_1_2 + p3_1_2 - (p3_1_2 * p3_1_2)) + (p3_3_4 * p3_3_4) -\n",
    "    ((p3_1_2 + p3_1_2 - (p3_1_2 * p3_1_2)) * (p3_3_4 * p3_3_4))\n",
    ")\n",
    "\n",
    "print(f\"{p3_P_system_works:.4f}\")"
   ]
  },
  {
   "cell_type": "markdown",
   "metadata": {},
   "source": [
    "# 4. DEVORESTAT9 2.E.084.\n",
    "Consider purchasing a system of audio components consisting of a receiver, a pair of speakers, and a CD player. Let \n",
    "\n",
    "A1\n",
    " be the event that the receiver functions properly throughout the warranty period, \n",
    "A2\n",
    " be the event that the speakers function properly throughout the warranty period, and\n",
    " \n",
    "A3\n",
    " be the event that the CD player functions properly throughout the warranty period. Suppose that these events are (mutually) independent with \n",
    " \n",
    "P(A1) = 0.97,\n",
    " \n",
    "P(A2) = 0.91,\n",
    " and \n",
    " \n",
    "P(A3) = 0.90.\n",
    "\n",
    " (Round your answers to four decimal places.)"
   ]
  },
  {
   "cell_type": "code",
   "execution_count": 9,
   "metadata": {
    "ExecuteTime": {
     "end_time": "2020-09-17T07:40:52.796480Z",
     "start_time": "2020-09-17T07:40:52.789474Z"
    }
   },
   "outputs": [
    {
     "name": "stdout",
     "output_type": "stream",
     "text": [
      "0.0300\n",
      "0.0900\n",
      "0.1000\n"
     ]
    }
   ],
   "source": [
    "p4_P_A1_work_properly_throughout_warranty_period = 0.97\n",
    "p4_P_A2_work_properly_throughout_warranty_period = 0.91\n",
    "p4_P_A3_work_properly_throughout_warranty_period = 0.90\n",
    "\n",
    "# Complements\n",
    "p4_P_A1_work_properly_throughout_warranty_period_complement = (\n",
    "    1 - p4_P_A1_work_properly_throughout_warranty_period)\n",
    "\n",
    "p4_P_A2_work_properly_throughout_warranty_period_complement = (\n",
    "    1 - p4_P_A2_work_properly_throughout_warranty_period)\n",
    "\n",
    "p4_P_A3_work_properly_throughout_warranty_period_complement = (\n",
    "    1 - p4_P_A3_work_properly_throughout_warranty_period)\n",
    "\n",
    "# Complement rename\n",
    "p4_P_A1_wont_work_properly_throughout_warranty_period = p4_P_A1_work_properly_throughout_warranty_period_complement\n",
    "p4_P_A2_wont_work_properly_throughout_warranty_period = p4_P_A2_work_properly_throughout_warranty_period_complement\n",
    "p4_P_A3_wont_work_properly_throughout_warranty_period = p4_P_A3_work_properly_throughout_warranty_period_complement\n",
    "\n",
    "print(f\"{p4_P_A1_wont_work_properly_throughout_warranty_period:.4f}\")\n",
    "print(f\"{p4_P_A2_wont_work_properly_throughout_warranty_period:.4f}\")\n",
    "print(f\"{p4_P_A3_wont_work_properly_throughout_warranty_period:.4f}\")"
   ]
  },
  {
   "cell_type": "markdown",
   "metadata": {
    "ExecuteTime": {
     "end_time": "2020-09-16T03:24:27.754589Z",
     "start_time": "2020-09-16T03:24:27.751660Z"
    }
   },
   "source": [
    "### (a) What is the probability that all three components function properly throughout the warranty period?"
   ]
  },
  {
   "cell_type": "code",
   "execution_count": 10,
   "metadata": {
    "ExecuteTime": {
     "end_time": "2020-09-17T07:40:52.802485Z",
     "start_time": "2020-09-17T07:40:52.797481Z"
    }
   },
   "outputs": [
    {
     "name": "stdout",
     "output_type": "stream",
     "text": [
      "0.7944\n"
     ]
    }
   ],
   "source": [
    "\"\"\"\n",
    "Look for:\n",
    "    P(all three components function properly throughout the warranty period)\n",
    "\n",
    "Given:\n",
    "    P(receiver work properly throughout the warranty period)\n",
    "    P(speaker work properly throughout the warranty period)\n",
    "    P(cd player work properly throughout the warranty period)\n",
    "    \n",
    "Explanation:\n",
    "    Apply multiplication rule\n",
    "    Multiply all of them together to get the P that they all work throughout the warranty period\n",
    "\n",
    "\"\"\"\n",
    "p4_a_P_all_work_properly_throughout_warranty_period = (p4_P_A1_work_properly_throughout_warranty_period *\n",
    "                                                       p4_P_A2_work_properly_throughout_warranty_period *\n",
    "                                                       p4_P_A3_work_properly_throughout_warranty_period)\n",
    "\n",
    "print(f\"{p4_a_P_all_work_properly_throughout_warranty_period:.4f}\")"
   ]
  },
  {
   "cell_type": "markdown",
   "metadata": {},
   "source": [
    "### (b) What is the probability that at least one component needs service during the warranty period?"
   ]
  },
  {
   "cell_type": "code",
   "execution_count": 11,
   "metadata": {
    "ExecuteTime": {
     "end_time": "2020-09-17T07:40:52.810492Z",
     "start_time": "2020-09-17T07:40:52.803486Z"
    }
   },
   "outputs": [
    {
     "name": "stdout",
     "output_type": "stream",
     "text": [
      "0.2056\n"
     ]
    }
   ],
   "source": [
    "\"\"\"\n",
    "Look for:\n",
    "    P(at least 1 component needs service)\n",
    "    \n",
    "Given:\n",
    "    P(receiver work properly throughout the warranty period)\n",
    "    P(speaker work properly throughout the warranty period)\n",
    "    P(cd player work properly throughout the warranty period)\n",
    "\n",
    "Explanation:\n",
    "    If 1 is the sum of all probilities then\n",
    "        1 - p4_a_P_all_work_properly_throughout_warranty_period = p4_b_P_at_least_1_component_needs_service\n",
    "\n",
    "    You know the probability where they work so \n",
    "        p4_b_P_at_least_1_component_needs_service = 1 - p4_a_P_all_work_properly_throughout_warranty_period\n",
    "    \n",
    "\"\"\"\n",
    "\n",
    "# Prob that at least 1 component will fail\n",
    "p4_b_P_at_least_1_component_needs_service = (\n",
    "    1 - p4_a_P_all_work_properly_throughout_warranty_period)\n",
    "\n",
    "print(f\"{p4_b_P_at_least_1_component_needs_service:.4f}\")"
   ]
  },
  {
   "cell_type": "markdown",
   "metadata": {},
   "source": [
    "### (c) What is the probability that all three components need service during the warranty period?"
   ]
  },
  {
   "cell_type": "code",
   "execution_count": 12,
   "metadata": {
    "ExecuteTime": {
     "end_time": "2020-09-17T07:40:52.816497Z",
     "start_time": "2020-09-17T07:40:52.811493Z"
    }
   },
   "outputs": [
    {
     "name": "stdout",
     "output_type": "stream",
     "text": [
      "0.0003\n"
     ]
    }
   ],
   "source": [
    "\"\"\"\n",
    "Look for:\n",
    "    P(all three components not function properly throughout the warranty period )\n",
    "    \n",
    "Given:\n",
    "    P(receiver work properly throughout the warranty period)\n",
    "    P(speaker work properly throughout the warranty period)\n",
    "    P(cd player work properly throughout the warranty period)\n",
    "\n",
    "Complement:\n",
    "    P(receiver wont work properly throughout the warranty period)\n",
    "    P(speaker wont work properly throughout the warranty period)\n",
    "    P(cd player wont work properly throughout the warranty period)\n",
    "\n",
    "\n",
    "Explanation:\n",
    "    Apply multiplication rule\n",
    "    Similar to problem 2 part 2 but without the subtraction\n",
    "    \n",
    "    \n",
    "    \n",
    "\"\"\"\n",
    "\n",
    "# Original\n",
    "p4_c_P_at_least_1_component_needs_service = (p4_P_A1_work_properly_throughout_warranty_period_complement *\n",
    "                                             p4_P_A2_work_properly_throughout_warranty_period_complement *\n",
    "                                             p4_P_A3_work_properly_throughout_warranty_period_complement)\n",
    "\n",
    "# Alternative\n",
    "p4_c_P_at_least_1_component_needs_service = (p4_P_A1_wont_work_properly_throughout_warranty_period *\n",
    "                                             p4_P_A2_wont_work_properly_throughout_warranty_period *\n",
    "                                             p4_P_A3_wont_work_properly_throughout_warranty_period)\n",
    "\n",
    "print(f\"{p4_c_P_at_least_1_component_needs_service:.4f}\")"
   ]
  },
  {
   "cell_type": "markdown",
   "metadata": {},
   "source": [
    "### (d) What is the probability that only the receiver needs service during the warranty period?"
   ]
  },
  {
   "cell_type": "code",
   "execution_count": 13,
   "metadata": {
    "ExecuteTime": {
     "end_time": "2020-09-17T07:40:52.824504Z",
     "start_time": "2020-09-17T07:40:52.817499Z"
    }
   },
   "outputs": [
    {
     "name": "stdout",
     "output_type": "stream",
     "text": [
      "0.0246\n"
     ]
    }
   ],
   "source": [
    "\"\"\"\n",
    "Look for:\n",
    "    P(receiver not function properly throughout the warranty period)\n",
    "    \n",
    "Given:\n",
    "    P(receiver work properly throughout the warranty period)\n",
    "    P(speaker work properly throughout the warranty period)\n",
    "    P(cd player work properly throughout the warranty period)\n",
    "\n",
    "Complement:\n",
    "    P(receiver wont work properly throughout the warranty period)\n",
    "    P(speaker wont work properly throughout the warranty period)\n",
    "    P(cd player wont work properly throughout the warranty period)\n",
    "    \n",
    "Explantion:\n",
    "    Remember tha all events are independent which allows for all of them happening at the same time and they don't\n",
    "    affect each other's probability.\n",
    "    So just apply the multiplication rule with all of the probabilities except use the complement for the receiver\n",
    "    \n",
    "    \n",
    "\"\"\"\n",
    "\n",
    "p4_d_P_A1_only_receiver_fail = (p4_P_A1_wont_work_properly_throughout_warranty_period *\n",
    "                                p4_P_A2_work_properly_throughout_warranty_period *\n",
    "                                p4_P_A3_work_properly_throughout_warranty_period)\n",
    "\n",
    "print(f\"{p4_d_P_A1_only_receiver_fail:.4f}\")"
   ]
  },
  {
   "cell_type": "markdown",
   "metadata": {},
   "source": [
    "### (e) What is the probability that exactly one of the three components needs service during the warranty period?\n",
    "\n"
   ]
  },
  {
   "cell_type": "code",
   "execution_count": 14,
   "metadata": {
    "ExecuteTime": {
     "end_time": "2020-09-17T07:40:52.831510Z",
     "start_time": "2020-09-17T07:40:52.825505Z"
    }
   },
   "outputs": [
    {
     "name": "stdout",
     "output_type": "stream",
     "text": [
      "0.1914\n"
     ]
    }
   ],
   "source": [
    "p4_e_P_A2_only_speaker_fail = (p4_P_A1_work_properly_throughout_warranty_period *\n",
    "                               p4_P_A2_wont_work_properly_throughout_warranty_period *\n",
    "                               p4_P_A3_work_properly_throughout_warranty_period)\n",
    "\n",
    "p4_e_P_A3_only_cd_player_fail = (p4_P_A1_work_properly_throughout_warranty_period *\n",
    "                                 p4_P_A2_work_properly_throughout_warranty_period *\n",
    "                                 p4_P_A3_wont_work_properly_throughout_warranty_period)\n",
    "\n",
    "p4_e_P_exactly_1_of_3_components_needs_service_during_warranty_period = (p4_d_P_A1_only_receiver_fail +\n",
    "                                                                         p4_e_P_A2_only_speaker_fail +\n",
    "                                                                         p4_e_P_A3_only_cd_player_fail)\n",
    "\n",
    "\n",
    "print(f\"{p4_e_P_exactly_1_of_3_components_needs_service_during_warranty_period:.4f}\")"
   ]
  },
  {
   "cell_type": "markdown",
   "metadata": {},
   "source": [
    "# 5. DEVORESTAT9 2.E.088.\n",
    "The probability that an individual randomly selected from a particular population has a certain disease is 0.04. A diagnostic test correctly detects the presence of the disease 99% of the time and correctly detects the absence of the disease 94% of the time. If the test is applied twice, the two test results are independent, and both are positive, what is the (posterior) probability that the selected individual has the disease? [Hint: Tree diagram with first-generation branches corresponding to Disease and No Disease, and second- and third-generation branches corresponding to results of the two tests.]\n"
   ]
  },
  {
   "cell_type": "code",
   "execution_count": 15,
   "metadata": {
    "ExecuteTime": {
     "end_time": "2020-09-17T07:40:52.839517Z",
     "start_time": "2020-09-17T07:40:52.832511Z"
    },
    "scrolled": true
   },
   "outputs": [
    {
     "name": "stdout",
     "output_type": "stream",
     "text": [
      "p6_certain_disease_complement=0.9600\n",
      "p6_detect_presence_of_disease_complement=0.0100\n",
      "p6_detect_absence_of_disease_complement=0.0600\n"
     ]
    }
   ],
   "source": [
    "# Given\n",
    "p6_certain_disease = 0.04\n",
    "p6_detect_presence_of_disease = .99\n",
    "p6_detect_absence_of_disease = .94\n",
    "\n",
    "# Complement certain disease\n",
    "p6_certain_disease_complement = 1 - p6_certain_disease\n",
    "\n",
    "# Complement presence of disease\n",
    "p6_detect_presence_of_disease_complement = (\n",
    "    1 - p6_detect_presence_of_disease)\n",
    "\n",
    "# Complement absence of disease\n",
    "p6_detect_absence_of_disease_complement = (1 - p6_detect_absence_of_disease)\n",
    "\n",
    "print(f\"{p6_certain_disease_complement=:.4f}\")\n",
    "print(f\"{p6_detect_presence_of_disease_complement=:.4f}\")\n",
    "print(f\"{p6_detect_absence_of_disease_complement=:.4f}\")"
   ]
  },
  {
   "cell_type": "code",
   "execution_count": 16,
   "metadata": {
    "ExecuteTime": {
     "end_time": "2020-09-17T07:40:52.852528Z",
     "start_time": "2020-09-17T07:40:52.840518Z"
    }
   },
   "outputs": [
    {
     "name": "stdout",
     "output_type": "stream",
     "text": [
      "list_have_detect_p_detect_p              ['0.040000', '0.039600', '0.039204']\n",
      "list_have_detect_p_false                 ['0.040000', '0.039600', '0.000396']\n",
      "list_have_false_detect_p                 ['0.040000', '0.000400', '0.000396']\n",
      "list_have_false_false                    ['0.040000', '0.000400', '0.000004']\n",
      "list_not_have_detect_a_detect_a          ['0.960000', '0.902400', '0.848256']\n",
      "list_not_have_detect_a_false             ['0.960000', '0.902400', '0.054144']\n",
      "list_not_have_false_detect_a             ['0.960000', '0.057600', '0.054144']\n",
      "list_not_have_false_false                ['0.960000', '0.057600', '0.003456']\n",
      "\n",
      "p6_P_selected_individual_has_the_disease_given_2_test_results_both_positive=0.9189873417721517\n",
      "\n",
      "p6_P_selected_individual_has_the_disease_given_2_test_results_both_positive=0.9189873417721517\n"
     ]
    }
   ],
   "source": [
    "from functools import reduce\n",
    "from functools import wraps\n",
    "\n",
    "FORMAT_STRING = \".6f\"\n",
    "\n",
    "format_string = \".4f\"\n",
    "\n",
    "\n",
    "def _format_list_of_floats(list_given, format_string=FORMAT_STRING):\n",
    "    return list(map(lambda x: format(x, format_string), list_given))\n",
    "\n",
    "\n",
    "def decorator_list_formater(callable_given=None, format_string=FORMAT_STRING):\n",
    "    def decorator_list_formater_inner(callable_given):\n",
    "        @wraps(callable_given)\n",
    "        def wrapper(*args, **kargs):\n",
    "\n",
    "            result = callable_given(*args, **kargs)\n",
    "\n",
    "            list_temp = _format_list_of_floats(result, format_string)\n",
    "\n",
    "            return list_temp\n",
    "\n",
    "        return wrapper\n",
    "\n",
    "    return decorator_list_formater_inner(callable_given) if callable_given else decorator_list_formater_inner\n",
    "\n",
    "\n",
    "# @decorator_list_formater(format_string=format_string)\n",
    "def multiply_args(*args):\n",
    "    \"\"\"\n",
    "    Multiply the arugments together from left to right into a list_solution where\n",
    "    list_solution[index] = args[index + 1] * args[index]\n",
    "\n",
    "    \"\"\"\n",
    "    list_temp = []\n",
    "\n",
    "    for i, e in enumerate(args):\n",
    "        multiplication_temp = None\n",
    "\n",
    "        for j in args[:(i+1)]:\n",
    "            if multiplication_temp is None:\n",
    "                multiplication_temp = j\n",
    "                continue\n",
    "            multiplication_temp *= j\n",
    "        list_temp.append(multiplication_temp)\n",
    "\n",
    "    return list_temp\n",
    "\n",
    "\n",
    "# @decorator_list_formater(format_string=format_string)\n",
    "def multiply_args_tabulation(*args, max_args_length=None, index=0, list_solution=[]):\n",
    "    \"\"\"\n",
    "    Multiply the arugments together from left to right into a list_solution where\n",
    "    list_solution[index] = args[index + 1] * args[index]\n",
    "\n",
    "    \"\"\"\n",
    "    if not list_solution:\n",
    "        list_solution.append(args[0])\n",
    "        solution = multiply_args_memoization(\n",
    "            *args, max_args_length=len(args), index=1, list_solution=list_solution)\n",
    "        return solution\n",
    "\n",
    "    if index < max_args_length:\n",
    "        list_solution.append(list_solution[index - 1] * args[index])\n",
    "\n",
    "        solution = multiply_args_memoization(\n",
    "            *args, max_args_length=max_args_length, index=index + 1, list_solution=list_solution)\n",
    "        return solution\n",
    "\n",
    "    return list_solution\n",
    "\n",
    "# Have disease\n",
    "list_have_detect_p_detect_p = multiply_args(\n",
    "    p6_certain_disease,\n",
    "    p6_detect_presence_of_disease,\n",
    "    p6_detect_presence_of_disease)\n",
    "\n",
    "list_have_detect_p_false = multiply_args(\n",
    "    p6_certain_disease,\n",
    "    p6_detect_presence_of_disease,\n",
    "    p6_detect_presence_of_disease_complement)\n",
    "\n",
    "list_have_false_detect_p = multiply_args(\n",
    "    p6_certain_disease,\n",
    "    p6_detect_presence_of_disease_complement,\n",
    "    p6_detect_presence_of_disease)\n",
    "\n",
    "list_have_false_false = multiply_args(\n",
    "    p6_certain_disease,\n",
    "    p6_detect_presence_of_disease_complement,\n",
    "    p6_detect_presence_of_disease_complement)\n",
    "\n",
    "# Not have disease\n",
    "list_not_have_detect_a_detect_a = multiply_args(\n",
    "    p6_certain_disease_complement,\n",
    "    p6_detect_absence_of_disease,\n",
    "    p6_detect_absence_of_disease)\n",
    "\n",
    "list_not_have_detect_a_false = multiply_args(\n",
    "    p6_certain_disease_complement,\n",
    "    p6_detect_absence_of_disease,\n",
    "    p6_detect_absence_of_disease_complement)\n",
    "\n",
    "list_not_have_false_detect_a = multiply_args(\n",
    "    p6_certain_disease_complement,\n",
    "    p6_detect_absence_of_disease_complement,\n",
    "    p6_detect_absence_of_disease)\n",
    "\n",
    "list_not_have_false_false = multiply_args(\n",
    "    p6_certain_disease_complement,\n",
    "    p6_detect_absence_of_disease_complement,\n",
    "    p6_detect_absence_of_disease_complement)\n",
    "\n",
    "print(\"{:<40} {}\".format(\"list_have_detect_p_detect_p\",\n",
    "                         str(_format_list_of_floats(list_have_detect_p_detect_p))))\n",
    "print(\"{:<40} {}\".format(\"list_have_detect_p_false\",\n",
    "                         str(_format_list_of_floats(list_have_detect_p_false))))\n",
    "print(\"{:<40} {}\".format(\"list_have_false_detect_p\",\n",
    "                         str(_format_list_of_floats(list_have_false_detect_p))))\n",
    "print(\"{:<40} {}\".format(\"list_have_false_false\",\n",
    "                         str(_format_list_of_floats(list_have_false_false))))\n",
    "\n",
    "print(\"{:<40} {}\".format(\"list_not_have_detect_a_detect_a\",\n",
    "                         str(_format_list_of_floats(list_not_have_detect_a_detect_a))))\n",
    "print(\"{:<40} {}\".format(\"list_not_have_detect_a_false\",\n",
    "                         str(_format_list_of_floats(list_not_have_detect_a_false))))\n",
    "print(\"{:<40} {}\".format(\"list_not_have_false_detect_a\",\n",
    "                         str(_format_list_of_floats(list_not_have_false_detect_a))))\n",
    "print(\"{:<40} {}\".format(\"list_not_have_false_false\",\n",
    "                         str(_format_list_of_floats(list_not_have_false_false))))\n",
    "\n",
    "\"\"\"\n",
    "Given:\n",
    "    If the test is applied twice, the two test results are independent, and both are positive,\n",
    "\n",
    "Look for:\n",
    "    what is the (posterior) probability that the selected individual has the disease?\n",
    "\n",
    "\"\"\"\n",
    "\n",
    "print()\n",
    "\n",
    "# Orignal way\n",
    "p6_P_selected_individual_has_the_disease = (\n",
    "    (p6_certain_disease * p6_detect_presence_of_disease ** 2) +\n",
    "    (p6_certain_disease_complement * p6_detect_absence_of_disease_complement ** 2))\n",
    "\n",
    "p6_P_selected_individual_has_the_disease_given_2_test_results_both_positive = (\n",
    "    (p6_certain_disease * p6_detect_presence_of_disease ** 2) / p6_P_selected_individual_has_the_disease)\n",
    "\n",
    "\n",
    "print(f\"{p6_P_selected_individual_has_the_disease_given_2_test_results_both_positive=}\")\n",
    "print()\n",
    "\n",
    "# Long way\n",
    "p6_P_selected_individual_has_the_disease = (list_have_detect_p_detect_p[-1] +\n",
    "                                            list_not_have_false_false[-1])\n",
    "\n",
    "\n",
    "p6_P_selected_individual_has_the_disease_given_2_test_results_both_positive = (list_have_detect_p_detect_p[-1] /\n",
    "                                                                               p6_P_selected_individual_has_the_disease)\n",
    "\n",
    "print(f\"{p6_P_selected_individual_has_the_disease_given_2_test_results_both_positive=}\")"
   ]
  },
  {
   "cell_type": "markdown",
   "metadata": {
    "ExecuteTime": {
     "end_time": "2020-09-17T07:35:39.029579Z",
     "start_time": "2020-09-17T07:35:39.026576Z"
    }
   },
   "source": [
    "<img src=\"images/2_5_problem_5.png\" alt=\"images/2_5_problem_5.png\" style=\"float:left;\">"
   ]
  }
 ],
 "metadata": {
  "kernelspec": {
   "display_name": "Python 3.8.5 64-bit Anaconda (Only works with Anaconda's Jupyter)",
   "language": "python",
   "name": "python_3.8.5_64-bit_anaconda"
  },
  "language_info": {
   "codemirror_mode": {
    "name": "ipython",
    "version": 3
   },
   "file_extension": ".py",
   "mimetype": "text/x-python",
   "name": "python",
   "nbconvert_exporter": "python",
   "pygments_lexer": "ipython3",
   "version": "3.8.5"
  },
  "varInspector": {
   "cols": {
    "lenName": 16,
    "lenType": 16,
    "lenVar": 40
   },
   "kernels_config": {
    "python": {
     "delete_cmd_postfix": "",
     "delete_cmd_prefix": "del ",
     "library": "var_list.py",
     "varRefreshCmd": "print(var_dic_list())"
    },
    "r": {
     "delete_cmd_postfix": ") ",
     "delete_cmd_prefix": "rm(",
     "library": "var_list.r",
     "varRefreshCmd": "cat(var_dic_list()) "
    }
   },
   "types_to_exclude": [
    "module",
    "function",
    "builtin_function_or_method",
    "instance",
    "_Feature"
   ],
   "window_display": false
  }
 },
 "nbformat": 4,
 "nbformat_minor": 4
}

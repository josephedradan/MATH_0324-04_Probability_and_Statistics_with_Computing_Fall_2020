{
 "cells": [
  {
   "cell_type": "code",
   "execution_count": 17,
   "metadata": {
    "ExecuteTime": {
     "end_time": "2020-10-13T05:32:08.308910Z",
     "start_time": "2020-10-13T05:32:08.285892Z"
    }
   },
   "outputs": [
    {
     "ename": "OSError",
     "evalue": "cannot load library 'C:\\Program Files\\R\\R-4.0.3\\bin\\x64\\R.dll': error 0x7e",
     "output_type": "error",
     "traceback": [
      "\u001b[1;31m---------------------------------------------------------------------------\u001b[0m",
      "\u001b[1;31mOSError\u001b[0m                                   Traceback (most recent call last)",
      "\u001b[1;32m<ipython-input-17-8951e66476a2>\u001b[0m in \u001b[0;36m<module>\u001b[1;34m\u001b[0m\n\u001b[0;32m      4\u001b[0m \"\"\"\n\u001b[0;32m      5\u001b[0m \u001b[1;32mimport\u001b[0m \u001b[0mrpy2\u001b[0m\u001b[1;33m\u001b[0m\u001b[1;33m\u001b[0m\u001b[0m\n\u001b[1;32m----> 6\u001b[1;33m \u001b[0mget_ipython\u001b[0m\u001b[1;33m(\u001b[0m\u001b[1;33m)\u001b[0m\u001b[1;33m.\u001b[0m\u001b[0mrun_line_magic\u001b[0m\u001b[1;33m(\u001b[0m\u001b[1;34m'load_ext'\u001b[0m\u001b[1;33m,\u001b[0m \u001b[1;34m'rpy2.ipython'\u001b[0m\u001b[1;33m)\u001b[0m\u001b[1;33m\u001b[0m\u001b[1;33m\u001b[0m\u001b[0m\n\u001b[0m",
      "\u001b[1;32m~\\AppData\\Local\\Programs\\Python\\Python38\\lib\\site-packages\\IPython\\core\\interactiveshell.py\u001b[0m in \u001b[0;36mrun_line_magic\u001b[1;34m(self, magic_name, line, _stack_depth)\u001b[0m\n\u001b[0;32m   2324\u001b[0m                 \u001b[0mkwargs\u001b[0m\u001b[1;33m[\u001b[0m\u001b[1;34m'local_ns'\u001b[0m\u001b[1;33m]\u001b[0m \u001b[1;33m=\u001b[0m \u001b[0mself\u001b[0m\u001b[1;33m.\u001b[0m\u001b[0mget_local_scope\u001b[0m\u001b[1;33m(\u001b[0m\u001b[0mstack_depth\u001b[0m\u001b[1;33m)\u001b[0m\u001b[1;33m\u001b[0m\u001b[1;33m\u001b[0m\u001b[0m\n\u001b[0;32m   2325\u001b[0m             \u001b[1;32mwith\u001b[0m \u001b[0mself\u001b[0m\u001b[1;33m.\u001b[0m\u001b[0mbuiltin_trap\u001b[0m\u001b[1;33m:\u001b[0m\u001b[1;33m\u001b[0m\u001b[1;33m\u001b[0m\u001b[0m\n\u001b[1;32m-> 2326\u001b[1;33m                 \u001b[0mresult\u001b[0m \u001b[1;33m=\u001b[0m \u001b[0mfn\u001b[0m\u001b[1;33m(\u001b[0m\u001b[1;33m*\u001b[0m\u001b[0margs\u001b[0m\u001b[1;33m,\u001b[0m \u001b[1;33m**\u001b[0m\u001b[0mkwargs\u001b[0m\u001b[1;33m)\u001b[0m\u001b[1;33m\u001b[0m\u001b[1;33m\u001b[0m\u001b[0m\n\u001b[0m\u001b[0;32m   2327\u001b[0m             \u001b[1;32mreturn\u001b[0m \u001b[0mresult\u001b[0m\u001b[1;33m\u001b[0m\u001b[1;33m\u001b[0m\u001b[0m\n\u001b[0;32m   2328\u001b[0m \u001b[1;33m\u001b[0m\u001b[0m\n",
      "\u001b[1;32m<decorator-gen-65>\u001b[0m in \u001b[0;36mload_ext\u001b[1;34m(self, module_str)\u001b[0m\n",
      "\u001b[1;32m~\\AppData\\Local\\Programs\\Python\\Python38\\lib\\site-packages\\IPython\\core\\magic.py\u001b[0m in \u001b[0;36m<lambda>\u001b[1;34m(f, *a, **k)\u001b[0m\n\u001b[0;32m    185\u001b[0m     \u001b[1;31m# but it's overkill for just that one bit of state.\u001b[0m\u001b[1;33m\u001b[0m\u001b[1;33m\u001b[0m\u001b[1;33m\u001b[0m\u001b[0m\n\u001b[0;32m    186\u001b[0m     \u001b[1;32mdef\u001b[0m \u001b[0mmagic_deco\u001b[0m\u001b[1;33m(\u001b[0m\u001b[0marg\u001b[0m\u001b[1;33m)\u001b[0m\u001b[1;33m:\u001b[0m\u001b[1;33m\u001b[0m\u001b[1;33m\u001b[0m\u001b[0m\n\u001b[1;32m--> 187\u001b[1;33m         \u001b[0mcall\u001b[0m \u001b[1;33m=\u001b[0m \u001b[1;32mlambda\u001b[0m \u001b[0mf\u001b[0m\u001b[1;33m,\u001b[0m \u001b[1;33m*\u001b[0m\u001b[0ma\u001b[0m\u001b[1;33m,\u001b[0m \u001b[1;33m**\u001b[0m\u001b[0mk\u001b[0m\u001b[1;33m:\u001b[0m \u001b[0mf\u001b[0m\u001b[1;33m(\u001b[0m\u001b[1;33m*\u001b[0m\u001b[0ma\u001b[0m\u001b[1;33m,\u001b[0m \u001b[1;33m**\u001b[0m\u001b[0mk\u001b[0m\u001b[1;33m)\u001b[0m\u001b[1;33m\u001b[0m\u001b[1;33m\u001b[0m\u001b[0m\n\u001b[0m\u001b[0;32m    188\u001b[0m \u001b[1;33m\u001b[0m\u001b[0m\n\u001b[0;32m    189\u001b[0m         \u001b[1;32mif\u001b[0m \u001b[0mcallable\u001b[0m\u001b[1;33m(\u001b[0m\u001b[0marg\u001b[0m\u001b[1;33m)\u001b[0m\u001b[1;33m:\u001b[0m\u001b[1;33m\u001b[0m\u001b[1;33m\u001b[0m\u001b[0m\n",
      "\u001b[1;32m~\\AppData\\Local\\Programs\\Python\\Python38\\lib\\site-packages\\IPython\\core\\magics\\extension.py\u001b[0m in \u001b[0;36mload_ext\u001b[1;34m(self, module_str)\u001b[0m\n\u001b[0;32m     31\u001b[0m         \u001b[1;32mif\u001b[0m \u001b[1;32mnot\u001b[0m \u001b[0mmodule_str\u001b[0m\u001b[1;33m:\u001b[0m\u001b[1;33m\u001b[0m\u001b[1;33m\u001b[0m\u001b[0m\n\u001b[0;32m     32\u001b[0m             \u001b[1;32mraise\u001b[0m \u001b[0mUsageError\u001b[0m\u001b[1;33m(\u001b[0m\u001b[1;34m'Missing module name.'\u001b[0m\u001b[1;33m)\u001b[0m\u001b[1;33m\u001b[0m\u001b[1;33m\u001b[0m\u001b[0m\n\u001b[1;32m---> 33\u001b[1;33m         \u001b[0mres\u001b[0m \u001b[1;33m=\u001b[0m \u001b[0mself\u001b[0m\u001b[1;33m.\u001b[0m\u001b[0mshell\u001b[0m\u001b[1;33m.\u001b[0m\u001b[0mextension_manager\u001b[0m\u001b[1;33m.\u001b[0m\u001b[0mload_extension\u001b[0m\u001b[1;33m(\u001b[0m\u001b[0mmodule_str\u001b[0m\u001b[1;33m)\u001b[0m\u001b[1;33m\u001b[0m\u001b[1;33m\u001b[0m\u001b[0m\n\u001b[0m\u001b[0;32m     34\u001b[0m \u001b[1;33m\u001b[0m\u001b[0m\n\u001b[0;32m     35\u001b[0m         \u001b[1;32mif\u001b[0m \u001b[0mres\u001b[0m \u001b[1;33m==\u001b[0m \u001b[1;34m'already loaded'\u001b[0m\u001b[1;33m:\u001b[0m\u001b[1;33m\u001b[0m\u001b[1;33m\u001b[0m\u001b[0m\n",
      "\u001b[1;32m~\\AppData\\Local\\Programs\\Python\\Python38\\lib\\site-packages\\IPython\\core\\extensions.py\u001b[0m in \u001b[0;36mload_extension\u001b[1;34m(self, module_str)\u001b[0m\n\u001b[0;32m     78\u001b[0m             \u001b[1;32mif\u001b[0m \u001b[0mmodule_str\u001b[0m \u001b[1;32mnot\u001b[0m \u001b[1;32min\u001b[0m \u001b[0msys\u001b[0m\u001b[1;33m.\u001b[0m\u001b[0mmodules\u001b[0m\u001b[1;33m:\u001b[0m\u001b[1;33m\u001b[0m\u001b[1;33m\u001b[0m\u001b[0m\n\u001b[0;32m     79\u001b[0m                 \u001b[1;32mwith\u001b[0m \u001b[0mprepended_to_syspath\u001b[0m\u001b[1;33m(\u001b[0m\u001b[0mself\u001b[0m\u001b[1;33m.\u001b[0m\u001b[0mipython_extension_dir\u001b[0m\u001b[1;33m)\u001b[0m\u001b[1;33m:\u001b[0m\u001b[1;33m\u001b[0m\u001b[1;33m\u001b[0m\u001b[0m\n\u001b[1;32m---> 80\u001b[1;33m                     \u001b[0mmod\u001b[0m \u001b[1;33m=\u001b[0m \u001b[0mimport_module\u001b[0m\u001b[1;33m(\u001b[0m\u001b[0mmodule_str\u001b[0m\u001b[1;33m)\u001b[0m\u001b[1;33m\u001b[0m\u001b[1;33m\u001b[0m\u001b[0m\n\u001b[0m\u001b[0;32m     81\u001b[0m                     \u001b[1;32mif\u001b[0m \u001b[0mmod\u001b[0m\u001b[1;33m.\u001b[0m\u001b[0m__file__\u001b[0m\u001b[1;33m.\u001b[0m\u001b[0mstartswith\u001b[0m\u001b[1;33m(\u001b[0m\u001b[0mself\u001b[0m\u001b[1;33m.\u001b[0m\u001b[0mipython_extension_dir\u001b[0m\u001b[1;33m)\u001b[0m\u001b[1;33m:\u001b[0m\u001b[1;33m\u001b[0m\u001b[1;33m\u001b[0m\u001b[0m\n\u001b[0;32m     82\u001b[0m                         print((\"Loading extensions from {dir} is deprecated. \"\n",
      "\u001b[1;32m~\\AppData\\Local\\Programs\\Python\\Python38\\lib\\importlib\\__init__.py\u001b[0m in \u001b[0;36mimport_module\u001b[1;34m(name, package)\u001b[0m\n\u001b[0;32m    125\u001b[0m                 \u001b[1;32mbreak\u001b[0m\u001b[1;33m\u001b[0m\u001b[1;33m\u001b[0m\u001b[0m\n\u001b[0;32m    126\u001b[0m             \u001b[0mlevel\u001b[0m \u001b[1;33m+=\u001b[0m \u001b[1;36m1\u001b[0m\u001b[1;33m\u001b[0m\u001b[1;33m\u001b[0m\u001b[0m\n\u001b[1;32m--> 127\u001b[1;33m     \u001b[1;32mreturn\u001b[0m \u001b[0m_bootstrap\u001b[0m\u001b[1;33m.\u001b[0m\u001b[0m_gcd_import\u001b[0m\u001b[1;33m(\u001b[0m\u001b[0mname\u001b[0m\u001b[1;33m[\u001b[0m\u001b[0mlevel\u001b[0m\u001b[1;33m:\u001b[0m\u001b[1;33m]\u001b[0m\u001b[1;33m,\u001b[0m \u001b[0mpackage\u001b[0m\u001b[1;33m,\u001b[0m \u001b[0mlevel\u001b[0m\u001b[1;33m)\u001b[0m\u001b[1;33m\u001b[0m\u001b[1;33m\u001b[0m\u001b[0m\n\u001b[0m\u001b[0;32m    128\u001b[0m \u001b[1;33m\u001b[0m\u001b[0m\n\u001b[0;32m    129\u001b[0m \u001b[1;33m\u001b[0m\u001b[0m\n",
      "\u001b[1;32m~\\AppData\\Local\\Programs\\Python\\Python38\\lib\\importlib\\_bootstrap.py\u001b[0m in \u001b[0;36m_gcd_import\u001b[1;34m(name, package, level)\u001b[0m\n",
      "\u001b[1;32m~\\AppData\\Local\\Programs\\Python\\Python38\\lib\\importlib\\_bootstrap.py\u001b[0m in \u001b[0;36m_find_and_load\u001b[1;34m(name, import_)\u001b[0m\n",
      "\u001b[1;32m~\\AppData\\Local\\Programs\\Python\\Python38\\lib\\importlib\\_bootstrap.py\u001b[0m in \u001b[0;36m_find_and_load_unlocked\u001b[1;34m(name, import_)\u001b[0m\n",
      "\u001b[1;32m~\\AppData\\Local\\Programs\\Python\\Python38\\lib\\importlib\\_bootstrap.py\u001b[0m in \u001b[0;36m_load_unlocked\u001b[1;34m(spec)\u001b[0m\n",
      "\u001b[1;32m~\\AppData\\Local\\Programs\\Python\\Python38\\lib\\importlib\\_bootstrap_external.py\u001b[0m in \u001b[0;36mexec_module\u001b[1;34m(self, module)\u001b[0m\n",
      "\u001b[1;32m~\\AppData\\Local\\Programs\\Python\\Python38\\lib\\importlib\\_bootstrap.py\u001b[0m in \u001b[0;36m_call_with_frames_removed\u001b[1;34m(f, *args, **kwds)\u001b[0m\n",
      "\u001b[1;32m~\\AppData\\Local\\Programs\\Python\\Python38\\lib\\site-packages\\rpy2\\ipython\\__init__.py\u001b[0m in \u001b[0;36m<module>\u001b[1;34m\u001b[0m\n\u001b[1;32m----> 1\u001b[1;33m \u001b[1;32mfrom\u001b[0m \u001b[1;33m.\u001b[0m \u001b[1;32mimport\u001b[0m \u001b[0mrmagic\u001b[0m\u001b[1;33m\u001b[0m\u001b[1;33m\u001b[0m\u001b[0m\n\u001b[0m\u001b[0;32m      2\u001b[0m \u001b[1;33m\u001b[0m\u001b[0m\n\u001b[0;32m      3\u001b[0m \u001b[0mload_ipython_extension\u001b[0m \u001b[1;33m=\u001b[0m \u001b[0mrmagic\u001b[0m\u001b[1;33m.\u001b[0m\u001b[0mload_ipython_extension\u001b[0m\u001b[1;33m\u001b[0m\u001b[1;33m\u001b[0m\u001b[0m\n",
      "\u001b[1;32m~\\AppData\\Local\\Programs\\Python\\Python38\\lib\\site-packages\\rpy2\\ipython\\rmagic.py\u001b[0m in \u001b[0;36m<module>\u001b[1;34m\u001b[0m\n\u001b[0;32m     53\u001b[0m \u001b[1;31m# numpy and rpy2 imports\u001b[0m\u001b[1;33m\u001b[0m\u001b[1;33m\u001b[0m\u001b[1;33m\u001b[0m\u001b[0m\n\u001b[0;32m     54\u001b[0m \u001b[1;33m\u001b[0m\u001b[0m\n\u001b[1;32m---> 55\u001b[1;33m \u001b[1;32mimport\u001b[0m \u001b[0mrpy2\u001b[0m\u001b[1;33m.\u001b[0m\u001b[0mrinterface\u001b[0m \u001b[1;32mas\u001b[0m \u001b[0mri\u001b[0m\u001b[1;33m\u001b[0m\u001b[1;33m\u001b[0m\u001b[0m\n\u001b[0m\u001b[0;32m     56\u001b[0m \u001b[1;32mimport\u001b[0m \u001b[0mrpy2\u001b[0m\u001b[1;33m.\u001b[0m\u001b[0mrinterface_lib\u001b[0m\u001b[1;33m.\u001b[0m\u001b[0mcallbacks\u001b[0m\u001b[1;33m\u001b[0m\u001b[1;33m\u001b[0m\u001b[0m\n\u001b[0;32m     57\u001b[0m \u001b[1;32mimport\u001b[0m \u001b[0mrpy2\u001b[0m\u001b[1;33m.\u001b[0m\u001b[0mrobjects\u001b[0m \u001b[1;32mas\u001b[0m \u001b[0mro\u001b[0m\u001b[1;33m\u001b[0m\u001b[1;33m\u001b[0m\u001b[0m\n",
      "\u001b[1;32m~\\AppData\\Local\\Programs\\Python\\Python38\\lib\\site-packages\\rpy2\\rinterface.py\u001b[0m in \u001b[0;36m<module>\u001b[1;34m\u001b[0m\n\u001b[0;32m      4\u001b[0m \u001b[1;32mimport\u001b[0m \u001b[0mtyping\u001b[0m\u001b[1;33m\u001b[0m\u001b[1;33m\u001b[0m\u001b[0m\n\u001b[0;32m      5\u001b[0m \u001b[1;32mfrom\u001b[0m \u001b[0mtyping\u001b[0m \u001b[1;32mimport\u001b[0m \u001b[0mUnion\u001b[0m\u001b[1;33m\u001b[0m\u001b[1;33m\u001b[0m\u001b[0m\n\u001b[1;32m----> 6\u001b[1;33m \u001b[1;32mfrom\u001b[0m \u001b[0mrpy2\u001b[0m\u001b[1;33m.\u001b[0m\u001b[0mrinterface_lib\u001b[0m \u001b[1;32mimport\u001b[0m \u001b[0mopenrlib\u001b[0m\u001b[1;33m\u001b[0m\u001b[1;33m\u001b[0m\u001b[0m\n\u001b[0m\u001b[0;32m      7\u001b[0m \u001b[1;32mimport\u001b[0m \u001b[0mrpy2\u001b[0m\u001b[1;33m.\u001b[0m\u001b[0mrinterface_lib\u001b[0m\u001b[1;33m.\u001b[0m\u001b[0m_rinterface_capi\u001b[0m \u001b[1;32mas\u001b[0m \u001b[0m_rinterface\u001b[0m\u001b[1;33m\u001b[0m\u001b[1;33m\u001b[0m\u001b[0m\n\u001b[0;32m      8\u001b[0m \u001b[1;32mimport\u001b[0m \u001b[0mrpy2\u001b[0m\u001b[1;33m.\u001b[0m\u001b[0mrinterface_lib\u001b[0m\u001b[1;33m.\u001b[0m\u001b[0membedded\u001b[0m \u001b[1;32mas\u001b[0m \u001b[0membedded\u001b[0m\u001b[1;33m\u001b[0m\u001b[1;33m\u001b[0m\u001b[0m\n",
      "\u001b[1;32m~\\AppData\\Local\\Programs\\Python\\Python38\\lib\\site-packages\\rpy2\\rinterface_lib\\openrlib.py\u001b[0m in \u001b[0;36m<module>\u001b[1;34m\u001b[0m\n\u001b[0;32m     42\u001b[0m     \u001b[0mrlib\u001b[0m \u001b[1;33m=\u001b[0m \u001b[0m_rinterface_cffi\u001b[0m\u001b[1;33m.\u001b[0m\u001b[0mlib\u001b[0m\u001b[1;33m\u001b[0m\u001b[1;33m\u001b[0m\u001b[0m\n\u001b[0;32m     43\u001b[0m \u001b[1;32melse\u001b[0m\u001b[1;33m:\u001b[0m\u001b[1;33m\u001b[0m\u001b[1;33m\u001b[0m\u001b[0m\n\u001b[1;32m---> 44\u001b[1;33m     \u001b[0mrlib\u001b[0m \u001b[1;33m=\u001b[0m \u001b[0m_dlopen_rlib\u001b[0m\u001b[1;33m(\u001b[0m\u001b[0mR_HOME\u001b[0m\u001b[1;33m)\u001b[0m\u001b[1;33m\u001b[0m\u001b[1;33m\u001b[0m\u001b[0m\n\u001b[0m\u001b[0;32m     45\u001b[0m \u001b[1;33m\u001b[0m\u001b[0m\n\u001b[0;32m     46\u001b[0m \u001b[1;33m\u001b[0m\u001b[0m\n",
      "\u001b[1;32m~\\AppData\\Local\\Programs\\Python\\Python38\\lib\\site-packages\\rpy2\\rinterface_lib\\openrlib.py\u001b[0m in \u001b[0;36m_dlopen_rlib\u001b[1;34m(r_home)\u001b[0m\n\u001b[0;32m     35\u001b[0m         \u001b[1;32mraise\u001b[0m \u001b[0mValueError\u001b[0m\u001b[1;33m(\u001b[0m\u001b[1;34m'The library path cannot be None.'\u001b[0m\u001b[1;33m)\u001b[0m\u001b[1;33m\u001b[0m\u001b[1;33m\u001b[0m\u001b[0m\n\u001b[0;32m     36\u001b[0m     \u001b[1;32melse\u001b[0m\u001b[1;33m:\u001b[0m\u001b[1;33m\u001b[0m\u001b[1;33m\u001b[0m\u001b[0m\n\u001b[1;32m---> 37\u001b[1;33m         \u001b[0mrlib\u001b[0m \u001b[1;33m=\u001b[0m \u001b[0mffi\u001b[0m\u001b[1;33m.\u001b[0m\u001b[0mdlopen\u001b[0m\u001b[1;33m(\u001b[0m\u001b[0mlib_path\u001b[0m\u001b[1;33m)\u001b[0m\u001b[1;33m\u001b[0m\u001b[1;33m\u001b[0m\u001b[0m\n\u001b[0m\u001b[0;32m     38\u001b[0m     \u001b[1;32mreturn\u001b[0m \u001b[0mrlib\u001b[0m\u001b[1;33m\u001b[0m\u001b[1;33m\u001b[0m\u001b[0m\n\u001b[0;32m     39\u001b[0m \u001b[1;33m\u001b[0m\u001b[0m\n",
      "\u001b[1;31mOSError\u001b[0m: cannot load library 'C:\\Program Files\\R\\R-4.0.3\\bin\\x64\\R.dll': error 0x7e"
     ]
    }
   ],
   "source": [
    "\"\"\"\n",
    "More on rpy2 options\n",
    "https://ipython.org/ipython-doc/2/config/extensions/rmagic.html\n",
    "\"\"\"\n",
    "import rpy2\n",
    "%load_ext rpy2.ipython"
   ]
  },
  {
   "cell_type": "markdown",
   "metadata": {},
   "source": [
    "# 1. DEVORESTAT9 4.E.047.S.\n",
    "The weight distribution of parcels sent in a certain manner is normal with mean value 15 lb and standard deviation 3.5 lb. The parcel service wishes to establish a weight value c beyond which there will be a surcharge.\n"
   ]
  },
  {
   "cell_type": "code",
   "execution_count": null,
   "metadata": {
    "ExecuteTime": {
     "end_time": "2020-10-13T04:56:28.872067Z",
     "start_time": "2020-10-13T04:56:28.708Z"
    }
   },
   "outputs": [],
   "source": [
    "\"\"\"\n",
    "You need to add 1 to the qnorm(.99, 15, 3.5) which will \n",
    "\n",
    "\"\"\"\n",
    "\n",
    "p1_mean = 15\n",
    "p1_standard_deviation = 3.5"
   ]
  },
  {
   "cell_type": "markdown",
   "metadata": {},
   "source": [
    "#### What value of c is such that 99% of all parcels are at least 1 lb under the surcharge weight? (Round your answer to four decimal places.)\n"
   ]
  },
  {
   "cell_type": "code",
   "execution_count": null,
   "metadata": {
    "ExecuteTime": {
     "end_time": "2020-10-13T04:56:28.872067Z",
     "start_time": "2020-10-13T04:56:28.709Z"
    }
   },
   "outputs": [],
   "source": [
    "%%R\n",
    "\n",
    "solution <- qnorm(.99, 15, 3.5) + 1\n",
    "print(solution)"
   ]
  },
  {
   "cell_type": "markdown",
   "metadata": {},
   "source": [
    "# 2. DEVORESTAT9 4.E.054.S.\n",
    "Suppose that 10% of all steel shafts produced by a certain process are nonconforming but can be reworked (rather than having to be scrapped). Consider a random sample of 200 shafts, and let X denote the number among these that are nonconforming and can be reworked. (Round your answers to four decimal places.)\n"
   ]
  },
  {
   "cell_type": "code",
   "execution_count": null,
   "metadata": {
    "ExecuteTime": {
     "end_time": "2020-10-13T04:56:28.873068Z",
     "start_time": "2020-10-13T04:56:28.711Z"
    }
   },
   "outputs": [],
   "source": [
    "p2_steel_nonconforming_that_can_be_reworked = .1\n",
    "p2_random_sample_shafts = 200"
   ]
  },
  {
   "cell_type": "code",
   "execution_count": null,
   "metadata": {
    "ExecuteTime": {
     "end_time": "2020-10-13T04:56:28.873068Z",
     "start_time": "2020-10-13T04:56:28.713Z"
    }
   },
   "outputs": [],
   "source": [
    "# mean = n * p\n",
    "p2_mean = p2_steel_nonconforming_that_can_be_reworked * p2_random_sample_shafts\n",
    "print(f\"{p2_mean=}\")\n",
    "\n",
    "# Variance = n * p * (1-p) = Mean * (1-p)\n",
    "p2_variance = p2_mean * (1 - p2_steel_nonconforming_that_can_be_reworked)\n",
    "print(f\"{p2_variance=}\")\n",
    "\n",
    "# Standard Deviation = sqrt(variance)\n",
    "p2_standard_deviation = p2_variance**(1/2)\n",
    "print(f\"{p2_standard_deviation=}\")\n"
   ]
  },
  {
   "cell_type": "markdown",
   "metadata": {},
   "source": [
    "### (a) What is the (approximate) probability that X is at most 30?"
   ]
  },
  {
   "cell_type": "code",
   "execution_count": null,
   "metadata": {
    "ExecuteTime": {
     "end_time": "2020-10-13T04:56:28.874069Z",
     "start_time": "2020-10-13T04:56:28.714Z"
    }
   },
   "outputs": [],
   "source": [
    "%%R\n",
    "# NOTE YOU HAVE TO DEAL WITH CONTINUITY CORRECTION\n",
    "\n",
    "# pnorm(30 + .5, mean, standard_deviation)\n",
    "solution <- pnorm(30.5, 20.0, 4.242640687119285)\n",
    "print(solution)"
   ]
  },
  {
   "cell_type": "markdown",
   "metadata": {},
   "source": [
    "### (b) What is the (approximate) probability that X is less than 30?"
   ]
  },
  {
   "cell_type": "code",
   "execution_count": null,
   "metadata": {
    "ExecuteTime": {
     "end_time": "2020-10-13T04:56:28.874069Z",
     "start_time": "2020-10-13T04:56:28.715Z"
    }
   },
   "outputs": [],
   "source": [
    "%%R\n",
    "\n",
    "# pnorm(30 - .5, mean, standard_deviation)\n",
    "solution <- pnorm(30 - .5, 20.0, 4.242640687119285)\n",
    "print(solution)"
   ]
  },
  {
   "cell_type": "markdown",
   "metadata": {},
   "source": [
    "### (c) What is the (approximate) probability that X is between 15 and 25 (inclusive)?"
   ]
  },
  {
   "cell_type": "code",
   "execution_count": null,
   "metadata": {
    "ExecuteTime": {
     "end_time": "2020-10-13T04:56:28.875070Z",
     "start_time": "2020-10-13T04:56:28.716Z"
    },
    "scrolled": true
   },
   "outputs": [],
   "source": [
    "%%R\n",
    "\n",
    "# pnorm(25 + .5, mean, standard_deviation) - pnorm(15 - .5, mean, standard_deviation)\n",
    "solution <- pnorm(25 + .5, 20.0, 4.242640687119285) - pnorm(15 - .5, 20.0, 4.242640687119285)\n",
    "print(solution)"
   ]
  },
  {
   "cell_type": "markdown",
   "metadata": {},
   "source": [
    "<img src=\"images/4_3_and_4_4_notes_1.png\" alt=\"4_3_and_4_4_notes_1.png\" style=\"float:left;\">\n"
   ]
  },
  {
   "cell_type": "markdown",
   "metadata": {},
   "source": [
    "# 3. DEVORESTAT9 4.E.060.\n",
    "Let X denote the distance (m) that an animal moves from its birth site to the first territorial vacancy it encounters. Suppose that for banner-tailed kangaroo rats, X has an exponential distribution with parameter λ = 0.01377.\n"
   ]
  },
  {
   "cell_type": "code",
   "execution_count": null,
   "metadata": {
    "ExecuteTime": {
     "end_time": "2020-10-13T04:56:28.875070Z",
     "start_time": "2020-10-13T04:56:28.717Z"
    }
   },
   "outputs": [],
   "source": [
    "\"\"\"\n",
    "Lambda is a rate: λ = 1/𝜷  # From above Image\n",
    "Mean = 𝜷  # From above Image\n",
    "shape = 𝛼  # From above Image\n",
    "\n",
    "Standard Deviation = Mean  # Implied from above Image\n",
    "Vairance = Mean^2 = Standard_Deviation^2   # From above Image\n",
    "\n",
    "\"\"\""
   ]
  },
  {
   "cell_type": "code",
   "execution_count": 5,
   "metadata": {
    "ExecuteTime": {
     "end_time": "2020-10-13T05:04:46.618512Z",
     "start_time": "2020-10-13T05:04:46.604500Z"
    },
    "scrolled": true
   },
   "outputs": [
    {
     "name": "stdout",
     "output_type": "stream",
     "text": [
      "p3_lambda=0.01377\n",
      "p3_mean=72.62164124909224\n",
      "p3_variance=5273.9027777118545\n",
      "p3_standard_deviation=72.62164124909224\n"
     ]
    }
   ],
   "source": [
    "p3_lambda = 0.01377\n",
    "print(f\"{p3_lambda=}\")\n",
    "\n",
    "# Mean = 𝜷 = 1/lambda = 1/λ\n",
    "p3_mean = 1/p3_lambda\n",
    "print(f\"{p3_mean=}\")\n",
    "\n",
    "# Variance = Mean^2\n",
    "p3_variance = p3_mean**2\n",
    "print(f\"{p3_variance=}\")\n",
    "\n",
    "# Standard Deviation\n",
    "p3_standard_deviation = p3_mean\n",
    "print(f\"{p3_standard_deviation=}\")"
   ]
  },
  {
   "cell_type": "markdown",
   "metadata": {
    "ExecuteTime": {
     "end_time": "2020-10-13T03:46:40.216911Z",
     "start_time": "2020-10-13T03:46:40.202899Z"
    }
   },
   "source": [
    "### (a) What is the probability that the distance is at most 100 m? At most 200 m? Between 100 and 200 m? (Round your answers to four decimal places.)"
   ]
  },
  {
   "cell_type": "code",
   "execution_count": null,
   "metadata": {
    "ExecuteTime": {
     "end_time": "2020-10-13T04:56:28.876071Z",
     "start_time": "2020-10-13T04:56:28.719Z"
    }
   },
   "outputs": [],
   "source": [
    "\"\"\"\n",
    "Alternative Forms:\n",
    "    P(X<100)\n",
    "    CDF(100)\n",
    "    (1 - e^((λ) * (100)))\n",
    "    pexp(value, lambda)\n",
    "    pexp(X, λ)\n",
    "    (1 - e^(-λX))\n",
    "\n",
    "\"\"\""
   ]
  },
  {
   "cell_type": "markdown",
   "metadata": {},
   "source": [
    "#### at most 100 m\n"
   ]
  },
  {
   "cell_type": "code",
   "execution_count": null,
   "metadata": {
    "ExecuteTime": {
     "end_time": "2020-10-13T04:56:28.877071Z",
     "start_time": "2020-10-13T04:56:28.720Z"
    }
   },
   "outputs": [],
   "source": [
    "%%R\n",
    "\n",
    "# pexp(X, λ)\n",
    "solution <- pexp(100, 0.01377)\n",
    "print(solution=)"
   ]
  },
  {
   "cell_type": "markdown",
   "metadata": {},
   "source": [
    "#### at most 200 m"
   ]
  },
  {
   "cell_type": "code",
   "execution_count": null,
   "metadata": {
    "ExecuteTime": {
     "end_time": "2020-10-13T04:56:28.877071Z",
     "start_time": "2020-10-13T04:56:28.721Z"
    }
   },
   "outputs": [],
   "source": [
    "%%R\n",
    "\n",
    "# pexp(X, λ)\n",
    "solution <- pexp(200, 0.01377)\n",
    "print(solution=)"
   ]
  },
  {
   "cell_type": "markdown",
   "metadata": {},
   "source": [
    "#### between 100 and 200 m\t"
   ]
  },
  {
   "cell_type": "code",
   "execution_count": null,
   "metadata": {
    "ExecuteTime": {
     "end_time": "2020-10-13T04:56:28.878073Z",
     "start_time": "2020-10-13T04:56:28.723Z"
    }
   },
   "outputs": [],
   "source": [
    "%%R\n",
    "\n",
    "# pexp(X, λ)\n",
    "solution <- pexp(200, 0.01377) - pexp(100, 0.01377)\n",
    "print(solution=)"
   ]
  },
  {
   "cell_type": "markdown",
   "metadata": {},
   "source": [
    "### (b) What is the probability that distance exceeds the mean distance by more than 2 standard deviations? (Round your answer to four decimal places.)\n"
   ]
  },
  {
   "cell_type": "code",
   "execution_count": 6,
   "metadata": {
    "ExecuteTime": {
     "end_time": "2020-10-13T05:04:48.981779Z",
     "start_time": "2020-10-13T05:04:48.972771Z"
    }
   },
   "outputs": [
    {
     "name": "stdout",
     "output_type": "stream",
     "text": [
      "p3b_lower_bound=-72.62164124909224\n",
      "p3b_upper_bound=217.8649237472767\n"
     ]
    }
   ],
   "source": [
    "p3b_standard_deviations = 2\n",
    "\"\"\"\n",
    "P(|X - mu| < 2 * SD)\n",
    "P(-2*SD < X - mu < 2*SD)\n",
    "P(mu - 2*SD < X < mu + 2*SD)\n",
    "\n",
    "mu = Mean\n",
    "SD = Standard Devivation\n",
    "\n",
    "Recall that Standard Deviation = Mean\n",
    "Recall that if X < 0 then 0\n",
    "\n",
    "\"\"\"\n",
    "\n",
    "p3b_lower_bound = p3_mean - p3b_standard_deviations * p3_standard_deviation\n",
    "print(f\"{p3b_lower_bound=}\")\n",
    "\n",
    "p3b_upper_bound = p3_mean + p3b_standard_deviations * p3_standard_deviation\n",
    "print(f\"{p3b_upper_bound=}\")\n",
    "\n",
    "\"\"\"\n",
    "Recall Formulas and plug in\n",
    "    (1 - e^(-0.01377 * (1/0.01377 - 2 * 1/0.01377))) - (1 - e^(-0.01377 * (1/0.01377 + 2 * 1/0.01377)))\n",
    "    (1 - e^(-0.01377 * (-72.62164124909224))) - (1 - e^(-0.01377 * (217.8649237472767)))  \n",
    "    \n",
    "Remove the lower bound because less than 0\n",
    "    (1 - e^(-0.01377 * (217.8649237472767)))\n",
    "    \n",
    "Greater than 2 SD is 1 - CDF\n",
    "    1 - (1 - e^(-0.01377 * (1/0.01377 + 2 * 1/0.01377) ))\n",
    "    1 - (1 - e^(-0.01377 * (217.8649237472767)))\n",
    "    1 - CDF(217.8649237472767)\n",
    "    \n",
    "    pexp(X, λ)\n",
    "    1 - pexp(1/0.01377 + 2 * 1/0.01377, 0.01377)\n",
    "    1 - pexp(217.8649237472767, 0.01377)\n",
    "    \n",
    "    0.0497870683678639429793424156500617766316995921884232155676\n",
    "\"\"\"\n",
    "print(end=\"\")"
   ]
  },
  {
   "cell_type": "code",
   "execution_count": null,
   "metadata": {
    "ExecuteTime": {
     "end_time": "2020-10-13T04:56:28.879074Z",
     "start_time": "2020-10-13T04:56:28.725Z"
    }
   },
   "outputs": [],
   "source": [
    "%%R\n",
    "\n",
    "# pexp(X, λ)\n",
    "# 1 - pexp(217.8649237472767, 0.01377)\n",
    "solution <- 1 - pexp(72.62164124909224 + 2 * 72.62164124909224, 0.01377)\n",
    "print(solution)"
   ]
  },
  {
   "cell_type": "markdown",
   "metadata": {},
   "source": [
    "### (c) What is the value of the median distance? (Round your answer to two decimal places.)\n"
   ]
  },
  {
   "cell_type": "code",
   "execution_count": null,
   "metadata": {
    "ExecuteTime": {
     "end_time": "2020-10-13T04:56:28.879074Z",
     "start_time": "2020-10-13T04:56:28.726Z"
    }
   },
   "outputs": [],
   "source": [
    "\"\"\"\n",
    "Similar to \n",
    "    qnorm(pecentile) = numberline \n",
    "    \n",
    "Use \n",
    "    qexp(value) = position\n",
    "\n",
    "Long way:\n",
    "    Given .5 as the median\n",
    "    .5 = CDF(X)\n",
    "    .5 = (1 - e^(-λX))\n",
    "    .5 = (1 - e^(-(0.01377)*(X)))\n",
    "    .5 = e^(-(0.01377)*(X)))\n",
    "    ln(.5) = -(0.01377)*(X)\n",
    "    X = ln(.5)/-(0.01377)\n",
    "\n",
    "\"\"\""
   ]
  },
  {
   "cell_type": "code",
   "execution_count": null,
   "metadata": {
    "ExecuteTime": {
     "end_time": "2020-10-13T04:56:28.879074Z",
     "start_time": "2020-10-13T04:56:28.728Z"
    }
   },
   "outputs": [],
   "source": [
    "%%R\n",
    "\n",
    "solution <- qexp(.5, 0.01377)\n",
    "print(solution)"
   ]
  },
  {
   "cell_type": "markdown",
   "metadata": {},
   "source": [
    "# 4. DEVORESTAT9 4.E.061.MI.\n",
    "Data collected at an airport suggests that an exponential distribution with mean value 2.675 hours is a good model for rainfall duration.\n"
   ]
  },
  {
   "cell_type": "code",
   "execution_count": 2,
   "metadata": {
    "ExecuteTime": {
     "end_time": "2020-10-13T04:56:58.280278Z",
     "start_time": "2020-10-13T04:56:58.266267Z"
    }
   },
   "outputs": [
    {
     "name": "stdout",
     "output_type": "stream",
     "text": [
      "p4_mean=2.675\n",
      "p4_lambda=0.3738317757009346\n",
      "p4_variance=7.155624999999999\n",
      "p4_standard_deviation=2.675\n"
     ]
    }
   ],
   "source": [
    "# Mean = 𝜷 = 1/lambda = 1/λ\n",
    "p4_mean = 2.675\n",
    "print(f\"{p4_mean=}\")\n",
    "\n",
    "p4_lambda = 1/p4_mean\n",
    "print(f\"{p4_lambda=}\")\n",
    "\n",
    "# Variance = Mean^2\n",
    "p4_variance = p4_mean**2\n",
    "print(f\"{p4_variance=}\")\n",
    "\n",
    "# Standard Deviation\n",
    "p4_standard_deviation = p4_mean\n",
    "print(f\"{p4_standard_deviation=}\")"
   ]
  },
  {
   "cell_type": "markdown",
   "metadata": {},
   "source": [
    "### (a) What is the probability that the duration of a particular rainfall event at this location is at least 2 hours? At most 3 hours? Between 2 and 3 hours? (Round your answers to four decimal places.)"
   ]
  },
  {
   "cell_type": "code",
   "execution_count": null,
   "metadata": {
    "ExecuteTime": {
     "end_time": "2020-10-13T04:56:28.880075Z",
     "start_time": "2020-10-13T04:56:28.730Z"
    }
   },
   "outputs": [],
   "source": [
    "\"\"\"\n",
    "Alternative Forms:\n",
    "    P(X<2)\n",
    "    CDF(2)\n",
    "    (1 - e^((λ) * (2)))\n",
    "    pexp(value, lambda)\n",
    "    pexp(X, λ)\n",
    "    (1 - e^(-λX))\n",
    "\n",
    "\"\"\""
   ]
  },
  {
   "cell_type": "markdown",
   "metadata": {},
   "source": [
    "#### at least 2 hours\t"
   ]
  },
  {
   "cell_type": "code",
   "execution_count": null,
   "metadata": {
    "ExecuteTime": {
     "end_time": "2020-10-13T04:56:28.881076Z",
     "start_time": "2020-10-13T04:56:28.731Z"
    }
   },
   "outputs": [],
   "source": [
    "%%R\n",
    "\n",
    "# pexp(X, λ)\n",
    "solution <- 1 - pexp(2, 0.3738317757009346)\n",
    "print(solution)"
   ]
  },
  {
   "cell_type": "markdown",
   "metadata": {},
   "source": [
    "#### at most 3 hours\t"
   ]
  },
  {
   "cell_type": "code",
   "execution_count": null,
   "metadata": {},
   "outputs": [],
   "source": [
    "%%R\n",
    "\n",
    "# pexp(X, λ)\n",
    "solution <- pexp(3, 0.3738317757009346)\n",
    "print(solution)"
   ]
  },
  {
   "cell_type": "markdown",
   "metadata": {},
   "source": [
    "#### between 2 and 3 hours\t"
   ]
  },
  {
   "cell_type": "code",
   "execution_count": 3,
   "metadata": {
    "ExecuteTime": {
     "end_time": "2020-10-13T04:59:28.087297Z",
     "start_time": "2020-10-13T04:59:28.072284Z"
    }
   },
   "outputs": [
    {
     "name": "stderr",
     "output_type": "stream",
     "text": [
      "UsageError: Cell magic `%%R` not found.\n"
     ]
    }
   ],
   "source": [
    "%%R\n",
    "\n",
    "# pexp(X, λ)\n",
    "solution <- pexp(3, 0.3738317757009346) - pexp(2, 0.3738317757009346)\n",
    "print(solution)"
   ]
  },
  {
   "cell_type": "markdown",
   "metadata": {},
   "source": [
    "### (b) What is the probability that rainfall duration exceeds the mean value by more than 4 standard deviations? (Round your answer to four decimal places.)"
   ]
  },
  {
   "cell_type": "code",
   "execution_count": 10,
   "metadata": {
    "ExecuteTime": {
     "end_time": "2020-10-13T05:05:22.700934Z",
     "start_time": "2020-10-13T05:05:22.682919Z"
    }
   },
   "outputs": [
    {
     "name": "stdout",
     "output_type": "stream",
     "text": [
      "p4b_lower_bound=-8.024999999999999\n",
      "p4b_upper_bound=13.375\n"
     ]
    }
   ],
   "source": [
    "p4b_standard_deviations = 4\n",
    "\n",
    "\"\"\"\n",
    "P(|X - mu| < 2 * SD)\n",
    "P(-4*SD < X - mu < 4*SD)\n",
    "P(mu - 4*SD < X < mu + 4*SD)\n",
    "\n",
    "mu = Mean\n",
    "SD = Standard Devivation\n",
    "\n",
    "Recall that Standard Deviation = Mean\n",
    "Recall that if X < 0 then 0\n",
    "\n",
    "\"\"\"\n",
    "\n",
    "p4b_lower_bound = p4_mean - p4b_standard_deviations * p4_standard_deviation\n",
    "print(f\"{p4b_lower_bound=}\")\n",
    "\n",
    "p4b_upper_bound = p4_mean + p4b_standard_deviations * p4_standard_deviation\n",
    "print(f\"{p4b_upper_bound=}\")\n",
    "\n",
    "\"\"\"\n",
    "Recall Formulas and plug in\n",
    "    (1 - e^(-0.3738317 * (1/0.3738317 - 4 * 1/0.3738317))) - (1 - e^(-0.3738317 * (1/0.3738317 + 4 * 1/0.3738317)))\n",
    "    (1 - e^(-0.3738317 * (2.675 - 4 * 2.675))) - (1 - e^(-0.3738317 * (2.675 + 4 * 2.675)))\n",
    "    (1 - e^(-0.3738317 * (-8.0249999))) - (1 - e^(-0.3738317 * (13.375)))  \n",
    "    \n",
    "    \n",
    "Remove the lower bound because less than 0\n",
    "    (1 - e^(-0.3738317 * (13.375)))\n",
    "    \n",
    "Greater than 4 SD is 1 - CDF\n",
    "    1 - (1 - e^(-0.3738317 * (1/0.3738317 + 4 * 1/0.3738317)))\n",
    "    1 - (1 - e^(-0.3738317 * (2.675 + 4 * 2.675)))\n",
    "    1 - (1 - e^(-0.3738317 * (13.375)))\n",
    "    1 - CDF(13.375)\n",
    "    \n",
    "    pexp(X, λ)\n",
    "    1 - pexp(1/0.3738317 + 4 * 1/0.3738317, 0.37383177)\n",
    "    1 - pexp(1/0.3738317 + 4 * 2.675, 0.37383177)\n",
    "    1 - pexp(13.375, 0.37383177)\n",
    "    \n",
    "    0.006737948\n",
    "\"\"\"\n",
    "print(end=\"\")"
   ]
  },
  {
   "cell_type": "code",
   "execution_count": null,
   "metadata": {},
   "outputs": [],
   "source": [
    "%%R\n",
    "\n",
    "# pexp(X, λ)\n",
    "# 1 - pexp(1/0.3738317 + 4 * 1/0.3738317, 0.37383177)\n",
    "# 1 - pexp(13.375, 0.37383177)\n",
    "solution <- 1 - pexp(1/0.3738317 + 4 * 1/0.3738317, 0.37383177)\n",
    "\n",
    "print(solution)"
   ]
  },
  {
   "cell_type": "markdown",
   "metadata": {},
   "source": [
    "#### What is the probability that it is less than the mean value by more than one standard deviation?\n"
   ]
  },
  {
   "cell_type": "code",
   "execution_count": 12,
   "metadata": {
    "ExecuteTime": {
     "end_time": "2020-10-13T05:23:40.531738Z",
     "start_time": "2020-10-13T05:23:40.525735Z"
    }
   },
   "outputs": [],
   "source": [
    "\"\"\"\n",
    "Since Standard Deviation and Mean are the same then \n",
    "    (1 - e^(-0.3738317 * (1/0.3738317 + 1 * 1/0.3738317)))\n",
    "    (1 - e^(-0.3738317 * (0)))\n",
    "    (1 - e^((0)))\n",
    "    (1 - 1)\n",
    "    0\n",
    "    \n",
    "    pexp(1/0.3738317 - 1 * 1/0.3738317, 0.3738317)\n",
    "    0\n",
    "\"\"\"\n",
    "print(end=\"\")"
   ]
  },
  {
   "cell_type": "code",
   "execution_count": 13,
   "metadata": {
    "ExecuteTime": {
     "end_time": "2020-10-13T05:24:52.599630Z",
     "start_time": "2020-10-13T05:24:52.588620Z"
    }
   },
   "outputs": [
    {
     "name": "stderr",
     "output_type": "stream",
     "text": [
      "UsageError: Cell magic `%%R` not found.\n"
     ]
    }
   ],
   "source": [
    "%%R\n",
    "\n",
    "# pexp(X, λ)\n",
    "# 1 - pexp(1/0.3738317 - 1 * 1/0.3738317, 0.3738317)\n",
    "# 1 - pexp(2.675 - 2.675, 0.3738317)\n",
    "# 1 - pexp(0, 0.3738317)\n",
    "solution <- pexp(1/0.3738317 - 1 * 1/0.3738317, 0.3738317)\n",
    "\n",
    "print(solution)"
   ]
  },
  {
   "cell_type": "code",
   "execution_count": null,
   "metadata": {},
   "outputs": [],
   "source": []
  }
 ],
 "metadata": {
  "kernelspec": {
   "display_name": "Python 3.8.4 64-bit",
   "language": "python",
   "name": "python_3.8.4_64-bit"
  },
  "language_info": {
   "codemirror_mode": {
    "name": "ipython",
    "version": 3
   },
   "file_extension": ".py",
   "mimetype": "text/x-python",
   "name": "python",
   "nbconvert_exporter": "python",
   "pygments_lexer": "ipython3",
   "version": "3.8.4"
  },
  "varInspector": {
   "cols": {
    "lenName": 16,
    "lenType": 16,
    "lenVar": 40
   },
   "kernels_config": {
    "python": {
     "delete_cmd_postfix": "",
     "delete_cmd_prefix": "del ",
     "library": "var_list.py",
     "varRefreshCmd": "print(var_dic_list())"
    },
    "r": {
     "delete_cmd_postfix": ") ",
     "delete_cmd_prefix": "rm(",
     "library": "var_list.r",
     "varRefreshCmd": "cat(var_dic_list()) "
    }
   },
   "types_to_exclude": [
    "module",
    "function",
    "builtin_function_or_method",
    "instance",
    "_Feature"
   ],
   "window_display": false
  }
 },
 "nbformat": 4,
 "nbformat_minor": 4
}

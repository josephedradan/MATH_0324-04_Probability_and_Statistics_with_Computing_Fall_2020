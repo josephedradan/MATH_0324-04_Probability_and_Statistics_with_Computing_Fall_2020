{
 "cells": [
  {
   "cell_type": "code",
   "execution_count": 1,
   "metadata": {
    "ExecuteTime": {
     "end_time": "2020-10-14T01:33:59.014358Z",
     "start_time": "2020-10-14T01:33:58.382433Z"
    }
   },
   "outputs": [
    {
     "name": "stderr",
     "output_type": "stream",
     "text": [
      "C:\\Users\\Joseph\\AppData\\Local\\Programs\\Python\\Python38\\lib\\site-packages\\rpy2\\robjects\\packages.py:365: UserWarning: The symbol 'quartz' is not in this R namespace/package.\n",
      "  warnings.warn(\n"
     ]
    }
   ],
   "source": [
    "\"\"\"\n",
    "More on rpy2 options\n",
    "https://ipython.org/ipython-doc/2/config/extensions/rmagic.html\n",
    "\"\"\"\n",
    "import rpy2\n",
    "%load_ext rpy2.ipython"
   ]
  },
  {
   "cell_type": "markdown",
   "metadata": {},
   "source": [
    "# 1. DEVORESTAT9 4.E.047.S.\n",
    "The weight distribution of parcels sent in a certain manner is normal with mean value 15 lb and standard deviation 3.5 lb. The parcel service wishes to establish a weight value c beyond which there will be a surcharge.\n"
   ]
  },
  {
   "cell_type": "code",
   "execution_count": 2,
   "metadata": {
    "ExecuteTime": {
     "end_time": "2020-10-14T01:33:59.029906Z",
     "start_time": "2020-10-14T01:33:59.016360Z"
    }
   },
   "outputs": [],
   "source": [
    "p1_mean = 15\n",
    "p1_standard_deviation = 3.5"
   ]
  },
  {
   "cell_type": "markdown",
   "metadata": {},
   "source": [
    "#### What value of c is such that 99% of all parcels are at least 1 lb under the surcharge weight? (Round your answer to four decimal places.)\n"
   ]
  },
  {
   "cell_type": "code",
   "execution_count": null,
   "metadata": {},
   "outputs": [],
   "source": [
    "\"\"\"\n",
    "You need to add 1 to the qnorm(.99, 15, 3.5) which will account for\n",
    "\n",
    "\"\"\""
   ]
  },
  {
   "cell_type": "code",
   "execution_count": 3,
   "metadata": {
    "ExecuteTime": {
     "end_time": "2020-10-14T01:33:59.045919Z",
     "start_time": "2020-10-14T01:33:59.030907Z"
    }
   },
   "outputs": [
    {
     "name": "stdout",
     "output_type": "stream",
     "text": [
      "[1] 24.14222\n"
     ]
    }
   ],
   "source": [
    "%%R\n",
    "\n",
    "solution <- qnorm(.99, 15, 3.5) + 1\n",
    "print(solution)"
   ]
  },
  {
   "cell_type": "markdown",
   "metadata": {},
   "source": [
    "# 2. DEVORESTAT9 4.E.054.S.\n",
    "Suppose that 10% of all steel shafts produced by a certain process are nonconforming but can be reworked (rather than having to be scrapped). Consider a random sample of 200 shafts, and let X denote the number among these that are nonconforming and can be reworked. (Round your answers to four decimal places.)\n"
   ]
  },
  {
   "cell_type": "code",
   "execution_count": 4,
   "metadata": {
    "ExecuteTime": {
     "end_time": "2020-10-14T01:33:59.061191Z",
     "start_time": "2020-10-14T01:33:59.046921Z"
    }
   },
   "outputs": [],
   "source": [
    "p2_steel_nonconforming_that_can_be_reworked = .1\n",
    "p2_random_sample_shafts = 200"
   ]
  },
  {
   "cell_type": "code",
   "execution_count": 5,
   "metadata": {
    "ExecuteTime": {
     "end_time": "2020-10-14T01:33:59.077204Z",
     "start_time": "2020-10-14T01:33:59.062192Z"
    }
   },
   "outputs": [
    {
     "name": "stdout",
     "output_type": "stream",
     "text": [
      "p2_mean=20.0\n",
      "p2_variance=18.0\n",
      "p2_standard_deviation=4.242640687119285\n"
     ]
    }
   ],
   "source": [
    "# mean = n * p\n",
    "p2_mean = p2_steel_nonconforming_that_can_be_reworked * p2_random_sample_shafts\n",
    "print(f\"{p2_mean=}\")\n",
    "\n",
    "# Variance = n * p * (1-p) = Mean * (1-p)\n",
    "p2_variance = p2_mean * (1 - p2_steel_nonconforming_that_can_be_reworked)\n",
    "print(f\"{p2_variance=}\")\n",
    "\n",
    "# Standard Deviation = sqrt(variance)\n",
    "p2_standard_deviation = p2_variance**(1/2)\n",
    "print(f\"{p2_standard_deviation=}\")\n"
   ]
  },
  {
   "cell_type": "markdown",
   "metadata": {},
   "source": [
    "### (a) What is the (approximate) probability that X is at most 30?"
   ]
  },
  {
   "cell_type": "code",
   "execution_count": 6,
   "metadata": {
    "ExecuteTime": {
     "end_time": "2020-10-14T01:33:59.093217Z",
     "start_time": "2020-10-14T01:33:59.079205Z"
    }
   },
   "outputs": [
    {
     "name": "stdout",
     "output_type": "stream",
     "text": [
      "[1] 0.9933358\n"
     ]
    }
   ],
   "source": [
    "%%R\n",
    "# NOTE YOU HAVE TO DEAL WITH CONTINUITY CORRECTION\n",
    "\n",
    "# pnorm(30 + .5, mean, standard_deviation)\n",
    "solution <- pnorm(30.5, 20.0, 4.242640687119285)\n",
    "print(solution)"
   ]
  },
  {
   "cell_type": "markdown",
   "metadata": {},
   "source": [
    "### (b) What is the (approximate) probability that X is less than 30?"
   ]
  },
  {
   "cell_type": "code",
   "execution_count": 7,
   "metadata": {
    "ExecuteTime": {
     "end_time": "2020-10-14T01:33:59.109227Z",
     "start_time": "2020-10-14T01:33:59.094218Z"
    }
   },
   "outputs": [
    {
     "name": "stdout",
     "output_type": "stream",
     "text": [
      "[1] 0.9874276\n"
     ]
    }
   ],
   "source": [
    "%%R\n",
    "\n",
    "# pnorm(30 - .5, mean, standard_deviation)\n",
    "solution <- pnorm(30 - .5, 20.0, 4.242640687119285)\n",
    "print(solution)"
   ]
  },
  {
   "cell_type": "markdown",
   "metadata": {},
   "source": [
    "### (c) What is the (approximate) probability that X is between 15 and 25 (inclusive)?"
   ]
  },
  {
   "cell_type": "code",
   "execution_count": 8,
   "metadata": {
    "ExecuteTime": {
     "end_time": "2020-10-14T01:33:59.125241Z",
     "start_time": "2020-10-14T01:33:59.110228Z"
    },
    "scrolled": true
   },
   "outputs": [
    {
     "name": "stdout",
     "output_type": "stream",
     "text": [
      "[1] 0.8051494\n"
     ]
    }
   ],
   "source": [
    "%%R\n",
    "\n",
    "# pnorm(25 + .5, mean, standard_deviation) - pnorm(15 - .5, mean, standard_deviation)\n",
    "solution <- pnorm(25 + .5, 20.0, 4.242640687119285) - pnorm(15 - .5, 20.0, 4.242640687119285)\n",
    "print(solution)"
   ]
  },
  {
   "cell_type": "markdown",
   "metadata": {},
   "source": [
    "<img src=\"images/4_3_and_4_4_notes_1.png\" alt=\"4_3_and_4_4_notes_1.png\" style=\"float:left;\">\n"
   ]
  },
  {
   "cell_type": "markdown",
   "metadata": {},
   "source": [
    "# 3. DEVORESTAT9 4.E.060.\n",
    "Let X denote the distance (m) that an animal moves from its birth site to the first territorial vacancy it encounters. Suppose that for banner-tailed kangaroo rats, X has an exponential distribution with parameter λ = 0.01377.\n"
   ]
  },
  {
   "cell_type": "code",
   "execution_count": 9,
   "metadata": {
    "ExecuteTime": {
     "end_time": "2020-10-14T01:33:59.141254Z",
     "start_time": "2020-10-14T01:33:59.126241Z"
    }
   },
   "outputs": [
    {
     "data": {
      "text/plain": [
       "'\\nLambda is a rate: λ = 1/𝜷  # From above Image\\nMean = 𝜷  # From above Image\\nshape = 𝛼  # From above Image\\n\\nStandard Deviation = Mean  # Implied from above Image\\nVairance = Mean^2 = Standard_Deviation^2   # From above Image\\n\\n'"
      ]
     },
     "execution_count": 9,
     "metadata": {},
     "output_type": "execute_result"
    }
   ],
   "source": [
    "\"\"\"\n",
    "Lambda is a rate: λ = 1/𝜷  # From above Image\n",
    "Mean = 𝜷  # From above Image\n",
    "shape = 𝛼  # From above Image\n",
    "\n",
    "Standard Deviation = Mean  # Implied from above Image\n",
    "Vairance = Mean^2 = Standard_Deviation^2   # From above Image\n",
    "\n",
    "\"\"\"\n",
    "print(end=\"\")"
   ]
  },
  {
   "cell_type": "code",
   "execution_count": 10,
   "metadata": {
    "ExecuteTime": {
     "end_time": "2020-10-14T01:33:59.157267Z",
     "start_time": "2020-10-14T01:33:59.142255Z"
    },
    "scrolled": true
   },
   "outputs": [
    {
     "name": "stdout",
     "output_type": "stream",
     "text": [
      "p3_lambda=0.01377\n",
      "p3_mean=72.62164124909224\n",
      "p3_variance=5273.9027777118545\n",
      "p3_standard_deviation=72.62164124909224\n"
     ]
    }
   ],
   "source": [
    "p3_lambda = 0.01377\n",
    "print(f\"{p3_lambda=}\")\n",
    "\n",
    "# Mean = 𝜷 = 1/lambda = 1/λ\n",
    "p3_mean = 1/p3_lambda\n",
    "print(f\"{p3_mean=}\")\n",
    "\n",
    "# Variance = Mean^2\n",
    "p3_variance = p3_mean**2\n",
    "print(f\"{p3_variance=}\")\n",
    "\n",
    "# Standard Deviation\n",
    "p3_standard_deviation = p3_mean\n",
    "print(f\"{p3_standard_deviation=}\")"
   ]
  },
  {
   "cell_type": "markdown",
   "metadata": {
    "ExecuteTime": {
     "end_time": "2020-10-13T03:46:40.216911Z",
     "start_time": "2020-10-13T03:46:40.202899Z"
    }
   },
   "source": [
    "### (a) What is the probability that the distance is at most 100 m? At most 200 m? Between 100 and 200 m? (Round your answers to four decimal places.)"
   ]
  },
  {
   "cell_type": "code",
   "execution_count": 29,
   "metadata": {
    "ExecuteTime": {
     "end_time": "2020-10-14T01:35:23.079579Z",
     "start_time": "2020-10-14T01:35:23.073574Z"
    }
   },
   "outputs": [],
   "source": [
    "\"\"\"\n",
    "Alternative Forms:\n",
    "    P(X<100)\n",
    "    CDF(100)\n",
    "    (1 - e^((λ) * (100)))\n",
    "    pexp(value, lambda)\n",
    "    pexp(X, λ)\n",
    "    (1 - e^(-λX))\n",
    "\n",
    "\"\"\"\n",
    "print(end=\"\")"
   ]
  },
  {
   "cell_type": "markdown",
   "metadata": {},
   "source": [
    "#### at most 100 m\n"
   ]
  },
  {
   "cell_type": "code",
   "execution_count": 12,
   "metadata": {
    "ExecuteTime": {
     "end_time": "2020-10-14T01:33:59.189295Z",
     "start_time": "2020-10-14T01:33:59.175283Z"
    }
   },
   "outputs": [
    {
     "name": "stdout",
     "output_type": "stream",
     "text": [
      "[1] 0.7476656\n"
     ]
    }
   ],
   "source": [
    "%%R\n",
    "\n",
    "# pexp(X, λ)\n",
    "solution <- pexp(100, 0.01377)\n",
    "print(solution)"
   ]
  },
  {
   "cell_type": "markdown",
   "metadata": {},
   "source": [
    "#### at most 200 m"
   ]
  },
  {
   "cell_type": "code",
   "execution_count": 13,
   "metadata": {
    "ExecuteTime": {
     "end_time": "2020-10-14T01:33:59.205308Z",
     "start_time": "2020-10-14T01:33:59.190296Z"
    }
   },
   "outputs": [
    {
     "name": "stdout",
     "output_type": "stream",
     "text": [
      "[1] 0.9363273\n"
     ]
    }
   ],
   "source": [
    "%%R\n",
    "\n",
    "# pexp(X, λ)\n",
    "solution <- pexp(200, 0.01377)\n",
    "print(solution)"
   ]
  },
  {
   "cell_type": "markdown",
   "metadata": {},
   "source": [
    "#### between 100 and 200 m\t"
   ]
  },
  {
   "cell_type": "code",
   "execution_count": 14,
   "metadata": {
    "ExecuteTime": {
     "end_time": "2020-10-14T01:33:59.220954Z",
     "start_time": "2020-10-14T01:33:59.206309Z"
    }
   },
   "outputs": [
    {
     "name": "stdout",
     "output_type": "stream",
     "text": [
      "[1] 0.1886618\n"
     ]
    }
   ],
   "source": [
    "%%R\n",
    "\n",
    "# pexp(X, λ)\n",
    "solution <- pexp(200, 0.01377) - pexp(100, 0.01377)\n",
    "print(solution)"
   ]
  },
  {
   "cell_type": "markdown",
   "metadata": {},
   "source": [
    "### (b) What is the probability that distance exceeds the mean distance by more than 2 standard deviations? (Round your answer to four decimal places.)\n"
   ]
  },
  {
   "cell_type": "code",
   "execution_count": 15,
   "metadata": {
    "ExecuteTime": {
     "end_time": "2020-10-14T01:33:59.236968Z",
     "start_time": "2020-10-14T01:33:59.221955Z"
    }
   },
   "outputs": [
    {
     "name": "stdout",
     "output_type": "stream",
     "text": [
      "p3b_lower_bound=-72.62164124909224\n",
      "p3b_upper_bound=217.8649237472767\n"
     ]
    }
   ],
   "source": [
    "p3b_standard_deviations = 2\n",
    "\"\"\"\n",
    "P(|X - mu| < 2 * SD)\n",
    "P(-2*SD < X - mu < 2*SD)\n",
    "P(mu - 2*SD < X < mu + 2*SD)\n",
    "\n",
    "mu = Mean\n",
    "SD = Standard Devivation\n",
    "\n",
    "Recall that Standard Deviation = Mean\n",
    "Recall that if X < 0 then 0\n",
    "\n",
    "\"\"\"\n",
    "\n",
    "p3b_lower_bound = p3_mean - p3b_standard_deviations * p3_standard_deviation\n",
    "print(f\"{p3b_lower_bound=}\")\n",
    "\n",
    "p3b_upper_bound = p3_mean + p3b_standard_deviations * p3_standard_deviation\n",
    "print(f\"{p3b_upper_bound=}\")\n",
    "\n",
    "\"\"\"\n",
    "Recall Formulas and plug in\n",
    "    (1 - e^(-0.01377 * (1/0.01377 - 2 * 1/0.01377))) - (1 - e^(-0.01377 * (1/0.01377 + 2 * 1/0.01377)))\n",
    "    (1 - e^(-0.01377 * (-72.62164124909224))) - (1 - e^(-0.01377 * (217.8649237472767)))  \n",
    "    \n",
    "Remove the lower bound because less than 0\n",
    "    (1 - e^(-0.01377 * (217.8649237472767)))\n",
    "    \n",
    "Greater than 2 SD is 1 - CDF\n",
    "    1 - (1 - e^(-0.01377 * (1/0.01377 + 2 * 1/0.01377) ))\n",
    "    1 - (1 - e^(-0.01377 * (217.8649237472767)))\n",
    "    1 - CDF(217.8649237472767)\n",
    "    \n",
    "    pexp(X, λ)\n",
    "    1 - pexp(1/0.01377 + 2 * 1/0.01377, 0.01377)\n",
    "    1 - pexp(217.8649237472767, 0.01377)\n",
    "    \n",
    "    0.0497870683678639429793424156500617766316995921884232155676\n",
    "\"\"\"\n",
    "print(end=\"\")"
   ]
  },
  {
   "cell_type": "code",
   "execution_count": 16,
   "metadata": {
    "ExecuteTime": {
     "end_time": "2020-10-14T01:33:59.252981Z",
     "start_time": "2020-10-14T01:33:59.237969Z"
    }
   },
   "outputs": [
    {
     "name": "stdout",
     "output_type": "stream",
     "text": [
      "[1] 0.04978707\n"
     ]
    }
   ],
   "source": [
    "%%R\n",
    "\n",
    "# pexp(X, λ)\n",
    "# 1 - pexp(217.8649237472767, 0.01377)\n",
    "solution <- 1 - pexp(72.62164124909224 + 2 * 72.62164124909224, 0.01377)\n",
    "print(solution)"
   ]
  },
  {
   "cell_type": "markdown",
   "metadata": {},
   "source": [
    "### (c) What is the value of the median distance? (Round your answer to two decimal places.)\n"
   ]
  },
  {
   "cell_type": "code",
   "execution_count": 30,
   "metadata": {
    "ExecuteTime": {
     "end_time": "2020-10-14T01:35:50.274627Z",
     "start_time": "2020-10-14T01:35:50.272625Z"
    }
   },
   "outputs": [],
   "source": [
    "\"\"\"\n",
    "Similar to \n",
    "    qnorm(pecentile) = numberline \n",
    "    \n",
    "Use \n",
    "    qexp(value) = position\n",
    "\n",
    "Long way:\n",
    "    Given .5 as the median\n",
    "    .5 = CDF(X)\n",
    "    .5 = (1 - e^(-λX))\n",
    "    .5 = (1 - e^(-(0.01377)*(X)))\n",
    "    .5 = e^(-(0.01377)*(X)))\n",
    "    ln(.5) = -(0.01377)*(X)\n",
    "    X = ln(.5)/-(0.01377)\n",
    "\n",
    "\"\"\"\n",
    "print(end=\"\")"
   ]
  },
  {
   "cell_type": "code",
   "execution_count": 18,
   "metadata": {
    "ExecuteTime": {
     "end_time": "2020-10-14T01:33:59.284216Z",
     "start_time": "2020-10-14T01:33:59.269204Z"
    }
   },
   "outputs": [
    {
     "name": "stdout",
     "output_type": "stream",
     "text": [
      "[1] 50.33749\n"
     ]
    }
   ],
   "source": [
    "%%R\n",
    "\n",
    "solution <- qexp(.5, 0.01377)\n",
    "print(solution)"
   ]
  },
  {
   "cell_type": "markdown",
   "metadata": {},
   "source": [
    "# 4. DEVORESTAT9 4.E.061.MI.\n",
    "Data collected at an airport suggests that an exponential distribution with mean value 2.675 hours is a good model for rainfall duration.\n"
   ]
  },
  {
   "cell_type": "code",
   "execution_count": 19,
   "metadata": {
    "ExecuteTime": {
     "end_time": "2020-10-14T01:33:59.299229Z",
     "start_time": "2020-10-14T01:33:59.285217Z"
    }
   },
   "outputs": [
    {
     "name": "stdout",
     "output_type": "stream",
     "text": [
      "p4_mean=2.675\n",
      "p4_lambda=0.3738317757009346\n",
      "p4_variance=7.155624999999999\n",
      "p4_standard_deviation=2.675\n"
     ]
    }
   ],
   "source": [
    "# Mean = 𝜷 = 1/lambda = 1/λ\n",
    "p4_mean = 2.675\n",
    "print(f\"{p4_mean=}\")\n",
    "\n",
    "p4_lambda = 1/p4_mean\n",
    "print(f\"{p4_lambda=}\")\n",
    "\n",
    "# Variance = Mean^2\n",
    "p4_variance = p4_mean**2\n",
    "print(f\"{p4_variance=}\")\n",
    "\n",
    "# Standard Deviation\n",
    "p4_standard_deviation = p4_mean\n",
    "print(f\"{p4_standard_deviation=}\")"
   ]
  },
  {
   "cell_type": "markdown",
   "metadata": {},
   "source": [
    "### (a) What is the probability that the duration of a particular rainfall event at this location is at least 2 hours? At most 3 hours? Between 2 and 3 hours? (Round your answers to four decimal places.)"
   ]
  },
  {
   "cell_type": "code",
   "execution_count": 31,
   "metadata": {
    "ExecuteTime": {
     "end_time": "2020-10-14T01:35:57.258312Z",
     "start_time": "2020-10-14T01:35:57.248302Z"
    }
   },
   "outputs": [],
   "source": [
    "\"\"\"\n",
    "Alternative Forms:\n",
    "    P(X<2)\n",
    "    CDF(2)\n",
    "    (1 - e^((λ) * (2)))\n",
    "    pexp(value, lambda)\n",
    "    pexp(X, λ)\n",
    "    (1 - e^(-λX))\n",
    "\n",
    "\"\"\"\n",
    "print(end=\"\")"
   ]
  },
  {
   "cell_type": "markdown",
   "metadata": {},
   "source": [
    "#### at least 2 hours\t"
   ]
  },
  {
   "cell_type": "code",
   "execution_count": 21,
   "metadata": {
    "ExecuteTime": {
     "end_time": "2020-10-14T01:33:59.346268Z",
     "start_time": "2020-10-14T01:33:59.318246Z"
    }
   },
   "outputs": [
    {
     "name": "stdout",
     "output_type": "stream",
     "text": [
      "[1] 0.4734715\n"
     ]
    }
   ],
   "source": [
    "%%R\n",
    "\n",
    "# pexp(X, λ)\n",
    "solution <- 1 - pexp(2, 0.3738317757009346)\n",
    "print(solution)"
   ]
  },
  {
   "cell_type": "markdown",
   "metadata": {},
   "source": [
    "#### at most 3 hours\t"
   ]
  },
  {
   "cell_type": "code",
   "execution_count": 22,
   "metadata": {
    "ExecuteTime": {
     "end_time": "2020-10-14T01:33:59.362284Z",
     "start_time": "2020-10-14T01:33:59.347270Z"
    }
   },
   "outputs": [
    {
     "name": "stdout",
     "output_type": "stream",
     "text": [
      "[1] 0.6742077\n"
     ]
    }
   ],
   "source": [
    "%%R\n",
    "\n",
    "# pexp(X, λ)\n",
    "solution <- pexp(3, 0.3738317757009346)\n",
    "print(solution)"
   ]
  },
  {
   "cell_type": "markdown",
   "metadata": {},
   "source": [
    "#### between 2 and 3 hours\t"
   ]
  },
  {
   "cell_type": "code",
   "execution_count": 23,
   "metadata": {
    "ExecuteTime": {
     "end_time": "2020-10-14T01:33:59.378299Z",
     "start_time": "2020-10-14T01:33:59.363285Z"
    }
   },
   "outputs": [
    {
     "name": "stdout",
     "output_type": "stream",
     "text": [
      "[1] 0.1476792\n"
     ]
    }
   ],
   "source": [
    "%%R\n",
    "\n",
    "# pexp(X, λ)\n",
    "solution <- pexp(3, 0.3738317757009346) - pexp(2, 0.3738317757009346)\n",
    "print(solution)"
   ]
  },
  {
   "cell_type": "markdown",
   "metadata": {},
   "source": [
    "### (b) What is the probability that rainfall duration exceeds the mean value by more than 4 standard deviations? (Round your answer to four decimal places.)"
   ]
  },
  {
   "cell_type": "code",
   "execution_count": 24,
   "metadata": {
    "ExecuteTime": {
     "end_time": "2020-10-14T01:33:59.394311Z",
     "start_time": "2020-10-14T01:33:59.379298Z"
    }
   },
   "outputs": [
    {
     "name": "stdout",
     "output_type": "stream",
     "text": [
      "p4b_lower_bound=-8.024999999999999\n",
      "p4b_upper_bound=13.375\n"
     ]
    }
   ],
   "source": [
    "p4b_standard_deviations = 4\n",
    "\n",
    "\"\"\"\n",
    "P(|X - mu| < 2 * SD)\n",
    "P(-4*SD < X - mu < 4*SD)\n",
    "P(mu - 4*SD < X < mu + 4*SD)\n",
    "\n",
    "mu = Mean\n",
    "SD = Standard Devivation\n",
    "\n",
    "Recall that Standard Deviation = Mean\n",
    "Recall that if X < 0 then 0\n",
    "\n",
    "\"\"\"\n",
    "\n",
    "p4b_lower_bound = p4_mean - p4b_standard_deviations * p4_standard_deviation\n",
    "print(f\"{p4b_lower_bound=}\")\n",
    "\n",
    "p4b_upper_bound = p4_mean + p4b_standard_deviations * p4_standard_deviation\n",
    "print(f\"{p4b_upper_bound=}\")\n",
    "\n",
    "\"\"\"\n",
    "Recall Formulas and plug in\n",
    "    (1 - e^(-0.3738317 * (1/0.3738317 - 4 * 1/0.3738317))) - (1 - e^(-0.3738317 * (1/0.3738317 + 4 * 1/0.3738317)))\n",
    "    (1 - e^(-0.3738317 * (2.675 - 4 * 2.675))) - (1 - e^(-0.3738317 * (2.675 + 4 * 2.675)))\n",
    "    (1 - e^(-0.3738317 * (-8.0249999))) - (1 - e^(-0.3738317 * (13.375)))  \n",
    "    \n",
    "    \n",
    "Remove the lower bound because less than 0\n",
    "    (1 - e^(-0.3738317 * (13.375)))\n",
    "    \n",
    "Greater than 4 SD is 1 - CDF\n",
    "    1 - (1 - e^(-0.3738317 * (1/0.3738317 + 4 * 1/0.3738317)))\n",
    "    1 - (1 - e^(-0.3738317 * (2.675 + 4 * 2.675)))\n",
    "    1 - (1 - e^(-0.3738317 * (13.375)))\n",
    "    1 - CDF(13.375)\n",
    "    \n",
    "    pexp(X, λ)\n",
    "    1 - pexp(1/0.3738317 + 4 * 1/0.3738317, 0.37383177)\n",
    "    1 - pexp(1/0.3738317 + 4 * 2.675, 0.37383177)\n",
    "    1 - pexp(13.375, 0.37383177)\n",
    "    \n",
    "    0.006737948\n",
    "\"\"\"\n",
    "print(end=\"\")"
   ]
  },
  {
   "cell_type": "code",
   "execution_count": 25,
   "metadata": {
    "ExecuteTime": {
     "end_time": "2020-10-14T01:33:59.409324Z",
     "start_time": "2020-10-14T01:33:59.395313Z"
    }
   },
   "outputs": [
    {
     "name": "stdout",
     "output_type": "stream",
     "text": [
      "[1] 0.006737941\n"
     ]
    }
   ],
   "source": [
    "%%R\n",
    "\n",
    "# pexp(X, λ)\n",
    "# 1 - pexp(1/0.3738317 + 4 * 1/0.3738317, 0.37383177)\n",
    "# 1 - pexp(13.375, 0.37383177)\n",
    "solution <- 1 - pexp(1/0.3738317 + 4 * 1/0.3738317, 0.37383177)\n",
    "\n",
    "print(solution)"
   ]
  },
  {
   "cell_type": "markdown",
   "metadata": {},
   "source": [
    "#### What is the probability that it is less than the mean value by more than one standard deviation?\n"
   ]
  },
  {
   "cell_type": "code",
   "execution_count": 26,
   "metadata": {
    "ExecuteTime": {
     "end_time": "2020-10-14T01:33:59.425338Z",
     "start_time": "2020-10-14T01:33:59.410325Z"
    }
   },
   "outputs": [],
   "source": [
    "\"\"\"\n",
    "Since Standard Deviation and Mean are the same then \n",
    "    (1 - e^(-0.3738317 * (1/0.3738317 + 1 * 1/0.3738317)))\n",
    "    (1 - e^(-0.3738317 * (0)))\n",
    "    (1 - e^((0)))\n",
    "    (1 - 1)\n",
    "    0\n",
    "    \n",
    "    pexp(1/0.3738317 - 1 * 1/0.3738317, 0.3738317)\n",
    "    0\n",
    "\"\"\"\n",
    "print(end=\"\")"
   ]
  },
  {
   "cell_type": "code",
   "execution_count": 27,
   "metadata": {
    "ExecuteTime": {
     "end_time": "2020-10-14T01:33:59.441351Z",
     "start_time": "2020-10-14T01:33:59.426339Z"
    }
   },
   "outputs": [
    {
     "name": "stdout",
     "output_type": "stream",
     "text": [
      "[1] 0\n"
     ]
    }
   ],
   "source": [
    "%%R\n",
    "\n",
    "# pexp(X, λ)\n",
    "# 1 - pexp(1/0.3738317 - 1 * 1/0.3738317, 0.3738317)\n",
    "# 1 - pexp(2.675 - 2.675, 0.3738317)\n",
    "# 1 - pexp(0, 0.3738317)\n",
    "solution <- pexp(1/0.3738317 - 1 * 1/0.3738317, 0.3738317)\n",
    "\n",
    "print(solution)"
   ]
  }
 ],
 "metadata": {
  "kernelspec": {
   "display_name": "Python 3.8.4 64-bit",
   "language": "python",
   "name": "python_3.8.4_64-bit"
  },
  "language_info": {
   "codemirror_mode": {
    "name": "ipython",
    "version": 3
   },
   "file_extension": ".py",
   "mimetype": "text/x-python",
   "name": "python",
   "nbconvert_exporter": "python",
   "pygments_lexer": "ipython3",
   "version": "3.8.4"
  },
  "varInspector": {
   "cols": {
    "lenName": 16,
    "lenType": 16,
    "lenVar": 40
   },
   "kernels_config": {
    "python": {
     "delete_cmd_postfix": "",
     "delete_cmd_prefix": "del ",
     "library": "var_list.py",
     "varRefreshCmd": "print(var_dic_list())"
    },
    "r": {
     "delete_cmd_postfix": ") ",
     "delete_cmd_prefix": "rm(",
     "library": "var_list.r",
     "varRefreshCmd": "cat(var_dic_list()) "
    }
   },
   "types_to_exclude": [
    "module",
    "function",
    "builtin_function_or_method",
    "instance",
    "_Feature"
   ],
   "window_display": false
  }
 },
 "nbformat": 4,
 "nbformat_minor": 4
}

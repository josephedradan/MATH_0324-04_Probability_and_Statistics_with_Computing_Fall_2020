{
 "cells": [
  {
   "cell_type": "code",
   "execution_count": 1,
   "metadata": {
    "ExecuteTime": {
     "end_time": "2020-10-29T00:22:52.889804Z",
     "start_time": "2020-10-29T00:22:52.874792Z"
    }
   },
   "outputs": [],
   "source": [
    "# Ignore\n",
    "# import sys\n",
    "# print(sys.version)\n",
    "# [print(i) for i in sys.path]\n",
    "# print(end=\"\")"
   ]
  },
  {
   "cell_type": "code",
   "execution_count": 2,
   "metadata": {
    "ExecuteTime": {
     "end_time": "2020-10-29T00:22:52.905818Z",
     "start_time": "2020-10-29T00:22:52.890805Z"
    }
   },
   "outputs": [],
   "source": [
    "# Does not work\n",
    "# pip install colorama\n",
    "# from colorama import init\n",
    "# from colorama import Fore, Back, Style\n",
    "# init()"
   ]
  },
  {
   "cell_type": "code",
   "execution_count": 3,
   "metadata": {
    "ExecuteTime": {
     "end_time": "2020-10-29T00:22:52.921831Z",
     "start_time": "2020-10-29T00:22:52.906819Z"
    }
   },
   "outputs": [],
   "source": [
    "\"\"\"\n",
    "Reference:\n",
    "    How do I output lists as a table in Jupyter notebook?\n",
    "        https://stackoverflow.com/questions/35160256/how-do-i-output-lists-as-a-table-in-jupyter-notebook\n",
    "\"\"\"\n",
    "from IPython.display import HTML, display"
   ]
  },
  {
   "cell_type": "markdown",
   "metadata": {},
   "source": [
    "<h1 style=\"text-align: center; font-size:50px;\"> Know these Rules </h1>\n",
    "<img src=\"images/addition-rule.png\" alt=\"addition-rule.png\" style=\"width:50%; float:left;\"/>\n",
    "<img src=\"images/bayes-theorem.png\" alt=\"bayes-theorem.png\" style=\"width:50%; float:right\"/>\n"
   ]
  },
  {
   "cell_type": "markdown",
   "metadata": {},
   "source": [
    "# 1. DEVORESTAT9 2.E.045.MI.\n",
    "<p>\n",
    "The population of a particular country consists of three ethnic groups. Each individual belongs to one of the four major blood groups. The accompanying <em>joint probability table</em> gives the proportions of individuals in the various ethnic group-blood group combinations.\n",
    "</p>\n",
    "\n",
    "\n",
    "<img src=\"images/2_4_problem_1_given.png\" alt=\"2_4_problem_1_given.png\" style=\"float:left;\"/>\n",
    "<table class=\"wa1rowlinc\"> <tbody><tr> <td colspan=\"2\"> </td> <th colspan=\"4\"> Blood Group </th> </tr> <tr> <th> </th> <th> </th> <th> O </th> <th> A </th> <th> B </th> <th> AB </th> </tr> <tr> <td> </td> <th> 1 </th> <td> <font color=\"red\">0.082</font> </td> <td> <font color=\"red\">0.116</font> </td> <td> <font color=\"red\">0.013</font> </td> <td> <font color=\"red\">0.004</font> </td> </tr> <tr> <th> Ethnic Group </th> <th> 2 </th> <td> <font color=\"red\">0.125</font> </td> <td> <font color=\"red\">0.141</font> </td> <td> <font color=\"red\">0.018</font> </td> <td> <font color=\"red\">0.001</font> </td> </tr> <tr> <th> </th> <th> 3 </th> <td> <font color=\"red\">0.215</font> </td> <td> <font color=\"red\">0.210</font> </td> <td> <font color=\"red\">0.055</font> </td> <td> <font color=\"red\">0.020</font> </td> </tr> </tbody></table>\n",
    "<p style=\"float:left;\">\n",
    "Suppose that an individual is randomly selected from the population, and define events by <em>A</em> = {type A selected}, <em>B</em> = {type B selected}, and <em>C</em> = {ethnic group 3 selected}.\n",
    "</p>"
   ]
  },
  {
   "cell_type": "code",
   "execution_count": 4,
   "metadata": {
    "ExecuteTime": {
     "end_time": "2020-10-29T00:22:53.249112Z",
     "start_time": "2020-10-29T00:22:52.922833Z"
    }
   },
   "outputs": [
    {
     "name": "stdout",
     "output_type": "stream",
     "text": [
      "Pandas\n"
     ]
    },
    {
     "data": {
      "text/html": [
       "<div>\n",
       "<style scoped>\n",
       "    .dataframe tbody tr th:only-of-type {\n",
       "        vertical-align: middle;\n",
       "    }\n",
       "\n",
       "    .dataframe tbody tr th {\n",
       "        vertical-align: top;\n",
       "    }\n",
       "\n",
       "    .dataframe thead th {\n",
       "        text-align: right;\n",
       "    }\n",
       "</style>\n",
       "<table border=\"1\" class=\"dataframe\">\n",
       "  <thead>\n",
       "    <tr style=\"text-align: right;\">\n",
       "      <th></th>\n",
       "      <th>O</th>\n",
       "      <th>A</th>\n",
       "      <th>B</th>\n",
       "      <th>AB</th>\n",
       "    </tr>\n",
       "  </thead>\n",
       "  <tbody>\n",
       "    <tr>\n",
       "      <th>1</th>\n",
       "      <td>0.082</td>\n",
       "      <td>0.116</td>\n",
       "      <td>0.013</td>\n",
       "      <td>0.004</td>\n",
       "    </tr>\n",
       "    <tr>\n",
       "      <th>2</th>\n",
       "      <td>0.125</td>\n",
       "      <td>0.141</td>\n",
       "      <td>0.018</td>\n",
       "      <td>0.001</td>\n",
       "    </tr>\n",
       "    <tr>\n",
       "      <th>3</th>\n",
       "      <td>0.215</td>\n",
       "      <td>0.210</td>\n",
       "      <td>0.055</td>\n",
       "      <td>0.020</td>\n",
       "    </tr>\n",
       "  </tbody>\n",
       "</table>\n",
       "</div>"
      ],
      "text/plain": [
       "       O      A      B     AB\n",
       "1  0.082  0.116  0.013  0.004\n",
       "2  0.125  0.141  0.018  0.001\n",
       "3  0.215  0.210  0.055  0.020"
      ]
     },
     "metadata": {},
     "output_type": "display_data"
    },
    {
     "name": "stdout",
     "output_type": "stream",
     "text": [
      "\n",
      "Numpy\n",
      "[[0.082 0.116 0.013 0.004]\n",
      " [0.125 0.141 0.018 0.001]\n",
      " [0.215 0.21  0.055 0.02 ]]\n",
      "\n",
      "Sum: 1.0\n"
     ]
    }
   ],
   "source": [
    "import numpy as np\n",
    "import pandas as pd\n",
    "\n",
    "p1_image = \"\"\"\n",
    "0.082\t0.116\t0.013\t0.004\n",
    "0.125\t0.141\t0.018\t0.001\n",
    "0.215\t0.210\t0.055\t0.020\n",
    "\"\"\"\n",
    "p1_image_modified = p1_image.split(\"\\n\")\n",
    "# print(p1_image_modified)\n",
    "\n",
    "p1_list_list = []\n",
    "\n",
    "for row in p1_image_modified:\n",
    "    if row == \"\":\n",
    "        continue\n",
    "\n",
    "    row = row.split(\"\\t\")\n",
    "    row = [float(x) for x in row]\n",
    "\n",
    "    p1_list_list.append(row)\n",
    "\n",
    "# print(p1_list_list)\n",
    "\n",
    "p1_numpy_array = np.array(p1_list_list)\n",
    "\n",
    "p1_df = pd.DataFrame(p1_numpy_array, columns=[\"O\", \"A\", \"B\", \"AB\"])\n",
    "p1_df = p1_df.rename(index={0: 1, 1: 2, 2: 3})\n",
    "\n",
    "print(\"Pandas\")\n",
    "display(p1_df)\n",
    "print()\n",
    "\n",
    "print(\"Numpy\")\n",
    "print(p1_numpy_array)\n",
    "print()\n",
    "print(\"Sum: {}\".format(np.sum(p1_numpy_array)))"
   ]
  },
  {
   "cell_type": "markdown",
   "metadata": {},
   "source": [
    "<h3> (a) Calculate <em>P</em>(<em>A</em>), <em> P</em>(<em>C</em>), and <em>P</em>(<em>A</em> <span style=\"font-family: 'Trebuchet MS', 'Lucida Grande', sans-serif; font-size: 1.10em\">∩</span> <em>C</em>). (Enter your answers to three decimal places.) </h3>"
   ]
  },
  {
   "cell_type": "code",
   "execution_count": 5,
   "metadata": {
    "ExecuteTime": {
     "end_time": "2020-10-29T00:22:53.265125Z",
     "start_time": "2020-10-29T00:22:53.250112Z"
    }
   },
   "outputs": [
    {
     "name": "stdout",
     "output_type": "stream",
     "text": [
      "\n",
      "Pandas\n",
      "Adding Rows\n"
     ]
    },
    {
     "data": {
      "text/plain": [
       "O     0.422\n",
       "A     0.467\n",
       "B     0.086\n",
       "AB    0.025\n",
       "dtype: float64"
      ]
     },
     "metadata": {},
     "output_type": "display_data"
    },
    {
     "name": "stdout",
     "output_type": "stream",
     "text": [
      "\n",
      "Adding Columns\n"
     ]
    },
    {
     "data": {
      "text/plain": [
       "1    0.215\n",
       "2    0.285\n",
       "3    0.500\n",
       "dtype: float64"
      ]
     },
     "metadata": {},
     "output_type": "display_data"
    },
    {
     "name": "stdout",
     "output_type": "stream",
     "text": [
      "\n",
      "----------------------------------------------------------------------------------------------------\n",
      "Solutions\n",
      "\n",
      "P(A): 0.46699999999999997\n",
      "P(C): 0.5\n",
      "\n",
      "row C (ethnic group 3):\n",
      "Float64Index([0.215, 0.21, 0.055, 0.02], dtype='float64', name=3)\n",
      "\n",
      "col A:\n",
      "Float64Index([0.116, 0.141, 0.21], dtype='float64', name='A')\n",
      "\n",
      "P(A Intersect C): 0.21\n"
     ]
    }
   ],
   "source": [
    "\"\"\"\n",
    "Reference:\n",
    "    pandas.Index.intersection\n",
    "        https://pandas.pydata.org/pandas-docs/stable/reference/api/pandas.Index.intersection.html\n",
    "    \n",
    "    iloc\n",
    "        https://www.shanelynn.ie/select-pandas-dataframe-rows-and-columns-using-iloc-loc-and-ix/\n",
    "\"\"\"\n",
    "\n",
    "p1a_solution = np.sum(p1_numpy_array, axis=0)\n",
    "# print(\"Numpy\")\n",
    "# print(p1a_solution)\n",
    "# print(\"P(A): {}\".format(p1a_solution[2]))\n",
    "print()\n",
    "\n",
    "print(\"Pandas\")\n",
    "p1a_row_sums = p1_df.sum(axis=0)  # Add rows together\n",
    "print(\"Adding Rows\")\n",
    "display(p1a_row_sums)\n",
    "print()\n",
    "\n",
    "p1a_column_sums = p1_df.sum(axis=1)  # Add col together\n",
    "print(\"Adding Columns\")\n",
    "display(p1a_column_sums)\n",
    "print()\n",
    "\n",
    "p1a_A_prob = p1a_row_sums[\"A\"]  # Can use index or Name for p1a_1\n",
    "p1a_C_prob = p1a_column_sums[3]  # Cannot use index but Can use name for p1a_2\n",
    "\n",
    "print(\"-\"*100)\n",
    "print(\"Solutions\\n\")\n",
    "\n",
    "print(\"P(A): {}\".format(p1a_A_prob))\n",
    "print(\"P(C): {}\".format(p1a_C_prob))\n",
    "print()\n",
    "\n",
    "p1a_row_2 = pd.Index(p1_df.iloc[2])\n",
    "print(f\"row C (ethnic group 3):\")\n",
    "print(p1a_row_2)\n",
    "print()\n",
    "\n",
    "p1a_col_A = pd.Index(p1_df.iloc[:, 1])\n",
    "print(f\"col A:\")\n",
    "print(p1a_col_A)\n",
    "print()\n",
    "\n",
    "p1a_row_col_intersection = (\n",
    "    p1a_row_2.intersection(p1a_col_A)[0])  # [0] Gets the value only\n",
    "\n",
    "print(\"P(A Intersect C): {}\".format(p1a_row_col_intersection))"
   ]
  },
  {
   "cell_type": "markdown",
   "metadata": {},
   "source": [
    "<h3> (b) Calculate both <em>P</em>(<em>A</em>|<em>C</em>) and <em>P</em>(<em>C</em>|<em>A</em>). (Round your answers to three decimal places.) </h3>"
   ]
  },
  {
   "cell_type": "code",
   "execution_count": 6,
   "metadata": {
    "ExecuteTime": {
     "end_time": "2020-10-29T00:22:53.281139Z",
     "start_time": "2020-10-29T00:22:53.266126Z"
    }
   },
   "outputs": [
    {
     "name": "stdout",
     "output_type": "stream",
     "text": [
      "P(A|C): 0.420\n",
      "P(C|A): 0.450\n"
     ]
    }
   ],
   "source": [
    "p1b_P_A_given_C = p1a_row_col_intersection / p1a_C_prob\n",
    "\n",
    "p1b_P_C_given_A = p1a_row_col_intersection / p1a_A_prob\n",
    "\n",
    "\n",
    "print(\"P(A|C): {:.3f}\".format(p1b_P_A_given_C))\n",
    "print(\"P(C|A): {:.3f}\".format(p1b_P_C_given_A))"
   ]
  },
  {
   "cell_type": "markdown",
   "metadata": {},
   "source": [
    "<img src=\"images/2_4_problem_1b_solution.png\" alt=\"2_4_problem_1b_solution.png\" style=\"float:left;\"/>"
   ]
  },
  {
   "cell_type": "markdown",
   "metadata": {},
   "source": [
    "### (c) If the selected individual does not have type B blood, what is the probability that he or she is from ethnic group 1? (Round your answer to three decimal places.)"
   ]
  },
  {
   "cell_type": "code",
   "execution_count": 7,
   "metadata": {
    "ExecuteTime": {
     "end_time": "2020-10-29T00:22:53.297152Z",
     "start_time": "2020-10-29T00:22:53.283140Z"
    }
   },
   "outputs": [
    {
     "name": "stdout",
     "output_type": "stream",
     "text": [
      "P(B|C): 0.221\n"
     ]
    }
   ],
   "source": [
    "# New Universe\n",
    "# P(not B) = (0.422 + 0.467 + 0.086)\n",
    "p1c_row_sums_exclude_b_column = (p1a_row_sums[\"O\"] +\n",
    "                                 p1a_row_sums[\"A\"] + \n",
    "                                 p1a_row_sums[\"AB\"]\n",
    "                                 )\n",
    "# Group 1\n",
    "# P(Group 1 Excluding B) = (0.215 - 0.013)\n",
    "p1c_col_sums_exclude_b_value = p1a_column_sums[1] - p1_df[\"B\"][1]\n",
    "\n",
    "p1c_P_group_1_intersect_not_B = (p1c_col_sums_exclude_b_value /\n",
    "                                 p1c_row_sums_exclude_b_column)\n",
    "\n",
    "print(\"P(B|C): {:.3f}\".format(p1c_P_group_1_intersect_not_B))"
   ]
  },
  {
   "cell_type": "markdown",
   "metadata": {},
   "source": [
    "# 2. DEVORESTAT9 2.E.047.\n",
    "<div class=\"wa1par\"> Consider randomly selecting a student at a large university. Let <em>A</em> be the event that the selected student has a Visa card, let <em>B</em> be the analogous event for MasterCard, and let <em>C</em> be the event that the selected student has an American Express card. Suppose that <span class=\"watexinlineblock\"><span class=\"watex watexlineheightnormal\"><span style=\"font-style: italic;\"><span style=\"font-style: italic;\">P</span></span>(<span style=\"font-style: italic;\"><span style=\"font-style: italic;\">A</span></span>) = 0.6,</span></span> <span class=\"watexinlineblock\"><span class=\"watex watexlineheightnormal\"><span style=\"font-style: italic;\"><span style=\"font-style: italic;\">P</span></span>(<span style=\"font-style: italic;\"><span style=\"font-style: italic;\">B</span></span>) = 0.4,</span></span> and <span class=\"watexinlineblock\"><span class=\"watex watexlineheightnormal\"><span style=\"font-style: italic;\"><span style=\"font-style: italic;\">P</span></span>(<span style=\"font-style: italic;\"><span style=\"font-style: italic;\">A</span></span> <span style=\"font-family: 'Trebuchet MS', 'Lucida Grande', sans-serif; font-size: 1.10em\">∩</span> <span style=\"font-style: italic;\"><span style=\"font-style: italic;\">B</span></span>) = 0.3,</span></span> suppose that <span class=\"watexinlineblock\"><span class=\"watex watexlineheightnormal\"><span style=\"font-style: italic;\"><span style=\"font-style: italic;\">P</span></span>(<span style=\"font-style: italic;\"><span style=\"font-style: italic;\">C</span></span>) = 0.2,</span></span> <span class=\"watexinlineblock\"><span class=\"watex watexlineheightnormal\"><span style=\"font-style: italic;\"><span style=\"font-style: italic;\">P</span></span>(<span style=\"font-style: italic;\"><span style=\"font-style: italic;\">A</span></span> <span style=\"font-family: 'Trebuchet MS', 'Lucida Grande', sans-serif; font-size: 1.10em\">∩</span> <span style=\"font-style: italic;\"><span style=\"font-style: italic;\">C</span></span>) = <span style=\"color: red\">0.14</span>,</span></span> <span class=\"watexinlineblock\"><span class=\"watex watexlineheightnormal\"><span style=\"font-style: italic;\"><span style=\"font-style: italic;\">P</span></span>(<span style=\"font-style: italic;\"><span style=\"font-style: italic;\">B</span></span> <span style=\"font-family: 'Trebuchet MS', 'Lucida Grande', sans-serif; font-size: 1.10em\">∩</span> <span style=\"font-style: italic;\"><span style=\"font-style: italic;\">C</span></span>) = 0.1,</span></span> and <span class=\"watexinlineblock\"><span class=\"watex watexlineheightnormal\"><span style=\"font-style: italic;\"><span style=\"font-style: italic;\">P</span></span>(<span style=\"font-style: italic;\"><span style=\"font-style: italic;\">A</span></span> <span style=\"font-family: 'Trebuchet MS', 'Lucida Grande', sans-serif; font-size: 1.10em\">∩</span> <span style=\"font-style: italic;\"><span style=\"font-style: italic;\">B</span></span> <span style=\"font-family: 'Trebuchet MS', 'Lucida Grande', sans-serif; font-size: 1.10em\">∩</span> <span style=\"font-style: italic;\"><span style=\"font-style: italic;\">C</span></span>) = <span style=\"color: red\">0.08</span>.</span></span> </div>"
   ]
  },
  {
   "cell_type": "code",
   "execution_count": 8,
   "metadata": {
    "ExecuteTime": {
     "end_time": "2020-10-29T00:22:53.313166Z",
     "start_time": "2020-10-29T00:22:53.299154Z"
    }
   },
   "outputs": [],
   "source": [
    "p2_P_A = 0.6\n",
    "p2_P_B = 0.4\n",
    "p2_P_C = 0.2\n",
    "\n",
    "p2_P_A_intersect_B = 0.3\n",
    "p2_P_A_intersect_C = 0.14\n",
    "p2_P_B_intersect_C = 0.1\n",
    "\n",
    "p2_P_A_intersect_B_intersect_C = 0.08"
   ]
  },
  {
   "cell_type": "code",
   "execution_count": 9,
   "metadata": {
    "ExecuteTime": {
     "end_time": "2020-10-29T00:22:53.328179Z",
     "start_time": "2020-10-29T00:22:53.314167Z"
    }
   },
   "outputs": [
    {
     "name": "stdout",
     "output_type": "stream",
     "text": [
      "p2_P_A_intersect_B_intersect_C=0.08\n",
      "p2_P_A_intersect_B_Acutal=0.2200\n",
      "p2_P_A_intersect_C_Actual=0.0600\n",
      "p2_P_B_intersect_C_Acutal=0.0200\n",
      "p2_P_A_Actual=0.2400\n",
      "p2_P_B_Actual=0.0800\n",
      "p2_P_C_Actual=0.0400\n",
      "p2_in=0.7400\n",
      "p2_out=0.2600\n"
     ]
    }
   ],
   "source": [
    "p2_P_A_intersect_B_Acutal = (p2_P_A_intersect_B -\n",
    "                             p2_P_A_intersect_B_intersect_C)\n",
    "\n",
    "p2_P_A_intersect_C_Actual = (p2_P_A_intersect_C -\n",
    "                             p2_P_A_intersect_B_intersect_C)\n",
    "\n",
    "p2_P_B_intersect_C_Acutal = (p2_P_B_intersect_C -\n",
    "                             p2_P_A_intersect_B_intersect_C)\n",
    "\n",
    "p2_P_A_Actual = p2_P_A - (p2_P_A_intersect_B_intersect_C +\n",
    "                          p2_P_A_intersect_B_Acutal +\n",
    "                          p2_P_A_intersect_C_Actual)\n",
    "\n",
    "p2_P_B_Actual = p2_P_B - (p2_P_A_intersect_B_intersect_C +\n",
    "                          p2_P_A_intersect_B_Acutal +\n",
    "                          p2_P_B_intersect_C_Acutal)\n",
    "\n",
    "p2_P_C_Actual = p2_P_C - (p2_P_A_intersect_B_intersect_C +\n",
    "                          p2_P_A_intersect_C_Actual +\n",
    "                          p2_P_B_intersect_C_Acutal)\n",
    "\n",
    "p2_in = (p2_P_A_intersect_B_intersect_C +\n",
    "         p2_P_A_intersect_B_Acutal +\n",
    "         p2_P_A_intersect_C_Actual +\n",
    "         p2_P_B_intersect_C_Acutal +\n",
    "         p2_P_A_Actual +\n",
    "         p2_P_B_Actual +\n",
    "         p2_P_C_Actual)\n",
    "\n",
    "p2_out = 1 - p2_in\n",
    "\n",
    "\n",
    "print(f\"{p2_P_A_intersect_B_intersect_C=}\")\n",
    "\n",
    "print(f\"{p2_P_A_intersect_B_Acutal=:.4f}\")\n",
    "print(f\"{p2_P_A_intersect_C_Actual=:.4f}\")\n",
    "print(f\"{p2_P_B_intersect_C_Acutal=:.4f}\")\n",
    "\n",
    "print(f\"{p2_P_A_Actual=:.4f}\")\n",
    "print(f\"{p2_P_B_Actual=:.4f}\")\n",
    "print(f\"{p2_P_C_Actual=:.4f}\")\n",
    "\n",
    "print(f\"{p2_in=:.4f}\")\n",
    "print(f\"{p2_out=:.4f}\")"
   ]
  },
  {
   "cell_type": "markdown",
   "metadata": {},
   "source": [
    "<img src=\"images/2_4_problem_2.png\" alt=\"2_4_problem_2.png\" style=\"width: 1000px;\" style=\"\"/>\n"
   ]
  },
  {
   "cell_type": "markdown",
   "metadata": {},
   "source": [
    "### (a) What is the probability that the selected student has at least one of the three types of cards?"
   ]
  },
  {
   "cell_type": "code",
   "execution_count": 10,
   "metadata": {
    "ExecuteTime": {
     "end_time": "2020-10-29T00:22:53.344192Z",
     "start_time": "2020-10-29T00:22:53.329179Z"
    }
   },
   "outputs": [
    {
     "name": "stdout",
     "output_type": "stream",
     "text": [
      "p2a_P_at_least_1_of_3_types_of_cards=0.740\n"
     ]
    }
   ],
   "source": [
    "p2a_P_at_least_1_of_3_types_of_cards = (p2_P_A_intersect_B_intersect_C +\n",
    "                                        p2_P_A_intersect_B_Acutal +\n",
    "                                        p2_P_A_intersect_C_Actual +\n",
    "                                        p2_P_B_intersect_C_Acutal +\n",
    "                                        p2_P_A_Actual +\n",
    "                                        p2_P_B_Actual +\n",
    "                                        p2_P_C_Actual)\n",
    "\n",
    "print(f\"{p2a_P_at_least_1_of_3_types_of_cards=:.3f}\")"
   ]
  },
  {
   "cell_type": "markdown",
   "metadata": {},
   "source": [
    "### (b) What is the probability that the selected student has both a Visa card and a MasterCard but not an American Express card?"
   ]
  },
  {
   "cell_type": "code",
   "execution_count": 11,
   "metadata": {
    "ExecuteTime": {
     "end_time": "2020-10-29T00:22:53.359205Z",
     "start_time": "2020-10-29T00:22:53.345193Z"
    }
   },
   "outputs": [
    {
     "name": "stdout",
     "output_type": "stream",
     "text": [
      "p2b_both_visa_and_master_and_not_express=0.220\n"
     ]
    }
   ],
   "source": [
    "p2b_both_visa_and_master_and_not_express = (p2_P_A_intersect_B_Acutal)\n",
    "\n",
    "print(f\"{p2b_both_visa_and_master_and_not_express=:.3f}\")"
   ]
  },
  {
   "cell_type": "markdown",
   "metadata": {},
   "source": [
    "<h3> (c) Calculate <span class=\"watexinlineblock\"><span class=\"watex watexlineheightnormal\"><span style=\"font-style: italic;\"><span style=\"font-style: italic;\">P</span></span>(<span style=\"font-style: italic;\"><span style=\"font-style: italic;\">B</span></span> | <span style=\"font-style: italic;\"><span style=\"font-style: italic;\">A</span></span>)</span></span> and <span class=\"watexinlineblock\"><span class=\"watex watexlineheightnormal\"><span style=\"font-style: italic;\"><span style=\"font-style: italic;\">P</span></span>(<span style=\"font-style: italic;\"><span style=\"font-style: italic;\">A</span></span> | <span style=\"font-style: italic;\"><span style=\"font-style: italic;\">B</span></span>).</span></span> </h3>\n"
   ]
  },
  {
   "cell_type": "code",
   "execution_count": 12,
   "metadata": {
    "ExecuteTime": {
     "end_time": "2020-10-29T00:22:53.374218Z",
     "start_time": "2020-10-29T00:22:53.360206Z"
    }
   },
   "outputs": [
    {
     "name": "stdout",
     "output_type": "stream",
     "text": [
      "P(B | A): 0.500\n",
      "P(A | B): 0.750\n"
     ]
    }
   ],
   "source": [
    "\"\"\"\n",
    "Don't use acutal\n",
    "The Subspace is A which is given\n",
    "You are looking for (A intersect B)\n",
    "\n",
    "Don't use acutal\n",
    "The Subspace is B which is given\n",
    "You are looking for (A intersect B)\n",
    "\"\"\"\n",
    "p2c_P_B_given_A = p2_P_A_intersect_B / p2_P_A\n",
    "p2c_P_A_given_B = p2_P_A_intersect_B / p2_P_B\n",
    "\n",
    "print(\"P(B | A): {:.3f}\".format(p2c_P_B_given_A))\n",
    "print(\"P(A | B): {:.3f}\".format(p2c_P_A_given_B))"
   ]
  },
  {
   "cell_type": "markdown",
   "metadata": {},
   "source": [
    "<div class=\"wa1par\"> <h3> Interpret <span class=\"watexinlineblock\"><span class=\"watex watexlineheightnormal\"><span style=\"font-style: italic;\"><span style=\"font-style: italic;\">P</span></span>(<span style=\"font-style: italic;\"><span style=\"font-style: italic;\">B</span></span> | <span style=\"font-style: italic;\"><span style=\"font-style: italic;\">A</span></span>)</span></span> and <span class=\"watexinlineblock\"><span class=\"watex watexlineheightnormal\"><span style=\"font-style: italic;\"><span style=\"font-style: italic;\">P</span></span>(<span style=\"font-style: italic;\"><span style=\"font-style: italic;\">A</span></span> | <span style=\"font-style: italic;\"><span style=\"font-style: italic;\">B</span></span>).</span></span> (Select all that apply.) </h3></div>\n",
    "<img src=\"images/2_4_problem_2c_solution.png\" alt=\"2_4_problem_2c_solution.png\" style=\"float:left;\"/>"
   ]
  },
  {
   "cell_type": "markdown",
   "metadata": {
    "ExecuteTime": {
     "end_time": "2020-09-11T10:29:17.951218Z",
     "start_time": "2020-09-11T10:29:17.948216Z"
    }
   },
   "source": [
    "### (d) If we learn that the selected student has an American Express card, what is the probability that she or he also has both a Visa card and a MasterCard?\n"
   ]
  },
  {
   "cell_type": "code",
   "execution_count": 13,
   "metadata": {
    "ExecuteTime": {
     "end_time": "2020-10-29T00:22:53.390231Z",
     "start_time": "2020-10-29T00:22:53.376219Z"
    }
   },
   "outputs": [
    {
     "name": "stdout",
     "output_type": "stream",
     "text": [
      "p2d_P_both_visa_and_master_given_american=0.400\n"
     ]
    }
   ],
   "source": [
    "\"\"\"\n",
    "Don't use actual\n",
    "Given is Subspace American Experss which is C\n",
    "Look for Visa AND Master which is (A intersect B) WITHIN Subpsace American Express which is the INTERSECTION OF ALL 3\n",
    "\n",
    "\"\"\"\n",
    "# P(A intersect B intersect C) / P(C)\n",
    "p2d_P_both_visa_and_master_given_american = (p2_P_A_intersect_B_intersect_C /\n",
    "                                             p2_P_C)\n",
    "\n",
    "print(f\"{p2d_P_both_visa_and_master_given_american=:.3f}\")"
   ]
  },
  {
   "cell_type": "markdown",
   "metadata": {
    "ExecuteTime": {
     "end_time": "2020-09-11T10:34:30.934886Z",
     "start_time": "2020-09-11T10:34:30.932884Z"
    }
   },
   "source": [
    "### (e) Given that the selected student has an American Express card, what is the probability that she or he has at least one of the other two types of cards?"
   ]
  },
  {
   "cell_type": "code",
   "execution_count": 14,
   "metadata": {
    "ExecuteTime": {
     "end_time": "2020-10-29T00:22:53.406245Z",
     "start_time": "2020-10-29T00:22:53.391232Z"
    }
   },
   "outputs": [
    {
     "name": "stdout",
     "output_type": "stream",
     "text": [
      "p2e_P_at_least_1_of_the_other_2_types_of_card_given_american=0.800\n"
     ]
    }
   ],
   "source": [
    "\"\"\"\n",
    "Given Subsapce is American Express which is C\n",
    "The thing you are looking for is 1 of each Visa and Master or both of Visa and Master\n",
    "The LEAGAL space where this event can occur are:\n",
    "    p2_P_A_intersect_B_intersect_C\n",
    "    p2_P_B_intersect_C_Acutal\n",
    "    p2_P_A_intersect_C_Actual\n",
    "    \n",
    "\"\"\"\n",
    "p2e_P_at_least_1_of_the_other_2_types_of_card_given_american = (p2_P_A_intersect_B_intersect_C +\n",
    "                                                                p2_P_B_intersect_C_Acutal +\n",
    "                                                                p2_P_A_intersect_C_Actual) / p2_P_C\n",
    "\n",
    "print(f\"{p2e_P_at_least_1_of_the_other_2_types_of_card_given_american=:.3f}\")"
   ]
  },
  {
   "cell_type": "markdown",
   "metadata": {},
   "source": [
    "# 3. DEVORESTAT9 2.E.054.\n",
    "<p>\n",
    "A computer consulting firm presently has bids out on three projects. Let <nobr><i>A</i><sub><i>i</i></sub> =</nobr> {awarded project <i>i</i>}, for <nobr><i>i</i> = 1, 2, 3,</nobr> and suppose that <nobr><i>P</i>(<i>A</i><sub>1</sub>) = <font color=\"red\">0.23</font>,</nobr> <nobr><i>P</i>(<i>A</i><sub>2</sub>) = <font color=\"red\">0.26</font>,</nobr> <nobr><i>P</i>(<i>A</i><sub>3</sub>) = <font color=\"red\">0.28</font>,</nobr> <nobr><i>P</i>(<i>A</i><sub>1</sub> <span style=\"font-family: 'Trebuchet MS', 'Lucida Grande', sans-serif; font-size: 1.10em\">∩</span> <i>A</i><sub>2</sub>) = <font color=\"red\">0.05</font>,</nobr> <nobr><i>P</i>(<i>A</i><sub>1</sub> <span style=\"font-family: 'Trebuchet MS', 'Lucida Grande', sans-serif; font-size: 1.10em\">∩</span> <i>A</i><sub>3</sub>) = <font color=\"red\">0.11</font>,</nobr> <nobr><i>P</i>(<i>A</i><sub>2</sub> <span style=\"font-family: 'Trebuchet MS', 'Lucida Grande', sans-serif; font-size: 1.10em\">∩</span> <i>A</i><sub>3</sub>) = <font color=\"red\">0.09</font>,</nobr> <nobr><i>P</i>(<i>A</i><sub>1</sub> <span style=\"font-family: 'Trebuchet MS', 'Lucida Grande', sans-serif; font-size: 1.10em\">∩</span> <i>A</i><sub>2</sub> <span style=\"font-family: 'Trebuchet MS', 'Lucida Grande', sans-serif; font-size: 1.10em\">∩</span> <i>A</i><sub>3</sub>) = <font color=\"red\">0.02</font>.</nobr> Use the probabilities given above to compute the following probabilities, and explain in words the meaning of each one. (Round your answers to four decimal places.)\n",
    "</p>"
   ]
  },
  {
   "cell_type": "code",
   "execution_count": 15,
   "metadata": {
    "ExecuteTime": {
     "end_time": "2020-10-29T00:22:53.421258Z",
     "start_time": "2020-10-29T00:22:53.407247Z"
    }
   },
   "outputs": [],
   "source": [
    "p3_P_A1 = 0.23\n",
    "p3_P_A2 = 0.26\n",
    "p3_P_A3 = 0.28\n",
    "p3_P_A1_intersect_A2 = 0.05\n",
    "p3_P_A1_intersect_A3 = 0.11\n",
    "p3_P_A2_intersect_A3 = 0.09\n",
    "p3_P_A1_intersect_A2_intersect_A3 = 0.02"
   ]
  },
  {
   "cell_type": "code",
   "execution_count": 16,
   "metadata": {
    "ExecuteTime": {
     "end_time": "2020-10-29T00:22:53.436271Z",
     "start_time": "2020-10-29T00:22:53.422259Z"
    }
   },
   "outputs": [
    {
     "name": "stdout",
     "output_type": "stream",
     "text": [
      "p3_P_A1_intersect_A2_intersect_A3=0.02\n",
      "p3_P_A1_intersect_A2_Actual=0.0300\n",
      "p3_P_A1_intersect_A3_Actual=0.0900\n",
      "p3_P_A2_intersect_A3_Actual=0.0700\n",
      "p3_P_A1_Actual=0.0900\n",
      "p3_P_A2_Actual=0.1400\n",
      "p3_P_A3_Actual=0.1000\n",
      "p3_in=0.5400\n",
      "p3_out=0.4600\n"
     ]
    }
   ],
   "source": [
    "p3_P_A1_intersect_A2_Actual = (p3_P_A1_intersect_A2 -\n",
    "                               p3_P_A1_intersect_A2_intersect_A3)\n",
    "\n",
    "p3_P_A1_intersect_A3_Actual = (p3_P_A1_intersect_A3 -\n",
    "                               p3_P_A1_intersect_A2_intersect_A3)\n",
    "\n",
    "p3_P_A2_intersect_A3_Actual = (p3_P_A2_intersect_A3 -\n",
    "                               p3_P_A1_intersect_A2_intersect_A3)\n",
    "\n",
    "p3_P_A1_Actual = p3_P_A1 - (p3_P_A1_intersect_A2_intersect_A3 +\n",
    "                            p3_P_A1_intersect_A2_Actual +\n",
    "                            p3_P_A1_intersect_A3_Actual)\n",
    "\n",
    "p3_P_A2_Actual = p3_P_A2 - (p3_P_A1_intersect_A2_intersect_A3 +\n",
    "                            p3_P_A1_intersect_A2_Actual +\n",
    "                            p3_P_A2_intersect_A3_Actual)\n",
    "\n",
    "p3_P_A3_Actual = p3_P_A3 - (p3_P_A1_intersect_A2_intersect_A3 +\n",
    "                            p3_P_A1_intersect_A3_Actual +\n",
    "                            p3_P_A2_intersect_A3_Actual)\n",
    "\n",
    "p3_in = (p3_P_A1_intersect_A2_intersect_A3 +\n",
    "         p3_P_A1_intersect_A2_Actual +\n",
    "         p3_P_A1_intersect_A3_Actual +\n",
    "         p3_P_A2_intersect_A3_Actual +\n",
    "         p3_P_A1_Actual +\n",
    "         p3_P_A2_Actual +\n",
    "         p3_P_A3_Actual)\n",
    "\n",
    "p3_out = 1 - p3_in\n",
    "\n",
    "print(f\"{p3_P_A1_intersect_A2_intersect_A3=}\")\n",
    "\n",
    "print(f\"{p3_P_A1_intersect_A2_Actual=:.4f}\")\n",
    "print(f\"{p3_P_A1_intersect_A3_Actual=:.4f}\")\n",
    "print(f\"{p3_P_A2_intersect_A3_Actual=:.4f}\")\n",
    "\n",
    "print(f\"{p3_P_A1_Actual=:.4f}\")\n",
    "print(f\"{p3_P_A2_Actual=:.4f}\")\n",
    "print(f\"{p3_P_A3_Actual=:.4f}\")\n",
    "\n",
    "print(f\"{p3_in=:.4f}\")\n",
    "print(f\"{p3_out=:.4f}\")"
   ]
  },
  {
   "cell_type": "markdown",
   "metadata": {
    "ExecuteTime": {
     "end_time": "2020-09-11T11:30:26.484275Z",
     "start_time": "2020-09-11T11:30:26.481272Z"
    }
   },
   "source": [
    "<img src=\"images/2_4_problem_3.png\" alt=\"2_4_problem_3.png\" style=\"width: 1000px;\" style=\"\"/>"
   ]
  },
  {
   "cell_type": "markdown",
   "metadata": {},
   "source": [
    "<h3> (a)<span style=\"white-space: nowrap\">&nbsp;&nbsp;&nbsp;&nbsp;</span><i>P</i>(<i>A</i><sub>2</sub> | <i>A</i><sub>1</sub>) = <span style=\"display:none; margin-right:-2px\" title=\"Points: 1/1\" class=\"box_num\">1</span><span id=\"RN_3210671_2_0_3219513\" class=\"static\"></span> </h3>"
   ]
  },
  {
   "cell_type": "code",
   "execution_count": 17,
   "metadata": {
    "ExecuteTime": {
     "end_time": "2020-10-29T00:22:53.451283Z",
     "start_time": "2020-10-29T00:22:53.437272Z"
    }
   },
   "outputs": [
    {
     "name": "stdout",
     "output_type": "stream",
     "text": [
      "P(A2 | A1): 0.2174\n",
      "\n",
      "If the firm is awarded project 1, this is the chance they will also be awarded project 2.\n"
     ]
    }
   ],
   "source": [
    "\"\"\"\n",
    "Given Subspace A1\n",
    "Look for A1 intersect A2\n",
    "\n",
    "\"\"\"\n",
    "p3a_P_A1_given_A2 = p3_P_A1_intersect_A2 / p3_P_A1\n",
    "print(f\"P(A2 | A1): {p3a_P_A1_given_A2:.4f}\")\n",
    "print()\n",
    "\n",
    "print(\"If the firm is awarded project 1, this is the chance they will also be awarded project 2.\")"
   ]
  },
  {
   "cell_type": "markdown",
   "metadata": {},
   "source": [
    "<img src=\"images/2_4_problem_3a_solution.png\" alt=\"2_4_problem_3a_solution.png\" style=\"float:left;\"/>"
   ]
  },
  {
   "cell_type": "markdown",
   "metadata": {},
   "source": [
    "<h3> (b)<span style=\"white-space: nowrap\">&#160;&#160;&#160;&#160;</span><i>P</i>(<i>A</i><sub>2</sub> <span style=\"font-family: 'Trebuchet MS', 'Lucida Grande', sans-serif; font-size: 1.10em\">&#8745;</span> <i>A</i><sub>3</sub> | <i>A</i><sub>1</sub>) = <span style=\"display:none; margin-right:-2px\" title='Points: 1/1' class=\"box_num\">3</span><span id='RN_3210671_2_2_3219513' class='static'></span> \n",
    "</h3>"
   ]
  },
  {
   "cell_type": "code",
   "execution_count": 18,
   "metadata": {
    "ExecuteTime": {
     "end_time": "2020-10-29T00:22:53.466296Z",
     "start_time": "2020-10-29T00:22:53.452284Z"
    }
   },
   "outputs": [
    {
     "name": "stdout",
     "output_type": "stream",
     "text": [
      "P(A2 ∩ A3 | A1): 0.0870\n",
      "\n",
      "If the firm is awarded project 1, this is the chance they will also be awarded projects 2 and 3.\n"
     ]
    }
   ],
   "source": [
    "\"\"\"\n",
    "Given Subspace A1\n",
    "Look for (A1 intersect A2 intersect A3)\n",
    "\n",
    "\"\"\"\n",
    "p3b_P_A2_intersect_A3_given_A1 = p3_P_A1_intersect_A2_intersect_A3 / p3_P_A1\n",
    "print(f\"P(A2 ∩ A3 | A1): {p3b_P_A2_intersect_A3_given_A1:.4f}\")\n",
    "print()\n",
    "\n",
    "print(\"If the firm is awarded project 1, this is the chance they will also be awarded projects 2 and 3.\")"
   ]
  },
  {
   "cell_type": "markdown",
   "metadata": {},
   "source": [
    "<img src=\"images/2_4_problem_3b_solution.png\" alt=\"2_4_problem_3b_solution.png\" style=\"float:left;\"/>"
   ]
  },
  {
   "cell_type": "markdown",
   "metadata": {},
   "source": [
    "<h3> (c)<span style=\"white-space: nowrap\">&#160;&#160;&#160;&#160;</span><i>P</i>(<i>A</i><sub>2</sub> <span style=\"font-family: 'Cambria', 'Georgia', serif; font-size: 1.15em\">&#8746;</span> <i>A</i><sub>3</sub> | <i>A</i><sub>1</sub>) = <span style=\"display:none; margin-right:-2px\" title='Points: 1/1' class=\"box_num\">5</span><span id='RN_3210671_2_4_3219513' class='static'></span> </h3>"
   ]
  },
  {
   "cell_type": "code",
   "execution_count": 19,
   "metadata": {
    "ExecuteTime": {
     "end_time": "2020-10-29T00:22:53.481309Z",
     "start_time": "2020-10-29T00:22:53.467297Z"
    },
    "scrolled": true
   },
   "outputs": [
    {
     "name": "stdout",
     "output_type": "stream",
     "text": [
      "p3c_P_A2_union_A3=0.4500\n",
      "p3c_P_A2_union_A3=0.4500\n",
      "p3c_P_A2_union_A3_on_A1_LEGAL_SPACE=0.1400\n",
      "p3c_P_A2_union_A3_on_A1_LEGAL_SPACE=0.1400\n",
      "\n",
      "P(A2 ∪ A3 | A1): 0.6087\n",
      "\n",
      "If the firm is awarded project 1, this is the chance they will also be awarded at least one of the other two projects.\n"
     ]
    }
   ],
   "source": [
    "\"\"\"\n",
    "Recall:\n",
    "    P(A UNION B) = P(A) + P(B) - P(A INTERSECT B)\n",
    "    P(A|B) = P(A INTERSECT B) / P(B)\n",
    "\n",
    "\"\"\"\n",
    "\n",
    "# Easy way\n",
    "p3c_P_A2_union_A3 = p3_P_A2 + p3_P_A3 - p3_P_A2_intersect_A3\n",
    "print(f\"{p3c_P_A2_union_A3=:.4f}\")\n",
    "\n",
    "# Hard way\n",
    "p3c_P_A2_union_A3 = (p3_P_A2_Actual +  # .14\n",
    "                     p3_P_A3_Actual +  # .10\n",
    "                     p3_P_A1_intersect_A3_Actual +  # .09\n",
    "                     p3_P_A2_intersect_A3_Actual +  # .07\n",
    "                     p3_P_A1_intersect_A2_Actual +  # .03\n",
    "                     p3_P_A1_intersect_A2_intersect_A3)  # .02\n",
    "\n",
    "print(f\"{p3c_P_A2_union_A3=:.4f}\")\n",
    "\n",
    "\n",
    "\"\"\"\n",
    ".44 - (.14 + .10 + .07)\n",
    "\"\"\"\n",
    "p3c_P_A2_union_A3_on_A1_LEGAL_SPACE = (p3c_P_A2_union_A3 - (p3_P_A2_Actual +\n",
    "                                                            p3_P_A3_Actual +\n",
    "                                                            p3_P_A2_intersect_A3_Actual))\n",
    "\n",
    "# print(p3c_P_A2_union_A3, p3_P_A2_Actual, p3_P_A3_Actual, p3_P_A2_intersect_A3_Actual)\n",
    "\n",
    "print(f\"{p3c_P_A2_union_A3_on_A1_LEGAL_SPACE=:.4f}\")\n",
    "\n",
    "\"\"\"\n",
    ".03 + .09 + .02 = .14\n",
    "\"\"\"\n",
    "p3c_P_A2_union_A3_on_A1_LEGAL_SPACE = (p3_P_A1_intersect_A2_Actual +\n",
    "                                       p3_P_A1_intersect_A3_Actual +\n",
    "                                       p3_P_A1_intersect_A2_intersect_A3)\n",
    "\n",
    "print(f\"{p3c_P_A2_union_A3_on_A1_LEGAL_SPACE=:.4f}\")\n",
    "\n",
    "p3c_P_A2_union_A3_given_A1 = (p3c_P_A2_union_A3_on_A1_LEGAL_SPACE /\n",
    "                              p3_P_A1)\n",
    "\n",
    "print()\n",
    "print(f\"P(A2 ∪ A3 | A1): {p3c_P_A2_union_A3_given_A1:.4f}\")\n",
    "print()\n",
    "\n",
    "print(\"If the firm is awarded project 1, this is the chance they will also be awarded at least one of the other two projects.\")"
   ]
  },
  {
   "cell_type": "markdown",
   "metadata": {},
   "source": [
    "<img src=\"images/2_4_problem_3c_solution.png\" alt=\"2_4_problem_3c_solution.png\" style=\"float:left;\"/>"
   ]
  },
  {
   "cell_type": "markdown",
   "metadata": {
    "ExecuteTime": {
     "end_time": "2020-09-11T23:41:07.692542Z",
     "start_time": "2020-09-11T23:41:07.687538Z"
    }
   },
   "source": [
    "<h3> (d)<span style=\"white-space: nowrap\">&#160;&#160;&#160;&#160;</span><i>P</i>(<i>A</i><sub>1</sub> <span style=\"font-family: 'Trebuchet MS', 'Lucida Grande', sans-serif; font-size: 1.10em\">&#8745;</span> <i>A</i><sub>2</sub> <span style=\"font-family: 'Trebuchet MS', 'Lucida Grande', sans-serif; font-size: 1.10em\">&#8745;</span> <i>A</i><sub>3</sub> | <i>A</i><sub>1</sub> <span style=\"font-family: 'Cambria', 'Georgia', serif; font-size: 1.15em\">&#8746;</span> <i>A</i><sub>2</sub> <span style=\"font-family: 'Cambria', 'Georgia', serif; font-size: 1.15em\">&#8746;</span> <i>A</i><sub>3</sub>) = <span style=\"display:none; margin-right:-2px\" title='Points: 1/1' class=\"box_num\">7</span><span id='RN_3210671_2_6_3219513' class='static'></span> </h3>"
   ]
  },
  {
   "cell_type": "code",
   "execution_count": 20,
   "metadata": {
    "ExecuteTime": {
     "end_time": "2020-10-29T00:22:53.497323Z",
     "start_time": "2020-10-29T00:22:53.482310Z"
    }
   },
   "outputs": [
    {
     "name": "stdout",
     "output_type": "stream",
     "text": [
      "P(A1 ∩ A2 ∩ A3 | A1 ∪ A2 ∪ A3): 0.0370\n"
     ]
    }
   ],
   "source": [
    "# P(A1 ∪ A2 ∪ A3) is everything inside\n",
    "p3d_P_A1_union_A2_union_A3 = p3_in\n",
    "\n",
    "\"\"\"\n",
    "P((A1 ∩ A2 ∩ A3) ∩ (A1 ∪ A2 ∪ A3))\n",
    "\n",
    "(A1 ∩ A2 ∩ A3) is inside of (A1 ∪ A2 ∪ A3)\n",
    "so it's just (A1 ∩ A2 ∩ A3)\n",
    "\"\"\"\n",
    "# P((A1 ∩ A2 ∩ A3) ∩ (A1 ∪ A2 ∪ A3))\n",
    "p3d_P_A1_intersect_A2_intersect_A3_intersect_P_A1_union_A2_union_A3 = p3_P_A1_intersect_A2_intersect_A3\n",
    "\n",
    "# P((A1 ∩ A2 ∩ A3) ∩ (A1 ∪ A2 ∪ A3)) / # P(A1 ∪ A2 ∪ A3)\n",
    "p3d_P_A1_intersect_A2_intersect_A3_given_P_A1_union_A2_union_A3 = (\n",
    "    p3d_P_A1_intersect_A2_intersect_A3_intersect_P_A1_union_A2_union_A3 /\n",
    "    p3d_P_A1_union_A2_union_A3)\n",
    "\n",
    "print(\n",
    "    f\"P(A1 ∩ A2 ∩ A3 | A1 ∪ A2 ∪ A3): {p3d_P_A1_intersect_A2_intersect_A3_given_P_A1_union_A2_union_A3:.4f}\")"
   ]
  },
  {
   "cell_type": "markdown",
   "metadata": {},
   "source": [
    "<img src=\"images/2_4_problem_3d_solution.png\" alt=\"2_4_problem_3d_solution.png\" style=\"float:left;\"/>"
   ]
  },
  {
   "cell_type": "markdown",
   "metadata": {},
   "source": [
    "# 4. DEVORESTAT9 2.E.059.\n",
    "<div class=\"wa1par\"> At a certain gas station, 40% of the customers use regular gas <span class=\"watexinlineblock\"><span class=\"watex watexlineheightnormal\">(<span style=\"font-style: italic;\"><span style=\"font-style: italic;\">A</span></span><sub>1</sub>),</span></span> 35% use plus gas <span class=\"watexinlineblock\"><span class=\"watex watexlineheightnormal\">(<span style=\"font-style: italic;\"><span style=\"font-style: italic;\">A</span></span><sub>2</sub>),</span></span> and 25% use premium <span class=\"watexinlineblock\"><span class=\"watex watexlineheightnormal\">(<span style=\"font-style: italic;\"><span style=\"font-style: italic;\">A</span></span><sub>3</sub>).</span></span> Of those customers using regular gas, only <font color=\"red\">20</font>% fill their tanks (event <em>B</em>). Of those customers using plus, <font color=\"red\">40</font>% fill their tanks, whereas of those using premium, <font color=\"red\">50</font>% fill their tanks. </div>"
   ]
  },
  {
   "cell_type": "code",
   "execution_count": 21,
   "metadata": {
    "ExecuteTime": {
     "end_time": "2020-10-29T00:22:53.513336Z",
     "start_time": "2020-10-29T00:22:53.498323Z"
    }
   },
   "outputs": [
    {
     "name": "stdout",
     "output_type": "stream",
     "text": [
      "p4_universe=1.0\n"
     ]
    }
   ],
   "source": [
    "p4_P_A1 = .40\n",
    "p4_P_A2 = .35\n",
    "p4_P_A3 = .25\n",
    "\n",
    "p4_P_fill_tank_given_A1 = .20  # AKA EVENT B\n",
    "p4_P_event_B = p4_P_fill_tank_given_A1\n",
    "p4_P_fill_tank_given_A2 = .40\n",
    "p4_P_fill_tank_given_A3 = .50\n",
    "\n",
    "p4_universe = p4_P_A1 + p4_P_A2 + p4_P_A3\n",
    "print(f\"{p4_universe=}\")"
   ]
  },
  {
   "cell_type": "markdown",
   "metadata": {},
   "source": [
    "<img src=\"images/2_4_problem_4_solution_work.png\" alt=\"2_4_problem_4_solution_work.png\" style=\"width:100%;\"/>\n"
   ]
  },
  {
   "cell_type": "markdown",
   "metadata": {},
   "source": [
    "<h3> (a) What is the probability that the next customer will request plus gas and fill the tank <span class=\"watexinlineblock\"><span class=\"watex watexlineheightnormal\">(<span style=\"font-style: italic;\"><span style=\"font-style: italic;\">A</span></span><sub>2</sub> <span style=\"font-family: 'Trebuchet MS', 'Lucida Grande', sans-serif; font-size: 1.10em\">∩</span> <span style=\"font-style: italic;\"><span style=\"font-style: italic;\">B</span></span>)?</span></span> </h3>"
   ]
  },
  {
   "cell_type": "code",
   "execution_count": 22,
   "metadata": {
    "ExecuteTime": {
     "end_time": "2020-10-29T00:22:53.529350Z",
     "start_time": "2020-10-29T00:22:53.516339Z"
    }
   },
   "outputs": [
    {
     "name": "stdout",
     "output_type": "stream",
     "text": [
      "P(A2 ∩ B): 0.140\n"
     ]
    }
   ],
   "source": [
    "\"\"\"\n",
    "*** THE QUESTION SHOULD BE ASKING (p4_P_A2 INTERSECT p4_P_fill_tank_given_A2) ***\n",
    "NOT EVENT B\n",
    "\"\"\"\n",
    "\n",
    "p4a_P_A2_intersection_B = p4_P_fill_tank_given_A2 * p4_P_A2\n",
    "\n",
    "print(f\"P(A2 ∩ B): {p4a_P_A2_intersection_B:.3f}\")"
   ]
  },
  {
   "cell_type": "markdown",
   "metadata": {},
   "source": [
    "### (b) What is the probability that the next customer fills the tank?\n",
    "\n"
   ]
  },
  {
   "cell_type": "code",
   "execution_count": 23,
   "metadata": {
    "ExecuteTime": {
     "end_time": "2020-10-29T00:22:53.545364Z",
     "start_time": "2020-10-29T00:22:53.531352Z"
    }
   },
   "outputs": [
    {
     "name": "stdout",
     "output_type": "stream",
     "text": [
      "0.345\n"
     ]
    }
   ],
   "source": [
    "p4b_P_A1_then_fill_tank = p4_P_A1 * p4_P_fill_tank_given_A1\n",
    "p4b_P_A2_then_fill_tank = p4_P_A2 * p4_P_fill_tank_given_A2\n",
    "p4b_P_A3_then_fill_tank = p4_P_A3 * p4_P_fill_tank_given_A3\n",
    "\n",
    "p4b_P_fill_tank = (p4b_P_A1_then_fill_tank +\n",
    "                   p4b_P_A2_then_fill_tank +\n",
    "                   p4b_P_A3_then_fill_tank) / p4_universe\n",
    "\n",
    "print(p4b_P_fill_tank)"
   ]
  },
  {
   "cell_type": "markdown",
   "metadata": {},
   "source": [
    "### (c) If the next customer fills the tank, what is the probability that regular gas is requested? (Round your answer to three decimal places.)"
   ]
  },
  {
   "cell_type": "code",
   "execution_count": 24,
   "metadata": {
    "ExecuteTime": {
     "end_time": "2020-10-29T00:22:53.560376Z",
     "start_time": "2020-10-29T00:22:53.546366Z"
    }
   },
   "outputs": [
    {
     "name": "stdout",
     "output_type": "stream",
     "text": [
      "P(p4_P_A1 | p4b_P_fill_tank): 0.232\n"
     ]
    }
   ],
   "source": [
    "# P(p4_P_A1 | p4b_P_fill_tank)\n",
    "\n",
    "# Regular then Fill tank\n",
    "p4c_P_A1_intersect_fill_tank = p4b_P_A1_then_fill_tank\n",
    "\n",
    "p4c_P_A1_given_fill_tank = p4c_P_A1_intersect_fill_tank / p4b_P_fill_tank\n",
    "\n",
    "print(f\"P(p4_P_A1 | p4b_P_fill_tank): {p4c_P_A1_given_fill_tank:.3f}\")"
   ]
  },
  {
   "cell_type": "markdown",
   "metadata": {},
   "source": [
    "### If the next customer fills the tank, what is the probability that plus gas is requested? (Round your answer to three decimal places.)\n"
   ]
  },
  {
   "cell_type": "code",
   "execution_count": 25,
   "metadata": {
    "ExecuteTime": {
     "end_time": "2020-10-29T00:22:53.575390Z",
     "start_time": "2020-10-29T00:22:53.561378Z"
    }
   },
   "outputs": [
    {
     "name": "stdout",
     "output_type": "stream",
     "text": [
      "P(p4_P_A2 | p4b_P_fill_tank): 0.406\n"
     ]
    }
   ],
   "source": [
    "# P(p4_P_A2 | p4b_P_fill_tank)\n",
    "\n",
    "# Plus then Fill tank\n",
    "p4c_P_A2_intersect_fill_tank = p4b_P_A2_then_fill_tank\n",
    "\n",
    "p4c_P_A2_given_fill_tank = p4c_P_A2_intersect_fill_tank / p4b_P_fill_tank\n",
    "\n",
    "print(f\"P(p4_P_A2 | p4b_P_fill_tank): {p4c_P_A2_given_fill_tank:.3f}\")"
   ]
  },
  {
   "cell_type": "markdown",
   "metadata": {
    "ExecuteTime": {
     "end_time": "2020-09-12T00:42:54.343863Z",
     "start_time": "2020-09-12T00:42:54.341861Z"
    }
   },
   "source": [
    "### If the next customer fills the tank, what is the probability that premium gas is requested? (Round your answer to three decimal places.)\n"
   ]
  },
  {
   "cell_type": "code",
   "execution_count": 26,
   "metadata": {
    "ExecuteTime": {
     "end_time": "2020-10-29T00:22:53.591403Z",
     "start_time": "2020-10-29T00:22:53.576390Z"
    }
   },
   "outputs": [
    {
     "name": "stdout",
     "output_type": "stream",
     "text": [
      "P(p4_P_A3 | p4b_P_fill_tank): 0.362\n"
     ]
    }
   ],
   "source": [
    "# P(p4_P_A3 | p4b_P_fill_tank)\n",
    "\n",
    "# Plus then Fill tank\n",
    "p4c_P_A3_intersect_fill_tank = p4b_P_A3_then_fill_tank\n",
    "\n",
    "p4c_P_A3_given_fill_tank = p4c_P_A3_intersect_fill_tank / p4b_P_fill_tank\n",
    "\n",
    "print(f\"P(p4_P_A3 | p4b_P_fill_tank): {p4c_P_A3_given_fill_tank:.3f}\")"
   ]
  },
  {
   "cell_type": "markdown",
   "metadata": {
    "ExecuteTime": {
     "end_time": "2020-09-12T01:14:26.257237Z",
     "start_time": "2020-09-12T01:14:26.255235Z"
    }
   },
   "source": [
    "# 5. DEVORESTAT9 2.E.062. \n",
    "<div class=\"wa1par\"> Blue Cab operates 15% of the taxis in a certain city, and Green Cab operates the other 85%. After a nighttime hit-and-run accident involving a taxi, an eyewitness said the vehicle was blue. Suppose, though, that under night vision conditions, only 80% of individuals can correctly distinguish between a blue and a green vehicle.</div>"
   ]
  },
  {
   "cell_type": "code",
   "execution_count": 27,
   "metadata": {
    "ExecuteTime": {
     "end_time": "2020-10-29T00:22:53.607417Z",
     "start_time": "2020-10-29T00:22:53.592405Z"
    }
   },
   "outputs": [],
   "source": [
    "p5_P_operate_blue = .15\n",
    "p5_P_operate_green = .85\n",
    "\n",
    "p5_P_distinguish_blue_and_green_at_night = .80\n",
    "\n",
    "p5_P_not_distinguish_blue_and_green_at_night = (1 -\n",
    "                                                p5_P_distinguish_blue_and_green_at_night)\n",
    "\n",
    "\"\"\"\n",
    "Not distinguish should actaully be CAN'T TELL BUT DEFINITELY NOT GUARANTEE COLOR\n",
    "because\n",
    "    Not distinguish = Blue and Green are the same color = Color blind\n",
    "    \n",
    "\"\"\"\n",
    "p5_P_guarantee_not_color = p5_P_not_distinguish_blue_and_green_at_night"
   ]
  },
  {
   "cell_type": "markdown",
   "metadata": {
    "ExecuteTime": {
     "end_time": "2020-09-12T02:51:58.630634Z",
     "start_time": "2020-09-12T02:51:58.627631Z"
    }
   },
   "source": [
    "\n",
    "<img src=\"images/2_4_problem_5_solution_work.png\" alt=\"2_4_problem_5_solution_work.png\" style=\"width:100%;\"/>\n"
   ]
  },
  {
   "cell_type": "markdown",
   "metadata": {},
   "source": [
    "<h4> What is the (posterior) probability that the taxi at fault was blue? [<em>Hint:</em> A tree diagram might help. <em>Note:</em> This is based on an actual incident.] (Round your answer to four decimal places.) </h4>"
   ]
  },
  {
   "cell_type": "code",
   "execution_count": 28,
   "metadata": {
    "ExecuteTime": {
     "end_time": "2020-10-29T00:22:53.622429Z",
     "start_time": "2020-10-29T00:22:53.608419Z"
    }
   },
   "outputs": [
    {
     "name": "stdout",
     "output_type": "stream",
     "text": [
      "P(p5_guaranatee_blue | p5_possibly_blue): 0.4138\n"
     ]
    }
   ],
   "source": [
    "p5_P_guaranatee_blue = (p5_P_operate_blue *\n",
    "                        p5_P_distinguish_blue_and_green_at_night)\n",
    "\n",
    "p5_P_guaranatee_not_blue = (p5_P_operate_blue *\n",
    "                            p5_P_guarantee_not_color)\n",
    "\n",
    "p5_P_guaranatee_green = (p5_P_operate_green *\n",
    "                         p5_P_distinguish_blue_and_green_at_night)\n",
    "\n",
    "p5_P_guaranatee_not_green = (p5_P_operate_green *\n",
    "                             p5_P_guarantee_not_color)\n",
    "\n",
    "# Possibily Blue = Guarantee Blue + Not Green\n",
    "p5_P_possibly_blue = p5_P_guaranatee_blue + p5_P_guaranatee_not_green\n",
    "\n",
    "# P(p5_guaranatee_blue | p5_possibly_blue)\n",
    "p5_P_was_blue_given_possibly_blue = p5_P_guaranatee_blue / p5_P_possibly_blue\n",
    "\n",
    "print(\n",
    "    f\"P(p5_guaranatee_blue | p5_possibly_blue): {p5_P_was_blue_given_possibly_blue:.4f}\")"
   ]
  },
  {
   "cell_type": "markdown",
   "metadata": {},
   "source": [
    "#### Indicate the probability rule you used."
   ]
  },
  {
   "cell_type": "code",
   "execution_count": 29,
   "metadata": {
    "ExecuteTime": {
     "end_time": "2020-10-29T00:22:53.637443Z",
     "start_time": "2020-10-29T00:22:53.623431Z"
    }
   },
   "outputs": [
    {
     "name": "stdout",
     "output_type": "stream",
     "text": [
      "Bayes' Theorem\n"
     ]
    }
   ],
   "source": [
    "print(\"Bayes' Theorem\")"
   ]
  },
  {
   "cell_type": "markdown",
   "metadata": {},
   "source": [
    "<img src=\"images/2_4_problem_5_solution.png\" alt=\"2_4_problem_5_solution.png\" style=\"float:left\"/>\n"
   ]
  },
  {
   "cell_type": "markdown",
   "metadata": {},
   "source": [
    "# 6. DEVORESTAT9 2.E.067.\n",
    "<div class=\"wa1par\"> There has been a great deal of controversy over the last several years regarding what types of surveillance are appropriate to prevent terrorism. Suppose a particular surveillance system has a <font color=\"red\">98</font>% chance of correctly identifying a future terrorist and a <font color=\"red\">99.9</font>% chance of correctly identifying someone who is not a future terrorist. If there are 1,000 future terrorists in a population of <span class=\"nobr\"><font color=\"red\">300</font> million,</span> and one of these <span class=\"nobr\"><font color=\"red\">300</font> million</span> is randomly selected, scrutinized by the system, and identified as a future terrorist, what is the probability that he/she actually is a future terrorist? (Round your answer to six decimal places.) </div>"
   ]
  },
  {
   "cell_type": "code",
   "execution_count": 30,
   "metadata": {
    "ExecuteTime": {
     "end_time": "2020-10-29T00:22:53.652455Z",
     "start_time": "2020-10-29T00:22:53.638444Z"
    }
   },
   "outputs": [
    {
     "name": "stdout",
     "output_type": "stream",
     "text": [
      "p6_surveillance_system_correctly_identify_future_terrorist=0.98000\n",
      "p6_surveillance_system_correctly_identify_future_terrorist_wrong=0.02000\n",
      "\n",
      "p6_surveillance_system_correctly_identify_future_not_terrorist=0.99900\n",
      "p6_surveillance_system_correctly_identify_future_not_terrorist_wrong=0.00100\n"
     ]
    }
   ],
   "source": [
    "# Big numbers make this problem slightly annoying\n",
    "\n",
    "p6_surveillance_system_correctly_identify_future_terrorist = .98\n",
    "p6_surveillance_system_correctly_identify_future_not_terrorist = .999\n",
    "\n",
    "p6_surveillance_system_correctly_identify_future_terrorist_wrong = (1 -\n",
    "                                                                    p6_surveillance_system_correctly_identify_future_terrorist)\n",
    "\n",
    "p6_surveillance_system_correctly_identify_future_not_terrorist_wrong = (1 -\n",
    "                                                                        p6_surveillance_system_correctly_identify_future_not_terrorist)\n",
    "\n",
    "p6_terrorist_current = 1000\n",
    "p6_population = 300000000\n",
    "\n",
    "print(f\"{p6_surveillance_system_correctly_identify_future_terrorist=:.5f}\")\n",
    "print(f\"{p6_surveillance_system_correctly_identify_future_terrorist_wrong=:.5f}\")\n",
    "\n",
    "print()\n",
    "print(f\"{p6_surveillance_system_correctly_identify_future_not_terrorist=:.5f}\")\n",
    "print(f\"{p6_surveillance_system_correctly_identify_future_not_terrorist_wrong=:.5f}\")"
   ]
  },
  {
   "cell_type": "markdown",
   "metadata": {
    "ExecuteTime": {
     "end_time": "2020-09-12T06:56:34.720742Z",
     "start_time": "2020-09-12T06:56:34.717740Z"
    }
   },
   "source": [
    "<img src=\"images/2_4_problem_6_solution_work.png\" alt=\"2_4_problem_6_solution_work.png\" style=\"width:100%;\"/>\n"
   ]
  },
  {
   "cell_type": "code",
   "execution_count": 31,
   "metadata": {
    "ExecuteTime": {
     "end_time": "2020-10-29T00:22:53.667467Z",
     "start_time": "2020-10-29T00:22:53.653456Z"
    },
    "scrolled": true
   },
   "outputs": [
    {
     "name": "stdout",
     "output_type": "stream",
     "text": [
      "p6_prob_future_terrorist_id_future_terrorist=0.0000032667\n",
      "p6_prob_future_terrorist_id_not_future_terrorist=0.0000000667\n",
      "p6_prob_not_future_terrorist_id_future_terrorist=0.9989966700\n",
      "p6_prob_not_future_terrorist_id_not_future_terrorist=0.0009999967\n",
      "\n",
      "p6_prob_future_terrorist_is_actually_future_terrorist=0.003256\n"
     ]
    }
   ],
   "source": [
    "# Probability of being a Future Terrorist\n",
    "p6_prob_future_terrorist = (p6_terrorist_current / \n",
    "                            p6_population)\n",
    "\n",
    "p6_prob_not_future_terrorist = (p6_population -\n",
    "                                p6_terrorist_current) / p6_population\n",
    "\n",
    "# Probability of being Future Terrorist\n",
    "p6_prob_future_terrorist_id_future_terrorist = (p6_prob_future_terrorist *\n",
    "                                                p6_surveillance_system_correctly_identify_future_terrorist)\n",
    "\n",
    "p6_prob_future_terrorist_id_not_future_terrorist = (p6_prob_future_terrorist *\n",
    "                                                    p6_surveillance_system_correctly_identify_future_terrorist_wrong)\n",
    "\n",
    "p6_prob_not_future_terrorist_id_future_terrorist = (p6_prob_not_future_terrorist *\n",
    "                                                    p6_surveillance_system_correctly_identify_future_not_terrorist)\n",
    "\n",
    "p6_prob_not_future_terrorist_id_not_future_terrorist = (p6_prob_not_future_terrorist *\n",
    "                                                        p6_surveillance_system_correctly_identify_future_not_terrorist_wrong)\n",
    "\n",
    "print(f\"{p6_prob_future_terrorist_id_future_terrorist=:.10f}\")\n",
    "print(f\"{p6_prob_future_terrorist_id_not_future_terrorist=:.10f}\")\n",
    "print(f\"{p6_prob_not_future_terrorist_id_future_terrorist=:.10f}\")\n",
    "print(f\"{p6_prob_not_future_terrorist_id_not_future_terrorist=:.10f}\")\n",
    "\n",
    "p6_prob_future_terrorist_is_actually_future_terrorist = (p6_prob_future_terrorist_id_future_terrorist /\n",
    "                                                         (p6_prob_future_terrorist_id_future_terrorist +\n",
    "                                                          p6_prob_not_future_terrorist_id_not_future_terrorist))\n",
    "\n",
    "print()\n",
    "print(f\"{p6_prob_future_terrorist_is_actually_future_terrorist=:.6f}\")"
   ]
  },
  {
   "cell_type": "markdown",
   "metadata": {},
   "source": [
    "#### Does the value of this probability make you uneasy about using the surveillance system? Explain.\n",
    "<img src=\"images/2_4_problem_6_solution.png\" alt=\"2_4_problem_6_solution.png\" style=\"float:left\"/>"
   ]
  }
 ],
 "metadata": {
  "kernelspec": {
   "display_name": "Python 3.8.5 64-bit Anaconda (Only works with Anaconda's Jupyter)",
   "language": "python",
   "name": "python_3.8.5_64-bit_anaconda"
  },
  "language_info": {
   "codemirror_mode": {
    "name": "ipython",
    "version": 3
   },
   "file_extension": ".py",
   "mimetype": "text/x-python",
   "name": "python",
   "nbconvert_exporter": "python",
   "pygments_lexer": "ipython3",
   "version": "3.8.5"
  },
  "varInspector": {
   "cols": {
    "lenName": 16,
    "lenType": 16,
    "lenVar": 40
   },
   "kernels_config": {
    "python": {
     "delete_cmd_postfix": "",
     "delete_cmd_prefix": "del ",
     "library": "var_list.py",
     "varRefreshCmd": "print(var_dic_list())"
    },
    "r": {
     "delete_cmd_postfix": ") ",
     "delete_cmd_prefix": "rm(",
     "library": "var_list.r",
     "varRefreshCmd": "cat(var_dic_list()) "
    }
   },
   "types_to_exclude": [
    "module",
    "function",
    "builtin_function_or_method",
    "instance",
    "_Feature"
   ],
   "window_display": false
  }
 },
 "nbformat": 4,
 "nbformat_minor": 4
}

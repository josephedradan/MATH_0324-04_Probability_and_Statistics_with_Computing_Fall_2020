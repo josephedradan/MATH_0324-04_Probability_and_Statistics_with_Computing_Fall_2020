{
 "cells": [
  {
   "cell_type": "markdown",
   "metadata": {},
   "source": [
    "## CODE HERE IS TO CALCUALTE THE TRIMMED MEAN USING INTERPOLATION"
   ]
  },
  {
   "cell_type": "code",
   "execution_count": 1,
   "metadata": {},
   "outputs": [],
   "source": [
    "\"\"\"\n",
    "CODE HERE IS TO CALCUALTE THE TRIMMED MEAN USING INTERPOLATION\n",
    "\"\"\"\n",
    "from typing import List, Tuple, Union\n",
    "import numpy as np\n",
    "\n",
    "\n",
    "def trim_list(list_given: List[int], decimal_percent: float) -> List[int]:\n",
    "    \"\"\"\n",
    "    Given a list, make a copy of it and sort it in ascending order\n",
    "    trim amount = Multiply the decimal percent by the length of the given list and round it\n",
    "    Based on the trim amount, trim the copy of the list where 2 * trim amount = total items trimmed\n",
    "\n",
    "    :param list_given: list to get trimmed\n",
    "    :param decimal_percent: percentage to trim the given list by\n",
    "    :return: trimmed copy of the list\n",
    "    \"\"\"\n",
    "    list_temp = list_given.copy()\n",
    "    list_temp.sort()\n",
    "    amount_to_trim = round(decimal_percent * len(list_temp))\n",
    "\n",
    "    while amount_to_trim != 0:\n",
    "        list_temp.pop(0)\n",
    "        list_temp.pop(-1)\n",
    "        amount_to_trim -= 1\n",
    "\n",
    "    return list_temp\n",
    "\n",
    "\n",
    "def calculate_all_perfect_trimmed_means_and_percentages(list_given: List[int]) -> Tuple[List[float], List[float]]:\n",
    "    \"\"\"\n",
    "    Given a list:\n",
    "        Calculate number of trims\n",
    "        Calculate all perfect trims\n",
    "\n",
    "        Loop through all perfect trims:\n",
    "            Calculate trimmed mean\n",
    "            Add trimmed mean to list of trimmed means\n",
    "\n",
    "    :param list_given: list of values\n",
    "    :return: list_trimmed_mean_perfect, list_trim_percentage_perfect\n",
    "    \"\"\"\n",
    "    # Sort the given list if not sorted\n",
    "    list_given.sort()\n",
    "\n",
    "    # List of trimmed means that can perfectly trim the given list\n",
    "    list_trimmed_mean_perfect = []\n",
    "\n",
    "    # Length of list\n",
    "    length_list = len(list_given)\n",
    "\n",
    "    # TODO: CAN BE OPTIMIZED BY GETTING HALF THE AMOUNT OF TRIMS HERE\n",
    "    # Number of trims that will be made to the list\n",
    "    number_of_trims = length_list if length_list % 2 else length_list - 1\n",
    "\n",
    "    # List of what you can trim the given list by\n",
    "    list_trim_numbers = list(map(lambda x: x + 1, range(number_of_trims)))\n",
    "\n",
    "    # Calculate the percentages that can split the given list perfectly upto 50%\n",
    "    list_trim_percentage_perfect = [\n",
    "        x for i in list_trim_numbers if (x := float(i / length_list)) <= .5]\n",
    "\n",
    "    # Loop through each percentage (perfect trim percentage)\n",
    "    for i in range(len(list_trim_percentage_perfect)):\n",
    "\n",
    "        # Result of a trimmed list by given percentage\n",
    "        list_trimmed_temp = trim_list(\n",
    "            list_given, list_trim_percentage_perfect[i])\n",
    "\n",
    "        # If trimmed list if empty, ignore it\n",
    "        if not list_trimmed_temp:\n",
    "            continue\n",
    "\n",
    "        # Trimmed mean\n",
    "        mean_trimmed = np.mean(list_trimmed_temp) * .01\n",
    "\n",
    "        # Add trimmed mean to list of trimmed means that can perfectly trim the given list\n",
    "        list_trimmed_mean_perfect.append(mean_trimmed)\n",
    "\n",
    "    return list_trimmed_mean_perfect, list_trim_percentage_perfect\n",
    "\n",
    "\n",
    "def trimmed_mean_interpolation(list_given: List[int], decimal_percent: float) -> Union[np.float64, float]:\n",
    "    \"\"\"\n",
    "    Calculates the trimmed mean regardless of whether or not the given decimal percent can trim the the given list\n",
    "    perfectly.\n",
    "\n",
    "    If the decimal percent is not perfect then:\n",
    "        Calculate left and right interpolated bounds\n",
    "        Calculate the alpha\n",
    "        Calculate the trimmed mean via interpolated bounds method\n",
    "\n",
    "    Notes:\n",
    "        Recall equation for finding alpha where the decimal percent is not perfect\n",
    "            PERCENT = alpha(LEFT_BOUND_PERCENT) + (1 - alpha)(RIGHT_BOUND_PERCENT)\n",
    "            Solve for alpha\n",
    "\n",
    "\n",
    "        Recall equation for trimmed mean where decimal percent is not perfect\n",
    "            TRIMMED_MEAN =  alpha(LEFT_BOUND_TRIMMED_MEAN_PERFECT) + 1 - alpha)(RIGHT_BOUND_TRIMMED_MEAN_PERFECT)\n",
    "            Solve for TRIMMED_MEAN\n",
    "\n",
    "    :param list_given: list of numbers\n",
    "    :param decimal_percent: percentage to trim the list by\n",
    "    :return:\n",
    "    \"\"\"\n",
    "\n",
    "    # Calculate all perfect trims and their corresponding percentages\n",
    "    list_trimmed_mean_perfect, list_trim_percentage_perfect = calculate_all_perfect_trimmed_means_and_percentages(\n",
    "        list_given)\n",
    "\n",
    "    # If the given decimal trim is a perfect trim\n",
    "    if decimal_percent in list_trimmed_mean_perfect:\n",
    "        return np.mean(trim_list(list_given, decimal_percent))\n",
    "\n",
    "    # Index Bounds where the given decimal percent is in between\n",
    "    index_left_bound, index_right_bound = _find_interpolated_weights(decimal_percent,\n",
    "                                                                     list_trim_percentage_perfect)\n",
    "\n",
    "    # Numerator for solving alpha\n",
    "    numerator = decimal_percent - \\\n",
    "        list_trim_percentage_perfect[index_right_bound]\n",
    "\n",
    "    # Denominator for solving alpha\n",
    "    denominator = (list_trim_percentage_perfect[index_left_bound]) - (\n",
    "        list_trim_percentage_perfect[index_right_bound])\n",
    "\n",
    "    # Alpha (Floating point error here)\n",
    "    alpha = (numerator / denominator)\n",
    "\n",
    "    # Left and Right bound interpolation for solving the trimmed mean (Floating point errors here too)\n",
    "    left_bound_interpolation = (\n",
    "        alpha * list_trimmed_mean_perfect[index_left_bound])\n",
    "    right_bound_interpolation = (1 - alpha) * \\\n",
    "        list_trimmed_mean_perfect[index_right_bound]\n",
    "\n",
    "    # Calculate trimmed mean via interpolated method\n",
    "    trimmed_mean = (left_bound_interpolation + right_bound_interpolation) * 100\n",
    "\n",
    "    return trimmed_mean\n",
    "\n",
    "\n",
    "def _find_interpolated_weights(value: float, list_in_between_sorted: List[float]) -> Tuple[int, int]:\n",
    "    \"\"\"\n",
    "    Finds where the given value is in between the given list that is ASSUMED to be sorted\n",
    "    Returns the indices where the value is in between in the given list\n",
    "\n",
    "    WARNING:\n",
    "        Dangerous, it assumes index + 1 exists\n",
    "\n",
    "    :param value: value that should be in between list_in_between_sorted\n",
    "    :param list_in_between_sorted: given list\n",
    "    :return:\n",
    "    \"\"\"\n",
    "    # Indices\n",
    "    index_left_bound = None\n",
    "    index_right_bound = None\n",
    "\n",
    "    # Current index\n",
    "    index = 0\n",
    "\n",
    "    try:\n",
    "        # Loop to check where the given value is in between\n",
    "        while True:\n",
    "            if value >= list_in_between_sorted[index]:\n",
    "                index_left_bound = index\n",
    "\n",
    "            if value <= list_in_between_sorted[index + 1]:\n",
    "                index_right_bound = index + 1\n",
    "\n",
    "            # If the bounds are found return it\n",
    "            if index_left_bound is not None and index_right_bound is not None:\n",
    "                return index_left_bound, index_right_bound\n",
    "\n",
    "            index += 1\n",
    "    except IndexError as e:\n",
    "        print(e)\n",
    "        print(\"Index is out of bounds. Is the given value in between any of the values in the given list?\")"
   ]
  },
  {
   "cell_type": "markdown",
   "metadata": {},
   "source": [
    "# 1. DEVORESTAT9 1.E.033.S."
   ]
  },
  {
   "cell_type": "code",
   "execution_count": 2,
   "metadata": {},
   "outputs": [
    {
     "name": "stderr",
     "output_type": "stream",
     "text": [
      "c:\\users\\joseph\\appdata\\local\\programs\\python\\python38\\lib\\site-packages\\rpy2\\robjects\\packages.py:365: UserWarning: The symbol 'quartz' is not in this R namespace/package.\n",
      "  warnings.warn(\n"
     ]
    }
   ],
   "source": [
    "import rpy2\n",
    "%load_ext rpy2.ipython"
   ]
  },
  {
   "cell_type": "markdown",
   "metadata": {},
   "source": [
    "### The May 1, 2009, issue of a certain publication reported the following home sale amounts for a sample of homes in Alameda, CA that were sold the previous month (1,000s of $).\n"
   ]
  },
  {
   "cell_type": "code",
   "execution_count": 3,
   "metadata": {},
   "outputs": [
    {
     "name": "stdout",
     "output_type": "stream",
     "text": [
      "[348, 412, 541, 555, 572, 586, 610, 681, 814, 1280]\n"
     ]
    }
   ],
   "source": [
    "\"\"\"\n",
    "The May 1, 2009, issue of a certain publication reported the following home sale amounts for a sample of homes in Alameda, CA that were sold the previous month (1,000s of $).\n",
    "\"\"\"\n",
    "string_data = \"586\t814\t572\t610\t348\t1,280\t412\t541\t555\t681\"\n",
    "\n",
    "list_data = string_data.split(sep=\"\\t\")\n",
    "\n",
    "list_data = [int(i.replace(\",\", \"\")) for i in list_data]\n",
    "\n",
    "list_data.sort()\n",
    "\n",
    "print(list_data)"
   ]
  },
  {
   "cell_type": "markdown",
   "metadata": {},
   "source": [
    "### (a) Calculate and interpret the sample mean and median."
   ]
  },
  {
   "cell_type": "code",
   "execution_count": 4,
   "metadata": {},
   "outputs": [
    {
     "name": "stdout",
     "output_type": "stream",
     "text": [
      "(a) Calculate and interpret the sample mean and median.\n",
      "mean=639.9\n",
      "median=579.0\n"
     ]
    }
   ],
   "source": [
    "\"\"\"\n",
    "(a) Calculate and interpret the sample mean and median.\n",
    "\"\"\"\n",
    "import numpy as np\n",
    "print(\"(a) Calculate and interpret the sample mean and median.\")\n",
    "\n",
    "mean = np.mean(list_data)\n",
    "median = np.median(list_data)\n",
    "\n",
    "print(f\"{mean=}\")\n",
    "print(f\"{median=}\")"
   ]
  },
  {
   "cell_type": "code",
   "execution_count": 5,
   "metadata": {
    "scrolled": true
   },
   "outputs": [
    {
     "name": "stdout",
     "output_type": "stream",
     "text": [
      "[1] 639.9\n",
      "[1] 579\n"
     ]
    }
   ],
   "source": [
    "%%R -i list_data\n",
    "\n",
    "# R solution\n",
    "list_data <- as.numeric(list_data)\n",
    "\n",
    "print(mean(list_data))\n",
    "print(median(list_data))"
   ]
  },
  {
   "cell_type": "markdown",
   "metadata": {},
   "source": [
    "### (b) Suppose the 6th observation had been 985 rather than 1,280. How would the mean and median change?"
   ]
  },
  {
   "cell_type": "code",
   "execution_count": 6,
   "metadata": {
    "scrolled": false
   },
   "outputs": [
    {
     "name": "stdout",
     "output_type": "stream",
     "text": [
      "(b) Suppose the 6th observation had been 985 rather than 1,280. How would the mean and median change?\n",
      "[348, 412, 541, 555, 572, 586, 610, 681, 814, 985]\n",
      "\n",
      "mean=610.4\n",
      "median=579.0\n"
     ]
    }
   ],
   "source": [
    "\"\"\"\n",
    "(b) Suppose the 6th observation had been 985 rather than 1,280. How would the mean and median change?\n",
    "\"\"\"\n",
    "print(\"(b) Suppose the 6th observation had been 985 rather than 1,280. How would the mean and median change?\")\n",
    "\n",
    "list_data_2 = [(i if i != 1280 else 985) for i in list_data]\n",
    "print(list_data_2)\n",
    "print()\n",
    "\n",
    "mean = np.mean(list_data_2)  # why use np.mean, because of c speed!\n",
    "median = np.median(list_data_2)\n",
    "print(f\"{mean=}\")\n",
    "print(f\"{median=}\")"
   ]
  },
  {
   "cell_type": "code",
   "execution_count": 7,
   "metadata": {
    "scrolled": false
   },
   "outputs": [
    {
     "name": "stdout",
     "output_type": "stream",
     "text": [
      "[1] 610.4\n",
      "[1] 579\n"
     ]
    }
   ],
   "source": [
    "%%R -i list_data_2\n",
    "\n",
    "# R solution\n",
    "list_data_2 <- as.numeric(list_data_2)\n",
    "\n",
    "print(mean(list_data_2))\n",
    "print(median(list_data_2))"
   ]
  },
  {
   "cell_type": "markdown",
   "metadata": {},
   "source": [
    "### (c) Calculate a 20% trimmed mean by first trimming the two smallest and two largest observations. (Round your answer to the nearest hundred dollars.)"
   ]
  },
  {
   "cell_type": "code",
   "execution_count": 8,
   "metadata": {
    "scrolled": true
   },
   "outputs": [
    {
     "name": "stdout",
     "output_type": "stream",
     "text": [
      "(c) Calculate a 20% trimmed mean by first trimming the two smallest and two largest observations. (Round your answer to the nearest hundred dollars.)\n",
      "[541, 555, 572, 586, 610, 681]\n",
      "590833\n"
     ]
    }
   ],
   "source": [
    "\"\"\"\n",
    "(c) Calculate a 20% trimmed mean by first trimming the two smallest and two largest observations. (Round your answer to the nearest hundred dollars.)\n",
    "\"\"\"\n",
    "print(\"(c) Calculate a 20% trimmed mean by first trimming the two smallest and two largest observations. (Round your answer to the nearest hundred dollars.)\")\n",
    "\n",
    "list_new = trim_list(list_data, .20)\n",
    "print(list_new)\n",
    "# Multiple by 1000 because it's not in 1,000s of $\n",
    "print(\"{:.0f}\".format(np.mean(list_new) * 1000))"
   ]
  },
  {
   "cell_type": "code",
   "execution_count": 9,
   "metadata": {
    "scrolled": false
   },
   "outputs": [
    {
     "name": "stdout",
     "output_type": "stream",
     "text": [
      "[1] NA\n",
      "[1] NA\n"
     ]
    }
   ],
   "source": [
    "%%R -i list_data\n",
    "\n",
    "# R solution\n",
    "list_data < - as.numeric(list_data)\n",
    "\n",
    "print(mean(list_data, trim=0.2))\n",
    "# Multiple by 1000 because it's not in 1,000s of $\n",
    "print(round(mean(list_data, trim=0.2) * 1000))"
   ]
  },
  {
   "cell_type": "markdown",
   "metadata": {},
   "source": [
    "### (d) Calculate a 15% trimmed mean. (Round your answer to the nearest hundred dollars.)\n"
   ]
  },
  {
   "cell_type": "code",
   "execution_count": 10,
   "metadata": {},
   "outputs": [
    {
     "name": "stdout",
     "output_type": "stream",
     "text": [
      "(d) Calculate a 15% trimmed mean. (Round your answer to the nearest hundred dollars.)\n",
      "[348, 412, 541, 555, 572, 586, 610, 681, 814, 1280]\n",
      "593604\n"
     ]
    }
   ],
   "source": [
    "\"\"\"\n",
    "(d) Calculate a 15% trimmed mean. (Round your answer to the nearest hundred dollars.)\n",
    "\"\"\"\n",
    "print(\"(d) Calculate a 15% trimmed mean. (Round your answer to the nearest hundred dollars.)\")\n",
    "\n",
    "trimmed_mean_via_interpolation = trimmed_mean_interpolation(list_data, .15)\n",
    "print(list_data)\n",
    "print(\"{:.0f}\".format(trimmed_mean_via_interpolation * 1000))  # Multiple by 1000 because it's not in 1, 000s of $"
   ]
  },
  {
   "cell_type": "code",
   "execution_count": 11,
   "metadata": {},
   "outputs": [
    {
     "name": "stdout",
     "output_type": "stream",
     "text": [
      "NULL\n"
     ]
    }
   ],
   "source": [
    "%%R\n",
    "# R SOLUTION NOT POSSIBLE UNLESS YOU CODE IT WHICH IS GOING TO BE DIFFICULT"
   ]
  },
  {
   "cell_type": "markdown",
   "metadata": {},
   "source": [
    "# 2. DEVORESTAT9 1.E.035.MI.S."
   ]
  },
  {
   "cell_type": "code",
   "execution_count": 12,
   "metadata": {},
   "outputs": [
    {
     "name": "stdout",
     "output_type": "stream",
     "text": [
      "[0.2, 0.21, 0.26, 0.3, 0.35, 0.41, 0.54, 0.57, 1.43, 1.7, 1.82, 2.2, 2.24, 3.06, 3.26]\n"
     ]
    }
   ],
   "source": [
    "import re\n",
    "string_data_2 = \"\"\"\n",
    "0.20\t0.21\t0.26\t0.30\t0.35\t0.41\t0.54\t0.57\n",
    "1.43\t1.70\t1.82\t2.20\t2.24\t3.06\t3.26\"\"\"\n",
    "\n",
    "list_data_2 = re.split(\"\\t|\\n\", string_data_2)\n",
    "list_data_2 = [i for i in list_data_2 if i != \"\"]\n",
    "list_data_2 = list(map(float, list_data_2))\n",
    "print(list_data_2)"
   ]
  },
  {
   "cell_type": "code",
   "execution_count": 13,
   "metadata": {},
   "outputs": [
    {
     "name": "stdout",
     "output_type": "stream",
     "text": [
      "(<Figure size 540x126 with 1 Axes>, <matplotlib.axes._axes.Axes object at 0x000001E077D571C0>)\n"
     ]
    },
    {
     "data": {
      "image/png": "[encoded data removed]",
      "text/plain": [
       "<Figure size 540x126 with 1 Axes>"
      ]
     },
     "metadata": {
      "needs_background": "light"
     },
     "output_type": "display_data"
    }
   ],
   "source": [
    "import stemgraphic\n",
    "\n",
    "# Positive Skew\n",
    "print(stemgraphic.stem_graphic(list_data_2, scale=1))"
   ]
  },
  {
   "cell_type": "markdown",
   "metadata": {},
   "source": [
    "### (a) Determine the values of the sample mean and sample median. Hint: xi = 18.55. (Round your answers to four decimal places.)\n"
   ]
  },
  {
   "cell_type": "code",
   "execution_count": 14,
   "metadata": {},
   "outputs": [
    {
     "name": "stdout",
     "output_type": "stream",
     "text": [
      "(a) Determine the values of the sample mean and sample median. Hint: xi = 18.55. (Round your answers to four decimal places.)\n",
      "mean: 1.2367\n",
      "median: 0.57\n"
     ]
    }
   ],
   "source": [
    "\"\"\"\n",
    "(a) Determine the values of the sample mean and sample median. Hint: xi = 18.55. (Round your answers to four decimal places.)\n",
    "\"\"\"\n",
    "print(\"(a) Determine the values of the sample mean and sample median. Hint: xi = 18.55. (Round your answers to four decimal places.)\")\n",
    "\n",
    "mean = np.mean(list_data_2)\n",
    "median = np.median(list_data_2)\n",
    "print(\"mean: {:.4f}\".format(mean))\n",
    "print(\"median: {}\".format(median))"
   ]
  },
  {
   "cell_type": "code",
   "execution_count": 15,
   "metadata": {},
   "outputs": [
    {
     "name": "stdout",
     "output_type": "stream",
     "text": [
      "[1] 1.236667\n",
      "[1] 0.57\n"
     ]
    }
   ],
   "source": [
    "%%R -i list_data_2\n",
    "\n",
    "# R Solution\n",
    "list_data_2 <- as.numeric(list_data_2)\n",
    "\n",
    "print(mean(list_data_2))\n",
    "print(median(list_data_2))"
   ]
  },
  {
   "cell_type": "markdown",
   "metadata": {},
   "source": [
    "### (b) Determine the value of the 10% trimmed mean. (Round your answer to four decimal places.)\n"
   ]
  },
  {
   "cell_type": "code",
   "execution_count": 16,
   "metadata": {},
   "outputs": [
    {
     "name": "stdout",
     "output_type": "stream",
     "text": [
      "(b) Determine the value of the 10% trimmed mean. (Round your answer to four decimal places.)\n",
      "Trimmed mean: 1.1177\n"
     ]
    }
   ],
   "source": [
    "\"\"\"\n",
    "(b) Determine the value of the 10% trimmed mean. (Round your answer to four decimal places.)\n",
    "\"\"\"\n",
    "print(\"(b) Determine the value of the 10% trimmed mean. (Round your answer to four decimal places.)\")\n",
    "\n",
    "trimmed_mean_via_interpolation_2 = trimmed_mean_interpolation(list_data_2, .10)\n",
    "print(\"Trimmed mean: {:.4f}\".format(trimmed_mean_via_interpolation_2))"
   ]
  },
  {
   "cell_type": "markdown",
   "metadata": {},
   "source": [
    "#### calculate_how_much_value_change_without_affected_median"
   ]
  },
  {
   "cell_type": "code",
   "execution_count": 17,
   "metadata": {},
   "outputs": [],
   "source": [
    "\"\"\"\n",
    "calculate_how_much_value_change_without_affected_median\n",
    "\"\"\"\n",
    "\n",
    "\n",
    "def calculate_how_much_value_change_without_affected_median(value_observed: float, list_given: list, add_amount: float):\n",
    "    list_given_copy = list_given.copy()\n",
    "    index = list_given.index(value_observed)\n",
    "    current_median = np.median(list_given)\n",
    "\n",
    "    while True:\n",
    "        list_given_copy[index] += add_amount\n",
    "\n",
    "        new_median = np.median(list_given_copy)\n",
    "        if current_median != new_median:\n",
    "            print(f\"Median Current: {current_median}\")\n",
    "            print(f\"Median New: {new_median}\")\n",
    "            return list_given_copy[index] - list_given[index]"
   ]
  },
  {
   "cell_type": "markdown",
   "metadata": {},
   "source": [
    "### (c) By how much could the observation 0.20 be increased without impacting the value of the sample median?"
   ]
  },
  {
   "cell_type": "code",
   "execution_count": 18,
   "metadata": {},
   "outputs": [
    {
     "name": "stdout",
     "output_type": "stream",
     "text": [
      "(c) By how much could the observation 0.20 be increased without impacting the value of the sample median?\n",
      "Median Current: 0.57\n",
      "Median New: 0.5700000000000003\n",
      "Increase: 0.3700000000000003\n"
     ]
    }
   ],
   "source": [
    "\"\"\"\n",
    "(c) By how much could the observation 0.20 be increased without impacting the value of the sample median?\n",
    "\"\"\"\n",
    "print(\"(c) By how much could the observation 0.20 be increased without impacting the value of the sample median?\")\n",
    "print(\"Increase:\", calculate_how_much_value_change_without_affected_median(.2, list_data_2, .01))"
   ]
  },
  {
   "cell_type": "markdown",
   "metadata": {},
   "source": [
    "# 3. DEVORESTAT9 1.E.039.S."
   ]
  },
  {
   "cell_type": "code",
   "execution_count": 19,
   "metadata": {},
   "outputs": [
    {
     "name": "stdout",
     "output_type": "stream",
     "text": [
      "[0.738, 0.852, 0.87, 0.909, 0.923, 0.938, 0.968, 1.009, 1.039, 1.052, 1.083, 1.119, 1.135, 1.162, 1.227, 1.357]\n"
     ]
    }
   ],
   "source": [
    "\"\"\"\n",
    "The propagation of fatigue cracks in various aircraft parts has been the subject of extensive study in recent years. The accompanying data consists of propagation lives (flight hours/104) to reach a given crack size in fastener holes intended for use in military aircraft.\n",
    "\"\"\"\n",
    "string_data_3 = \"\"\"\n",
    "0.738   \t0.852   \t0.870   \t0.909   \t0.923   \t0.938   \t0.968   \t1.009   \n",
    "1.039   \t1.052   \t1.083   \t1.119   \t1.135   \t1.162   \t1.227   \t1.357 \n",
    "\"\"\"\n",
    "list_data_3 = re.split(\"\\t|\\n\", string_data_3)\n",
    "list_data_3 = [i for i in list_data_3 if i != \"\"]\n",
    "list_data_3 = list(map(float, list_data_3))\n",
    "print(list_data_3)"
   ]
  },
  {
   "cell_type": "markdown",
   "metadata": {},
   "source": [
    "### (a) Compute and compare the values of the sample mean x and median x tilde. (Round your mean to four decimal places.)"
   ]
  },
  {
   "cell_type": "code",
   "execution_count": 20,
   "metadata": {},
   "outputs": [
    {
     "name": "stdout",
     "output_type": "stream",
     "text": [
      "(a) Compute and compare the values of the sample mean x and median x tilde. (Round your mean to four decimal places.)\n",
      "Mean: 1.0238\n",
      "Median: 1.0240\n"
     ]
    }
   ],
   "source": [
    "\"\"\"\n",
    "(a) Compute and compare the values of the sample mean x and median x tilde. (Round your mean to four decimal places.)\n",
    "\"\"\"\n",
    "print(\"(a) Compute and compare the values of the sample mean x and median x tilde. (Round your mean to four decimal places.)\")\n",
    "\n",
    "print(\"Mean: {:.4f}\".format(np.mean(list_data_3)))\n",
    "print(\"Median: {:.4f}\".format(np.median(list_data_3)))"
   ]
  },
  {
   "cell_type": "code",
   "execution_count": 21,
   "metadata": {},
   "outputs": [
    {
     "name": "stdout",
     "output_type": "stream",
     "text": [
      "[1] 1.023813\n",
      "[1] 1.024\n"
     ]
    }
   ],
   "source": [
    "%%R -i list_data_3\n",
    "\n",
    "# R Solution\n",
    "list_data_3 <- as.numeric(list_data_3)\n",
    "\n",
    "print(mean(list_data_3))\n",
    "print(median(list_data_3))"
   ]
  },
  {
   "cell_type": "markdown",
   "metadata": {},
   "source": [
    "### (b) By how much could the largest sample observation be decreased without affecting the value of the median? (Enter your answer to three decimal places.)\n"
   ]
  },
  {
   "cell_type": "code",
   "execution_count": 22,
   "metadata": {
    "scrolled": true
   },
   "outputs": [
    {
     "name": "stdout",
     "output_type": "stream",
     "text": [
      "(b) By how much could the largest sample observation be decreased without affecting the value of the median? (Enter your answer to three decimal places.)\n",
      "Median Current: 1.024\n",
      "Median New: 1.0239500000000175\n",
      "Increase: -0.318\n"
     ]
    }
   ],
   "source": [
    "\"\"\"\n",
    "(b) By how much could the largest sample observation be decreased without affecting the value of the median? (Enter your answer to three decimal places.)\n",
    "\"\"\"\n",
    "print(\"(b) By how much could the largest sample observation be decreased without affecting the value of the median? (Enter your answer to three decimal places.)\")\n",
    "print(\"Increase: {:.3f}\".format(\n",
    "    calculate_how_much_value_change_without_affected_median(1.357, list_data_3, -.0001)))"
   ]
  },
  {
   "cell_type": "markdown",
   "metadata": {},
   "source": [
    "# 4. DEVORESTAT9 1.E.047.S."
   ]
  },
  {
   "cell_type": "code",
   "execution_count": 23,
   "metadata": {},
   "outputs": [
    {
     "name": "stdout",
     "output_type": "stream",
     "text": [
      "[13.8, 13.9, 14.3, 14.6, 14.7, 14.8, 15.1, 16.0, 16.1, 16.2]\n"
     ]
    }
   ],
   "source": [
    "\"\"\"\n",
    "Zinfandel is a popular red wine varietal produced almost exclusively in California. It is rather controversial among wine connoisseurs because its alcohol content varies quite substantially from one producer to another. In May 2013, the author went to a certain website, randomly selected 10 zinfandels from among the 325 available, and obtained the following values of alcohol content (%).\n",
    "\"\"\"\n",
    "string_data_4 = \"\"\"\n",
    "\n",
    "14.8\t14.6\t16.1\t14.3\t16.0\n",
    "13.8\t16.2\t14.7\t13.9\t15.1\n",
    "\n",
    "\"\"\"\n",
    "list_data_4 = re.split(\"\\t|\\n\", string_data_4)\n",
    "list_data_4 = [i for i in list_data_4 if i != \"\"]\n",
    "list_data_4 = list(map(float, list_data_4))\n",
    "list_data_4.sort()\n",
    "print(list_data_4)"
   ]
  },
  {
   "cell_type": "markdown",
   "metadata": {},
   "source": [
    "### (a) Calculate and interpret several measures of center"
   ]
  },
  {
   "cell_type": "code",
   "execution_count": 24,
   "metadata": {},
   "outputs": [
    {
     "name": "stdout",
     "output_type": "stream",
     "text": [
      "(a) Calculate and interpret several measures of center\n",
      "Mean: 14.9500\n",
      "Median: 14.7500\n"
     ]
    }
   ],
   "source": [
    "\"\"\"\n",
    "(a) Calculate and interpret several measures of center\n",
    "\"\"\"\n",
    "print(\"(a) Calculate and interpret several measures of center\")\n",
    "print(\"Mean: {:.4f}\".format(np.mean(list_data_4)))\n",
    "print(\"Median: {:.4f}\".format(np.median(list_data_4)))\n",
    "\n"
   ]
  },
  {
   "cell_type": "code",
   "execution_count": 25,
   "metadata": {},
   "outputs": [
    {
     "name": "stdout",
     "output_type": "stream",
     "text": [
      "[1] 14.95\n",
      "[1] 14.75\n"
     ]
    }
   ],
   "source": [
    "%%R -i list_data_4\n",
    "\n",
    "# R Solution\n",
    "list_data_4 <- as.numeric(list_data_4)\n",
    "\n",
    "print(mean(list_data_4))\n",
    "print(median(list_data_4))"
   ]
  },
  {
   "cell_type": "markdown",
   "metadata": {},
   "source": [
    "### (b) Calculate the sample variance using the defining formula. (Round your answer to three decimal places.)"
   ]
  },
  {
   "cell_type": "code",
   "execution_count": 26,
   "metadata": {},
   "outputs": [
    {
     "name": "stdout",
     "output_type": "stream",
     "text": [
      "(b) Calculate the sample variance using the defining formula. (Round your answer to three decimal places.)\n",
      "Sample Variance: 0.785\n"
     ]
    }
   ],
   "source": [
    "\"\"\"\n",
    "(b) Calculate the sample variance using the defining formula. (Round your answer to three decimal places.)\n",
    "\"\"\"\n",
    "print(\"(b) Calculate the sample variance using the defining formula. (Round your answer to three decimal places.)\")\n",
    "print(\"Sample Variance: {:.3f}\".format(np.var(list_data_4, ddof=1)))  # ddof= 1 for sample variance"
   ]
  },
  {
   "cell_type": "code",
   "execution_count": 27,
   "metadata": {},
   "outputs": [
    {
     "name": "stdout",
     "output_type": "stream",
     "text": [
      "[1] 0.785\n"
     ]
    }
   ],
   "source": [
    "%%R -i list_data_4\n",
    "\n",
    "# R Solution\n",
    "list_data_4 <- as.numeric(list_data_4)\n",
    "\n",
    "print(var(list_data_4))"
   ]
  },
  {
   "cell_type": "markdown",
   "metadata": {},
   "source": [
    "### (c) Calculate the sample variance using the shortcut formula after subtracting 13 from each observation. (Round your answer to three decimal places.)"
   ]
  },
  {
   "cell_type": "code",
   "execution_count": 28,
   "metadata": {},
   "outputs": [
    {
     "name": "stdout",
     "output_type": "stream",
     "text": [
      "[0.8000000000000007, 0.9000000000000004, 1.3000000000000007, 1.5999999999999996, 1.6999999999999993, 1.8000000000000007, 2.0999999999999996, 3.0, 3.1000000000000014, 3.1999999999999993]\n",
      "Sample Variance: 0.785\n"
     ]
    }
   ],
   "source": [
    "\"\"\"\n",
    "(c) Calculate the sample variance using the shortcut formula after subtracting 13 from each observation. (Round your answer to three decimal places.)\n",
    "\"\"\"\n",
    "list_data_4_v2 = list(map(lambda x: x - 13 , list_data_4))\n",
    "print(list_data_4_v2)\n",
    "print(\"Sample Variance: {:.3f}\".format(np.var(list_data_4_v2, ddof=1)))  # ddof= 1 for sample variance"
   ]
  },
  {
   "cell_type": "code",
   "execution_count": 29,
   "metadata": {},
   "outputs": [
    {
     "name": "stdout",
     "output_type": "stream",
     "text": [
      "[1] 0.785\n"
     ]
    }
   ],
   "source": [
    "%%R -i list_data_4_v2\n",
    "\n",
    "# R Solution\n",
    "list_data_4_v2 <- as.numeric(list_data_4_v2)\n",
    "\n",
    "print(var(list_data_4_v2))"
   ]
  },
  {
   "cell_type": "markdown",
   "metadata": {},
   "source": [
    "# 5. DEVORESTAT9 1.E.051.S."
   ]
  },
  {
   "cell_type": "code",
   "execution_count": 30,
   "metadata": {},
   "outputs": [
    {
     "name": "stdout",
     "output_type": "stream",
     "text": [
      "[85, 87, 95, 99, 102, 105, 119, 129, 130, 131, 135, 145, 145, 151, 153, 160, 180, 195, 212]\n"
     ]
    }
   ],
   "source": [
    "\"\"\"\n",
    "An article reported the following data on oxidation-induction time (min) for various commercial oils:\n",
    "\"\"\"\n",
    "string_data_5 = \"\"\"\n",
    "\n",
    "85  \t102  \t130  \t160  \t180  \t195  \t131  \t145  \t212  \t105  \t145  \n",
    "151  \t153  \t135  \t87  \t99  \t95  \t119  \t129  \n",
    "\n",
    "\"\"\"\n",
    "list_data_5 = re.split(\"\\t|\\n\", string_data_5)\n",
    "list_data_5 = [i for i in list_data_5 if i != \"\"]\n",
    "list_data_5 = list(map(int, list_data_5))\n",
    "list_data_5.sort()\n",
    "print(list_data_5)"
   ]
  },
  {
   "cell_type": "markdown",
   "metadata": {},
   "source": [
    "### (a) Calculate the sample variance and standard deviation. (Round your answers to four decimal places.)"
   ]
  },
  {
   "cell_type": "code",
   "execution_count": 31,
   "metadata": {},
   "outputs": [
    {
     "name": "stdout",
     "output_type": "stream",
     "text": [
      "(a) Calculate the sample variance and standard deviation. (Round your answers to four decimal places.)\n"
     ]
    }
   ],
   "source": [
    "\"\"\"\n",
    "(a) Calculate the sample variance and standard deviation. (Round your answers to four decimal places.)\n",
    "\"\"\"\n",
    "print(\"(a) Calculate the sample variance and standard deviation. (Round your answers to four decimal places.)\")"
   ]
  },
  {
   "cell_type": "code",
   "execution_count": 32,
   "metadata": {},
   "outputs": [
    {
     "name": "stdout",
     "output_type": "stream",
     "text": [
      "Sample Variance: 1276.5789\n",
      "Standard Deviation: 35.7292\n",
      "Standard Deviation V2: 35.7292\n"
     ]
    }
   ],
   "source": [
    "sample_variance_list_data_5 = np.var(list_data_5, ddof=1)\n",
    "print(\"Sample Variance: {:.4f}\".format(sample_variance_list_data_5))  # ddof= 1 for sample variance\n",
    "print(\"Standard Deviation: {:.4f}\".format(np.std(list_data_5, ddof=1)))  # ddof= 1 for sample variance\n",
    "print(\"Standard Deviation V2: {:.4f}\".format(np.sqrt(sample_variance_list_data_5)))\n"
   ]
  },
  {
   "cell_type": "code",
   "execution_count": 33,
   "metadata": {},
   "outputs": [
    {
     "name": "stdout",
     "output_type": "stream",
     "text": [
      "[1] 1276.579\n",
      "[1] 35.72924\n"
     ]
    }
   ],
   "source": [
    "%%R -i list_data_5\n",
    "\n",
    "# R Solution\n",
    "list_data_5 <- as.numeric(list_data_5)\n",
    "\n",
    "print(var(list_data_5))\n",
    "print(sd(list_data_5))"
   ]
  },
  {
   "cell_type": "code",
   "execution_count": 34,
   "metadata": {},
   "outputs": [],
   "source": [
    "\"\"\"\n",
    "min_to_hour\n",
    "\"\"\"\n",
    "def min_to_hour(minutes):\n",
    "    \"\"\"Hour and Minutes\"\"\"\n",
    "    hour = minutes // 60\n",
    "    minutes_new = (minutes % 60) * .01\n",
    "    return hour + minutes_new\n",
    "\n",
    "def min_to_hour(minutes):\n",
    "    \"\"\"Hour and percentage of hour\"\"\"\n",
    "    hour = minutes / 60\n",
    "    return hour "
   ]
  },
  {
   "cell_type": "code",
   "execution_count": 35,
   "metadata": {},
   "outputs": [
    {
     "name": "stdout",
     "output_type": "stream",
     "text": [
      "[1.4166666666666667, 1.45, 1.5833333333333333, 1.65, 1.7, 1.75, 1.9833333333333334, 2.15, 2.1666666666666665, 2.183333333333333, 2.25, 2.4166666666666665, 2.4166666666666665, 2.5166666666666666, 2.55, 2.6666666666666665, 3.0, 3.25, 3.533333333333333]\n"
     ]
    }
   ],
   "source": [
    "list_data_5_v2 = list(map(min_to_hour, list_data_5))\n",
    "print(list_data_5_v2)"
   ]
  },
  {
   "cell_type": "code",
   "execution_count": 36,
   "metadata": {},
   "outputs": [
    {
     "name": "stdout",
     "output_type": "stream",
     "text": [
      "Sample Variance: 0.3546\n",
      "Standard Deviation: 0.5955\n",
      "Standard Deviation V2: 0.5955\n"
     ]
    }
   ],
   "source": [
    "sample_variance_list_data_5_v2 = np.var(list_data_5_v2, ddof=1)\n",
    "print(\"Sample Variance: {:.4f}\".format(sample_variance_list_data_5_v2))  # ddof= 1 for sample variance\n",
    "print(\"Standard Deviation: {:.4f}\".format(np.std(list_data_5_v2, ddof=1)))  # ddof= 1 for sample variance\n",
    "print(\"Standard Deviation V2: {:.4f}\".format(np.sqrt(sample_variance_list_data_5_v2)))"
   ]
  },
  {
   "cell_type": "code",
   "execution_count": 37,
   "metadata": {},
   "outputs": [
    {
     "name": "stdout",
     "output_type": "stream",
     "text": [
      "[1] 0.3546053\n",
      "[1] 0.5954874\n"
     ]
    }
   ],
   "source": [
    "%%R -i list_data_5_v2\n",
    "\n",
    "# R Solution\n",
    "list_data_5_v2 <- as.numeric(list_data_5_v2)\n",
    "\n",
    "print(var(list_data_5_v2))\n",
    "print(sd(list_data_5_v2))"
   ]
  },
  {
   "cell_type": "markdown",
   "metadata": {},
   "source": [
    "# 6. DEVORESTAT9 1.E.055."
   ]
  },
  {
   "cell_type": "code",
   "execution_count": 38,
   "metadata": {},
   "outputs": [
    {
     "name": "stdout",
     "output_type": "stream",
     "text": [
      "[325, 325, 334, 339, 356, 356, 359, 359, 363, 364, 364, 366, 369, 370, 373, 373, 374, 375, 383, 392, 393, 394, 397, 402, 403, 425]\n",
      "26\n"
     ]
    }
   ],
   "source": [
    "\"\"\"\n",
    "A sample of 26 offshore oil workers took part in a simulated escape exercise, resulting in the accompanying data on time (sec) to complete the escape. Here is a stem-and-leaf display of escape time data.\n",
    "\"\"\"\n",
    "import io\n",
    "\n",
    "string_data_6 = \"\"\"\n",
    "32\t55\n",
    "33\t49\n",
    "34\t\n",
    "35\t6699\n",
    "36\t34469\n",
    "37\t03345\n",
    "38\t3\n",
    "39\t2347\n",
    "40\t23\n",
    "41\t\n",
    "42\t5\n",
    "\"\"\"\n",
    "list_data_6 = []\n",
    "\n",
    "x = (io.StringIO(string_data_6))\n",
    "\n",
    "current_str = \" \"\n",
    "while current_str:\n",
    "    current_str = x.readline()\n",
    "    base = current_str.split(\"\\t\")[0]\n",
    "\n",
    "    sub_numbers = re.search(\"\\t[0-9]+\", current_str)\n",
    "\n",
    "    if sub_numbers is None:\n",
    "        continue\n",
    "\n",
    "    for i in sub_numbers.group(0):\n",
    "        if i == \"\\t\":\n",
    "            continue\n",
    "        list_data_6.append(int(base + i))\n",
    "\n",
    "list_data_6.sort()\n",
    "print(list_data_6)\n",
    "print(len(list_data_6))"
   ]
  },
  {
   "cell_type": "code",
   "execution_count": 39,
   "metadata": {},
   "outputs": [
    {
     "name": "stdout",
     "output_type": "stream",
     "text": [
      "(<Figure size 540x252 with 1 Axes>, <matplotlib.axes._axes.Axes object at 0x000001E04749C640>)\n"
     ]
    },
    {
     "data": {
      "image/png": "[encoded data removed]",
      "text/plain": [
       "<Figure size 540x252 with 1 Axes>"
      ]
     },
     "metadata": {
      "needs_background": "light"
     },
     "output_type": "display_data"
    }
   ],
   "source": [
    "print(stemgraphic.stem_graphic(list_data_6, scale=10, ))"
   ]
  },
  {
   "cell_type": "code",
   "execution_count": null,
   "metadata": {},
   "outputs": [],
   "source": []
  },
  {
   "cell_type": "code",
   "execution_count": 40,
   "metadata": {},
   "outputs": [],
   "source": [
    "\"\"\"\n",
    "find_forth_spread \n",
    "\"\"\"\n",
    "\n",
    "def find_forth_spread(list_given):\n",
    "    list_given.sort()\n",
    "\n",
    "    length_list = len(list_given)\n",
    "    split_size = int(length_list/2 if length_list % 2 == 0 else length_list//2 + 1.5)\n",
    "\n",
    "    lower_half = list_given[:split_size]\n",
    "    upper_half = list_given[-split_size:]\n",
    "\n",
    "    lower_forth = np.median(lower_half)\n",
    "    upper_forth = np.median(upper_half)\n",
    "\n",
    "    forth_spread = upper_forth - lower_forth\n",
    "    outlier_lower = lower_forth - 1.5*forth_spread\n",
    "    outlier_upper = upper_forth + 1.5*forth_spread\n",
    "\n",
    "    outlier_lower_ex = lower_forth - 3 * forth_spread\n",
    "    outlier_upper_ex = upper_forth + 3 * forth_spread\n",
    "\n",
    "    return forth_spread, lower_forth, upper_forth, outlier_lower, outlier_upper, outlier_lower_ex, outlier_upper_ex\n",
    "\n",
    "\n",
    "def print_forth_spread(find_forth_spread_output):\n",
    "    print(\"Forth Spread: {}\".format(find_forth_spread_output[0]))\n",
    "    print(\"Lower Forth: {}\".format(find_forth_spread_output[1]))\n",
    "    print(\"Upper Forth: {}\".format(find_forth_spread_output[2]))\n",
    "    print(\"Outlier Lower: {}\".format(find_forth_spread_output[3]))\n",
    "    print(\"Outlier Upper: {}\".format(find_forth_spread_output[4]))\n",
    "    print(\"Outlier Lower Ex: {}\".format(find_forth_spread_output[5]))\n",
    "    print(\"Outlier Upper Ex: {}\".format(find_forth_spread_output[6]))"
   ]
  },
  {
   "cell_type": "markdown",
   "metadata": {},
   "source": [
    "### (a) Determine the value of the fourth spread."
   ]
  },
  {
   "cell_type": "code",
   "execution_count": 41,
   "metadata": {},
   "outputs": [
    {
     "name": "stdout",
     "output_type": "stream",
     "text": [
      "(a) Determine the value of the fourth spread.\n",
      "Forth Spread: 33.0\n",
      "Lower Forth: 359.0\n",
      "Upper Forth: 392.0\n",
      "Outlier Lower: 309.5\n",
      "Outlier Upper: 441.5\n",
      "Outlier Lower Ex: 260.0\n",
      "Outlier Upper Ex: 491.0\n"
     ]
    }
   ],
   "source": [
    "\"\"\"\n",
    "(a) Determine the value of the fourth spread.\n",
    "\"\"\"\n",
    "print(\"(a) Determine the value of the fourth spread.\")\n",
    "print_forth_spread(find_forth_spread(list_data_6))"
   ]
  },
  {
   "cell_type": "markdown",
   "metadata": {},
   "source": [
    "### (b) Are there any outliers in the sample? Any extreme outliers?\n",
    "### (c) Construct a boxplot."
   ]
  },
  {
   "cell_type": "code",
   "execution_count": 42,
   "metadata": {},
   "outputs": [
    {
     "name": "stdout",
     "output_type": "stream",
     "text": [
      "\n",
      "(b) Are there any outliers in the sample? Any extreme outliers?\n",
      "(c) Construct a boxplot.\n",
      "Comment on its features.\n",
      "\n"
     ]
    },
    {
     "data": {
      "text/plain": [
       "{'whiskers': [<matplotlib.lines.Line2D at 0x1e079fad430>,\n",
       "  <matplotlib.lines.Line2D at 0x1e079fad790>],\n",
       " 'caps': [<matplotlib.lines.Line2D at 0x1e079fadaf0>,\n",
       "  <matplotlib.lines.Line2D at 0x1e079fade50>],\n",
       " 'boxes': [<matplotlib.lines.Line2D at 0x1e079fad0d0>],\n",
       " 'medians': [<matplotlib.lines.Line2D at 0x1e079fb71f0>],\n",
       " 'fliers': [<matplotlib.lines.Line2D at 0x1e079fb7550>],\n",
       " 'means': []}"
      ]
     },
     "execution_count": 42,
     "metadata": {},
     "output_type": "execute_result"
    },
    {
     "data": {
      "image/png": "[encoded data removed]",
      "text/plain": [
       "<Figure size 576x576 with 1 Axes>"
      ]
     },
     "metadata": {
      "needs_background": "light"
     },
     "output_type": "display_data"
    }
   ],
   "source": [
    "text=\"\"\"\n",
    "(b) Are there any outliers in the sample? Any extreme outliers?\n",
    "(c) Construct a boxplot.\n",
    "Comment on its features.\n",
    "\"\"\"\n",
    "print(text)\n",
    "\n",
    "import matplotlib.pyplot as plt\n",
    "fig, ax = plt.subplots()\n",
    "fig.set_size_inches(8, 8)\n",
    "ax.boxplot(list_data_6, vert=False)  # Notice no outliers"
   ]
  },
  {
   "cell_type": "code",
   "execution_count": 43,
   "metadata": {},
   "outputs": [
    {
     "data": {
      "image/png": "[encoded data removed]"
     },
     "metadata": {},
     "output_type": "display_data"
    }
   ],
   "source": [
    "%%R -i list_data_6\n",
    "\n",
    "# R Solution\n",
    "list_data_6 <- as.numeric(list_data_6)\n",
    "\n",
    "boxplot(list_data_6, horizontal=TRUE)"
   ]
  },
  {
   "cell_type": "code",
   "execution_count": 44,
   "metadata": {},
   "outputs": [],
   "source": [
    "def calculate_how_much_value_be_changed_till_fourth_spread_change(value_to_change, list_given, value_add):\n",
    "    list_given_copy = list_given.copy()\n",
    "\n",
    "    current_forth_spread = find_forth_spread(list_given)\n",
    "    index = list_given.index(value_to_change)\n",
    "\n",
    "    new_forth_spread = current_forth_spread\n",
    "    while current_forth_spread == new_forth_spread:\n",
    "        list_given_copy[index] += value_add\n",
    "        new_forth_spread = find_forth_spread(list_given_copy)\n",
    "\n",
    "    return list_given[index] - list_given_copy[index]"
   ]
  },
  {
   "cell_type": "markdown",
   "metadata": {},
   "source": [
    "### (d) By how much could the largest observation, currently 425, be decreased without affecting the value of the fourth spread?"
   ]
  },
  {
   "cell_type": "code",
   "execution_count": 45,
   "metadata": {},
   "outputs": [
    {
     "data": {
      "text/plain": [
       "33"
      ]
     },
     "execution_count": 45,
     "metadata": {},
     "output_type": "execute_result"
    }
   ],
   "source": [
    "\"\"\"\n",
    "(d) By how much could the largest observation, currently 425, be decreased without affecting the value of the fourth spread?\n",
    "\"\"\"\n",
    "\n",
    "calculate_how_much_value_be_changed_till_fourth_spread_change(\n",
    "    425, list_data_6, value_add=-1)"
   ]
  },
  {
   "cell_type": "code",
   "execution_count": 46,
   "metadata": {},
   "outputs": [
    {
     "data": {
      "image/png": "[encoded data removed]"
     },
     "metadata": {},
     "output_type": "display_data"
    }
   ],
   "source": [
    "%%R -i list_data_6\n",
    "\n",
    "# R Solution\n",
    "list_data_6 <- as.numeric(list_data_6)\n",
    "\n",
    "boxplot(list_data_6, horizontal=TRUE)"
   ]
  },
  {
   "cell_type": "markdown",
   "metadata": {},
   "source": [
    "# 7. DEVORESTAT9 1.E.508.XP."
   ]
  },
  {
   "cell_type": "code",
   "execution_count": 47,
   "metadata": {},
   "outputs": [
    {
     "name": "stdout",
     "output_type": "stream",
     "text": [
      "[4.4, 16.4, 22.0, 30.0, 33.1, 36.6, 40.4, 66.7, 73.4, 81.5, 108.6]\n"
     ]
    }
   ],
   "source": [
    "string_data_7 = \"\"\"\n",
    "\n",
    "\n",
    "  22.0  \t  40.4  \t  16.4  \t  73.4  \t  36.6  \t  108.6  \n",
    "  30.0  \t  4.4  \t  33.1  \t  66.7  \t  81.5  \n",
    "\n",
    "\n",
    "\"\"\"\n",
    "list_data_7 = re.split(\"\\t|\\n\", string_data_7)\n",
    "list_data_7 = [i for i in list_data_7 if i != \"\"]\n",
    "list_data_7 = list(map(float, list_data_7))\n",
    "list_data_7.sort()\n",
    "print(list_data_7)"
   ]
  },
  {
   "cell_type": "markdown",
   "metadata": {},
   "source": [
    "### (a) What are the values of the fourths? (Enter your answers to two decimal places.)\n",
    "### (c) How large or small does an observation have to be to qualify as an outlier? (Round your answers to one decimal place.)"
   ]
  },
  {
   "cell_type": "code",
   "execution_count": 48,
   "metadata": {},
   "outputs": [
    {
     "name": "stdout",
     "output_type": "stream",
     "text": [
      "\n",
      "(a) What are the values of the fourths? (Enter your answers to two decimal places.)\n",
      "(c) How large or small does an observation have to be to qualify as an outlier? (Round your answers to one decimal place.)\n",
      "\n",
      "Forth Spread: 44.05000000000001\n",
      "Lower Forth: 26.0\n",
      "Upper Forth: 70.05000000000001\n",
      "Outlier Lower: -40.07500000000002\n",
      "Outlier Upper: 136.12500000000003\n",
      "Outlier Lower Ex: -106.15000000000003\n",
      "Outlier Upper Ex: 202.20000000000005\n"
     ]
    }
   ],
   "source": [
    "text = \"\"\"\n",
    "(a) What are the values of the fourths? (Enter your answers to two decimal places.)\n",
    "(c) How large or small does an observation have to be to qualify as an outlier? (Round your answers to one decimal place.)\n",
    "\"\"\"\n",
    "print(text)\n",
    "print_forth_spread(find_forth_spread(list_data_7))"
   ]
  },
  {
   "cell_type": "markdown",
   "metadata": {},
   "source": [
    "### (b) Construct a boxplot based on the five-number summary."
   ]
  },
  {
   "cell_type": "code",
   "execution_count": 49,
   "metadata": {},
   "outputs": [
    {
     "data": {
      "text/plain": [
       "{'whiskers': [<matplotlib.lines.Line2D at 0x1e07a169d90>,\n",
       "  <matplotlib.lines.Line2D at 0x1e079fda130>],\n",
       " 'caps': [<matplotlib.lines.Line2D at 0x1e079fda490>,\n",
       "  <matplotlib.lines.Line2D at 0x1e079fda7f0>],\n",
       " 'boxes': [<matplotlib.lines.Line2D at 0x1e07a169a00>],\n",
       " 'medians': [<matplotlib.lines.Line2D at 0x1e079fdab50>],\n",
       " 'fliers': [<matplotlib.lines.Line2D at 0x1e079fdaeb0>],\n",
       " 'means': []}"
      ]
     },
     "execution_count": 49,
     "metadata": {},
     "output_type": "execute_result"
    },
    {
     "data": {
      "image/png": "[encoded data removed]",
      "text/plain": [
       "<Figure size 576x576 with 1 Axes>"
      ]
     },
     "metadata": {
      "needs_background": "light"
     },
     "output_type": "display_data"
    }
   ],
   "source": [
    "\"\"\"\n",
    "(b) Construct a boxplot based on the five-number summary.\n",
    "\"\"\"\n",
    "fig, ax = plt.subplots()\n",
    "fig.set_size_inches(8, 8)\n",
    "ax.boxplot(list_data_7, vert=False)"
   ]
  },
  {
   "cell_type": "markdown",
   "metadata": {},
   "source": [
    "### Comment on its features. (Select all that apply.)\n"
   ]
  },
  {
   "cell_type": "code",
   "execution_count": 50,
   "metadata": {},
   "outputs": [
    {
     "name": "stdout",
     "output_type": "stream",
     "text": [
      "Mean: 46.64545454545455\n",
      "Mean: 36.6\n",
      "Mean is ahead so skew positive\n"
     ]
    }
   ],
   "source": [
    "print(\"Mean: {}\".format(np.mean(list_data_7)))\n",
    "print(\"Mean: {}\".format(np.median(list_data_7)))\n",
    "print(\"Mean is ahead so skew positive\")"
   ]
  },
  {
   "cell_type": "markdown",
   "metadata": {},
   "source": [
    "### (d) By how much could the largest observation be decreased without affecting fs?"
   ]
  },
  {
   "cell_type": "code",
   "execution_count": 51,
   "metadata": {},
   "outputs": [
    {
     "name": "stdout",
     "output_type": "stream",
     "text": [
      "(d) By how much could the largest observation be decreased without affecting fs?\n",
      "35.199999999999534\n"
     ]
    }
   ],
   "source": [
    "\"\"\"\n",
    "(d) By how much could the largest observation be decreased without affecting fs?\n",
    "\n",
    "\"\"\"\n",
    "print(\"(d) By how much could the largest observation be decreased without affecting fs?\")\n",
    "how_much = calculate_how_much_value_be_changed_till_fourth_spread_change(\n",
    "    108.6, \n",
    "    list_data_7, \n",
    "    -.1)\n",
    "\n",
    "print(how_much)\n",
    "\n"
   ]
  }
 ],
 "metadata": {
  "kernelspec": {
   "display_name": "Python 3.8.4 64-bit",
   "language": "python",
   "name": "python3"
  },
  "language_info": {
   "codemirror_mode": {
    "name": "ipython",
    "version": 3
   },
   "file_extension": ".py",
   "mimetype": "text/x-python",
   "name": "python",
   "nbconvert_exporter": "python",
   "pygments_lexer": "ipython3",
   "version": "3.8.4"
  }
 },
 "nbformat": 4,
 "nbformat_minor": 4
}

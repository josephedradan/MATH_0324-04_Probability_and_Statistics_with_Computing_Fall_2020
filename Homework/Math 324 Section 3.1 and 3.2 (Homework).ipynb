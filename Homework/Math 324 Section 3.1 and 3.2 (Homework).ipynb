{
 "cells": [
  {
   "cell_type": "markdown",
   "metadata": {},
   "source": [
    "# 1.DEVORESTAT9 3.E.001.\n",
    "A concrete beam may fail either by shear (S) or flexure (F). Suppose that three failed beams are randomly selected and the type of failure is determined for each one. Let X = the number of beams among the three selected that failed by shear. List each outcome in the sample space along with the associated value of X.\n",
    "<img src=\"images/3_1_and_3_2_problem_1.png\" alt=\"3_1_and_3_2_problem_1.png\" style=\"float:left; width:800px;\">"
   ]
  },
  {
   "cell_type": "code",
   "execution_count": 1,
   "metadata": {
    "ExecuteTime": {
     "end_time": "2020-10-06T07:31:54.988940Z",
     "start_time": "2020-10-06T07:31:54.985094Z"
    }
   },
   "outputs": [],
   "source": [
    "import re\n",
    "p1_text = \"S:    \tFFF  \tSFF  \tFSF  \tFFS  \tFSS  \tSFS  \tSSF  \tSSS\"\n",
    "p1_list_text = p1_text.split('\\t')\n",
    "\n",
    "# regex search 3 leters\n",
    "p1_list_regex = [re.search(\"[a-zA-Z]{3}\", i)\n",
    "                 for i in p1_list_text]\n",
    "\n",
    "# [print(i) for i in p1_list_regex]\n",
    "p1_list_text = [i.group(0) for i in p1_list_regex if i != None]\n",
    "\n",
    "print(p1_list_text)"
   ]
  },
  {
   "cell_type": "code",
   "execution_count": 2,
   "metadata": {
    "ExecuteTime": {
     "end_time": "2020-10-06T07:31:55.311232Z",
     "start_time": "2020-10-06T07:31:54.989940Z"
    }
   },
   "outputs": [
    {
     "data": {
      "text/html": [
       "<div>\n",
       "<style scoped>\n",
       "    .dataframe tbody tr th:only-of-type {\n",
       "        vertical-align: middle;\n",
       "    }\n",
       "\n",
       "    .dataframe tbody tr th {\n",
       "        vertical-align: top;\n",
       "    }\n",
       "\n",
       "    .dataframe thead th {\n",
       "        text-align: right;\n",
       "    }\n",
       "</style>\n",
       "<table border=\"1\" class=\"dataframe\">\n",
       "  <thead>\n",
       "    <tr style=\"text-align: right;\">\n",
       "      <th></th>\n",
       "      <th>String</th>\n",
       "      <th>\"S\" Count</th>\n",
       "    </tr>\n",
       "  </thead>\n",
       "  <tbody>\n",
       "    <tr>\n",
       "      <th>0</th>\n",
       "      <td>FFF</td>\n",
       "      <td>0</td>\n",
       "    </tr>\n",
       "    <tr>\n",
       "      <th>1</th>\n",
       "      <td>SFF</td>\n",
       "      <td>1</td>\n",
       "    </tr>\n",
       "    <tr>\n",
       "      <th>2</th>\n",
       "      <td>FSF</td>\n",
       "      <td>1</td>\n",
       "    </tr>\n",
       "    <tr>\n",
       "      <th>3</th>\n",
       "      <td>FFS</td>\n",
       "      <td>1</td>\n",
       "    </tr>\n",
       "    <tr>\n",
       "      <th>4</th>\n",
       "      <td>FSS</td>\n",
       "      <td>2</td>\n",
       "    </tr>\n",
       "    <tr>\n",
       "      <th>5</th>\n",
       "      <td>SFS</td>\n",
       "      <td>2</td>\n",
       "    </tr>\n",
       "    <tr>\n",
       "      <th>6</th>\n",
       "      <td>SSF</td>\n",
       "      <td>2</td>\n",
       "    </tr>\n",
       "    <tr>\n",
       "      <th>7</th>\n",
       "      <td>SSS</td>\n",
       "      <td>3</td>\n",
       "    </tr>\n",
       "  </tbody>\n",
       "</table>\n",
       "</div>"
      ],
      "text/plain": [
       "  String  \"S\" Count\n",
       "0    FFF          0\n",
       "1    SFF          1\n",
       "2    FSF          1\n",
       "3    FFS          1\n",
       "4    FSS          2\n",
       "5    SFS          2\n",
       "6    SSF          2\n",
       "7    SSS          3"
      ]
     },
     "execution_count": 2,
     "metadata": {},
     "output_type": "execute_result"
    }
   ],
   "source": [
    "import pandas as pd\n",
    "import numpy as np\n",
    "from functools import reduce\n",
    "\n",
    "# Naive speed\n",
    "p1_solution = {key: len([i for i in key if i == 'S'])\n",
    "               for key in p1_list_text}\n",
    "\n",
    "p1_df_solution = pd.DataFrame(p1_solution.items())\n",
    "p1_df_solution.columns = [\"String\", \"\\\"S\\\" Count\"]\n",
    "\n",
    "p1_df_solution"
   ]
  },
  {
   "cell_type": "markdown",
   "metadata": {},
   "source": [
    "# 2. DEVORESTAT9 3.E.004.\n",
    "<p>Let X = the number of nonzero digits in a randomly selected 4-digit PIN that has no restriction on the digits. What are the possible values of X?</p>\n",
    "\n",
    "<img src=\"images/3_1_and_3_2_problem_2_1_solution.png\" alt=\"3_1_and_3_2_problem_2_1_solution.png\" style=\"float:left;\">"
   ]
  },
  {
   "cell_type": "code",
   "execution_count": 3,
   "metadata": {
    "ExecuteTime": {
     "end_time": "2020-10-06T07:31:55.314235Z",
     "start_time": "2020-10-06T07:31:55.312233Z"
    }
   },
   "outputs": [],
   "source": [
    "\"\"\"\n",
    "Nonzero digits = 1 to 9\n",
    "Number of non digits for 4 slots is 0 to 4\n",
    "\n",
    "If it was digits it would be 0 to 9\n",
    "Number of non digits for 4 slots is 1 to 4\n",
    "\n",
    "\"\"\"\n",
    "print(end=\"\")"
   ]
  },
  {
   "cell_type": "markdown",
   "metadata": {},
   "source": [
    "#### For the following possible outcomes, give their associated X values.\n",
    "\n",
    "<img src=\"images/3_1_and_3_2_problem_2_2_solution.png\" alt=\"3_1_and_3_2_problem_2_2_solution.png\" style=\"float:left;\">"
   ]
  },
  {
   "cell_type": "code",
   "execution_count": 4,
   "metadata": {
    "ExecuteTime": {
     "end_time": "2020-10-06T07:31:55.326245Z",
     "start_time": "2020-10-06T07:31:55.315235Z"
    }
   },
   "outputs": [
    {
     "data": {
      "text/html": [
       "<div>\n",
       "<style scoped>\n",
       "    .dataframe tbody tr th:only-of-type {\n",
       "        vertical-align: middle;\n",
       "    }\n",
       "\n",
       "    .dataframe tbody tr th {\n",
       "        vertical-align: top;\n",
       "    }\n",
       "\n",
       "    .dataframe thead th {\n",
       "        text-align: right;\n",
       "    }\n",
       "</style>\n",
       "<table border=\"1\" class=\"dataframe\">\n",
       "  <thead>\n",
       "    <tr style=\"text-align: right;\">\n",
       "      <th></th>\n",
       "      <th>String</th>\n",
       "      <th>Nonzero Digits Count</th>\n",
       "    </tr>\n",
       "  </thead>\n",
       "  <tbody>\n",
       "    <tr>\n",
       "      <th>0</th>\n",
       "      <td>1020</td>\n",
       "      <td>2</td>\n",
       "    </tr>\n",
       "    <tr>\n",
       "      <th>1</th>\n",
       "      <td>2505</td>\n",
       "      <td>3</td>\n",
       "    </tr>\n",
       "    <tr>\n",
       "      <th>2</th>\n",
       "      <td>7468</td>\n",
       "      <td>4</td>\n",
       "    </tr>\n",
       "  </tbody>\n",
       "</table>\n",
       "</div>"
      ],
      "text/plain": [
       "  String  Nonzero Digits Count\n",
       "0   1020                     2\n",
       "1   2505                     3\n",
       "2   7468                     4"
      ]
     },
     "execution_count": 4,
     "metadata": {},
     "output_type": "execute_result"
    }
   ],
   "source": [
    "p2_pins = \"\"\"\n",
    "1020    \t\n",
    "\n",
    "2505    \t\n",
    "\n",
    "7468    \t\"\"\"\n",
    "\n",
    "# Split text by tab then filter if not empty string then regex search for numbers only\n",
    "p2_list_pins = [re.search(\"\\d+\", i).group(0)\n",
    "                for i in p2_pins.split(\"\\t\") if i != \"\"]\n",
    "\n",
    "# p2_solution = {key: len([i for i in key if i !='0']) for key in p2_list_pins}\n",
    "p2_solution = {key: len(key.replace(\"0\", \"\")) for key in p2_list_pins}\n",
    "\n",
    "p2_pd_df_solution = pd.DataFrame(p2_solution.items())\n",
    "p2_pd_df_solution.columns = [\"String\", \"Nonzero Digits Count\"]\n",
    "\n",
    "p2_pd_df_solution"
   ]
  },
  {
   "cell_type": "markdown",
   "metadata": {},
   "source": [
    "# 3. DEVORESTAT9 3.E.006.\n",
    "Starting at a fixed time, each car entering an intersection is observed to see whether it turns left (L), right (R), or goes straight ahead (A). The experiment terminates as soon as a car is observed to turn left. Let X = the number of cars observed. What are possible X values?"
   ]
  },
  {
   "cell_type": "markdown",
   "metadata": {},
   "source": [
    "<img src=\"images/3_1_and_3_2_problem_3_1_solution.png\" alt=\"3_1_and_3_2_problem_3_1_solution.png\" style=\"float:left;\">"
   ]
  },
  {
   "cell_type": "markdown",
   "metadata": {
    "ExecuteTime": {
     "end_time": "2020-09-23T09:23:31.131561Z",
     "start_time": "2020-09-23T09:23:31.129560Z"
    }
   },
   "source": [
    "#### Given the outcomes below, find their associated X values.\n"
   ]
  },
  {
   "cell_type": "code",
   "execution_count": 5,
   "metadata": {
    "ExecuteTime": {
     "end_time": "2020-10-06T07:31:55.338255Z",
     "start_time": "2020-10-06T07:31:55.326245Z"
    }
   },
   "outputs": [
    {
     "data": {
      "text/html": [
       "<div>\n",
       "<style scoped>\n",
       "    .dataframe tbody tr th:only-of-type {\n",
       "        vertical-align: middle;\n",
       "    }\n",
       "\n",
       "    .dataframe tbody tr th {\n",
       "        vertical-align: top;\n",
       "    }\n",
       "\n",
       "    .dataframe thead th {\n",
       "        text-align: right;\n",
       "    }\n",
       "</style>\n",
       "<table border=\"1\" class=\"dataframe\">\n",
       "  <thead>\n",
       "    <tr style=\"text-align: right;\">\n",
       "      <th></th>\n",
       "      <th>String</th>\n",
       "      <th>Length</th>\n",
       "    </tr>\n",
       "  </thead>\n",
       "  <tbody>\n",
       "    <tr>\n",
       "      <th>0</th>\n",
       "      <td>RL</td>\n",
       "      <td>2</td>\n",
       "    </tr>\n",
       "    <tr>\n",
       "      <th>1</th>\n",
       "      <td>RRL</td>\n",
       "      <td>3</td>\n",
       "    </tr>\n",
       "    <tr>\n",
       "      <th>2</th>\n",
       "      <td>RRAL</td>\n",
       "      <td>4</td>\n",
       "    </tr>\n",
       "    <tr>\n",
       "      <th>3</th>\n",
       "      <td>AARL</td>\n",
       "      <td>4</td>\n",
       "    </tr>\n",
       "  </tbody>\n",
       "</table>\n",
       "</div>"
      ],
      "text/plain": [
       "  String  Length\n",
       "0     RL       2\n",
       "1    RRL       3\n",
       "2   RRAL       4\n",
       "3   AARL       4"
      ]
     },
     "execution_count": 5,
     "metadata": {},
     "output_type": "execute_result"
    }
   ],
   "source": [
    "p3_string = \"RL\tRRL\tRRAL\tRRL\tAARL\"\n",
    "p3_list_string = p3_string.split(\"\\t\")\n",
    "p3_list_string\n",
    "\n",
    "p3_solution = {key: len(key) for key in p3_list_string}\n",
    "\n",
    "p3_pd_df_solution = pd.DataFrame(p3_solution.items())\n",
    "p3_pd_df_solution.columns = [\"String\", \"Length\"]\n",
    "\n",
    "p3_pd_df_solution"
   ]
  },
  {
   "cell_type": "markdown",
   "metadata": {},
   "source": [
    "<img src=\"images/3_1_and_3_2_problem_3_2_solution.png\" alt=\"3_1_and_3_2_problem_3_2_solution.png\" style=\"float:left;\">"
   ]
  },
  {
   "cell_type": "markdown",
   "metadata": {},
   "source": [
    "# 4. DEVORESTAT9 3.E.007.\n",
    "For each random variable defined here, describe the set of possible values for the variable, and state whether the variable is discrete."
   ]
  },
  {
   "cell_type": "markdown",
   "metadata": {},
   "source": [
    "### (a) X = the number of unbroken eggs in a randomly chosen standard egg carton\n",
    "#### Describe the set of possible values for the variable.\n"
   ]
  },
  {
   "cell_type": "markdown",
   "metadata": {},
   "source": [
    "<img src=\"images/3_1_and_3_2_problem_4a_solution.png\" alt=\"3_1_and_3_2_problem_4a_solution.png\" style=\"float:left;\">"
   ]
  },
  {
   "cell_type": "markdown",
   "metadata": {},
   "source": [
    "#### State whether the variable is discrete."
   ]
  },
  {
   "cell_type": "markdown",
   "metadata": {},
   "source": [
    "<img src=\"images/3_1_and_3_2_problem_4_discrete_solution.png\" alt=\"3_1_and_3_2_problem_4_discrete_solution.png\" style=\"float:left;\">"
   ]
  },
  {
   "cell_type": "markdown",
   "metadata": {},
   "source": [
    "### (b) Y = the number of students on a class list for a particular course who are absent on the first day of classes, where n = the total number of students on the class list"
   ]
  },
  {
   "cell_type": "markdown",
   "metadata": {},
   "source": [
    "#### Describe the set of possible values for the variable."
   ]
  },
  {
   "cell_type": "markdown",
   "metadata": {},
   "source": [
    "<img src=\"images/3_1_and_3_2_problem_4b_solution.png\" alt=\"3_1_and_3_2_problem_4b_solution.png\" style=\"float:left;\">"
   ]
  },
  {
   "cell_type": "markdown",
   "metadata": {},
   "source": [
    "#### State whether the variable is discrete.\n"
   ]
  },
  {
   "cell_type": "markdown",
   "metadata": {},
   "source": [
    "<img src=\"images/3_1_and_3_2_problem_4_discrete_solution.png\" alt=\"3_1_and_3_2_problem_4_discrete_solution.png\" style=\"float:left;\">"
   ]
  },
  {
   "cell_type": "markdown",
   "metadata": {},
   "source": [
    "### (c) U = the number of times a duffer has to swing at a golf ball before hitting it"
   ]
  },
  {
   "cell_type": "markdown",
   "metadata": {},
   "source": [
    "#### Describe the set of possible values for the variable."
   ]
  },
  {
   "cell_type": "markdown",
   "metadata": {},
   "source": [
    "<img src=\"images/3_1_and_3_2_problem_4c_solution.png\" alt=\"3_1_and_3_2_problem_4c_solution.png\" style=\"float:left;\">"
   ]
  },
  {
   "cell_type": "markdown",
   "metadata": {},
   "source": [
    "#### State whether the variable is discrete.\n"
   ]
  },
  {
   "cell_type": "markdown",
   "metadata": {},
   "source": [
    "<img src=\"images/3_1_and_3_2_problem_4_discrete_solution.png\" alt=\"3_1_and_3_2_problem_4_discrete_solution.png\" style=\"float:left;\">"
   ]
  },
  {
   "cell_type": "markdown",
   "metadata": {},
   "source": [
    "### (d) X = the length of a randomly selected rattlesnake Describe the set of possible values for the variable."
   ]
  },
  {
   "cell_type": "markdown",
   "metadata": {},
   "source": [
    "#### Describe the set of possible values for the variable."
   ]
  },
  {
   "cell_type": "markdown",
   "metadata": {},
   "source": [
    "<img src=\"images/3_1_and_3_2_problem_4d_solution.png\" alt=\"3_1_and_3_2_problem_4d_solution.png\" style=\"float:left;\">"
   ]
  },
  {
   "cell_type": "markdown",
   "metadata": {},
   "source": [
    "#### State whether the variable is discrete.\n"
   ]
  },
  {
   "cell_type": "markdown",
   "metadata": {},
   "source": [
    "<img src=\"images/3_1_and_3_2_problem_4_not_discrete_solution.png\" alt=\"3_1_and_3_2_problem_4_not_discrete_solution.png\" style=\"float:left;\">"
   ]
  },
  {
   "cell_type": "markdown",
   "metadata": {},
   "source": [
    "### (e) Z = the sales tax percentage for a randomly selected amazon.com purchase, where n = the total number of possible sales tax percentages for online purchases Describe the set of possible values for the variable."
   ]
  },
  {
   "cell_type": "markdown",
   "metadata": {},
   "source": [
    "#### Describe the set of possible values for the variable."
   ]
  },
  {
   "cell_type": "markdown",
   "metadata": {},
   "source": [
    "<img src=\"images/3_1_and_3_2_problem_4e_solution.png\" alt=\"3_1_and_3_2_problem_4e_solution.png\" style=\"float:left;\">"
   ]
  },
  {
   "cell_type": "markdown",
   "metadata": {},
   "source": [
    "#### State whether the variable is discrete.\n"
   ]
  },
  {
   "cell_type": "markdown",
   "metadata": {},
   "source": [
    "<img src=\"images/3_1_and_3_2_problem_4_discrete_solution.png\" alt=\"3_1_and_3_2_problem_4_discrete_solution.png\" style=\"float:left;\">"
   ]
  },
  {
   "cell_type": "markdown",
   "metadata": {
    "ExecuteTime": {
     "end_time": "2020-09-23T09:46:24.385735Z",
     "start_time": "2020-09-23T09:46:24.383734Z"
    }
   },
   "source": [
    "### (f) Y = the pH of a randomly chosen soil sample Describe the set of possible values for the variable."
   ]
  },
  {
   "cell_type": "markdown",
   "metadata": {},
   "source": [
    "#### Describe the set of possible values for the variable."
   ]
  },
  {
   "cell_type": "markdown",
   "metadata": {},
   "source": [
    "<img src=\"images/3_1_and_3_2_problem_4f_solution.png\" alt=\"3_1_and_3_2_problem_4f_solution.png\" style=\"float:left;\">"
   ]
  },
  {
   "cell_type": "markdown",
   "metadata": {},
   "source": [
    "#### State whether the variable is discrete.\n"
   ]
  },
  {
   "cell_type": "markdown",
   "metadata": {},
   "source": [
    "<img src=\"images/3_1_and_3_2_problem_4_not_discrete_solution.png\" alt=\"3_1_and_3_2_problem_4_not_discrete_solution.png\" style=\"float:left;\">"
   ]
  },
  {
   "cell_type": "markdown",
   "metadata": {},
   "source": [
    "### (g) X = the tension (psi) at which a randomly selected tennis racket has been strung, where m = the minimum possible tension and M = the maximum possible tension Describe the set of possible values for the variable."
   ]
  },
  {
   "cell_type": "markdown",
   "metadata": {},
   "source": [
    "#### Describe the set of possible values for the variable."
   ]
  },
  {
   "cell_type": "markdown",
   "metadata": {},
   "source": [
    "<img src=\"images/3_1_and_3_2_problem_4g_solution.png\" alt=\"3_1_and_3_2_problem_4g_solution.png\" style=\"float:left;\">"
   ]
  },
  {
   "cell_type": "markdown",
   "metadata": {},
   "source": [
    "#### State whether the variable is discrete.\n"
   ]
  },
  {
   "cell_type": "markdown",
   "metadata": {},
   "source": [
    "<img src=\"images/3_1_and_3_2_problem_4_not_discrete_solution.png\" alt=\"3_1_and_3_2_problem_4_not_discrete_solution.png\" style=\"float:left;\">"
   ]
  },
  {
   "cell_type": "markdown",
   "metadata": {},
   "source": [
    "### (h) X = the total number of times three tennis players must spin their rackets to obtain something other than UUU or DDD (to determine which two play next) Describe the set of possible values for the variable."
   ]
  },
  {
   "cell_type": "markdown",
   "metadata": {},
   "source": [
    "#### Describe the set of possible values for the variable."
   ]
  },
  {
   "cell_type": "markdown",
   "metadata": {},
   "source": [
    "<img src=\"images/3_1_and_3_2_problem_4h_solution.png\" alt=\"3_1_and_3_2_problem_4h_solution.png\" style=\"float:left;\">"
   ]
  },
  {
   "cell_type": "markdown",
   "metadata": {},
   "source": [
    "#### State whether the variable is discrete.\n"
   ]
  },
  {
   "cell_type": "markdown",
   "metadata": {},
   "source": [
    "<img src=\"images/3_1_and_3_2_problem_4_discrete_solution.png\" alt=\"3_1_and_3_2_problem_4_discrete_solution.png\" style=\"float:left;\">"
   ]
  },
  {
   "cell_type": "markdown",
   "metadata": {},
   "source": [
    "# 5. DEVORESTAT9 3.E.012.\n",
    "Airlines sometimes overbook flights. Suppose that for a plane with 50 seats, 55 passengers have tickets. Define the random variable Y as the number of ticketed passengers who actually show up for the flight. The probability mass function of Y appears in the accompanying table.\n",
    "<img src=\"images/3_1_and_3_2_problem_5.png\" alt=\"3_1_and_3_2_problem_5.png\" style=\"float:left;\">"
   ]
  },
  {
   "cell_type": "code",
   "execution_count": 6,
   "metadata": {
    "ExecuteTime": {
     "end_time": "2020-10-06T07:31:55.350266Z",
     "start_time": "2020-10-06T07:31:55.339256Z"
    },
    "scrolled": false
   },
   "outputs": [
    {
     "name": "stdout",
     "output_type": "stream",
     "text": [
      "['', 'y\\t45\\t46\\t47\\t48\\t49\\t50\\t51\\t52\\t53\\t54\\t55', 'p(y)    \\t  0.04  \\t  0.10  \\t  0.12  \\t  0.14  \\t  0.24  \\t  0.19  \\t  0.06  \\t  0.05  \\t  0.03  \\t  0.02  \\t  0.01 ']\n",
      "\n",
      "[['y', '45', '46', '47', '48', '49', '50', '51', '52', '53', '54', '55'], ['p(y)    ', '  0.04  ', '  0.10  ', '  0.12  ', '  0.14  ', '  0.24  ', '  0.19  ', '  0.06  ', '  0.05  ', '  0.03  ', '  0.02  ', '  0.01 ']]\n",
      "\n"
     ]
    },
    {
     "data": {
      "text/html": [
       "<div>\n",
       "<style scoped>\n",
       "    .dataframe tbody tr th:only-of-type {\n",
       "        vertical-align: middle;\n",
       "    }\n",
       "\n",
       "    .dataframe tbody tr th {\n",
       "        vertical-align: top;\n",
       "    }\n",
       "\n",
       "    .dataframe thead th {\n",
       "        text-align: right;\n",
       "    }\n",
       "</style>\n",
       "<table border=\"1\" class=\"dataframe\">\n",
       "  <thead>\n",
       "    <tr style=\"text-align: right;\">\n",
       "      <th></th>\n",
       "      <th>y</th>\n",
       "      <th>p(y)</th>\n",
       "    </tr>\n",
       "  </thead>\n",
       "  <tbody>\n",
       "    <tr>\n",
       "      <th>1</th>\n",
       "      <td>45</td>\n",
       "      <td>0.04</td>\n",
       "    </tr>\n",
       "    <tr>\n",
       "      <th>2</th>\n",
       "      <td>46</td>\n",
       "      <td>0.10</td>\n",
       "    </tr>\n",
       "    <tr>\n",
       "      <th>3</th>\n",
       "      <td>47</td>\n",
       "      <td>0.12</td>\n",
       "    </tr>\n",
       "    <tr>\n",
       "      <th>4</th>\n",
       "      <td>48</td>\n",
       "      <td>0.14</td>\n",
       "    </tr>\n",
       "    <tr>\n",
       "      <th>5</th>\n",
       "      <td>49</td>\n",
       "      <td>0.24</td>\n",
       "    </tr>\n",
       "    <tr>\n",
       "      <th>6</th>\n",
       "      <td>50</td>\n",
       "      <td>0.19</td>\n",
       "    </tr>\n",
       "    <tr>\n",
       "      <th>7</th>\n",
       "      <td>51</td>\n",
       "      <td>0.06</td>\n",
       "    </tr>\n",
       "    <tr>\n",
       "      <th>8</th>\n",
       "      <td>52</td>\n",
       "      <td>0.05</td>\n",
       "    </tr>\n",
       "    <tr>\n",
       "      <th>9</th>\n",
       "      <td>53</td>\n",
       "      <td>0.03</td>\n",
       "    </tr>\n",
       "    <tr>\n",
       "      <th>10</th>\n",
       "      <td>54</td>\n",
       "      <td>0.02</td>\n",
       "    </tr>\n",
       "    <tr>\n",
       "      <th>11</th>\n",
       "      <td>55</td>\n",
       "      <td>0.01</td>\n",
       "    </tr>\n",
       "  </tbody>\n",
       "</table>\n",
       "</div>"
      ],
      "text/plain": [
       "     y  p(y)\n",
       "1   45  0.04\n",
       "2   46  0.10\n",
       "3   47  0.12\n",
       "4   48  0.14\n",
       "5   49  0.24\n",
       "6   50  0.19\n",
       "7   51  0.06\n",
       "8   52  0.05\n",
       "9   53  0.03\n",
       "10  54  0.02\n",
       "11  55  0.01"
      ]
     },
     "execution_count": 6,
     "metadata": {},
     "output_type": "execute_result"
    }
   ],
   "source": [
    "\"\"\"\n",
    "Renaming the column names of pandas dataframe is not working as expected - python\n",
    "\n",
    "Reference:\n",
    "    https://stackoverflow.com/questions/47060980/renaming-the-column-names-of-pandas-dataframe-is-not-working-as-expected-pytho\n",
    "\"\"\"\n",
    "p5_string = \"\"\"\n",
    "y\t45\t46\t47\t48\t49\t50\t51\t52\t53\t54\t55\n",
    "p(y)    \t  0.04  \t  0.10  \t  0.12  \t  0.14  \t  0.24  \t  0.19  \t  0.06  \t  0.05  \t  0.03  \t  0.02  \t  0.01 \"\"\"\n",
    "\n",
    "p5_list_string = p5_string.split(\"\\n\")\n",
    "print(p5_list_string)\n",
    "print()\n",
    "\n",
    "p5_list_list_string = [i.split(\"\\t\") for i in p5_list_string if i != \"\"]\n",
    "print(p5_list_list_string)\n",
    "print()\n",
    "\n",
    "# Make np array\n",
    "p5_np_array = np.array(p5_list_list_string)\n",
    "# Rotate the table via transpose\n",
    "p5_np_array = np.transpose(p5_np_array)\n",
    "\n",
    "# Make pd DataFrame of np array\n",
    "p5_pd_df = pd.DataFrame(p5_np_array)  # Initial DF\n",
    "\n",
    "# Set Column names as 0th row and drop 0th row\n",
    "p5_pd_df.columns = p5_pd_df.iloc[0]  # 0th row is header names\n",
    "p5_pd_df = p5_pd_df.drop(p5_pd_df.index[0])  # Drop 0th row\n",
    "# print(p5_pd_df.columns.tolist())\n",
    "\n",
    "# Manuel renaming because of some spacing stuff... so the above is not really necessary other than the drop\n",
    "p5_pd_df.columns = [\"y\", \"p(y)\"]\n",
    "\n",
    "# Setting the column types because they were still strings\n",
    "p5_pd_df['y'] = p5_pd_df['y'].astype(int)\n",
    "p5_pd_df['p(y)'] = p5_pd_df['p(y)'].astype(float)\n",
    "\n",
    "# print(p5_pd_df.info(verbose=True))\n",
    "# print()\n",
    "p5_pd_df"
   ]
  },
  {
   "cell_type": "code",
   "execution_count": 7,
   "metadata": {
    "ExecuteTime": {
     "end_time": "2020-10-06T07:31:55.364278Z",
     "start_time": "2020-10-06T07:31:55.353268Z"
    }
   },
   "outputs": [
    {
     "data": {
      "text/plain": [
       "y       550.0\n",
       "p(y)      1.0\n",
       "dtype: float64"
      ]
     },
     "execution_count": 7,
     "metadata": {},
     "output_type": "execute_result"
    }
   ],
   "source": [
    "p5_pd_df.sum(axis=0)"
   ]
  },
  {
   "cell_type": "code",
   "execution_count": 8,
   "metadata": {
    "ExecuteTime": {
     "end_time": "2020-10-06T07:31:55.702853Z",
     "start_time": "2020-10-06T07:31:55.364278Z"
    }
   },
   "outputs": [
    {
     "name": "stdout",
     "output_type": "stream",
     "text": [
      "Probabiilty Mass Function\n"
     ]
    },
    {
     "data": {
      "text/plain": [
       "<StemContainer object of 3 artists>"
      ]
     },
     "execution_count": 8,
     "metadata": {},
     "output_type": "execute_result"
    },
    {
     "data": {
      "image/png": "[encoded data removed]",
      "text/plain": [
       "<Figure size 432x288 with 1 Axes>"
      ]
     },
     "metadata": {
      "needs_background": "light"
     },
     "output_type": "display_data"
    }
   ],
   "source": [
    "from matplotlib.pyplot import stem\n",
    "p5_np_array_V2 = p5_pd_df.to_numpy()\n",
    "p5_np_array_y = p5_np_array_V2[0:, 0]  # Everything from Column y\n",
    "p5_np_array_p_of_y = p5_np_array_V2[0:, 1]  # Everything from Column p(y)\n",
    "\n",
    "\"\"\"\n",
    "Plotting PMF neatly in python\n",
    "\n",
    "Refereence:\n",
    "    https://stackoverflow.com/questions/28484444/plotting-pmf-neatly-in-python\n",
    "\"\"\"\n",
    "\n",
    "print(\"Probabiilty Mass Function\")\n",
    "\n",
    "# stem(p5a_p_of_y, linefmt='b-', markerfmt='bo', basefmt='r-')  # Without the shfited x\n",
    "stem(p5_np_array_y, p5_np_array_p_of_y, linefmt='b-',\n",
    "     markerfmt='bo', basefmt='r-')  # With x"
   ]
  },
  {
   "cell_type": "markdown",
   "metadata": {},
   "source": [
    "### (a) What is the probability that the flight will accommodate all ticketed passengers who show up?\n"
   ]
  },
  {
   "cell_type": "code",
   "execution_count": 9,
   "metadata": {
    "ExecuteTime": {
     "end_time": "2020-10-06T07:31:55.706856Z",
     "start_time": "2020-10-06T07:31:55.702853Z"
    }
   },
   "outputs": [
    {
     "name": "stdout",
     "output_type": "stream",
     "text": [
      "[0.04 0.1  0.12 0.14 0.24 0.19]\n",
      "0.830\n"
     ]
    }
   ],
   "source": [
    "# 45 to 50\n",
    "p5a_array_accommodate_all_ticketed_passengers = p5_np_array_p_of_y[0:6]\n",
    "print(p5a_array_accommodate_all_ticketed_passengers)\n",
    "\n",
    "p5a_solution = np.sum(p5a_array_accommodate_all_ticketed_passengers)\n",
    "print(f\"{p5a_solution:.3f}\") "
   ]
  },
  {
   "cell_type": "markdown",
   "metadata": {},
   "source": [
    "### (b) What is the probability that not all ticketed passengers who show up can be accommodated?"
   ]
  },
  {
   "cell_type": "code",
   "execution_count": 10,
   "metadata": {
    "ExecuteTime": {
     "end_time": "2020-10-06T07:31:55.713861Z",
     "start_time": "2020-10-06T07:31:55.707857Z"
    }
   },
   "outputs": [
    {
     "name": "stdout",
     "output_type": "stream",
     "text": [
      "[0.06 0.05 0.03 0.02 0.01]\n",
      "0.170\n",
      "\n",
      "Alternative Solution:\n",
      "0.170\n"
     ]
    }
   ],
   "source": [
    "# 51 to 55\n",
    "p5b_array_not_accommodate_all_ticketed_passengers = p5_np_array_p_of_y[6:]\n",
    "print(p5b_array_not_accommodate_all_ticketed_passengers)\n",
    "\n",
    "p5b_solution = np.sum(p5b_array_not_accommodate_all_ticketed_passengers)\n",
    "print(f\"{p5b_solution:.3f}\")\n",
    "\n",
    "print()\n",
    "\n",
    "# 1 - p5b_solution\n",
    "print(\"Alternative Solution:\")\n",
    "p5b_solution_v2 = 1 - p5a_solution\n",
    "print(f\"{p5b_solution_v2:.3f}\")\n"
   ]
  },
  {
   "cell_type": "markdown",
   "metadata": {},
   "source": [
    "### (c) If you are the first person on the standby list (which means you will be the first one to get on the plane if there are any seats available after all ticketed passengers have been accommodated), what is the probability that you will be able to take the flight?"
   ]
  },
  {
   "cell_type": "code",
   "execution_count": 11,
   "metadata": {
    "ExecuteTime": {
     "end_time": "2020-10-06T07:31:55.722870Z",
     "start_time": "2020-10-06T07:31:55.713861Z"
    }
   },
   "outputs": [
    {
     "name": "stdout",
     "output_type": "stream",
     "text": [
      "[0.04 0.1  0.12 0.14 0.24]\n",
      "0.640\n"
     ]
    }
   ],
   "source": [
    "\"\"\"\n",
    "In order to get a flight, their needs to be an available seat which means 49 passangers. so sum of probabilities from 45 to 49\n",
    "\n",
    "\"\"\"\n",
    "# 45 to 49  \n",
    "p5c_array = p5_np_array_p_of_y[0:5]\n",
    "print(p5c_array)\n",
    "\n",
    "p5c_solution = np.sum(p5c_array)\n",
    "print(f\"{p5c_solution:.3f}\") "
   ]
  },
  {
   "cell_type": "markdown",
   "metadata": {},
   "source": [
    "#### What is this probability if you are the third person on the standby list?"
   ]
  },
  {
   "cell_type": "code",
   "execution_count": 12,
   "metadata": {
    "ExecuteTime": {
     "end_time": "2020-10-06T07:31:55.728875Z",
     "start_time": "2020-10-06T07:31:55.723871Z"
    }
   },
   "outputs": [
    {
     "name": "stdout",
     "output_type": "stream",
     "text": [
      "[0.04 0.1  0.12]\n",
      "0.260\n"
     ]
    }
   ],
   "source": [
    "# 45 to 47\n",
    "p5c_array = p5_np_array_p_of_y[0:3]\n",
    "print(p5c_array)\n",
    "\n",
    "p5c_solution = np.sum(p5c_array)\n",
    "print(f\"{p5c_solution:.3f}\") "
   ]
  },
  {
   "cell_type": "markdown",
   "metadata": {},
   "source": [
    "# 6. DEVORESTAT9 3.E.015.\n",
    "Many manufacturers have quality control programs that include inspection of incoming materials for defects. Suppose a computer manufacturer receives circuit boards in batches of five. Two boards are selected from each batch for inspection. We can represent possible outcomes of the selection process by pairs. For example, the pairs\n",
    "\n",
    "(1, 2)\n",
    "\n",
    "\n",
    " and \n",
    " \n",
    " \n",
    "(2, 1)\n",
    "\n",
    "\n",
    " represent the selection of boards 1 and 2 for inspection."
   ]
  },
  {
   "cell_type": "markdown",
   "metadata": {},
   "source": [
    "### (a) List the ten different possible outcomes. (Enter your answers as a comma-separated list of ordered pairs.)"
   ]
  },
  {
   "cell_type": "code",
   "execution_count": 13,
   "metadata": {
    "ExecuteTime": {
     "end_time": "2020-10-06T07:31:55.735881Z",
     "start_time": "2020-10-06T07:31:55.729876Z"
    }
   },
   "outputs": [
    {
     "name": "stdout",
     "output_type": "stream",
     "text": [
      "Length: 10\n",
      "\n",
      "(1, 2)\n",
      "(1, 3)\n",
      "(1, 4)\n",
      "(1, 5)\n",
      "(2, 3)\n",
      "(2, 4)\n",
      "(2, 5)\n",
      "(3, 4)\n",
      "(3, 5)\n",
      "(4, 5)\n",
      "\n",
      "(1, 2), (1, 3), (1, 4), (1, 5), (2, 3), (2, 4), (2, 5), (3, 4), (3, 5), (4, 5)\n"
     ]
    }
   ],
   "source": [
    "import itertools\n",
    "\n",
    "# Use itertools combinations using 1 to 5 then get a pair of 2\n",
    "p6a_list_combinations = list(itertools.combinations(list(range(1, 5+1)), 2))\n",
    "print(\"Length:\", len(p6a_list_combinations))\n",
    "print()\n",
    "\n",
    "for i in p6a_list_combinations:\n",
    "    print(i)\n",
    "print()\n",
    "\n",
    "p6a_solution = \", \".join(str(i) for i in p6a_list_combinations)\n",
    "print(p6a_solution)"
   ]
  },
  {
   "cell_type": "markdown",
   "metadata": {},
   "source": [
    "### (b) Suppose that boards 3 and 4 are the only defective boards in a batch. Two boards are to be chosen at random. Define X to be the number of defective boards observed among those inspected. Find the probability distribution of X."
   ]
  },
  {
   "cell_type": "code",
   "execution_count": 14,
   "metadata": {
    "ExecuteTime": {
     "end_time": "2020-10-06T07:31:55.741886Z",
     "start_time": "2020-10-06T07:31:55.735881Z"
    },
    "scrolled": true
   },
   "outputs": [
    {
     "name": "stdout",
     "output_type": "stream",
     "text": [
      "In terms of probability\n",
      "0: 0.3\n",
      "1: 0.6\n",
      "2: 0.1\n"
     ]
    }
   ],
   "source": [
    "p6b_dict = {}\n",
    "\n",
    "\n",
    "\"\"\"\n",
    "Loop and the Key of the dict represents the amount of boards that are board 3 or board 4\n",
    "Value is the portion of combinations that have none of the boards (0), board 3, board 4 (1), or both boards (2)\n",
    "\"\"\"\n",
    "# Naive and Dumb looking\n",
    "for i in p6a_list_combinations:\n",
    "    count = 0\n",
    "    for x in i:\n",
    "        if x == 3:\n",
    "            count += 1\n",
    "        if x == 4:\n",
    "            count += 1\n",
    "    if p6b_dict.get(count) is None:\n",
    "        p6b_dict[count] = 0\n",
    "    p6b_dict[count] += 1\n",
    "\n",
    "\n",
    "for key, value in p6b_dict.items():\n",
    "    p6b_dict[key] = value/len(p6a_list_combinations)\n",
    "\n",
    "print(\"In terms of probability\")\n",
    "for key, value in p6b_dict.items():\n",
    "    print(f\"{key}: {value}\")"
   ]
  },
  {
   "cell_type": "markdown",
   "metadata": {},
   "source": [
    "<img src=\"images/3_1_and_3_2_problem_6b_solution.png\" alt=\"3_1_and_3_2_problem_6b_solution.png\" style=\"float:left;\">"
   ]
  },
  {
   "cell_type": "code",
   "execution_count": 15,
   "metadata": {
    "ExecuteTime": {
     "end_time": "2020-10-06T07:31:55.850000Z",
     "start_time": "2020-10-06T07:31:55.742887Z"
    },
    "scrolled": true
   },
   "outputs": [
    {
     "data": {
      "text/plain": [
       "<StemContainer object of 3 artists>"
      ]
     },
     "execution_count": 15,
     "metadata": {},
     "output_type": "execute_result"
    },
    {
     "data": {
      "image/png": "[encoded data removed]",
      "text/plain": [
       "<Figure size 432x288 with 1 Axes>"
      ]
     },
     "metadata": {
      "needs_background": "light"
     },
     "output_type": "display_data"
    }
   ],
   "source": [
    "# Ghetto graphing\n",
    "p6b_list_values = [value for key, value in p6b_dict.items()]\n",
    "p6b_list_keys = [key for key, value in p6b_dict.items()]\n",
    "\n",
    "stem(p6b_list_values, linefmt='b-',\n",
    "     markerfmt='bo', basefmt='r-')  # Without the shfited x"
   ]
  },
  {
   "cell_type": "markdown",
   "metadata": {
    "ExecuteTime": {
     "end_time": "2020-09-24T05:32:10.522181Z",
     "start_time": "2020-09-24T05:32:10.520179Z"
    }
   },
   "source": [
    "### (c) Let F(x) denote the cdf of X. First determine F(0) = P(X ≤ 0), F(1), and F(2); then obtain F(x) for all other x.\n"
   ]
  },
  {
   "cell_type": "code",
   "execution_count": 16,
   "metadata": {
    "ExecuteTime": {
     "end_time": "2020-10-06T07:31:55.854003Z",
     "start_time": "2020-10-06T07:31:55.850000Z"
    }
   },
   "outputs": [
    {
     "name": "stdout",
     "output_type": "stream",
     "text": [
      "Standard way with custom CDF solver that I wrote\n",
      "[0.3, 0.8999999999999999, 0.9999999999999999]\n",
      "\n",
      "Numpy Cumulative Sum\n",
      "[0.3 0.9 1. ]\n"
     ]
    }
   ],
   "source": [
    "# Naive solving CDF\n",
    "def cdf_solver_naive(list_given):\n",
    "    list_solution = []\n",
    "\n",
    "    for i in range(len(list_given)):\n",
    "        if i == 0:\n",
    "            list_solution.append(list_given[0])\n",
    "            continue\n",
    "\n",
    "        list_solution.append(\n",
    "            list_solution[i-1] + list_given[i])\n",
    "\n",
    "    return list_solution\n",
    "\n",
    "\n",
    "p6c_list_values_cdf_v1 = cdf_solver_naive(p6b_list_values)\n",
    "\n",
    "print(\"Standard way with custom CDF solver that I wrote\")\n",
    "print(p6c_list_values_cdf_v1)\n",
    "print()\n",
    "\n",
    "print(\"Numpy Cumulative Sum\")\n",
    "p6c_list_values_cdf_v2 = np.cumsum(p6b_list_values)\n",
    "print(p6c_list_values_cdf_v2)"
   ]
  },
  {
   "cell_type": "code",
   "execution_count": 17,
   "metadata": {
    "ExecuteTime": {
     "end_time": "2020-10-06T07:31:55.957002Z",
     "start_time": "2020-10-06T07:31:55.855004Z"
    }
   },
   "outputs": [
    {
     "name": "stdout",
     "output_type": "stream",
     "text": [
      "Ghetto CDF Graph\n"
     ]
    },
    {
     "data": {
      "image/png": "[encoded data removed]",
      "text/plain": [
       "<Figure size 432x288 with 1 Axes>"
      ]
     },
     "metadata": {
      "needs_background": "light"
     },
     "output_type": "display_data"
    }
   ],
   "source": [
    "stem(p6c_list_values_cdf_v2, linefmt='b-',\n",
    "     markerfmt='bo', basefmt='r-')  # Without the shfited x\n",
    "\n",
    "print(\"Ghetto CDF Graph\")"
   ]
  },
  {
   "cell_type": "code",
   "execution_count": 18,
   "metadata": {
    "ExecuteTime": {
     "end_time": "2020-10-06T07:31:56.060080Z",
     "start_time": "2020-10-06T07:31:55.957002Z"
    }
   },
   "outputs": [
    {
     "name": "stdout",
     "output_type": "stream",
     "text": [
      "Ghetto CDF V2\n",
      "[0.3 0.9 1. ]\n"
     ]
    },
    {
     "data": {
      "image/png": "[encoded data removed]",
      "text/plain": [
       "<Figure size 432x288 with 1 Axes>"
      ]
     },
     "metadata": {
      "needs_background": "light"
     },
     "output_type": "display_data"
    }
   ],
   "source": [
    "\"\"\"\n",
    "Using histograms to plot a cumulative distribution\n",
    "\n",
    "Reference:\n",
    "    Pyplot tutorial\n",
    "        https://matplotlib.org/3.1.0/gallery/statistics/histogram_cumulative.html\n",
    "    \n",
    "    Creating multiple subplots using plt.subplot\n",
    "        https://matplotlib.org/3.1.0/gallery/subplots_axes_and_figures/subplots_demo.html\n",
    "\"\"\"\n",
    "\n",
    "from matplotlib import pyplot as plt\n",
    "p6c_fig, p6c_ax = plt.subplots()\n",
    "p6c_ax.plot(p6b_list_keys, p6c_list_values_cdf_v2)\n",
    "\n",
    "print(\"Ghetto CDF V2\")\n",
    "print(p6c_list_values_cdf_v2)"
   ]
  },
  {
   "cell_type": "markdown",
   "metadata": {},
   "source": [
    "<img src=\"images/3_1_and_3_2_problem_6c_solution.png\" alt=\"3_1_and_3_2_problem_6c_solution.png\" style=\"float:left;\">"
   ]
  },
  {
   "cell_type": "markdown",
   "metadata": {},
   "source": [
    "# 7. DEVORESTAT9 3.E.017.\n",
    "A new battery's voltage may be acceptable (A) or unacceptable (U). A certain flashlight requires two batteries, so batteries will be independently selected and tested until two acceptable ones have been found. Suppose that 92% of all batteries have acceptable voltages. Let Y denote the number of batteries that must be tested."
   ]
  },
  {
   "cell_type": "code",
   "execution_count": 19,
   "metadata": {
    "ExecuteTime": {
     "end_time": "2020-10-06T07:31:56.063082Z",
     "start_time": "2020-10-06T07:31:56.061080Z"
    }
   },
   "outputs": [],
   "source": [
    "p7_acceptable_charge = .92\n",
    "p7_unacceptable_charge = 1 - p7_acceptable_charge"
   ]
  },
  {
   "cell_type": "markdown",
   "metadata": {},
   "source": [
    "### (a) What is p(2), that is P(Y = 2)? (Round your answer to four decimal places.)"
   ]
  },
  {
   "cell_type": "code",
   "execution_count": 20,
   "metadata": {
    "ExecuteTime": {
     "end_time": "2020-10-06T07:31:56.071089Z",
     "start_time": "2020-10-06T07:31:56.065084Z"
    }
   },
   "outputs": [
    {
     "name": "stdout",
     "output_type": "stream",
     "text": [
      "0.8464\n"
     ]
    }
   ],
   "source": [
    "p7a_solution = p7_acceptable_charge * p7_acceptable_charge\n",
    "print(p7a_solution)"
   ]
  },
  {
   "cell_type": "markdown",
   "metadata": {},
   "source": [
    "### (b) What is p(3)? [Hint: There are two different outcomes that result in Y = 3.]. (Round your answer to three decimal places.)"
   ]
  },
  {
   "cell_type": "code",
   "execution_count": 21,
   "metadata": {
    "ExecuteTime": {
     "end_time": "2020-10-06T07:31:56.080097Z",
     "start_time": "2020-10-06T07:31:56.073090Z"
    }
   },
   "outputs": [
    {
     "name": "stdout",
     "output_type": "stream",
     "text": [
      "Solution V1 math way\n",
      "0.13542399999999993\n",
      "\n",
      "Solution V2\n",
      "[0.92, 0.07999999999999996, 0.92]\n",
      "[0.07999999999999996, 0.92, 0.92]\n",
      "\n",
      "0.06771199999999998\n",
      "0.06771199999999998\n",
      "\n",
      "0.13542399999999996\n",
      "\n"
     ]
    }
   ],
   "source": [
    "# 2 * ((.92)**2 * (.08)**1)\n",
    "p7b_solution_v1 = 2 * (p7_acceptable_charge *\n",
    "                       p7_acceptable_charge *\n",
    "                       p7_unacceptable_charge)\n",
    "\n",
    "p7b_list_permutations_first_half = [list(i) for i in itertools.permutations(\n",
    "    [p7_acceptable_charge, p7_unacceptable_charge])]\n",
    "\n",
    "print(\"Solution V1 math way\")\n",
    "print(f\"{p7b_solution_v1:3}\")\n",
    "print()\n",
    "\n",
    "###################\n",
    "print(\"Solution V2\")\n",
    "\n",
    "for i in p7b_list_permutations_first_half:\n",
    "    i.append(p7_acceptable_charge)\n",
    "    print(i)\n",
    "print()\n",
    "\n",
    "p7b_list_permutations_complete = p7b_list_permutations_first_half\n",
    "\n",
    "p7b_list_solution = []\n",
    "\n",
    "for i in p7b_list_permutations_complete:\n",
    "    p7b_list_solution.append(reduce(lambda x, y: x * y, i))\n",
    "\n",
    "for i in p7b_list_solution:\n",
    "    print(i)\n",
    "print()\n",
    "\n",
    "p7b_solution_v2 = reduce(lambda x, y: x + y, p7b_list_solution)\n",
    "\n",
    "print(f\"{p7b_solution_v2:3}\")\n",
    "print()"
   ]
  },
  {
   "cell_type": "markdown",
   "metadata": {},
   "source": [
    "### (c) To have Y = 5, what must be true of the fifth battery selected?"
   ]
  },
  {
   "cell_type": "markdown",
   "metadata": {},
   "source": [
    "<img src=\"images/3_1_and_3_2_problem_7c_solution.png\" alt=\"3_1_and_3_2_problem_7c_solution.png\" style=\"float:left;\">"
   ]
  },
  {
   "cell_type": "markdown",
   "metadata": {},
   "source": [
    "#### List the four outcomes for which Y = 5. (Enter your answer in set notation.)"
   ]
  },
  {
   "cell_type": "code",
   "execution_count": 22,
   "metadata": {
    "ExecuteTime": {
     "end_time": "2020-10-06T07:31:56.085100Z",
     "start_time": "2020-10-06T07:31:56.080097Z"
    },
    "scrolled": false
   },
   "outputs": [
    {
     "name": "stdout",
     "output_type": "stream",
     "text": [
      "4 Outcomes using md5 hash way\n",
      "['U', 'U', 'U', 'A', 'A']\n",
      "['U', 'U', 'A', 'U', 'A']\n",
      "['U', 'A', 'U', 'U', 'A']\n",
      "['A', 'U', 'U', 'U', 'A']\n",
      "\n",
      "Solution v1\n",
      "{UUUAA, UUAUA, UAUUA, AUUUA}\n"
     ]
    }
   ],
   "source": [
    "import hashlib\n",
    "p7c_list = [\"U\"] * 3 + [\"A\"]\n",
    "\n",
    "# Using md5 hash to solve the problem\n",
    "p7c_permutation = itertools.permutations(p7c_list)\n",
    "\n",
    "p7c_set_hash_permutation = set()\n",
    "p7c_list_solutions = []\n",
    "\n",
    "# md5 hash way (very dumb and solution could be more efficient looking, but who cares)\n",
    "for i in p7c_permutation:\n",
    "    string_temp = \"\".join(letter for letter in i)\n",
    "\n",
    "    string_temp = string_temp.encode(\"utf-8\")\n",
    "#     print(string_temp)\n",
    "\n",
    "    p7c_hash_temp = hashlib.md5(string_temp)\n",
    "    p7c_hash_temp_hexdigest = p7c_hash_temp.hexdigest()\n",
    "\n",
    "    if p7c_hash_temp_hexdigest not in p7c_set_hash_permutation:\n",
    "        p7c_set_hash_permutation.add(p7c_hash_temp_hexdigest)\n",
    "        p7c_list_solutions.append(list(i) + [\"A\"])\n",
    "#         print(i)\n",
    "#         print(hash_temp)\n",
    "\n",
    "print(\"4 Outcomes using md5 hash way\")\n",
    "for i in p7c_list_solutions:\n",
    "    print(i)\n",
    "print()\n",
    "\n",
    "p7c_solution = \"{\" + \", \".join([\"\".join(i) for i in p7c_list_solutions]) + \"}\"\n",
    "\n",
    "print(\"Solution v1\")\n",
    "print(p7c_solution)"
   ]
  },
  {
   "cell_type": "code",
   "execution_count": 23,
   "metadata": {
    "ExecuteTime": {
     "end_time": "2020-10-06T07:31:56.095110Z",
     "start_time": "2020-10-06T07:31:56.085100Z"
    }
   },
   "outputs": [
    {
     "name": "stdout",
     "output_type": "stream",
     "text": [
      "4 Outcomes using set() way\n",
      "UAUUA\n",
      "UUAUA\n",
      "AUUUA\n",
      "UUUAA\n",
      "\n",
      "Solution v2\n",
      "{UAUUA, UUAUA, AUUUA, UUUAA}\n"
     ]
    }
   ],
   "source": [
    "# Using set to solve the problem\n",
    "\n",
    "p7c_permutation = itertools.permutations(p7c_list)\n",
    "\n",
    "p7c_set_hash_permutation_v2 = set()\n",
    "\n",
    "# Using set(), less dumb\n",
    "for i in p7c_permutation:\n",
    "    string_temp = \"\".join(letter for letter in i)\n",
    "\n",
    "    if string_temp not in p7c_set_hash_permutation:\n",
    "        p7c_set_hash_permutation_v2.add(string_temp + \"A\")\n",
    "\n",
    "print(\"4 Outcomes using set() way\")\n",
    "for i in p7c_set_hash_permutation_v2:\n",
    "    print(i)\n",
    "print()\n",
    "\n",
    "p7c_solution_v2 = \"{\" + \", \".join(p7c_set_hash_permutation_v2) + \"}\"\n",
    "\n",
    "print(\"Solution v2\")\n",
    "print(p7c_solution_v2)"
   ]
  },
  {
   "cell_type": "markdown",
   "metadata": {},
   "source": [
    "#### Determine p(5). (Round your answer to five decimal places.)"
   ]
  },
  {
   "cell_type": "code",
   "execution_count": 24,
   "metadata": {
    "ExecuteTime": {
     "end_time": "2020-10-06T07:31:56.102115Z",
     "start_time": "2020-10-06T07:31:56.095110Z"
    }
   },
   "outputs": [
    {
     "name": "stdout",
     "output_type": "stream",
     "text": [
      "0.0017334\n"
     ]
    }
   ],
   "source": [
    "# 4 * ((.92)**2 * (.08)**3)\n",
    "\n",
    "p7c_2_acceptable_3_unacceptable = (\n",
    "    p7_acceptable_charge)**2 * (p7_unacceptable_charge)**3\n",
    "\n",
    "p7c_determine_p_5 = 4 * p7c_2_acceptable_3_unacceptable\n",
    "\n",
    "print(f\"{p7c_determine_p_5:.5}\")"
   ]
  },
  {
   "cell_type": "markdown",
   "metadata": {},
   "source": [
    "### (d) Use the pattern in your answers for parts (a)–(c) to obtain a general formula for p(y)."
   ]
  },
  {
   "cell_type": "markdown",
   "metadata": {},
   "source": [
    "<img src=\"images/3_1_and_3_2_problem_7d_solution.png\" alt=\"3_1_and_3_2_problem_7d_solution.png\" style=\"float:left;\">\n",
    "<p>\n",
    "Look at the pattern in the above image and then you can make a function out of them\n",
    "</p>"
   ]
  },
  {
   "cell_type": "markdown",
   "metadata": {},
   "source": [
    "# 8. DEVORESTAT9 3.E.022.\n",
    "A mail-order computer business has six telephone lines. Let X denote the number of lines in use at a specified time. Suppose the pmf of X is as given in the accompanying table.\n",
    "\n",
    "<img src=\"images/3_1_and_3_2_problem_8.png\" alt=\"3_1_and_3_2_problem_8.png\" style=\"float:left;\">"
   ]
  },
  {
   "cell_type": "code",
   "execution_count": 25,
   "metadata": {
    "ExecuteTime": {
     "end_time": "2020-10-06T07:31:56.115126Z",
     "start_time": "2020-10-06T07:31:56.103116Z"
    },
    "scrolled": true
   },
   "outputs": [
    {
     "name": "stdout",
     "output_type": "stream",
     "text": [
      "['', 'x\\t0\\t1\\t2\\t3\\t4\\t5\\t6', 'p(x)    \\t0.10\\t0.18\\t0.20\\t0.22\\t0.20\\t0.07\\t0.03', '']\n",
      "\n",
      "[['x', '0', '1', '2', '3', '4', '5', '6'], ['p(x)    ', '0.10', '0.18', '0.20', '0.22', '0.20', '0.07', '0.03']]\n",
      "\n"
     ]
    },
    {
     "data": {
      "text/html": [
       "<div>\n",
       "<style scoped>\n",
       "    .dataframe tbody tr th:only-of-type {\n",
       "        vertical-align: middle;\n",
       "    }\n",
       "\n",
       "    .dataframe tbody tr th {\n",
       "        vertical-align: top;\n",
       "    }\n",
       "\n",
       "    .dataframe thead th {\n",
       "        text-align: right;\n",
       "    }\n",
       "</style>\n",
       "<table border=\"1\" class=\"dataframe\">\n",
       "  <thead>\n",
       "    <tr style=\"text-align: right;\">\n",
       "      <th></th>\n",
       "      <th>x</th>\n",
       "      <th>F(x)</th>\n",
       "    </tr>\n",
       "  </thead>\n",
       "  <tbody>\n",
       "    <tr>\n",
       "      <th>1</th>\n",
       "      <td>0</td>\n",
       "      <td>0.10</td>\n",
       "    </tr>\n",
       "    <tr>\n",
       "      <th>2</th>\n",
       "      <td>1</td>\n",
       "      <td>0.18</td>\n",
       "    </tr>\n",
       "    <tr>\n",
       "      <th>3</th>\n",
       "      <td>2</td>\n",
       "      <td>0.20</td>\n",
       "    </tr>\n",
       "    <tr>\n",
       "      <th>4</th>\n",
       "      <td>3</td>\n",
       "      <td>0.22</td>\n",
       "    </tr>\n",
       "    <tr>\n",
       "      <th>5</th>\n",
       "      <td>4</td>\n",
       "      <td>0.20</td>\n",
       "    </tr>\n",
       "    <tr>\n",
       "      <th>6</th>\n",
       "      <td>5</td>\n",
       "      <td>0.07</td>\n",
       "    </tr>\n",
       "    <tr>\n",
       "      <th>7</th>\n",
       "      <td>6</td>\n",
       "      <td>0.03</td>\n",
       "    </tr>\n",
       "  </tbody>\n",
       "</table>\n",
       "</div>"
      ],
      "text/plain": [
       "   x  F(x)\n",
       "1  0  0.10\n",
       "2  1  0.18\n",
       "3  2  0.20\n",
       "4  3  0.22\n",
       "5  4  0.20\n",
       "6  5  0.07\n",
       "7  6  0.03"
      ]
     },
     "execution_count": 25,
     "metadata": {},
     "output_type": "execute_result"
    }
   ],
   "source": [
    "p8_string = \"\"\"\n",
    "x\t0\t1\t2\t3\t4\t5\t6\n",
    "p(x)    \t0.10\t0.18\t0.20\t0.22\t0.20\t0.07\t0.03\n",
    "\"\"\"\n",
    "\n",
    "p8_list_string = p8_string.split(\"\\n\")\n",
    "print(p8_list_string)\n",
    "print()\n",
    "\n",
    "p8_list_list_data = [i.split(\"\\t\") for i in p8_list_string if i != \"\"]\n",
    "print(p8_list_list_data)\n",
    "print()\n",
    "\n",
    "# Make np array\n",
    "p8_np_array = np.array(p8_list_list_data)\n",
    "# Rotate the table via transpose\n",
    "p8_np_array = np.transpose(p8_np_array)\n",
    "\n",
    "# Make pd DataFrame of np array\n",
    "p8_pd_df = pd.DataFrame(p8_np_array)  # Initial DF\n",
    "\n",
    "# Set Column names as 0th row and drop 0th row\n",
    "# p8_pd_df.columns = p8_pd_df.iloc[0]  # 0th row is header names\n",
    "p8_pd_df = p8_pd_df.drop(p8_pd_df.index[0])  # Drop 0th row\n",
    "# print(p5_pd_df.columns.tolist())\n",
    "\n",
    "# # Manuel renaming because of some spacing stuff... so the above is not really necessary other than the drop\n",
    "p8_pd_df.columns = [\"x\", \"F(x)\"]\n",
    "\n",
    "# # Setting the column types because they were still strings\n",
    "p8_pd_df['x'] = p8_pd_df['x'].astype(int)\n",
    "p8_pd_df['F(x)'] = p8_pd_df['F(x)'].astype(float)\n",
    "\n",
    "# print(p5_pd_df.info(verbose=True))\n",
    "# # print()\n",
    "p8_pd_df"
   ]
  },
  {
   "cell_type": "code",
   "execution_count": 26,
   "metadata": {
    "ExecuteTime": {
     "end_time": "2020-10-06T07:31:56.205203Z",
     "start_time": "2020-10-06T07:31:56.116127Z"
    }
   },
   "outputs": [
    {
     "name": "stdout",
     "output_type": "stream",
     "text": [
      "PMF of F(x)\n"
     ]
    },
    {
     "data": {
      "text/plain": [
       "<StemContainer object of 3 artists>"
      ]
     },
     "execution_count": 26,
     "metadata": {},
     "output_type": "execute_result"
    },
    {
     "data": {
      "image/png": "[encoded data removed]",
      "text/plain": [
       "<Figure size 432x288 with 1 Axes>"
      ]
     },
     "metadata": {
      "needs_background": "light"
     },
     "output_type": "display_data"
    }
   ],
   "source": [
    "p8_pd_df_f_of_x = list(p8_pd_df.iloc[:,1])\n",
    "\n",
    "print(\"PMF of F(x)\")\n",
    "stem(p8_pd_df_f_of_x, linefmt='b-', markerfmt='bo', basefmt='r-')  # Without the shfited x"
   ]
  },
  {
   "cell_type": "markdown",
   "metadata": {},
   "source": [
    "#### Calculate the cdf F(x)."
   ]
  },
  {
   "cell_type": "code",
   "execution_count": 27,
   "metadata": {
    "ExecuteTime": {
     "end_time": "2020-10-06T07:31:56.209207Z",
     "start_time": "2020-10-06T07:31:56.206204Z"
    }
   },
   "outputs": [
    {
     "name": "stdout",
     "output_type": "stream",
     "text": [
      "Solution v1 via naive CDF solver\n",
      "[0.1, 0.28, 0.48000000000000004, 0.7000000000000001, 0.9000000000000001, 0.9700000000000002, 1.0000000000000002]\n",
      "\n",
      "Solution v2 via numpy cumsum\n",
      "[0.1  0.28 0.48 0.7  0.9  0.97 1.  ]\n",
      "\n"
     ]
    }
   ],
   "source": [
    "p8_column_index_1 = list(p8_pd_df.iloc[:, 1])\n",
    "\n",
    "# Naive solving CDF\n",
    "p8_cdf = cdf_solver_naive(p8_column_index_1)\n",
    "print(\"Solution v1 via naive CDF solver\")\n",
    "print(p8_cdf)\n",
    "print()\n",
    "\n",
    "# Solving CDF with np\n",
    "p6c_list_values_cdf_v2 = np.cumsum(p8_column_index_1)\n",
    "print(\"Solution v2 via numpy cumsum\")\n",
    "print(p6c_list_values_cdf_v2)\n",
    "print()"
   ]
  },
  {
   "cell_type": "markdown",
   "metadata": {},
   "source": [
    "<img src=\"images/3_1_and_3_2_problem_8_cdf.png\" alt=\"3_1_and_3_2_problem_8_cdf.png\" style=\"float:left;\">"
   ]
  },
  {
   "cell_type": "markdown",
   "metadata": {},
   "source": [
    "#### Graph the cdf F(x)."
   ]
  },
  {
   "cell_type": "code",
   "execution_count": 28,
   "metadata": {
    "ExecuteTime": {
     "end_time": "2020-10-06T07:31:56.425390Z",
     "start_time": "2020-10-06T07:31:56.210208Z"
    }
   },
   "outputs": [
    {
     "data": {
      "text/plain": [
       "[<matplotlib.lines.Line2D at 0x203703021f0>]"
      ]
     },
     "execution_count": 28,
     "metadata": {},
     "output_type": "execute_result"
    },
    {
     "data": {
      "image/png": "[encoded data removed]",
      "text/plain": [
       "<Figure size 432x288 with 1 Axes>"
      ]
     },
     "metadata": {
      "needs_background": "light"
     },
     "output_type": "display_data"
    },
    {
     "data": {
      "image/png": "[encoded data removed]",
      "text/plain": [
       "<Figure size 432x288 with 1 Axes>"
      ]
     },
     "metadata": {
      "needs_background": "light"
     },
     "output_type": "display_data"
    }
   ],
   "source": [
    "# Stem graph\n",
    "stem(p6c_list_values_cdf_v2, linefmt='b-', markerfmt='bo', basefmt='r-')  # Without the shfited x\n",
    "\n",
    "# Standard graph\n",
    "p8_fig, p8_ax = plt.subplots()\n",
    "p8_ax.plot(range(len(p6c_list_values_cdf_v2)), p6c_list_values_cdf_v2)"
   ]
  },
  {
   "cell_type": "markdown",
   "metadata": {},
   "source": [
    "<img src=\"images/3_1_and_3_2_problem_8_graph_solution.png\" alt=\"3_1_and_3_2_problem_8_graph_solution.png\" style=\"float:left;\">"
   ]
  },
  {
   "cell_type": "markdown",
   "metadata": {},
   "source": [
    "#### Use the graph to calculate the probabilities of the events given below.\n",
    "<img src=\"images/3_1_and_3_2_problem_8_cdf.png\" alt=\"3_1_and_3_2_problem_8_cdf.png\" style=\"float:left;\">"
   ]
  },
  {
   "cell_type": "code",
   "execution_count": 29,
   "metadata": {
    "ExecuteTime": {
     "end_time": "2020-10-06T07:31:56.428393Z",
     "start_time": "2020-10-06T07:31:56.426391Z"
    }
   },
   "outputs": [
    {
     "name": "stdout",
     "output_type": "stream",
     "text": [
      "[0.1  0.28 0.48 0.7  0.9  0.97 1.  ]\n"
     ]
    }
   ],
   "source": [
    "\"\"\"\n",
    "FOR THE FOLLOWING QUESTIONS:\n",
    "\n",
    "    RECALL THAT YOU ARE INDEXED AT 0 NOT 1\n",
    "    SO NAMES START AT 0\n",
    "    So\n",
    "        0 1 2 3\n",
    "        =\n",
    "        4 lines\n",
    "    \n",
    "    Also remember that cumulative is the sum of the PMF \n",
    "\n",
    "\"\"\"\n",
    "print(end=\"\")\n",
    "print(p6c_list_values_cdf_v2)"
   ]
  },
  {
   "cell_type": "markdown",
   "metadata": {},
   "source": [
    "### (a) {at most three lines are in use}\n"
   ]
  },
  {
   "cell_type": "code",
   "execution_count": 30,
   "metadata": {
    "ExecuteTime": {
     "end_time": "2020-10-06T07:31:56.434398Z",
     "start_time": "2020-10-06T07:31:56.429394Z"
    }
   },
   "outputs": [
    {
     "name": "stdout",
     "output_type": "stream",
     "text": [
      "0.7000000000000001\n"
     ]
    }
   ],
   "source": [
    "\"\"\"\n",
    "PMF of 0 + 1 + 2 + 3 \n",
    "OR\n",
    "CDF of 3\n",
    "\"\"\"\n",
    "p8a_solution = p6c_list_values_cdf_v2[3]\n",
    "print(p8a_solution)"
   ]
  },
  {
   "cell_type": "markdown",
   "metadata": {},
   "source": [
    "### (b) {fewer than three lines are in use}"
   ]
  },
  {
   "cell_type": "code",
   "execution_count": 31,
   "metadata": {
    "ExecuteTime": {
     "end_time": "2020-10-06T07:31:56.439402Z",
     "start_time": "2020-10-06T07:31:56.435399Z"
    }
   },
   "outputs": [
    {
     "name": "stdout",
     "output_type": "stream",
     "text": [
      "0.48000000000000004\n"
     ]
    }
   ],
   "source": [
    "\"\"\"\n",
    "PMF of 0 + 1 + 2\n",
    "OR\n",
    "CDF of 2\n",
    "\"\"\"\n",
    "p8b_solution = p6c_list_values_cdf_v2[2] \n",
    "print(p8b_solution)"
   ]
  },
  {
   "cell_type": "markdown",
   "metadata": {},
   "source": [
    "### (c) {at least three lines are in use}\n"
   ]
  },
  {
   "cell_type": "code",
   "execution_count": 32,
   "metadata": {
    "ExecuteTime": {
     "end_time": "2020-10-06T07:31:56.443406Z",
     "start_time": "2020-10-06T07:31:56.440403Z"
    }
   },
   "outputs": [
    {
     "name": "stdout",
     "output_type": "stream",
     "text": [
      "0.5200000000000002\n"
     ]
    }
   ],
   "source": [
    "\"\"\"\n",
    "PMF of 3 + 4 + 5 + 6\n",
    "OR\n",
    "CDF of 6 - CDF of 2 (Remember that you need to INLCUDE CDF of 3 which is why you subtract CDF of 2)\n",
    "\"\"\"\n",
    "p8c_solution = p6c_list_values_cdf_v2[6] -  p6c_list_values_cdf_v2[2] \n",
    "print(p8c_solution)"
   ]
  },
  {
   "cell_type": "markdown",
   "metadata": {},
   "source": [
    "### (d) {between two and five lines, inclusive, are in use}\n"
   ]
  },
  {
   "cell_type": "code",
   "execution_count": 33,
   "metadata": {
    "ExecuteTime": {
     "end_time": "2020-10-06T07:31:56.448411Z",
     "start_time": "2020-10-06T07:31:56.443406Z"
    }
   },
   "outputs": [
    {
     "name": "stdout",
     "output_type": "stream",
     "text": [
      "0.6900000000000002\n"
     ]
    }
   ],
   "source": [
    "\"\"\"\n",
    "PMF of 2 + 3 + 4 + 5\n",
    "OR\n",
    "CDF of 5 - CDF of 1 (Remember that you need to INLCUDE CDF of 2 which is why you subtract CDF of 1)\n",
    "\"\"\"\n",
    "p8d_solution = p6c_list_values_cdf_v2[5] -  p6c_list_values_cdf_v2[1] \n",
    "print(p8d_solution)"
   ]
  },
  {
   "cell_type": "markdown",
   "metadata": {},
   "source": [
    "# 9. DEVORESTAT9 3.E.023.\n",
    "A branch of a certain bank has six ATMs. Let X represent the number of machines in use at a particular time of day. The cdf of X is as follows:\n",
    "\n",
    "<img src=\"images/3_1_and_3_2_problem_9.png\" alt=\"3_1_and_3_2_problem_9.png\" style=\"float:left;\">"
   ]
  },
  {
   "cell_type": "code",
   "execution_count": 34,
   "metadata": {
    "ExecuteTime": {
     "end_time": "2020-10-06T07:31:56.454415Z",
     "start_time": "2020-10-06T07:31:56.448411Z"
    }
   },
   "outputs": [
    {
     "data": {
      "text/plain": [
       "[0.0, 0.02, 0.23, 0.45, 0.5, 0.84, 0.96, 1.0]"
      ]
     },
     "execution_count": 34,
     "metadata": {},
     "output_type": "execute_result"
    }
   ],
   "source": [
    "p9_string = \"\"\"\n",
    "0\t\t  \t\tx < 0\n",
    "0.02\t\t  \t\t0 ≤ x < 1\n",
    "0.23\t\t  \t\t1 ≤ x < 2\n",
    "0.45\t\t  \t\t2 ≤ x < 3\n",
    "0.50\t\t  \t\t3 ≤ x < 4\n",
    "0.84\t\t  \t\t4 ≤ x < 5\n",
    "0.96\t\t  \t\t5 ≤ x < 6\n",
    "1\t\t  \t\t6 ≤ x\n",
    "\"\"\"\n",
    "\n",
    "p9_list_string = p9_string.split(\"\\n\")\n",
    "\n",
    "# Regex get numbers or numbers with period then numbers\n",
    "p9_list_string = [re.search(r\"\\d+(.\\d+)?\",i.replace(\"\\t\",\"\")).group(0) for i in p9_list_string if i !=\"\"]\n",
    "p9_list_cdf = [float(i) for i in p9_list_string]\n",
    "p9_list_cdf"
   ]
  },
  {
   "cell_type": "markdown",
   "metadata": {},
   "source": [
    "#### Calculate the following probabilities directly from the cdf:\n"
   ]
  },
  {
   "cell_type": "markdown",
   "metadata": {},
   "source": [
    "#### (a)    p(2), that is, P(X = 2)\n"
   ]
  },
  {
   "cell_type": "code",
   "execution_count": 35,
   "metadata": {
    "ExecuteTime": {
     "end_time": "2020-10-06T07:31:56.459420Z",
     "start_time": "2020-10-06T07:31:56.455416Z"
    }
   },
   "outputs": [
    {
     "name": "stdout",
     "output_type": "stream",
     "text": [
      "0.21000000000000002\n"
     ]
    }
   ],
   "source": [
    "\"\"\"\n",
    "GIVEN A CDF. FIND P(X = 2)\n",
    "WHICH IS JUST A PMF\n",
    "\n",
    "(CDF of 2) - (CDF of 1) = PMF of 2\n",
    "\n",
    "\"\"\"\n",
    "p9a = p9_list_cdf[2] - p9_list_cdf[1]\n",
    "print(p9a)"
   ]
  },
  {
   "cell_type": "markdown",
   "metadata": {},
   "source": [
    "#### (b)    P(X > 3)"
   ]
  },
  {
   "cell_type": "code",
   "execution_count": 43,
   "metadata": {
    "ExecuteTime": {
     "end_time": "2020-10-06T07:46:04.319366Z",
     "start_time": "2020-10-06T07:46:04.316364Z"
    }
   },
   "outputs": [
    {
     "name": "stdout",
     "output_type": "stream",
     "text": [
      "Easy Solution\n",
      "0.5\n",
      "\n",
      "Alternative solution which is (CDF of LAST INDEX) - (CDF of 4)\n",
      "0.5\n"
     ]
    }
   ],
   "source": [
    "\"\"\"\n",
    "GIVEN A CDF. FIND P(X > 3)\n",
    "WHICH IS JUST 1 - CDF of 4 \n",
    "LOOK AT TABLE\n",
    "\n",
    "    0.45  2 ≤ x < 3  INDEX 3\n",
    "    0.50  3 ≤ x < 4  INDEX 4\n",
    "    \n",
    "    Notice INDEX 3 does not have X > 3\n",
    "    However, X > 3 IS IN THE FOLLOWING CDF, (CDF of 4)\n",
    "    )\n",
    "\n",
    "\"\"\"\n",
    "print(\"Easy Solution\")\n",
    "p9b = 1 - p9_list_cdf[4]\n",
    "print(p9b)\n",
    "print()\n",
    "\n",
    "print(\"Alternative solution which is (CDF of LAST INDEX) - (CDF of 4)\")\n",
    "p9b = p9_list_cdf[-1] - p9_list_cdf[4]\n",
    "print(p9b)"
   ]
  },
  {
   "cell_type": "markdown",
   "metadata": {},
   "source": [
    "#### (c)    P(2 ≤ X ≤ 5)\n"
   ]
  },
  {
   "cell_type": "code",
   "execution_count": 46,
   "metadata": {
    "ExecuteTime": {
     "end_time": "2020-10-06T07:46:46.940625Z",
     "start_time": "2020-10-06T07:46:46.938624Z"
    }
   },
   "outputs": [
    {
     "name": "stdout",
     "output_type": "stream",
     "text": [
      "0.73\n"
     ]
    }
   ],
   "source": [
    "\"\"\"\n",
    "GIVEN A CDF. Find P(2 ≤ X ≤ 5)\n",
    "LOOK AT TABLE\n",
    "    \n",
    "    0.23  1 ≤ x < 2  INDEX 2\n",
    "    0.45  2 ≤ x < 3  INDEX 3\n",
    "    0.96  5 ≤ x < 6  INDEX 6\n",
    "    \n",
    "    Notice You need to INCLUDE INDEX 3 which is why you substract INDEX 2 to get inbetween INDEX 6 and INDEX 3\n",
    "    Notice You need INDEX 6 because of (X ≤ 5) SO YOU NEED INEDEX 6 (5 ≤ x < 6) TO INCLUDE Equal to\n",
    "\"\"\"\n",
    "p9c = p9_list_cdf[6] - p9_list_cdf[2]\n",
    "print(p9c)"
   ]
  },
  {
   "cell_type": "markdown",
   "metadata": {},
   "source": [
    "#### (d)    P(2 < X < 5)\n"
   ]
  },
  {
   "cell_type": "code",
   "execution_count": 38,
   "metadata": {
    "ExecuteTime": {
     "end_time": "2020-10-06T07:31:56.472430Z",
     "start_time": "2020-10-06T07:31:56.468427Z"
    }
   },
   "outputs": [
    {
     "name": "stdout",
     "output_type": "stream",
     "text": [
      "0.390\n"
     ]
    }
   ],
   "source": [
    "\"\"\"\n",
    "GIVEN A CDF. Find P(2 < X < 5)\n",
    "LOOK AT TABLE\n",
    "    \n",
    "    0.23  1 ≤ x < 2  INDEX 2\n",
    "    0.45  2 ≤ x < 3  INDEX 3\n",
    "    0.84  4 ≤ x < 5  INDEX 5\n",
    "    0.96  5 ≤ x < 6  INDEX 6\n",
    "    \n",
    "    Notice You have (2 < X) which is X greater than 2 so INDEX 3 \n",
    "    Notice You have (X < 5) which is X less than 5 so INDEX 5\n",
    "\"\"\" \n",
    "p9d = p9_list_cdf[5] - p9_list_cdf[3]\n",
    "print(f\"{p9d:.3f}\")"
   ]
  }
 ],
 "metadata": {
  "kernelspec": {
   "display_name": "Python 3.8.5 64-bit Anaconda (Only works with Anaconda's Jupyter)",
   "language": "python",
   "name": "python3"
  },
  "language_info": {
   "codemirror_mode": {
    "name": "ipython",
    "version": 3
   },
   "file_extension": ".py",
   "mimetype": "text/x-python",
   "name": "python",
   "nbconvert_exporter": "python",
   "pygments_lexer": "ipython3",
   "version": "3.8.5"
  },
  "varInspector": {
   "cols": {
    "lenName": 16,
    "lenType": 16,
    "lenVar": 40
   },
   "kernels_config": {
    "python": {
     "delete_cmd_postfix": "",
     "delete_cmd_prefix": "del ",
     "library": "var_list.py",
     "varRefreshCmd": "print(var_dic_list())"
    },
    "r": {
     "delete_cmd_postfix": ") ",
     "delete_cmd_prefix": "rm(",
     "library": "var_list.r",
     "varRefreshCmd": "cat(var_dic_list()) "
    }
   },
   "types_to_exclude": [
    "module",
    "function",
    "builtin_function_or_method",
    "instance",
    "_Feature"
   ],
   "window_display": false
  }
 },
 "nbformat": 4,
 "nbformat_minor": 4
}

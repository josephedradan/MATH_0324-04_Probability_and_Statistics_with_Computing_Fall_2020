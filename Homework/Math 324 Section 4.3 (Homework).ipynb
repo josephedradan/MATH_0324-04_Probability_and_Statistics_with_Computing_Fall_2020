{
 "cells": [
  {
   "cell_type": "code",
   "execution_count": 1,
   "metadata": {
    "ExecuteTime": {
     "end_time": "2020-10-10T05:05:13.970857Z",
     "start_time": "2020-10-10T05:05:13.062748Z"
    },
    "scrolled": false
   },
   "outputs": [
    {
     "name": "stderr",
     "output_type": "stream",
     "text": [
      "C:\\Users\\Joseph\\anaconda3\\lib\\site-packages\\rpy2\\robjects\\packages.py:365: UserWarning: The symbol 'quartz' is not in this R namespace/package.\n",
      "  warnings.warn(\n"
     ]
    }
   ],
   "source": [
    "\"\"\"\n",
    "More on rpy2 options\n",
    "https://ipython.org/ipython-doc/2/config/extensions/rmagic.html\n",
    "\"\"\"\n",
    "import rpy2\n",
    "%load_ext rpy2.ipython"
   ]
  },
  {
   "cell_type": "markdown",
   "metadata": {},
   "source": [
    "<img src=\"images/4_3_notes_1.png\" alt=\"4_3_notes_1.png\" style=\"float:left;\">\n"
   ]
  },
  {
   "cell_type": "markdown",
   "metadata": {},
   "source": [
    "# 1. DEVORESTAT9 4.E.028.MI.S.\n",
    "Let Z be a standard normal random variable and calculate the following probabilities, drawing pictures wherever appropriate. (Round your answers to four decimal places.)\n"
   ]
  },
  {
   "cell_type": "markdown",
   "metadata": {},
   "source": [
    "### (a) P(0 ≤ Z ≤ 2.41)"
   ]
  },
  {
   "cell_type": "code",
   "execution_count": 2,
   "metadata": {
    "ExecuteTime": {
     "end_time": "2020-10-10T05:05:14.036902Z",
     "start_time": "2020-10-10T05:05:13.971857Z"
    }
   },
   "outputs": [
    {
     "name": "stdout",
     "output_type": "stream",
     "text": [
      "Upper bound: 0.9920237 \n",
      "Lower bound: 0.5 \n",
      "\n",
      "Solution: 0.4920237 \n"
     ]
    }
   ],
   "source": [
    "%%R\n",
    "\n",
    "upper_bound <- pnorm(2.41)\n",
    "lower_bound <- pnorm(0)\n",
    "\n",
    "cat(\"Upper bound:\", upper_bound, \"\\n\")\n",
    "cat(\"Lower bound:\", lower_bound, \"\\n\")\n",
    "\n",
    "cat(\"\\n\")\n",
    "\n",
    "solution <- upper_bound - lower_bound\n",
    "cat(\"Solution:\", solution, \"\\n\")"
   ]
  },
  {
   "cell_type": "markdown",
   "metadata": {},
   "source": [
    "### (b) P(0 ≤ Z ≤ 2)"
   ]
  },
  {
   "cell_type": "code",
   "execution_count": 3,
   "metadata": {
    "ExecuteTime": {
     "end_time": "2020-10-10T05:05:14.056926Z",
     "start_time": "2020-10-10T05:05:14.037903Z"
    }
   },
   "outputs": [
    {
     "name": "stdout",
     "output_type": "stream",
     "text": [
      "Upper bound: 0.9772499 \n",
      "Lower bound: 0.5 \n",
      "\n",
      "Solution: 0.4772499 \n"
     ]
    }
   ],
   "source": [
    "%%R\n",
    "\n",
    "upper_bound <- pnorm(2)\n",
    "lower_bound <- pnorm(0)\n",
    "\n",
    "cat(\"Upper bound:\", upper_bound, \"\\n\")\n",
    "cat(\"Lower bound:\", lower_bound, \"\\n\")\n",
    "\n",
    "cat(\"\\n\")\n",
    "\n",
    "solution <- upper_bound - lower_bound\n",
    "cat(\"Solution:\", solution, \"\\n\")"
   ]
  },
  {
   "cell_type": "markdown",
   "metadata": {
    "ExecuteTime": {
     "end_time": "2020-10-10T03:03:50.640671Z",
     "start_time": "2020-10-10T03:03:50.638669Z"
    }
   },
   "source": [
    "### (c) P(−2.30 ≤ Z ≤ 0)"
   ]
  },
  {
   "cell_type": "code",
   "execution_count": 4,
   "metadata": {
    "ExecuteTime": {
     "end_time": "2020-10-10T05:05:14.078944Z",
     "start_time": "2020-10-10T05:05:14.058928Z"
    }
   },
   "outputs": [
    {
     "name": "stdout",
     "output_type": "stream",
     "text": [
      "Upper bound: 0.5 \n",
      "Lower bound: 0.01072411 \n",
      "\n",
      "Solution: 0.4892759 \n"
     ]
    }
   ],
   "source": [
    "%%R\n",
    "\n",
    "upper_bound <- pnorm(0)\n",
    "lower_bound <- pnorm(-2.30)\n",
    "\n",
    "cat(\"Upper bound:\", upper_bound, \"\\n\")\n",
    "cat(\"Lower bound:\", lower_bound, \"\\n\")\n",
    "\n",
    "cat(\"\\n\")\n",
    "\n",
    "solution <- upper_bound - lower_bound\n",
    "cat(\"Solution:\", solution, \"\\n\")"
   ]
  },
  {
   "cell_type": "markdown",
   "metadata": {},
   "source": [
    "### (d) P(−2.30 ≤ Z ≤ 2.30)\n"
   ]
  },
  {
   "cell_type": "code",
   "execution_count": 5,
   "metadata": {
    "ExecuteTime": {
     "end_time": "2020-10-10T05:05:14.097961Z",
     "start_time": "2020-10-10T05:05:14.079945Z"
    }
   },
   "outputs": [
    {
     "name": "stdout",
     "output_type": "stream",
     "text": [
      "Upper bound: 0.9892759 \n",
      "Lower bound: 0.01072411 \n",
      "\n",
      "Solution: 0.9785518 \n"
     ]
    }
   ],
   "source": [
    "%%R\n",
    "\n",
    "upper_bound <- pnorm(2.30)\n",
    "lower_bound <- pnorm(-2.30)\n",
    "\n",
    "cat(\"Upper bound:\", upper_bound, \"\\n\")\n",
    "cat(\"Lower bound:\", lower_bound, \"\\n\")\n",
    "\n",
    "cat(\"\\n\")\n",
    "\n",
    "solution <- upper_bound - lower_bound\n",
    "cat(\"Solution:\", solution, \"\\n\")"
   ]
  },
  {
   "cell_type": "markdown",
   "metadata": {},
   "source": [
    "### (e) P(Z ≤ 1.26)"
   ]
  },
  {
   "cell_type": "code",
   "execution_count": 6,
   "metadata": {
    "ExecuteTime": {
     "end_time": "2020-10-10T05:05:14.117978Z",
     "start_time": "2020-10-10T05:05:14.098962Z"
    }
   },
   "outputs": [
    {
     "name": "stdout",
     "output_type": "stream",
     "text": [
      "Upper bound: 0.8961653 \n",
      "Lower bound: 0 \n",
      "\n",
      "Solution: 0.8961653 \n"
     ]
    }
   ],
   "source": [
    "%%R\n",
    "\n",
    "upper_bound <- pnorm(1.26)\n",
    "lower_bound <- 0\n",
    "\n",
    "cat(\"Upper bound:\", upper_bound, \"\\n\")\n",
    "cat(\"Lower bound:\", lower_bound, \"\\n\")\n",
    "\n",
    "cat(\"\\n\")\n",
    "\n",
    "solution <- upper_bound - lower_bound\n",
    "cat(\"Solution:\", solution, \"\\n\")"
   ]
  },
  {
   "cell_type": "markdown",
   "metadata": {
    "ExecuteTime": {
     "end_time": "2020-10-10T03:13:38.979785Z",
     "start_time": "2020-10-10T03:13:38.975782Z"
    }
   },
   "source": [
    "### (f) P(−1.25 ≤ Z)"
   ]
  },
  {
   "cell_type": "code",
   "execution_count": 7,
   "metadata": {
    "ExecuteTime": {
     "end_time": "2020-10-10T05:05:14.136993Z",
     "start_time": "2020-10-10T05:05:14.119979Z"
    }
   },
   "outputs": [
    {
     "name": "stdout",
     "output_type": "stream",
     "text": [
      "Upper bound: 1 \n",
      "Lower bound: 0.1056498 \n",
      "\n",
      "Solution: 0.8943502 \n"
     ]
    }
   ],
   "source": [
    "%%R\n",
    "\n",
    "upper_bound <- 1\n",
    "lower_bound <- pnorm(-1.25)\n",
    "\n",
    "cat(\"Upper bound:\", upper_bound, \"\\n\")\n",
    "cat(\"Lower bound:\", lower_bound, \"\\n\")\n",
    "\n",
    "cat(\"\\n\")\n",
    "\n",
    "solution <- upper_bound - lower_bound\n",
    "cat(\"Solution:\", solution, \"\\n\")"
   ]
  },
  {
   "cell_type": "markdown",
   "metadata": {},
   "source": [
    "### (g) P(−1.30 ≤ Z ≤ 2.00)"
   ]
  },
  {
   "cell_type": "code",
   "execution_count": 8,
   "metadata": {
    "ExecuteTime": {
     "end_time": "2020-10-10T05:05:14.156989Z",
     "start_time": "2020-10-10T05:05:14.138995Z"
    }
   },
   "outputs": [
    {
     "name": "stdout",
     "output_type": "stream",
     "text": [
      "Upper bound: 0.9772499 \n",
      "Lower bound: 0.09680048 \n",
      "\n",
      "Solution: 0.8804494 \n"
     ]
    }
   ],
   "source": [
    "%%R\n",
    "\n",
    "upper_bound <- pnorm(2.00)\n",
    "lower_bound <- pnorm(-1.30)\n",
    "\n",
    "cat(\"Upper bound:\", upper_bound, \"\\n\")\n",
    "cat(\"Lower bound:\", lower_bound, \"\\n\")\n",
    "\n",
    "cat(\"\\n\")\n",
    "\n",
    "solution <- upper_bound - lower_bound\n",
    "cat(\"Solution:\", solution, \"\\n\")"
   ]
  },
  {
   "cell_type": "markdown",
   "metadata": {
    "ExecuteTime": {
     "end_time": "2020-10-10T03:16:58.841948Z",
     "start_time": "2020-10-10T03:16:58.839946Z"
    }
   },
   "source": [
    "### (h) P(1.26 ≤ Z ≤ 2.50)"
   ]
  },
  {
   "cell_type": "code",
   "execution_count": 9,
   "metadata": {
    "ExecuteTime": {
     "end_time": "2020-10-10T05:05:14.177006Z",
     "start_time": "2020-10-10T05:05:14.157990Z"
    }
   },
   "outputs": [
    {
     "name": "stdout",
     "output_type": "stream",
     "text": [
      "Upper bound: 0.9937903 \n",
      "Lower bound: 0.8961653 \n",
      "\n",
      "Solution: 0.09762502 \n"
     ]
    }
   ],
   "source": [
    "%%R\n",
    "\n",
    "upper_bound <- pnorm(2.50)\n",
    "lower_bound <- pnorm(1.26)\n",
    "\n",
    "cat(\"Upper bound:\", upper_bound, \"\\n\")\n",
    "cat(\"Lower bound:\", lower_bound, \"\\n\")\n",
    "\n",
    "cat(\"\\n\")\n",
    "\n",
    "solution <- upper_bound - lower_bound\n",
    "cat(\"Solution:\", solution, \"\\n\")"
   ]
  },
  {
   "cell_type": "markdown",
   "metadata": {
    "ExecuteTime": {
     "end_time": "2020-10-10T03:18:34.056270Z",
     "start_time": "2020-10-10T03:18:34.053267Z"
    }
   },
   "source": [
    "### (i) P(1.30 ≤ Z)|"
   ]
  },
  {
   "cell_type": "code",
   "execution_count": 10,
   "metadata": {
    "ExecuteTime": {
     "end_time": "2020-10-10T05:05:14.194021Z",
     "start_time": "2020-10-10T05:05:14.178007Z"
    }
   },
   "outputs": [
    {
     "name": "stdout",
     "output_type": "stream",
     "text": [
      "Upper bound: 1 \n",
      "Lower bound: 0.9031995 \n",
      "\n",
      "Solution: 0.09680048 \n"
     ]
    }
   ],
   "source": [
    "%%R\n",
    "\n",
    "upper_bound <- 1\n",
    "lower_bound <- pnorm(1.30)\n",
    "\n",
    "cat(\"Upper bound:\", upper_bound, \"\\n\")\n",
    "cat(\"Lower bound:\", lower_bound, \"\\n\")\n",
    "\n",
    "cat(\"\\n\")\n",
    "\n",
    "solution <- upper_bound - lower_bound\n",
    "cat(\"Solution:\", solution, \"\\n\")"
   ]
  },
  {
   "cell_type": "markdown",
   "metadata": {},
   "source": [
    "### (j) P(|Z| ≤ 2.50)"
   ]
  },
  {
   "cell_type": "code",
   "execution_count": 11,
   "metadata": {
    "ExecuteTime": {
     "end_time": "2020-10-10T05:05:14.213037Z",
     "start_time": "2020-10-10T05:05:14.195022Z"
    }
   },
   "outputs": [
    {
     "name": "stdout",
     "output_type": "stream",
     "text": [
      "Upper bound: 0.9937903 \n",
      "Lower bound: 0.006209665 \n",
      "\n",
      "Solution: 0.9875807 \n"
     ]
    }
   ],
   "source": [
    "%%R\n",
    "\n",
    "upper_bound <- pnorm(2.50)\n",
    "lower_bound <- pnorm(-2.50)\n",
    "\n",
    "cat(\"Upper bound:\", upper_bound, \"\\n\")\n",
    "cat(\"Lower bound:\", lower_bound, \"\\n\")\n",
    "\n",
    "cat(\"\\n\")\n",
    "\n",
    "solution <- upper_bound - lower_bound\n",
    "cat(\"Solution:\", solution, \"\\n\")"
   ]
  },
  {
   "cell_type": "markdown",
   "metadata": {},
   "source": [
    "### 2. DEVORESTAT9 4.E.029.S.\n",
    "In each case, determine the value of the constant c that makes the probability statement correct. (Round your answers to two decimal places.)"
   ]
  },
  {
   "cell_type": "markdown",
   "metadata": {},
   "source": [
    "### (a)    Φ(c) = 0.9830"
   ]
  },
  {
   "cell_type": "code",
   "execution_count": 12,
   "metadata": {
    "ExecuteTime": {
     "end_time": "2020-10-10T05:05:14.230051Z",
     "start_time": "2020-10-10T05:05:14.214038Z"
    },
    "scrolled": false
   },
   "outputs": [
    {
     "name": "stdout",
     "output_type": "stream",
     "text": [
      "Lower bound 0 \n",
      "Solution 0.983 \n",
      "\n",
      "Upper: 2.120072 \n"
     ]
    }
   ],
   "source": [
    "%%R\n",
    "\n",
    "solution <- 0.9830\n",
    "lower_bound <- 0\n",
    "\n",
    "cat(\"Lower bound\", lower_bound, \"\\n\")\n",
    "cat(\"Solution\", solution, \"\\n\")\n",
    "\n",
    "cat(\"\\n\")\n",
    "\n",
    "# c = qnorm(0.9830 - 0)\n",
    "upper_bound <- qnorm(solution + lower_bound)  \n",
    "\n",
    "cat(\"Upper:\", upper_bound, \"\\n\")"
   ]
  },
  {
   "cell_type": "markdown",
   "metadata": {
    "ExecuteTime": {
     "end_time": "2020-10-10T03:35:54.586828Z",
     "start_time": "2020-10-10T03:35:54.583826Z"
    }
   },
   "source": [
    "### (b)    P(0 ≤ Z ≤ c) = 0.3078"
   ]
  },
  {
   "cell_type": "code",
   "execution_count": 13,
   "metadata": {
    "ExecuteTime": {
     "end_time": "2020-10-10T05:05:14.250070Z",
     "start_time": "2020-10-10T05:05:14.231052Z"
    }
   },
   "outputs": [
    {
     "name": "stdout",
     "output_type": "stream",
     "text": [
      "Lower bound 0.5 \n",
      "Solution 0.3078 \n",
      "\n",
      "Upper: 0.8698178 \n"
     ]
    }
   ],
   "source": [
    "%%R\n",
    "\n",
    "solution <- 0.3078\n",
    "lower_bound <- pnorm(0)\n",
    "\n",
    "cat(\"Lower bound\", lower_bound, \"\\n\")\n",
    "cat(\"Solution\", solution, \"\\n\")\n",
    "\n",
    "cat(\"\\n\")\n",
    "\n",
    "# c = qnorm(0.9830 - pnorm(0))\n",
    "upper_bound <- qnorm(solution + lower_bound)  \n",
    "\n",
    "cat(\"Upper:\", upper_bound, \"\\n\")"
   ]
  },
  {
   "cell_type": "markdown",
   "metadata": {},
   "source": [
    "### (c)    P(c ≤ Z) = 0.1190"
   ]
  },
  {
   "cell_type": "code",
   "execution_count": 14,
   "metadata": {
    "ExecuteTime": {
     "end_time": "2020-10-10T05:05:14.270085Z",
     "start_time": "2020-10-10T05:05:14.251071Z"
    }
   },
   "outputs": [
    {
     "name": "stdout",
     "output_type": "stream",
     "text": [
      "Lower bound 1 \n",
      "Solution 0.119 \n",
      "\n",
      "Upper: 1.180001 \n"
     ]
    }
   ],
   "source": [
    "%%R\n",
    "\n",
    "solution <- 0.1190\n",
    "upper_bound <- 1\n",
    "\n",
    "cat(\"Lower bound\", upper_bound, \"\\n\")\n",
    "cat(\"Solution\", solution, \"\\n\")\n",
    "\n",
    "cat(\"\\n\")\n",
    "\n",
    "# c = qnorm(1 - 0.1190)\n",
    "upper_bound <- qnorm(1 - solution)  \n",
    "\n",
    "cat(\"Upper:\", upper_bound, \"\\n\")"
   ]
  },
  {
   "cell_type": "markdown",
   "metadata": {},
   "source": [
    "### (d)    P(−c ≤ Z ≤ c) = 0.6424"
   ]
  },
  {
   "cell_type": "code",
   "execution_count": 15,
   "metadata": {
    "ExecuteTime": {
     "end_time": "2020-10-10T05:05:14.289102Z",
     "start_time": "2020-10-10T05:05:14.271087Z"
    }
   },
   "outputs": [
    {
     "name": "stdout",
     "output_type": "stream",
     "text": [
      "Lower bound 1 \n",
      "Solution 0.119 \n",
      "\n",
      "Upper: 1.180001 \n"
     ]
    }
   ],
   "source": [
    "%%R\n",
    "\n",
    "solution <- 0.1190\n",
    "upper_bound <- 1\n",
    "\n",
    "cat(\"Lower bound\", upper_bound, \"\\n\")\n",
    "cat(\"Solution\", solution, \"\\n\")\n",
    "\n",
    "cat(\"\\n\")\n",
    "\n",
    "# c = qnorm(1 - 0.1190)\n",
    "upper_bound <- qnorm(1 - solution)  \n",
    "\n",
    "cat(\"Upper:\", upper_bound, \"\\n\")"
   ]
  },
  {
   "cell_type": "markdown",
   "metadata": {},
   "source": [
    "### (e)    P(c ≤ |Z|) = 0.0128"
   ]
  },
  {
   "cell_type": "code",
   "execution_count": null,
   "metadata": {},
   "outputs": [],
   "source": []
  },
  {
   "cell_type": "markdown",
   "metadata": {},
   "source": [
    "# 3. DEVORESTAT9 4.E.030.S.\n",
    "Find the following percentiles for the standard normal distribution. Interpolate where appropriate. (Round your answers to two decimal places.)"
   ]
  },
  {
   "cell_type": "markdown",
   "metadata": {},
   "source": [
    "### (a)    71st"
   ]
  },
  {
   "cell_type": "code",
   "execution_count": 16,
   "metadata": {
    "ExecuteTime": {
     "end_time": "2020-10-10T05:05:14.305115Z",
     "start_time": "2020-10-10T05:05:14.290103Z"
    }
   },
   "outputs": [
    {
     "name": "stdout",
     "output_type": "stream",
     "text": [
      "[1] 0.5533847\n"
     ]
    }
   ],
   "source": [
    "%%R\n",
    "\n",
    "qnorm(.71)"
   ]
  },
  {
   "cell_type": "markdown",
   "metadata": {},
   "source": [
    "### (b)    29th\n"
   ]
  },
  {
   "cell_type": "code",
   "execution_count": 17,
   "metadata": {
    "ExecuteTime": {
     "end_time": "2020-10-10T05:05:14.320128Z",
     "start_time": "2020-10-10T05:05:14.306116Z"
    }
   },
   "outputs": [
    {
     "name": "stdout",
     "output_type": "stream",
     "text": [
      "[1] -0.5533847\n"
     ]
    }
   ],
   "source": [
    "%%R\n",
    "\n",
    "qnorm(.29)"
   ]
  },
  {
   "cell_type": "markdown",
   "metadata": {},
   "source": [
    "### (c)    75th\n"
   ]
  },
  {
   "cell_type": "code",
   "execution_count": 18,
   "metadata": {
    "ExecuteTime": {
     "end_time": "2020-10-10T05:05:14.333139Z",
     "start_time": "2020-10-10T05:05:14.321129Z"
    }
   },
   "outputs": [
    {
     "name": "stdout",
     "output_type": "stream",
     "text": [
      "[1] 0.6744898\n"
     ]
    }
   ],
   "source": [
    "%%R\n",
    "\n",
    "qnorm(.75)"
   ]
  },
  {
   "cell_type": "markdown",
   "metadata": {},
   "source": [
    "### (d)    25th\n"
   ]
  },
  {
   "cell_type": "code",
   "execution_count": 19,
   "metadata": {
    "ExecuteTime": {
     "end_time": "2020-10-10T05:05:14.346150Z",
     "start_time": "2020-10-10T05:05:14.334140Z"
    }
   },
   "outputs": [
    {
     "name": "stdout",
     "output_type": "stream",
     "text": [
      "[1] -0.6744898\n"
     ]
    }
   ],
   "source": [
    "%%R\n",
    "\n",
    "qnorm(.25)"
   ]
  },
  {
   "cell_type": "markdown",
   "metadata": {},
   "source": [
    "### (e)    7th\n"
   ]
  },
  {
   "cell_type": "code",
   "execution_count": 23,
   "metadata": {
    "ExecuteTime": {
     "end_time": "2020-10-10T05:06:56.667101Z",
     "start_time": "2020-10-10T05:06:56.654090Z"
    }
   },
   "outputs": [
    {
     "name": "stdout",
     "output_type": "stream",
     "text": [
      "[1] -1.475791\n"
     ]
    }
   ],
   "source": [
    "%%R\n",
    "\n",
    "qnorm(.07)"
   ]
  },
  {
   "cell_type": "markdown",
   "metadata": {},
   "source": [
    "# 4. DEVORESTAT9 4.E.031.S.\n",
    "\n"
   ]
  },
  {
   "cell_type": "markdown",
   "metadata": {
    "ExecuteTime": {
     "end_time": "2020-10-10T05:20:36.697205Z",
     "start_time": "2020-10-10T05:20:36.695204Z"
    }
   },
   "source": [
    "### (a)    α = 0.0089"
   ]
  },
  {
   "cell_type": "code",
   "execution_count": 27,
   "metadata": {
    "ExecuteTime": {
     "end_time": "2020-10-10T05:20:49.768090Z",
     "start_time": "2020-10-10T05:20:49.755079Z"
    }
   },
   "outputs": [
    {
     "name": "stdout",
     "output_type": "stream",
     "text": [
      "[1] 2.369752\n"
     ]
    }
   ],
   "source": [
    "%%R\n",
    "\n",
    "qnorm(1 - 0.0089)"
   ]
  },
  {
   "cell_type": "markdown",
   "metadata": {
    "ExecuteTime": {
     "end_time": "2020-10-10T05:20:58.009881Z",
     "start_time": "2020-10-10T05:20:58.006879Z"
    }
   },
   "source": [
    "### (b)    α = 0.19"
   ]
  },
  {
   "cell_type": "code",
   "execution_count": 30,
   "metadata": {
    "ExecuteTime": {
     "end_time": "2020-10-10T05:21:32.530431Z",
     "start_time": "2020-10-10T05:21:32.517421Z"
    }
   },
   "outputs": [
    {
     "name": "stdout",
     "output_type": "stream",
     "text": [
      "[1] 0.8778963\n"
     ]
    }
   ],
   "source": [
    "%%R\n",
    "\n",
    "qnorm(1 - 0.19)"
   ]
  },
  {
   "cell_type": "markdown",
   "metadata": {},
   "source": [
    "### (c)    α = 0.645\n"
   ]
  },
  {
   "cell_type": "code",
   "execution_count": 31,
   "metadata": {
    "ExecuteTime": {
     "end_time": "2020-10-10T05:21:48.098626Z",
     "start_time": "2020-10-10T05:21:48.084614Z"
    }
   },
   "outputs": [
    {
     "name": "stdout",
     "output_type": "stream",
     "text": [
      "[1] -0.3718561\n"
     ]
    }
   ],
   "source": [
    "%%R\n",
    "\n",
    "qnorm(1 - 0.645)"
   ]
  },
  {
   "cell_type": "markdown",
   "metadata": {},
   "source": [
    "# 5. DEVORESTAT9 4.E.034.S.\n",
    "An article suggests that substrate concentration (mg/cm3) of influent to a reactor is normally distributed with \n",
    "\n",
    "μ = 0.60\n",
    "\n",
    " and \n",
    " \n",
    "σ = 0.06.\n",
    "\n",
    " (Round your answers to four decimal places.)"
   ]
  },
  {
   "cell_type": "markdown",
   "metadata": {},
   "source": [
    "### (a) What is the probability that the concentration exceeds 0.80?"
   ]
  },
  {
   "cell_type": "code",
   "execution_count": 33,
   "metadata": {
    "ExecuteTime": {
     "end_time": "2020-10-10T05:28:00.962510Z",
     "start_time": "2020-10-10T05:28:00.946984Z"
    }
   },
   "outputs": [
    {
     "name": "stdout",
     "output_type": "stream",
     "text": [
      "[1] 0.0004290603\n"
     ]
    }
   ],
   "source": [
    "%%R\n",
    "\n",
    "# Exceed is 1\n",
    "# pnorm(exceed, mean, std)\n",
    "1 - pnorm(.8, .6, .06)"
   ]
  },
  {
   "cell_type": "markdown",
   "metadata": {},
   "source": [
    "### (b) What is the probability that the concentration is at most 0.50?"
   ]
  },
  {
   "cell_type": "code",
   "execution_count": 35,
   "metadata": {
    "ExecuteTime": {
     "end_time": "2020-10-10T05:29:42.854733Z",
     "start_time": "2020-10-10T05:29:42.840720Z"
    }
   },
   "outputs": [
    {
     "name": "stdout",
     "output_type": "stream",
     "text": [
      "[1] 0.04779035\n"
     ]
    }
   ],
   "source": [
    "%%R\n",
    "\n",
    "# Exceed is 1\n",
    "# pnorm(exceed, mean, std)\n",
    "pnorm(.5, .6, .06)"
   ]
  },
  {
   "cell_type": "markdown",
   "metadata": {},
   "source": [
    "### (c) How would you characterize the largest 5% of all concentration values?"
   ]
  },
  {
   "cell_type": "code",
   "execution_count": 52,
   "metadata": {
    "ExecuteTime": {
     "end_time": "2020-10-10T06:00:48.568258Z",
     "start_time": "2020-10-10T06:00:48.552244Z"
    }
   },
   "outputs": [
    {
     "name": "stdout",
     "output_type": "stream",
     "text": [
      "[1] -1.644854\n",
      "[1] 0.6986912\n"
     ]
    }
   ],
   "source": [
    "%%R\n",
    "\n",
    "print(qnorm(.05))\n",
    "solution <- (qnorm(.05)*-1 * .06) + .6  # HARD\n",
    "solution\n",
    "# cat(\"The largest 5% of all concentration values are above\",solution)"
   ]
  },
  {
   "cell_type": "markdown",
   "metadata": {},
   "source": [
    "# 6. DEVORESTAT9 4.E.038.S.\n",
    "There are two machines available for cutting corks intended for use in wine bottles. The first produces corks with diameters that are normally distributed with mean 3 cm and standard deviation 0.08 cm. The second machine produces corks with diameters that have a normal distribution with mean 3.04 cm and standard deviation 0.04 cm. Acceptable corks have diameters between 2.9 cm and 3.1 cm.\n"
   ]
  },
  {
   "cell_type": "markdown",
   "metadata": {},
   "source": [
    "#### What is the probability that the first machine produces an acceptable cork? (Round your answer to four decimal places.)\n"
   ]
  },
  {
   "cell_type": "code",
   "execution_count": 56,
   "metadata": {
    "ExecuteTime": {
     "end_time": "2020-10-10T06:11:16.655371Z",
     "start_time": "2020-10-10T06:11:16.642360Z"
    }
   },
   "outputs": [
    {
     "name": "stdout",
     "output_type": "stream",
     "text": [
      "[1] 0.7887005\n"
     ]
    }
   ],
   "source": [
    "%%R\n",
    "\n",
    "x <- pnorm(3.1,3,0.08) - pnorm(2.9,3,0.08)\n",
    "print(x)\n"
   ]
  },
  {
   "cell_type": "markdown",
   "metadata": {},
   "source": [
    "#### What is the probability that the second machine produces an acceptable cork? (Round your answer to four decimal places.)\n"
   ]
  },
  {
   "cell_type": "code",
   "execution_count": 58,
   "metadata": {
    "ExecuteTime": {
     "end_time": "2020-10-10T06:13:01.161492Z",
     "start_time": "2020-10-10T06:13:01.145479Z"
    }
   },
   "outputs": [
    {
     "name": "stdout",
     "output_type": "stream",
     "text": [
      "[1] 0.9329602\n"
     ]
    }
   ],
   "source": [
    "%%R\n",
    "\n",
    "x <- pnorm(3.1,3.04,0.04) - pnorm(2.9,3.04,0.04)\n",
    "print(x)\n"
   ]
  },
  {
   "cell_type": "markdown",
   "metadata": {
    "ExecuteTime": {
     "end_time": "2020-10-10T06:13:13.904811Z",
     "start_time": "2020-10-10T06:13:13.901808Z"
    }
   },
   "source": [
    "# 7. DEVORESTAT9 4.E.039.S.\n",
    "The defect length of a corrosion defect in a pressurized steel pipe is normally distributed with mean value 33 mm and standard deviation 7.9 mm.\n"
   ]
  },
  {
   "cell_type": "markdown",
   "metadata": {},
   "source": [
    "### (a) What is the probability that defect length is at most 20 mm? Less than 20 mm? (Round your answers to four decimal places.)"
   ]
  },
  {
   "cell_type": "code",
   "execution_count": 61,
   "metadata": {
    "ExecuteTime": {
     "end_time": "2020-10-10T06:22:37.599502Z",
     "start_time": "2020-10-10T06:22:37.585490Z"
    }
   },
   "outputs": [
    {
     "name": "stdout",
     "output_type": "stream",
     "text": [
      "[1] 0.0499262\n"
     ]
    }
   ],
   "source": [
    "%%R\n",
    "\n",
    "x <- pnorm(20,33 ,7.9)\n",
    "print(x)\n",
    "\n",
    "# y <- 1 - pnorm(20,33 ,7.9)\n",
    "# print(y)"
   ]
  },
  {
   "cell_type": "markdown",
   "metadata": {},
   "source": [
    "### (b) What is the 75th percentile of the defect length distribution—that is, the value that separates the smallest 75% of all lengths from the largest 25%? (Round your answer to four decimal places.)"
   ]
  },
  {
   "cell_type": "code",
   "execution_count": 65,
   "metadata": {
    "ExecuteTime": {
     "end_time": "2020-10-10T06:25:25.128583Z",
     "start_time": "2020-10-10T06:25:25.115571Z"
    }
   },
   "outputs": [
    {
     "name": "stdout",
     "output_type": "stream",
     "text": [
      "[1] 38.32847\n"
     ]
    }
   ],
   "source": [
    "%%R\n",
    "\n",
    "x <- qnorm(.75,33 ,7.9)\n",
    "print(x)"
   ]
  },
  {
   "cell_type": "markdown",
   "metadata": {},
   "source": [
    "### (c) What is the 15th percentile of the defect length distribution? (Round your answer to four decimal places.)"
   ]
  },
  {
   "cell_type": "code",
   "execution_count": 67,
   "metadata": {
    "ExecuteTime": {
     "end_time": "2020-10-10T06:32:14.159336Z",
     "start_time": "2020-10-10T06:32:14.143323Z"
    }
   },
   "outputs": [
    {
     "name": "stdout",
     "output_type": "stream",
     "text": [
      "[1] 24.81218\n"
     ]
    }
   ],
   "source": [
    "%%R\n",
    "\n",
    "x <- qnorm(.15,33 ,7.9)\n",
    "print(x)"
   ]
  },
  {
   "cell_type": "markdown",
   "metadata": {},
   "source": [
    "### (d) What values separate the middle 80% of the defect length distribution from the smallest 10% and the largest 10%? (Round your answers to four decimal places.)"
   ]
  },
  {
   "cell_type": "code",
   "execution_count": 73,
   "metadata": {
    "ExecuteTime": {
     "end_time": "2020-10-10T06:49:29.873712Z",
     "start_time": "2020-10-10T06:49:29.857699Z"
    }
   },
   "outputs": [
    {
     "name": "stdout",
     "output_type": "stream",
     "text": [
      "[1] 22.87574\n",
      "[1] 43.12426\n"
     ]
    }
   ],
   "source": [
    "%%R\n",
    "\n",
    "\n",
    "x <- qnorm(.10,33 ,7.9)\n",
    "print(x)\n",
    "\n",
    "\n",
    "y <- qnorm(1 - .10,33 ,7.9)\n",
    "print(y)\n",
    "\n",
    "\n"
   ]
  }
 ],
 "metadata": {
  "kernelspec": {
   "display_name": "Python 3.8.5 64-bit Anaconda (Only works with Anaconda's Jupyter)",
   "language": "python",
   "name": "python_3.8.5_64-bit_anaconda"
  },
  "language_info": {
   "codemirror_mode": {
    "name": "ipython",
    "version": 3
   },
   "file_extension": ".py",
   "mimetype": "text/x-python",
   "name": "python",
   "nbconvert_exporter": "python",
   "pygments_lexer": "ipython3",
   "version": "3.8.5"
  },
  "varInspector": {
   "cols": {
    "lenName": 16,
    "lenType": 16,
    "lenVar": 40
   },
   "kernels_config": {
    "python": {
     "delete_cmd_postfix": "",
     "delete_cmd_prefix": "del ",
     "library": "var_list.py",
     "varRefreshCmd": "print(var_dic_list())"
    },
    "r": {
     "delete_cmd_postfix": ") ",
     "delete_cmd_prefix": "rm(",
     "library": "var_list.r",
     "varRefreshCmd": "cat(var_dic_list()) "
    }
   },
   "types_to_exclude": [
    "module",
    "function",
    "builtin_function_or_method",
    "instance",
    "_Feature"
   ],
   "window_display": false
  }
 },
 "nbformat": 4,
 "nbformat_minor": 4
}

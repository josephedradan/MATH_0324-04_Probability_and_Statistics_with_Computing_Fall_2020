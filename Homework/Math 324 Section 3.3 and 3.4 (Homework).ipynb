{
 "cells": [
  {
   "cell_type": "code",
   "execution_count": 1,
   "metadata": {
    "ExecuteTime": {
     "end_time": "2020-09-27T03:00:43.675389Z",
     "start_time": "2020-09-27T03:00:42.975793Z"
    }
   },
   "outputs": [
    {
     "name": "stderr",
     "output_type": "stream",
     "text": [
      "C:\\Users\\Joseph\\anaconda3\\lib\\site-packages\\rpy2\\robjects\\packages.py:365: UserWarning: The symbol 'quartz' is not in this R namespace/package.\n",
      "  warnings.warn(\n"
     ]
    }
   ],
   "source": [
    "\"\"\"\n",
    "More on rpy2 options\n",
    "https://ipython.org/ipython-doc/2/config/extensions/rmagic.html\n",
    "\"\"\"\n",
    "import rpy2\n",
    "%load_ext rpy2.ipython"
   ]
  },
  {
   "cell_type": "markdown",
   "metadata": {},
   "source": [
    "# 1. DEVORESTAT9 3.E.032.\n",
    "An certain brand of upright freezer is available in three different rated capacities: 16 ft3, 18 ft3, and 20 ft3. Let X = the rated capacity of a freezer of this brand sold at a certain store. Suppose that X has the following pmf.\n",
    "\n",
    "<img src=\"images/3_3_and_3_4_problem_1.png\" alt=\"3_3_and_3_4_problem_1.png\" style=\"float:left;\">\n"
   ]
  },
  {
   "cell_type": "code",
   "execution_count": 2,
   "metadata": {
    "ExecuteTime": {
     "end_time": "2020-09-27T03:00:43.688400Z",
     "start_time": "2020-09-27T03:00:43.676391Z"
    }
   },
   "outputs": [
    {
     "data": {
      "text/html": [
       "<div>\n",
       "<style scoped>\n",
       "    .dataframe tbody tr th:only-of-type {\n",
       "        vertical-align: middle;\n",
       "    }\n",
       "\n",
       "    .dataframe tbody tr th {\n",
       "        vertical-align: top;\n",
       "    }\n",
       "\n",
       "    .dataframe thead th {\n",
       "        text-align: right;\n",
       "    }\n",
       "</style>\n",
       "<table border=\"1\" class=\"dataframe\">\n",
       "  <thead>\n",
       "    <tr style=\"text-align: right;\">\n",
       "      <th></th>\n",
       "      <th>x</th>\n",
       "      <th>p(x)</th>\n",
       "    </tr>\n",
       "  </thead>\n",
       "  <tbody>\n",
       "    <tr>\n",
       "      <th>1</th>\n",
       "      <td>16</td>\n",
       "      <td>0.1</td>\n",
       "    </tr>\n",
       "    <tr>\n",
       "      <th>2</th>\n",
       "      <td>18</td>\n",
       "      <td>0.4</td>\n",
       "    </tr>\n",
       "    <tr>\n",
       "      <th>3</th>\n",
       "      <td>20</td>\n",
       "      <td>0.5</td>\n",
       "    </tr>\n",
       "  </tbody>\n",
       "</table>\n",
       "</div>"
      ],
      "text/plain": [
       "    x     p(x)\n",
       "1  16    0.1  \n",
       "2  18    0.4  \n",
       "3  20    0.5  "
      ]
     },
     "execution_count": 2,
     "metadata": {},
     "output_type": "execute_result"
    }
   ],
   "source": [
    "import pandas as pd\n",
    "import numpy as np\n",
    "\n",
    "p1_string = \"\"\"x\t16\t18\t20\n",
    "p(x)    \t  0.1  \t  0.4  \t  0.5  \n",
    "\"\"\"\n",
    "p1_list_string = p1_string.split(\"\\n\")\n",
    "p1_list_list_string = [i.split(\"\\t\") for i in p1_list_string if i != \"\"]\n",
    "\n",
    "\n",
    "p1_np_array = np.array(p1_list_list_string)\n",
    "p1_np_array = p1_np_array.transpose()\n",
    "\n",
    "p1_pd_df = pd.DataFrame(p1_np_array)\n",
    "p1_pd_df = p1_pd_df.drop(p1_pd_df.index[0])  # Drop 0th row\n",
    "\n",
    "p1_pd_df.columns = [\"x\", \"p(x)\"]\n",
    "\n",
    "p1_pd_df"
   ]
  },
  {
   "cell_type": "markdown",
   "metadata": {},
   "source": [
    "### (a) Compute E(X), E(X2), and V(X)."
   ]
  },
  {
   "cell_type": "code",
   "execution_count": 3,
   "metadata": {
    "ExecuteTime": {
     "end_time": "2020-09-27T03:00:43.693404Z",
     "start_time": "2020-09-27T03:00:43.689401Z"
    }
   },
   "outputs": [
    {
     "name": "stdout",
     "output_type": "stream",
     "text": [
      "18.8\n",
      "355.2\n",
      "1.7600\n"
     ]
    }
   ],
   "source": [
    "#######################################\n",
    "# E(X)\n",
    "\n",
    "p1a_np_array = p1_pd_df.to_numpy()\n",
    "p1a_column_0 = p1a_np_array[:, 0].astype(int)\n",
    "p1a_column_1 = p1a_np_array[:, 1].astype(float)\n",
    "\n",
    "p1a_column_0_times_column_1 = p1a_column_0 * p1a_column_1\n",
    "\n",
    "p1a_E_of_X = p1a_column_0_times_column_1.sum()\n",
    "\n",
    "print(p1a_E_of_X)\n",
    "\n",
    "#######################################\n",
    "# E(X^2)\n",
    "\n",
    "p1a_column_0_squared = p1a_column_0 * p1a_column_0\n",
    "\n",
    "p1a_column_0_squared_times_column_1 = p1a_column_0_squared * p1a_column_1\n",
    "\n",
    "p1a_E_of_X_squared = p1a_column_0_squared_times_column_1.sum()\n",
    "\n",
    "print(p1a_E_of_X_squared)\n",
    "\n",
    "#######################################\n",
    "# V(X)\n",
    "\n",
    "p1a_square_E_of_X = p1a_E_of_X * p1a_E_of_X\n",
    "\n",
    "p1a_V_of_X = (p1a_E_of_X_squared - p1a_square_E_of_X).sum()\n",
    "\n",
    "print(f\"{p1a_V_of_X:.4f}\")"
   ]
  },
  {
   "cell_type": "markdown",
   "metadata": {},
   "source": [
    "### (b) If the price of a freezer having capacity X is 64X − 650, what is the expected price paid by the next customer to buy a freezer?\n"
   ]
  },
  {
   "cell_type": "code",
   "execution_count": 4,
   "metadata": {
    "ExecuteTime": {
     "end_time": "2020-09-27T03:00:43.699409Z",
     "start_time": "2020-09-27T03:00:43.694405Z"
    }
   },
   "outputs": [
    {
     "name": "stdout",
     "output_type": "stream",
     "text": [
      "553.2\n"
     ]
    }
   ],
   "source": [
    "p1b = 64 * p1a_E_of_X - 650\n",
    "\n",
    "print(p1b)"
   ]
  },
  {
   "cell_type": "markdown",
   "metadata": {},
   "source": [
    "### (c) What is the variance of the price paid by the next customer?\n"
   ]
  },
  {
   "cell_type": "code",
   "execution_count": 5,
   "metadata": {
    "ExecuteTime": {
     "end_time": "2020-09-27T03:00:43.705414Z",
     "start_time": "2020-09-27T03:00:43.700410Z"
    }
   },
   "outputs": [
    {
     "name": "stdout",
     "output_type": "stream",
     "text": [
      "7208.960\n"
     ]
    }
   ],
   "source": [
    "p1c = 64**2 * p1a_V_of_X\n",
    "print(f\"{p1c:.3f}\")"
   ]
  },
  {
   "cell_type": "markdown",
   "metadata": {},
   "source": [
    "### (d) Suppose that although the rated capacity of a freezer is X, the actual capacity is h(X) = X − 0.009X^2. What is the expected actual capacity of the freezer purchased by the next customer?"
   ]
  },
  {
   "cell_type": "code",
   "execution_count": 6,
   "metadata": {
    "ExecuteTime": {
     "end_time": "2020-09-27T03:00:43.711420Z",
     "start_time": "2020-09-27T03:00:43.706415Z"
    }
   },
   "outputs": [
    {
     "name": "stdout",
     "output_type": "stream",
     "text": [
      "15.6032\n"
     ]
    }
   ],
   "source": [
    "p1d = p1a_E_of_X - .009 * (p1a_E_of_X_squared)\n",
    "print(f\"{p1d:.4f}\")"
   ]
  },
  {
   "cell_type": "markdown",
   "metadata": {},
   "source": [
    "# 2.DEVORESTAT9 3.E.034.\n",
    "Suppose that the number of plants of a particular type found in a rectangular sampling region (called a quadrat by ecologists) in a certain geographic area is an rv X with pmf as follows.\n",
    "\n",
    "<img src=\"images/3_3_and_3_4_problem_2.png\" alt=\"3_3_and_3_4_problem_2.png\" style=\"float:left;\">"
   ]
  },
  {
   "cell_type": "markdown",
   "metadata": {
    "ExecuteTime": {
     "end_time": "2020-09-26T07:07:30.706993Z",
     "start_time": "2020-09-26T07:07:30.703991Z"
    }
   },
   "source": [
    "<img src=\"images/3_3_and_3_4_problem_2_solution.png\" alt=\"3_3_and_3_4_problem_2_solution.png\" style=\"float:left;\">"
   ]
  },
  {
   "cell_type": "code",
   "execution_count": 7,
   "metadata": {
    "ExecuteTime": {
     "end_time": "2020-09-27T03:00:43.717425Z",
     "start_time": "2020-09-27T03:00:43.713421Z"
    }
   },
   "outputs": [
    {
     "data": {
      "text/plain": [
       "'\\nUse integral test or Comparison test\\n'"
      ]
     },
     "execution_count": 7,
     "metadata": {},
     "output_type": "execute_result"
    }
   ],
   "source": [
    "\"\"\"\n",
    "Use integral test or Comparison test\n",
    "\"\"\""
   ]
  },
  {
   "cell_type": "markdown",
   "metadata": {},
   "source": [
    "# 3. DEVORESTAT9 3.E.038.\n",
    "Possible values of X, the number of components in a system submitted for repair that must be replaced, are 1, 2, 3, and 4 with corresponding probabilities 0.45, 0.05, 0.05, and 0.45, respectively.\n"
   ]
  },
  {
   "cell_type": "code",
   "execution_count": 8,
   "metadata": {
    "ExecuteTime": {
     "end_time": "2020-09-27T03:00:43.724431Z",
     "start_time": "2020-09-27T03:00:43.718425Z"
    }
   },
   "outputs": [
    {
     "data": {
      "text/plain": [
       "array([[1.  , 0.45],\n",
       "       [2.  , 0.05],\n",
       "       [3.  , 0.05],\n",
       "       [4.  , 0.45]])"
      ]
     },
     "execution_count": 8,
     "metadata": {},
     "output_type": "execute_result"
    }
   ],
   "source": [
    "import re\n",
    "p3_string = \"0.45, 0.05, 0.05, and 0.45\"\n",
    "\n",
    "p3_list_string = re.findall(r\"\\d+.\\d+\", p3_string)\n",
    "p3_list_num = [float(i) for i in p3_list_string]\n",
    "\n",
    "p3_np_array = np.array([list(range(1, len(p3_list_num) + 1)), p3_list_num])\n",
    "p3_np_array = p3_np_array.transpose()\n",
    "p3_np_array"
   ]
  },
  {
   "cell_type": "markdown",
   "metadata": {},
   "source": [
    "### (a) Calculate E(X) and then E(5 − X)."
   ]
  },
  {
   "cell_type": "code",
   "execution_count": 9,
   "metadata": {
    "ExecuteTime": {
     "end_time": "2020-09-27T03:00:43.729435Z",
     "start_time": "2020-09-27T03:00:43.725432Z"
    }
   },
   "outputs": [
    {
     "name": "stdout",
     "output_type": "stream",
     "text": [
      "2.5\n",
      "2.5\n"
     ]
    }
   ],
   "source": [
    "#######################################\n",
    "# E(X)\n",
    "p3a_column_0 = p3_np_array[:, 0].astype(int)\n",
    "p3a_column_1 = p3_np_array[:, 1].astype(float)\n",
    "\n",
    "p3a_column_0_times_column_1 = p3a_column_0 * p3a_column_1\n",
    "\n",
    "p3a_E_of_X = p3a_column_0_times_column_1.sum()\n",
    "\n",
    "print(p3a_E_of_X)\n",
    "\n",
    "#######################################\n",
    "# E(5 - X)\n",
    "\n",
    "p3a_5_minus_E_of_X = 5 - p3a_E_of_X\n",
    "\n",
    "print(p3a_5_minus_E_of_X)"
   ]
  },
  {
   "cell_type": "markdown",
   "metadata": {
    "ExecuteTime": {
     "end_time": "2020-09-26T02:52:25.279033Z",
     "start_time": "2020-09-26T02:52:25.276953Z"
    }
   },
   "source": [
    "### <p> (b) Would the repair facility be better off charging a flat fee of \\\\$95 or else the amount \\\\$[150 (5 − X)] ? <br />Note: It is not generally true that E(c/Y) = (c/E(Y)) .\n",
    "</p>"
   ]
  },
  {
   "cell_type": "code",
   "execution_count": 10,
   "metadata": {
    "ExecuteTime": {
     "end_time": "2020-09-27T03:00:43.739443Z",
     "start_time": "2020-09-27T03:00:43.730436Z"
    }
   },
   "outputs": [
    {
     "data": {
      "text/plain": [
       "90.625"
      ]
     },
     "execution_count": 10,
     "metadata": {},
     "output_type": "execute_result"
    }
   ],
   "source": [
    "p3b_column_0_with_function = list(map(lambda i: 150/(5-i), p3a_column_0))\n",
    "\n",
    "p3b_E_of_150_over_5_minus_x = (p3b_column_0_with_function * p3a_column_1).sum()\n",
    "p3b_E_of_150_over_5_minus_x"
   ]
  },
  {
   "cell_type": "markdown",
   "metadata": {},
   "source": [
    "### 4. DEVORESTAT9 3.E.039.\n",
    "A chemical supply company currently has in stock 100 lb of a certain chemical, which it sells to customers in 3-lb batches. Let X = the number of batches ordered by a randomly chosen customer, and suppose that X has the following pmf.\n",
    "\n",
    "<img src=\"images/3_3_and_3_4_problem_4.png\" alt=\"3_3_and_3_4_problem_4.png\" style=\"float:left;\">"
   ]
  },
  {
   "cell_type": "code",
   "execution_count": 11,
   "metadata": {
    "ExecuteTime": {
     "end_time": "2020-09-27T03:00:43.749452Z",
     "start_time": "2020-09-27T03:00:43.740446Z"
    }
   },
   "outputs": [
    {
     "data": {
      "text/html": [
       "<div>\n",
       "<style scoped>\n",
       "    .dataframe tbody tr th:only-of-type {\n",
       "        vertical-align: middle;\n",
       "    }\n",
       "\n",
       "    .dataframe tbody tr th {\n",
       "        vertical-align: top;\n",
       "    }\n",
       "\n",
       "    .dataframe thead th {\n",
       "        text-align: right;\n",
       "    }\n",
       "</style>\n",
       "<table border=\"1\" class=\"dataframe\">\n",
       "  <thead>\n",
       "    <tr style=\"text-align: right;\">\n",
       "      <th></th>\n",
       "      <th>x</th>\n",
       "      <th>p(x)</th>\n",
       "    </tr>\n",
       "  </thead>\n",
       "  <tbody>\n",
       "    <tr>\n",
       "      <th>1</th>\n",
       "      <td>1</td>\n",
       "      <td>0.3</td>\n",
       "    </tr>\n",
       "    <tr>\n",
       "      <th>2</th>\n",
       "      <td>2</td>\n",
       "      <td>0.5</td>\n",
       "    </tr>\n",
       "    <tr>\n",
       "      <th>3</th>\n",
       "      <td>3</td>\n",
       "      <td>0.1</td>\n",
       "    </tr>\n",
       "    <tr>\n",
       "      <th>4</th>\n",
       "      <td>4</td>\n",
       "      <td>0.1</td>\n",
       "    </tr>\n",
       "  </tbody>\n",
       "</table>\n",
       "</div>"
      ],
      "text/plain": [
       "   x     p(x)\n",
       "1  1    0.3  \n",
       "2  2    0.5  \n",
       "3  3    0.1  \n",
       "4  4     0.1 "
      ]
     },
     "execution_count": 11,
     "metadata": {},
     "output_type": "execute_result"
    }
   ],
   "source": [
    "p4_string = \"\"\"x\t1\t2\t3\t4\n",
    "p(x)    \t  0.3  \t  0.5  \t  0.1  \t  0.1 \"\"\"\n",
    "\n",
    "p4_list_string = p4_string.split(\"\\n\")\n",
    "p4_list_list_string = [i.split(\"\\t\") for i in p4_list_string]\n",
    "p4_list_list_string\n",
    "\n",
    "p4_np_array = np.array(p4_list_list_string)\n",
    "p4_np_array = p4_np_array.transpose()\n",
    "\n",
    "p4_pd_df = pd.DataFrame(p4_np_array)\n",
    "p4_pd_df = p4_pd_df.drop(p4_pd_df.index[0])  # Drop 0th row\n",
    "\n",
    "p4_pd_df.columns = [\"x\", \"p(x)\"]\n",
    "\n",
    "\n",
    "p4_np_array = p4_pd_df.to_numpy()\n",
    "\n",
    "p4_column_0 = p4_np_array[:, 0].astype(int)\n",
    "p4_column_1 = p4_np_array[:, 1].astype(float)\n",
    "\n",
    "# print(p4_np_array)\n",
    "\n",
    "p4_pd_df"
   ]
  },
  {
   "cell_type": "markdown",
   "metadata": {},
   "source": [
    "#### Compute E(X) and V(X)."
   ]
  },
  {
   "cell_type": "code",
   "execution_count": 12,
   "metadata": {
    "ExecuteTime": {
     "end_time": "2020-09-27T03:00:43.753455Z",
     "start_time": "2020-09-27T03:00:43.750453Z"
    }
   },
   "outputs": [
    {
     "name": "stdout",
     "output_type": "stream",
     "text": [
      "2.000\n",
      "0.800\n"
     ]
    }
   ],
   "source": [
    "# def get_E_of_X_naive(array_1, array_2):\n",
    "#     mulitiplication_straight = array_1 * array_2\n",
    "#     return mulitiplication_straight.sum()\n",
    "\n",
    "\n",
    "# def get_V_of_X_naive(sum_1, sum_2):\n",
    "#     value = sum_1 - sum_2**2\n",
    "#     return value\n",
    "\n",
    "p4_E_of_X = (p4_column_0 * p4_column_1).sum()\n",
    "\n",
    "p4_E_of_X_squared = (p4_column_0**2 * p4_column_1).sum()\n",
    "\n",
    "p4_squared_E_of_X = p4_E_of_X ** 2\n",
    "\n",
    "\n",
    "print(f\"{p4_E_of_X:.3f}\")\n",
    "\n",
    "p4_V_of_X = p4_E_of_X_squared - p4_squared_E_of_X\n",
    "\n",
    "print(f\"{p4_V_of_X:.3f}\")"
   ]
  },
  {
   "cell_type": "markdown",
   "metadata": {
    "ExecuteTime": {
     "end_time": "2020-09-26T03:32:39.647591Z",
     "start_time": "2020-09-26T03:32:39.646591Z"
    }
   },
   "source": [
    "#### Compute the expected number of pounds left after the next customer's order is shipped and the variance of the number of pounds left. [Hint: The number of pounds left is a linear function of X.]"
   ]
  },
  {
   "cell_type": "code",
   "execution_count": 13,
   "metadata": {
    "ExecuteTime": {
     "end_time": "2020-09-27T03:00:43.759461Z",
     "start_time": "2020-09-27T03:00:43.754456Z"
    }
   },
   "outputs": [
    {
     "name": "stdout",
     "output_type": "stream",
     "text": [
      "94.000\n",
      "7.200\n"
     ]
    }
   ],
   "source": [
    "# Equation given 100 - 3 * x\n",
    "p4_weight_left_column_0 = np.array(\n",
    "    list(map(lambda x: 100 - 3 * x, p4_column_0)))\n",
    "\n",
    "p4_weight_left_E_of_X = (p4_weight_left_column_0 * p4_column_1).sum()\n",
    "\n",
    "print(f\"{p4_weight_left_E_of_X:.3f}\")\n",
    "\n",
    "# Can take out 3 then apply ^2 to it\n",
    "p4_weight_left_V_of_X = 3**2 * p4_V_of_X  \n",
    "print(f\"{p4_weight_left_V_of_X:.3f}\")"
   ]
  },
  {
   "cell_type": "markdown",
   "metadata": {
    "ExecuteTime": {
     "end_time": "2020-09-26T03:47:26.370319Z",
     "start_time": "2020-09-26T03:47:26.368317Z"
    }
   },
   "source": [
    "# 5. DEVORESTAT9 3.E.047.S.\n",
    "An article reported that 6 in 10 auto accidents involve a single vehicle (the article recommended always reporting to the insurance company an accident involving multiple vehicles). Suppose 20 accidents are randomly selected. Use Appendix Table A.1 or SALT to answer each of the following questions. (Round your answers to three decimal places.)\n"
   ]
  },
  {
   "cell_type": "code",
   "execution_count": 14,
   "metadata": {
    "ExecuteTime": {
     "end_time": "2020-09-27T03:00:43.765465Z",
     "start_time": "2020-09-27T03:00:43.760461Z"
    }
   },
   "outputs": [],
   "source": [
    "\"\"\"\n",
    "pbinom is left tail NOT RIGHT TAIL\n",
    "pbinom is also inclusive for first parameter\n",
    "\n",
    "\"\"\"\n",
    "p5_prob_auto_accidents = .6\n",
    "p5_accidents_randomly_selected = 20"
   ]
  },
  {
   "cell_type": "markdown",
   "metadata": {},
   "source": [
    "### (a) What is the probability that at most 8 involve a single vehicle?"
   ]
  },
  {
   "cell_type": "code",
   "execution_count": 15,
   "metadata": {
    "ExecuteTime": {
     "end_time": "2020-09-27T03:00:43.808502Z",
     "start_time": "2020-09-27T03:00:43.766467Z"
    }
   },
   "outputs": [
    {
     "name": "stdout",
     "output_type": "stream",
     "text": [
      "[1] 0.05652637\n"
     ]
    }
   ],
   "source": [
    "%%R -i p5_prob_auto_accidents -i p5_accidents_randomly_selected\n",
    "\n",
    "# pbinom(8, 20, .6)\n",
    "pbinom(8, p5_accidents_randomly_selected, p5_prob_auto_accidents)"
   ]
  },
  {
   "cell_type": "markdown",
   "metadata": {},
   "source": [
    "### (b) What is the probability that exactly 8 involve a single vehicle?"
   ]
  },
  {
   "cell_type": "code",
   "execution_count": 16,
   "metadata": {
    "ExecuteTime": {
     "end_time": "2020-09-27T03:00:43.821514Z",
     "start_time": "2020-09-27T03:00:43.809503Z"
    }
   },
   "outputs": [
    {
     "name": "stdout",
     "output_type": "stream",
     "text": [
      "[1] 0.03549744\n"
     ]
    }
   ],
   "source": [
    "%%R -i p5_prob_auto_accidents -i p5_accidents_randomly_selected\n",
    "\n",
    "# pbinom(8, 20, .6) - pbinom(7, 20, .6)\n",
    "pbinom(8, p5_accidents_randomly_selected, p5_prob_auto_accidents) - pbinom(7, p5_accidents_randomly_selected, p5_prob_auto_accidents)"
   ]
  },
  {
   "cell_type": "markdown",
   "metadata": {
    "ExecuteTime": {
     "end_time": "2020-09-26T07:15:46.890280Z",
     "start_time": "2020-09-26T07:15:46.888278Z"
    }
   },
   "source": [
    "### (c) What is the probability that exactly 10 involve multiple vehicles?"
   ]
  },
  {
   "cell_type": "code",
   "execution_count": 17,
   "metadata": {
    "ExecuteTime": {
     "end_time": "2020-09-27T03:00:43.836526Z",
     "start_time": "2020-09-27T03:00:43.822514Z"
    }
   },
   "outputs": [
    {
     "name": "stdout",
     "output_type": "stream",
     "text": [
      "[1] 0.1171416\n"
     ]
    }
   ],
   "source": [
    "%%R -i p5_prob_auto_accidents -i p5_accidents_randomly_selected\n",
    "\n",
    "# pbinom(10, 20, .6) - pbinom(9, 20, .6)\n",
    "pbinom(10, p5_accidents_randomly_selected, p5_prob_auto_accidents) - pbinom(9, p5_accidents_randomly_selected, p5_prob_auto_accidents)"
   ]
  },
  {
   "cell_type": "markdown",
   "metadata": {},
   "source": [
    "### (d) What is the probability that between 5 and 8, inclusive, involve a single vehicle?"
   ]
  },
  {
   "cell_type": "code",
   "execution_count": 18,
   "metadata": {
    "ExecuteTime": {
     "end_time": "2020-09-27T03:00:43.851540Z",
     "start_time": "2020-09-27T03:00:43.837527Z"
    }
   },
   "outputs": [
    {
     "name": "stdout",
     "output_type": "stream",
     "text": [
      "[1] 0.05620934\n"
     ]
    }
   ],
   "source": [
    "%%R -i p5_prob_auto_accidents -i p5_accidents_randomly_selected\n",
    "\n",
    "# pbinom(8, 20, .6) - pbinom(4, 20, .6)\n",
    "pbinom(8, p5_accidents_randomly_selected, p5_prob_auto_accidents) - pbinom(4, p5_accidents_randomly_selected, p5_prob_auto_accidents)"
   ]
  },
  {
   "cell_type": "markdown",
   "metadata": {
    "ExecuteTime": {
     "end_time": "2020-09-26T07:16:04.488401Z",
     "start_time": "2020-09-26T07:16:04.486399Z"
    }
   },
   "source": [
    "### (e) What is the probability that at least 5 involve a single vehicle?"
   ]
  },
  {
   "cell_type": "code",
   "execution_count": 19,
   "metadata": {
    "ExecuteTime": {
     "end_time": "2020-09-27T03:00:43.866552Z",
     "start_time": "2020-09-27T03:00:43.852540Z"
    }
   },
   "outputs": [
    {
     "name": "stdout",
     "output_type": "stream",
     "text": [
      "[1] 0.999683\n",
      "[1] 0.999683\n"
     ]
    }
   ],
   "source": [
    "%%R -i p5_prob_auto_accidents -i p5_accidents_randomly_selected\n",
    "\n",
    "# print(1 - pbinom(4, 20, .6))\n",
    "print(1 - pbinom(4, p5_accidents_randomly_selected, p5_prob_auto_accidents))\n",
    "\n",
    "# Or\n",
    "\n",
    "# print(pbinom(4, 20, .6, lower.tail=FALSE))\n",
    "print(pbinom(4, p5_accidents_randomly_selected, p5_prob_auto_accidents, lower.tail=FALSE))"
   ]
  },
  {
   "cell_type": "markdown",
   "metadata": {
    "ExecuteTime": {
     "end_time": "2020-09-26T07:16:14.595473Z",
     "start_time": "2020-09-26T07:16:14.593470Z"
    }
   },
   "source": [
    "### (f) What is the probability that exactly 8 involve a single vehicle and the other 12 involve multiple vehicles?"
   ]
  },
  {
   "cell_type": "code",
   "execution_count": 20,
   "metadata": {
    "ExecuteTime": {
     "end_time": "2020-09-27T03:00:43.879563Z",
     "start_time": "2020-09-27T03:00:43.866552Z"
    }
   },
   "outputs": [
    {
     "name": "stdout",
     "output_type": "stream",
     "text": [
      "[1] 0.03549744\n"
     ]
    }
   ],
   "source": [
    "%%R -i p5_prob_auto_accidents -i p5_accidents_randomly_selected\n",
    "\n",
    "# 8 is inside 12 so it's just 5b\n",
    "pbinom(8, p5_accidents_randomly_selected, p5_prob_auto_accidents) - pbinom(7, p5_accidents_randomly_selected, p5_prob_auto_accidents)"
   ]
  },
  {
   "cell_type": "markdown",
   "metadata": {},
   "source": [
    "# 6. DEVORESTAT9 3.E.051.S.\n",
    "A particular telephone number is used to receive both voice calls and fax messages. Suppose that 20% of the incoming calls involve fax messages, and consider a sample of 20 incoming calls.\n"
   ]
  },
  {
   "cell_type": "code",
   "execution_count": 21,
   "metadata": {
    "ExecuteTime": {
     "end_time": "2020-09-27T03:00:43.882566Z",
     "start_time": "2020-09-27T03:00:43.880564Z"
    }
   },
   "outputs": [],
   "source": [
    "p6_percent_incoming_calls_fax = .20\n",
    "p6_sample_incoming_calls = 20"
   ]
  },
  {
   "cell_type": "markdown",
   "metadata": {},
   "source": [
    "### (a) What is the expected number of calls among the 20 that involve a fax message?"
   ]
  },
  {
   "cell_type": "code",
   "execution_count": 22,
   "metadata": {
    "ExecuteTime": {
     "end_time": "2020-09-27T03:00:43.888570Z",
     "start_time": "2020-09-27T03:00:43.884567Z"
    }
   },
   "outputs": [
    {
     "name": "stdout",
     "output_type": "stream",
     "text": [
      "p6a_E_of_X=4.00\n"
     ]
    }
   ],
   "source": [
    "# 20 * .20\n",
    "p6a_E_of_X = p6_percent_incoming_calls_fax * p6_sample_incoming_calls\n",
    "print(f\"{p6a_E_of_X=:.2f}\")"
   ]
  },
  {
   "cell_type": "markdown",
   "metadata": {
    "ExecuteTime": {
     "end_time": "2020-09-26T07:21:54.318869Z",
     "start_time": "2020-09-26T07:21:54.316868Z"
    }
   },
   "source": [
    "### (b) What is the standard deviation of the number among the 20 calls that involve a fax message? (Round your answer to three decimal places.)"
   ]
  },
  {
   "cell_type": "code",
   "execution_count": 23,
   "metadata": {
    "ExecuteTime": {
     "end_time": "2020-09-27T03:00:43.892574Z",
     "start_time": "2020-09-27T03:00:43.889571Z"
    }
   },
   "outputs": [
    {
     "name": "stdout",
     "output_type": "stream",
     "text": [
      "p6b_standard_deviation=1.789\n"
     ]
    }
   ],
   "source": [
    "# 20 * .20 * .80\n",
    "p6b_V_of_X = p6a_E_of_X * (1 - p6_percent_incoming_calls_fax)\n",
    "\n",
    "p6b_standard_deviation = p6b_V_of_X**(1/2)\n",
    "print(f\"{p6b_standard_deviation=:.3f}\")"
   ]
  },
  {
   "cell_type": "markdown",
   "metadata": {},
   "source": [
    "### (c) What is the probability that the number of calls among the 20 that involve a fax transmission exceeds the expected number by more than 2 standard deviations? (Round your answer to three decimal places.)\n"
   ]
  },
  {
   "cell_type": "code",
   "execution_count": 24,
   "metadata": {
    "ExecuteTime": {
     "end_time": "2020-09-27T03:00:43.897578Z",
     "start_time": "2020-09-27T03:00:43.892574Z"
    },
    "scrolled": true
   },
   "outputs": [
    {
     "name": "stdout",
     "output_type": "stream",
     "text": [
      "p6c_2_std=3.578\n",
      "p6c_std_lowerbound=-0.422\n",
      "p6c_std_upperbound=7.578\n",
      "\n",
      "p6c_std_lowerbound_round=-1.000\n",
      "p6c_std_upperbound_round=7.000\n"
     ]
    }
   ],
   "source": [
    "import math\n",
    "p6c_2_std = 2 * p6b_standard_deviation\n",
    "\n",
    "p6c_std_lowerbound = p6c_2_std - p6a_E_of_X\n",
    "p6c_std_upperbound = p6c_2_std + p6a_E_of_X\n",
    "\n",
    "print(f\"{p6c_2_std=:.3f}\")\n",
    "print(f\"{p6c_std_lowerbound=:.3f}\")\n",
    "print(f\"{p6c_std_upperbound=:.3f}\")\n",
    "print()\n",
    "\n",
    "p6c_std_lowerbound_round = math.floor(p6c_std_lowerbound)\n",
    "p6c_std_upperbound_round = math.floor(p6c_std_upperbound)\n",
    "\n",
    "print(f\"{p6c_std_lowerbound_round=:.3f}\")\n",
    "print(f\"{p6c_std_upperbound_round=:.3f}\")"
   ]
  },
  {
   "cell_type": "code",
   "execution_count": 43,
   "metadata": {
    "ExecuteTime": {
     "end_time": "2020-09-27T04:08:30.353800Z",
     "start_time": "2020-09-27T04:08:30.342791Z"
    },
    "scrolled": false
   },
   "outputs": [
    {
     "name": "stdout",
     "output_type": "stream",
     "text": [
      "[1] 0.03214266\n"
     ]
    }
   ],
   "source": [
    "%%R -i p6c_std_lowerbound_round -i p6c_std_upperbound_round\n",
    "\n",
    "# 1 - pbinom(7,20,.2) - pbinom(-1,20,.20)\n",
    "p6c_solution <- 1 - pbinom(7, 20, .2) - pbinom(-1, 20, .20)\n",
    "print(p6c_solution)\n"
   ]
  },
  {
   "cell_type": "markdown",
   "metadata": {
    "ExecuteTime": {
     "end_time": "2020-09-26T05:28:40.265175Z",
     "start_time": "2020-09-26T05:28:40.264175Z"
    }
   },
   "source": [
    "# 7. DEVORESTAT9 3.E.052.S.\n",
    "Suppose that 30% of all students who have to buy a text for a particular course want a new copy (the successes!), whereas the other 70% want a used copy. Consider randomly selecting 15 purchasers."
   ]
  },
  {
   "cell_type": "code",
   "execution_count": 26,
   "metadata": {
    "ExecuteTime": {
     "end_time": "2020-09-27T03:00:43.913592Z",
     "start_time": "2020-09-27T03:00:43.910589Z"
    }
   },
   "outputs": [],
   "source": [
    "p7_percent_new_copy = .30\n",
    "p7_percent_old_copy = 1 - p7_percent_new_copy\n",
    "\n",
    "p7_randomly_select_purchasers = 15"
   ]
  },
  {
   "cell_type": "code",
   "execution_count": 27,
   "metadata": {
    "ExecuteTime": {
     "end_time": "2020-09-27T03:00:43.918596Z",
     "start_time": "2020-09-27T03:00:43.914593Z"
    },
    "scrolled": true
   },
   "outputs": [
    {
     "name": "stdout",
     "output_type": "stream",
     "text": [
      "1.7748239349298849\n",
      "8.04964786985977\n",
      "0.9503521301402302\n"
     ]
    }
   ],
   "source": [
    "p7_mean = 15 * .3\n",
    "\n",
    "\n",
    "p7_std = (15*.3*.7)**(1/2)\n",
    "print(p7_std)\n",
    "\n",
    "p7b1 = p7_mean + (2 * p7_std)\n",
    "p7b2 = p7_mean - (2 * p7_std)\n",
    "\n",
    "print(p7b1)\n",
    "print(p7b2)\n",
    "# 1 to 8"
   ]
  },
  {
   "cell_type": "markdown",
   "metadata": {},
   "source": [
    "### (a) What are the mean value and standard deviation of the number who want a new copy of the book? (Round your standard deviation to two decimal places.)"
   ]
  },
  {
   "cell_type": "code",
   "execution_count": 33,
   "metadata": {
    "ExecuteTime": {
     "end_time": "2020-09-27T03:53:48.052846Z",
     "start_time": "2020-09-27T03:53:48.049844Z"
    }
   },
   "outputs": [
    {
     "name": "stdout",
     "output_type": "stream",
     "text": [
      "p7a_mean=4.5\n",
      "p7a_standard_deviation=1.7748239349298849\n"
     ]
    }
   ],
   "source": [
    "# p7_mean = 15 * .3\n",
    "p7a_mean = p7_randomly_select_purchasers * p7_percent_new_copy\n",
    "\n",
    "print(f\"{p7a_mean=}\")\n",
    "\n",
    "#######################################\n",
    "\n",
    "# p7_standard_deviation = sqrt(15 * .3 * .7)\n",
    "p7a_standard_deviation = (p7_mean * p7_percent_old_copy)**(1/2)\n",
    "\n",
    "print(f\"{p7a_standard_deviation=}\")"
   ]
  },
  {
   "cell_type": "markdown",
   "metadata": {},
   "source": [
    "### (b) What is the probability that the number who want new copies is more than two standard deviations away from the mean value? (Round your answer to three decimal places.)"
   ]
  },
  {
   "cell_type": "code",
   "execution_count": 42,
   "metadata": {
    "ExecuteTime": {
     "end_time": "2020-09-27T04:07:34.834971Z",
     "start_time": "2020-09-27T04:07:34.831968Z"
    }
   },
   "outputs": [
    {
     "name": "stdout",
     "output_type": "stream",
     "text": [
      "0.9503521301402302\n",
      "8.04964786985977\n",
      "\n",
      "0\n",
      "8\n"
     ]
    }
   ],
   "source": [
    "\"\"\"\n",
    "https://www.youtube.com/watch?v=bLEnbJac5Ns\n",
    "\"\"\"\n",
    "# E(X) - (2 * SD)\n",
    "p7b_std_lowerbound = p7_mean - 2 * p7a_standard_deviation\n",
    "\n",
    "# E(X) + (2 * SD)\n",
    "p7b_std_upperbound = p7_mean + 2 * p7a_standard_deviation\n",
    "\n",
    "print(p7b_std_lowerbound)\n",
    "print(p7b_std_upperbound)\n",
    "print()\n",
    "\n",
    "p7b_std_lowerbound_round = math.floor(p7b_std_lowerbound)  # Floor\n",
    "p7b_std_upperbound_round = math.floor(p7b_std_upperbound)  # Floor\n",
    "\n",
    "print(p7b_std_lowerbound_round)\n",
    "print(p7b_std_upperbound_round)"
   ]
  },
  {
   "cell_type": "code",
   "execution_count": 45,
   "metadata": {
    "ExecuteTime": {
     "end_time": "2020-09-27T04:09:31.121030Z",
     "start_time": "2020-09-27T04:09:31.108019Z"
    }
   },
   "outputs": [
    {
     "name": "stdout",
     "output_type": "stream",
     "text": [
      "[1] 0.01999009\n"
     ]
    }
   ],
   "source": [
    "%%R -i p7b_std_lowerbound_round -i p7b_std_upperbound_round -i p7_percent_new_copy -i p7_randomly_select_purchasers\n",
    "\n",
    "# Right side\n",
    "# 1 - pbinom(8,15,.3)\n",
    "\n",
    "# Left side\n",
    "# pbinom(0,15,.3)\n",
    "\n",
    "\n",
    "# 1 - pbinom(8,15,.3) + pbinom(0,15,.3)\n",
    "p7b_solution <- 1 - pbinom(8,15,.3) + pbinom(0,15,.3) # why + ????????\n",
    "\n",
    "print(p7b_solution)"
   ]
  },
  {
   "cell_type": "markdown",
   "metadata": {},
   "source": [
    "### (c) The bookstore has 10 new copies and 10 used copies in stock. If 15 people come in one by one to purchase this text, what is the probability that all 15 will get the type of book they want from current stock? [Hint: Let X = the number who want a new copy. For what values of X will all 15 get what they want?] (Round your answer to three decimal places.)"
   ]
  },
  {
   "cell_type": "code",
   "execution_count": 32,
   "metadata": {
    "ExecuteTime": {
     "end_time": "2020-09-27T03:14:05.752004Z",
     "start_time": "2020-09-27T03:14:05.750002Z"
    }
   },
   "outputs": [],
   "source": [
    "p7c_new_copies = 10\n",
    "p7c_used_copies = 10\n",
    "p7c_people_come_in = 15"
   ]
  },
  {
   "cell_type": "code",
   "execution_count": null,
   "metadata": {},
   "outputs": [],
   "source": [
    "\"\"\"\n",
    "Summation from 5 to 10 of nCr(15,n)(.3)^(n)*(.7)^(15-n)\n",
    "\"\"\"\n",
    "\n",
    "0.48383670670335"
   ]
  },
  {
   "cell_type": "code",
   "execution_count": null,
   "metadata": {},
   "outputs": [],
   "source": [
    "\"\"\"\n",
    "https://www.youtube.com/watch?v=bLEnbJac5Ns\n",
    "\n",
    "number of people who want New copies is x <= 10\n",
    "number of people who want Used copies 15 - x <= 10\n",
    "So \n",
    "x >= 5 (based on the above)\n",
    "\n",
    "Therefore 5 <= x <= 10\n",
    "P(5 <= x <= 10)\n",
    "\n",
    "YOU NEED TO INCLUDE 5 SO YOU USE 4 INSTEAD\n",
    "\n",
    "So \n",
    "pbinom(10,15,.3) - pbinom(4,15,.3)\n",
    "\n",
    "\"\"\""
   ]
  },
  {
   "cell_type": "code",
   "execution_count": 46,
   "metadata": {
    "ExecuteTime": {
     "end_time": "2020-09-27T04:28:46.915081Z",
     "start_time": "2020-09-27T04:28:46.902067Z"
    }
   },
   "outputs": [
    {
     "name": "stdout",
     "output_type": "stream",
     "text": [
      "[1] 0.4838367\n"
     ]
    }
   ],
   "source": [
    "%%R -i p7_percent_new_copy -i p7c_people_come_in\n",
    "\n",
    "p7c_solution <- pbinom(10,15,.3) - pbinom(4,15,.3)\n",
    "\n",
    "print(p7c_solution)"
   ]
  },
  {
   "cell_type": "markdown",
   "metadata": {},
   "source": [
    "### (d) Suppose that new copies cost \\\\$140 and used copies cost \\\\$90. Assume the bookstore currently has 50 new copies and 50 used copies. What is the expected value of total revenue from the sale of the next 15 copies purchased? [Hint: Let h(X) = the revenue when X of the 15 purchasers want new copies. Express this as a linear function.]"
   ]
  },
  {
   "cell_type": "code",
   "execution_count": null,
   "metadata": {},
   "outputs": [],
   "source": [
    "p7d_new_copies_cost = 140\n",
    "p7d_new_used_cost = 90\n",
    "\n",
    "p7d_amount_used_copies = 50\n",
    "p7d_amount_new_copies = 50\n",
    "\n",
    "p7d_purchasers_want_new_copies = 15"
   ]
  },
  {
   "cell_type": "code",
   "execution_count": 49,
   "metadata": {
    "ExecuteTime": {
     "end_time": "2020-09-27T04:41:45.375451Z",
     "start_time": "2020-09-27T04:41:45.373449Z"
    }
   },
   "outputs": [],
   "source": [
    "\"\"\"\n",
    "https://www.youtube.com/watch?v=bLEnbJac5Ns\n",
    "\n",
    "x = amount of people buying\n",
    "\n",
    "total rev = 140x + 90 * (15 - x)\n",
    "\n",
    "\n",
    "p7a_mean = E(x) = 4.5\n",
    "\n",
    "E(total rev) = E(140x + 90(15-x))\n",
    "E(total rev) = E(140x + 1350 - 90x))\n",
    "E(total rev) = E(50x + 1350)\n",
    "E(total rev) = 50*E(x) + 1350\n",
    "E(total rev) = 50 * (4.5) + 1350\n",
    "E(total rev) = 1575\n",
    "\n",
    "\"\"\"\n",
    "print(end=\"\")\n"
   ]
  },
  {
   "cell_type": "markdown",
   "metadata": {},
   "source": [
    "#### Indicate what rule of expected value you are using."
   ]
  },
  {
   "cell_type": "markdown",
   "metadata": {},
   "source": [
    "<img src=\"images/3_3_and_3_4_problem_7d_solution.png\" alt=\"3_3_and_3_4_problem_7d_solution.png\" style=\"float:left;\">"
   ]
  },
  {
   "cell_type": "markdown",
   "metadata": {
    "ExecuteTime": {
     "end_time": "2020-09-26T05:46:38.633150Z",
     "start_time": "2020-09-26T05:46:38.631149Z"
    }
   },
   "source": [
    "# 8. EVORESTAT9 3.E.056.S. \n",
    "Suppose that 3% of the 2 million high school students who take the SAT each year receive special accommodations because of documented disabilities. Consider a random sample of 35 students who have recently taken the test. (Round your probabilities to three decimal places.)"
   ]
  },
  {
   "cell_type": "markdown",
   "metadata": {},
   "source": [
    "### (a) What is the probability that exactly 1 received a special accommodation?"
   ]
  },
  {
   "cell_type": "code",
   "execution_count": 52,
   "metadata": {
    "ExecuteTime": {
     "end_time": "2020-09-27T04:57:43.860398Z",
     "start_time": "2020-09-27T04:57:43.857395Z"
    },
    "scrolled": true
   },
   "outputs": [
    {
     "name": "stdout",
     "output_type": "stream",
     "text": [
      "0.3727591082674562\n"
     ]
    }
   ],
   "source": [
    "\"\"\"\n",
    "# LOOK AT NOTES OR capture4 problem 8 3.3 3.4\n",
    "\n",
    "P(x=1)\n",
    "\n",
    "(35 Choose 1) * (.03)^1 * (1 - .03)^(35-1)\n",
    "\"\"\"\n",
    "\n",
    "p8a_p_of_x_equal_1 = 35 * (.03)**1 * (1-.03)**(35-1)\n",
    "\n",
    "\n",
    "\n",
    "\n",
    "print(p8a)"
   ]
  },
  {
   "cell_type": "markdown",
   "metadata": {},
   "source": [
    "### (b) What is the probability that at least 1 received a special accommodation?"
   ]
  },
  {
   "cell_type": "code",
   "execution_count": 51,
   "metadata": {
    "ExecuteTime": {
     "end_time": "2020-09-27T04:57:29.383587Z",
     "start_time": "2020-09-27T04:57:29.380584Z"
    }
   },
   "outputs": [
    {
     "name": "stdout",
     "output_type": "stream",
     "text": [
      "0.6556415856957786\n"
     ]
    }
   ],
   "source": [
    "\"\"\"\n",
    "# LOOK AT NOTES OR capture4 problem 8 3.3 3.4\n",
    "\n",
    "P(x>=1) = 1 - P(x=0)\n",
    "\n",
    "1 - p(x=0)\n",
    "\n",
    "\"\"\"\n",
    "p8b_p_of_x_equal_0 =  (1 * (.03)**(0)*(1-.03)**(35))\n",
    "\n",
    "# 1 - (35 Choose 1) * (.03)^1 * (1 - .03)^(35-1)\n",
    "\n",
    "p8b = 1 -p8b_p_of_x_equal_0\n",
    "\n",
    "print(p8b)"
   ]
  },
  {
   "cell_type": "markdown",
   "metadata": {},
   "source": [
    "### (c) What is the probability that at least 2 received a special accommodation?"
   ]
  },
  {
   "cell_type": "code",
   "execution_count": 53,
   "metadata": {
    "ExecuteTime": {
     "end_time": "2020-09-27T04:58:04.179799Z",
     "start_time": "2020-09-27T04:58:04.176796Z"
    },
    "scrolled": true
   },
   "outputs": [
    {
     "name": "stdout",
     "output_type": "stream",
     "text": [
      "0.2828824774283224\n"
     ]
    }
   ],
   "source": [
    "\"\"\"\n",
    "1 - (p(x=0) + p(x=1))\n",
    "\n",
    "\n",
    "\n",
    "\"\"\"\n",
    "\n",
    "p8c = 1 - (p8b_p_of_x_equal_0 + p8a_p_of_x_equal_1)\n",
    "\n",
    "\n",
    "print(p8c)"
   ]
  },
  {
   "cell_type": "markdown",
   "metadata": {},
   "source": [
    "### (d) What is the probability that the number among the 35 who received a special accommodation is within 2 standard deviations of the number you would expect to be accommodated?"
   ]
  },
  {
   "cell_type": "code",
   "execution_count": 72,
   "metadata": {
    "ExecuteTime": {
     "end_time": "2020-09-27T05:26:50.387942Z",
     "start_time": "2020-09-27T05:26:50.382939Z"
    }
   },
   "outputs": [
    {
     "name": "stdout",
     "output_type": "stream",
     "text": [
      "variance\n",
      "1.0185\n",
      "\n",
      "std\n",
      "1.0092076099594176\n",
      "\n",
      "2std\n",
      "2.018415219918835\n",
      "\n",
      "bounds\n",
      "-0.9684152199188352\n",
      "3.068415219918835\n",
      "\n",
      "-1\n",
      "3\n"
     ]
    }
   ],
   "source": [
    "\"\"\"\n",
    "d\n",
    "pbinom(3, 35, .03) - pbinom(-1, 35, .03)\n",
    "\n",
    "\n",
    "E(x) = np = 35 * .03 = 1.05\n",
    "V(x) = npq = 35 * .03 * .07 = 1.0185\n",
    "\n",
    "std = sqrt( V(x) ) = .27110 \n",
    "\n",
    "2 * std = .54221\n",
    "\n",
    "E(|x - mu| > 2 * std )\n",
    "\n",
    "\"\"\"\n",
    "p8_random_sample = 35\n",
    "p8_prob_recieve_special_accommodations = .03\n",
    "p8_prob_recieve_special_accommodations_not = (1 -\n",
    "                                               p8d_prob_recieve_special_accommodations)\n",
    "\n",
    "# 34 * .03\n",
    "p8d_E_of_x = p8_random_sample * p8_prob_recieve_special_accommodations\n",
    "\n",
    "# 20 * .03 * .97\n",
    "v = (p8_random_sample * \n",
    "     p8_prob_recieve_special_accommodations *\n",
    "     p8_prob_recieve_special_accommodations_not)\n",
    "\n",
    "print(\"variance\")\n",
    "print(v)\n",
    "print()\n",
    "\n",
    "# sqrt(variance)\n",
    "std = (v)**(1/2)\n",
    "print(\"std\")\n",
    "print(std)\n",
    "print()\n",
    "\n",
    "# 2 * std\n",
    "std2 = 2 * std\n",
    "print(\"2std\")\n",
    "print(std2)\n",
    "print()\n",
    "\n",
    "p8d_std_lower_bound = p8d_E_of_x - std2\n",
    "p8d_std_upper_bound = p8d_E_of_x + std2\n",
    "\n",
    "print(\"bounds\")\n",
    "print(p7d_std_lower_bound)\n",
    "print(p7d_std_upper_bound)\n",
    "print()\n",
    "\n",
    "p8d_std_lower_bound_round = math.floor(p8d_std_lower_bound)  # Floor\n",
    "p8d_std_upper_bound_round = math.floor(p8d_std_upper_bound)  # Floor\n",
    "\n",
    "print(p8d_std_lower_bound_round)\n",
    "print(p8d_std_upper_bound_round)"
   ]
  },
  {
   "cell_type": "code",
   "execution_count": 71,
   "metadata": {
    "ExecuteTime": {
     "end_time": "2020-09-27T05:23:27.398187Z",
     "start_time": "2020-09-27T05:23:27.383175Z"
    }
   },
   "outputs": [
    {
     "name": "stdout",
     "output_type": "stream",
     "text": [
      "[1] 0.9797802\n"
     ]
    }
   ],
   "source": [
    "%%R -i p8d_std_lower_bound_round -i p8d_std_upper_bound_round -i p8_random_sample -i p8_prob_recieve_special_accommodations\n",
    "\n",
    "# pbinom(3, 35, .03) - pbinom(-1, 35, .03)\n",
    "p8d_solution <- pbinom(p8d_std_upper_bound_round, p8_random_sample, p8_prob_recieve_special_accommodations) - pbinom(p8d_std_lower_bound_round, p8_random_sample, p8_prob_recieve_special_accommodations)\n",
    "print(p8d_solution)\n"
   ]
  },
  {
   "cell_type": "markdown",
   "metadata": {},
   "source": [
    "### (e) Suppose that a student who does not receive a special accommodation is allowed 3 hours for the exam, whereas an accommodated student is allowed 4.5 hours. What would you expect the average time allowed the 35 selected students to be? (Round your answer to two decimal places.)"
   ]
  },
  {
   "cell_type": "code",
   "execution_count": 81,
   "metadata": {
    "ExecuteTime": {
     "end_time": "2020-09-27T05:32:08.834601Z",
     "start_time": "2020-09-27T05:32:08.831598Z"
    }
   },
   "outputs": [
    {
     "name": "stdout",
     "output_type": "stream",
     "text": [
      "1.05\n",
      "\n",
      "33.95\n",
      "\n",
      "106.575\n",
      "\n",
      "3.045\n"
     ]
    }
   ],
   "source": [
    "p8d_E_of_x\n",
    "print(p8d_E_of_x)\n",
    "print()\n",
    "\n",
    "p8e_E_of_x_who_didnt = p8_random_sample - p8d_E_of_x\n",
    "print(p8e_E_of_x_who_didnt)\n",
    "print()\n",
    "\n",
    "# (1.05 * (4.5)+ (35 - (35 * .03  ))  * 3)/35\n",
    "\n",
    "p8e_time_total = (p8d_E_of_x * (4.5)+ (p8_random_sample - (p8_random_sample * p8_prob_recieve_special_accommodations  ))  * 3)\n",
    "print(p8e_time_total)\n",
    "print()\n",
    "\n",
    "\n",
    "p8e_average_time_allowed = p8e_time_total / p8_random_sample\n",
    "print(p8e_average_time_allowed)"
   ]
  }
 ],
 "metadata": {
  "kernelspec": {
   "display_name": "Python 3.8.5 64-bit Anaconda (Only works with Anaconda's Jupyter)",
   "language": "python",
   "name": "python_3.8.5_64-bit_anaconda"
  },
  "language_info": {
   "codemirror_mode": {
    "name": "ipython",
    "version": 3
   },
   "file_extension": ".py",
   "mimetype": "text/x-python",
   "name": "python",
   "nbconvert_exporter": "python",
   "pygments_lexer": "ipython3",
   "version": "3.8.5"
  },
  "varInspector": {
   "cols": {
    "lenName": 16,
    "lenType": 16,
    "lenVar": 40
   },
   "kernels_config": {
    "python": {
     "delete_cmd_postfix": "",
     "delete_cmd_prefix": "del ",
     "library": "var_list.py",
     "varRefreshCmd": "print(var_dic_list())"
    },
    "r": {
     "delete_cmd_postfix": ") ",
     "delete_cmd_prefix": "rm(",
     "library": "var_list.r",
     "varRefreshCmd": "cat(var_dic_list()) "
    }
   },
   "types_to_exclude": [
    "module",
    "function",
    "builtin_function_or_method",
    "instance",
    "_Feature"
   ],
   "window_display": false
  }
 },
 "nbformat": 4,
 "nbformat_minor": 4
}

{
 "cells": [
  {
   "cell_type": "markdown",
   "metadata": {},
   "source": [
    "# 1. DEVORESTAT9 2.E.005.\n"
   ]
  },
  {
   "cell_type": "code",
   "execution_count": 1,
   "metadata": {},
   "outputs": [],
   "source": [
    "\"\"\"\n",
    "A family consisting of three persons—A, B, and C—goes to a medical clinic that always has a doctor at each of stations 1, 2, and 3. \n",
    "During a certain week, each member of the family visits the clinic once and is assigned at random to a station. The experiment consists of recording the station number for each member. One outcome is 121 for A to station 1, B to station 2, and C to station 1. (Enter your answers in set notation. Enter EMPTY or ∅ for the empty set.)\n",
    "\"\"\"\n",
    "import itertools\n",
    "\n",
    "\"\"\"\n",
    "It's like a truth table rembmer from Discrete math where everyone combination is shown\n",
    "\n",
    "Basically it's the Cartesian product of input iterables.\n",
    "\n",
    "\"\"\"\n",
    "\n",
    "\n",
    "def print_list_to_answer_for_hw(list_given):\n",
    "    string = \"{\" + \", \".join(str(i)\n",
    "                             .replace(\"(\", \"\")\n",
    "                             .replace(\")\",\"\")\n",
    "                             .replace(\",\", \"\")\n",
    "                             .replace(\" \", \"\") \n",
    "                             for i in list_given) + \"}\"\n",
    "    print(string)"
   ]
  },
  {
   "cell_type": "markdown",
   "metadata": {},
   "source": [
    "### (a) List the 27 outcomes in the sample space.\n"
   ]
  },
  {
   "cell_type": "code",
   "execution_count": 2,
   "metadata": {},
   "outputs": [
    {
     "name": "stdout",
     "output_type": "stream",
     "text": [
      "(1, 1, 1)\n",
      "(1, 1, 2)\n",
      "(1, 1, 3)\n",
      "(1, 2, 1)\n",
      "(1, 2, 2)\n",
      "(1, 2, 3)\n",
      "(1, 3, 1)\n",
      "(1, 3, 2)\n",
      "(1, 3, 3)\n",
      "(2, 1, 1)\n",
      "(2, 1, 2)\n",
      "(2, 1, 3)\n",
      "(2, 2, 1)\n",
      "(2, 2, 2)\n",
      "(2, 2, 3)\n",
      "(2, 3, 1)\n",
      "(2, 3, 2)\n",
      "(2, 3, 3)\n",
      "(3, 1, 1)\n",
      "(3, 1, 2)\n",
      "(3, 1, 3)\n",
      "(3, 2, 1)\n",
      "(3, 2, 2)\n",
      "(3, 2, 3)\n",
      "(3, 3, 1)\n",
      "(3, 3, 2)\n",
      "(3, 3, 3)\n",
      "\n",
      "Length 27\n",
      "\n",
      "{111, 112, 113, 121, 122, 123, 131, 132, 133, 211, 212, 213, 221, 222, 223, 231, 232, 233, 311, 312, 313, 321, 322, 323, 331, 332, 333}\n"
     ]
    }
   ],
   "source": [
    "\"\"\"\n",
    "Time complexity: O(n)\n",
    "\n",
    "\"\"\"\n",
    "list_1 = list(itertools.product([1, 2, 3], [1, 2, 3], [1, 2, 3]))\n",
    "\n",
    "for i in list_1:\n",
    "    print(str(i))\n",
    "print()\n",
    "print(f\"Length {len(list_1)}\")\n",
    "print()\n",
    "print_list_to_answer_for_hw(list_1)"
   ]
  },
  {
   "cell_type": "markdown",
   "metadata": {},
   "source": [
    "### (b) List all outcomes in the event that all three members go to the same station."
   ]
  },
  {
   "cell_type": "code",
   "execution_count": 3,
   "metadata": {},
   "outputs": [
    {
     "name": "stdout",
     "output_type": "stream",
     "text": [
      "Amount of outcomes where all 3 members go to the same station: 3\n",
      "{111, 222, 333}\n"
     ]
    }
   ],
   "source": [
    "\"\"\"\n",
    "Just look at the printed or just do it the brute force way\n",
    "\n",
    "Time complexity: O(n * constant) or O(n * m) or O(n)\n",
    "\"\"\"\n",
    "list_1_b = []\n",
    "count = 0\n",
    "for i in list_1:\n",
    "    first = i[0]\n",
    "    count_internal = 0\n",
    "    for j in i:\n",
    "        if j == first:\n",
    "            count_internal += 1\n",
    "        if count_internal == 3:\n",
    "            count += 1\n",
    "            list_1_b.append(i)\n",
    "\n",
    "print(\"Amount of outcomes where all 3 members go to the same station: {}\".format(count))\n",
    "print_list_to_answer_for_hw(list_1_b)"
   ]
  },
  {
   "cell_type": "markdown",
   "metadata": {},
   "source": [
    "### (c) List all outcomes in the event that all members go to different stations."
   ]
  },
  {
   "cell_type": "code",
   "execution_count": 4,
   "metadata": {
    "scrolled": true
   },
   "outputs": [
    {
     "name": "stdout",
     "output_type": "stream",
     "text": [
      "Outcomes where memeber go to diff stations: 6\n",
      "{123, 132, 213, 231, 312, 321}\n"
     ]
    }
   ],
   "source": [
    "\"\"\"\n",
    "Time complexity: O(n * constant) or O(n * m) or O(n)\n",
    "\n",
    "\"\"\"\n",
    "\n",
    "list_1_c = []\n",
    "count = 0\n",
    "\n",
    "# Easy way\n",
    "# for i in list_1:\n",
    "#     set_temp = set(i)\n",
    "#     if len(set_temp) == 3:\n",
    "#         count += 1\n",
    "#         list_1_c.append(i)\n",
    "\n",
    "# Generalized way\n",
    "for i in list_1:\n",
    "    condition = False\n",
    "    for index_j, j in enumerate(i):\n",
    "        for index_z, z in enumerate(i):\n",
    "            if index_j == index_z:\n",
    "                continue\n",
    "            if j == z:\n",
    "                condition = True\n",
    "    if not condition:\n",
    "        count += 1\n",
    "        list_1_c.append(i)\n",
    "\n",
    "print(f\"Outcomes where memeber go to diff stations: {count}\")\n",
    "print_list_to_answer_for_hw(list_1_c)"
   ]
  },
  {
   "cell_type": "markdown",
   "metadata": {},
   "source": [
    "### (d) List all outcomes in the event that no one goes to station 2."
   ]
  },
  {
   "cell_type": "code",
   "execution_count": 5,
   "metadata": {},
   "outputs": [
    {
     "name": "stdout",
     "output_type": "stream",
     "text": [
      "Outcomes where no member goes to station 2: 8\n",
      "{111, 113, 131, 133, 311, 313, 331, 333}\n"
     ]
    }
   ],
   "source": [
    "\"\"\"\n",
    "Time complexity: O(n * constant) or O(n * m) or O(n)\n",
    "\n",
    "\"\"\"\n",
    "list_1_d = []\n",
    "count = 0\n",
    "for i in list_1:\n",
    "    condition = False\n",
    "    for j in i:\n",
    "        if j == 2:\n",
    "            condition = True\n",
    "    if not condition:\n",
    "        count += 1\n",
    "        list_1_d.append(i)\n",
    "\n",
    "print(f\"Outcomes where no member goes to station 2: {count}\")\n",
    "print_list_to_answer_for_hw(list_1_d)"
   ]
  },
  {
   "cell_type": "markdown",
   "metadata": {},
   "source": [
    "# 2. DEVORESTAT9 2.E.006."
   ]
  },
  {
   "cell_type": "code",
   "execution_count": 6,
   "metadata": {},
   "outputs": [
    {
     "name": "stdout",
     "output_type": "stream",
     "text": [
      "[1, 2, 3, 4, 5]\n"
     ]
    }
   ],
   "source": [
    "\"\"\"\n",
    "A college library has five copies of a certain text on reserve. Two copies (1 and 2) are first printings, and the other three (3, 4, and 5) are second printings. \n",
    "A student examines these books in random order, stopping only when a second printing has been selected. One possible outcome is 5, and another is 213. (Enter your answers in set notation. Enter EMPTY or ∅ for the empty set.)\n",
    "\"\"\"\n",
    "\n",
    "list_2 = [1, 2, 3, 4, 5]\n",
    "\"\"\"\n",
    "2 ways to solve this:\n",
    "    1. Generalized DFS with conditionals\n",
    "    2. Loop through all permutaions and split each solution base on the solution\n",
    "\n",
    "\"\"\"\n",
    "print(list_2)"
   ]
  },
  {
   "cell_type": "markdown",
   "metadata": {},
   "source": [
    "### (a) List the outcomes in S."
   ]
  },
  {
   "cell_type": "code",
   "execution_count": 7,
   "metadata": {},
   "outputs": [
    {
     "name": "stdout",
     "output_type": "stream",
     "text": [
      "(2, 4)\n",
      "(1, 5)\n",
      "(5,)\n",
      "(1, 2, 3)\n",
      "(2, 1, 3)\n",
      "(1, 4)\n",
      "(4,)\n",
      "(2, 3)\n",
      "(3,)\n",
      "(1, 2, 5)\n",
      "(2, 1, 5)\n",
      "(2, 5)\n",
      "(1, 3)\n",
      "(1, 2, 4)\n",
      "(2, 1, 4)\n",
      "\n",
      "Amount of outcomes: 15\n",
      "{24, 15, 5, 123, 213, 14, 4, 23, 3, 125, 215, 25, 13, 124, 214}\n"
     ]
    }
   ],
   "source": [
    "# Loop through all permutations method\n",
    "\n",
    "list_2_a_V1 = list(itertools.permutations(list_2))\n",
    "list_2_a_V1_new = []\n",
    "\n",
    "for i in list_2_a_V1:\n",
    "    list_temp = []\n",
    "    for j in i:\n",
    "        if j == 3 or j == 4 or j == 5:\n",
    "            list_temp.append(j)\n",
    "            break\n",
    "        list_temp.append(j)\n",
    "\n",
    "    list_2_a_V1_new.append(tuple(list_temp))\n",
    "\n",
    "set_2_a_V1_new = set(list_2_a_V1_new)\n",
    "for i in set_2_a_V1_new:\n",
    "    print(i)\n",
    "print()\n",
    "print(f\"Amount of outcomes: {len(set_2_a_V1_new)}\")\n",
    "print_list_to_answer_for_hw(set_2_a_V1_new)"
   ]
  },
  {
   "cell_type": "markdown",
   "metadata": {},
   "source": [
    "### (b) Let A denote the event that exactly one book must be examined. What outcomes are in A?"
   ]
  },
  {
   "cell_type": "code",
   "execution_count": 8,
   "metadata": {},
   "outputs": [
    {
     "name": "stdout",
     "output_type": "stream",
     "text": [
      "{5, 4, 3}\n"
     ]
    }
   ],
   "source": [
    "list_2_b = [i for i in set_2_a_V1_new if len(i) == 1]\n",
    "print_list_to_answer_for_hw(list_2_b)"
   ]
  },
  {
   "cell_type": "markdown",
   "metadata": {},
   "source": [
    "### (c) Let B be the event that book 5 is the one selected. What outcomes are in B?"
   ]
  },
  {
   "cell_type": "code",
   "execution_count": 9,
   "metadata": {},
   "outputs": [
    {
     "name": "stdout",
     "output_type": "stream",
     "text": [
      "{15, 5, 125, 215, 25}\n",
      "{15, 5, 125, 215, 25}\n"
     ]
    }
   ],
   "source": [
    "# V1\n",
    "list_2_b = [i for i in set_2_a_V1_new if any(x for x in i if x == 5)]\n",
    "print_list_to_answer_for_hw(list_2_b)\n",
    "\n",
    "# V2\n",
    "list_2_b = list(filter(lambda i: any(x for x in i if x == 5), set_2_a_V1_new))\n",
    "print_list_to_answer_for_hw(list_2_b)"
   ]
  },
  {
   "cell_type": "markdown",
   "metadata": {},
   "source": [
    "### (d) Let C be the event that book 1 is not examined. What outcomes are in C?"
   ]
  },
  {
   "cell_type": "code",
   "execution_count": 10,
   "metadata": {},
   "outputs": [
    {
     "name": "stdout",
     "output_type": "stream",
     "text": [
      "{24, 5, 4, 23, 25, 3}\n",
      "{24, 5, 4, 23, 25, 3}\n"
     ]
    }
   ],
   "source": [
    "# V1\n",
    "list_2_c = set_2_a_V1_new - \\\n",
    "    set([i for i in set_2_a_V1_new if any(x for x in i if x == 1)])\n",
    "\n",
    "print_list_to_answer_for_hw(list_2_c)\n",
    "\n",
    "# V2\n",
    "list_2_c = set_2_a_V1_new - \\\n",
    "    set(filter(lambda i: any(x for x in i if x == 1), set_2_a_V1_new))\n",
    "print_list_to_answer_for_hw(list_2_c)"
   ]
  },
  {
   "cell_type": "markdown",
   "metadata": {},
   "source": [
    "# 3. DEVORESTAT9 2.E.008."
   ]
  },
  {
   "cell_type": "code",
   "execution_count": 11,
   "metadata": {
    "scrolled": true
   },
   "outputs": [],
   "source": [
    "#!pip install venn"
   ]
  },
  {
   "cell_type": "code",
   "execution_count": 12,
   "metadata": {},
   "outputs": [],
   "source": [
    "\"\"\"\n",
    "An engineering construction firm is currently working on power plants at three different sites. \n",
    "Let A sub i denote the event that the plant at site i is completed by the contract date. \n",
    "Use the operations of union, intersection, and complementation to describe each of the following events in terms of \n",
    "A sub 1, A sub 2, and A sub 3, draw a Venn diagram, and shade the region corresponding to each one.\n",
    "\"\"\"\n",
    "\n",
    "\n",
    "# Intersection = In between\n",
    "# Union = Either in A or B or Both\n",
    "\n",
    "\"\"\"\n",
    "Notes:\n",
    "    set | set == set union, set & set == set intersection\n",
    "    \n",
    "    In order to represent each Main shape (circle) within a the venn diagram we need to assign a number to each shape in the diagram \n",
    "\n",
    "Testing:\n",
    "    \n",
    "    ##### a\n",
    "    # a1 = {1,2,3,7}\n",
    "    # a2 = {3,4,5,7}\n",
    "    # a3 = {5,6,1,7}\n",
    "    \n",
    "    ##### b\n",
    "    # a1 = {7,}\n",
    "    # a2 = {7,}\n",
    "    # a3 = {7,}\n",
    "\n",
    "    ##### c\n",
    "    # a1 = {1,} # 2,3,7\n",
    "    # a2 = set() # 3,4,5,7 # NOT = 6, 2, 1\n",
    "    # a3 = set() # 5,6,1,7 # NOT = 2, 3, 4\n",
    "\n",
    "    ##### d\n",
    "    # a1 = {2} # 1,3,7\n",
    "    # a2 = {4} # 3,5,7\n",
    "    # a3 = {6} # 5,1,7\n",
    "\n",
    "    ##### e\n",
    "    # a1 = {2,1,3,7}\n",
    "    # a2 = {3,5,7}  # 4  \n",
    "    # a3 = {5,1,7}  # 6\n",
    "\n",
    "    print( a1 | (a2 & a3))\n",
    "\n",
    "\"\"\"\n",
    "print(end=\"\")"
   ]
  },
  {
   "cell_type": "markdown",
   "metadata": {},
   "source": [
    "![Math_324_Sections_2.1_and_2.2_(Homework)_problem_3_image.png](images/Math_324_Sections_2.1_and_2.2_(Homework)_problem_3_image.PNG)\n",
    "You need to assign a value to to each shape\n",
    "1. A1 = {1,2,3,7}\n",
    "2. A2 = {3,4,5,7} \n",
    "3. A3 = {5,6,1,7}"
   ]
  },
  {
   "cell_type": "code",
   "execution_count": 13,
   "metadata": {},
   "outputs": [],
   "source": [
    "from typing import Dict\n",
    "from venn import venn\n",
    "from pprint import pprint\n",
    "\n",
    "\n",
    "def transform_dict(dict_given: dict) -> dict:\n",
    "    \"\"\"\n",
    "    Transform dict from Key, Value to Value, Key\n",
    "    \"\"\"\n",
    "    dict_temp = {}\n",
    "    for key, value in dict_given.items():\n",
    "        for value in value:\n",
    "            if value not in dict_temp:\n",
    "                dict_temp[value] = set()\n",
    "            dict_temp[value].add(key)\n",
    "\n",
    "    return dict_temp\n",
    "\n",
    "\n",
    "def dict_universe_to_set_universe(dict_universe_given):\n",
    "    \"\"\"\n",
    "    Convert dict universe to set universe\n",
    "    \"\"\"\n",
    "    set_universe_temp = set()\n",
    "\n",
    "    for name_shape_main, set_numbers in dict_universe_given.items():\n",
    "        for number in set_numbers:\n",
    "            set_universe_temp.add(number)\n",
    "\n",
    "    return set_universe_temp\n",
    "\n",
    "\n",
    "def complement(set_given, set_universe):\n",
    "    \"\"\"\n",
    "    Get the set_complement of set_given\n",
    "    \"\"\"\n",
    "    set_complement = set_universe - set_given\n",
    "\n",
    "    return set_complement\n",
    "\n",
    "\n",
    "def map_set_to_shape_location(set_solution_given, dict_universe_transformed_given, dict_universe_given) -> Dict[str, set]:\n",
    "    \"\"\"\n",
    "    Map the given set to a Dict corresponding to the Name of the set that contains a set of numbers that make up that main shape\n",
    "    Example:\n",
    "        A1 has the shape numbers:\n",
    "            1, 2, 3, 7 (LOOK AT THE ABOVE IMAGE)\n",
    "            \n",
    "        Now find the sets that have these numbers\n",
    "            A1, A2, A3\n",
    "            \n",
    "        Now change their sets\n",
    "            \"A1\": {1, 2, 3, 7},\n",
    "            \"A2\": {3, 7},\n",
    "            \"A3\": {1, 7}\n",
    "\n",
    "    \"\"\"\n",
    "    dict_to_graph = {}\n",
    "\n",
    "    \"\"\"\n",
    "    The reason why we need dict_univsere is because set_solution_given might not have ALL name_shape_main mention, so we need\n",
    "    to take them from dict_universe_given which has all name_shape_main\n",
    "    \"\"\"\n",
    "    for name_shape_main in dict_universe_given:\n",
    "        dict_to_graph[name_shape_main] = set()\n",
    "\n",
    "    for number in set_solution_given:\n",
    "        set_shape_number = dict_universe_transformed_given[number]\n",
    "\n",
    "        for name_shape_main in set_shape_number:\n",
    "            #             if name_shape_main not in dict_to_graph:\n",
    "            #                 dict_to_graph[name_shape_main] = set()\n",
    "            dict_to_graph[name_shape_main].add(number)\n",
    "\n",
    "#     pprint(dict_to_graph)\n",
    "    return dict_to_graph\n",
    "\n",
    "\n",
    "dict_universe = {\n",
    "    \"A1\": {1, 2, 3, 7},\n",
    "    \"A2\": {3, 4, 5, 7},\n",
    "    \"A3\": {5, 6, 1, 7}\n",
    "\n",
    "}\n",
    "\n",
    "set_universe = dict_universe_to_set_universe(dict_universe)\n",
    "dict_universe_transformed = transform_dict(dict_universe)"
   ]
  },
  {
   "cell_type": "markdown",
   "metadata": {},
   "source": [
    "### (a) At least one plant is completed by the contract date."
   ]
  },
  {
   "cell_type": "code",
   "execution_count": 14,
   "metadata": {},
   "outputs": [
    {
     "name": "stdout",
     "output_type": "stream",
     "text": [
      "{1, 2, 3, 4, 5, 6, 7}\n"
     ]
    },
    {
     "data": {
      "image/png": "[encoded data removed]",
      "text/plain": [
       "<Figure size 576x576 with 1 Axes>"
      ]
     },
     "metadata": {},
     "output_type": "display_data"
    }
   ],
   "source": [
    "# Solution: A1 ∪ A2 ∪ A3\n",
    "set_3a_solution = dict_universe[\"A1\"] | dict_universe[\"A2\"] | dict_universe[\"A3\"]\n",
    "\n",
    "venn(map_set_to_shape_location(set_3a_solution,\n",
    "                               dict_universe_transformed, \n",
    "                               dict_universe))\n",
    "print(set_3a_solution)"
   ]
  },
  {
   "cell_type": "markdown",
   "metadata": {},
   "source": [
    "### (b) All plants are completed by the contract date."
   ]
  },
  {
   "cell_type": "code",
   "execution_count": 15,
   "metadata": {},
   "outputs": [
    {
     "name": "stdout",
     "output_type": "stream",
     "text": [
      "{7}\n"
     ]
    },
    {
     "data": {
      "image/png": "[encoded data removed]",
      "text/plain": [
       "<Figure size 576x576 with 1 Axes>"
      ]
     },
     "metadata": {},
     "output_type": "display_data"
    }
   ],
   "source": [
    "# Solution : A1 ∩ A2 ∩ A3\n",
    "set_3b_solution = (dict_universe[\"A1\"] & \n",
    "                   dict_universe[\"A2\"] & \n",
    "                   dict_universe[\"A3\"])\n",
    "\n",
    "venn(map_set_to_shape_location(set_3b_solution,\n",
    "                               dict_universe_transformed, \n",
    "                               dict_universe))\n",
    "print(set_3b_solution)"
   ]
  },
  {
   "cell_type": "markdown",
   "metadata": {},
   "source": [
    "### (c) Only the plant at site 1 is completed by the contract date."
   ]
  },
  {
   "cell_type": "code",
   "execution_count": 16,
   "metadata": {},
   "outputs": [
    {
     "name": "stdout",
     "output_type": "stream",
     "text": [
      "{2}\n"
     ]
    },
    {
     "data": {
      "image/png": "[encoded data removed]",
      "text/plain": [
       "<Figure size 576x576 with 1 Axes>"
      ]
     },
     "metadata": {},
     "output_type": "display_data"
    }
   ],
   "source": [
    "# Solution: A1 ∩ A2' ∩ A3'\n",
    "set_3c_solution = (dict_universe[\"A1\"] & \n",
    "                   complement(dict_universe[\"A2\"], set_universe) & \n",
    "                   complement(dict_universe[\"A3\"], set_universe))\n",
    "\n",
    "\n",
    "venn(map_set_to_shape_location(set_3c_solution,\n",
    "                               dict_universe_transformed, \n",
    "                               dict_universe))\n",
    "print(set_3c_solution)"
   ]
  },
  {
   "cell_type": "markdown",
   "metadata": {},
   "source": [
    "### (d) Exactly one plant is completed by the contract date."
   ]
  },
  {
   "cell_type": "code",
   "execution_count": 17,
   "metadata": {},
   "outputs": [
    {
     "name": "stdout",
     "output_type": "stream",
     "text": [
      "{2, 4, 6}\n"
     ]
    },
    {
     "data": {
      "image/png": "[encoded data removed]",
      "text/plain": [
       "<Figure size 576x576 with 1 Axes>"
      ]
     },
     "metadata": {},
     "output_type": "display_data"
    }
   ],
   "source": [
    "# Solution: (A1 ∩ A2' ∩ A3') ∪ (A1' ∩ A2 ∩ A3') ∪ (A1' ∩ A2' ∩ A3)\n",
    "\n",
    "set_3d_solution_part_1 = (dict_universe[\"A1\"] &\n",
    "                          complement(dict_universe[\"A2\"], set_universe) &\n",
    "                          complement(dict_universe[\"A3\"], set_universe))\n",
    "\n",
    "set_3d_solution_part_2 = (complement(dict_universe[\"A1\"], set_universe) &\n",
    "                          dict_universe[\"A2\"] &\n",
    "                          complement(dict_universe[\"A3\"], set_universe))\n",
    "\n",
    "set_3d_solution_part_3 = (complement(dict_universe[\"A1\"], set_universe) &\n",
    "                          complement(dict_universe[\"A2\"], set_universe) &\n",
    "                          dict_universe[\"A3\"])\n",
    "\n",
    "set_3d_solution = set_3d_solution_part_1 | set_3d_solution_part_2 | set_3d_solution_part_3\n",
    "\n",
    "venn(map_set_to_shape_location(set_3d_solution,\n",
    "                               dict_universe_transformed,\n",
    "                               dict_universe))\n",
    "print(set_3d_solution)"
   ]
  },
  {
   "cell_type": "markdown",
   "metadata": {},
   "source": [
    "### (e) Either the plant at site 1 or both of the other plants are completed by the contract date."
   ]
  },
  {
   "cell_type": "code",
   "execution_count": 18,
   "metadata": {},
   "outputs": [
    {
     "name": "stdout",
     "output_type": "stream",
     "text": [
      "{2}\n"
     ]
    },
    {
     "data": {
      "image/png": "[encoded data removed]",
      "text/plain": [
       "<Figure size 576x576 with 1 Axes>"
      ]
     },
     "metadata": {},
     "output_type": "display_data"
    }
   ],
   "source": [
    "# Solution: A1 ∪ (A2 ∩ A3)\n",
    "set_3e_solution = dict_universe[\"A1\"] | (\n",
    "    dict_universe[\"A2\"] & dict_universe[\"A3\"])\n",
    "venn(map_set_to_shape_location(set_3c_solution,\n",
    "                               dict_universe_transformed, dict_universe))\n",
    "print(set_3c_solution)"
   ]
  },
  {
   "cell_type": "markdown",
   "metadata": {},
   "source": [
    "# 4. DEVORESTAT9 2.E.012."
   ]
  },
  {
   "cell_type": "code",
   "execution_count": 19,
   "metadata": {},
   "outputs": [],
   "source": [
    "\"\"\"\n",
    "Consider randomly selecting a student at a large university, and let A be the event that the selected student has a Visa card and B be the analogous event for MasterCard. Suppose that \n",
    "P(A) = 0.7\n",
    " and \n",
    "P(B) = 0.3.\n",
    "\"\"\"\n",
    "print(end=\"\")"
   ]
  },
  {
   "cell_type": "code",
   "execution_count": 20,
   "metadata": {},
   "outputs": [],
   "source": [
    "A_visa = .7\n",
    "B_master = .3"
   ]
  },
  {
   "cell_type": "markdown",
   "metadata": {},
   "source": [
    "### (a) Could it be the case that  P(A ∩ B) = 0.5? Why or why not? [Hint: For any two sets A and B if A is a subset of B then P(A) ≤ P(B).]"
   ]
  },
  {
   "cell_type": "code",
   "execution_count": null,
   "metadata": {},
   "outputs": [],
   "source": []
  },
  {
   "cell_type": "markdown",
   "metadata": {},
   "source": [
    "### (b) From now on, suppose that P(A ∩ B) = 0.2. What is the probability that the selected student has at least one of these two types of cards?"
   ]
  },
  {
   "cell_type": "code",
   "execution_count": 21,
   "metadata": {},
   "outputs": [
    {
     "name": "stdout",
     "output_type": "stream",
     "text": [
      "Probability: 0.8\n"
     ]
    }
   ],
   "source": [
    "A_visa_inter_B_master = .2\n",
    "\n",
    "# Recall: A ∪ B = A + B - (A ∩ B)\n",
    "\n",
    "solution_4b_union = A_visa + B_master - A_visa_inter_B_master\n",
    "\n",
    "print(\"Probability: {}\".format(solution_4b_union))"
   ]
  },
  {
   "cell_type": "markdown",
   "metadata": {},
   "source": [
    "### (c) What is the probability that the selected student has neither type of card?"
   ]
  },
  {
   "cell_type": "code",
   "execution_count": 22,
   "metadata": {},
   "outputs": [
    {
     "name": "stdout",
     "output_type": "stream",
     "text": [
      "Probability: 0.20\n"
     ]
    }
   ],
   "source": [
    "universe_4 = 1\n",
    "\n",
    "solution_4c_subtraction = universe_4 - solution_4b_union\n",
    "print(\"Probability: {:.2f}\".format(solution_4c_subtraction))"
   ]
  },
  {
   "cell_type": "markdown",
   "metadata": {},
   "source": [
    "### (d) Describe, in terms of A and B, the event that the selected student has a Visa card but not a MasterCard."
   ]
  },
  {
   "cell_type": "code",
   "execution_count": 23,
   "metadata": {},
   "outputs": [
    {
     "name": "stdout",
     "output_type": "stream",
     "text": [
      "{1}\n"
     ]
    },
    {
     "data": {
      "image/png": "[encoded data removed]",
      "text/plain": [
       "<Figure size 576x576 with 1 Axes>"
      ]
     },
     "metadata": {},
     "output_type": "display_data"
    }
   ],
   "source": [
    "# Solution: A ∪ B'\n",
    "\n",
    "dict_universe_4 = {\n",
    "    \"A\": {1, 2},\n",
    "    \"B\": {2, 3}\n",
    "}\n",
    "dict_universe_transformed_4 = transform_dict(dict_universe_4)\n",
    "set_universe_4 = dict_universe_to_set_universe(dict_universe_4)\n",
    "\n",
    "set_4d_solution = (dict_universe_4[\"A\"] & \n",
    "                   complement(dict_universe_4[\"B\"], set_universe_4))\n",
    "\n",
    "\n",
    "venn(map_set_to_shape_location(set_4d_solution,\n",
    "                               dict_universe_transformed_4, \n",
    "                               dict_universe_4))\n",
    "print(set_4d_solution)"
   ]
  },
  {
   "cell_type": "markdown",
   "metadata": {},
   "source": [
    "### Calculate the probability of this event."
   ]
  },
  {
   "cell_type": "code",
   "execution_count": 24,
   "metadata": {},
   "outputs": [
    {
     "name": "stdout",
     "output_type": "stream",
     "text": [
      "Probability: 0.50\n"
     ]
    }
   ],
   "source": [
    "# Solution: A ∪ B'\n",
    "\n",
    "solution_4d_union = A_visa - A_visa_inter_B_master\n",
    "print(\"Probability: {:.2f}\".format(solution_4d_union))"
   ]
  },
  {
   "cell_type": "markdown",
   "metadata": {},
   "source": [
    "### (e) Calculate the probability that the selected student has exactly one of the two types of cards."
   ]
  },
  {
   "cell_type": "code",
   "execution_count": 25,
   "metadata": {},
   "outputs": [
    {
     "name": "stdout",
     "output_type": "stream",
     "text": [
      "Probability: 0.60\n"
     ]
    }
   ],
   "source": [
    "# Solution: A_visa - A_visa_inter_B_master + B_master - A_visa_inter_B_master\n",
    "solution_4e_union = A_visa - A_visa_inter_B_master + B_master - A_visa_inter_B_master\n",
    "print(\"Probability: {:.2f}\".format(solution_4e_union))"
   ]
  },
  {
   "cell_type": "markdown",
   "metadata": {},
   "source": [
    "# 5. DEVORESTAT9 2.E.013."
   ]
  },
  {
   "cell_type": "code",
   "execution_count": 26,
   "metadata": {},
   "outputs": [
    {
     "name": "stdout",
     "output_type": "stream",
     "text": [
      "A1_5=0.22\n",
      "A2_5=0.25\n",
      "A3_5=0.28\n",
      "\n",
      "A1_inter_A2_5=0.14\n",
      "A1_inter_A3_5=0.03\n",
      "A2_inter_A3_5=0.05\n",
      "A1_inter_A2_inter_A3=0.01\n",
      "\n",
      "A1_true_5=0.06\n",
      "A2_true_5=0.07\n",
      "A3_true_5=0.21\n",
      "\n",
      "A1_inter_A2_true_5=0.13\n",
      "A1_inter_A3_true_5=0.02\n",
      "A2_inter_A3_true_5=0.04\n",
      "\n",
      "inside_5=0.54\n",
      "outside_5=0.46\n"
     ]
    }
   ],
   "source": [
    "\"\"\"\n",
    "A computer consulting firm presently has bids out on three projects. Let \n",
    "Ai = {awarded project i}, for i = 1, 2, 3, and suppose that \n",
    "P(A1) = 0.22,\n",
    " \n",
    "P(A2) = 0.25,\n",
    " \n",
    "P(A3) = 0.28,\n",
    " \n",
    "P(A1 ∩ A2) = 0.14,\n",
    " \n",
    "P(A1 ∩ A3) = 0.03,\n",
    " \n",
    "P(A2 ∩ A3) = 0.05,\n",
    " \n",
    "P(A1 ∩ A2 ∩ A3) = 0.01.\n",
    "Express in words each of the following events, and compute the probability of each event.\n",
    "\"\"\"\n",
    "\n",
    "# Recall: A ∪ B = A + B - (A ∩ B)\n",
    "\n",
    "A1_5 = .22\n",
    "A2_5 = .25\n",
    "A3_5 = .28\n",
    "A1_inter_A2_5 = .14\n",
    "A1_inter_A3_5 = .03\n",
    "A2_inter_A3_5 = .05\n",
    "A1_inter_A2_inter_A3 = .01\n",
    "\n",
    "A1_inter_A2_true_5 = (A1_inter_A2_5 - A1_inter_A2_inter_A3)\n",
    "A1_inter_A3_true_5 = (A1_inter_A3_5 - A1_inter_A2_inter_A3)\n",
    "A2_inter_A3_true_5 = (A2_inter_A3_5 - A1_inter_A2_inter_A3)\n",
    "\n",
    "A1_true_5 = (A1_5 - (A1_inter_A2_true_5 +\n",
    "                     A1_inter_A3_true_5 +\n",
    "                     A1_inter_A2_inter_A3))\n",
    "\n",
    "A2_true_5 = (A2_5 - (A1_inter_A2_true_5 +\n",
    "                     A2_inter_A3_true_5 +\n",
    "                     A1_inter_A2_inter_A3))\n",
    "\n",
    "A3_true_5 = (A3_5 - (A1_inter_A3_true_5 +\n",
    "                     A2_inter_A3_true_5 +\n",
    "                     A1_inter_A2_inter_A3))\n",
    "\n",
    "inside_5 = (A1_true_5 + \n",
    "            A2_true_5 + \n",
    "            A3_true_5 +\n",
    "            A1_inter_A2_inter_A3 +\n",
    "            A1_inter_A2_true_5 +\n",
    "            A1_inter_A3_true_5 +\n",
    "            A2_inter_A3_true_5\n",
    "            )\n",
    "\n",
    "outside_5 = 1 - inside_5\n",
    "\n",
    "\n",
    "print(f\"{A1_5=:.2f}\")\n",
    "print(f\"{A2_5=:.2f}\")\n",
    "print(f\"{A3_5=:.2f}\")\n",
    "print()\n",
    "\n",
    "print(f\"{A1_inter_A2_5=:.2f}\")\n",
    "print(f\"{A1_inter_A3_5=:.2f}\")\n",
    "print(f\"{A2_inter_A3_5=:.2f}\")\n",
    "print(f\"{A1_inter_A2_inter_A3=}\")\n",
    "print()\n",
    "\n",
    "print(f\"{A1_true_5=:.2f}\")\n",
    "print(f\"{A2_true_5=:.2f}\")\n",
    "print(f\"{A3_true_5=:.2f}\")\n",
    "print()\n",
    "\n",
    "print(f\"{A1_inter_A2_true_5=:.2f}\")\n",
    "print(f\"{A1_inter_A3_true_5=:.2f}\")\n",
    "print(f\"{A2_inter_A3_true_5=:.2f}\")\n",
    "print()\n",
    "\n",
    "print(f\"{inside_5=:.2f}\")\n",
    "print(f\"{outside_5=:.2f}\")"
   ]
  },
  {
   "cell_type": "markdown",
   "metadata": {},
   "source": [
    "![Math_324_Sections_2.1_and_2.2_(Homework)_problem_5_solution.png](images/Math_324_Sections_2.1_and_2.2_(Homework)_problem_5_solution.png)"
   ]
  },
  {
   "cell_type": "markdown",
   "metadata": {},
   "source": [
    "### (a) A1 ∪ A2 "
   ]
  },
  {
   "cell_type": "code",
   "execution_count": 27,
   "metadata": {},
   "outputs": [
    {
     "name": "stdout",
     "output_type": "stream",
     "text": [
      "Solution: 0.3300\n"
     ]
    }
   ],
   "source": [
    "# Recall: A ∪ B = A + B - (A ∩ B)\n",
    "# Solution: A1 ∪ A2\n",
    "A1_union_A2_5a = A1_5 + A2_5 - A1_inter_A2_5\n",
    "\n",
    "print(\"Solution: {:.4f}\".format(A1_union_A2_5a))"
   ]
  },
  {
   "cell_type": "markdown",
   "metadata": {},
   "source": [
    "### (b) A1' ∩ A2' [Hint: (A1 ∪ A2)' = A1' ∩ A2']"
   ]
  },
  {
   "cell_type": "code",
   "execution_count": 28,
   "metadata": {},
   "outputs": [
    {
     "name": "stdout",
     "output_type": "stream",
     "text": [
      "Solution: 0.6700\n"
     ]
    }
   ],
   "source": [
    "# Solution: A1' ∩ A2' [Hint: (A1 ∪ A2)' = A1' ∩ A2']\n",
    "A1_not_inter_A2_not_5b = 1 - A1_union_A2_5a\n",
    "\n",
    "print((\"Solution: {:.4f}\".format(A1_not_inter_A2_not_5b)))"
   ]
  },
  {
   "cell_type": "markdown",
   "metadata": {},
   "source": [
    "### (c) A1 ∪ A2 ∪ A3"
   ]
  },
  {
   "cell_type": "code",
   "execution_count": 29,
   "metadata": {},
   "outputs": [
    {
     "name": "stdout",
     "output_type": "stream",
     "text": [
      "Solution: 0.5400\n"
     ]
    }
   ],
   "source": [
    "# Solution: A1 ∪ A2 ∪ A3\n",
    "A1_union_A2_union_A3_5c = inside_5\n",
    "\n",
    "print((\"Solution: {:.4f}\".format(A1_union_A2_union_A3_5c)))"
   ]
  },
  {
   "cell_type": "markdown",
   "metadata": {},
   "source": [
    "### (d) A1' ∩ A2' ∩ A3'"
   ]
  },
  {
   "cell_type": "code",
   "execution_count": 30,
   "metadata": {},
   "outputs": [
    {
     "name": "stdout",
     "output_type": "stream",
     "text": [
      "Solution: 0.4600\n"
     ]
    }
   ],
   "source": [
    "# Solution: A1' ∩ A2' ∩ A3'\n",
    "# Solution: (A1 ∪ A2)' ∩ A3'\n",
    "# Solution: (A1 ∪ A2 ∪ A3)'\n",
    "\n",
    "A1_not_union_A2_not_union_A3_not_5d = (inside_5 + outside_5) - A1_union_A2_union_A3_5c\n",
    "\n",
    "print((\"Solution: {:.4f}\".format(A1_not_union_A2_not_union_A3_not_5d)))"
   ]
  },
  {
   "cell_type": "markdown",
   "metadata": {},
   "source": [
    "### (e) A1' ∩ A2' ∩ A3"
   ]
  },
  {
   "cell_type": "code",
   "execution_count": 31,
   "metadata": {},
   "outputs": [
    {
     "name": "stdout",
     "output_type": "stream",
     "text": [
      "Solution: 0.2100\n",
      "Solution: 0.2100\n"
     ]
    }
   ],
   "source": [
    "# Solution: A1' ∩ A2' ∩ A3\n",
    "# Solution: (A1 ∪ A2)' ∩ A3\n",
    "\n",
    "A1_union_A2_not_5e = (1 - A1_union_A2_5a)\n",
    "\n",
    "A1_not_union_A2_not_inter_A3_V1_5e = A1_union_A2_not_5e - outside_5\n",
    "A1_not_union_A2_not_inter_A3_v2_5e = A3_true_5\n",
    "print((\"Solution: {:.4f}\".format(A1_not_union_A2_not_inter_A3_V1_5e)))\n",
    "print((\"Solution: {:.4f}\".format(A1_not_union_A2_not_inter_A3_v2_5e)))"
   ]
  },
  {
   "cell_type": "markdown",
   "metadata": {},
   "source": [
    "### (f) (A1' ∩ A2') ∪ A3"
   ]
  },
  {
   "cell_type": "code",
   "execution_count": 32,
   "metadata": {
    "scrolled": true
   },
   "outputs": [
    {
     "name": "stdout",
     "output_type": "stream",
     "text": [
      "Solution: 0.7400\n",
      "Solution: 0.7400\n"
     ]
    }
   ],
   "source": [
    "# Solution: (A1' ∩ A2') ∪ A3\n",
    "A1_union_A2_not_union_A3_V1_5f = A1_union_A2_not_5e + A1_inter_A3_true_5 + A2_inter_A3_true_5 + A1_inter_A2_inter_A3\n",
    "A1_union_A2_not_union_A3_V2_5f = A1_union_A2_not_5e + A3_5 - A3_true_5\n",
    "\n",
    "print((\"Solution: {:.4f}\".format(A1_union_A2_not_union_A3_V1_5f))) \n",
    "print((\"Solution: {:.4f}\".format(A1_union_A2_not_union_A3_V2_5f)))\n"
   ]
  },
  {
   "cell_type": "markdown",
   "metadata": {},
   "source": [
    "# 6. DEVORESTAT9 2.E.015."
   ]
  },
  {
   "cell_type": "code",
   "execution_count": 33,
   "metadata": {},
   "outputs": [],
   "source": [
    "\"\"\"\n",
    "Consider the type of clothes dryer (gas or electric) purchased by each of five different customers at a certain store.\n",
    "\"\"\"\n",
    "print(end=\"\")"
   ]
  },
  {
   "cell_type": "markdown",
   "metadata": {},
   "source": [
    "### (a) If the probability that at most one of these purchases an electric dryer is 0.421, what is the probability that at least two purchase an electric dryer?"
   ]
  },
  {
   "cell_type": "code",
   "execution_count": 34,
   "metadata": {},
   "outputs": [
    {
     "name": "stdout",
     "output_type": "stream",
     "text": [
      "Solution: 0.5790\n"
     ]
    }
   ],
   "source": [
    "prob_electric_dryer = .421\n",
    "solution_6a = 1 - prob_electric_dryer\n",
    "print((\"Solution: {:.4f}\".format(solution_6a)))"
   ]
  },
  {
   "cell_type": "markdown",
   "metadata": {},
   "source": [
    "### (b) If P(all five purchase gas) = 0.119 and P(all five purchase electric) = 0.005, what is the probability that at least one of each type is purchased?"
   ]
  },
  {
   "cell_type": "code",
   "execution_count": 35,
   "metadata": {},
   "outputs": [
    {
     "name": "stdout",
     "output_type": "stream",
     "text": [
      "Solution: 0.8860\n"
     ]
    }
   ],
   "source": [
    "prob_all_five_gas = .119\n",
    "prob_all_five_elec = .005\n",
    "solution_6b = 1 - + prob_all_five_gas + prob_all_five_elec\n",
    "\n",
    "print((\"Solution: {:.4f}\".format(solution_6b)))"
   ]
  },
  {
   "cell_type": "markdown",
   "metadata": {},
   "source": [
    "# 7. DEVORESTAT9 2.E.022."
   ]
  },
  {
   "cell_type": "code",
   "execution_count": 36,
   "metadata": {},
   "outputs": [],
   "source": [
    "\"\"\"\n",
    "The route used by a certain motorist in commuting to work contains two intersections with traffic signals. The probability that he must stop at the first signal is 0.45, the analogous probability for the second signal is 0.55, and the probability that he must stop at at least one of the two signals is 0.85.\n",
    "\"\"\" \n",
    "signal_first = .45\n",
    "signal_second = .55\n",
    "stop_atleast_once = .85  # Union\n"
   ]
  },
  {
   "cell_type": "markdown",
   "metadata": {},
   "source": [
    "### (a) What is the probability that he must stop at both signals?"
   ]
  },
  {
   "cell_type": "code",
   "execution_count": 37,
   "metadata": {},
   "outputs": [
    {
     "name": "stdout",
     "output_type": "stream",
     "text": [
      "Solution: 0.1500\n"
     ]
    }
   ],
   "source": [
    "# Recall: A ∪ B = A + B - (A ∩ B)\n",
    "# So: A + B - A ∪ B = (A ∩ B)\n",
    "\n",
    "solution_7a = signal_first + signal_second - stop_atleast_once\n",
    "print((\"Solution: {:.4f}\".format(solution_7a)))"
   ]
  },
  {
   "cell_type": "markdown",
   "metadata": {},
   "source": [
    "### (b) What is the probability that he must stop at the first signal but not at the second one?\n"
   ]
  },
  {
   "cell_type": "code",
   "execution_count": 38,
   "metadata": {},
   "outputs": [
    {
     "name": "stdout",
     "output_type": "stream",
     "text": [
      "Solution: 0.3000\n"
     ]
    }
   ],
   "source": [
    "solution_7b = signal_first - solution_7a\n",
    "print((\"Solution: {:.4f}\".format(solution_7b)))"
   ]
  },
  {
   "cell_type": "markdown",
   "metadata": {},
   "source": [
    "### (c) What is the probability that he must stop at exactly one signal?\n"
   ]
  },
  {
   "cell_type": "code",
   "execution_count": 39,
   "metadata": {},
   "outputs": [
    {
     "name": "stdout",
     "output_type": "stream",
     "text": [
      "Solution: 0.7000\n"
     ]
    }
   ],
   "source": [
    "solution_7c = solution_7b + (signal_second - solution_7a)\n",
    "print((\"Solution: {:.4f}\".format(solution_7c)))"
   ]
  },
  {
   "cell_type": "markdown",
   "metadata": {},
   "source": [
    "# 8. DEVORESTAT9 2.E.028.\n"
   ]
  },
  {
   "cell_type": "code",
   "execution_count": 40,
   "metadata": {},
   "outputs": [],
   "source": [
    "\"\"\"\n",
    "A family consisting of three persons—A, B, and C—goes to a medical clinic that always has a doctor at each of stations 1, 2, and 3. During a certain week, each member of the family visits the clinic once and is assigned at random to a station. The experiment consists of recording the station number for each member. Suppose that any incoming individual is equally likely to be assigned to any of the three stations irrespective of where other individuals have been assigned. What is the probability that\n",
    "\"\"\"\n",
    "### LOOK AT PROBLEM 1 FOR THE SOLUTION\n",
    "\n",
    "print(end=\"\")"
   ]
  },
  {
   "cell_type": "markdown",
   "metadata": {},
   "source": [
    "### (a) All three family members are assigned to the same station? (Round your answer to three decimal places.)\n"
   ]
  },
  {
   "cell_type": "code",
   "execution_count": 41,
   "metadata": {},
   "outputs": [
    {
     "name": "stdout",
     "output_type": "stream",
     "text": [
      "(1, 1, 1)\n",
      "(1, 1, 2)\n",
      "(1, 1, 3)\n",
      "(1, 2, 1)\n",
      "(1, 2, 2)\n",
      "(1, 2, 3)\n",
      "(1, 3, 1)\n",
      "(1, 3, 2)\n",
      "(1, 3, 3)\n",
      "(2, 1, 1)\n",
      "(2, 1, 2)\n",
      "(2, 1, 3)\n",
      "(2, 2, 1)\n",
      "(2, 2, 2)\n",
      "(2, 2, 3)\n",
      "(2, 3, 1)\n",
      "(2, 3, 2)\n",
      "(2, 3, 3)\n",
      "(3, 1, 1)\n",
      "(3, 1, 2)\n",
      "(3, 1, 3)\n",
      "(3, 2, 1)\n",
      "(3, 2, 2)\n",
      "(3, 2, 3)\n",
      "(3, 3, 1)\n",
      "(3, 3, 2)\n",
      "(3, 3, 3)\n",
      "Solution: 0.111\n"
     ]
    }
   ],
   "source": [
    "solution_8a = len(list_1_b)/ len(list_1)\n",
    "[print(i) for i in list_1]\n",
    "\n",
    "print((\"Solution: {:.3f}\".format(solution_8a)))"
   ]
  },
  {
   "cell_type": "markdown",
   "metadata": {},
   "source": [
    "### (b) At most two family members are assigned to the same station? (Round your answer to three decimal places.)\n"
   ]
  },
  {
   "cell_type": "code",
   "execution_count": 42,
   "metadata": {},
   "outputs": [
    {
     "name": "stdout",
     "output_type": "stream",
     "text": [
      "(1, 1, 2)\n",
      "(1, 1, 3)\n",
      "(1, 2, 1)\n",
      "(1, 2, 2)\n",
      "(1, 2, 3)\n",
      "(1, 3, 1)\n",
      "(1, 3, 2)\n",
      "(1, 3, 3)\n",
      "(2, 1, 1)\n",
      "(2, 1, 2)\n",
      "(2, 1, 3)\n",
      "(2, 2, 1)\n",
      "(2, 2, 3)\n",
      "(2, 3, 1)\n",
      "(2, 3, 2)\n",
      "(2, 3, 3)\n",
      "(3, 1, 1)\n",
      "(3, 1, 2)\n",
      "(3, 1, 3)\n",
      "(3, 2, 1)\n",
      "(3, 2, 2)\n",
      "(3, 2, 3)\n",
      "(3, 3, 1)\n",
      "(3, 3, 2)\n",
      "Solution: 0.889\n"
     ]
    }
   ],
   "source": [
    "list_8b = []\n",
    "# Easy way modified (from problem 1)\n",
    "for i in list_1:\n",
    "    set_temp = set(i)\n",
    "    if len(set_temp) == 2 or len(set_temp) == 3:  # 2 or 3 uniques\n",
    "        count += 1\n",
    "        list_8b.append(i)\n",
    "\n",
    "[print(i) for i in list_8b]\n",
    "        \n",
    "solution_8b = len(list_8b)/ len(list_1)\n",
    "print((\"Solution: {:.3f}\".format(solution_8b)))"
   ]
  },
  {
   "cell_type": "markdown",
   "metadata": {},
   "source": [
    "### (c) Every family member is assigned to a different station? (Round your answer to three decimal places.)\n"
   ]
  },
  {
   "cell_type": "code",
   "execution_count": 43,
   "metadata": {},
   "outputs": [
    {
     "name": "stdout",
     "output_type": "stream",
     "text": [
      "(1, 2, 3)\n",
      "(1, 3, 2)\n",
      "(2, 1, 3)\n",
      "(2, 3, 1)\n",
      "(3, 1, 2)\n",
      "(3, 2, 1)\n",
      "Solution: 0.222\n"
     ]
    }
   ],
   "source": [
    "\n",
    "[print(i) for i in list_1_c]\n",
    "solution_a = len(list_1_c)/ len(list_1)\n",
    "print((\"Solution: {:.3f}\".format(solution_a)))"
   ]
  }
 ],
 "metadata": {
  "kernelspec": {
   "display_name": "Python 3.8.5 64-bit Anaconda",
   "language": "python",
   "name": "python_3.8.5_64-bit_anaconda"
  },
  "language_info": {
   "codemirror_mode": {
    "name": "ipython",
    "version": 3
   },
   "file_extension": ".py",
   "mimetype": "text/x-python",
   "name": "python",
   "nbconvert_exporter": "python",
   "pygments_lexer": "ipython3",
   "version": "3.8.5"
  },
  "varInspector": {
   "cols": {
    "lenName": 16,
    "lenType": 16,
    "lenVar": 40
   },
   "kernels_config": {
    "python": {
     "delete_cmd_postfix": "",
     "delete_cmd_prefix": "del ",
     "library": "var_list.py",
     "varRefreshCmd": "print(var_dic_list())"
    },
    "r": {
     "delete_cmd_postfix": ") ",
     "delete_cmd_prefix": "rm(",
     "library": "var_list.r",
     "varRefreshCmd": "cat(var_dic_list()) "
    }
   },
   "types_to_exclude": [
    "module",
    "function",
    "builtin_function_or_method",
    "instance",
    "_Feature"
   ],
   "window_display": false
  }
 },
 "nbformat": 4,
 "nbformat_minor": 4
}

{
 "cells": [
  {
   "cell_type": "code",
   "execution_count": 1,
   "metadata": {
    "ExecuteTime": {
     "end_time": "2020-10-31T04:27:37.585189Z",
     "start_time": "2020-10-31T04:27:36.851560Z"
    },
    "scrolled": true
   },
   "outputs": [
    {
     "name": "stderr",
     "output_type": "stream",
     "text": [
      "C:\\Users\\Joseph\\anaconda3\\lib\\site-packages\\rpy2\\robjects\\packages.py:365: UserWarning: The symbol 'quartz' is not in this R namespace/package.\n",
      "  warnings.warn(\n"
     ]
    }
   ],
   "source": [
    "\"\"\" \n",
    "More on rpy2 options \n",
    "https://ipython.org/ipython-doc/2/config/extensions/rmagic.html \"\"\"\n",
    "import rpy2\n",
    "%load_ext rpy2.ipython"
   ]
  },
  {
   "cell_type": "code",
   "execution_count": 2,
   "metadata": {
    "ExecuteTime": {
     "end_time": "2020-10-31T04:27:37.865433Z",
     "start_time": "2020-10-31T04:27:37.587192Z"
    }
   },
   "outputs": [],
   "source": [
    "from typing import Tuple\n",
    "from scipy.stats import norm\n",
    "import math\n",
    "\n",
    "pnorm = norm.cdf  # Equivalent to R\n",
    "qnorm = norm.ppf  # Equivalent ot R"
   ]
  },
  {
   "cell_type": "markdown",
   "metadata": {},
   "source": [
    "# Know before Problem 1\n",
    "<img src=\"images/7_1_problem_1_notes.png\" alt=\"images/7_1_problem_1_notes.png\" style=\"\">"
   ]
  },
  {
   "cell_type": "markdown",
   "metadata": {},
   "source": [
    "# 1. DEVORESTAT9 7.E.001.MI.S.\n",
    "<p>Consider a normal population distribution with the value of σ known.</p>"
   ]
  },
  {
   "cell_type": "markdown",
   "metadata": {},
   "source": [
    "<h3> (a) What is the confidence level for the interval <span class=\"watexinlineblock\"><span class=\"watex watexlineheightnormal\"><span style=\"text-decoration: overline;\"><span style=\"font-style: italic;\">x</span></span> <span style=\"font-family: Cambria, Georgia, serif; font-size: 1.15em\">±</span> 2.88<span style=\"font-family: 'Cambria', 'Georgia', serif; font-style: italic; font-size: 1.15em\">σ</span></span><span style=\"font-family: 'Trebuchet MS', 'Lucida Grande', sans-serif; font-size: 1.10em; padding-left:.25em; padding-right:.25em\">⁄</span>sqrt(n) ?</span></span>  (Round your answer to one decimal place.) </h3>"
   ]
  },
  {
   "cell_type": "code",
   "execution_count": 3,
   "metadata": {
    "ExecuteTime": {
     "end_time": "2020-10-31T04:27:37.881447Z",
     "start_time": "2020-10-31T04:27:37.866433Z"
    }
   },
   "outputs": [
    {
     "name": "stdout",
     "output_type": "stream",
     "text": [
      "0.9960232482902114\n"
     ]
    }
   ],
   "source": [
    "# Python Solution\n",
    "p1a_solution = pnorm(2.88) - pnorm(-2.88)\n",
    "print(p1a_solution)"
   ]
  },
  {
   "cell_type": "code",
   "execution_count": 4,
   "metadata": {
    "ExecuteTime": {
     "end_time": "2020-10-31T04:27:37.897460Z",
     "start_time": "2020-10-31T04:27:37.882447Z"
    }
   },
   "outputs": [
    {
     "name": "stdout",
     "output_type": "stream",
     "text": [
      "[1] 0.9960232\n"
     ]
    }
   ],
   "source": [
    "%%R \n",
    "# R Solution\n",
    "p1a_solution = pnorm(2.88) - pnorm(-2.88)\n",
    "print(p1a_solution)"
   ]
  },
  {
   "cell_type": "markdown",
   "metadata": {},
   "source": [
    "<h3> (b) What is the confidence level for the interval <span class=\"watexinlineblock\"><span class=\"watex watexlineheightnormal\"><span style=\"text-decoration: overline;\"><span style=\"font-style: italic;\">x</span></span> <span style=\"font-family: Cambria, Georgia, serif; font-size: 1.15em\">±</span> <span style=\"color: red\">1.41</span><span style=\"font-family: 'Cambria', 'Georgia', serif; font-style: italic; font-size: 1.15em\">σ</span><span style=\"font-family: 'Trebuchet MS', 'Lucida Grande', sans-serif; font-size: 1.10em; padding-left:.25em; padding-right:.25em\">⁄</span><span class=\"watexinlineblock watexmiddle\">sqrt(n)</span>?</span></span> (Round your answer to one decimal place.) </h3>"
   ]
  },
  {
   "cell_type": "code",
   "execution_count": 5,
   "metadata": {
    "ExecuteTime": {
     "end_time": "2020-10-31T04:27:37.913473Z",
     "start_time": "2020-10-31T04:27:37.898461Z"
    }
   },
   "outputs": [
    {
     "name": "stdout",
     "output_type": "stream",
     "text": [
      "0.8414603170932153\n"
     ]
    }
   ],
   "source": [
    "# Python Solution\n",
    "p1b_solution = pnorm(1.41) - pnorm(-1.41)\n",
    "print(p1b_solution)"
   ]
  },
  {
   "cell_type": "code",
   "execution_count": 6,
   "metadata": {
    "ExecuteTime": {
     "end_time": "2020-10-31T04:27:37.928486Z",
     "start_time": "2020-10-31T04:27:37.914475Z"
    }
   },
   "outputs": [
    {
     "name": "stdout",
     "output_type": "stream",
     "text": [
      "[1] 0.8414603\n"
     ]
    }
   ],
   "source": [
    "%%R \n",
    "# R Solution\n",
    "p1b_solution = pnorm(1.41) - pnorm(-1.41)\n",
    "print(p1b_solution)"
   ]
  },
  {
   "cell_type": "markdown",
   "metadata": {},
   "source": [
    "<h3> (c) What value of <em>z</em><sub><span style=\"font-family: 'Cambria', 'Georgia', serif; font-size: 1.15em\">𝛼</span><span style=\"font-family: 'Trebuchet MS', 'Lucida Grande', sans-serif; font-size: 1.10em; padding-left:.25em; padding-right:.25em\">⁄</span>2</sub> in the CI formula below results in a confidence level of 99.7%? (Round your answer to two decimal places.) </h3>\n",
    "<img src=\"images/7_1_problem_1c.png\" alt=\"7_1_problem_1c.png\" style=\"float:left;\">"
   ]
  },
  {
   "cell_type": "code",
   "execution_count": 7,
   "metadata": {
    "ExecuteTime": {
     "end_time": "2020-10-31T04:27:37.944500Z",
     "start_time": "2020-10-31T04:27:37.930489Z"
    }
   },
   "outputs": [
    {
     "name": "stdout",
     "output_type": "stream",
     "text": [
      "0.00150\n"
     ]
    }
   ],
   "source": [
    "\"\"\"\n",
    "TODO:\n",
    "    MAKE GRAPH \n",
    "    NOTICE BOTH SIDES ARE THE SAME SO \n",
    "    qnorm(1 - p1d_z_alpha_over_2) = qnorm(p1d_z_alpha_over_2) but with the negative\n",
    "    \n",
    "\"\"\"\n",
    "p1c_confidence_interval = .997\n",
    "p1c_z_alpha_over_2 = (1 - p1c_confidence_interval)/2\n",
    "print(f\"{p1c_z_alpha_over_2:.5f}\")"
   ]
  },
  {
   "cell_type": "code",
   "execution_count": 8,
   "metadata": {
    "ExecuteTime": {
     "end_time": "2020-10-31T04:27:37.960514Z",
     "start_time": "2020-10-31T04:27:37.945501Z"
    }
   },
   "outputs": [
    {
     "name": "stdout",
     "output_type": "stream",
     "text": [
      "2.9677379253417717\n"
     ]
    }
   ],
   "source": [
    "# Python Solution\n",
    "\n",
    "p1c_solution = qnorm(1 - p1c_z_alpha_over_2)\n",
    "print(p1c_solution)"
   ]
  },
  {
   "cell_type": "code",
   "execution_count": 9,
   "metadata": {
    "ExecuteTime": {
     "end_time": "2020-10-31T04:27:37.975527Z",
     "start_time": "2020-10-31T04:27:37.961515Z"
    }
   },
   "outputs": [
    {
     "name": "stdout",
     "output_type": "stream",
     "text": [
      "[1] 2.967738\n"
     ]
    }
   ],
   "source": [
    "%%R -i p1c_z_alpha_over_2\n",
    "# R Solution\n",
    "\n",
    "# qnorm(1 - 0.00150)\n",
    "p1c_solution = qnorm(1 - p1c_z_alpha_over_2)\n",
    "print(p1c_solution)"
   ]
  },
  {
   "cell_type": "markdown",
   "metadata": {},
   "source": [
    "<h3> (d) Answer the question posed in part (c) for a confidence level of <font color=\"red\">74</font>%. (Round your answer to two decimal places.) </h3>"
   ]
  },
  {
   "cell_type": "code",
   "execution_count": 10,
   "metadata": {
    "ExecuteTime": {
     "end_time": "2020-10-31T04:27:37.990540Z",
     "start_time": "2020-10-31T04:27:37.976528Z"
    }
   },
   "outputs": [
    {
     "name": "stdout",
     "output_type": "stream",
     "text": [
      "0.13\n"
     ]
    }
   ],
   "source": [
    "\"\"\"\n",
    "TODO:\n",
    "    MAKE GRAPH \n",
    "    NOTICE BOTH SIDES ARE THE SAME SO \n",
    "    qnorm(1 - p1d_z_alpha_over_2) = qnorm(p1d_z_alpha_over_2) but with the negative\n",
    "    \n",
    "    \n",
    "\"\"\"\n",
    "p1d_confidence_interval = .74\n",
    "p1d_z_alpha_over_2 = (1 - p1d_confidence_interval) / 2\n",
    "print(p1d_z_alpha_over_2)"
   ]
  },
  {
   "cell_type": "code",
   "execution_count": 11,
   "metadata": {
    "ExecuteTime": {
     "end_time": "2020-10-31T04:27:38.005552Z",
     "start_time": "2020-10-31T04:27:37.991540Z"
    }
   },
   "outputs": [
    {
     "name": "stdout",
     "output_type": "stream",
     "text": [
      "1.1263911290388007\n"
     ]
    }
   ],
   "source": [
    "# Python Solution\n",
    "\n",
    "# qnorm(1 - 0.13)\n",
    "p1d_solution = qnorm(1 - p1d_z_alpha_over_2)\n",
    "print(p1d_solution)"
   ]
  },
  {
   "cell_type": "code",
   "execution_count": 12,
   "metadata": {
    "ExecuteTime": {
     "end_time": "2020-10-31T04:27:38.020565Z",
     "start_time": "2020-10-31T04:27:38.006553Z"
    }
   },
   "outputs": [
    {
     "name": "stdout",
     "output_type": "stream",
     "text": [
      "[1] 1.126391\n"
     ]
    }
   ],
   "source": [
    "%%R -i p1d_z_alpha_over_2\n",
    "# R Solution\n",
    "\n",
    "# qnorm(1 - 0.13)\n",
    "p1d_solution = qnorm(1 - p1d_z_alpha_over_2)\n",
    "print(p1d_solution)"
   ]
  },
  {
   "cell_type": "markdown",
   "metadata": {},
   "source": [
    "# 2. DEVORESTAT9 7.E.003.\n",
    "<br>\n",
    "<div class=\"wa1par\"> Suppose that a random sample of 50 bottles of a particular brand of cough syrup is selected and the alcohol content of each bottle is determined. Let <span style=\"font-family: Cambria, Georgia, serif; font-style: italic; font-size: 1.15em\">μ</span> denote the average alcohol content for the population of all bottles of the brand under study. Suppose that the resulting 95% confidence interval is <span class=\"watexinlineblock\"><span class=\"watex watexlineheightnormal\">(<span style=\"color: red\">7.3</span>, <span style=\"color: red\">9.6</span>).</span></span> </div>"
   ]
  },
  {
   "cell_type": "code",
   "execution_count": 13,
   "metadata": {
    "ExecuteTime": {
     "end_time": "2020-10-31T04:27:38.035579Z",
     "start_time": "2020-10-31T04:27:38.021566Z"
    }
   },
   "outputs": [],
   "source": [
    "p2_confidence_interval = (7.3, 9.6)"
   ]
  },
  {
   "cell_type": "markdown",
   "metadata": {},
   "source": [
    "### (a) Would a 90% confidence interval calculated from this same sample have been narrower or wider than the given interval? Explain your reasoning."
   ]
  },
  {
   "cell_type": "markdown",
   "metadata": {
    "ExecuteTime": {
     "end_time": "2020-10-31T01:08:36.562687Z",
     "start_time": "2020-10-31T01:08:36.545672Z"
    }
   },
   "source": [
    "<img src=\"images/7_1_problem_2a_solution.png\" alt=\"images/7_1_problem_2a_solution.png\" style=\"float: left;\">\n"
   ]
  },
  {
   "cell_type": "markdown",
   "metadata": {},
   "source": [
    "<h3> (b) Consider the following statement: There is a 95% chance that <span style=\"font-family: Cambria, Georgia, serif; font-style: italic; font-size: 1.15em\">μ</span> is between <font color=\"red\">7.3</font> and <font color=\"red\">9.6</font>. Is this statement correct? Why or why not? </h3>"
   ]
  },
  {
   "cell_type": "markdown",
   "metadata": {},
   "source": [
    "<img src=\"images/7_1_problem_2b_solution.png\" alt=\"images/7_1_problem_2b_solution.png\" style=\"float: left;\">\n"
   ]
  },
  {
   "cell_type": "markdown",
   "metadata": {},
   "source": [
    "<h3>(c) Consider the following statement: We can be highly confident that 95% of all bottles of this type of cough syrup have an alcohol content that is between <font color=\"red\">7.3</font> and <font color=\"red\">9.6</font>. Is this statement correct? Why or why not? </h3>"
   ]
  },
  {
   "cell_type": "markdown",
   "metadata": {},
   "source": [
    "<img src=\"images/7_1_problem_2c_solution.png\" alt=\"images/7_1_problem_2c_solution.png\" style=\"float: left;\">\n"
   ]
  },
  {
   "cell_type": "markdown",
   "metadata": {},
   "source": [
    "<h3> (d) Consider the following statement: If the process of selecting a sample of size 50 and then computing the corresponding 95% interval is repeated 100 times, 95 of the resulting intervals will include <span style=\"font-family: Cambria, Georgia, serif; font-style: italic; font-size: 1.15em\">μ</span>. Is this statement correct? Why or why not? </h3>"
   ]
  },
  {
   "cell_type": "markdown",
   "metadata": {
    "ExecuteTime": {
     "end_time": "2020-10-31T01:12:28.209539Z",
     "start_time": "2020-10-31T01:12:28.197528Z"
    }
   },
   "source": [
    "<img src=\"images/7_1_problem_2d_solution.png\" alt=\"images/7_1_problem_2d_solution.png\" style=\"float: left;\">\n"
   ]
  },
  {
   "cell_type": "markdown",
   "metadata": {
    "ExecuteTime": {
     "end_time": "2020-10-31T02:15:35.576120Z",
     "start_time": "2020-10-31T02:15:35.564110Z"
    }
   },
   "source": [
    "# Know before Problem 3\n",
    "<img src=\"images/7_1_problem_3_notes_Confidence_Intervals_for_𝝁_for_various_levels_of_confidence.png\" alt=\"images/7_1_problem_3_notes_Confidence_Intervals_for_𝝁_for_various_levels_of_confidence.png\" style=\"float: left;\">\n",
    "<img src=\"images/7_1_problem_3c_notes_controlling_precision.png\" alt=\"images/7_1_problem_3c_notes_controlling_precision.png\" style=\"float: left;\">\n"
   ]
  },
  {
   "cell_type": "code",
   "execution_count": 14,
   "metadata": {
    "ExecuteTime": {
     "end_time": "2020-10-31T04:27:38.051592Z",
     "start_time": "2020-10-31T04:27:38.036579Z"
    }
   },
   "outputs": [],
   "source": [
    "def calculate_interval(sample_mean, z_alpha_over_2, n, sd) -> Tuple[float, float]:\n",
    "    \"\"\"\n",
    "    Equation:\n",
    "        sample_mean +- z_alpha_over_2 * (sd/sqrt(n))\n",
    "        x_bar +- z_alpha_over_2 * (sd/sqrt(n))\n",
    "\n",
    "    Example:\n",
    "\n",
    "        lower_bound = 4.85 + qnorm(0.02500) * (.70/sqrt(23))\n",
    "        upper_bound = 4.85 = qnorm(0.02500) * (.70/sqrt(23))\n",
    "        \n",
    "        \n",
    "        # Remember that Z score is the inverse of the probability which is why you do 1 - probability\n",
    "        \n",
    "        lower_bound = 4.85 - qnorm(1 - 0.02500) * (.70/sqrt(23))\n",
    "        upper_bound = 4.85 + qnorm(1 - 0.02500) * (.70/sqrt(23))\n",
    "\n",
    "    \"\"\"\n",
    "\n",
    "    lower_bound = sample_mean - (qnorm(1 - z_alpha_over_2) * (sd / (n)**(1/2)))\n",
    "    upper_bound = sample_mean + (qnorm(1 - z_alpha_over_2) * (sd / (n)**(1/2)))\n",
    "\n",
    "    return (lower_bound, upper_bound)"
   ]
  },
  {
   "cell_type": "code",
   "execution_count": 15,
   "metadata": {
    "ExecuteTime": {
     "end_time": "2020-10-31T04:27:38.067605Z",
     "start_time": "2020-10-31T04:27:38.052592Z"
    }
   },
   "outputs": [],
   "source": [
    "%%R\n",
    "# Equivalent R Function\n",
    "calculate_interval <- function(sample_mean, z_alpha_over_2, n, sd){\n",
    "    \n",
    "    lower_bound = sample_mean - (qnorm(1 - z_alpha_over_2) * (sd / sqrt(n)))\n",
    "    upper_bound = sample_mean + (qnorm(1 - z_alpha_over_2) * (sd / sqrt(n)))\n",
    "    \n",
    "    result <- c(lower_bound,upper_bound)\n",
    "    return(result)\n",
    "}"
   ]
  },
  {
   "cell_type": "code",
   "execution_count": 16,
   "metadata": {
    "ExecuteTime": {
     "end_time": "2020-10-31T04:27:38.082618Z",
     "start_time": "2020-10-31T04:27:38.068606Z"
    }
   },
   "outputs": [],
   "source": [
    "\"\"\"\n",
    "Recall Margin of Error Equation:\n",
    "    Margin_of_error = z_alpha_over_2 * (sd/sqrt(n))\n",
    "\n",
    "Solve for n:\n",
    "    \n",
    "    n = (z_alpha_over_2 * (sd / Margin_of_error))^2\n",
    "    \n",
    "Notes:\n",
    "    *** Remember that n IS a Whole number so you need to ROUND UP (Ceiling)\n",
    "    \n",
    "    \n",
    "\"\"\"\n",
    "\n",
    "# Python Equation to solve for n\n",
    "\n",
    "def calculate_n(z_alpha_over_2, Margin_of_error, sd):\n",
    "    result = math.ceil((qnorm(1 - z_alpha_over_2) * (sd / Margin_of_error))**2)\n",
    "    return result\n"
   ]
  },
  {
   "cell_type": "code",
   "execution_count": 17,
   "metadata": {
    "ExecuteTime": {
     "end_time": "2020-10-31T04:27:38.098632Z",
     "start_time": "2020-10-31T04:27:38.083619Z"
    }
   },
   "outputs": [],
   "source": [
    "%%R\n",
    "# R Equation to calcualte n\n",
    "\n",
    "calculate_n <- function(z_alpha_over_2, Margin_of_error, sd){\n",
    "    result <- ceiling((qnorm(1 - z_alpha_over_2) * (sd / Margin_of_error))^2)\n",
    "    return (result)\n",
    "}\n"
   ]
  },
  {
   "cell_type": "markdown",
   "metadata": {},
   "source": [
    "# 3. DEVORESTAT9 7.E.005.\n",
    "<p>Assume that the helium porosity (in percentage) of coal samples taken from any particular seam is normally distributed with true standard deviation <font color=\"red\">0.70</font>.</p>"
   ]
  },
  {
   "cell_type": "code",
   "execution_count": 18,
   "metadata": {
    "ExecuteTime": {
     "end_time": "2020-10-31T04:27:38.114645Z",
     "start_time": "2020-10-31T04:27:38.099632Z"
    }
   },
   "outputs": [],
   "source": [
    "\"\"\"\n",
    "Notes:\n",
    "    normally distributed\n",
    "    \n",
    "\"\"\"\n",
    "p3_sd = 0.70"
   ]
  },
  {
   "cell_type": "markdown",
   "metadata": {},
   "source": [
    "<h3>(a) Compute a 95% CI for the true average porosity of a certain seam if the average porosity for <font color=\"red\">23</font> specimens from the seam was 4.85. (Round your answers to two decimal places.)</h3>"
   ]
  },
  {
   "cell_type": "code",
   "execution_count": 19,
   "metadata": {
    "ExecuteTime": {
     "end_time": "2020-10-31T04:27:38.130659Z",
     "start_time": "2020-10-31T04:27:38.115646Z"
    }
   },
   "outputs": [],
   "source": [
    "p3a_confidence_interval = .95\n",
    "p3a_amount_of_specimens = 23  # n\n",
    "p3a_avg_porosity = 4.85  # Sample Mean "
   ]
  },
  {
   "cell_type": "code",
   "execution_count": 20,
   "metadata": {
    "ExecuteTime": {
     "end_time": "2020-10-31T04:27:38.146673Z",
     "start_time": "2020-10-31T04:27:38.131660Z"
    }
   },
   "outputs": [
    {
     "name": "stdout",
     "output_type": "stream",
     "text": [
      "p3a_alpha=0.05000\n",
      "p3a_alpha_over_2=0.02500\n"
     ]
    }
   ],
   "source": [
    "p3a_alpha = 1 - p3a_confidence_interval\n",
    "print(f\"{p3a_alpha=:.5f}\")\n",
    "\n",
    "p3a_alpha_over_2 = p3a_alpha / 2\n",
    "print(f\"{p3a_alpha_over_2=:.5f}\")\n"
   ]
  },
  {
   "cell_type": "code",
   "execution_count": 21,
   "metadata": {
    "ExecuteTime": {
     "end_time": "2020-10-31T04:27:38.162686Z",
     "start_time": "2020-10-31T04:27:38.147673Z"
    },
    "scrolled": true
   },
   "outputs": [
    {
     "name": "stdout",
     "output_type": "stream",
     "text": [
      "(4.563923480733463, 5.1360765192665365)\n",
      "(4.563923480733463, 5.1360765192665365)\n"
     ]
    }
   ],
   "source": [
    "\"\"\"\n",
    "Python Solution\n",
    "\n",
    "Equations used:\n",
    "    lower_bound = 4.85 - qnorm(1 - 0.02500) * (.70/sqrt(23))\n",
    "    upper_bound = 4.85 + qnorm(1 - 0.02500) * (.70/sqrt(23))\n",
    "\"\"\"\n",
    "\n",
    "# Version 1\n",
    "print(calculate_interval(4.85,\n",
    "                        0.02500,\n",
    "                        23,\n",
    "                        0.70))\n",
    "\n",
    "# Version 2\n",
    "print(calculate_interval(p3a_avg_porosity,\n",
    "                        p3a_alpha_over_2,\n",
    "                        p3a_amount_of_specimens,\n",
    "                        p3_sd))"
   ]
  },
  {
   "cell_type": "code",
   "execution_count": 22,
   "metadata": {
    "ExecuteTime": {
     "end_time": "2020-10-31T04:27:38.226742Z",
     "start_time": "2020-10-31T04:27:38.165689Z"
    }
   },
   "outputs": [
    {
     "name": "stdout",
     "output_type": "stream",
     "text": [
      "[1] 4.563923 5.136077\n",
      "[1] 4.563923 5.136077\n"
     ]
    }
   ],
   "source": [
    "%%R -i p3a_avg_porosity -i p3a_alpha_over_2 -i p3a_amount_of_specimens -i p3_sd\n",
    "# R Soloution\n",
    "\n",
    "# Version 1\n",
    "print(calculate_interval(4.85,\n",
    "                        0.02500,\n",
    "                        23,\n",
    "                        0.70))\n",
    "\n",
    "# Version 2\n",
    "print(calculate_interval(p3a_avg_porosity,\n",
    "                        p3a_alpha_over_2,\n",
    "                        p3a_amount_of_specimens,\n",
    "                        p3_sd))"
   ]
  },
  {
   "cell_type": "markdown",
   "metadata": {
    "ExecuteTime": {
     "end_time": "2020-10-31T00:21:20.775749Z",
     "start_time": "2020-10-31T00:21:20.760735Z"
    }
   },
   "source": [
    "<h3> (b) Compute a 98% CI for true average porosity of another seam based on <font color=\"red\">19</font> specimens with a sample average porosity of 4.56. (Round your answers to two decimal places.) </h3>"
   ]
  },
  {
   "cell_type": "code",
   "execution_count": 23,
   "metadata": {
    "ExecuteTime": {
     "end_time": "2020-10-31T04:27:38.241754Z",
     "start_time": "2020-10-31T04:27:38.228744Z"
    }
   },
   "outputs": [],
   "source": [
    "p3b_confidence_interval = .98\n",
    "p3b_amount_of_specimens = 19\n",
    "p3b_avg_porosity = 4.56"
   ]
  },
  {
   "cell_type": "code",
   "execution_count": 24,
   "metadata": {
    "ExecuteTime": {
     "end_time": "2020-10-31T04:27:38.256767Z",
     "start_time": "2020-10-31T04:27:38.242755Z"
    }
   },
   "outputs": [
    {
     "name": "stdout",
     "output_type": "stream",
     "text": [
      "p3b_alpha=0.02000\n",
      "p3b_alpha_over_2=0.01000\n"
     ]
    }
   ],
   "source": [
    "p3b_alpha = 1 - p3b_confidence_interval\n",
    "print(f\"{p3b_alpha=:.5f}\")\n",
    "\n",
    "p3b_alpha_over_2 = p3b_alpha / 2\n",
    "print(f\"{p3b_alpha_over_2=:.5f}\")\n"
   ]
  },
  {
   "cell_type": "code",
   "execution_count": 25,
   "metadata": {
    "ExecuteTime": {
     "end_time": "2020-10-31T04:27:38.271780Z",
     "start_time": "2020-10-31T04:27:38.257767Z"
    }
   },
   "outputs": [
    {
     "name": "stdout",
     "output_type": "stream",
     "text": [
      "(4.186409436667089, 4.93359056333291)\n",
      "(4.186409436667089, 4.93359056333291)\n"
     ]
    }
   ],
   "source": [
    "\"\"\"\n",
    "Python Solution\n",
    "\n",
    "Equations used:\n",
    "    lower_bound = 4.56 - qnorm(1 - 0.01) * (.70/sqrt(19))\n",
    "    upper_bound = 4.56 + qnorm(1 - 0.01) * (.70/sqrt(19))\n",
    "\"\"\"\n",
    "\n",
    "# Version 1\n",
    "print(calculate_interval(4.56,\n",
    "                        0.01,\n",
    "                        19,\n",
    "                        0.70))\n",
    "\n",
    "# Version 2\n",
    "print(calculate_interval(p3b_avg_porosity,\n",
    "                        p3b_alpha_over_2,\n",
    "                        p3b_amount_of_specimens,\n",
    "                        p3_sd))"
   ]
  },
  {
   "cell_type": "code",
   "execution_count": 26,
   "metadata": {
    "ExecuteTime": {
     "end_time": "2020-10-31T04:27:38.302806Z",
     "start_time": "2020-10-31T04:27:38.272780Z"
    }
   },
   "outputs": [
    {
     "name": "stdout",
     "output_type": "stream",
     "text": [
      "[1] 4.186409 4.933591\n",
      "[1] 4.186409 4.933591\n"
     ]
    }
   ],
   "source": [
    "%%R -i p3b_avg_porosity -i p3b_alpha_over_2 -i p3b_amount_of_specimens -i p3_sd\n",
    "# R Soloution\n",
    "\n",
    "# Version 1\n",
    "print(calculate_interval(4.56,\n",
    "                        0.01,\n",
    "                        19,\n",
    "                        0.70))\n",
    "\n",
    "# Version 2\n",
    "print(calculate_interval(p3b_avg_porosity,\n",
    "                        p3b_alpha_over_2,\n",
    "                        p3b_amount_of_specimens,\n",
    "                        p3_sd))"
   ]
  },
  {
   "cell_type": "markdown",
   "metadata": {},
   "source": [
    "<h3> (c) How large a sample size is necessary if the width of the 95% interval is to be <font color=\"red\">0.38</font>? (Round your answer up to the nearest whole number.) </h3>"
   ]
  },
  {
   "cell_type": "code",
   "execution_count": 27,
   "metadata": {
    "ExecuteTime": {
     "end_time": "2020-10-31T04:27:38.318820Z",
     "start_time": "2020-10-31T04:27:38.304808Z"
    }
   },
   "outputs": [],
   "source": [
    "p3c_confidence_interval = .95\n",
    "p3c_width = 0.38"
   ]
  },
  {
   "cell_type": "code",
   "execution_count": 28,
   "metadata": {
    "ExecuteTime": {
     "end_time": "2020-10-31T04:27:38.334833Z",
     "start_time": "2020-10-31T04:27:38.320822Z"
    }
   },
   "outputs": [
    {
     "name": "stdout",
     "output_type": "stream",
     "text": [
      "p3c_alpha=0.05000\n",
      "p3c_alpha_over_2=0.02500\n",
      "p3c_margin_of_error=0.19000\n"
     ]
    }
   ],
   "source": [
    "p3c_alpha = 1 - p3c_confidence_interval\n",
    "print(f\"{p3c_alpha=:.5f}\")\n",
    "\n",
    "p3c_alpha_over_2 = p3c_alpha / 2\n",
    "print(f\"{p3c_alpha_over_2=:.5f}\")\n",
    "\n",
    "p3c_margin_of_error = p3c_width / 2\n",
    "print(f\"{p3c_margin_of_error=:.5f}\")\n"
   ]
  },
  {
   "cell_type": "code",
   "execution_count": 29,
   "metadata": {
    "ExecuteTime": {
     "end_time": "2020-10-31T04:27:38.349846Z",
     "start_time": "2020-10-31T04:27:38.335835Z"
    }
   },
   "outputs": [
    {
     "name": "stdout",
     "output_type": "stream",
     "text": [
      "53\n",
      "53\n"
     ]
    }
   ],
   "source": [
    "# Python Solution\n",
    "\n",
    "# V1\n",
    "print(calculate_n(0.025,\n",
    "                 0.19,\n",
    "                 0.70))\n",
    "\n",
    "# V2\n",
    "print(calculate_n(p3c_alpha_over_2,\n",
    "                 p3c_margin_of_error,\n",
    "                 p3_sd))"
   ]
  },
  {
   "cell_type": "code",
   "execution_count": 30,
   "metadata": {
    "ExecuteTime": {
     "end_time": "2020-10-31T04:27:38.380873Z",
     "start_time": "2020-10-31T04:27:38.350847Z"
    }
   },
   "outputs": [
    {
     "name": "stdout",
     "output_type": "stream",
     "text": [
      "[1] 53\n",
      "[1] 53\n"
     ]
    }
   ],
   "source": [
    "%%R -i p3c_alpha_over_2 -i p3c_margin_of_error -i p3_sd\n",
    "\n",
    "# R Solution\n",
    "\n",
    "# V1\n",
    "print(calculate_n(0.025,\n",
    "                 0.19,\n",
    "                 0.70))\n",
    "\n",
    "# V2\n",
    "print(calculate_n(p3c_alpha_over_2,\n",
    "                 p3c_margin_of_error,\n",
    "                 p3_sd))"
   ]
  },
  {
   "cell_type": "markdown",
   "metadata": {},
   "source": [
    "<h3> (d) What sample size is necessary to estimate true average porosity to within <font color=\"red\">0.21</font> with 99% confidence? (Round your answer up to the nearest whole number.) </h3>"
   ]
  },
  {
   "cell_type": "code",
   "execution_count": 31,
   "metadata": {
    "ExecuteTime": {
     "end_time": "2020-10-31T04:27:38.396886Z",
     "start_time": "2020-10-31T04:27:38.381874Z"
    }
   },
   "outputs": [],
   "source": [
    "p3d_confidence_interval = .99\n",
    "p3d_avg_porosity = 0.21\n",
    "p3d_margin_of_error = p3d_avg_porosity"
   ]
  },
  {
   "cell_type": "code",
   "execution_count": 32,
   "metadata": {
    "ExecuteTime": {
     "end_time": "2020-10-31T04:27:38.411899Z",
     "start_time": "2020-10-31T04:27:38.397887Z"
    }
   },
   "outputs": [
    {
     "name": "stdout",
     "output_type": "stream",
     "text": [
      "p3d_alpha=0.01000\n",
      "p3d_alpha_over_2=0.00500\n"
     ]
    }
   ],
   "source": [
    "p3d_alpha = 1 - p3d_confidence_interval\n",
    "print(f\"{p3d_alpha=:.5f}\")\n",
    "\n",
    "p3d_alpha_over_2 = p3d_alpha / 2\n",
    "print(f\"{p3d_alpha_over_2=:.5f}\")\n"
   ]
  },
  {
   "cell_type": "code",
   "execution_count": 33,
   "metadata": {
    "ExecuteTime": {
     "end_time": "2020-10-31T04:27:38.427913Z",
     "start_time": "2020-10-31T04:27:38.412900Z"
    }
   },
   "outputs": [
    {
     "name": "stdout",
     "output_type": "stream",
     "text": [
      "74\n",
      "74\n"
     ]
    }
   ],
   "source": [
    "# Python Solution\n",
    "\n",
    "# V1\n",
    "print(calculate_n(0.005,\n",
    "                  0.21,\n",
    "                  0.70))\n",
    "\n",
    "# V2\n",
    "print(calculate_n(p3d_alpha_over_2,\n",
    "                  p3d_margin_of_error,\n",
    "                  p3_sd))"
   ]
  },
  {
   "cell_type": "markdown",
   "metadata": {},
   "source": [
    "# 4. DEVORESTAT9 7.E.006.\n",
    "<p>\n",
    "On the basis of extensive tests, the yield point of a particular type of mild steel-reinforcing bar is known to be normally distributed with <nobr><span style=\"font-family: 'Cambria', 'Georgia', serif; font-style: italic; font-size: 1.15em\">σ</span> = 100.</nobr> The composition of the bar has been slightly modified, but the modification is not believed to have affected either the normality or the value of <span style=\"font-family: 'Cambria', 'Georgia', serif; font-style: italic; font-size: 1.15em\">σ</span>.\n",
    "</p>"
   ]
  },
  {
   "cell_type": "code",
   "execution_count": 34,
   "metadata": {
    "ExecuteTime": {
     "end_time": "2020-10-31T04:27:38.443926Z",
     "start_time": "2020-10-31T04:27:38.428914Z"
    }
   },
   "outputs": [],
   "source": [
    "\"\"\"\n",
    "Notes:\n",
    "    Normally distributed\n",
    "\n",
    "\"\"\"\n",
    "p4_sd = 100"
   ]
  },
  {
   "cell_type": "markdown",
   "metadata": {},
   "source": [
    "<h3>(a) Assuming this to be the case, if a sample of <font color=\"red\">49</font> modified bars resulted in a sample average yield point of <font color=\"red\">8482</font> lb, compute a 90% CI for the true average yield point of the modified bar. (Round your answers to one decimal place.)</h3>"
   ]
  },
  {
   "cell_type": "code",
   "execution_count": 35,
   "metadata": {
    "ExecuteTime": {
     "end_time": "2020-10-31T04:27:38.459940Z",
     "start_time": "2020-10-31T04:27:38.445929Z"
    }
   },
   "outputs": [],
   "source": [
    "p4a_n = 49\n",
    "p4a_sample_average_yield_point = 8482\n",
    "p4a_confidence_interval = .9"
   ]
  },
  {
   "cell_type": "code",
   "execution_count": 36,
   "metadata": {
    "ExecuteTime": {
     "end_time": "2020-10-31T04:27:38.474953Z",
     "start_time": "2020-10-31T04:27:38.460941Z"
    }
   },
   "outputs": [
    {
     "name": "stdout",
     "output_type": "stream",
     "text": [
      "p4a_alpha=0.10000\n",
      "p4a_alpha_over_2=0.05000\n"
     ]
    }
   ],
   "source": [
    "p4a_alpha = 1 - p4a_confidence_interval\n",
    "print(f\"{p4a_alpha=:.5f}\")\n",
    "\n",
    "p4a_alpha_over_2 = p4a_alpha / 2\n",
    "print(f\"{p4a_alpha_over_2=:.5f}\")"
   ]
  },
  {
   "cell_type": "code",
   "execution_count": 37,
   "metadata": {
    "ExecuteTime": {
     "end_time": "2020-10-31T04:27:38.490833Z",
     "start_time": "2020-10-31T04:27:38.475953Z"
    }
   },
   "outputs": [
    {
     "name": "stdout",
     "output_type": "stream",
     "text": [
      "(8458.50209104355, 8505.49790895645)\n",
      "(8458.50209104355, 8505.49790895645)\n"
     ]
    }
   ],
   "source": [
    "\"\"\"\n",
    "Python Solution\n",
    "\n",
    "Equations used:\n",
    "    lower_bound = 8482  - qnorm(1 - 0.05000) * (100/sqrt(49))\n",
    "    upper_bound = 8482  + qnorm(1 - 0.05000) * (100/sqrt(49))\n",
    "\"\"\"\n",
    "\n",
    "# Version 1\n",
    "print(calculate_interval(8482,\n",
    "                        0.05000,\n",
    "                        49,\n",
    "                        100))\n",
    "\n",
    "# Version 2\n",
    "print(calculate_interval(p4a_sample_average_yield_point,\n",
    "                        p4a_alpha_over_2,\n",
    "                        p4a_n,\n",
    "                        p4_sd))"
   ]
  },
  {
   "cell_type": "code",
   "execution_count": 38,
   "metadata": {
    "ExecuteTime": {
     "end_time": "2020-10-31T04:27:38.506847Z",
     "start_time": "2020-10-31T04:27:38.491834Z"
    }
   },
   "outputs": [
    {
     "name": "stdout",
     "output_type": "stream",
     "text": [
      "[1] 8458.502 8505.498\n",
      "[1] 8458.502 8505.498\n"
     ]
    }
   ],
   "source": [
    "%%R -i p4a_sample_average_yield_point -i p4a_alpha_over_2 -i p4a_n -i p4_sd\n",
    "# R Solution\n",
    "\n",
    "# Version 1\n",
    "print(calculate_interval(8482,\n",
    "                        0.05000,\n",
    "                        49,\n",
    "                        100))\n",
    "\n",
    "# Version 2\n",
    "print(calculate_interval(p4a_sample_average_yield_point,\n",
    "                        p4a_alpha_over_2,\n",
    "                        p4a_n,\n",
    "                        p4_sd))"
   ]
  },
  {
   "cell_type": "markdown",
   "metadata": {},
   "source": [
    "<h3>(b) How would you modify the interval in part (a) to obtain a confidence level of <font color=\"red\">96%</font>? (Round your answer to two decimal places.)</h3>"
   ]
  },
  {
   "cell_type": "code",
   "execution_count": 39,
   "metadata": {
    "ExecuteTime": {
     "end_time": "2020-10-31T04:27:38.521860Z",
     "start_time": "2020-10-31T04:27:38.507847Z"
    }
   },
   "outputs": [],
   "source": [
    "\"\"\"\n",
    "You need to change the Z value so you need to do Z_0.04/2 which is qnorm(1 - .96)\n",
    "\n",
    "\"\"\"\n",
    "p4b_confidence_interval = .96"
   ]
  },
  {
   "cell_type": "code",
   "execution_count": 40,
   "metadata": {
    "ExecuteTime": {
     "end_time": "2020-10-31T04:27:38.537874Z",
     "start_time": "2020-10-31T04:27:38.523861Z"
    }
   },
   "outputs": [
    {
     "name": "stdout",
     "output_type": "stream",
     "text": [
      "p4b_alpha=0.04000\n",
      "p4b_alpha_over_2=0.02000\n"
     ]
    }
   ],
   "source": [
    "p4b_alpha = 1 - p4b_confidence_interval\n",
    "print(f\"{p4b_alpha=:.5f}\")\n",
    "\n",
    "p4b_alpha_over_2 = p4b_alpha / 2\n",
    "print(f\"{p4b_alpha_over_2=:.5f}\")"
   ]
  },
  {
   "cell_type": "code",
   "execution_count": 41,
   "metadata": {
    "ExecuteTime": {
     "end_time": "2020-10-31T04:27:38.552887Z",
     "start_time": "2020-10-31T04:27:38.538874Z"
    }
   },
   "outputs": [
    {
     "name": "stdout",
     "output_type": "stream",
     "text": [
      "2.0537489106318225\n"
     ]
    }
   ],
   "source": [
    "p4_value_of_z = qnorm(1 - p4b_alpha_over_2)\n",
    "print(p4_value_of_z)"
   ]
  },
  {
   "cell_type": "code",
   "execution_count": 42,
   "metadata": {
    "ExecuteTime": {
     "end_time": "2020-10-31T04:27:38.568901Z",
     "start_time": "2020-10-31T04:27:38.554888Z"
    }
   },
   "outputs": [
    {
     "name": "stdout",
     "output_type": "stream",
     "text": [
      "[1] 2.053749\n"
     ]
    }
   ],
   "source": [
    "%%R -i p4b_alpha_over_2\n",
    "\n",
    "print(qnorm(1 - p4b_alpha_over_2))"
   ]
  },
  {
   "cell_type": "markdown",
   "metadata": {},
   "source": [
    "<img src=\"images/7_1_problem_4b_solution.png\" alt=\"images/7_1_problem_4b_solution.png\" style=\"float: left;\">"
   ]
  },
  {
   "cell_type": "markdown",
   "metadata": {},
   "source": [
    "# 5. DEVORESTAT9 7.E.009.\n"
   ]
  },
  {
   "cell_type": "markdown",
   "metadata": {
    "ExecuteTime": {
     "end_time": "2020-10-31T00:27:23.997285Z",
     "start_time": "2020-10-31T00:27:23.983272Z"
    }
   },
   "source": [
    "<h3> (a) A <span class=\"nobr\">100(1 <span style=\"font: inherit 2.00em/2.00em Trebuchet MS, Lucida Grande, sans-serif; padding: 0px\">−</span> <span style=\"font-family: 'Cambria', 'Georgia', serif; font-size: 1.15em\">𝛼</span>)%</span> confidence interval for the mean <span style=\"font-family: Cambria, Georgia, serif; font-style: italic; font-size: 1.15em\">μ</span> of a normal population when the value of <span style=\"font-family: 'Cambria', 'Georgia', serif; font-style: italic; font-size: 1.15em\">σ</span> is known is given by </h3>\n",
    "<img src=\"images/7_1_problem_1c.png\" alt=\"7_1_problem_1c.png\" style=\"\">\n",
    "<h3>Under the same conditions as those leading to the interval,</h3>\n",
    "<img src=\"images/7_1_problem_5a.png\" alt=\"7_1_problem_5a.png\" style=\"\">\n",
    "<h3> Use this to derive a <span class=\"nobr\">one-sided</span> interval for <span style=\"font-family: Cambria, Georgia, serif; font-style: italic; font-size: 1.15em\">μ</span> that has infinite width and provides a lower confidence bound on <span style=\"font-family: Cambria, Georgia, serif; font-style: italic; font-size: 1.15em\">μ</span>. "
   ]
  },
  {
   "cell_type": "markdown",
   "metadata": {},
   "source": [
    "<h3> What is this interval for the true average porosity of a certain seam of coal samples that is normally distributed with true standard deviation <font color=\"red\">0.71</font> if the average porosity for <span class=\"nobr\">20 specimens</span> from the seam was <font color=\"red\">4.35</font>? (If you need to use <img src=\"images/infinity_symbol.gif\" style=\"display: inline-block;top: -8px; position: relative;\"> or <span class=\"nobr\"><span class=\"font-size=0.85em;\">– </span><img src=\"images/infinity_symbol.gif\" style=\"display: inline-block; top: -8px; position: relative;\">,</span> enter INFINITY or <span class=\"font-size=0.85em;\">–</span>INFINITY, respectively. Round your answers to four decimal places.)</h3>"
   ]
  },
  {
   "cell_type": "code",
   "execution_count": 43,
   "metadata": {
    "ExecuteTime": {
     "end_time": "2020-10-31T04:27:38.584913Z",
     "start_time": "2020-10-31T04:27:38.569901Z"
    }
   },
   "outputs": [
    {
     "name": "stdout",
     "output_type": "stream",
     "text": [
      "p5a_confidence_interval=0.95\n",
      "p5a_qnorm_of_p5_confidence_interval=1.6448536269514722\n"
     ]
    }
   ],
   "source": [
    "p5a_confidence_interval = .95\n",
    "p5a_qnorm_of_p5_confidence_interval = qnorm(p5a_confidence_interval)\n",
    "print(f\"{p5a_confidence_interval=}\")\n",
    "print(f\"{p5a_qnorm_of_p5_confidence_interval=}\")"
   ]
  },
  {
   "cell_type": "code",
   "execution_count": 44,
   "metadata": {
    "ExecuteTime": {
     "end_time": "2020-10-31T04:27:38.599930Z",
     "start_time": "2020-10-31T04:27:38.586915Z"
    }
   },
   "outputs": [],
   "source": [
    "\"\"\"\n",
    "Find Confidence interval\n",
    "\n",
    "Notes:\n",
    "    Don't look for a z alpha\n",
    "\n",
    "\"\"\"\n",
    "p5a_sd = 0.71\n",
    "p5a_n = 20\n",
    "p5a_mean = 4.35"
   ]
  },
  {
   "cell_type": "code",
   "execution_count": 46,
   "metadata": {
    "ExecuteTime": {
     "end_time": "2020-10-31T04:27:57.953906Z",
     "start_time": "2020-10-31T04:27:57.942897Z"
    }
   },
   "outputs": [
    {
     "name": "stdout",
     "output_type": "stream",
     "text": [
      "Lower Bound: 4.088861678874059\n"
     ]
    }
   ],
   "source": [
    "p5a_result = calculate_interval(p5a_mean,\n",
    "                                p5a_confidence_interval,\n",
    "                                p5a_n,\n",
    "                                p5a_sd)\n",
    "\n",
    "print(\"Lower Bound: {}\".format(p5a_result[1]))  # TODO: Include why Infinity for Upper bound"
   ]
  },
  {
   "cell_type": "markdown",
   "metadata": {},
   "source": [
    "<h3> (b) Generalize the result of part (a) to obtain a lower bound with confidence level <span class=\"watexinlineblock\"><span class=\"watex watexlineheightnormal\">100(1 <span style=\"font: inherit 2.00em/2.00em Trebuchet MS, Lucida Grande, sans-serif; padding: 0px\">−</span> <span style=\"font-family: 'Cambria', 'Georgia', serif; font-size: 1.15em\">𝛼</span>)%.</span></span> </h3>"
   ]
  },
  {
   "cell_type": "code",
   "execution_count": null,
   "metadata": {},
   "outputs": [],
   "source": []
  },
  {
   "cell_type": "markdown",
   "metadata": {},
   "source": [
    "<h3> (c) What is an analogous interval to that of part (b) that provides an upper bound on <span style=\"font-family: Cambria, Georgia, serif; font-style: italic; font-size: 1.15em\">μ</span>? </h3>"
   ]
  },
  {
   "cell_type": "code",
   "execution_count": null,
   "metadata": {},
   "outputs": [],
   "source": []
  },
  {
   "cell_type": "markdown",
   "metadata": {},
   "source": [
    "<h3> Compute this 99% interval for the true average stray-load loss <span style=\"font-family: Cambria, Georgia, serif; font-style: italic; font-size: 1.15em\">μ</span> (watts) for a certain type of induction motor when the line current is held at <span class=\"nobr\">10 amps</span> for a speed of <span class=\"nobr\">1,500 rpm,</span> when <span class=\"watexinlineblock\"><span class=\"watex watexlineheightnormal\"><span style=\"font-style: italic;\"><span style=\"font-style: italic;\">n</span></span> = 25</span></span> and <span class=\"watexinlineblock\"><span class=\"watex watexlineheightnormal\"><span style=\"text-decoration: overline;\"><span style=\"font-style: italic;\">x</span></span> = 58.3.</span></span> Assume that stray-load loss is normally distributed with <span class=\"watexinlineblock\"><span class=\"watex watexlineheightnormal\"><span style=\"font-family: 'Cambria', 'Georgia', serif; font-style: italic; font-size: 1.15em\">σ</span> = 3.0.</span></span> (If you need to use <img src=\"images/infinity_symbol.gif\" style=\"display: inline-block;top: -8px; position: relative;\"> or <span class=\"nobr\"><span class=\"font-size=0.85em;\">– </span><img src=\"images/infinity_symbol.gif\" style=\"display: inline-block; top: -8px; position: relative;\">,</span> enter INFINITY or <span class=\"font-size=0.85em;\">–</span>INFINITY, respectively. Round your answers to four decimal places.) </h3>"
   ]
  },
  {
   "cell_type": "code",
   "execution_count": 58,
   "metadata": {
    "ExecuteTime": {
     "end_time": "2020-10-31T04:37:53.675054Z",
     "start_time": "2020-10-31T04:37:53.673053Z"
    }
   },
   "outputs": [],
   "source": [
    "p5c_confidence_interval_prob = .99 #TODO clean up interval prob for all confidence interval AND READ THE ABOVE AGAIN TO UDNER STNACE\n",
    "\n",
    "p5c_n = 25\n",
    "p5c_mean = 58.3\n",
    "p5c_sd = 3.0\n",
    "p5c_z_value = 1 - p5c_confidence_interval_prob\n"
   ]
  },
  {
   "cell_type": "code",
   "execution_count": 59,
   "metadata": {
    "ExecuteTime": {
     "end_time": "2020-10-31T04:37:54.722327Z",
     "start_time": "2020-10-31T04:37:54.712816Z"
    }
   },
   "outputs": [
    {
     "name": "stdout",
     "output_type": "stream",
     "text": [
      "59.6958087244245\n"
     ]
    }
   ],
   "source": [
    "p5c_result = calculate_interval(p5c_mean, p5c_z_value, p5c_n, p5c_sd)\n",
    "\n",
    "print(p5c_result[1])"
   ]
  }
 ],
 "metadata": {
  "kernelspec": {
   "display_name": "Python 3.8.5 64-bit Anaconda (Only works with Anaconda's Jupyter)",
   "language": "python",
   "name": "python_3.8.5_64-bit_anaconda"
  },
  "language_info": {
   "codemirror_mode": {
    "name": "ipython",
    "version": 3
   },
   "file_extension": ".py",
   "mimetype": "text/x-python",
   "name": "python",
   "nbconvert_exporter": "python",
   "pygments_lexer": "ipython3",
   "version": "3.8.5"
  },
  "varInspector": {
   "cols": {
    "lenName": 16,
    "lenType": 16,
    "lenVar": 40
   },
   "kernels_config": {
    "python": {
     "delete_cmd_postfix": "",
     "delete_cmd_prefix": "del ",
     "library": "var_list.py",
     "varRefreshCmd": "print(var_dic_list())"
    },
    "r": {
     "delete_cmd_postfix": ") ",
     "delete_cmd_prefix": "rm(",
     "library": "var_list.r",
     "varRefreshCmd": "cat(var_dic_list()) "
    }
   },
   "types_to_exclude": [
    "module",
    "function",
    "builtin_function_or_method",
    "instance",
    "_Feature"
   ],
   "window_display": false
  }
 },
 "nbformat": 4,
 "nbformat_minor": 4
}

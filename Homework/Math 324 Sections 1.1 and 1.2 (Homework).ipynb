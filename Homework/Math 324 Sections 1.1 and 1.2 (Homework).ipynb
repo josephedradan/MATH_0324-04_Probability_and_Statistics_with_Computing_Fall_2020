{
 "cells": [
  {
   "cell_type": "markdown",
   "metadata": {},
   "source": [
    "# 4. DEVORESTAT9 1.E.010.\n"
   ]
  },
  {
   "cell_type": "code",
   "execution_count": 1,
   "metadata": {},
   "outputs": [
    {
     "data": {
      "text/plain": [
       "'\\n\\nReference:\\n    Graphing stem and leaf\\n        https://www.geeksforgeeks.org/stem-and-leaf-plots-in-python/\\n'"
      ]
     },
     "execution_count": 1,
     "metadata": {},
     "output_type": "execute_result"
    }
   ],
   "source": [
    "#pip install stemgraphic\n",
    "\"\"\"\n",
    "\n",
    "Reference:\n",
    "    Graphing stem and leaf\n",
    "        https://www.geeksforgeeks.org/stem-and-leaf-plots-in-python/\n",
    "\"\"\""
   ]
  },
  {
   "cell_type": "code",
   "execution_count": 2,
   "metadata": {},
   "outputs": [
    {
     "name": "stdout",
     "output_type": "stream",
     "text": [
      "list_formatted=[5.9, 6.3, 6.3, 6.5, 6.8, 6.8, 7.0, 7.0, 7.2, 7.3, 7.4, 7.6, 7.7, 7.7, 7.8, 7.8, 7.9, 8.1, 8.2, 8.7, 9.0, 9.7, 9.7, 10.7, 11.3, 11.6, 11.8]\n"
     ]
    }
   ],
   "source": [
    "import re\n",
    "import stemgraphic\n",
    "\"\"\"\n",
    "Flexural strength is a measure of a material's ability to resist failure in bending. The accompanying data are on flexural strength of concrete (in MegaPascal, MPa, where 1 Pa (Pascal) = 1.45 ⨯ 10−4 psi):\n",
    "\n",
    "\"\"\"\n",
    "# Copying the list from the HW\n",
    "list_input = \"\"\"\n",
    "5.9\t7.2\t7.3\t6.3\t8.1\t6.8\t7.0\t7.6\t6.8\t6.5\t7.0\t6.3\t7.9\t9.0\n",
    "8.2\t8.7\t7.8\t9.7\t7.4\t7.7\t9.7\t7.8\t7.7\t11.6\t11.3\t11.8\t10.7\n",
    "\"\"\"\n",
    "\n",
    "# Regex ti get the numbers\n",
    "list_strings = re.split(\"\\t|\\n\", list_input)\n",
    "# print(list_strings)\n",
    "\n",
    "# List of non emtpy strings\n",
    "list_strings = [i for i in list_strings if i != \"\"]\n",
    "\n",
    "# String to float\n",
    "list_formatted = [float(i) for i in list_strings]\n",
    "\n",
    "# Sort the list\n",
    "list_formatted.sort()\n",
    "\n",
    "print(f'{list_formatted=}')\n",
    "# print()\n",
    "\n"
   ]
  },
  {
   "cell_type": "markdown",
   "metadata": {},
   "source": [
    "### (a) Construct a stem-and-leaf display of the data. (Enter numbers from smallest to largest separated by spaces. Enter NONE for stems with no values.)\n"
   ]
  },
  {
   "cell_type": "code",
   "execution_count": 3,
   "metadata": {
    "scrolled": false
   },
   "outputs": [
    {
     "name": "stdout",
     "output_type": "stream",
     "text": [
      "(a) Construct a stem-and-leaf display of the data. (Enter numbers from smallest to largest separated by spaces. Enter NONE for stems with no values.)\n",
      "(<Figure size 540x180 with 1 Axes>, <matplotlib.axes._axes.Axes object at 0x0000025423321DF0>)\n"
     ]
    },
    {
     "data": {
      "image/png": "[encoded data removed]",
      "text/plain": [
       "<Figure size 540x180 with 1 Axes>"
      ]
     },
     "metadata": {
      "needs_background": "light"
     },
     "output_type": "display_data"
    }
   ],
   "source": [
    "\"\"\"\n",
    "(a) Construct a stem-and-leaf display of the data. (Enter numbers from smallest to largest separated by spaces. Enter NONE for stems with no values.)\n",
    "\"\"\"\n",
    "print(\"(a) Construct a stem-and-leaf display of the data. (Enter numbers from smallest to largest separated by spaces. Enter NONE for stems with no values.)\")\n",
    "\n",
    "# Stem and left graph\n",
    "print(stemgraphic.stem_graphic(list_formatted, scale = 1))"
   ]
  },
  {
   "cell_type": "markdown",
   "metadata": {},
   "source": [
    "### What appears to be a representative strength value?"
   ]
  },
  {
   "cell_type": "code",
   "execution_count": 4,
   "metadata": {},
   "outputs": [
    {
     "name": "stdout",
     "output_type": "stream",
     "text": [
      "What appears to be a representative strength value?\n",
      "7.7\n"
     ]
    }
   ],
   "source": [
    "\"\"\"\n",
    "What appears to be a representative strength value?\n",
    "\"\"\"\n",
    "# representative value (AKA THE MIDDLE OF THE List)\n",
    "representative_value = list_formatted[\n",
    "    len(list_formatted)//2]  # floored division\n",
    "\n",
    "print(\"What appears to be a representative strength value?\")\n",
    "print(f'{representative_value}')"
   ]
  },
  {
   "cell_type": "markdown",
   "metadata": {},
   "source": [
    "### Do the observations appear to be highly concentrated about the representative value or rather spread out?\n"
   ]
  },
  {
   "cell_type": "code",
   "execution_count": 5,
   "metadata": {},
   "outputs": [
    {
     "name": "stdout",
     "output_type": "stream",
     "text": [
      "Do the observations appear to be highly concentrated about the representative value or rather spread out?\n",
      "spread out with a large range\n"
     ]
    }
   ],
   "source": [
    "\"\"\"\n",
    "Do the observations appear to be highly concentrated about the representative value or rather spread out?\n",
    "\"\"\"\n",
    "print(\"Do the observations appear to be highly concentrated about the representative value or rather spread out?\")\n",
    "print(\"spread out with a large range\")"
   ]
  },
  {
   "cell_type": "markdown",
   "metadata": {},
   "source": [
    "### (b) Does the display appear to be reasonably symmetric about a representative value, or would you describe its shape in some other way?  \n"
   ]
  },
  {
   "cell_type": "code",
   "execution_count": 6,
   "metadata": {},
   "outputs": [
    {
     "name": "stdout",
     "output_type": "stream",
     "text": [
      "(b) Does the display appear to be reasonably symmetric about a representative value, or would you describe its shape in some other way?\n",
      "positive skewness\n"
     ]
    }
   ],
   "source": [
    "\"\"\"\n",
    "(b) Does the display appear to be reasonably symmetric about a representative value, or would you describe its shape in some other way?  \n",
    "\"\"\"\n",
    "print(\"(b) Does the display appear to be reasonably symmetric about a representative value, or would you describe its shape in some other way?\")\n",
    "print(\"positive skewness\")"
   ]
  },
  {
   "cell_type": "markdown",
   "metadata": {},
   "source": [
    "### (c) Do there appear to be any outlying strength values?\n"
   ]
  },
  {
   "cell_type": "code",
   "execution_count": 7,
   "metadata": {},
   "outputs": [
    {
     "name": "stdout",
     "output_type": "stream",
     "text": [
      "(c) Do there appear to be any outlying strength values?\n",
      "Yes\n"
     ]
    }
   ],
   "source": [
    "\"\"\"\n",
    "(c) Do there appear to be any outlying strength values?\n",
    "\n",
    "\"\"\"\n",
    "print(\"(c) Do there appear to be any outlying strength values?\")\n",
    "print(\"Yes\")"
   ]
  },
  {
   "cell_type": "markdown",
   "metadata": {},
   "source": [
    "### (d) What proportion of strength observations in this sample exceed 10 MPa? (Round your answer to two decimal places.)\n"
   ]
  },
  {
   "cell_type": "code",
   "execution_count": 8,
   "metadata": {},
   "outputs": [
    {
     "name": "stdout",
     "output_type": "stream",
     "text": [
      "(d) What proportion of strength observations in this sample exceed 10 MPa? (Round your answer to two decimal places.)\n",
      "0.15\n"
     ]
    }
   ],
   "source": [
    "\"\"\"\n",
    "(d) What proportion of strength observations in this sample exceed 10 MPa? (Round your answer to two decimal places.)\n",
    "\"\"\"\n",
    "# Get values over 10MPA in a list\n",
    "values_about_10_MPa = [i for i in list_formatted if i >= 10]\n",
    "\n",
    "proportion = len(values_about_10_MPa) / len(list_formatted)\n",
    "print(\"(d) What proportion of strength observations in this sample exceed 10 MPa? (Round your answer to two decimal places.)\")\n",
    "print(\"{:.2f}\".format(proportion))"
   ]
  },
  {
   "cell_type": "markdown",
   "metadata": {},
   "source": [
    "# 5. DEVORESTAT9 1.E.017.MI."
   ]
  },
  {
   "cell_type": "code",
   "execution_count": 9,
   "metadata": {},
   "outputs": [
    {
     "name": "stdout",
     "output_type": "stream",
     "text": [
      "   num_bidders  num_contracts\n",
      "0            2              6\n",
      "1            3             20\n",
      "2            4             26\n",
      "3            5             18\n",
      "4            6             12\n",
      "5            7              7\n",
      "6            8              5\n",
      "7            9              6\n",
      "8           10              4\n",
      "9           11              3\n"
     ]
    }
   ],
   "source": [
    "\"\"\"\n",
    "Reference:\n",
    "    How to create a Pandas DataFrame from a string in Python\n",
    "        https://www.kite.com/python/answers/how-to-create-a-pandas-dataframe-from-a-string-in-python\n",
    "    \n",
    "    Construct a DataFrame in Pandas using string data\n",
    "        https://www.geeksforgeeks.org/construct-a-dataframe-in-pandas-using-string-data/\n",
    "        \n",
    "    How to shift down columns row and re-assign column values in Pandas Dataframe?\n",
    "        https://stackoverflow.com/questions/38444884/how-to-shift-down-columns-row-and-re-assign-column-values-in-pandas-dataframe\n",
    "        \n",
    "\"\"\"\n",
    "import pandas as pd\n",
    "from io import StringIO\n",
    "\n",
    "# String copied from question\n",
    "string_data = \"\"\"\n",
    "2\t6\n",
    "3\t20\n",
    "4\t26\n",
    "5\t18\n",
    "6\t12\n",
    "7\t7\n",
    "8\t5\n",
    "9\t6\n",
    "10\t4\n",
    "11\t3\n",
    "\"\"\"\n",
    "\n",
    "# Convert string to an text stream\n",
    "df = pd.read_csv(StringIO(string_data), sep=\"\\t\", header=None) # No headers \n",
    "\n",
    "# Add headers\n",
    "df = df.rename(columns={0:\"num_bidders\", 1:\"num_contracts\"})\n",
    "print(df)"
   ]
  },
  {
   "cell_type": "markdown",
   "metadata": {},
   "source": [
    "### (a) What proportion of the contracts involved at most five bidders? At least five bidders? (Round your answers to three decimal places.)\n"
   ]
  },
  {
   "cell_type": "code",
   "execution_count": 10,
   "metadata": {},
   "outputs": [
    {
     "name": "stdout",
     "output_type": "stream",
     "text": [
      "(a) What proportion of the contracts involved at most five bidders? At least five bidders? (Round your answers to three decimal places.)\n",
      "0.654\n",
      "0.514\n"
     ]
    }
   ],
   "source": [
    "\"\"\"\n",
    "(a) What proportion of the contracts involved at most five bidders? At least five bidders? (Round your answers to three decimal places.)\n",
    "\n",
    "Reference:\n",
    "    Python Pandas: Get index of rows which column matches certain value\n",
    "        https://stackoverflow.com/questions/21800169/python-pandas-get-index-of-rows-which-column-matches-certain-value\n",
    "\"\"\"\n",
    "print(\"(a) What proportion of the contracts involved at most five bidders? At least five bidders? (Round your answers to three decimal places.)\")\n",
    "# print(df_at_most_5_bidders)\n",
    "\n",
    "# Sum of the total number of contracts\n",
    "sum_total_num_contracts = df.sum(axis=-0)[1]\n",
    "\n",
    "# Indices where column \"num_bidders\" less than equal 5\n",
    "indices_num_bidders_less_than_equal_5 = df.iloc[:, 0] <=5\n",
    "# print(indicies_less_than_5)\n",
    "\n",
    "# dataframe where column \"num_bidders\" less than 5\n",
    "df_at_most_5_bidders = df.loc[indices_num_bidders_less_than_equal_5]\n",
    "# print(df_at_most_5_bidders)\n",
    "\n",
    "# Sum of the number of contracts that have at most 5 bidders\n",
    "sum_num_contracts_bidders_at_most_5 = df_at_most_5_bidders.sum(axis = 0)[1]  # Sum of rows of column index 1\n",
    "\n",
    "ratio_bidders_at_most_5 = sum_num_contracts_bidders_at_most_5 / sum_total_num_contracts\n",
    "\n",
    "print(\"{:.3f}\".format(ratio_bidders_at_most_5))\n",
    "\n",
    "################\n",
    "\"\"\"\n",
    "Could have just inverted the Trues from indices_num_bidders_less_than_equal_5\n",
    "OR\n",
    "sum_total_num_contracts - sum_num_contracts_bidders_at_most_5 = sum_num_contracts_bidders_greater_than_equal_5\n",
    "\n",
    "\"\"\"\n",
    "\n",
    "# Indices where column \"num_bidders\" greater than eqaul 5\n",
    "indicies_greater_than_equal_5 = df.iloc[:, 0] >= 5\n",
    "\n",
    "# dataframe where column \"num_bidders\" greater than equal 5\n",
    "df_at_least_5_bidders = df.loc[indicies_greater_than_equal_5]\n",
    "\n",
    "# Sum of the number of contracts that have greater than equal 5 bidders\n",
    "sum_num_contracts_bidders_greater_than_equal_5 = df_at_least_5_bidders.sum(axis = 0)[1]\n",
    "\n",
    "ratio_bidders_greater_than_equal_5 = sum_num_contracts_bidders_greater_than_equal_5 / sum_total_num_contracts\n",
    "print(\"{:.3f}\".format(ratio_bidders_greater_than_equal_5))\n",
    "\n",
    "\n"
   ]
  },
  {
   "cell_type": "markdown",
   "metadata": {},
   "source": [
    "### (b) What proportion of the contracts involved between five and 10 bidders, inclusive? Strictly between five and 10 bidders? (Round your answers to three decimal places.)\n"
   ]
  },
  {
   "cell_type": "code",
   "execution_count": 11,
   "metadata": {},
   "outputs": [
    {
     "name": "stdout",
     "output_type": "stream",
     "text": [
      "(b) What proportion of the contracts involved between five and 10 bidders, inclusive? Strictly between five and 10 bidders? (Round your answers to three decimal places.)\n",
      "0.486\n",
      "0.280\n"
     ]
    }
   ],
   "source": [
    "\"\"\"\n",
    "(b) What proportion of the contracts involved between five and 10 bidders, inclusive? Strictly between five and 10 bidders? (Round your answers to three decimal places.)\n",
    "\"\"\"\n",
    "print(\"(b) What proportion of the contracts involved between five and 10 bidders, inclusive? Strictly between five and 10 bidders? (Round your answers to three decimal places.)\")\n",
    "\n",
    "# indices where number of bidders between 5 and 10 inclusive\n",
    "indices_num_bidders_between_5_and_10_inclusive = (\n",
    "    (df.num_bidders >= 5) & (df.num_bidders <= 10)\n",
    ")\n",
    "# print(indices_num_bidders_between_5_and_10_inclusive)\n",
    "\n",
    "# dataframe contracts where bidders between 5 and 5 inclusive\n",
    "df_contracts_bidders_between_5_and_10_inclusive = df.loc[\n",
    "    indices_num_bidders_between_5_and_10_inclusive\n",
    "]\n",
    "# print(df_contracts_bidders_between_5_and_10_inclusive)\n",
    "\n",
    "# Sum of the number of contracts where bidders between 5 and 10 inclusive\n",
    "sum_num_contracts_bidders_between_5_and_10_inclusive = df_contracts_bidders_between_5_and_10_inclusive.sum(axis=0)[1]\n",
    "\n",
    "ratio_contracts_bidders_between_5_and_10_inclusive = sum_num_contracts_bidders_between_5_and_10_inclusive / sum_total_num_contracts\n",
    "\n",
    "print(\"{:.3f}\".format(ratio_contracts_bidders_between_5_and_10_inclusive))\n",
    "\n",
    "############\n",
    "\n",
    "# indices where number of bidders between 5 and 10 strict\n",
    "indices_num_bidders_between_5_and_10_strict = (\n",
    "    (df.num_bidders > 5) & (df.num_bidders < 10))\n",
    "# print(indices_num_bidders_between_5_and_10_inclusive)\n",
    "\n",
    "# dataframe contracts where bidders between 5 and 5 strict\n",
    "df_contracts_bidders_between_5_and_10_strict = df.loc[\n",
    "    indices_num_bidders_between_5_and_10_strict\n",
    "]\n",
    "# print(df_contracts_bidders_between_5_and_10_inclusive)\n",
    "\n",
    "# Sum of the number of contracts where bidders between 5 and 10 strict\n",
    "sum_num_contracts_bidders_between_5_and_10_strict = df_contracts_bidders_between_5_and_10_strict.sum(axis=0)[1]\n",
    "\n",
    "ratio_contracts_bidders_between_5_and_10_strict = sum_num_contracts_bidders_between_5_and_10_strict / sum_total_num_contracts\n",
    "\n",
    "print(\"{:.3f}\".format(ratio_contracts_bidders_between_5_and_10_strict))\n",
    "\n"
   ]
  },
  {
   "cell_type": "markdown",
   "metadata": {},
   "source": [
    "### (c) Construct a histogram.\n"
   ]
  },
  {
   "cell_type": "code",
   "execution_count": 12,
   "metadata": {
    "scrolled": true
   },
   "outputs": [
    {
     "name": "stdout",
     "output_type": "stream",
     "text": [
      "(c) Construct a histogram.\n",
      "(array([ 6., 20., 26., 18., 12.,  7.,  5.,  6.,  4.,  3.]), array([ 2. ,  2.9,  3.8,  4.7,  5.6,  6.5,  7.4,  8.3,  9.2, 10.1, 11. ]), <BarContainer object of 10 artists>)\n"
     ]
    },
    {
     "data": {
      "image/png": "[encoded data removed]",
      "text/plain": [
       "<Figure size 432x288 with 1 Axes>"
      ]
     },
     "metadata": {
      "needs_background": "light"
     },
     "output_type": "display_data"
    }
   ],
   "source": [
    "\"\"\"\n",
    "(c) Construct a histogram.\n",
    "\n",
    "Reference:\n",
    "    pandas - histogram from two columns?\n",
    "        https://stackoverflow.com/questions/31571830/pandas-histogram-from-two-columns\n",
    "        \n",
    "    Notes on weights for matplotlib.pyplot.hist\n",
    "        https://matplotlib.org/3.3.1/api/_as_gen/matplotlib.pyplot.hist.html\n",
    "\"\"\"\n",
    "from matplotlib.pyplot import hist\n",
    "\n",
    "print(\"(c) Construct a histogram.\")\n",
    "print(hist(df.num_bidders, weights=df.num_contracts))  # Instead of bins (which is the spacing) use weights which is the specific bins\n"
   ]
  },
  {
   "cell_type": "code",
   "execution_count": 13,
   "metadata": {},
   "outputs": [
    {
     "name": "stdout",
     "output_type": "stream",
     "text": [
      "Comment on interesting features.\n",
      "\n",
      "The distribution of number of bidders is \n",
      "positively\n",
      " \n",
      "Correct: Your answer is correct.\n",
      " skewed, ranging from a low of \n",
      "2\n",
      " \n",
      "Correct: Your answer is correct.\n",
      " bidders to a high of \n",
      "11\n",
      " \n",
      "Correct: Your answer is correct.\n",
      " bidders, with a typical value of around 4-5 bidders.\n"
     ]
    }
   ],
   "source": [
    "\"\"\"\n",
    "Comment on interesting features.\n",
    "\n",
    "\"\"\"\n",
    "print(\"Comment on interesting features.\")\n",
    "print(\"\"\"\n",
    "The distribution of number of bidders is \n",
    "positively\n",
    " \n",
    "Correct: Your answer is correct.\n",
    " skewed, ranging from a low of \n",
    "2\n",
    " \n",
    "Correct: Your answer is correct.\n",
    " bidders to a high of \n",
    "11\n",
    " \n",
    "Correct: Your answer is correct.\n",
    " bidders, with a typical value of around 4-5 bidders.\"\"\"\n",
    "     )"
   ]
  }
 ],
 "metadata": {
  "kernelspec": {
   "display_name": "Python 3.8.4 64-bit",
   "language": "python",
   "name": "python3"
  },
  "language_info": {
   "codemirror_mode": {
    "name": "ipython",
    "version": 3
   },
   "file_extension": ".py",
   "mimetype": "text/x-python",
   "name": "python",
   "nbconvert_exporter": "python",
   "pygments_lexer": "ipython3",
   "version": "3.8.4"
  }
 },
 "nbformat": 4,
 "nbformat_minor": 4
}

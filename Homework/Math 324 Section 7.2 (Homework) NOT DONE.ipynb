{
 "cells": [
  {
   "cell_type": "code",
   "execution_count": 1,
   "metadata": {
    "ExecuteTime": {
     "end_time": "2020-12-01T02:02:59.970961Z",
     "start_time": "2020-12-01T02:02:58.740168Z"
    },
    "scrolled": true
   },
   "outputs": [
    {
     "name": "stderr",
     "output_type": "stream",
     "text": [
      "C:\\Users\\Joseph\\anaconda3\\lib\\site-packages\\rpy2\\robjects\\packages.py:365: UserWarning: The symbol 'quartz' is not in this R namespace/package.\n",
      "  warnings.warn(\n"
     ]
    }
   ],
   "source": [
    "\"\"\" \n",
    "More on rpy2 options \n",
    "https://ipython.org/ipython-doc/2/config/extensions/rmagic.html \"\"\"\n",
    "import rpy2\n",
    "%load_ext rpy2.ipython"
   ]
  },
  {
   "cell_type": "code",
   "execution_count": 15,
   "metadata": {
    "ExecuteTime": {
     "end_time": "2020-12-01T02:07:14.474095Z",
     "start_time": "2020-12-01T02:07:14.467090Z"
    }
   },
   "outputs": [],
   "source": [
    "import numpy as np\n",
    "import pandas as pd\n"
   ]
  },
  {
   "cell_type": "code",
   "execution_count": 2,
   "metadata": {
    "ExecuteTime": {
     "end_time": "2020-12-01T02:02:59.985974Z",
     "start_time": "2020-12-01T02:02:59.971962Z"
    }
   },
   "outputs": [],
   "source": [
    "# 2\n"
   ]
  },
  {
   "cell_type": "code",
   "execution_count": 3,
   "metadata": {
    "ExecuteTime": {
     "end_time": "2020-12-01T02:03:00.422076Z",
     "start_time": "2020-12-01T02:02:59.986975Z"
    }
   },
   "outputs": [],
   "source": [
    "import numpy as np\n",
    "import pandas as pd\n",
    "from scipy.stats import norm\n",
    "\n",
    "qnorm = norm.ppf"
   ]
  },
  {
   "cell_type": "code",
   "execution_count": 31,
   "metadata": {
    "ExecuteTime": {
     "end_time": "2020-12-01T02:19:02.542774Z",
     "start_time": "2020-12-01T02:19:02.529763Z"
    }
   },
   "outputs": [
    {
     "data": {
      "text/plain": [
       "55.145833333333336"
      ]
     },
     "execution_count": 31,
     "metadata": {},
     "output_type": "execute_result"
    }
   ],
   "source": [
    "p2_data = \"\"\"\n",
    "62\t50\t53\t58\t42\t54\t56\t61\t59\t64\t50\t54\t64\t62\t51\t68\n",
    "55\t55\t57\t50\t55\t51\t57\t56\t46\t56\t53\t54\t53\t48\t47\t56\n",
    "58\t49\t63\t57\t57\t55\t53\t59\t54\t52\t51\t56\t60\t50\t57\t59\n",
    "\"\"\"\n",
    "\n",
    "p2_list = p2_data.split(\"\\n\")\n",
    "p2_list = [i for i in p2_list if i]\n",
    "p2_list_list = [row.split(\"\\t\") for row in p2_list]\n",
    "p2_list_list = [[int(i) for i in row] for row in p2_list_list]\n",
    "\n",
    "\n",
    "\n",
    "p2_np_array = np.array(p2_list_list)\n",
    "\n",
    "p2_np_array = np.array(p2_list_list)\n",
    "p2_np_array_mean = np.mean(p2_np_array)\n",
    "p2_np_array_mean"
   ]
  },
  {
   "cell_type": "code",
   "execution_count": 51,
   "metadata": {
    "ExecuteTime": {
     "end_time": "2020-12-01T02:29:22.906038Z",
     "start_time": "2020-12-01T02:29:22.862001Z"
    }
   },
   "outputs": [
    {
     "name": "stdout",
     "output_type": "stream",
     "text": [
      "[1] \"integer\"\n",
      " [1] 62 55 58 50 55 49 53 57 63 58 50 57 42 55 57 54 51 55 56 57 53 61 56 59 59\n",
      "[26] 46 54 64 56 52 50 53 51 54 54 56 64 53 60 62 48 50 51 47 57 68 56 59\n",
      "STD:  5.094802 \n",
      "[1] \"double\"\n"
     ]
    },
    {
     "data": {
      "image/png": "[encoded data removed]"
     },
     "metadata": {},
     "output_type": "display_data"
    }
   ],
   "source": [
    "%%R -i p2_np_array\n",
    "\n",
    "p2_vector = c(p2_np_array)\n",
    "print(typeof(p2_vector))\n",
    "print(p2_vector)\n",
    "cat(\"STD: \", sd(p2_np_array), \"\\n\")\n",
    "\n",
    "p2_np_array <- as.numeric(p2_np_array)\n",
    "print(typeof(p2_np_array))\n",
    "boxplot(p2_np_array, horizontal=TRUE)"
   ]
  },
  {
   "cell_type": "code",
   "execution_count": 25,
   "metadata": {
    "ExecuteTime": {
     "end_time": "2020-12-01T02:10:45.261097Z",
     "start_time": "2020-12-01T02:10:45.246084Z"
    }
   },
   "outputs": [
    {
     "data": {
      "text/plain": [
       "5.09480161989643"
      ]
     },
     "execution_count": 25,
     "metadata": {},
     "output_type": "execute_result"
    }
   ],
   "source": [
    "p2_sd = np.std(p2_np_array, ddof=1)\n",
    "p2_sd"
   ]
  },
  {
   "cell_type": "code",
   "execution_count": 7,
   "metadata": {
    "ExecuteTime": {
     "end_time": "2020-12-01T02:03:00.564197Z",
     "start_time": "2020-12-01T02:03:00.550185Z"
    }
   },
   "outputs": [],
   "source": [
    "# 6"
   ]
  },
  {
   "cell_type": "code",
   "execution_count": 8,
   "metadata": {
    "ExecuteTime": {
     "end_time": "2020-12-01T02:03:00.579209Z",
     "start_time": "2020-12-01T02:03:00.565198Z"
    }
   },
   "outputs": [],
   "source": [
    "p5_n = 152\n",
    "p5_hip = 8\n",
    "p5_ci = .95"
   ]
  },
  {
   "cell_type": "code",
   "execution_count": 9,
   "metadata": {
    "ExecuteTime": {
     "end_time": "2020-12-01T02:03:00.595223Z",
     "start_time": "2020-12-01T02:03:00.580210Z"
    }
   },
   "outputs": [
    {
     "name": "stdout",
     "output_type": "stream",
     "text": [
      "0.05263157894736842\n"
     ]
    }
   ],
   "source": [
    "p5_p = p5_hip/p5_n\n",
    "p5_q = 1 - p5_p\n",
    "print(p5_p)\n"
   ]
  },
  {
   "cell_type": "code",
   "execution_count": 10,
   "metadata": {
    "ExecuteTime": {
     "end_time": "2020-12-01T02:03:00.610235Z",
     "start_time": "2020-12-01T02:03:00.596223Z"
    }
   },
   "outputs": [
    {
     "name": "stdout",
     "output_type": "stream",
     "text": [
      "0.029906895654041993\n"
     ]
    }
   ],
   "source": [
    "\n",
    "p5_numerator = p5_p + (qnorm(p5_ci)**(2)/(2 * p5_n)) - qnorm(p5_ci) * ((p5_p*p5_q)/p5_n + (qnorm(p5_ci)**(2))/(4 * p5_n**(2)))**(1/2)\n",
    "\n",
    "p5_demoninator = 1 + qnorm(p5_ci)**2/p5_n\n",
    "\n",
    "p5_sol = p5_numerator / p5_demoninator\n",
    "\n",
    "print(p5_sol)"
   ]
  }
 ],
 "metadata": {
  "kernelspec": {
   "display_name": "Python 3.8.5 64-bit Anaconda (Only works with Anaconda's Jupyter)",
   "language": "python",
   "name": "python_3.8.5_64-bit_anaconda"
  },
  "language_info": {
   "codemirror_mode": {
    "name": "ipython",
    "version": 3
   },
   "file_extension": ".py",
   "mimetype": "text/x-python",
   "name": "python",
   "nbconvert_exporter": "python",
   "pygments_lexer": "ipython3",
   "version": "3.8.5"
  },
  "varInspector": {
   "cols": {
    "lenName": 16,
    "lenType": 16,
    "lenVar": 40
   },
   "kernels_config": {
    "python": {
     "delete_cmd_postfix": "",
     "delete_cmd_prefix": "del ",
     "library": "var_list.py",
     "varRefreshCmd": "print(var_dic_list())"
    },
    "r": {
     "delete_cmd_postfix": ") ",
     "delete_cmd_prefix": "rm(",
     "library": "var_list.r",
     "varRefreshCmd": "cat(var_dic_list()) "
    }
   },
   "types_to_exclude": [
    "module",
    "function",
    "builtin_function_or_method",
    "instance",
    "_Feature"
   ],
   "window_display": false
  }
 },
 "nbformat": 4,
 "nbformat_minor": 4
}

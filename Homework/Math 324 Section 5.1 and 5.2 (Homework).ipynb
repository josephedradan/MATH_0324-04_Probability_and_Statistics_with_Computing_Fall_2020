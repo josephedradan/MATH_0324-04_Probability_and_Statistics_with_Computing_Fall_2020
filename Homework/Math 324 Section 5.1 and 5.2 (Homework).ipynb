{
 "cells": [
  {
   "cell_type": "code",
   "execution_count": 1,
   "metadata": {
    "ExecuteTime": {
     "end_time": "2020-10-24T03:32:52.388247Z",
     "start_time": "2020-10-24T03:32:50.619079Z"
    }
   },
   "outputs": [
    {
     "name": "stderr",
     "output_type": "stream",
     "text": [
      "C:\\Users\\Joseph\\anaconda3\\lib\\site-packages\\rpy2\\robjects\\packages.py:365: UserWarning: The symbol 'quartz' is not in this R namespace/package.\n",
      "  warnings.warn(\n"
     ]
    }
   ],
   "source": [
    "\"\"\"\n",
    "More on rpy2 options\n",
    "https://ipython.org/ipython-doc/2/config/extensions/rmagic.html\n",
    "\"\"\"\n",
    "import rpy2\n",
    "%load_ext rpy2.ipython"
   ]
  },
  {
   "cell_type": "markdown",
   "metadata": {},
   "source": [
    "# 1. DEVORESTAT9 5.E.001.MI.\n",
    "<p>\n",
    " A service station has both self-service and full-service islands. On each island, there is a single regular unleaded pump with two hoses. Let X denote the number of hoses being used on the self-service island at a particular time, and let Y denote the number of hoses on the full-service island in use at that time. The joint pmf of X and Y appears in the accompanying tabulation.\n",
    "</p>\n",
    "<img src=\"images/5_1_and_5_2_problem_1.png\" alt=\"5_1_and_5_2_problem_1.png\" style=\"float:left;\">"
   ]
  },
  {
   "cell_type": "code",
   "execution_count": 2,
   "metadata": {
    "ExecuteTime": {
     "end_time": "2020-10-24T03:32:52.404261Z",
     "start_time": "2020-10-24T03:32:52.390249Z"
    }
   },
   "outputs": [
    {
     "name": "stdout",
     "output_type": "stream",
     "text": [
      "[['0.10', '0.03', '0.01'], ['0.06', '0.20', '0.07'], ['0.06', '0.14', '0.33']]\n"
     ]
    }
   ],
   "source": [
    "# It's not really worth copying the text because it's in a weird format.\n",
    "# I Suggest removing the x and y part then formatting.\n",
    "p1_string = \"\"\"\n",
    "p(x, y)\n",
    "0\t1\t2\n",
    "0\t0.10\t0.03\t0.01\n",
    "1\t0.06\t0.20\t0.07\n",
    "2\t0.06\t0.14\t0.33\n",
    "\"\"\"\n",
    "\n",
    "p1_data = p1_string.split(\"\\n\")  # Split by new line\n",
    "p1_data = [i for i in p1_data if i]  # Remove empty\n",
    "# remove the first item in the list because it's not useful\n",
    "p1_data = p1_data[1:]\n",
    "\n",
    "p1_data = [i.split(\"\\t\") for i in p1_data]\n",
    "p1_data_header = p1_data[0]  # Get the headers\n",
    "p1_data = p1_data[1:]  # Drop the headers from p1_data\n",
    "# Ignore the first data point in the inner list\n",
    "p1_data = [i[1:] for i in p1_data]\n",
    "print(p1_data)"
   ]
  },
  {
   "cell_type": "code",
   "execution_count": 3,
   "metadata": {
    "ExecuteTime": {
     "end_time": "2020-10-24T03:32:52.420274Z",
     "start_time": "2020-10-24T03:32:52.407263Z"
    }
   },
   "outputs": [
    {
     "name": "stdout",
     "output_type": "stream",
     "text": [
      "float64\n",
      "[[0.1  0.03 0.01]\n",
      " [0.06 0.2  0.07]\n",
      " [0.06 0.14 0.33]]\n"
     ]
    }
   ],
   "source": [
    "import numpy as np\n",
    "import pandas as pd\n",
    "\n",
    "p1_np_array = np.array(p1_data)\n",
    "p1_np_array = p1_np_array.astype(np.float64)  # Set type to float\n",
    "print(p1_np_array.dtype)\n",
    "print(p1_np_array)"
   ]
  },
  {
   "cell_type": "markdown",
   "metadata": {},
   "source": [
    "### (a) What is P(X = 1 and Y = 1)?"
   ]
  },
  {
   "cell_type": "code",
   "execution_count": 4,
   "metadata": {
    "ExecuteTime": {
     "end_time": "2020-10-24T03:32:52.436290Z",
     "start_time": "2020-10-24T03:32:52.422277Z"
    }
   },
   "outputs": [
    {
     "name": "stdout",
     "output_type": "stream",
     "text": [
      "0.2\n",
      "\n",
      "0.2\n"
     ]
    }
   ],
   "source": [
    "p1a_solution = p1_np_array[1][1]  # [row][column]\n",
    "print(p1a_solution)\n",
    "print()\n",
    "\n",
    "p1a_solution = p1_np_array[1,1]  # [row, column]\n",
    "print(p1a_solution)"
   ]
  },
  {
   "cell_type": "markdown",
   "metadata": {},
   "source": [
    "### (b) Compute P(X ≤ 1 and Y ≤ 1)."
   ]
  },
  {
   "cell_type": "code",
   "execution_count": 5,
   "metadata": {
    "ExecuteTime": {
     "end_time": "2020-10-24T03:32:52.452302Z",
     "start_time": "2020-10-24T03:32:52.438290Z"
    }
   },
   "outputs": [
    {
     "name": "stdout",
     "output_type": "stream",
     "text": [
      "[[0.1  0.03]\n",
      " [0.06 0.2 ]]\n",
      "\n",
      "p1b_solution=0.39\n"
     ]
    }
   ],
   "source": [
    "p1b_np_array = p1_np_array[:2, :2]\n",
    "print(p1b_np_array)\n",
    "print()\n",
    "\n",
    "p1b_solution = np.sum(p1b_np_array)\n",
    "print(f\"{p1b_solution=}\")"
   ]
  },
  {
   "cell_type": "markdown",
   "metadata": {},
   "source": [
    "### (c) Give a word description of the event {X ≠ 0 and Y ≠ 0}.\n",
    "<img src=\"images/5_1_and_5_2_problem_1c_solution.png\" alt=\"5_1_and_5_2_problem_1c_solution.png\" style=\"float:left;\">"
   ]
  },
  {
   "cell_type": "markdown",
   "metadata": {},
   "source": [
    "#### Compute the probability of this event.\n"
   ]
  },
  {
   "cell_type": "code",
   "execution_count": 6,
   "metadata": {
    "ExecuteTime": {
     "end_time": "2020-10-24T03:32:52.468316Z",
     "start_time": "2020-10-24T03:32:52.455304Z"
    }
   },
   "outputs": [
    {
     "name": "stdout",
     "output_type": "stream",
     "text": [
      "Matrix of p1_np_array\n",
      "[[0.1  0.03 0.01]\n",
      " [0.06 0.2  0.07]\n",
      " [0.06 0.14 0.33]]\n",
      "\n",
      "Submatrix of p1_np_array from [1:, 1:]\n",
      "[[0.2  0.07]\n",
      " [0.14 0.33]]\n",
      "\n",
      "Sum of submatrix\n",
      "0.74\n"
     ]
    }
   ],
   "source": [
    "print(\"Matrix of p1_np_array\")\n",
    "print(p1_np_array)\n",
    "print()\n",
    "\n",
    "p1c_np_array = p1_np_array[1:, 1:]\n",
    "print(\"Submatrix of p1_np_array from [1:, 1:]\")\n",
    "print(p1c_np_array)\n",
    "print()\n",
    "\n",
    "p1c_solution = np.sum(p1c_np_array)\n",
    "print(\"Sum of submatrix\")\n",
    "print(p1c_solution)"
   ]
  },
  {
   "cell_type": "markdown",
   "metadata": {},
   "source": [
    "### (d) Compute the marginal pmf of X.\n"
   ]
  },
  {
   "cell_type": "code",
   "execution_count": 7,
   "metadata": {
    "ExecuteTime": {
     "end_time": "2020-10-24T03:32:52.483328Z",
     "start_time": "2020-10-24T03:32:52.470318Z"
    },
    "scrolled": true
   },
   "outputs": [
    {
     "name": "stdout",
     "output_type": "stream",
     "text": [
      "X is the row (You need to add the columns to get the sum of a row)\n",
      "Column sum (Marginal PMF of X)\n",
      "[[0.14]\n",
      " [0.33]\n",
      " [0.53]]\n",
      "\n"
     ]
    }
   ],
   "source": [
    "# X is the rows\n",
    "p1d_column_sum = np.sum(p1_np_array, axis=1)\n",
    "print(\"X is the row (You need to add the columns to get the sum of a row)\")\n",
    "print(\"Column sum (Marginal PMF of X)\")\n",
    "print(np.vstack(p1d_column_sum))\n",
    "print()"
   ]
  },
  {
   "cell_type": "markdown",
   "metadata": {},
   "source": [
    "### (d) Compute the marginal pmf of Y.\n"
   ]
  },
  {
   "cell_type": "code",
   "execution_count": 8,
   "metadata": {
    "ExecuteTime": {
     "end_time": "2020-10-24T03:32:52.499342Z",
     "start_time": "2020-10-24T03:32:52.485330Z"
    }
   },
   "outputs": [
    {
     "name": "stdout",
     "output_type": "stream",
     "text": [
      "Y is the column (You need to add the rows to get the sum of a column)\n",
      "Row sum (Marginal PMF of Y)\n",
      "[0.22 0.37 0.41]\n"
     ]
    }
   ],
   "source": [
    "# Y is the columns\n",
    "p1d_row_sum = np.sum(p1_np_array, axis=0)\n",
    "print(\"Y is the column (You need to add the rows to get the sum of a column)\")\n",
    "print(\"Row sum (Marginal PMF of Y)\")\n",
    "print(p1d_row_sum)"
   ]
  },
  {
   "cell_type": "markdown",
   "metadata": {},
   "source": [
    "<img src=\"images/5_1_and_5_2_problem_1d_solution.png\" alt=\"5_1_and_5_2_problem_1d_solution.png\" style=\"float:left;\">"
   ]
  },
  {
   "cell_type": "markdown",
   "metadata": {},
   "source": [
    "#### Using P_X(x), what is P(X ≤ 1)?"
   ]
  },
  {
   "cell_type": "code",
   "execution_count": 9,
   "metadata": {
    "ExecuteTime": {
     "end_time": "2020-10-24T03:32:52.515355Z",
     "start_time": "2020-10-24T03:32:52.500343Z"
    }
   },
   "outputs": [
    {
     "name": "stdout",
     "output_type": "stream",
     "text": [
      "Marginal PMF of X <= 1\n",
      "[0.14 0.33]\n",
      "\n",
      "Sum of the Marginal PMF of X <= 1\n",
      "0.47000000000000003\n"
     ]
    }
   ],
   "source": [
    "# It's of the P sub X, which is the marginal PMF of X\n",
    "\n",
    "p1d_marignal_PMF_of_X_less_than_equal_to_1 = p1d_column_sum[:2]\n",
    "print(\"Marginal PMF of X <= 1\")\n",
    "print(p1d_marignal_PMF_of_X_less_than_equal_to_1)\n",
    "print()\n",
    "\n",
    "p1d_solution = np.sum(p1d_marignal_PMF_of_X_less_than_equal_to_1)\n",
    "print(\"Sum of the Marginal PMF of X <= 1\")\n",
    "print(p1d_solution)"
   ]
  },
  {
   "cell_type": "markdown",
   "metadata": {},
   "source": [
    "### (e) Are X and Y independent rv's? Explain.\n",
    "<img src=\"images/5_1_and_5_2_problem_1e_solution.png\" alt=\"5_1_and_5_2_problem_1e_solution.png\" style=\"float:left;\">"
   ]
  },
  {
   "cell_type": "markdown",
   "metadata": {
    "ExecuteTime": {
     "end_time": "2020-10-17T02:37:08.911597Z",
     "start_time": "2020-10-17T02:37:08.904591Z"
    }
   },
   "source": [
    "# 2. DEVORESTAT9 5.E.018.\n",
    "<p>\n",
    "A service station has both self-service and full-service islands. On each island, there is a single regular unleaded pump with two hoses. Let X denote the number of hoses being used on the self-service island at a particular time, and let Y denote the number of hoses on the full-service island in use at that time. The joint pmf of X and Y appears in the accompanying tabulation. </p>\n",
    "\n",
    "<img src=\"images/5_1_and_5_2_problem_2.png\" alt=\"5_1_and_5_2_problem_2.png\" style=\"float:left;\">"
   ]
  },
  {
   "cell_type": "code",
   "execution_count": 10,
   "metadata": {
    "ExecuteTime": {
     "end_time": "2020-10-24T03:32:52.530369Z",
     "start_time": "2020-10-24T03:32:52.517357Z"
    }
   },
   "outputs": [
    {
     "name": "stdout",
     "output_type": "stream",
     "text": [
      "[['  0.10  ', '  0.05  ', '  0.02  '], ['  0.06  ', '  0.20  ', '  0.08  '], ['  0.06  ', '  0.14  ', '  0.29 ']]\n"
     ]
    }
   ],
   "source": [
    "# It's not really worth copying the text because it's in a weird format.\n",
    "# I Suggest removing the x and y part then formatting.\n",
    "p2_string = \"\"\"\n",
    "p(x, y)\n",
    "    \t\t0\t1\t2\n",
    "0  \t  0.10  \t  0.05  \t  0.02  \n",
    "1  \t  0.06  \t  0.20  \t  0.08  \n",
    "2  \t  0.06  \t  0.14  \t  0.29 \n",
    "\"\"\"\n",
    "\n",
    "p2_data = p2_string.split(\"\\n\")  # Split by new line\n",
    "p2_data = [i for i in p2_data if i]  # Remove empty\n",
    "# remove the first item in the list because it's not useful\n",
    "p2_data = p2_data[1:]\n",
    "\n",
    "p2_data = [i.split(\"\\t\") for i in p2_data]\n",
    "p2_data_header = p2_data[0]  # Get the headers\n",
    "p2_data = p2_data[1:]  # Drop the headers from p1_data\n",
    "# Ignore the first data point in the inner list\n",
    "p2_data = [i[1:] for i in p2_data]\n",
    "print(p2_data)"
   ]
  },
  {
   "cell_type": "code",
   "execution_count": 11,
   "metadata": {
    "ExecuteTime": {
     "end_time": "2020-10-24T03:32:52.546382Z",
     "start_time": "2020-10-24T03:32:52.532370Z"
    }
   },
   "outputs": [
    {
     "name": "stdout",
     "output_type": "stream",
     "text": [
      "float64\n",
      "[[0.1  0.05 0.02]\n",
      " [0.06 0.2  0.08]\n",
      " [0.06 0.14 0.29]]\n"
     ]
    }
   ],
   "source": [
    "p2_np_array = np.array(p2_data)\n",
    "p2_np_array = p2_np_array.astype(np.float64)  # Set type to float\n",
    "print(p2_np_array.dtype)\n",
    "print(p2_np_array)"
   ]
  },
  {
   "cell_type": "markdown",
   "metadata": {},
   "source": [
    "### (a) Given that X = 1, determine the conditional pmf of Y—i.e., pY|X(0|1), pY|X(1|1), pY|X(2|1). (Round your answers to four decimal places.)\n",
    "<img src=\"images/5_1_and_5_2_problem_2a_wording.png\" alt=\"5_1_and_5_2_problem_2a_wording.png\" style=\"float:left;\">"
   ]
  },
  {
   "cell_type": "code",
   "execution_count": 12,
   "metadata": {
    "ExecuteTime": {
     "end_time": "2020-10-24T03:32:52.562395Z",
     "start_time": "2020-10-24T03:32:52.548383Z"
    }
   },
   "outputs": [
    {
     "name": "stdout",
     "output_type": "stream",
     "text": [
      "X is the row (You need to add the columns to get the sum of a row)\n",
      "Column sum (Marginal PMF of X)\n",
      "[[0.17]\n",
      " [0.34]\n",
      " [0.49]]\n",
      "\n",
      "Y is the column (You need to add the rows to get sum of a column)\n",
      "Row sum (Marginal PMF of Y)\n",
      "[0.22 0.39 0.39]\n"
     ]
    }
   ],
   "source": [
    "# X is the rows\n",
    "print(\"X is the row (You need to add the columns to get the sum of a row)\")\n",
    "p2a_column_sum = np.sum(p2_np_array, axis=1)\n",
    "print(\"Column sum (Marginal PMF of X)\")\n",
    "print(np.vstack(p2a_column_sum))\n",
    "print()\n",
    "\n",
    "# Y is the columns\n",
    "print(\"Y is the column (You need to add the rows to get sum of a column)\")\n",
    "p2a_row_sum = np.sum(p2_np_array, axis=0)\n",
    "print(\"Row sum (Marginal PMF of Y)\")\n",
    "print(p2a_row_sum)"
   ]
  },
  {
   "cell_type": "code",
   "execution_count": 13,
   "metadata": {
    "ExecuteTime": {
     "end_time": "2020-10-24T03:32:52.577408Z",
     "start_time": "2020-10-24T03:32:52.564397Z"
    },
    "scrolled": true
   },
   "outputs": [
    {
     "name": "stdout",
     "output_type": "stream",
     "text": [
      "Column sum (Marginal PMF of X) (Just look at row index 1)\n",
      "[[0.17]\n",
      " [0.34]\n",
      " [0.49]]\n",
      "\n",
      "X Row at index 1\n",
      "[0.06 0.2  0.08]\n",
      "\n",
      "Marginal sum of X Row at index 1\n",
      "0.34\n",
      "\n",
      "(X Row at index 1) / (Marginal sum of X Row at index 1)\n",
      "[0.17647059 0.58823529 0.23529412]\n"
     ]
    }
   ],
   "source": [
    "print(\"Column sum (Marginal PMF of X) (Just look at row index 1)\")\n",
    "print(np.vstack(p2a_column_sum))\n",
    "print()\n",
    "\n",
    "# Given X = 1 (x Row 1)\n",
    "p2a_row_index_1 = p2_np_array[1]\n",
    "p2a_X_marginal_at_row_index_1 = p2a_column_sum[1]\n",
    "\n",
    "print(\"X Row at index 1\")\n",
    "print(p2a_row_index_1)\n",
    "print()\n",
    "\n",
    "print(\"Marginal sum of X Row at index 1\")\n",
    "print(p2a_X_marginal_at_row_index_1)\n",
    "print()\n",
    "\n",
    "p2a_solution = p2a_row_index_1 / p2a_X_marginal_at_row_index_1\n",
    "\n",
    "print(\"(X Row at index 1) / (Marginal sum of X Row at index 1)\")\n",
    "print(p2a_solution)"
   ]
  },
  {
   "cell_type": "markdown",
   "metadata": {},
   "source": [
    "<img src=\"images/5_1_and_5_2_problem_2a_solution.png\" alt=\"5_1_and_5_2_problem_2a_solution.png\" style=\"float:left;\">"
   ]
  },
  {
   "cell_type": "markdown",
   "metadata": {},
   "source": [
    "### (b) Given that two hoses are in use at the self-service island, what is the conditional pmf of the number of hoses in use on the full-service island? (Round your answers to four decimal places.)\n"
   ]
  },
  {
   "cell_type": "code",
   "execution_count": 14,
   "metadata": {
    "ExecuteTime": {
     "end_time": "2020-10-24T03:32:52.593422Z",
     "start_time": "2020-10-24T03:32:52.579410Z"
    },
    "scrolled": true
   },
   "outputs": [
    {
     "name": "stdout",
     "output_type": "stream",
     "text": [
      "Column sum (Marginal PMF of X) (Just look at row index 2)\n",
      "[[0.17]\n",
      " [0.34]\n",
      " [0.49]]\n",
      "\n",
      "X Row at index 2\n",
      "[0.06 0.14 0.29]\n",
      "\n",
      "Marginal sum of X Row at index 2\n",
      "0.49\n",
      "\n",
      "(X Row at index 2) / (Marginal sum of X Row at index 2)\n",
      "[0.12244898 0.28571429 0.59183673]\n"
     ]
    }
   ],
   "source": [
    "print(\"Column sum (Marginal PMF of X) (Just look at row index 2)\")\n",
    "print(np.vstack(p2a_column_sum))\n",
    "print()\n",
    "\n",
    "# Given 2 hoses (x Row 2 )\n",
    "p2b_row_index_2 = p2_np_array[2]\n",
    "p2b_X_marginal_at_row_index_2 = p2a_column_sum[2]\n",
    "\n",
    "print(\"X Row at index 2\")\n",
    "print(p2b_row_index_2)\n",
    "print()\n",
    "\n",
    "print(\"Marginal sum of X Row at index 2\")\n",
    "print(p2b_X_marginal_at_row_index_2)\n",
    "print()\n",
    "\n",
    "p2a_solution = p2b_row_index_2 / p2b_X_marginal_at_row_index_2\n",
    "\n",
    "print(\"(X Row at index 2) / (Marginal sum of X Row at index 2)\")\n",
    "print(p2a_solution)"
   ]
  },
  {
   "cell_type": "markdown",
   "metadata": {
    "ExecuteTime": {
     "end_time": "2020-10-17T03:10:45.542957Z",
     "start_time": "2020-10-17T03:10:45.530951Z"
    }
   },
   "source": [
    "<img src=\"images/5_1_and_5_2_problem_2b_solution.png\" alt=\"5_1_and_5_2_problem_2b_solution.png\" style=\"float:left;\">"
   ]
  },
  {
   "cell_type": "markdown",
   "metadata": {},
   "source": [
    "### (c) Use the result of part (b) to calculate the conditional probability P(Y ≤ 1 | X = 2). (Round your answer to four decimal places.)\n"
   ]
  },
  {
   "cell_type": "code",
   "execution_count": 15,
   "metadata": {
    "ExecuteTime": {
     "end_time": "2020-10-24T03:32:52.609435Z",
     "start_time": "2020-10-24T03:32:52.595423Z"
    }
   },
   "outputs": [
    {
     "name": "stdout",
     "output_type": "stream",
     "text": [
      "row = Solution to part b\n",
      "[0.12244898 0.28571429 0.59183673]\n",
      "\n",
      "Values of row based on Y <= 1\n",
      "[0.12244898 0.28571429]\n",
      "\n",
      "Sum from 0 to 1 of row\n",
      "0.40816326530612246\n"
     ]
    }
   ],
   "source": [
    "p2c_row = p2a_solution\n",
    "print(\"row = Solution to part b\")\n",
    "print(p2c_row)\n",
    "print()\n",
    "\n",
    "p2c_row = p2c_row[:2]\n",
    "print(\"Values of row based on Y <= 1\")\n",
    "print(p2c_row)\n",
    "print()\n",
    "\n",
    "\n",
    "p2c_solution = np.sum(p2c_row)\n",
    "\n",
    "print(\"Sum from 0 to 1 of row\")\n",
    "print(p2c_solution)"
   ]
  },
  {
   "cell_type": "markdown",
   "metadata": {},
   "source": [
    "### (d) Given that two hoses are in use at the full-service island, what is the conditional pmf of the number in use at the self-service island? (Round your answers to four decimal places.)\n"
   ]
  },
  {
   "cell_type": "code",
   "execution_count": 16,
   "metadata": {
    "ExecuteTime": {
     "end_time": "2020-10-24T03:32:52.624447Z",
     "start_time": "2020-10-24T03:32:52.611437Z"
    }
   },
   "outputs": [
    {
     "name": "stdout",
     "output_type": "stream",
     "text": [
      "Y Column at index 2\n",
      "[[0.02]\n",
      " [0.08]\n",
      " [0.29]]\n",
      "\n",
      "Marginal sum of Y Column at index 2\n",
      "0.39\n",
      "\n",
      "(Y Column at index 2) / (Marginal sum of Y Column at index 2)\n",
      "[[0.05128205]\n",
      " [0.20512821]\n",
      " [0.74358974]]\n"
     ]
    }
   ],
   "source": [
    "p2d_column_index_2 = p2_np_array[:, 2]  # TODO FIX MY NAME\n",
    "p2d_Y_marginal_at_column_index_2 = p2a_row_sum[2]\n",
    "\n",
    "print(\"Y Column at index 2\")\n",
    "print(np.vstack(p2d_column_index_2))\n",
    "print()\n",
    "\n",
    "print(\"Marginal sum of Y Column at index 2\")\n",
    "print(p2d_Y_marginal_at_column_index_2)\n",
    "print()\n",
    "\n",
    "p2d_solution = p2d_column_index_2 / p2d_Y_marginal_at_column_index_2\n",
    "\n",
    "print(\"(Y Column at index 2) / (Marginal sum of Y Column at index 2)\")\n",
    "print(np.vstack(p2d_solution))"
   ]
  },
  {
   "cell_type": "markdown",
   "metadata": {
    "ExecuteTime": {
     "end_time": "2020-10-17T03:25:31.731721Z",
     "start_time": "2020-10-17T03:25:31.717709Z"
    }
   },
   "source": [
    "<img src=\"images/5_1_and_5_2_problem_2d_solution.png\" alt=\"5_1_and_5_2_problem_2d_solution.png\" style=\"float:left;\">"
   ]
  },
  {
   "cell_type": "markdown",
   "metadata": {},
   "source": [
    "# 3. DEVORESTAT9 5.E.003.\n",
    "<p>\n",
    "A certain market has both an express checkout line and a superexpress checkout line. Let X1 denote the number of customers in line at the express checkout at a particular time of day, and let X2 denote the number of customers in line at the superexpress checkout at the same time. Suppose the joint pmf of X1 and X2 is as given in the accompanying table.\n",
    "</p>\n",
    "<img src=\"images/5_1_and_5_2_problem_3.png\" alt=\"5_1_and_5_2_problem_3.png\" style=\"float:left;\">"
   ]
  },
  {
   "cell_type": "code",
   "execution_count": 17,
   "metadata": {
    "ExecuteTime": {
     "end_time": "2020-10-24T03:32:52.639461Z",
     "start_time": "2020-10-24T03:32:52.625448Z"
    }
   },
   "outputs": [
    {
     "name": "stdout",
     "output_type": "stream",
     "text": [
      "[['  0.09  ', '  0.06  ', '  0.04  ', '  0.00  '], ['  0.05  ', '  0.15  ', '  0.05  ', '  0.04  '], ['  0.05  ', '  0.03  ', '  0.10  ', '  0.06  '], ['  0.01  ', '  0.04  ', '  0.04  ', '  0.07  '], ['  0.00  ', '  0.02  ', '  0.05  ', '  0.05']]\n"
     ]
    }
   ],
   "source": [
    "# It's not really worth copying the text because it's in a weird format.\n",
    "# I Suggest removing the x1 and x2 part then formatting.\n",
    "p3_string = \"\"\"\n",
    "\n",
    "0\t1\t2\t3\n",
    "0  \t  0.09  \t  0.06  \t  0.04  \t  0.00  \n",
    "1  \t  0.05  \t  0.15  \t  0.05  \t  0.04  \n",
    "2  \t  0.05  \t  0.03  \t  0.10  \t  0.06  \n",
    "3  \t  0.01  \t  0.04  \t  0.04  \t  0.07  \n",
    "4  \t  0.00  \t  0.02  \t  0.05  \t  0.05\n",
    "\"\"\"\n",
    "\n",
    "p3_data = p3_string.split(\"\\n\")  # Split by new line\n",
    "p3_data = [i for i in p3_data if i]  # Remove empty\n",
    "# remove the first item in the list because it's not useful\n",
    "p2_data = p2_data[1:]\n",
    "\n",
    "p3_data = [i.split(\"\\t\") for i in p3_data]\n",
    "p3_data_header = p3_data[0]  # Get the headers\n",
    "p3_data = p3_data[1:]  # Drop the headers from p1_data\n",
    "# Ignore the first data point in the inner list\n",
    "p3_data = [i[1:] for i in p3_data]\n",
    "print(p3_data)"
   ]
  },
  {
   "cell_type": "code",
   "execution_count": 18,
   "metadata": {
    "ExecuteTime": {
     "end_time": "2020-10-24T03:32:52.654474Z",
     "start_time": "2020-10-24T03:32:52.641462Z"
    }
   },
   "outputs": [
    {
     "name": "stdout",
     "output_type": "stream",
     "text": [
      "float64\n",
      "[[0.09 0.06 0.04 0.  ]\n",
      " [0.05 0.15 0.05 0.04]\n",
      " [0.05 0.03 0.1  0.06]\n",
      " [0.01 0.04 0.04 0.07]\n",
      " [0.   0.02 0.05 0.05]]\n"
     ]
    }
   ],
   "source": [
    "p3_np_array = np.array(p3_data)\n",
    "p3_np_array = p3_np_array.astype(np.float64)  # Set type to float\n",
    "print(p3_np_array.dtype)\n",
    "print(p3_np_array)"
   ]
  },
  {
   "cell_type": "markdown",
   "metadata": {
    "ExecuteTime": {
     "end_time": "2020-10-17T03:28:05.980021Z",
     "start_time": "2020-10-17T03:28:05.971013Z"
    }
   },
   "source": [
    "### (a) What is P(X1 = 1, X2 = 1), that is, the probability that there is exactly one customer in each line?\n",
    "P(X1 = 1, X2 = 1) ="
   ]
  },
  {
   "cell_type": "code",
   "execution_count": 19,
   "metadata": {
    "ExecuteTime": {
     "end_time": "2020-10-24T03:32:52.669486Z",
     "start_time": "2020-10-24T03:32:52.656475Z"
    }
   },
   "outputs": [
    {
     "name": "stdout",
     "output_type": "stream",
     "text": [
      "0.15\n"
     ]
    }
   ],
   "source": [
    "p3a_solution = p3_np_array[1, 1]\n",
    "print(p3a_solution)"
   ]
  },
  {
   "cell_type": "markdown",
   "metadata": {},
   "source": [
    "### (b) What is P(X1 = X2), that is, the probability that the numbers of customers in the two lines are identical?\n",
    "P(X1 = X2) ="
   ]
  },
  {
   "cell_type": "code",
   "execution_count": 20,
   "metadata": {
    "ExecuteTime": {
     "end_time": "2020-10-24T03:32:52.684499Z",
     "start_time": "2020-10-24T03:32:52.671488Z"
    }
   },
   "outputs": [
    {
     "name": "stdout",
     "output_type": "stream",
     "text": [
      "The Diagonal (Where X = Y)\n",
      "[0.09 0.15 0.1  0.07]\n",
      "\n",
      "Diagonal Matrix\n",
      "[[0.09 0.   0.   0.  ]\n",
      " [0.   0.15 0.   0.  ]\n",
      " [0.   0.   0.1  0.  ]\n",
      " [0.   0.   0.   0.07]]\n",
      "\n",
      "The sum of the diagonal of p3_np_array\n",
      "0.41\n"
     ]
    }
   ],
   "source": [
    "\"\"\"\n",
    "Reference:\n",
    "    numpy.diag\n",
    "        https://numpy.org/doc/stable/reference/generated/numpy.diag.html\n",
    "\"\"\"\n",
    "\n",
    "# X1 = X2 ONLY ON THE DIAGONAL\n",
    "p3b_np_array_diagonal = p3_np_array.diagonal()\n",
    "print(\"The Diagonal (Where X = Y)\")\n",
    "print(p3b_np_array_diagonal)\n",
    "print()\n",
    "\n",
    "print(\"Diagonal Matrix\")\n",
    "print(np.diag(p3b_np_array_diagonal))\n",
    "print()\n",
    "\n",
    "p3b_solution = np.sum(p3b_np_array_diagonal)\n",
    "print(\"The sum of the diagonal of p3_np_array\")\n",
    "print(p3b_solution)\n"
   ]
  },
  {
   "cell_type": "markdown",
   "metadata": {},
   "source": [
    "### (c) Let A denote the event that there are at least two more customers in one line than in the other line. Express A in terms of X1 and X2.\n",
    "<p>\n",
    "Either X1 >= 2 + X2 or X2 >= 2 + X1\n",
    "</p>\n",
    "<img src=\"images/5_1_and_5_2_problem_3c_solution.png\" alt=\"5_1_and_5_2_problem_3c_solution.png\" style=\"float:left;\">\n"
   ]
  },
  {
   "cell_type": "markdown",
   "metadata": {
    "ExecuteTime": {
     "end_time": "2020-10-17T03:51:20.353683Z",
     "start_time": "2020-10-17T03:51:20.346677Z"
    }
   },
   "source": [
    "#### Calculate the probability of this event.\n",
    "P(A) ="
   ]
  },
  {
   "cell_type": "code",
   "execution_count": 21,
   "metadata": {
    "ExecuteTime": {
     "end_time": "2020-10-24T03:32:52.699512Z",
     "start_time": "2020-10-24T03:32:52.688504Z"
    }
   },
   "outputs": [
    {
     "name": "stdout",
     "output_type": "stream",
     "text": [
      "Original Array\n",
      "[[0.09 0.06 0.04 0.  ]\n",
      " [0.05 0.15 0.05 0.04]\n",
      " [0.05 0.03 0.1  0.06]\n",
      " [0.01 0.04 0.04 0.07]\n",
      " [0.   0.02 0.05 0.05]]\n",
      "----------------------------------------------------------------------------------------------------\n",
      "\n",
      "Version 1\n",
      "Naive Ghetto loop for {X1 >= 2 + X2 OR X2 >= 2 + X1}\n",
      "[[0.   0.   0.04 0.  ]\n",
      " [0.   0.   0.   0.04]\n",
      " [0.05 0.   0.   0.  ]\n",
      " [0.01 0.04 0.   0.  ]\n",
      " [0.   0.02 0.05 0.  ]]\n",
      "\n",
      "Sum of the array that meets the condition\n",
      "0.25\n",
      "----------------------------------------------------------------------------------------------------\n",
      "\n",
      "Version 2\n",
      "Naive Proper Loop for {X1 >= 2 + X2 OR X2 >= 2 + X1}\n",
      "[[0.   0.   0.04 0.  ]\n",
      " [0.   0.   0.   0.04]\n",
      " [0.05 0.   0.   0.  ]\n",
      " [0.01 0.04 0.   0.  ]\n",
      " [0.   0.02 0.05 0.  ]]\n",
      "\n",
      "Sum of the array that meets the condition\n",
      "0.25\n",
      "----------------------------------------------------------------------------------------------------\n",
      "\n",
      "Version 3\n",
      "Numpy Proper Loop for {X1 >= 2 + X2 OR X2 >= 2 + X1}\n",
      "[[0.   0.   0.04 0.  ]\n",
      " [0.   0.   0.   0.04]\n",
      " [0.05 0.   0.   0.  ]\n",
      " [0.01 0.04 0.   0.  ]\n",
      " [0.   0.02 0.05 0.  ]]\n",
      "\n",
      "Sum of the array that meets the condition\n",
      "0.25\n"
     ]
    }
   ],
   "source": [
    "\"\"\"\n",
    "Reference:\n",
    "    Replace sub part of matrix by another small matrix in numpy\n",
    "        https://stackoverflow.com/questions/26506204/replace-sub-part-of-matrix-by-another-small-matrix-in-numpy\n",
    "\n",
    "\"\"\"\n",
    "print(\"Original Array\")\n",
    "print(p3_np_array)\n",
    "print(\"-\"*100)\n",
    "print()\n",
    "###################################################################################################\n",
    "# V1\n",
    "\n",
    "print(\"Version 1\")\n",
    "p3c_np_array = p3_np_array.copy()\n",
    "\n",
    "\n",
    "# Naive Ghetto loop\n",
    "for i, v in enumerate(p3c_np_array):\n",
    "    if i == 0:\n",
    "        v[i:i+2] = 0\n",
    "    else:\n",
    "        v[i-1:i+2] = 0\n",
    "\n",
    "print(\"Naive Ghetto loop for {X1 >= 2 + X2 OR X2 >= 2 + X1}\")\n",
    "print(p3c_np_array)\n",
    "print()\n",
    "\n",
    "p3c_solution = np.sum(p3c_np_array)\n",
    "print(\"Sum of the array that meets the condition\")\n",
    "print(f\"{p3c_solution:.2f}\")\n",
    "\n",
    "print(\"-\"*100)\n",
    "print()\n",
    "###################################################################################################\n",
    "# V2\n",
    "\n",
    "print(\"Version 2\")\n",
    "p3c_np_array = p3_np_array.copy()\n",
    "\n",
    "for row_index, row_value in enumerate(p3c_np_array):\n",
    "    for col_index, col_value in enumerate(row_value):\n",
    "        if row_index < col_index + 2 and col_index < row_index + 2:\n",
    "            row_value[col_index] = 0\n",
    "\n",
    "\n",
    "print(\"Naive Proper Loop for {X1 >= 2 + X2 OR X2 >= 2 + X1}\")\n",
    "print(p3c_np_array)\n",
    "print()\n",
    "\n",
    "p3c_solution = np.sum(p3c_np_array)\n",
    "print(\"Sum of the array that meets the condition\")\n",
    "print(f\"{p3c_solution:.2f}\")\n",
    "\n",
    "print(\"-\"*100)\n",
    "print()\n",
    "###################################################################################################\n",
    "\"\"\"\n",
    "Rerference:\n",
    "    numpy.ndindex\n",
    "        https://numpy.org/doc/stable/reference/generated/numpy.ndindex.html\n",
    "            Loop over the shape of the array\n",
    "\"\"\"\n",
    "# V3\n",
    "\n",
    "print(\"Version 3\")\n",
    "p3c_np_array = p3_np_array.copy()\n",
    "\n",
    "for row_index, col_index in np.ndindex(p3c_np_array.shape):\n",
    "    if (row_index < col_index + 2) and (col_index < row_index + 2):\n",
    "        p3c_np_array[row_index, col_index] = 0\n",
    "\n",
    "\n",
    "print(\"Numpy Proper Loop for {X1 >= 2 + X2 OR X2 >= 2 + X1}\")\n",
    "print(p3c_np_array)\n",
    "print()\n",
    "\n",
    "p3c_solution = np.sum(p3c_np_array)\n",
    "print(\"Sum of the array that meets the condition\")\n",
    "print(f\"{p3c_solution:.2f}\")"
   ]
  },
  {
   "cell_type": "markdown",
   "metadata": {},
   "source": [
    "\n",
    "### (d) What is the probability that the total number of customers in the two lines is exactly four? At least four?\n",
    "\n",
    "#### P(exactly four)\t="
   ]
  },
  {
   "cell_type": "code",
   "execution_count": 22,
   "metadata": {
    "ExecuteTime": {
     "end_time": "2020-10-24T03:32:52.714525Z",
     "start_time": "2020-10-24T03:32:52.701513Z"
    }
   },
   "outputs": [
    {
     "name": "stdout",
     "output_type": "stream",
     "text": [
      "Original Array\n",
      "[[0.09 0.06 0.04 0.  ]\n",
      " [0.05 0.15 0.05 0.04]\n",
      " [0.05 0.03 0.1  0.06]\n",
      " [0.01 0.04 0.04 0.07]\n",
      " [0.   0.02 0.05 0.05]]\n",
      "----------------------------------------------------------------------------------------------------\n",
      "\n",
      "Numpy Proper Loop for P(exactly four)\n",
      "[[0.   0.   0.   0.  ]\n",
      " [0.   0.   0.   0.04]\n",
      " [0.   0.   0.1  0.  ]\n",
      " [0.   0.04 0.   0.  ]\n",
      " [0.   0.   0.   0.  ]]\n",
      "\n",
      "Sum of the array that meets the condition\n",
      "0.18\n"
     ]
    }
   ],
   "source": [
    "print(\"Original Array\")\n",
    "print(p3_np_array)\n",
    "print(\"-\"*100)\n",
    "print()\n",
    "###################################################################################################\n",
    "\n",
    "p3d1_np_array = p3_np_array.copy()\n",
    "\n",
    "for row_index, col_index in np.ndindex(p3d1_np_array.shape):\n",
    "    \n",
    "    # A lot easier to look for the inverse and set the value at the position to be 0\n",
    "    if row_index + col_index !=4:\n",
    "        p3d1_np_array[row_index, col_index] = 0\n",
    "        \n",
    "print(\"Numpy Proper Loop for P(exactly four)\")\n",
    "print(p3d1_np_array)\n",
    "print()\n",
    "\n",
    "p3d1_solution = np.sum(p3d1_np_array)\n",
    "print(\"Sum of the array that meets the condition\")\n",
    "print(f\"{p3d1_solution:.2f}\")"
   ]
  },
  {
   "cell_type": "markdown",
   "metadata": {
    "ExecuteTime": {
     "end_time": "2020-10-17T04:24:06.033991Z",
     "start_time": "2020-10-17T04:24:06.029988Z"
    }
   },
   "source": [
    "#### P(at least four)\t="
   ]
  },
  {
   "cell_type": "code",
   "execution_count": 23,
   "metadata": {
    "ExecuteTime": {
     "end_time": "2020-10-24T03:32:52.729537Z",
     "start_time": "2020-10-24T03:32:52.716527Z"
    }
   },
   "outputs": [
    {
     "name": "stdout",
     "output_type": "stream",
     "text": [
      "Original Array\n",
      "[[0.09 0.06 0.04 0.  ]\n",
      " [0.05 0.15 0.05 0.04]\n",
      " [0.05 0.03 0.1  0.06]\n",
      " [0.01 0.04 0.04 0.07]\n",
      " [0.   0.02 0.05 0.05]]\n",
      "----------------------------------------------------------------------------------------------------\n",
      "\n",
      "Numpy Proper Loop for P(at least four)\n",
      "[[0.   0.   0.   0.  ]\n",
      " [0.   0.   0.   0.04]\n",
      " [0.   0.   0.1  0.06]\n",
      " [0.   0.04 0.04 0.07]\n",
      " [0.   0.02 0.05 0.05]]\n",
      "\n",
      "Sum of the array that meets the condition\n",
      "0.47\n"
     ]
    }
   ],
   "source": [
    "print(\"Original Array\")\n",
    "print(p3_np_array)\n",
    "print(\"-\"*100)\n",
    "print()\n",
    "###################################################################################################\n",
    "\n",
    "p3d2_np_array = p3_np_array.copy()\n",
    "\n",
    "for row_index, col_index in np.ndindex(p3d2_np_array.shape):\n",
    "    \n",
    "    # A lot easier to look for the inverse and set the value at the position to be 0\n",
    "    # Inverse of at least 4 (x >= 4) is less than 4 (x < 4) \n",
    "    if row_index + col_index < 4:\n",
    "        p3d2_np_array[row_index, col_index] = 0\n",
    "        \n",
    "print(\"Numpy Proper Loop for P(at least four)\")\n",
    "print(p3d2_np_array)\n",
    "print()\n",
    "\n",
    "p3d2_solution = np.sum(p3d2_np_array)\n",
    "print(\"Sum of the array that meets the condition\")\n",
    "print(f\"{p3d2_solution:.2f}\")"
   ]
  },
  {
   "cell_type": "markdown",
   "metadata": {},
   "source": [
    "# 4. DEVORESTAT9 5.E.006.S.\n",
    "<img src=\"images/5_1_and_5_2_problem_4.png\" alt=\"5_1_and_5_2_problem_4.png\" style=\"float:left;\">\n",
    "<p style=\"float:left\">\n",
    " Sixty-five percent of all customers who purchase these cameras also buy an extended warranty. Let Y denote the number of purchasers during this week who buy an extended warranty.\n",
    "</p>"
   ]
  },
  {
   "cell_type": "code",
   "execution_count": 24,
   "metadata": {
    "ExecuteTime": {
     "end_time": "2020-10-24T03:32:52.744551Z",
     "start_time": "2020-10-24T03:32:52.731539Z"
    }
   },
   "outputs": [
    {
     "name": "stdout",
     "output_type": "stream",
     "text": [
      "['x', 'pX(x)    ']\n",
      "[['0', '1', '2', '3', '4'], ['  0.1  ', '  0.2  ', '  0.3  ', '  0.25 ', '  0.15  ']]\n",
      "\n",
      "Percent all customers who purchace Cameras also buy extended warranty:\n",
      "0.65\n"
     ]
    }
   ],
   "source": [
    "p4_string = \"\"\"\n",
    "x\t0\t1\t2\t3\t4\n",
    "pX(x)    \t  0.1  \t  0.2  \t  0.3  \t  0.25 \t  0.15  \n",
    "\n",
    "\"\"\"\n",
    "\n",
    "p4_data = p4_string.split(\"\\n\")\n",
    "p4_data = [i for i in p4_data if i]\n",
    "p4_data = [i.split(\"\\t\") for i in p4_data]\n",
    "p4_data_headers = [i[0] for i in p4_data]\n",
    "p4_data = [i[1:] for i in p4_data]\n",
    "\n",
    "print(p4_data_headers)\n",
    "print(p4_data)\n",
    "print()\n",
    "\n",
    "p4_percent_all_customers_who_purchase_cameras_also_buy_extended_warranty = .65\n",
    "print(f\"Percent all customers who purchace Cameras also buy extended warranty:\\n{p4_percent_all_customers_who_purchase_cameras_also_buy_extended_warranty}\")"
   ]
  },
  {
   "cell_type": "code",
   "execution_count": 25,
   "metadata": {
    "ExecuteTime": {
     "end_time": "2020-10-24T03:32:52.760564Z",
     "start_time": "2020-10-24T03:32:52.746552Z"
    }
   },
   "outputs": [
    {
     "name": "stdout",
     "output_type": "stream",
     "text": [
      "[[0.   1.   2.   3.   4.  ]\n",
      " [0.1  0.2  0.3  0.25 0.15]]\n"
     ]
    }
   ],
   "source": [
    "p4_np_array = np.array(p4_data)\n",
    "p4_np_array = p4_np_array.astype(np.float64)\n",
    "print(p4_np_array)"
   ]
  },
  {
   "cell_type": "markdown",
   "metadata": {},
   "source": [
    "### (a) What is P(X = 4, Y = 2)? \n",
    "\n",
    "### [Hint: This probability equals P(Y = 2|X = 4) · P(X = 4); now think of the four purchases as four trials of a binomial experiment, with success on a trial corresponding to buying an extended warranty.] (Round your answer to four decimal places.)\n"
   ]
  },
  {
   "cell_type": "code",
   "execution_count": 26,
   "metadata": {
    "ExecuteTime": {
     "end_time": "2020-10-24T03:32:52.776577Z",
     "start_time": "2020-10-24T03:32:52.761565Z"
    }
   },
   "outputs": [
    {
     "name": "stdout",
     "output_type": "stream",
     "text": [
      "X=4 -> 4\n",
      "\n",
      "Y=2 -> 2\n",
      "\n",
      "P(X=4) -> 0.15\n",
      "\n"
     ]
    }
   ],
   "source": [
    "p4a_X = 4\n",
    "print(f\"X=4 -> {p4a_X}\")\n",
    "print()\n",
    "\n",
    "p4a_Y = 2\n",
    "print(f\"Y=2 -> {p4a_Y}\")\n",
    "print()\n",
    "\n",
    "p4a_P_of_X = p4_np_array[1,4]\n",
    "print(f\"P(X=4) -> {p4a_P_of_X}\")\n",
    "print()"
   ]
  },
  {
   "cell_type": "markdown",
   "metadata": {},
   "source": [
    "#### P(X = 4, Y = 2) ="
   ]
  },
  {
   "cell_type": "code",
   "execution_count": 27,
   "metadata": {
    "ExecuteTime": {
     "end_time": "2020-10-24T03:32:53.489366Z",
     "start_time": "2020-10-24T03:32:52.778579Z"
    }
   },
   "outputs": [
    {
     "name": "stdout",
     "output_type": "stream",
     "text": [
      "Custom function method\n",
      "0.046580624999999994\n",
      "\n",
      "Scipy method\n",
      "0.046580624999999994\n",
      "\n",
      "Scipy method using the variables defined\n",
      "0.046580624999999994\n"
     ]
    }
   ],
   "source": [
    "import math\n",
    "from scipy.stats import binom\n",
    "\n",
    "\n",
    "def dbinom(k, n, p):\n",
    "    \"\"\"\n",
    "    Simple dbinom equivalent in python\n",
    "\n",
    "    \"\"\"\n",
    "    solution = math.comb(n, k) * (p)**(k) * (1 - p)**(n-k)\n",
    "    return solution\n",
    "\n",
    "\n",
    "print(\"Custom function method\")\n",
    "# binom.pmf(k, n, p) == binom.pmf(discrete number (trial), number of trials, probability of each trial). Note: k <= n\n",
    "p4a_solution_v1 = dbinom(2, 4, .65) * .15\n",
    "print(p4a_solution_v1)\n",
    "print()\n",
    "\n",
    "print(\"Scipy method\")\n",
    "# binom.pmf(k, n, p) == binom.pmf(discrete number (trial), number of trials, probability of each trial). Note: k <= n\n",
    "p4a_solution_v2 = binom.pmf(2, 4, .65) * .15\n",
    "print(p4a_solution_v2)\n",
    "print()\n",
    "\n",
    "print(\"Scipy method using the variables defined\")\n",
    "# binom.pmf(k, n, p) == binom.pmf(discrete number (trial), number of trials, probability of each trial). Note: k <= n\n",
    "p4a_solution_v3 = binom.pmf(p4a_Y, p4a_X, p4_percent_all_customers_who_purchase_cameras_also_buy_extended_warranty) * p4a_P_of_X\n",
    "print(p4a_solution_v2)\n"
   ]
  },
  {
   "cell_type": "code",
   "execution_count": 28,
   "metadata": {
    "ExecuteTime": {
     "end_time": "2020-10-24T03:32:53.521394Z",
     "start_time": "2020-10-24T03:32:53.491369Z"
    },
    "scrolled": true
   },
   "outputs": [
    {
     "name": "stdout",
     "output_type": "stream",
     "text": [
      "R solution\n",
      "[1] 0.04658062\n"
     ]
    }
   ],
   "source": [
    "%%R \n",
    "\n",
    "cat(\"R solution\\n\")\n",
    "# dbinom(k, n, p) == binom.pmf(discrete number (trial), number of trials, probability of each trial). Note: k <= n\n",
    "print(dbinom(2, 4, .65) * .15)\n"
   ]
  },
  {
   "cell_type": "markdown",
   "metadata": {},
   "source": [
    "## Creating the Table for visual reference and for part b\n"
   ]
  },
  {
   "cell_type": "code",
   "execution_count": 29,
   "metadata": {
    "ExecuteTime": {
     "end_time": "2020-10-24T03:32:53.537407Z",
     "start_time": "2020-10-24T03:32:53.523395Z"
    }
   },
   "outputs": [],
   "source": [
    "from typing import Tuple\n",
    "\n",
    "\n",
    "def np_arary_to_dict(np_array: np.array):\n",
    "\n",
    "    np_array_transposed = np_array.transpose()\n",
    "\n",
    "    dict_temp = {}\n",
    "\n",
    "    for row in np_array_transposed:\n",
    "        dict_temp[row[0]] = row[1]\n",
    "\n",
    "    return dict_temp\n",
    "\n",
    "\n",
    "def create_joint_distribution_as_pd_df_and_np_array(dict_np_array: dict, probability_of_winning: float) -> Tuple[pd.DataFrame, np.array]:\n",
    "\n",
    "    number_of_rows = len(dict_np_array)\n",
    "\n",
    "    list_list_row_current = []\n",
    "\n",
    "    for row_index in range(number_of_rows):\n",
    "        list_row_current = []\n",
    "\n",
    "        for column_value in dict_np_array:\n",
    "            \"\"\"\n",
    "            binom.pmf(k, n, p) == binom.pmf(discrete number (trial), number of trials, probability of each trial). \n",
    "            Note: k <= n\n",
    "\n",
    "            So:\n",
    "                binom.pmf(X, Y, probability_of_winning) * Probabilty at X\n",
    "                OR\n",
    "                binom.pmf(Y, X, probability_of_winning) * Probabilty at Y\n",
    "            \"\"\"\n",
    "            value_at_cell = binom.pmf(\n",
    "                row_index, column_value, probability_of_winning) * dict_np_array[column_value]\n",
    "\n",
    "            list_row_current.append(value_at_cell)\n",
    "\n",
    "        list_list_row_current.append(list_row_current)\n",
    "\n",
    "    pd_df_temp = pd.DataFrame(list_list_row_current,\n",
    "                              columns=dict_np_array.keys())\n",
    "\n",
    "    np_array_temp = np.array(list_list_row_current)\n",
    "\n",
    "    return pd_df_temp, np_array_temp"
   ]
  },
  {
   "cell_type": "code",
   "execution_count": 30,
   "metadata": {
    "ExecuteTime": {
     "end_time": "2020-10-24T03:32:53.583651Z",
     "start_time": "2020-10-24T03:32:53.539165Z"
    }
   },
   "outputs": [
    {
     "name": "stdout",
     "output_type": "stream",
     "text": [
      "This is the given np array\n",
      "[[0.   1.   2.   3.   4.  ]\n",
      " [0.1  0.2  0.3  0.25 0.15]]\n",
      "\n",
      "This the dict of the np array\n",
      "0.0 0.1\n",
      "1.0 0.2\n",
      "2.0 0.3\n",
      "3.0 0.25\n",
      "4.0 0.15\n",
      "\n",
      "Displaying the Joint Distirbution Table\n"
     ]
    },
    {
     "data": {
      "text/html": [
       "<div>\n",
       "<style scoped>\n",
       "    .dataframe tbody tr th:only-of-type {\n",
       "        vertical-align: middle;\n",
       "    }\n",
       "\n",
       "    .dataframe tbody tr th {\n",
       "        vertical-align: top;\n",
       "    }\n",
       "\n",
       "    .dataframe thead th {\n",
       "        text-align: right;\n",
       "    }\n",
       "</style>\n",
       "<table border=\"1\" class=\"dataframe\">\n",
       "  <thead>\n",
       "    <tr style=\"text-align: right;\">\n",
       "      <th></th>\n",
       "      <th>0.0</th>\n",
       "      <th>1.0</th>\n",
       "      <th>2.0</th>\n",
       "      <th>3.0</th>\n",
       "      <th>4.0</th>\n",
       "    </tr>\n",
       "  </thead>\n",
       "  <tbody>\n",
       "    <tr>\n",
       "      <th>0</th>\n",
       "      <td>0.1</td>\n",
       "      <td>0.07</td>\n",
       "      <td>0.03675</td>\n",
       "      <td>0.010719</td>\n",
       "      <td>0.002251</td>\n",
       "    </tr>\n",
       "    <tr>\n",
       "      <th>1</th>\n",
       "      <td>0.0</td>\n",
       "      <td>0.13</td>\n",
       "      <td>0.13650</td>\n",
       "      <td>0.059719</td>\n",
       "      <td>0.016721</td>\n",
       "    </tr>\n",
       "    <tr>\n",
       "      <th>2</th>\n",
       "      <td>0.0</td>\n",
       "      <td>0.00</td>\n",
       "      <td>0.12675</td>\n",
       "      <td>0.110906</td>\n",
       "      <td>0.046581</td>\n",
       "    </tr>\n",
       "    <tr>\n",
       "      <th>3</th>\n",
       "      <td>0.0</td>\n",
       "      <td>0.00</td>\n",
       "      <td>0.00000</td>\n",
       "      <td>0.068656</td>\n",
       "      <td>0.057671</td>\n",
       "    </tr>\n",
       "    <tr>\n",
       "      <th>4</th>\n",
       "      <td>0.0</td>\n",
       "      <td>0.00</td>\n",
       "      <td>0.00000</td>\n",
       "      <td>0.000000</td>\n",
       "      <td>0.026776</td>\n",
       "    </tr>\n",
       "  </tbody>\n",
       "</table>\n",
       "</div>"
      ],
      "text/plain": [
       "   0.0   1.0      2.0       3.0       4.0\n",
       "0  0.1  0.07  0.03675  0.010719  0.002251\n",
       "1  0.0  0.13  0.13650  0.059719  0.016721\n",
       "2  0.0  0.00  0.12675  0.110906  0.046581\n",
       "3  0.0  0.00  0.00000  0.068656  0.057671\n",
       "4  0.0  0.00  0.00000  0.000000  0.026776"
      ]
     },
     "metadata": {},
     "output_type": "display_data"
    }
   ],
   "source": [
    "from IPython.display import display, HTML\n",
    "\n",
    "# Recall\n",
    "print(\"This is the given np array\")\n",
    "print(p4_np_array)\n",
    "print()\n",
    "\n",
    "# You need a dict of this array for probabiliy access\n",
    "print(\"This the dict of the np array\")\n",
    "p4a_dict = np_arary_to_dict(p4_np_array)\n",
    "for key, value in p4a_dict.items():\n",
    "    print(key, value)\n",
    "print()\n",
    "\n",
    "# Creating the table then display it\n",
    "print(\"Displaying the Joint Distirbution Table\")\n",
    "\n",
    "p4a_tables = create_joint_distribution_as_pd_df_and_np_array(p4a_dict, .65)\n",
    "display(p4a_tables[0])"
   ]
  },
  {
   "cell_type": "markdown",
   "metadata": {},
   "source": [
    "### (b) Calculate P(X = Y). (Round your answer to four decimal places.)\n",
    "P(X = Y) ="
   ]
  },
  {
   "cell_type": "code",
   "execution_count": 31,
   "metadata": {
    "ExecuteTime": {
     "end_time": "2020-10-24T03:32:53.598782Z",
     "start_time": "2020-10-24T03:32:53.585653Z"
    }
   },
   "outputs": [
    {
     "name": "stdout",
     "output_type": "stream",
     "text": [
      "Sum of the the joint distribution table where P(X = Y)\n",
      "0.4521821875\n"
     ]
    }
   ],
   "source": [
    "# The pandas DF of the joint distribution table\n",
    "p4b_pd_df = p4a_tables[0]\n",
    "\n",
    "# Generator to find when column name = row index (which is a name)\n",
    "def generator_pd_df_column_name_eq_row_index(pd_df_given: pd.DataFrame):\n",
    "    for row_index, row in pd_df_given.iterrows():\n",
    "        for column_name in pd_df_given.columns:\n",
    "            if row_index == column_name:\n",
    "\n",
    "                # Need loc not iloc because we are using row/column names not row/column indexies\n",
    "                yield pd_df_given.loc[row_index, column_name]\n",
    "\n",
    "\n",
    "p4b_np_array_X_eq_Y = np.fromiter(\n",
    "    generator_pd_df_column_name_eq_row_index(p4b_pd_df), dtype=\"float\")\n",
    "\n",
    "\n",
    "p4b_np_array_X_eq_Y_sum = np.sum(p4b_np_array_X_eq_Y)\n",
    "print(\"Sum of the the joint distribution table where P(X = Y)\")\n",
    "print(p4b_np_array_X_eq_Y_sum)"
   ]
  },
  {
   "cell_type": "markdown",
   "metadata": {},
   "source": [
    "### (c) Determine the joint pmf of X and Y.\n",
    "<img src=\"images/5_1_and_5_2_problem_4c_1_solution.png\" alt=\"5_1_and_5_2_problem_4c_1_solution.png\" style=\"float:left;\">"
   ]
  },
  {
   "cell_type": "markdown",
   "metadata": {},
   "source": [
    "#### Determine the marginal pmf of Y. (Round your answers to four decimal places.)\n",
    "<img src=\"images/5_1_and_5_2_problem_4c_2_solution.png\" alt=\"5_1_and_5_2_problem_4c_2_solution.png\" style=\"float:left;\">"
   ]
  },
  {
   "cell_type": "markdown",
   "metadata": {},
   "source": [
    "# 5. DEVORESTAT9 5.E.022.MI.\n",
    "An instructor has given a short quiz consisting of two parts. For a randomly selected student, let X = the number of points earned on the first part and Y = the number of points earned on the second part. Suppose that the joint pmf of X and Y is given in the accompanying table.\n",
    "<img src=\"images/5_1_and_5_2_problem_5.png\" alt=\"5_1_and_5_2_problem_5.png\" style=\"float:left;\">"
   ]
  },
  {
   "cell_type": "code",
   "execution_count": 89,
   "metadata": {
    "ExecuteTime": {
     "end_time": "2020-10-24T10:43:32.370567Z",
     "start_time": "2020-10-24T10:43:32.345545Z"
    }
   },
   "outputs": [
    {
     "name": "stdout",
     "output_type": "stream",
     "text": [
      "Column names\n",
      "[0, 5, 10, 15]\n",
      "\n",
      "Index names\n",
      "[[ 0]\n",
      " [ 5]\n",
      " [10]]\n",
      "\n",
      "Given Table as Matrix\n",
      "[[0.01 0.06 0.02 0.1 ]\n",
      " [0.04 0.13 0.2  0.1 ]\n",
      " [0.01 0.15 0.17 0.01]]\n",
      "\n",
      "Pandas DF\n"
     ]
    },
    {
     "data": {
      "text/html": [
       "<div>\n",
       "<style scoped>\n",
       "    .dataframe tbody tr th:only-of-type {\n",
       "        vertical-align: middle;\n",
       "    }\n",
       "\n",
       "    .dataframe tbody tr th {\n",
       "        vertical-align: top;\n",
       "    }\n",
       "\n",
       "    .dataframe thead th {\n",
       "        text-align: right;\n",
       "    }\n",
       "</style>\n",
       "<table border=\"1\" class=\"dataframe\">\n",
       "  <thead>\n",
       "    <tr style=\"text-align: right;\">\n",
       "      <th></th>\n",
       "      <th>0</th>\n",
       "      <th>5</th>\n",
       "      <th>10</th>\n",
       "      <th>15</th>\n",
       "    </tr>\n",
       "  </thead>\n",
       "  <tbody>\n",
       "    <tr>\n",
       "      <th>0</th>\n",
       "      <td>0.01</td>\n",
       "      <td>0.06</td>\n",
       "      <td>0.02</td>\n",
       "      <td>0.10</td>\n",
       "    </tr>\n",
       "    <tr>\n",
       "      <th>5</th>\n",
       "      <td>0.04</td>\n",
       "      <td>0.13</td>\n",
       "      <td>0.20</td>\n",
       "      <td>0.10</td>\n",
       "    </tr>\n",
       "    <tr>\n",
       "      <th>10</th>\n",
       "      <td>0.01</td>\n",
       "      <td>0.15</td>\n",
       "      <td>0.17</td>\n",
       "      <td>0.01</td>\n",
       "    </tr>\n",
       "  </tbody>\n",
       "</table>\n",
       "</div>"
      ],
      "text/plain": [
       "      0     5     10    15\n",
       "0   0.01  0.06  0.02  0.10\n",
       "5   0.04  0.13  0.20  0.10\n",
       "10  0.01  0.15  0.17  0.01"
      ]
     },
     "metadata": {},
     "output_type": "display_data"
    }
   ],
   "source": [
    "p5_data = \"\"\"\n",
    "0.01\t0.06\t0.02\t0.10\n",
    "0.04\t0.13\t0.20\t0.10\n",
    "0.01\t0.15\t0.17\t0.01\n",
    "\n",
    "\"\"\"\n",
    "\n",
    "# Manually write the column and index names\n",
    "p5_COLUMN_NAMES = [0, 5, 10, 15]\n",
    "p5_INDEX_NAMES = [0, 5, 10]\n",
    "\n",
    "print(\"Column names\")\n",
    "print(p5_COLUMN_NAMES)\n",
    "print()\n",
    "\n",
    "print(\"Index names\")\n",
    "# print(np.array(p5_INDEX_NAMES).reshape(-1,1))  # Alternative\n",
    "print(np.vstack(np.array(p5_INDEX_NAMES)))\n",
    "print()\n",
    "\n",
    "p5_list_data = p5_data.split(\"\\n\")\n",
    "p5_list_list_data = [i.split(\"\\t\") for i in p5_list_data if i]\n",
    "p5_np_array = np.array(p5_list_list_data)\n",
    "p5_np_array = p5_np_array.astype(np.float64)\n",
    "print(\"Given Table as Matrix\")\n",
    "print(p5_np_array)\n",
    "print()\n",
    "\n",
    "p5_pd_df = pd.DataFrame(p5_np_array, columns=p5_COLUMN_NAMES, index=p5_INDEX_NAMES)\n",
    "print(\"Pandas DF\")\n",
    "display(p5_pd_df)"
   ]
  },
  {
   "cell_type": "markdown",
   "metadata": {},
   "source": [
    "### (a) If the score recorded in the grade book is the total number of points earned on the two parts, what is the expected recorded score E(X + Y)? (Enter your answer to one decimal place.)"
   ]
  },
  {
   "cell_type": "code",
   "execution_count": 82,
   "metadata": {
    "ExecuteTime": {
     "end_time": "2020-10-24T10:38:16.275651Z",
     "start_time": "2020-10-24T10:38:16.257618Z"
    },
    "scrolled": false
   },
   "outputs": [
    {
     "name": "stdout",
     "output_type": "stream",
     "text": [
      "Given Table as Matrix\n",
      "[[0.01 0.06 0.02 0.1 ]\n",
      " [0.04 0.13 0.2  0.1 ]\n",
      " [0.01 0.15 0.17 0.01]]\n",
      "\n",
      "Matrix based on the Column names\n",
      "[[ 0.  5. 10. 15.]\n",
      " [ 0.  5. 10. 15.]\n",
      " [ 0.  5. 10. 15.]]\n",
      "\n",
      "Matrix based on the Row names\n",
      "[[ 0.  0.  0.  0.]\n",
      " [ 5.  5.  5.  5.]\n",
      " [10. 10. 10. 10.]]\n",
      "\n",
      "Matrix based on p5a_matrix_of_Y + p5a_matrix_of_X\n",
      "[[ 0.  5. 10. 15.]\n",
      " [ 5. 10. 15. 20.]\n",
      " [10. 15. 20. 25.]]\n",
      "\n",
      "(Given Table as Matrix) * (Matrix of X + Y)\n",
      "[[0.   0.3  0.2  1.5 ]\n",
      " [0.2  1.3  3.   2.  ]\n",
      " [0.1  2.25 3.4  0.25]]\n",
      "\n",
      "Sum of the above matrix\n",
      "14.5\n"
     ]
    }
   ],
   "source": [
    "print(\"Given Table as Matrix\")\n",
    "print(p5_np_array)\n",
    "print()\n",
    "\n",
    "p5a_matrix_of_Y = np.array(p5_COLUMN_NAMES)* np.ones(3).reshape(3,1)\n",
    "print(\"Matrix based on the Column names\")\n",
    "print(p5a_matrix_of_Y)\n",
    "print()\n",
    "\n",
    "p5a_matrix_of_X = np.array(p5_INDEX_NAMES).reshape(3,1)* np.ones(4)\n",
    "print(\"Matrix based on the Row names\")\n",
    "print(p5a_matrix_of_X)\n",
    "print()\n",
    "\n",
    "p5a_matrix_of_X_plus_Y = p5a_matrix_of_X + p5a_matrix_of_Y\n",
    "print(\"Matrix based on p5a_matrix_of_Y + p5a_matrix_of_X\")\n",
    "print(p5a_matrix_of_X_plus_Y)\n",
    "print()\n",
    "\n",
    "p5a_matrix_of_original_array_times_matrix_of_X_plus_Y= p5_np_array * p5a_matrix_of_X_plus_Y\n",
    "print(\"(Given Table as Matrix) * (Matrix of X + Y)\")\n",
    "print(p5a_matrix_of_original_array_times_matrix_of_X_plus_Y)\n",
    "print()\n",
    "\n",
    "p5a_sum_of_matrix_of_original_array_times_matrix_of_X_plus_Y = np.sum(p5a_matrix_of_original_array_times_matrix_of_X_plus_Y)\n",
    "print(\"Sum of the above matrix\")\n",
    "print(p5a_sum_of_matrix_of_original_array_times_matrix_of_X_plus_Y)"
   ]
  },
  {
   "cell_type": "markdown",
   "metadata": {
    "ExecuteTime": {
     "end_time": "2020-10-24T03:47:42.327392Z",
     "start_time": "2020-10-24T03:47:42.322388Z"
    }
   },
   "source": [
    "### (b) If the maximum of the two scores is recorded, what is the expected recorded score? (Enter your answer to two decimal places.)"
   ]
  },
  {
   "cell_type": "code",
   "execution_count": 75,
   "metadata": {
    "ExecuteTime": {
     "end_time": "2020-10-24T09:10:21.466228Z",
     "start_time": "2020-10-24T09:10:21.453216Z"
    }
   },
   "outputs": [
    {
     "name": "stdout",
     "output_type": "stream",
     "text": [
      "Matrix Max of p5a_matrix_of_Y and p5a_matrix_of_X\n",
      "[[ 0.  5. 10. 15.]\n",
      " [ 5.  5. 10. 15.]\n",
      " [10. 10. 10. 15.]]\n",
      "\n",
      "Matrix of (Given Table as Matrix) * (p5b_matrix_max)\n",
      "[[0.   0.3  0.2  1.5 ]\n",
      " [0.2  0.65 2.   1.5 ]\n",
      " [0.1  1.5  1.7  0.15]]\n",
      "\n",
      "Sum of Matrix of (Given Table as Matrix) * (p5b_matrix_max)\n",
      "9.799999999999999\n"
     ]
    }
   ],
   "source": [
    "p5b_matrix_max = np.maximum(p5a_matrix_of_Y, p5a_matrix_of_X)\n",
    "print(\"Matrix Max of p5a_matrix_of_Y and p5a_matrix_of_X\")\n",
    "print(p5b_matrix_max)\n",
    "print()\n",
    "\n",
    "p5b_matrix_solution = p5_np_array * p5b_matrix_max\n",
    "print(\"Matrix of (Given Table as Matrix) * (p5b_matrix_max)\")\n",
    "print(p5b_matrix_solution)\n",
    "print()\n",
    "\n",
    "print(\"Sum of Matrix of (Given Table as Matrix) * (p5b_matrix_max)\")\n",
    "print(np.sum(p5b_matrix_solution))"
   ]
  },
  {
   "cell_type": "markdown",
   "metadata": {},
   "source": [
    "# 6.DEVORESTAT9 5.E.030.\n",
    "An instructor has given a short quiz consisting of two parts. For a randomly selected student, let X = the number of points earned on the first part and Y = the number of points earned on the second part. Suppose that the joint pmf of X and Y is given in the accompanying table.\n",
    "<img src=\"images/5_1_and_5_2_problem_6.png\" alt=\"5_1_and_5_2_problem_6.png\" style=\"float:left;\">"
   ]
  },
  {
   "cell_type": "code",
   "execution_count": 94,
   "metadata": {
    "ExecuteTime": {
     "end_time": "2020-10-24T10:48:35.262292Z",
     "start_time": "2020-10-24T10:48:35.254285Z"
    },
    "scrolled": true
   },
   "outputs": [
    {
     "name": "stdout",
     "output_type": "stream",
     "text": [
      "Column names\n",
      "[0, 5, 10, 15]\n",
      "\n",
      "Index names\n",
      "[[ 0]\n",
      " [ 5]\n",
      " [10]]\n",
      "\n",
      "Given Table as Matrix\n",
      "[[0.03 0.06 0.02 0.1 ]\n",
      " [0.04 0.17 0.2  0.1 ]\n",
      " [0.01 0.15 0.11 0.01]]\n"
     ]
    }
   ],
   "source": [
    "p6_data = \"\"\"\n",
    "0.03\t0.06\t0.02\t0.10\n",
    "0.04\t0.17\t0.20\t0.10\n",
    "0.01\t0.15\t0.11\t0.01\n",
    "\n",
    "\n",
    "\"\"\"\n",
    "p6_COLUMN_NAMES = [0, 5, 10, 15]\n",
    "p6_INDEX_NAMES = [0, 5, 10]\n",
    "\n",
    "print(\"Column names\")\n",
    "print(p6_COLUMN_NAMES)\n",
    "print()\n",
    "\n",
    "print(\"Index names\")\n",
    "# print(np.array(p6_INDEX_NAMES).reshape(-1,1)) # Alternative\n",
    "print(np.vstack(np.array(p6_INDEX_NAMES)))\n",
    "print()\n",
    "\n",
    "p6_list_data = p6_data.split(\"\\n\")\n",
    "p6_list_list_data = [i.split(\"\\t\") for i in p6_list_data if i]\n",
    "p6_np_array = np.array(p6_list_list_data)\n",
    "p6_np_array = p6_np_array.astype(np.float64)\n",
    "\n",
    "print(\"Given Table as Matrix\")\n",
    "print(p6_np_array)"
   ]
  },
  {
   "cell_type": "code",
   "execution_count": 86,
   "metadata": {
    "ExecuteTime": {
     "end_time": "2020-10-24T10:40:24.472846Z",
     "start_time": "2020-10-24T10:40:24.462838Z"
    }
   },
   "outputs": [
    {
     "name": "stdout",
     "output_type": "stream",
     "text": [
      "[0.08 0.38 0.33 0.21]\n",
      "\n",
      "[0.21 0.51 0.28]\n"
     ]
    }
   ],
   "source": [
    "p6_np_array_row = np.sum(p6_np_array, axis=0)\n",
    "print(p6_np_array_row)\n",
    "print()\n",
    "\n",
    "p6_np_array_column = np.sum(p6_np_array, axis=1)\n",
    "print(p6_np_array_column)"
   ]
  },
  {
   "cell_type": "code",
   "execution_count": null,
   "metadata": {
    "ExecuteTime": {
     "end_time": "2020-10-24T03:32:53.904358Z",
     "start_time": "2020-10-24T03:32:50.671Z"
    }
   },
   "outputs": [],
   "source": [
    "that = np.array([0, 5, 10])\n",
    "\n",
    "print(p5_np_array_column)\n",
    "print()\n",
    "\n",
    "p5_P_of_X_times_X = p5_np_array_column * that\n",
    "print(p5_P_of_X_times_X)\n",
    "print()\n",
    "\n",
    "mean_x = np.sum(p5_P_of_X_times_X)\n",
    "print(mean_x)\n",
    "print()\n",
    "\n",
    "\n",
    "p5_P_of_X_blah = that - mean_x\n",
    "print(p5_P_of_X_blah)\n",
    "p5_P_of_X_blah = p5_P_of_X_blah * p5_P_of_X_blah\n",
    "print(p5_P_of_X_blah)\n",
    "p5_P_of_X_blah = p5_P_of_X_blah * p5_np_array_column\n",
    "print(p5_P_of_X_blah)\n",
    "print()\n",
    "\n",
    "x_sqrt = np.sum(p5_P_of_X_blah)**(1/2)\n",
    "print(x_sqrt)"
   ]
  },
  {
   "cell_type": "code",
   "execution_count": null,
   "metadata": {
    "ExecuteTime": {
     "end_time": "2020-10-24T03:32:53.905358Z",
     "start_time": "2020-10-24T03:32:50.673Z"
    }
   },
   "outputs": [],
   "source": [
    "that_2 = np.array([0, 5, 10, 15])\n",
    "\n",
    "print(p5_np_array_row)\n",
    "print()\n",
    "\n",
    "p5_P_of_Y_times_Y = p5_np_array_row * that_2\n",
    "print(p5_P_of_Y_times_Y)\n",
    "print()\n",
    "\n",
    "mean_y = np.sum(p5_P_of_Y_times_Y)\n",
    "print(mean_y)\n",
    "print()\n",
    "\n",
    "\n",
    "p5_P_of_Y_blah = that_2 - mean_y\n",
    "print(p5_P_of_Y_blah)\n",
    "p5_P_of_Y_blah = p5_P_of_Y_blah * p5_P_of_Y_blah\n",
    "print(p5_P_of_Y_blah)\n",
    "p5_P_of_Y_blah = p5_P_of_Y_blah * p5_np_array_row\n",
    "print(p5_P_of_Y_blah)\n",
    "print()\n",
    "\n",
    "y_sqrt = np.sum(p5_P_of_Y_blah)**(1/2)\n",
    "print(y_sqrt)"
   ]
  },
  {
   "cell_type": "code",
   "execution_count": null,
   "metadata": {
    "ExecuteTime": {
     "end_time": "2020-10-24T03:32:53.906358Z",
     "start_time": "2020-10-24T03:32:50.674Z"
    },
    "scrolled": false
   },
   "outputs": [],
   "source": [
    "print(p5_np_array)\n",
    "print()\n",
    "\n",
    "mult_1 = np.array([that, that, that, that])\n",
    "print(mult_1)\n",
    "print()\n",
    "\n",
    "mult_2 = np.array([that_2, that_2, that_2]).transpose()\n",
    "print(mult_2)\n",
    "print()\n",
    "\n",
    "p1 = p5_np_array.transpose()\n",
    "\n",
    "\n",
    "print(p1)\n",
    "\n",
    "\n",
    "p1 = p1 * mult_1 * mult_2\n",
    "print(p1)\n",
    "print()\n",
    "p1_sum = np.sum(p1)\n",
    "\n",
    "print(p1_sum)\n",
    "print()\n",
    "\n",
    "p_sol = p1_sum - mean_y * mean_x\n",
    "print(p_sol)"
   ]
  },
  {
   "cell_type": "code",
   "execution_count": null,
   "metadata": {
    "ExecuteTime": {
     "end_time": "2020-10-24T03:32:53.907360Z",
     "start_time": "2020-10-24T03:32:50.676Z"
    }
   },
   "outputs": [],
   "source": [
    "part_b = p_sol/(y_sqrt * x_sqrt)\n",
    "\n",
    "print(part_b)"
   ]
  },
  {
   "cell_type": "code",
   "execution_count": null,
   "metadata": {},
   "outputs": [],
   "source": []
  },
  {
   "cell_type": "code",
   "execution_count": null,
   "metadata": {},
   "outputs": [],
   "source": []
  },
  {
   "cell_type": "code",
   "execution_count": null,
   "metadata": {},
   "outputs": [],
   "source": []
  },
  {
   "cell_type": "code",
   "execution_count": null,
   "metadata": {},
   "outputs": [],
   "source": []
  },
  {
   "cell_type": "code",
   "execution_count": null,
   "metadata": {},
   "outputs": [],
   "source": []
  }
 ],
 "metadata": {
  "kernelspec": {
   "display_name": "Python 3.8.5 64-bit Anaconda (Only works with Anaconda's Jupyter)",
   "language": "python",
   "name": "python_3.8.5_64-bit_anaconda"
  },
  "language_info": {
   "codemirror_mode": {
    "name": "ipython",
    "version": 3
   },
   "file_extension": ".py",
   "mimetype": "text/x-python",
   "name": "python",
   "nbconvert_exporter": "python",
   "pygments_lexer": "ipython3",
   "version": "3.8.5"
  },
  "varInspector": {
   "cols": {
    "lenName": 16,
    "lenType": 16,
    "lenVar": 40
   },
   "kernels_config": {
    "python": {
     "delete_cmd_postfix": "",
     "delete_cmd_prefix": "del ",
     "library": "var_list.py",
     "varRefreshCmd": "print(var_dic_list())"
    },
    "r": {
     "delete_cmd_postfix": ") ",
     "delete_cmd_prefix": "rm(",
     "library": "var_list.r",
     "varRefreshCmd": "cat(var_dic_list()) "
    }
   },
   "types_to_exclude": [
    "module",
    "function",
    "builtin_function_or_method",
    "instance",
    "_Feature"
   ],
   "window_display": false
  }
 },
 "nbformat": 4,
 "nbformat_minor": 4
}

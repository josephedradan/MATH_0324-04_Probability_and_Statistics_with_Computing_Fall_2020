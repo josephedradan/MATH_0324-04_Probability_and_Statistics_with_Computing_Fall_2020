{
 "cells": [
  {
   "cell_type": "markdown",
   "metadata": {},
   "source": [
    "# 1. DEVORESTAT9 1.E.003.\n",
    "Consider the population consisting of all computers of a certain brand and model, and focus on whether a computer needs service while under warranty.\n",
    "\n",
    "<img src=\"images/1_1_and_2_2_problem_1_solution.png\" alt=\"1_1_and_2_2_problem_1_solution.png\" style=\"float:left;\">   "
   ]
  },
  {
   "cell_type": "markdown",
   "metadata": {},
   "source": [
    "# 2. DEVORESTAT9 1.E.006.\n",
    "The California State University (CSU) system consists of 23 campuses, from San Diego State in the south to Humboldt State near the Oregon border. A CSU administrator wishes to make an inference about the average distance between the hometowns of students and their campuses. Describe and discuss several different sampling methods that might be employed. (Select all that apply.)\n",
    "<img src=\"images/1_1_and_2_2_problem_2_solution.png\" alt=\"1_1_and_2_2_problem_2_solution.png\" style=\"float:left;\">   "
   ]
  },
  {
   "cell_type": "markdown",
   "metadata": {},
   "source": [
    "# 3. DEVORESTAT9 1.E.006.\n",
    "In a famous experiment carried out in 1882, Michelson and Newcomb obtained 66 observations on the time it took for light to travel between two locations in Washington, D.C. A few of the measurements (coded in a certain manner) were 31, 23, 32, 36, −2, 26, 27, and 31.\n",
    "<img src=\"images/1_1_and_2_2_problem_3_solution.png\" alt=\"1_1_and_2_2_problem_3_solution.png\" style=\"float:left;\">   "
   ]
  },
  {
   "cell_type": "markdown",
   "metadata": {},
   "source": [
    "# 4. DEVORESTAT9 1.E.010.\n",
    "Flexural strength is a measure of a material's ability to resist failure in bending. The accompanying data are on flexural strength of concrete (in MegaPascal, MPa, where 1 Pa (Pascal) = 1.45 ⨯ 10−4 psi):\n",
    "\n",
    "<img src=\"images/1_1_and_2_2_problem_4.png\" alt=\"1_1_and_2_2_problem_4.png\" style=\"float:left;\">   "
   ]
  },
  {
   "cell_type": "code",
   "execution_count": 1,
   "metadata": {
    "ExecuteTime": {
     "end_time": "2020-09-21T23:07:07.094335Z",
     "start_time": "2020-09-21T23:07:07.091332Z"
    }
   },
   "outputs": [],
   "source": [
    "# pip install stemgraphic\n",
    "\"\"\"\n",
    "\n",
    "Reference:\n",
    "    Graphing stem and leaf\n",
    "        https://www.geeksforgeeks.org/stem-and-leaf-plots-in-python/\n",
    "\"\"\"\n",
    "print(end=\"\")"
   ]
  },
  {
   "cell_type": "code",
   "execution_count": 2,
   "metadata": {
    "ExecuteTime": {
     "end_time": "2020-09-21T23:07:08.305787Z",
     "start_time": "2020-09-21T23:07:07.096336Z"
    }
   },
   "outputs": [
    {
     "name": "stdout",
     "output_type": "stream",
     "text": [
      "p4_list_formatted=[5.9, 6.3, 6.3, 6.5, 6.8, 6.8, 7.0, 7.0, 7.2, 7.3, 7.4, 7.6, 7.7, 7.7, 7.8, 7.8, 7.9, 8.1, 8.2, 8.7, 9.0, 9.7, 9.7, 10.7, 11.3, 11.6, 11.8]\n"
     ]
    }
   ],
   "source": [
    "import re\n",
    "import stemgraphic\n",
    "\n",
    "# Copying the list from the HW\n",
    "list_input = \"\"\"\n",
    "5.9\t7.2\t7.3\t6.3\t8.1\t6.8\t7.0\t7.6\t6.8\t6.5\t7.0\t6.3\t7.9\t9.0\n",
    "8.2\t8.7\t7.8\t9.7\t7.4\t7.7\t9.7\t7.8\t7.7\t11.6\t11.3\t11.8\t10.7\n",
    "\"\"\"\n",
    "\n",
    "# Regex ti get the numbers\n",
    "p4_list_strings = re.split(\"\\t|\\n\", list_input)\n",
    "\n",
    "# print(p4_list_strings)\n",
    "\n",
    "# List of non emtpy strings\n",
    "p4_list_strings = [i for i in p4_list_strings if i != \"\"]\n",
    "\n",
    "# String to float\n",
    "p4_list_formatted = [float(i) for i in p4_list_strings]\n",
    "\n",
    "# Sort the list\n",
    "p4_list_formatted.sort()\n",
    "\n",
    "print(f'{p4_list_formatted=}')\n",
    "# print()"
   ]
  },
  {
   "cell_type": "markdown",
   "metadata": {},
   "source": [
    "### (a) Construct a stem-and-leaf display of the data. (Enter numbers from smallest to largest separated by spaces. Enter NONE for stems with no values.)\n"
   ]
  },
  {
   "cell_type": "code",
   "execution_count": 3,
   "metadata": {
    "ExecuteTime": {
     "end_time": "2020-09-21T23:07:08.464922Z",
     "start_time": "2020-09-21T23:07:08.306787Z"
    },
    "scrolled": false
   },
   "outputs": [
    {
     "name": "stdout",
     "output_type": "stream",
     "text": [
      "(<Figure size 540x180 with 1 Axes>, <matplotlib.axes._axes.Axes object at 0x0000013BBDD4FD00>)\n"
     ]
    },
    {
     "data": {
      "image/png": "[encoded data removed]",
      "text/plain": [
       "<Figure size 540x180 with 1 Axes>"
      ]
     },
     "metadata": {
      "needs_background": "light"
     },
     "output_type": "display_data"
    }
   ],
   "source": [
    "# Stem and left graph\n",
    "print(stemgraphic.stem_graphic(p4_list_formatted, scale=1))\n",
    "print(end=\"\")"
   ]
  },
  {
   "cell_type": "markdown",
   "metadata": {},
   "source": [
    "<img src=\"images/1_1_and_2_2_problem_4a_solution.png\" alt=\"1_1_and_2_2_problem_4a_solution.png\" style=\"float:left;\">   "
   ]
  },
  {
   "cell_type": "markdown",
   "metadata": {},
   "source": [
    "### What appears to be a representative strength value?"
   ]
  },
  {
   "cell_type": "code",
   "execution_count": 4,
   "metadata": {
    "ExecuteTime": {
     "end_time": "2020-09-21T23:07:08.467924Z",
     "start_time": "2020-09-21T23:07:08.465923Z"
    },
    "scrolled": true
   },
   "outputs": [
    {
     "name": "stdout",
     "output_type": "stream",
     "text": [
      "What appears to be a representative strength value?\n",
      "7.7\n"
     ]
    }
   ],
   "source": [
    "# representative value (AKA THE MIDDLE OF THE List)\n",
    "p4_representative_value = (\n",
    "    p4_list_formatted[len(p4_list_formatted)//2])  # floored division\n",
    "\n",
    "print(\"What appears to be a representative strength value?\")\n",
    "print(f'{p4_representative_value}')"
   ]
  },
  {
   "cell_type": "markdown",
   "metadata": {},
   "source": [
    "### Do the observations appear to be highly concentrated about the representative value or rather spread out?\n"
   ]
  },
  {
   "cell_type": "code",
   "execution_count": 5,
   "metadata": {
    "ExecuteTime": {
     "end_time": "2020-09-21T23:07:08.476932Z",
     "start_time": "2020-09-21T23:07:08.468926Z"
    }
   },
   "outputs": [
    {
     "name": "stdout",
     "output_type": "stream",
     "text": [
      "Do the observations appear to be highly concentrated about the representative value or rather spread out?\n",
      "spread out with a large range\n"
     ]
    }
   ],
   "source": [
    "print(\"Do the observations appear to be highly concentrated about the representative value or rather spread out?\")\n",
    "print(\"spread out with a large range\")"
   ]
  },
  {
   "cell_type": "markdown",
   "metadata": {},
   "source": [
    "<img src=\"images/1_1_and_2_2_problem_4a_solution_part_2.png\" alt=\"1_1_and_2_2_problem_4a_solution_part_2.png\" style=\"float:left;\">   "
   ]
  },
  {
   "cell_type": "markdown",
   "metadata": {},
   "source": [
    "### (b) Does the display appear to be reasonably symmetric about a representative value, or would you describe its shape in some other way?  \n"
   ]
  },
  {
   "cell_type": "code",
   "execution_count": 6,
   "metadata": {
    "ExecuteTime": {
     "end_time": "2020-09-21T23:07:08.484938Z",
     "start_time": "2020-09-21T23:07:08.479935Z"
    }
   },
   "outputs": [
    {
     "name": "stdout",
     "output_type": "stream",
     "text": [
      "positive skewness\n"
     ]
    }
   ],
   "source": [
    "# print(\"(b) Does the display appear to be reasonably symmetric about a representative value, or would you describe its shape in some other way?\")\n",
    "print(\"positive skewness\")"
   ]
  },
  {
   "cell_type": "markdown",
   "metadata": {},
   "source": [
    "<img src=\"images/1_1_and_2_2_problem_4b_solution.png\" alt=\"1_1_and_2_2_problem_4b_solution.png\" style=\"float:left;\">   "
   ]
  },
  {
   "cell_type": "markdown",
   "metadata": {},
   "source": [
    "### (c) Do there appear to be any outlying strength values?\n"
   ]
  },
  {
   "cell_type": "code",
   "execution_count": 7,
   "metadata": {
    "ExecuteTime": {
     "end_time": "2020-09-21T23:07:08.492946Z",
     "start_time": "2020-09-21T23:07:08.485939Z"
    }
   },
   "outputs": [
    {
     "name": "stdout",
     "output_type": "stream",
     "text": [
      "No\n"
     ]
    }
   ],
   "source": [
    "print(\"No\")"
   ]
  },
  {
   "cell_type": "markdown",
   "metadata": {},
   "source": [
    "<img src=\"images/1_1_and_2_2_problem_4c_solution.png\" alt=\"1_1_and_2_2_problem_4c_solution.png\" style=\"float:left;\">   "
   ]
  },
  {
   "cell_type": "markdown",
   "metadata": {},
   "source": [
    "### (d) What proportion of strength observations in this sample exceed 10 MPa? (Round your answer to two decimal places.)\n"
   ]
  },
  {
   "cell_type": "code",
   "execution_count": 8,
   "metadata": {
    "ExecuteTime": {
     "end_time": "2020-09-21T23:07:08.500952Z",
     "start_time": "2020-09-21T23:07:08.493947Z"
    }
   },
   "outputs": [
    {
     "name": "stdout",
     "output_type": "stream",
     "text": [
      "Proportion of strength observations in this sample exceed 10 MPa: 0.15\n"
     ]
    }
   ],
   "source": [
    "# Get values over 10MPA in a list\n",
    "p4_values_above_10_MPa = [i for i in p4_list_formatted if i >= 10]\n",
    "\n",
    "p4_proportion = (len(p4_values_above_10_MPa) /\n",
    "                 len(p4_list_formatted))\n",
    "\n",
    "print(\"Proportion of strength observations in this sample exceed 10 MPa: {:.2f}\".format(\n",
    "    p4_proportion))"
   ]
  },
  {
   "cell_type": "markdown",
   "metadata": {},
   "source": [
    "# 5. DEVORESTAT9 1.E.017.MI.\n",
    "The accompanying data came from a study of collusion in bidding within the construction industry.\n",
    "\n",
    "<img src=\"images/1_1_and_2_2_problem_5.png\" alt=\"1_1_and_2_2_problem_5.png\" style=\"float:left;\">  "
   ]
  },
  {
   "cell_type": "code",
   "execution_count": 9,
   "metadata": {
    "ExecuteTime": {
     "end_time": "2020-09-21T23:07:08.510961Z",
     "start_time": "2020-09-21T23:07:08.501953Z"
    }
   },
   "outputs": [
    {
     "name": "stdout",
     "output_type": "stream",
     "text": [
      "   num_bidders  num_contracts\n",
      "0            2              6\n",
      "1            3             20\n",
      "2            4             26\n",
      "3            5             18\n",
      "4            6             12\n",
      "5            7              7\n",
      "6            8              5\n",
      "7            9              6\n",
      "8           10              4\n",
      "9           11              3\n"
     ]
    }
   ],
   "source": [
    "\"\"\"\n",
    "Reference:\n",
    "    How to create a Pandas DataFrame from a string in Python\n",
    "        https://www.kite.com/python/answers/how-to-create-a-pandas-dataframe-from-a-string-in-python\n",
    "    \n",
    "    Construct a DataFrame in Pandas using string data\n",
    "        https://www.geeksforgeeks.org/construct-a-dataframe-in-pandas-using-string-data/\n",
    "        \n",
    "    How to shift down columns row and re-assign column values in Pandas Dataframe?\n",
    "        https://stackoverflow.com/questions/38444884/how-to-shift-down-columns-row-and-re-assign-column-values-in-pandas-dataframe\n",
    "        \n",
    "\"\"\"\n",
    "import pandas as pd\n",
    "from io import StringIO\n",
    "\n",
    "# String copied from question\n",
    "string_data = \"\"\"\n",
    "2\t6\n",
    "3\t20\n",
    "4\t26\n",
    "5\t18\n",
    "6\t12\n",
    "7\t7\n",
    "8\t5\n",
    "9\t6\n",
    "10\t4\n",
    "11\t3\n",
    "\"\"\"\n",
    "\n",
    "# Convert string to an text stream\n",
    "df = pd.read_csv(StringIO(string_data), sep=\"\\t\", header=None)  # No headers\n",
    "\n",
    "# Add headers\n",
    "df = df.rename(columns={0: \"num_bidders\", 1: \"num_contracts\"})\n",
    "print(df)"
   ]
  },
  {
   "cell_type": "markdown",
   "metadata": {},
   "source": [
    "### (a) What proportion of the contracts involved at most five bidders? At least five bidders? (Round your answers to three decimal places.)\n"
   ]
  },
  {
   "cell_type": "code",
   "execution_count": 10,
   "metadata": {
    "ExecuteTime": {
     "end_time": "2020-09-21T23:07:08.517967Z",
     "start_time": "2020-09-21T23:07:08.511962Z"
    }
   },
   "outputs": [
    {
     "name": "stdout",
     "output_type": "stream",
     "text": [
      "sum_total_num_contracts=107\n"
     ]
    }
   ],
   "source": [
    "\"\"\"\n",
    "Reference:\n",
    "    Python Pandas: Get index of rows which column matches certain value\n",
    "        https://stackoverflow.com/questions/21800169/python-pandas-get-index-of-rows-which-column-matches-certain-value\n",
    "\"\"\"\n",
    "# print(df_at_most_5_bidders)\n",
    "\n",
    "# Sum of the total number of contracts\n",
    "sum_total_num_contracts = df.sum(axis=-0)[1]\n",
    "\n",
    "print(f\"{sum_total_num_contracts=}\")"
   ]
  },
  {
   "cell_type": "code",
   "execution_count": 11,
   "metadata": {
    "ExecuteTime": {
     "end_time": "2020-09-21T23:07:08.525974Z",
     "start_time": "2020-09-21T23:07:08.518968Z"
    }
   },
   "outputs": [
    {
     "name": "stdout",
     "output_type": "stream",
     "text": [
      "0     True\n",
      "1     True\n",
      "2     True\n",
      "3     True\n",
      "4    False\n",
      "5    False\n",
      "6    False\n",
      "7    False\n",
      "8    False\n",
      "9    False\n",
      "Name: num_bidders, dtype: bool\n"
     ]
    }
   ],
   "source": [
    "# Indices where column \"num_bidders\" less than equal 5\n",
    "indices_num_bidders_less_than_equal_5 = df.iloc[:, 0] <= 5\n",
    "print(indices_num_bidders_less_than_equal_5)"
   ]
  },
  {
   "cell_type": "code",
   "execution_count": 12,
   "metadata": {
    "ExecuteTime": {
     "end_time": "2020-09-21T23:07:08.532980Z",
     "start_time": "2020-09-21T23:07:08.526974Z"
    }
   },
   "outputs": [
    {
     "name": "stdout",
     "output_type": "stream",
     "text": [
      "   num_bidders  num_contracts\n",
      "0            2              6\n",
      "1            3             20\n",
      "2            4             26\n",
      "3            5             18\n"
     ]
    }
   ],
   "source": [
    "# dataframe where column \"num_bidders\" less than 5\n",
    "df_at_most_5_bidders = df.loc[indices_num_bidders_less_than_equal_5]\n",
    "print(df_at_most_5_bidders)"
   ]
  },
  {
   "cell_type": "code",
   "execution_count": 13,
   "metadata": {
    "ExecuteTime": {
     "end_time": "2020-09-21T23:07:08.536983Z",
     "start_time": "2020-09-21T23:07:08.533981Z"
    }
   },
   "outputs": [
    {
     "name": "stdout",
     "output_type": "stream",
     "text": [
      "at most five bidders: 0.654\n"
     ]
    }
   ],
   "source": [
    "# Sum of the number of contracts that have at most 5 bidders\n",
    "sum_num_contracts_bidders_at_most_5 = (\n",
    "    df_at_most_5_bidders.sum(axis=0)[1])  # Sum of rows at column index 1 (index 1 is num_contracts)\n",
    "\n",
    "ratio_bidders_at_most_5 = (sum_num_contracts_bidders_at_most_5 /\n",
    "                           sum_total_num_contracts)\n",
    "\n",
    "print(\"at most five bidders: {:.3f}\".format(ratio_bidders_at_most_5))\n",
    "\n",
    "############################################################################################################\n",
    "\"\"\"\n",
    "Could have just inverted the Trues from indices_num_bidders_less_than_equal_5\n",
    "OR\n",
    "sum_total_num_contracts - sum_num_contracts_bidders_at_most_5 = sum_num_contracts_bidders_greater_than_equal_5\n",
    "\n",
    "\"\"\"\n",
    "print(end=\"\")\n",
    "# print(\"(a) What proportion of the contracts involved at most five bidders? At least five bidders? (Round your answers to three decimal places.)\")"
   ]
  },
  {
   "cell_type": "code",
   "execution_count": 14,
   "metadata": {
    "ExecuteTime": {
     "end_time": "2020-09-21T23:07:08.542988Z",
     "start_time": "2020-09-21T23:07:08.537984Z"
    }
   },
   "outputs": [
    {
     "name": "stdout",
     "output_type": "stream",
     "text": [
      "0    False\n",
      "1    False\n",
      "2    False\n",
      "3     True\n",
      "4     True\n",
      "5     True\n",
      "6     True\n",
      "7     True\n",
      "8     True\n",
      "9     True\n",
      "Name: num_bidders, dtype: bool\n"
     ]
    }
   ],
   "source": [
    "# Indices where column \"num_bidders\" greater than eqaul 5\n",
    "indicies_greater_than_equal_5 = df.iloc[:, 0] >= 5\n",
    "\n",
    "print(indicies_greater_than_equal_5)"
   ]
  },
  {
   "cell_type": "code",
   "execution_count": 15,
   "metadata": {
    "ExecuteTime": {
     "end_time": "2020-09-21T23:07:08.548993Z",
     "start_time": "2020-09-21T23:07:08.543989Z"
    }
   },
   "outputs": [
    {
     "name": "stdout",
     "output_type": "stream",
     "text": [
      "   num_bidders  num_contracts\n",
      "3            5             18\n",
      "4            6             12\n",
      "5            7              7\n",
      "6            8              5\n",
      "7            9              6\n",
      "8           10              4\n",
      "9           11              3\n"
     ]
    }
   ],
   "source": [
    "# dataframe where column \"num_bidders\" greater than equal 5\n",
    "df_at_least_5_bidders = df.loc[indicies_greater_than_equal_5]\n",
    "\n",
    "print(df_at_least_5_bidders)"
   ]
  },
  {
   "cell_type": "code",
   "execution_count": 16,
   "metadata": {
    "ExecuteTime": {
     "end_time": "2020-09-21T23:07:08.553998Z",
     "start_time": "2020-09-21T23:07:08.550995Z"
    }
   },
   "outputs": [
    {
     "name": "stdout",
     "output_type": "stream",
     "text": [
      "55\n"
     ]
    }
   ],
   "source": [
    "# Sum of the number of contracts that have greater than equal 5 bidders\n",
    "sum_num_contracts_bidders_greater_than_equal_5 = (\n",
    "    df_at_least_5_bidders.sum(axis=0)[1])# [1] for second column\n",
    "\n",
    "print(sum_num_contracts_bidders_greater_than_equal_5)"
   ]
  },
  {
   "cell_type": "code",
   "execution_count": 17,
   "metadata": {
    "ExecuteTime": {
     "end_time": "2020-09-21T23:07:08.558001Z",
     "start_time": "2020-09-21T23:07:08.554998Z"
    }
   },
   "outputs": [
    {
     "name": "stdout",
     "output_type": "stream",
     "text": [
      "at least five bidders: 0.514\n"
     ]
    }
   ],
   "source": [
    "ratio_bidders_greater_than_equal_5 = (sum_num_contracts_bidders_greater_than_equal_5 /\n",
    "                                      sum_total_num_contracts)\n",
    "\n",
    "print(\"at least five bidders: {:.3f}\".format(\n",
    "    ratio_bidders_greater_than_equal_5))"
   ]
  },
  {
   "cell_type": "code",
   "execution_count": 18,
   "metadata": {
    "ExecuteTime": {
     "end_time": "2020-09-21T23:07:08.564007Z",
     "start_time": "2020-09-21T23:07:08.559002Z"
    }
   },
   "outputs": [
    {
     "name": "stdout",
     "output_type": "stream",
     "text": [
      "Solutions\n",
      "\n",
      "at most five bidders: 0.654\n",
      "at least five bidders: 0.514\n"
     ]
    }
   ],
   "source": [
    "print(\"Solutions\")\n",
    "print()\n",
    "print(\"at most five bidders: {:.3f}\".format(ratio_bidders_at_most_5))\n",
    "print(\"at least five bidders: {:.3f}\".format(\n",
    "    ratio_bidders_greater_than_equal_5))"
   ]
  },
  {
   "cell_type": "markdown",
   "metadata": {},
   "source": [
    "### (b) What proportion of the contracts involved between five and 10 bidders, inclusive? Strictly between five and 10 bidders? (Round your answers to three decimal places.)\n"
   ]
  },
  {
   "cell_type": "code",
   "execution_count": 19,
   "metadata": {
    "ExecuteTime": {
     "end_time": "2020-09-21T23:07:08.571012Z",
     "start_time": "2020-09-21T23:07:08.565007Z"
    }
   },
   "outputs": [
    {
     "name": "stdout",
     "output_type": "stream",
     "text": [
      "ratio_contracts_bidders_between_5_and_10_inclusive: 0.486\n",
      "ratio_contracts_bidders_between_5_and_10_strict: 0.280\n"
     ]
    }
   ],
   "source": [
    "# print(\"(b) What proportion of the contracts involved between five and 10 bidders, inclusive? Strictly between five and 10 bidders? (Round your answers to three decimal places.)\")\n",
    "\n",
    "# indices where number of bidders between 5 and 10 inclusive\n",
    "indices_num_bidders_between_5_and_10_inclusive = (\n",
    "    (df.num_bidders >= 5) & (df.num_bidders <= 10)\n",
    ")\n",
    "\n",
    "# print(indices_num_bidders_between_5_and_10_inclusive)\n",
    "\n",
    "# dataframe contracts where bidders between 5 and 5 inclusive\n",
    "df_contracts_bidders_between_5_and_10_inclusive = df.loc[\n",
    "    indices_num_bidders_between_5_and_10_inclusive\n",
    "]\n",
    "\n",
    "# print(df_contracts_bidders_between_5_and_10_inclusive)\n",
    "\n",
    "# Sum of the number of contracts where bidders between 5 and 10 inclusive\n",
    "sum_num_contracts_bidders_between_5_and_10_inclusive = df_contracts_bidders_between_5_and_10_inclusive.sum(axis=0)[\n",
    "    1]\n",
    "\n",
    "ratio_contracts_bidders_between_5_and_10_inclusive = sum_num_contracts_bidders_between_5_and_10_inclusive / \\\n",
    "    sum_total_num_contracts\n",
    "\n",
    "print(\"ratio_contracts_bidders_between_5_and_10_inclusive: {:.3f}\".format(ratio_contracts_bidders_between_5_and_10_inclusive))\n",
    "\n",
    "############################################################################################################\n",
    "\n",
    "# indices where number of bidders between 5 and 10 strict\n",
    "indices_num_bidders_between_5_and_10_strict = (\n",
    "    (df.num_bidders > 5) & (df.num_bidders < 10))\n",
    "# print(indices_num_bidders_between_5_and_10_inclusive)\n",
    "\n",
    "# dataframe contracts where bidders between 5 and 5 strict\n",
    "df_contracts_bidders_between_5_and_10_strict = df.loc[\n",
    "    indices_num_bidders_between_5_and_10_strict\n",
    "]\n",
    "\n",
    "# print(df_contracts_bidders_between_5_and_10_inclusive)\n",
    "\n",
    "# Sum of the number of contracts where bidders between 5 and 10 strict\n",
    "sum_num_contracts_bidders_between_5_and_10_strict = df_contracts_bidders_between_5_and_10_strict.sum(axis=0)[\n",
    "    1]\n",
    "\n",
    "ratio_contracts_bidders_between_5_and_10_strict = (\n",
    "    sum_num_contracts_bidders_between_5_and_10_strict /\n",
    "    sum_total_num_contracts)\n",
    "\n",
    "print(\"ratio_contracts_bidders_between_5_and_10_strict: {:.3f}\".format(ratio_contracts_bidders_between_5_and_10_strict))"
   ]
  },
  {
   "cell_type": "markdown",
   "metadata": {},
   "source": [
    "### (c) Construct a histogram.\n"
   ]
  },
  {
   "cell_type": "code",
   "execution_count": 20,
   "metadata": {
    "ExecuteTime": {
     "end_time": "2020-09-21T23:07:08.662090Z",
     "start_time": "2020-09-21T23:07:08.572013Z"
    },
    "scrolled": true
   },
   "outputs": [
    {
     "name": "stdout",
     "output_type": "stream",
     "text": [
      "(c) Construct a histogram.\n",
      "(array([ 6., 20., 26., 18., 12.,  7.,  5.,  6.,  4.,  3.]), array([ 2. ,  2.9,  3.8,  4.7,  5.6,  6.5,  7.4,  8.3,  9.2, 10.1, 11. ]), <BarContainer object of 10 artists>)\n"
     ]
    },
    {
     "data": {
      "image/png": "[encoded data removed]",
      "text/plain": [
       "<Figure size 432x288 with 1 Axes>"
      ]
     },
     "metadata": {
      "needs_background": "light"
     },
     "output_type": "display_data"
    }
   ],
   "source": [
    "\"\"\"\n",
    "Reference:\n",
    "    pandas - histogram from two columns?\n",
    "        https://stackoverflow.com/questions/31571830/pandas-histogram-from-two-columns\n",
    "        \n",
    "    Notes on weights for matplotlib.pyplot.hist\n",
    "        https://matplotlib.org/3.3.1/api/_as_gen/matplotlib.pyplot.hist.html\n",
    "\"\"\"\n",
    "from matplotlib.pyplot import hist\n",
    "\n",
    "print(\"(c) Construct a histogram.\")\n",
    "# Instead of bins (which is the spacing) use weights which is the specific bins\n",
    "print(hist(df.num_bidders, weights=df.num_contracts))"
   ]
  },
  {
   "cell_type": "markdown",
   "metadata": {},
   "source": [
    "<img src=\"images/1_1_and_2_2_problem_5c_solution.png\" alt=\"1_1_and_2_2_problem_5c_solution.png\" style=\"float:left;\">  "
   ]
  },
  {
   "cell_type": "markdown",
   "metadata": {},
   "source": [
    "### Comment on interesting features."
   ]
  },
  {
   "cell_type": "code",
   "execution_count": 21,
   "metadata": {
    "ExecuteTime": {
     "end_time": "2020-09-21T23:07:08.666093Z",
     "start_time": "2020-09-21T23:07:08.663091Z"
    }
   },
   "outputs": [
    {
     "name": "stdout",
     "output_type": "stream",
     "text": [
      "Comment on interesting features.\n",
      "\n",
      "The distribution of number of bidders is \n",
      "positively\n",
      " \n",
      "Correct: Your answer is correct.\n",
      " skewed, ranging from a low of 2\n",
      " \n",
      "Correct: Your answer is correct.\n",
      " bidders to a high of 11\n",
      " \n",
      "Correct: Your answer is correct.\n",
      " bidders, with a typical value of around 4-5 bidders.\n"
     ]
    }
   ],
   "source": [
    "print(\"Comment on interesting features.\")\n",
    "print(\"\"\"\n",
    "The distribution of number of bidders is \n",
    "positively\n",
    " \n",
    "Correct: Your answer is correct.\n",
    " skewed, ranging from a low of 2\n",
    " \n",
    "Correct: Your answer is correct.\n",
    " bidders to a high of 11\n",
    " \n",
    "Correct: Your answer is correct.\n",
    " bidders, with a typical value of around 4-5 bidders.\"\"\"\n",
    "      )"
   ]
  },
  {
   "cell_type": "markdown",
   "metadata": {},
   "source": [
    "<img src=\"images/1_1_and_2_2_problem_5c_comment_solution.png\" alt=\"1_1_and_2_2_problem_5c_comment_solution.png\" style=\"float:left;\">  "
   ]
  }
 ],
 "metadata": {
  "kernelspec": {
   "display_name": "Python 3.8.5 64-bit Anaconda (Only works with Anaconda's Jupyter)",
   "language": "python",
   "name": "python3"
  },
  "language_info": {
   "codemirror_mode": {
    "name": "ipython",
    "version": 3
   },
   "file_extension": ".py",
   "mimetype": "text/x-python",
   "name": "python",
   "nbconvert_exporter": "python",
   "pygments_lexer": "ipython3",
   "version": "3.8.5"
  },
  "varInspector": {
   "cols": {
    "lenName": 16,
    "lenType": 16,
    "lenVar": 40
   },
   "kernels_config": {
    "python": {
     "delete_cmd_postfix": "",
     "delete_cmd_prefix": "del ",
     "library": "var_list.py",
     "varRefreshCmd": "print(var_dic_list())"
    },
    "r": {
     "delete_cmd_postfix": ") ",
     "delete_cmd_prefix": "rm(",
     "library": "var_list.r",
     "varRefreshCmd": "cat(var_dic_list()) "
    }
   },
   "types_to_exclude": [
    "module",
    "function",
    "builtin_function_or_method",
    "instance",
    "_Feature"
   ],
   "window_display": false
  }
 },
 "nbformat": 4,
 "nbformat_minor": 4
}

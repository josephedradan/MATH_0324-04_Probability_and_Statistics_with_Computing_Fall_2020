{
 "cells": [
  {
   "cell_type": "code",
   "execution_count": 1,
   "metadata": {
    "ExecuteTime": {
     "end_time": "2021-01-28T05:07:38.321007Z",
     "start_time": "2021-01-28T05:07:37.083244Z"
    }
   },
   "outputs": [
    {
     "name": "stderr",
     "output_type": "stream",
     "text": [
      "C:\\Users\\Joseph\\anaconda3\\lib\\site-packages\\rpy2\\robjects\\packages.py:365: UserWarning: The symbol 'quartz' is not in this R namespace/package.\n",
      "  warnings.warn(\n"
     ]
    }
   ],
   "source": [
    "\"\"\"\n",
    "More on rpy2 options\n",
    "https://ipython.org/ipython-doc/2/config/extensions/rmagic.html\n",
    "\"\"\"\n",
    "import rpy2\n",
    "%load_ext rpy2.ipython"
   ]
  },
  {
   "cell_type": "markdown",
   "metadata": {},
   "source": [
    "# 1. DEVORESTAT9 5.E.037.\n",
    "A particular brand of dishwasher soap is sold in three sizes: 30 oz, 40 oz, and 70 oz. Twenty percent of all purchasers select a 30-oz box, 50% select a 40-oz box, and the remaining 30% choose a 70-oz box. Let X1 and X2 denote the package sizes selected by two independently selected purchasers.\n"
   ]
  },
  {
   "cell_type": "markdown",
   "metadata": {},
   "source": [
    "### (a) Determine the sampling distribution of X."
   ]
  },
  {
   "cell_type": "code",
   "execution_count": 2,
   "metadata": {
    "ExecuteTime": {
     "end_time": "2021-01-28T05:07:38.324913Z",
     "start_time": "2021-01-28T05:07:38.321985Z"
    }
   },
   "outputs": [
    {
     "name": "stdout",
     "output_type": "stream",
     "text": [
      "Dict given\n",
      "30 0.2\n",
      "40 0.5\n",
      "70 0.3\n"
     ]
    }
   ],
   "source": [
    "p1_dict = {30: .2,\n",
    "           40: .5,\n",
    "           70: .3}\n",
    "\n",
    "print(\"Dict given\")\n",
    "for x, y in p1_dict.items():\n",
    "    print(x, y)"
   ]
  },
  {
   "cell_type": "code",
   "execution_count": 3,
   "metadata": {
    "ExecuteTime": {
     "end_time": "2021-01-28T05:07:38.332726Z",
     "start_time": "2021-01-28T05:07:38.325890Z"
    }
   },
   "outputs": [],
   "source": [
    "import itertools\n",
    "import numpy as np\n",
    "import functools\n",
    "import pandas as pd\n",
    "\n",
    "from typing import Tuple\n",
    "\n",
    "np.set_printoptions(suppress=True)\n",
    "\n",
    "\n",
    "COLUMN_NAMES_GIVEN = [\n",
    "    \"Pair\", \"P(Pair)\", \"X bar (Sample Mean)\", \"S^2 (Variance)\"]\n",
    "\n",
    "\n",
    "def create_tables_pd_df_and_np_array(dict_given, combination_size, column_names_given=COLUMN_NAMES_GIVEN) -> Tuple[np.array, pd.DataFrame]:\n",
    "\n",
    "    # Dict that has the Mean as the key and easy multiplication of the probabilities as the Value\n",
    "    dict_temp = {}\n",
    "\n",
    "    # Current row\n",
    "    list_row = []\n",
    "\n",
    "    # You don't want combination because you can't repeat (meaning you can't have yourself) and you won't get double the same key (Example: X, X and X, X)\n",
    "#     list_pair_keys = list(itertools.combinations(p1_dict, combination_size))\n",
    "\n",
    "    # You don't want combinations_with_replacement because you won't get double the same key (Example: X, X and X, X)\n",
    "#     list_pair_keys = list(itertools.combinations_with_replacement(p1_dict, combination_size))\n",
    "\n",
    "    # You want the carteisan product so you can get the same key twice and same pair (not inorder) twice excluding its self twice\n",
    "    list_pair_keys = list(itertools.product(p1_dict, repeat=combination_size))\n",
    "\n",
    "    for pair_keys in list_pair_keys:\n",
    "\n",
    "        row_temp = []  # Current row\n",
    "\n",
    "        pair_value = []  # Pair of probabilities based on the given dictionary\n",
    "\n",
    "        key_mean = np.mean(pair_keys)  # Mean of the pair of keys\n",
    "\n",
    "        for key in pair_keys:\n",
    "            pair_value.append(dict_given[key])\n",
    "\n",
    "        # Means are unique so they can be a key\n",
    "        dict_temp[key_mean] = functools.reduce(lambda x, y: x*y, pair_value)\n",
    "\n",
    "        sd = np.sum(\n",
    "            [(key_current - key_mean)**2 for key_current in pair_keys]) / (len(pair_keys) - 1)\n",
    "\n",
    "        row_temp.append(pair_keys)\n",
    "        row_temp.append(dict_temp[key_mean])\n",
    "        row_temp.append(key_mean)\n",
    "        row_temp.append(sd)\n",
    "\n",
    "        list_row.append(row_temp)\n",
    "\n",
    "    # Numpy array\n",
    "    np_array_temp = np.array(list_row, dtype=object)\n",
    "\n",
    "    # Pandas Dataframe\n",
    "    pd_df_temp = pd.DataFrame(np_array_temp, columns=column_names_given)\n",
    "\n",
    "    return pd_df_temp, np_array_temp\n",
    "\n",
    "\n",
    "# column_index=2 is the mean part of the table\n",
    "def sum_table_based_on_column(table, column_index=2):\n",
    "\n",
    "    pd_df_temp = table[0]  # The pd df\n",
    "\n",
    "    np_array_temp = table[1]  # The np array\n",
    "\n",
    "    dict_temp = {}  # Dict where the Mean is the Key and it's corresponding row is the Value\n",
    "\n",
    "    for row in np_array_temp:\n",
    "\n",
    "        # Remember that mean is unique\n",
    "        mean_value = row[2]\n",
    "\n",
    "        if dict_temp.get(mean_value) is None:\n",
    "            dict_temp[mean_value] = row\n",
    "            continue\n",
    "\n",
    "        dict_temp[mean_value][1] += row[1]\n",
    "\n",
    "    # You need to make a list because np.fromiter does not work with dtype=object apparently...\n",
    "    list_temp = [value for key, value in dict_temp.items()]\n",
    "\n",
    "    np_array_temp_new = np.array(list_temp, dtype=object)\n",
    "\n",
    "    pd_df_temp_new = pd.DataFrame(\n",
    "        np_array_temp_new, columns=pd_df_temp.columns)\n",
    "\n",
    "    return pd_df_temp_new, np_array_temp_new"
   ]
  },
  {
   "cell_type": "code",
   "execution_count": 4,
   "metadata": {
    "ExecuteTime": {
     "end_time": "2021-01-28T05:07:38.350303Z",
     "start_time": "2021-01-28T05:07:38.332726Z"
    }
   },
   "outputs": [
    {
     "name": "stdout",
     "output_type": "stream",
     "text": [
      "Dict given (Size, Percent of purchasers)\n",
      "30, 0.2\n",
      "40, 0.5\n",
      "70, 0.3\n",
      "\n",
      "\n",
      "Pandas DF of dict given (package sizes selected by two independently selected purchasers)\n",
      "\n",
      "       Pair P(Pair) X bar (Sample Mean) S^2 (Variance)\n",
      "0  (30, 30)    0.04                  30              0\n",
      "1  (30, 40)     0.1                  35             50\n",
      "2  (30, 70)    0.06                  50            800\n",
      "3  (40, 30)     0.1                  35             50\n",
      "4  (40, 40)    0.25                  40              0\n",
      "5  (40, 70)    0.15                  55            450\n",
      "6  (70, 30)    0.06                  50            800\n",
      "7  (70, 40)    0.15                  55            450\n",
      "8  (70, 70)    0.09                  70              0\n",
      "\n",
      "\n",
      "Pandas DF of dict given but simplified by adding the row's index 1 based on the row's index 2 \n",
      "(package sizes selected by two independently selected purchasers)\n",
      "\n",
      "       Pair P(Pair) X bar (Sample Mean) S^2 (Variance)\n",
      "0  (30, 30)    0.04                  30              0\n",
      "1  (30, 40)     0.2                  35             50\n",
      "2  (30, 70)    0.12                  50            800\n",
      "3  (40, 40)    0.25                  40              0\n",
      "4  (40, 70)     0.3                  55            450\n",
      "5  (70, 70)    0.09                  70              0\n",
      "\n",
      "\n"
     ]
    }
   ],
   "source": [
    "print(\"Dict given (Size, Percent of purchasers)\")\n",
    "for x, y in p1_dict.items():\n",
    "    print(f\"{x}, {y}\")\n",
    "print()\n",
    "print()\n",
    "\n",
    "p1a_tables = create_tables_pd_df_and_np_array(p1_dict, 2)\n",
    "\n",
    "p1a_pd_df = p1a_tables[0]\n",
    "p1a_np_array = p1a_tables[1]\n",
    "\n",
    "print(\"Pandas DF of dict given (package sizes selected by two independently selected purchasers)\")\n",
    "print()\n",
    "print(p1a_pd_df)\n",
    "print()\n",
    "# print(p1a_np_array)\n",
    "print()\n",
    "\n",
    "p1a_tables_simplified = sum_table_based_on_column(p1a_tables)\n",
    "\n",
    "p1a_pd_df_simplified = p1a_tables_simplified[0]\n",
    "p1a_np_array_simplified = p1a_tables_simplified[1]\n",
    "\n",
    "print(\"Pandas DF of dict given but simplified by adding the row's index 1 based on the row's index 2 \\n(package sizes selected by two independently selected purchasers)\")\n",
    "print()\n",
    "print(p1a_pd_df_simplified)\n",
    "print()\n",
    "# print(p1a_np_array_simplified)\n",
    "print()"
   ]
  },
  {
   "cell_type": "markdown",
   "metadata": {},
   "source": [
    "#### Calculate E(X) in oz\n",
    "E(X) ="
   ]
  },
  {
   "cell_type": "code",
   "execution_count": 5,
   "metadata": {
    "ExecuteTime": {
     "end_time": "2021-01-28T05:07:38.355185Z",
     "start_time": "2021-01-28T05:07:38.350303Z"
    },
    "scrolled": false
   },
   "outputs": [
    {
     "name": "stdout",
     "output_type": "stream",
     "text": [
      "[[ 1.2]\n",
      " [ 7. ]\n",
      " [ 6. ]\n",
      " [10. ]\n",
      " [16.5]\n",
      " [ 6.3]]\n",
      "\n",
      "E(X) = 47.0 oz\n"
     ]
    }
   ],
   "source": [
    "# Expected value is Summation of probability AKA P(pair) * X bar\n",
    "p1a_np_array = np.array([row[1] * row[2]\n",
    "                         for column_names, row in p1a_pd_df_simplified.iterrows()])\n",
    "print(np.vstack(p1a_np_array))\n",
    "print()\n",
    "\n",
    "p1a_expected_value = np.sum(p1a_np_array)\n",
    "\n",
    "print(f\"E(X) = {p1a_expected_value} oz\")"
   ]
  },
  {
   "cell_type": "markdown",
   "metadata": {},
   "source": [
    "#### Compare E(X) to μ. (Sample mean to Population mean)\n",
    "<img src=\"images/5_3_and_5_4_problem_1a_solution.png\" alt=\"5_3_and_5_4_problem_1a_solution.png\" style=\"float:left;\">"
   ]
  },
  {
   "cell_type": "markdown",
   "metadata": {},
   "source": [
    "### (b) Determine the sampling distribution of the sample variance S2.\n",
    "E(S^2) ="
   ]
  },
  {
   "cell_type": "code",
   "execution_count": 6,
   "metadata": {
    "ExecuteTime": {
     "end_time": "2021-01-28T05:07:38.362022Z",
     "start_time": "2021-01-28T05:07:38.356163Z"
    }
   },
   "outputs": [
    {
     "name": "stdout",
     "output_type": "stream",
     "text": [
      "Recall\n",
      "Pandas DF of dict given but simplified by adding the row's index 1 based on the row's inedx 2 \n",
      "(package sizes selected by two independently selected purchasers)\n",
      "\n",
      "       Pair P(Pair) X bar (Sample Mean) S^2 (Variance)\n",
      "0  (30, 30)    0.04                  30              0\n",
      "1  (30, 40)     0.2                  35             50\n",
      "2  (30, 70)    0.12                  50            800\n",
      "3  (40, 40)    0.25                  40              0\n",
      "4  (40, 70)     0.3                  55            450\n",
      "5  (70, 70)    0.09                  70              0\n",
      "\n"
     ]
    }
   ],
   "source": [
    "print(\"Recall\")\n",
    "print(\"Pandas DF of dict given but simplified by adding the row's index 1 based on the row's inedx 2 \\n(package sizes selected by two independently selected purchasers)\")\n",
    "print()\n",
    "print(p1a_pd_df_simplified)\n",
    "print()"
   ]
  },
  {
   "cell_type": "code",
   "execution_count": 7,
   "metadata": {
    "ExecuteTime": {
     "end_time": "2021-01-28T05:07:38.367880Z",
     "start_time": "2021-01-28T05:07:38.362999Z"
    }
   },
   "outputs": [
    {
     "name": "stdout",
     "output_type": "stream",
     "text": [
      "[[  0.]\n",
      " [ 10.]\n",
      " [ 96.]\n",
      " [  0.]\n",
      " [135.]\n",
      " [  0.]]\n",
      "\n",
      "E(S^2) = 241.0\n"
     ]
    }
   ],
   "source": [
    "# Expected value is Summation of probability AKA P(pair) * S^2\n",
    "p1b_np_array = np.array([row[1] * row[3]\n",
    "                         for column_names, row in p1a_pd_df_simplified.iterrows()])\n",
    "print(np.vstack(p1b_np_array))\n",
    "print()\n",
    "\n",
    "p1b_expected_value = np.sum(p1b_np_array)\n",
    "\n",
    "print(f\"E(S^2) = {p1b_expected_value}\")"
   ]
  },
  {
   "cell_type": "markdown",
   "metadata": {},
   "source": [
    "#### Compare E(S^2) to σ^2. (Sample variance to Population variance)\n",
    "<img src=\"images/5_3_and_5_4_problem_1b_solution.png\" alt=\"5_3_and_5_4_problem_1b_solution.png\" style=\"float:left;\">"
   ]
  },
  {
   "cell_type": "markdown",
   "metadata": {},
   "source": [
    "# Know before Problem 2\n",
    "<img src=\"images/5_3_and_5_4_sample_mean_and_sample_total.png\" alt=\"5_3_and_5_4_sample_mean_and_sample_total.png\" style=\"float:left;\">"
   ]
  },
  {
   "cell_type": "markdown",
   "metadata": {
    "ExecuteTime": {
     "end_time": "2020-10-21T03:44:44.660634Z",
     "start_time": "2020-10-21T03:44:44.644621Z"
    }
   },
   "source": [
    "# 2. DEVORESTAT9 5.E.046.\n",
    "\n",
    "Young's modulus is a quantitative measure of stiffness of an elastic material. Suppose that for aluminum alloy sheets of a particular type, its mean value and standard deviation are 70 GPa and 1.6 GPa, respectively (values given in the article \"Influence of Material Properties Variability on Springback and Thinning in Sheet Stamping Processes: A Stochastic Analysis\" (Intl. J. of Advanced Manuf. Tech., 2010: 117–134)).\n"
   ]
  },
  {
   "cell_type": "code",
   "execution_count": 8,
   "metadata": {
    "ExecuteTime": {
     "end_time": "2021-01-28T05:07:38.371786Z",
     "start_time": "2021-01-28T05:07:38.368857Z"
    }
   },
   "outputs": [],
   "source": [
    "p2_mean = 70  # GPa\n",
    "p2_SD = 1.6  # GPa"
   ]
  },
  {
   "cell_type": "markdown",
   "metadata": {},
   "source": [
    "### (a) If X is the sample mean Young's modulus for a random sample of n = 64 sheets, where is the sampling distribution of X centered, and what is the standard deviation of the X distribution?"
   ]
  },
  {
   "cell_type": "code",
   "execution_count": 9,
   "metadata": {
    "ExecuteTime": {
     "end_time": "2021-01-28T05:07:38.375694Z",
     "start_time": "2021-01-28T05:07:38.371786Z"
    }
   },
   "outputs": [],
   "source": [
    "p2a_n = 64"
   ]
  },
  {
   "cell_type": "markdown",
   "metadata": {
    "ExecuteTime": {
     "end_time": "2020-10-22T08:11:41.533389Z",
     "start_time": "2020-10-22T08:11:41.527383Z"
    }
   },
   "source": [
    "#### E(X bar) ="
   ]
  },
  {
   "cell_type": "code",
   "execution_count": 10,
   "metadata": {
    "ExecuteTime": {
     "end_time": "2021-01-28T05:07:38.380575Z",
     "start_time": "2021-01-28T05:07:38.375694Z"
    },
    "scrolled": true
   },
   "outputs": [
    {
     "name": "stdout",
     "output_type": "stream",
     "text": [
      "E(X bar) = 70\n"
     ]
    }
   ],
   "source": [
    "p2a_sample_expected_value = p2_mean\n",
    "print(f\"E(X bar) = {p2a_sample_expected_value}\")"
   ]
  },
  {
   "cell_type": "markdown",
   "metadata": {},
   "source": [
    "#### σ_(X bar)="
   ]
  },
  {
   "cell_type": "code",
   "execution_count": 11,
   "metadata": {
    "ExecuteTime": {
     "end_time": "2021-01-28T05:07:38.385459Z",
     "start_time": "2021-01-28T05:07:38.380575Z"
    },
    "scrolled": true
   },
   "outputs": [
    {
     "name": "stdout",
     "output_type": "stream",
     "text": [
      "σ_(X bar) = 0.2\n"
     ]
    }
   ],
   "source": [
    "p2a_sample_SD = p2_SD / p2a_n**(1/2)\n",
    "print(f\"σ_(X bar) = {p2a_sample_SD}\")"
   ]
  },
  {
   "cell_type": "markdown",
   "metadata": {},
   "source": [
    "### (b) Answer the questions posed in part (a) for a sample size of n = 256 sheets."
   ]
  },
  {
   "cell_type": "code",
   "execution_count": 12,
   "metadata": {
    "ExecuteTime": {
     "end_time": "2021-01-28T05:07:38.389365Z",
     "start_time": "2021-01-28T05:07:38.385459Z"
    }
   },
   "outputs": [],
   "source": [
    "p2b_n = 256"
   ]
  },
  {
   "cell_type": "markdown",
   "metadata": {},
   "source": [
    "#### E(X bar) ="
   ]
  },
  {
   "cell_type": "code",
   "execution_count": 13,
   "metadata": {
    "ExecuteTime": {
     "end_time": "2021-01-28T05:07:38.394248Z",
     "start_time": "2021-01-28T05:07:38.389365Z"
    }
   },
   "outputs": [
    {
     "name": "stdout",
     "output_type": "stream",
     "text": [
      "E(X bar) = 70\n"
     ]
    }
   ],
   "source": [
    "p2b_sample_expected_value = p2_mean\n",
    "print(f\"E(X bar) = {p2b_sample_expected_value}\")"
   ]
  },
  {
   "cell_type": "markdown",
   "metadata": {
    "ExecuteTime": {
     "end_time": "2020-10-22T08:12:31.553864Z",
     "start_time": "2020-10-22T08:12:31.547858Z"
    }
   },
   "source": [
    "#### σ_(X bar)="
   ]
  },
  {
   "cell_type": "code",
   "execution_count": 14,
   "metadata": {
    "ExecuteTime": {
     "end_time": "2021-01-28T05:07:38.399131Z",
     "start_time": "2021-01-28T05:07:38.395224Z"
    },
    "scrolled": true
   },
   "outputs": [
    {
     "name": "stdout",
     "output_type": "stream",
     "text": [
      "σ_(X bar) = 0.1\n"
     ]
    }
   ],
   "source": [
    "p2b_sample_SD = p2_SD / p2b_n**(1/2)\n",
    "print(f\"σ_(X bar) = {p2b_sample_SD}\")"
   ]
  },
  {
   "cell_type": "markdown",
   "metadata": {},
   "source": [
    "### (c) For which of the two random samples, the one of part (a) or the one of part (b), is X more likely to be within 1 GPa of 70 GPa? Explain your reasoning.\n",
    "<img src=\"images/5_3_and_5_4_problem_2c_solution.png\" alt=\"5_3_and_5_4_problem_2c_solution.png\" style=\"float:left;\">"
   ]
  },
  {
   "cell_type": "markdown",
   "metadata": {},
   "source": [
    "# Know before Problem 3\n",
    "<img src=\"images/5_3_and_5_4_sample_mean_and_sample_total.png\" alt=\"5_3_and_5_4_sample_mean_and_sample_total.png\" style=\"float:left;\">"
   ]
  },
  {
   "cell_type": "markdown",
   "metadata": {},
   "source": [
    "# 3. DEVORESTAT9 5.E.049.S.\n",
    "There are 43 students in an elementary statistics class. On the basis of years of experience, the instructor knows that the time needed to grade a randomly chosen first examination paper is a random variable with an expected value of 5 min and a standard deviation of 4 min. (Round your answers to four decimal places.)\n"
   ]
  },
  {
   "cell_type": "code",
   "execution_count": 15,
   "metadata": {
    "ExecuteTime": {
     "end_time": "2021-01-28T05:07:38.404013Z",
     "start_time": "2021-01-28T05:07:38.400106Z"
    }
   },
   "outputs": [
    {
     "name": "stdout",
     "output_type": "stream",
     "text": [
      "Time approximately will be done\n",
      "215\n"
     ]
    }
   ],
   "source": [
    "p3_students = 43\n",
    "p3_EV = 5\n",
    "p3_SD = 4\n",
    "\n",
    "print(\"Time approximately will be done\")\n",
    "print(p3_students*p3_EV)"
   ]
  },
  {
   "cell_type": "markdown",
   "metadata": {
    "ExecuteTime": {
     "end_time": "2020-10-21T04:46:24.925353Z",
     "start_time": "2020-10-21T04:46:24.921350Z"
    }
   },
   "source": [
    "### (a) If grading times are independent and the instructor begins grading at 6:50 P.M. and grades continuously, what is the (approximate) probability that he is through grading before the 11:00 P.M. TV news begins?\n"
   ]
  },
  {
   "cell_type": "code",
   "execution_count": 16,
   "metadata": {
    "ExecuteTime": {
     "end_time": "2021-01-28T05:07:38.409872Z",
     "start_time": "2021-01-28T05:07:38.404989Z"
    }
   },
   "outputs": [
    {
     "name": "stdout",
     "output_type": "stream",
     "text": [
      "Time difference (in minutes) between 6:50 and 11:00 is\n",
      "250\n",
      "\n",
      "Sample mean\n",
      "5.813953488372093\n",
      "\n",
      "Sample SD\n",
      "0.6099942813304187\n",
      "\n"
     ]
    }
   ],
   "source": [
    "def time_string_to_time_minutes(string_given):\n",
    "    list_temp = string_given.split(\":\")\n",
    "\n",
    "    hour_to_min = int(list_temp[0]) * 60\n",
    "    min = int(list_temp[1])\n",
    "\n",
    "    total_time = hour_to_min + min\n",
    "    return total_time\n",
    "\n",
    "\n",
    "p3a_time_start_string = \"6:50\"\n",
    "p3a_time_start = time_string_to_time_minutes(p3a_time_start_string)\n",
    "\n",
    "p3a_time_end_string = \"11:00\"\n",
    "p3a_time_end = time_string_to_time_minutes(p3a_time_end_string)\n",
    "\n",
    "print(\n",
    "    f\"Time difference (in minutes) between {p3a_time_start_string} and {p3a_time_end_string} is\")\n",
    "p3a_delta_time = p3a_time_end - p3a_time_start\n",
    "print(p3a_delta_time)\n",
    "print()\n",
    "\n",
    "# sample mean = 250 / 43\n",
    "p3a_sample_mean = p3a_delta_time / p3_students\n",
    "print(\"Sample mean\")\n",
    "print(p3a_sample_mean)\n",
    "print()\n",
    "\n",
    "# sample SD = population SD / sqrt(n) = 4 / sqrt(43)\n",
    "p3a_sample_SD = (p3_SD / (p3_students**(1/2)))\n",
    "print(\"Sample SD\")\n",
    "print(p3a_sample_SD)\n",
    "print()"
   ]
  },
  {
   "cell_type": "code",
   "execution_count": 17,
   "metadata": {
    "ExecuteTime": {
     "end_time": "2021-01-28T05:07:38.434285Z",
     "start_time": "2021-01-28T05:07:38.409872Z"
    }
   },
   "outputs": [
    {
     "name": "stdout",
     "output_type": "stream",
     "text": [
      "[1] 0.9089575\n",
      "[1] 0.9089575\n",
      "[1] 0.9089575\n",
      "[1] 0.9089575\n"
     ]
    }
   ],
   "source": [
    "%%R -i p3a_sample_mean -i p3_EV -i p3a_sample_SD\n",
    "\n",
    "# Recall that pnorm finds cumulative distribution function of the PDF\n",
    "\n",
    "# V1 (numbers)\n",
    "print(pnorm(5.813953488372093, 5, 0.6099942813304187))\n",
    "\n",
    "# V2 (passed variables)\n",
    "print(pnorm(p3a_sample_mean, p3_EV, p3a_sample_SD))\n",
    "\n",
    "# V3 (1 Parameter)\n",
    "print(pnorm((p3a_sample_mean - p3_EV) / p3a_sample_SD))\n",
    "\n",
    "# Alternative form\n",
    "print(pnorm((250 - 43 * 5) / sqrt(43 * 4 ^ 2)))"
   ]
  },
  {
   "cell_type": "markdown",
   "metadata": {},
   "source": [
    "### (b) If the sports report begins at 11:10, what is the probability that he misses part of the report if he waits until grading is done before turning on the TV?\n"
   ]
  },
  {
   "cell_type": "code",
   "execution_count": 18,
   "metadata": {
    "ExecuteTime": {
     "end_time": "2021-01-28T05:07:38.439167Z",
     "start_time": "2021-01-28T05:07:38.435263Z"
    }
   },
   "outputs": [
    {
     "name": "stdout",
     "output_type": "stream",
     "text": [
      "Time difference (in minutes) between 6:50 and 11:10 is\n",
      "260\n",
      "\n",
      "Sample mean\n",
      "6.046511627906977\n",
      "\n",
      "Sample SD (Same as above)\n",
      "0.6099942813304187\n",
      "\n"
     ]
    }
   ],
   "source": [
    "p3b_time_end_string = \"11:10\"\n",
    "p3b_time_end = time_string_to_time_minutes(p3b_time_end_string)\n",
    "\n",
    "print(\n",
    "    f\"Time difference (in minutes) between {p3a_time_start_string} and {p3b_time_end_string} is\")\n",
    "p3b_delta_time = p3b_time_end - p3a_time_start\n",
    "print(p3b_delta_time)\n",
    "print()\n",
    "\n",
    "# sample mean = 260 / 43\n",
    "p3b_sample_mean = p3b_delta_time / p3_students\n",
    "print(\"Sample mean\")\n",
    "print(p3b_sample_mean)\n",
    "print()\n",
    "\n",
    "# sample SD = population SD / sqrt(n) = 4 / sqrt(43)\n",
    "p3b_sample_SD = (p3_SD / (p3_students**(1/2)))\n",
    "print(\"Sample SD (Same as above)\")\n",
    "print(p3a_sample_SD)\n",
    "print()"
   ]
  },
  {
   "cell_type": "code",
   "execution_count": 19,
   "metadata": {
    "ExecuteTime": {
     "end_time": "2021-01-28T05:07:38.455769Z",
     "start_time": "2021-01-28T05:07:38.439167Z"
    }
   },
   "outputs": [
    {
     "name": "stdout",
     "output_type": "stream",
     "text": [
      "[1] 0.04311682\n",
      "[1] 0.04311682\n",
      "[1] 0.04311682\n",
      "[1] 0.04311682\n"
     ]
    }
   ],
   "source": [
    "%%R -i p3b_sample_mean -i p3_EV -i p3b_sample_SD\n",
    "\n",
    "# The Key word is \"missing\" which means the right tail\n",
    "\n",
    "# V1 (numbers)\n",
    "print(1 - pnorm(6.046511627906977, 5, 0.6099942813304187))\n",
    "\n",
    "# V2 (passed variables)\n",
    "print(1 - pnorm(p3b_sample_mean, p3_EV, p3b_sample_SD))\n",
    "\n",
    "# V3 (1 Parameter)\n",
    "print(1 - pnorm((p3b_sample_mean - p3_EV) / p3b_sample_SD))\n",
    "\n",
    "# Alternative form\n",
    "print(1 - pnorm((260 - 43 * 5) / sqrt(43 * 4 ^ 2)))"
   ]
  },
  {
   "cell_type": "markdown",
   "metadata": {},
   "source": [
    "# Know before Problem 4\n",
    "<img src=\"images/5_3_and_5_4_sample_mean_and_sample_total.png\" alt=\"5_3_and_5_4_sample_mean_and_sample_total.png\" style=\"float:left;\">"
   ]
  },
  {
   "cell_type": "markdown",
   "metadata": {},
   "source": [
    "# 4. DEVORESTAT9 5.E.047.S.\n",
    "Young's modulus is a quantitative measure of stiffness of an elastic material. Suppose that for metal sheets of a particular type, its mean value and standard deviation are 70 GPa and 2.2 GPa, respectively. Suppose the distribution is normal. (Round your answers to four decimal places.)\n"
   ]
  },
  {
   "cell_type": "code",
   "execution_count": 20,
   "metadata": {
    "ExecuteTime": {
     "end_time": "2021-01-28T05:07:38.458698Z",
     "start_time": "2021-01-28T05:07:38.455769Z"
    }
   },
   "outputs": [],
   "source": [
    "p4_population_mean = 70  # GPa\n",
    "p4_population_sd = 2.2  # GPa"
   ]
  },
  {
   "cell_type": "markdown",
   "metadata": {},
   "source": [
    "### (a) Calculate P(69 ≤ X ≤ 71) when n = 9."
   ]
  },
  {
   "cell_type": "code",
   "execution_count": 21,
   "metadata": {
    "ExecuteTime": {
     "end_time": "2021-01-28T05:07:38.463581Z",
     "start_time": "2021-01-28T05:07:38.458698Z"
    }
   },
   "outputs": [],
   "source": [
    "p4a_lower_bound = 69\n",
    "p4a_upper_bound = 71\n",
    "p4a_n = 9"
   ]
  },
  {
   "cell_type": "code",
   "execution_count": 22,
   "metadata": {
    "ExecuteTime": {
     "end_time": "2021-01-28T05:07:38.468463Z",
     "start_time": "2021-01-28T05:07:38.465535Z"
    }
   },
   "outputs": [
    {
     "name": "stdout",
     "output_type": "stream",
     "text": [
      "0.7333333333333334\n"
     ]
    }
   ],
   "source": [
    "# Sample_sd = 2.2 / (9)**(1/2)\n",
    "p4a_sample_sd = p4_population_sd / (p4a_n)**(1/2)\n",
    "print(p4a_sample_sd)"
   ]
  },
  {
   "cell_type": "code",
   "execution_count": 23,
   "metadata": {
    "ExecuteTime": {
     "end_time": "2021-01-28T05:07:38.484088Z",
     "start_time": "2021-01-28T05:07:38.469441Z"
    },
    "scrolled": true
   },
   "outputs": [
    {
     "name": "stdout",
     "output_type": "stream",
     "text": [
      "[1] 0.827318\n",
      "[1] 0.827318\n"
     ]
    }
   ],
   "source": [
    "%%R -i  p4a_sample_sd -i p4a_lower_bound -i p4a_upper_bound -i p4_population_mean\n",
    "\n",
    "# V1 (Upper bound - Lower bound)\n",
    "print(pnorm(71, 70, 0.7333333333333334) - pnorm(69, 70, 0.7333333333333334))\n",
    "\n",
    "# V2 (Upper bound - Lower bound)\n",
    "print(pnorm(p4a_upper_bound, p4_population_mean, p4a_sample_sd) -\n",
    "      pnorm(p4a_lower_bound, p4_population_mean, p4a_sample_sd))"
   ]
  },
  {
   "cell_type": "markdown",
   "metadata": {},
   "source": [
    "### (b) How likely is it that the sample mean diameter exceeds 71 when n = 25?"
   ]
  },
  {
   "cell_type": "code",
   "execution_count": 24,
   "metadata": {
    "ExecuteTime": {
     "end_time": "2021-01-28T05:07:38.487019Z",
     "start_time": "2021-01-28T05:07:38.485066Z"
    }
   },
   "outputs": [],
   "source": [
    "p4b_n = 25\n",
    "p4b_upper_bound = 71"
   ]
  },
  {
   "cell_type": "code",
   "execution_count": 25,
   "metadata": {
    "ExecuteTime": {
     "end_time": "2021-01-28T05:07:38.491900Z",
     "start_time": "2021-01-28T05:07:38.487019Z"
    }
   },
   "outputs": [
    {
     "name": "stdout",
     "output_type": "stream",
     "text": [
      "Sample SD\n",
      "0.44000000000000006\n"
     ]
    }
   ],
   "source": [
    "# Sample_sd = 2.2 / (25)**(1/2)\n",
    "p4b_sample_sd = p4_population_sd / (p4b_n)**(1/2)\n",
    "\n",
    "print(\"Sample SD\")\n",
    "print(p4b_sample_sd)"
   ]
  },
  {
   "cell_type": "code",
   "execution_count": 26,
   "metadata": {
    "ExecuteTime": {
     "end_time": "2021-01-28T05:07:38.506548Z",
     "start_time": "2021-01-28T05:07:38.491900Z"
    }
   },
   "outputs": [
    {
     "name": "stdout",
     "output_type": "stream",
     "text": [
      "[1] 0.01152131\n",
      "[1] 0.01152131\n"
     ]
    }
   ],
   "source": [
    "%%R -i  p4b_sample_sd -i p4a_upper_bound -i p4_population_mean\n",
    "\n",
    "# V1 (Upper bound - Lower bound)\n",
    "print(1 - pnorm(71, 70, 0.44000000000000006))\n",
    "\n",
    "# V2 (Upper bound - Lower bound)\n",
    "print(1 - pnorm(p4a_upper_bound, p4_population_mean, p4b_sample_sd))"
   ]
  },
  {
   "cell_type": "markdown",
   "metadata": {},
   "source": [
    "# Know before Problem 5\n",
    "<img src=\"images/5_3_and_5_4_sample_mean_and_sample_total.png\" alt=\"5_3_and_5_4_sample_mean_and_sample_total.png\" style=\"float:left;\">\n",
    "\n",
    "<a href=\"https://youtu.be/2tuBREK_mgE?t=201\"> <h3> Standardization Formula</h3> </a>\n",
    "<img src=\"images/simple_learning_pro_standardization_formula.png\" alt=\"simple_learning_pro_standardization_formula.png\" style=\"float:left;\">"
   ]
  },
  {
   "cell_type": "markdown",
   "metadata": {
    "ExecuteTime": {
     "end_time": "2020-10-21T05:33:08.116664Z",
     "start_time": "2020-10-21T05:33:08.113661Z"
    }
   },
   "source": [
    "# 5. DEVORESTAT9 5.E.047.S.\n",
    "Suppose the sediment density (g/cm) of a randomly selected specimen from a certain region is normally distributed with mean 2.61 and standard deviation 0.81.\n"
   ]
  },
  {
   "cell_type": "code",
   "execution_count": 27,
   "metadata": {
    "ExecuteTime": {
     "end_time": "2021-01-28T05:07:38.509478Z",
     "start_time": "2021-01-28T05:07:38.507526Z"
    }
   },
   "outputs": [],
   "source": [
    "p5_population_mean = 2.61\n",
    "p5_population_sd = 0.81"
   ]
  },
  {
   "cell_type": "markdown",
   "metadata": {},
   "source": [
    "### (a) If a random sample of 25 specimens is selected, what is the probability that the sample average sediment density is at most 3.00? Between 2.61 and 3.00? (Round your answers to four decimal places.) at most 3.00   "
   ]
  },
  {
   "cell_type": "code",
   "execution_count": 28,
   "metadata": {
    "ExecuteTime": {
     "end_time": "2021-01-28T05:07:38.514361Z",
     "start_time": "2021-01-28T05:07:38.509478Z"
    }
   },
   "outputs": [],
   "source": [
    "p5a_sample_size = 25\n",
    "p5a_avg_sediment_density = 3\n",
    "\n",
    "p5a_upper_bound = p5a_avg_sediment_density\n",
    "p5a_lower_bound = p5_population_mean"
   ]
  },
  {
   "cell_type": "code",
   "execution_count": 29,
   "metadata": {
    "ExecuteTime": {
     "end_time": "2021-01-28T05:07:38.519243Z",
     "start_time": "2021-01-28T05:07:38.515338Z"
    }
   },
   "outputs": [
    {
     "name": "stdout",
     "output_type": "stream",
     "text": [
      "Sample SD\n",
      "0.162\n"
     ]
    }
   ],
   "source": [
    "p5a_sample_sd = p5_population_sd / (p5a_sample_size)**(1/2)\n",
    "\n",
    "print(\"Sample SD\")\n",
    "print(p5a_sample_sd)"
   ]
  },
  {
   "cell_type": "markdown",
   "metadata": {},
   "source": [
    "#### at most 3.00 "
   ]
  },
  {
   "cell_type": "code",
   "execution_count": 30,
   "metadata": {
    "ExecuteTime": {
     "end_time": "2021-01-28T05:07:38.534868Z",
     "start_time": "2021-01-28T05:07:38.519243Z"
    }
   },
   "outputs": [
    {
     "name": "stdout",
     "output_type": "stream",
     "text": [
      "[1] 0.9919669\n",
      "[1] 0.9919669\n",
      "[1] 0.9919669\n"
     ]
    }
   ],
   "source": [
    "%%R -i p5a_avg_sediment_density -i p5_population_mean -i p5a_sample_sd\n",
    "\n",
    "# V1\n",
    "print(pnorm(3, 2.61, .81 / sqrt(25)))\n",
    "\n",
    "# V2\n",
    "print(pnorm(3, 2.61, 0.162))\n",
    "\n",
    "# V3\n",
    "print(pnorm(p5a_avg_sediment_density, p5_population_mean, p5a_sample_sd))"
   ]
  },
  {
   "cell_type": "markdown",
   "metadata": {
    "ExecuteTime": {
     "end_time": "2020-10-21T05:35:43.677499Z",
     "start_time": "2020-10-21T05:35:43.661486Z"
    }
   },
   "source": [
    "#### between 2.61 and 3.00"
   ]
  },
  {
   "cell_type": "code",
   "execution_count": 31,
   "metadata": {
    "ExecuteTime": {
     "end_time": "2021-01-28T05:07:38.549515Z",
     "start_time": "2021-01-28T05:07:38.534868Z"
    }
   },
   "outputs": [
    {
     "name": "stdout",
     "output_type": "stream",
     "text": [
      "[1] 0.4919669\n",
      "[1] 0.4919669\n",
      "[1] 0.4919669\n"
     ]
    }
   ],
   "source": [
    "%%R -i p5a_avg_sediment_density -i p5_population_mean -i p5a_sample_sd\n",
    "\n",
    "# V1\n",
    "print(pnorm(3, 2.61, .81/sqrt(25)) - pnorm(2.61, 2.61, .81/sqrt(25)))\n",
    "\n",
    "# V2\n",
    "print(pnorm(3, 2.61, 0.162) - pnorm(2.61, 2.61, 0.162))\n",
    "\n",
    "# V3\n",
    "print(pnorm(p5a_avg_sediment_density, p5_population_mean, p5a_sample_sd) -\n",
    "      pnorm(p5_population_mean, p5_population_mean, p5a_sample_sd))"
   ]
  },
  {
   "cell_type": "markdown",
   "metadata": {},
   "source": [
    "### (b) How large a sample size would be required to ensure that the first probability in part (a) is at least 0.99? (Round your answer up to the nearest whole number.)\n"
   ]
  },
  {
   "cell_type": "code",
   "execution_count": 32,
   "metadata": {
    "ExecuteTime": {
     "end_time": "2021-01-28T05:07:38.552445Z",
     "start_time": "2021-01-28T05:07:38.549515Z"
    }
   },
   "outputs": [],
   "source": [
    "p5b_probability = .99"
   ]
  },
  {
   "cell_type": "code",
   "execution_count": 33,
   "metadata": {
    "ExecuteTime": {
     "end_time": "2021-01-28T05:07:38.581742Z",
     "start_time": "2021-01-28T05:07:38.553423Z"
    }
   },
   "outputs": [
    {
     "name": "stdout",
     "output_type": "stream",
     "text": [
      "qnorm(.99) = 2.326348\n",
      "pnorm(2.326348) = 0.99"
     ]
    }
   ],
   "source": [
    "%%R -i p5b_probability\n",
    "\n",
    "# Recall this\n",
    "\n",
    "qnorm_result <- qnorm(p5b_probability)\n",
    "cat(\"qnorm(.99) =\", qnorm_result)\n",
    "cat(\"\\n\")\n",
    "\n",
    "pnorm_result <- pnorm(qnorm_result)\n",
    "cat(\"pnorm(2.326348) =\", pnorm_result)"
   ]
  },
  {
   "cell_type": "markdown",
   "metadata": {},
   "source": [
    "<p>\n",
    "You want to solve for n so you need to restructure qnorm to <br> qnorm(percentage) = qnorm((observation - sample_mean) / sample_standard_deviation) \n",
    "</p>"
   ]
  },
  {
   "cell_type": "code",
   "execution_count": 34,
   "metadata": {
    "ExecuteTime": {
     "end_time": "2021-01-28T05:07:38.596390Z",
     "start_time": "2021-01-28T05:07:38.582718Z"
    }
   },
   "outputs": [
    {
     "name": "stdout",
     "output_type": "stream",
     "text": [
      "[1] 23.3448\n",
      "[1] 23.3448\n"
     ]
    }
   ],
   "source": [
    "%%R -i p5_population_sd -i p5b_probability -i p5a_avg_sediment_density -i p5_population_mean\n",
    "\n",
    "# V1\n",
    "print(((.81 * qnorm(.99)) / (3-2.61)) ^ 2)\n",
    "\n",
    "# V2\n",
    "print(((p5_population_sd * qnorm(p5b_probability)) /\n",
    "       (p5a_avg_sediment_density-p5_population_mean)) ^ 2)"
   ]
  }
 ],
 "metadata": {
  "kernelspec": {
   "display_name": "Python 3.8.5 64-bit Anaconda (Only works with Anaconda's Jupyter)",
   "language": "python",
   "name": "python_3.8.5_64-bit_anaconda"
  },
  "language_info": {
   "codemirror_mode": {
    "name": "ipython",
    "version": 3
   },
   "file_extension": ".py",
   "mimetype": "text/x-python",
   "name": "python",
   "nbconvert_exporter": "python",
   "pygments_lexer": "ipython3",
   "version": "3.8.5"
  },
  "varInspector": {
   "cols": {
    "lenName": 16,
    "lenType": 16,
    "lenVar": 40
   },
   "kernels_config": {
    "python": {
     "delete_cmd_postfix": "",
     "delete_cmd_prefix": "del ",
     "library": "var_list.py",
     "varRefreshCmd": "print(var_dic_list())"
    },
    "r": {
     "delete_cmd_postfix": ") ",
     "delete_cmd_prefix": "rm(",
     "library": "var_list.r",
     "varRefreshCmd": "cat(var_dic_list()) "
    }
   },
   "types_to_exclude": [
    "module",
    "function",
    "builtin_function_or_method",
    "instance",
    "_Feature"
   ],
   "window_display": false
  }
 },
 "nbformat": 4,
 "nbformat_minor": 4
}

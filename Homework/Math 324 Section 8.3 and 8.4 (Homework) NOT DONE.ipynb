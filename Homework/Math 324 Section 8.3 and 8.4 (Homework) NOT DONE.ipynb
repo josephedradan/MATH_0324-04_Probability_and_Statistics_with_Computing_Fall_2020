{
 "cells": [
  {
   "cell_type": "code",
   "execution_count": 1,
   "metadata": {
    "ExecuteTime": {
     "end_time": "2020-11-21T04:32:46.354627Z",
     "start_time": "2020-11-21T04:32:46.045366Z"
    }
   },
   "outputs": [],
   "source": [
    "import numpy as np\n",
    "import pandas as pd"
   ]
  },
  {
   "cell_type": "code",
   "execution_count": 2,
   "metadata": {
    "ExecuteTime": {
     "end_time": "2020-11-21T04:32:46.815018Z",
     "start_time": "2020-11-21T04:32:46.355628Z"
    },
    "scrolled": true
   },
   "outputs": [
    {
     "name": "stderr",
     "output_type": "stream",
     "text": [
      "C:\\Users\\Joseph\\anaconda3\\lib\\site-packages\\rpy2\\robjects\\packages.py:365: UserWarning: The symbol 'quartz' is not in this R namespace/package.\n",
      "  warnings.warn(\n"
     ]
    }
   ],
   "source": [
    "\"\"\"\n",
    "More on rpy2 options\n",
    "https://ipython.org/ipython-doc/2/config/extensions/rmagic.html\n",
    "\"\"\"\n",
    "import rpy2\n",
    "%load_ext rpy2.ipython"
   ]
  },
  {
   "cell_type": "markdown",
   "metadata": {
    "ExecuteTime": {
     "end_time": "2020-11-21T03:58:53.007083Z",
     "start_time": "2020-11-21T03:58:53.000078Z"
    }
   },
   "source": [
    "# 1 . DEVORESTAT9 8.E.035.S"
   ]
  },
  {
   "cell_type": "code",
   "execution_count": null,
   "metadata": {},
   "outputs": [],
   "source": []
  },
  {
   "cell_type": "code",
   "execution_count": 6,
   "metadata": {
    "ExecuteTime": {
     "end_time": "2020-11-21T04:33:07.405964Z",
     "start_time": "2020-11-21T04:33:07.391953Z"
    }
   },
   "outputs": [
    {
     "name": "stdout",
     "output_type": "stream",
     "text": [
      "249.66666666666666\n"
     ]
    }
   ],
   "source": [
    "p1_string_data=\"\"\"\n",
    "159    120    480    149    270    547    340    43    228    202    240    218\n",
    "\"\"\"\n",
    "\n",
    "p1_string_data = p1_string_data.strip()\n",
    "p1_list_data = p1_string_data.split(\"    \")\n",
    "p1_list_data = [int(i) for i in p1_list_data]\n",
    "\n",
    "p1_mean = np.mean(p1_list_data)\n",
    "print(p1_mean)"
   ]
  },
  {
   "cell_type": "code",
   "execution_count": 9,
   "metadata": {
    "ExecuteTime": {
     "end_time": "2020-11-21T04:35:06.736652Z",
     "start_time": "2020-11-21T04:34:47.132680Z"
    }
   },
   "outputs": [
    {
     "name": "stdout",
     "output_type": "stream",
     "text": [
      "[1] 0.301565\n"
     ]
    }
   ],
   "source": [
    "%%R\n",
    "tnc <- function(n, sigma, null, actual){\n",
    "    w <-c(rnorm(n, mean=actual, sd=sigma));\n",
    "    return((mean(w)- null)/(sd(w)/sqrt(n)))\n",
    "}\n",
    "\n",
    "sim1 <- replicate(1000000, tnc(12,150,200,300))\n",
    "\n",
    "sum(sim1 <= qt(.95,12-1))/1000000"
   ]
  },
  {
   "cell_type": "markdown",
   "metadata": {},
   "source": [
    "# 2. DEVORESTAT9 8.E.036.S.\n"
   ]
  },
  {
   "cell_type": "code",
   "execution_count": 16,
   "metadata": {
    "ExecuteTime": {
     "end_time": "2020-11-21T04:53:01.675973Z",
     "start_time": "2020-11-21T04:53:01.663733Z"
    }
   },
   "outputs": [
    {
     "name": "stdout",
     "output_type": "stream",
     "text": [
      "[0.53, 0.64, 0.42, 0.5, 0.37]\n",
      "0.492\n"
     ]
    }
   ],
   "source": [
    "p2_string_data = \"\"\"0.53, 0.64, 0.42, 0.5, 0.37\"\"\"\n",
    "\n",
    "p2_list_data = p2_string_data.split(\", \")\n",
    "p2_list_data = [float(i) for i in p2_list_data]\n",
    "print(p2_list_data) \n",
    "\n",
    "p2_list_data_mean = np.mean(p2_list_data)\n",
    "print(p2_list_data_mean)"
   ]
  },
  {
   "cell_type": "code",
   "execution_count": 32,
   "metadata": {
    "ExecuteTime": {
     "end_time": "2020-11-21T05:10:59.240786Z",
     "start_time": "2020-11-21T05:10:59.234783Z"
    }
   },
   "outputs": [
    {
     "name": "stdout",
     "output_type": "stream",
     "text": [
      "-2.3162956182198267\n",
      "0.09325234581499815\n",
      "[0.53, 0.64, 0.42, 0.5, 0.37]\n",
      "0.10425929215182694\n",
      "\n",
      "-2.3162956182198267\n"
     ]
    }
   ],
   "source": [
    "# https://stackoverflow.com/questions/27600207/why-does-numpy-std-give-a-different-result-to-matlab-std\n",
    "\n",
    "p2_t = ((p2_list_data_mean - (6 * .1)) /\n",
    "        (np.std(p2_list_data, ddof=1)/(len(p2_list_data))**(1/2)))\n",
    "\n",
    "print(p2_t)\n",
    "print(np.std(p2_list_data))\n",
    "print(p2_list_data)\n",
    "print(np.std(p2_list_data, dtype=np.float64, ddof=1))\n",
    "print()\n",
    "\n",
    "print(p2_t)\n"
   ]
  },
  {
   "cell_type": "markdown",
   "metadata": {
    "ExecuteTime": {
     "end_time": "2020-11-21T05:18:45.503600Z",
     "start_time": "2020-11-21T05:18:45.494593Z"
    }
   },
   "source": [
    "3. "
   ]
  },
  {
   "cell_type": "code",
   "execution_count": 44,
   "metadata": {
    "ExecuteTime": {
     "end_time": "2020-11-21T05:27:58.220070Z",
     "start_time": "2020-11-21T05:27:58.216067Z"
    }
   },
   "outputs": [
    {
     "name": "stdout",
     "output_type": "stream",
     "text": [
      "2.481666666666667\n",
      "1.6117159057723358\n",
      "30\n"
     ]
    }
   ],
   "source": [
    "import re\n",
    "p3_string_data =\"\"\"1.15\t5.09\t0.97\t1.59\t4.60\t0.32\t0.55\t1.45\n",
    "0.13\t4.47\t1.20\t3.50\t5.02\t4.67\t5.22\t2.69\n",
    "3.92\t3.17\t3.03\t2.21\t0.69\t4.47\t3.31\t1.17\n",
    "0.79\t1.17\t1.57\t2.62\t1.66\t2.05\t\"\"\"\n",
    "\n",
    "p3_pattern = r\"(\\d+.\\d+)\"\n",
    "\n",
    "p3_list_data = [float(i) for i in re.findall(p3_pattern,p3_string_data)]\n",
    "\n",
    "p3_list_data_mean = np.mean(p3_list_data)\n",
    "print(p3_list_data_mean)\n",
    "p3_list_data_sd = np.std(p3_list_data, ddof=1)\n",
    "print(p3_list_data_sd)\n",
    "print(len(p3_list_data))"
   ]
  },
  {
   "cell_type": "code",
   "execution_count": 45,
   "metadata": {
    "ExecuteTime": {
     "end_time": "2020-11-21T07:07:24.868558Z",
     "start_time": "2020-11-21T07:07:24.859551Z"
    }
   },
   "outputs": [
    {
     "data": {
      "text/plain": [
       "5"
      ]
     },
     "execution_count": 45,
     "metadata": {},
     "output_type": "execute_result"
    }
   ],
   "source": [
    "5"
   ]
  },
  {
   "cell_type": "code",
   "execution_count": 46,
   "metadata": {
    "ExecuteTime": {
     "end_time": "2020-11-21T07:07:27.285516Z",
     "start_time": "2020-11-21T07:07:27.242480Z"
    }
   },
   "outputs": [
    {
     "ename": "NameError",
     "evalue": "name 'pnorm' is not defined",
     "output_type": "error",
     "traceback": [
      "\u001b[1;31m---------------------------------------------------------------------------\u001b[0m",
      "\u001b[1;31mNameError\u001b[0m                                 Traceback (most recent call last)",
      "\u001b[1;32m<ipython-input-46-43d45c8a7016>\u001b[0m in \u001b[0;36m<module>\u001b[1;34m\u001b[0m\n\u001b[1;32m----> 1\u001b[1;33m \u001b[0mpnorm\u001b[0m\u001b[1;33m(\u001b[0m\u001b[1;36m.1\u001b[0m \u001b[1;33m+\u001b[0m \u001b[0mqnorm\u001b[0m\u001b[1;33m(\u001b[0m\u001b[1;36m1\u001b[0m\u001b[1;33m-\u001b[0m\u001b[1;36m.05\u001b[0m\u001b[1;33m)\u001b[0m \u001b[1;33m*\u001b[0m \u001b[0msqrt\u001b[0m\u001b[1;33m(\u001b[0m\u001b[1;36m.1\u001b[0m \u001b[1;33m*\u001b[0m \u001b[1;36m.9\u001b[0m\u001b[1;33m/\u001b[0m\u001b[1;36m100\u001b[0m\u001b[1;33m)\u001b[0m\u001b[1;33m,\u001b[0m \u001b[1;36m.16\u001b[0m\u001b[1;33m,\u001b[0m \u001b[0msqrt\u001b[0m\u001b[1;33m(\u001b[0m\u001b[1;36m.16\u001b[0m \u001b[1;33m*\u001b[0m \u001b[1;36m.84\u001b[0m\u001b[1;33m/\u001b[0m\u001b[1;36m100\u001b[0m\u001b[1;33m)\u001b[0m\u001b[1;33m)\u001b[0m\u001b[1;33m\u001b[0m\u001b[1;33m\u001b[0m\u001b[0m\n\u001b[0m",
      "\u001b[1;31mNameError\u001b[0m: name 'pnorm' is not defined"
     ]
    }
   ],
   "source": [
    "\"\"\"\n",
    "pnorm(.1 + qnorm(1-.05) * sqrt(.1 * .9/100), .16, sqrt(.16 * .84/100))\n",
    "pnorm(.1 + qnorm(1-.05) * sqrt(.1 * .9/200), .16, sqrt(.16 * .84/200))\n",
    "\n",
    "\"\"\""
   ]
  },
  {
   "cell_type": "code",
   "execution_count": 47,
   "metadata": {
    "ExecuteTime": {
     "end_time": "2020-11-21T08:20:10.542377Z",
     "start_time": "2020-11-21T08:20:10.523360Z"
    }
   },
   "outputs": [
    {
     "data": {
      "text/plain": [
       "7"
      ]
     },
     "execution_count": 47,
     "metadata": {},
     "output_type": "execute_result"
    }
   ],
   "source": [
    "7\n",
    "    "
   ]
  },
  {
   "cell_type": "code",
   "execution_count": 48,
   "metadata": {
    "ExecuteTime": {
     "end_time": "2020-11-21T08:20:12.037562Z",
     "start_time": "2020-11-21T08:20:12.010538Z"
    }
   },
   "outputs": [
    {
     "ename": "NameError",
     "evalue": "name 'pnorm' is not defined",
     "output_type": "error",
     "traceback": [
      "\u001b[1;31m---------------------------------------------------------------------------\u001b[0m",
      "\u001b[1;31mNameError\u001b[0m                                 Traceback (most recent call last)",
      "\u001b[1;32m<ipython-input-48-aacd59b0b39c>\u001b[0m in \u001b[0;36m<module>\u001b[1;34m\u001b[0m\n\u001b[1;32m----> 1\u001b[1;33m \u001b[0mpnorm\u001b[0m\u001b[1;33m(\u001b[0m\u001b[1;33m(\u001b[0m\u001b[1;33m(\u001b[0m\u001b[1;36m0.05\u001b[0m\u001b[1;33m)\u001b[0m \u001b[1;33m+\u001b[0m \u001b[0mqnorm\u001b[0m\u001b[1;33m(\u001b[0m\u001b[1;36m.995\u001b[0m\u001b[1;33m)\u001b[0m\u001b[1;33m*\u001b[0m \u001b[0msqrt\u001b[0m\u001b[1;33m(\u001b[0m\u001b[1;33m(\u001b[0m\u001b[1;36m.05\u001b[0m \u001b[1;33m*\u001b[0m \u001b[1;36m.95\u001b[0m\u001b[1;33m)\u001b[0m\u001b[1;33m/\u001b[0m\u001b[1;36m500\u001b[0m\u001b[1;33m)\u001b[0m\u001b[1;33m)\u001b[0m\u001b[1;33m/\u001b[0m \u001b[0msqrt\u001b[0m\u001b[1;33m(\u001b[0m\u001b[1;33m(\u001b[0m\u001b[1;36m.1\u001b[0m \u001b[1;33m*\u001b[0m \u001b[1;36m.9\u001b[0m\u001b[1;33m)\u001b[0m\u001b[1;33m/\u001b[0m\u001b[1;36m500\u001b[0m\u001b[1;33m)\u001b[0m\u001b[1;33m)\u001b[0m \u001b[1;33m-\u001b[0m \u001b[0mpnorm\u001b[0m\u001b[1;33m(\u001b[0m\u001b[1;33m(\u001b[0m\u001b[1;33m(\u001b[0m\u001b[1;36m0.05\u001b[0m\u001b[1;33m)\u001b[0m \u001b[1;33m-\u001b[0m \u001b[0mqnorm\u001b[0m\u001b[1;33m(\u001b[0m\u001b[1;36m.995\u001b[0m\u001b[1;33m)\u001b[0m\u001b[1;33m*\u001b[0m \u001b[0msqrt\u001b[0m\u001b[1;33m(\u001b[0m\u001b[1;33m(\u001b[0m\u001b[1;36m.05\u001b[0m \u001b[1;33m*\u001b[0m \u001b[1;36m.95\u001b[0m\u001b[1;33m)\u001b[0m\u001b[1;33m/\u001b[0m\u001b[1;36m500\u001b[0m\u001b[1;33m)\u001b[0m\u001b[1;33m)\u001b[0m\u001b[1;33m/\u001b[0m \u001b[0msqrt\u001b[0m\u001b[1;33m(\u001b[0m\u001b[1;33m(\u001b[0m\u001b[1;36m.1\u001b[0m \u001b[1;33m*\u001b[0m \u001b[1;36m.9\u001b[0m\u001b[1;33m)\u001b[0m\u001b[1;33m/\u001b[0m\u001b[1;36m500\u001b[0m\u001b[1;33m)\u001b[0m\u001b[1;33m)\u001b[0m\u001b[1;33m\u001b[0m\u001b[1;33m\u001b[0m\u001b[0m\n\u001b[0m",
      "\u001b[1;31mNameError\u001b[0m: name 'pnorm' is not defined"
     ]
    }
   ],
   "source": [
    "pnorm(((0.05) + qnorm(.995)* sqrt((.05 * .95)/500))/ sqrt((.1 * .9)/500)) - pnorm(((0.05) - qnorm(.995)* sqrt((.05 * .95)/500))/ sqrt((.1 * .9)/500))"
   ]
  }
 ],
 "metadata": {
  "kernelspec": {
   "display_name": "Python 3.8.5 64-bit Anaconda (Only works with Anaconda's Jupyter)",
   "language": "python",
   "name": "python_3.8.5_64-bit_anaconda"
  },
  "language_info": {
   "codemirror_mode": {
    "name": "ipython",
    "version": 3
   },
   "file_extension": ".py",
   "mimetype": "text/x-python",
   "name": "python",
   "nbconvert_exporter": "python",
   "pygments_lexer": "ipython3",
   "version": "3.8.5"
  },
  "varInspector": {
   "cols": {
    "lenName": 16,
    "lenType": 16,
    "lenVar": 40
   },
   "kernels_config": {
    "python": {
     "delete_cmd_postfix": "",
     "delete_cmd_prefix": "del ",
     "library": "var_list.py",
     "varRefreshCmd": "print(var_dic_list())"
    },
    "r": {
     "delete_cmd_postfix": ") ",
     "delete_cmd_prefix": "rm(",
     "library": "var_list.r",
     "varRefreshCmd": "cat(var_dic_list()) "
    }
   },
   "types_to_exclude": [
    "module",
    "function",
    "builtin_function_or_method",
    "instance",
    "_Feature"
   ],
   "window_display": false
  }
 },
 "nbformat": 4,
 "nbformat_minor": 4
}

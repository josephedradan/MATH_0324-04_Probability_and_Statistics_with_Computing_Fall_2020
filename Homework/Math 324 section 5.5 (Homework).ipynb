{
 "cells": [
  {
   "cell_type": "code",
   "execution_count": 1,
   "metadata": {
    "ExecuteTime": {
     "end_time": "2020-10-28T06:09:52.790671Z",
     "start_time": "2020-10-28T06:09:52.100083Z"
    }
   },
   "outputs": [
    {
     "name": "stderr",
     "output_type": "stream",
     "text": [
      "C:\\Users\\Joseph\\anaconda3\\lib\\site-packages\\rpy2\\robjects\\packages.py:365: UserWarning: The symbol 'quartz' is not in this R namespace/package.\n",
      "  warnings.warn(\n"
     ]
    }
   ],
   "source": [
    "\"\"\" \n",
    "More on rpy2 options \n",
    "https://ipython.org/ipython-doc/2/config/extensions/rmagic.html \"\"\"\n",
    "import rpy2\n",
    "%load_ext rpy2.ipython"
   ]
  },
  {
   "cell_type": "markdown",
   "metadata": {},
   "source": [
    "# 1. DEVORESTAT9 5.E.058.\n",
    "A shipping company handles containers in three different sizes: (1) 27 ft<sup>3</sup> <nobr>(3 <span style=\"font-family: 'Cambria', 'Georgia', serif; font-size: 1.25em\">×</span> 3 <span style=\"font-family: 'Cambria', 'Georgia', serif; font-size: 1.25em\">×</span> 3),</nobr> (2) 125 ft<sup>3</sup>, and (3) 512 ft<sup>3</sup>. Let <i>X</i><sub><i>i</i></sub> <nobr>(<i>i</i> = 1, 2, 3)</nobr> denote the number of type <i>i</i> containers shipped during a given week. With <nobr><span class=\"watexinlineblock\"><span class=\"watex watexlineheightnormal\"><span style=\"font-family: Cambria, Georgia, serif; font-style: italic; font-size: 1.15em\">μ</span><sub><span style=\"font-style: italic;\"><span style=\"font-style: italic;\">i</span></span></sub> = <span style=\"font-style: italic;\"><span style=\"font-style: italic;\">E</span></span>(<span style=\"font-style: italic;\"><span style=\"font-style: italic;\">X</span></span><sub><span style=\"font-style: italic;\"><span style=\"font-style: italic;\">i</span></span></sub>)</span></span></nobr> and <nobr><span class=\"watexinlineblock\"><span class=\"watex watexlineheightnormal\"><span style=\"font-family: 'Cambria', 'Georgia', serif; font-style: italic; font-size: 1.15em\">σ</span><sub><span style=\"font-style: italic;\"><span style=\"font-style: italic;\">i</span></span></sub><sup>2</sup> = <span style=\"font-style: italic;\"><span style=\"font-style: italic;\">V</span></span>(<span style=\"font-style: italic;\"><span style=\"font-style: italic;\">X</span></span><sub><span style=\"font-style: italic;\"><span style=\"font-style: italic;\">i</span></span></sub>),</span></span></nobr> suppose that the mean values and standard deviations are as follows:\n",
    "\n",
    "<div class=\"indent\"> <span class=\"watexinlineblock\"><span class=\"watex watexlineheightnormal\"><span class=\"watexinlineblock watexmiddle\"><span class=\"watexarraycomplex\"><table class=\"watexarray\"><tbody><tr><td class=\"watexmiddle watexleft\"><span style=\"font-family: Cambria, Georgia, serif; font-style: italic; font-size: 1.15em\">μ</span><sub>1</sub> = <span style=\"color: red\">230</span><span style=\"white-space: nowrap\">&nbsp;&nbsp;&nbsp;&nbsp;</span></td><td class=\"watexmiddle watexleft\"><span style=\"font-family: Cambria, Georgia, serif; font-style: italic; font-size: 1.15em\">μ</span><sub>2</sub> = <span style=\"color: red\">250</span><span style=\"white-space: nowrap\">&nbsp;&nbsp;&nbsp;&nbsp;</span></td><td class=\"watexmiddle watexleft\"><span style=\"font-family: Cambria, Georgia, serif; font-style: italic; font-size: 1.15em\">μ</span><sub>3</sub> = <span style=\"color: red\">120</span> </td></tr><tr><td class=\"watexmiddle watexleft\"> <span style=\"font-family: 'Cambria', 'Georgia', serif; font-style: italic; font-size: 1.15em\">σ</span><sub>1</sub> = <span style=\"color: red\">11</span></td><td class=\"watexmiddle watexleft\"><span style=\"font-family: 'Cambria', 'Georgia', serif; font-style: italic; font-size: 1.15em\">σ</span><sub>2</sub> = <span style=\"color: red\">12</span></td><td class=\"watexmiddle watexleft\"><span style=\"font-family: 'Cambria', 'Georgia', serif; font-style: italic; font-size: 1.15em\">σ</span><sub>3</sub> = <span style=\"color: red\">8</span></td></tr></tbody></table></span></span></span></span>\n",
    "</div>"
   ]
  },
  {
   "cell_type": "code",
   "execution_count": 2,
   "metadata": {
    "ExecuteTime": {
     "end_time": "2020-10-28T06:09:52.805684Z",
     "start_time": "2020-10-28T06:09:52.791672Z"
    }
   },
   "outputs": [],
   "source": [
    "p1_mu_1 = 230\n",
    "p1_mu_2 = 250\n",
    "p1_mu_3 = 120\n",
    "\n",
    "p1_alpha_1 = 11\n",
    "p1_alpha_2 = 12\n",
    "p1_alpha_3 = 8"
   ]
  },
  {
   "cell_type": "markdown",
   "metadata": {},
   "source": [
    "<h3>\n",
    "(a) Assuming that <i>X</i><sub>1</sub>, <i>X</i><sub>2</sub>, <i>X</i><sub>3</sub> are independent, calculate the expected value and variance of the total volume shipped. [<i>Hint</i>: <nobr>Volume = 27<i>X</i><sub>1</sub> + 125<i>X</i><sub>2</sub> + 512<i>X</i><sub>3</sub>.]</nobr>\n",
    "</h3>"
   ]
  },
  {
   "cell_type": "markdown",
   "metadata": {},
   "source": [
    "#### Expected value"
   ]
  },
  {
   "cell_type": "code",
   "execution_count": 3,
   "metadata": {
    "ExecuteTime": {
     "end_time": "2020-10-28T06:09:52.821188Z",
     "start_time": "2020-10-28T06:09:52.806685Z"
    }
   },
   "outputs": [],
   "source": [
    "def p1a_expected_value_eqn(x1, x2, x3):\n",
    "    return 27*(x1) + 125*(x2) + 512*(x3)"
   ]
  },
  {
   "cell_type": "code",
   "execution_count": 4,
   "metadata": {
    "ExecuteTime": {
     "end_time": "2020-10-28T06:09:52.836202Z",
     "start_time": "2020-10-28T06:09:52.822189Z"
    }
   },
   "outputs": [
    {
     "name": "stdout",
     "output_type": "stream",
     "text": [
      "98900\n"
     ]
    }
   ],
   "source": [
    "print(p1a_expected_value_eqn(p1_mu_1,\n",
    "                             p1_mu_2,\n",
    "                             p1_mu_3))"
   ]
  },
  {
   "cell_type": "markdown",
   "metadata": {},
   "source": [
    "#### Variance"
   ]
  },
  {
   "cell_type": "code",
   "execution_count": 5,
   "metadata": {
    "ExecuteTime": {
     "end_time": "2020-10-28T06:09:52.851213Z",
     "start_time": "2020-10-28T06:09:52.837202Z"
    }
   },
   "outputs": [],
   "source": [
    "# V1\n",
    "def p1a_variance(x1, x2, x3):\n",
    "    return (27**2)*(x1**2) + (125**2)*(x2**2) + (512**2)*(x3**2)\n",
    "\n",
    "# V2\n",
    "\n",
    "\n",
    "def p1a_variance(x1, x2, x3):\n",
    "    return (27*x1)**2 + (125*x2)**2 + (512*x3)**2"
   ]
  },
  {
   "cell_type": "code",
   "execution_count": 6,
   "metadata": {
    "ExecuteTime": {
     "end_time": "2020-10-28T06:09:52.867227Z",
     "start_time": "2020-10-28T06:09:52.852215Z"
    }
   },
   "outputs": [
    {
     "name": "stdout",
     "output_type": "stream",
     "text": [
      "19115425\n"
     ]
    }
   ],
   "source": [
    "print(p1a_variance(p1_alpha_1,\n",
    "                   p1_alpha_2,\n",
    "                   p1_alpha_3))"
   ]
  },
  {
   "cell_type": "markdown",
   "metadata": {},
   "source": [
    "### (b) Would your calculations necessarily be correct if the <i>X</i><sub><i>i</i></sub>'s were not independent? Explain.\n",
    "\n",
    "<img src=\"images/5_5_problem_1b_solution.png\" alt=\"5_5_problem_1b_solution.png\" style=\"float:left;\">"
   ]
  },
  {
   "cell_type": "markdown",
   "metadata": {},
   "source": [
    "# 2. DEVORESTAT9 5.E.062.S\n",
    "Manufacture of a certain component requires three different machining operations. Machining time for each operation has a normal distribution, and the three times are independent of one another. The mean values are <font color=\"red\">15</font>, <font color=\"red\">30</font>, and <font color=\"red\">20</font> min, respectively, and the standard deviations are <font color=\"red\">2</font>, <font color=\"red\">1</font>, and <font color=\"red\">1.5</font> min, respectively. <h3> What is the probability that it takes at most 1 hour of machining time to produce a randomly selected component? (Round your answer to four decimal places.)</h3>\n"
   ]
  },
  {
   "cell_type": "code",
   "execution_count": 7,
   "metadata": {
    "ExecuteTime": {
     "end_time": "2020-10-28T06:09:52.882240Z",
     "start_time": "2020-10-28T06:09:52.869229Z"
    }
   },
   "outputs": [],
   "source": [
    "\"\"\"\n",
    "Notes:\n",
    "    \"... each operation has a normal distribution\" implies pnorm or qnorm\n",
    "    pnorm finds probability\n",
    "    Mean and SD are in minutes\n",
    "\n",
    "\"\"\"\n",
    "\n",
    "# Mean in Minutes\n",
    "p2_mean_1 = 15\n",
    "p2_mean_2 = 30\n",
    "p2_mean_3 = 20\n",
    "\n",
    "# Standard Deviation in Minutes\n",
    "p2_sd_1 = 2\n",
    "p2_sd_2 = 1\n",
    "p2_sd_3 = 1.5"
   ]
  },
  {
   "cell_type": "code",
   "execution_count": 8,
   "metadata": {
    "ExecuteTime": {
     "end_time": "2020-10-28T06:09:52.898243Z",
     "start_time": "2020-10-28T06:09:52.883241Z"
    }
   },
   "outputs": [],
   "source": [
    "# Time for probability (Part of the question you are trying to solve)\n",
    "p2_time_hours = 1\n",
    "p2_time_mins = p2_time_hours * 60"
   ]
  },
  {
   "cell_type": "code",
   "execution_count": 9,
   "metadata": {
    "ExecuteTime": {
     "end_time": "2020-10-28T06:09:52.914257Z",
     "start_time": "2020-10-28T06:09:52.899244Z"
    }
   },
   "outputs": [
    {
     "name": "stdout",
     "output_type": "stream",
     "text": [
      "Mean Sum\n",
      "65\n",
      "\n",
      "Variance Sum\n",
      "7.25\n",
      "\n",
      "Standard Deviation\n",
      "2.692582403567252\n",
      "\n"
     ]
    }
   ],
   "source": [
    "p2_mean_sum = p2_mean_1 + p2_mean_2 + p2_mean_3\n",
    "print(\"Mean Sum\")\n",
    "print(p2_mean_sum)\n",
    "print()\n",
    "\n",
    "# Variance is sd^2\n",
    "p2_variance_sum = p2_sd_1**2 + p2_sd_2**2 + p2_sd_3**2\n",
    "print(\"Variance Sum\")\n",
    "print(p2_variance_sum)\n",
    "print()\n",
    "\n",
    "p2_sd = p2_variance_sum**(1/2)\n",
    "print(\"Standard Deviation\")\n",
    "print(p2_sd)\n",
    "print()"
   ]
  },
  {
   "cell_type": "code",
   "execution_count": 10,
   "metadata": {
    "ExecuteTime": {
     "end_time": "2020-10-28T06:09:52.930270Z",
     "start_time": "2020-10-28T06:09:52.915258Z"
    }
   },
   "outputs": [
    {
     "name": "stdout",
     "output_type": "stream",
     "text": [
      "P(X<1) = 0.03165889"
     ]
    }
   ],
   "source": [
    "%%R -i p2_time_mins -i p2_mean_sum -i p2_sd\n",
    "\n",
    "# pnorm(numberline, mean, sd)\n",
    "# pnorm(60, 65, 2.692582403567252) => probability\n",
    "p2_probability <- pnorm(p2_time_mins, p2_mean_sum, p2_sd)\n",
    "\n",
    "cat(\"P(X<1) =\", p2_probability)"
   ]
  },
  {
   "cell_type": "markdown",
   "metadata": {},
   "source": [
    "# 3. DEVORESTAT9 5.E.072.S.\n",
    "\n",
    "<div class=\"wa1par\">\n",
    "I have three errands to take care of in the Administration Building. Let <span class=\"watexinlineblock\"><span class=\"watex watexlineheightnormal\"><span style=\"font-style: italic;\"><span style=\"font-style: italic;\">X</span></span><sub><span style=\"font-style: italic;\"><span style=\"font-style: italic;\">i</span></span></sub> = the time</span></span> that it takes for the <em>i</em> th errand <span class=\"watexinlineblock\"><span class=\"watex watexlineheightnormal\">(<span style=\"font-style: italic;\"><span style=\"font-style: italic;\">i</span></span> = 1, 2, 3),</span></span> and let <span class=\"watexinlineblock\"><span class=\"watex watexlineheightnormal\"><span style=\"font-style: italic;\"><span style=\"font-style: italic;\">X</span></span><sub>4</sub> = the total time</span></span> in minutes that I spend walking to and from the building and between each errand. Suppose the <span class=\"watexinlineblock\"><span class=\"watex watexlineheightnormal\"><span style=\"font-style: italic;\"><span style=\"font-style: italic;\">X</span></span><sub><span style=\"font-style: italic;\"><span style=\"font-style: italic;\">i</span></span></sub><span style=\"font-style: italic;\"><span style=\"font-style: italic;\">'</span></span>s</span></span> are independent, and normally distributed, with the following means and standard deviations: <span class=\"watexinlineblock\"><span class=\"watex watexlineheightnormal\"><span style=\"font-family: Cambria, Georgia, serif; font-style: italic; font-size: 1.15em\">μ</span><sub>1</sub> = <font color=\"red\">14</font>,</span></span> <span class=\"watexinlineblock\"><span class=\"watex watexlineheightnormal\"><span style=\"font-family: 'Cambria', 'Georgia', serif; font-style: italic; font-size: 1.15em\">σ</span><sub>1</sub> = 4,</span></span> <span class=\"watexinlineblock\"><span class=\"watex watexlineheightnormal\"><span style=\"font-family: Cambria, Georgia, serif; font-style: italic; font-size: 1.15em\">μ</span><sub>2</sub> = <font color=\"red\">7</font>,</span></span> <span class=\"watexinlineblock\"><span class=\"watex watexlineheightnormal\"><span style=\"font-family: 'Cambria', 'Georgia', serif; font-style: italic; font-size: 1.15em\">σ</span><sub>2</sub> = 1,</span></span> <span class=\"watexinlineblock\"><span class=\"watex watexlineheightnormal\"><span style=\"font-family: Cambria, Georgia, serif; font-style: italic; font-size: 1.15em\">μ</span><sub>3</sub> = <font color=\"red\">10</font>,</span></span> <span class=\"watexinlineblock\"><span class=\"watex watexlineheightnormal\"><span style=\"font-family: 'Cambria', 'Georgia', serif; font-style: italic; font-size: 1.15em\">σ</span><sub>3</sub> = 2,</span></span> <span class=\"watexinlineblock\"><span class=\"watex watexlineheightnormal\"><span style=\"font-family: Cambria, Georgia, serif; font-style: italic; font-size: 1.15em\">μ</span><sub>4</sub> = <font color=\"red\">14</font>,</span></span> <span class=\"watexinlineblock\"><span class=\"watex watexlineheightnormal\"><span style=\"font-family: 'Cambria', 'Georgia', serif; font-style: italic; font-size: 1.15em\">σ</span><sub>4</sub> = <font color=\"red\">4</font>.</span></span> I plan to leave my office at precisely <span class=\"nobr\">10:00 A.M.</span> and wish to post a note on my door that reads, \"I will return by <span class=\"nobr\"><em>t</em> A.M.\"</span> <h3>How long should I estimate my trip will take if I want the probability of the trip taking longer than my estimate to be 0.01? (Round your answer to two decimal places.) </h3>\n",
    "</div>"
   ]
  },
  {
   "cell_type": "code",
   "execution_count": 11,
   "metadata": {
    "ExecuteTime": {
     "end_time": "2020-10-28T06:09:52.946285Z",
     "start_time": "2020-10-28T06:09:52.931271Z"
    }
   },
   "outputs": [],
   "source": [
    "\"\"\"\n",
    "Notes:\n",
    "    \"Suppose the Xi's are independent\"\n",
    "    \"normally distributed\"\n",
    "    Mean and SD are in minutes\n",
    "\"\"\"\n",
    "# Mean in Minutes\n",
    "p3_mu_1 = 14\n",
    "p3_mu_2 = 7\n",
    "p3_mu_3 = 10\n",
    "m3_mu_4 = 14\n",
    "\n",
    "# Standard Deviation in Minutes\n",
    "p3_alpha_1 = 4\n",
    "p3_alpha_2 = 1\n",
    "p3_alpha_3 = 2\n",
    "p3_alpha_4 = 4"
   ]
  },
  {
   "cell_type": "code",
   "execution_count": 12,
   "metadata": {
    "ExecuteTime": {
     "end_time": "2020-10-28T06:09:52.962298Z",
     "start_time": "2020-10-28T06:09:52.947285Z"
    }
   },
   "outputs": [],
   "source": [
    "# Probability for time (Part of the question you are trying to solve)\n",
    "p3_probability_given = 0.01"
   ]
  },
  {
   "cell_type": "code",
   "execution_count": 13,
   "metadata": {
    "ExecuteTime": {
     "end_time": "2020-10-28T06:09:52.977311Z",
     "start_time": "2020-10-28T06:09:52.963299Z"
    },
    "scrolled": true
   },
   "outputs": [
    {
     "name": "stdout",
     "output_type": "stream",
     "text": [
      "Mean Sum\n",
      "45\n",
      "\n",
      "Variance sum\n",
      "37\n",
      "\n",
      "Standard Deviation\n",
      "6.082762530298219\n"
     ]
    }
   ],
   "source": [
    "p3_mean_sum = p3_mu_1 + p3_mu_2 + p3_mu_3 + m3_mu_4\n",
    "print(\"Mean Sum\")\n",
    "print(p3_mean_sum)\n",
    "print()\n",
    "\n",
    "# Variance is sd^2\n",
    "p3_variance_sum = p3_alpha_1**2 + p3_alpha_2**2 + p3_alpha_3**2 + p3_alpha_4**2\n",
    "print(\"Variance sum\")\n",
    "print(p3_variance_sum)\n",
    "print()\n",
    "\n",
    "p3_sd = (p3_variance_sum)**(1/2)\n",
    "print(\"Standard Deviation\")\n",
    "print(p3_sd)"
   ]
  },
  {
   "cell_type": "code",
   "execution_count": 14,
   "metadata": {
    "ExecuteTime": {
     "end_time": "2020-10-28T06:09:52.992323Z",
     "start_time": "2020-10-28T06:09:52.978312Z"
    }
   },
   "outputs": [
    {
     "name": "stdout",
     "output_type": "stream",
     "text": [
      "Time to estimate trip (min):\n",
      "59.15062"
     ]
    }
   ],
   "source": [
    "%%R -i p3_probability_given -i p3_mean_sum -i p3_sd\n",
    "\n",
    "# qnorm(prob, mean, sd)\n",
    "# qnorm(1 - 0.01, 45, 6.082762530298219)\n",
    "p3_time_solution <- qnorm(1 - p3_probability_given, p3_mean_sum, p3_sd)\n",
    "cat(\"Time to estimate trip (min):\\n\")\n",
    "cat(p3_time_solution)"
   ]
  },
  {
   "cell_type": "markdown",
   "metadata": {},
   "source": [
    "# 4. DEVORESTAT9 5.E.066.S.\n",
    "<p>\n",
    "If two loads are applied to a cantilever beam as shown in the accompanying drawing, the bending moment at 0 due to the loads is <span class=\"watexinlineblock\"><span class=\"watex watexlineheightnormal\"><span style=\"font-style: italic;\"><span style=\"font-style: italic;\">a</span></span><sub>1</sub><span style=\"font-style: italic;\"><span style=\"font-style: italic;\">X</span></span><sub>1</sub> + <span style=\"font-style: italic;\"><span style=\"font-style: italic;\">a</span></span><sub>2</sub><span style=\"font-style: italic;\"><span style=\"font-style: italic;\">X</span></span><sub>2</sub>.</span></span>\n",
    "</p>\n",
    "\n",
    "\n",
    "<img src=\"images/5_5_problem_4.png\" alt=\"5_5_problem_4.png\" style=\"float:left;\">\n",
    "\n",
    "\n",
    "\n",
    "\n"
   ]
  },
  {
   "cell_type": "markdown",
   "metadata": {},
   "source": [
    "<h3>\n",
    "(a) Suppose that <em>X</em><sub>1</sub> and <em>X</em><sub>2</sub> are independent rv's with means <font color=\"red\">3</font> and <font color=\"red\">6</font> kips, respectively, and standard deviations <font color=\"red\">0.8</font> and <font color=\"red\">1.6</font> kip, respectively. If a<sub>1</sub> = <span style=\"color: red\">9</span> ft and a<sub>2</sub> = <font color=\"red\">18</font> ft, what is the expected bending moment and what is the standard deviation of the bending moment? (Round your standard deviation to three decimal places.)\n",
    "</h3>"
   ]
  },
  {
   "cell_type": "code",
   "execution_count": 15,
   "metadata": {
    "ExecuteTime": {
     "end_time": "2020-10-28T06:09:53.007336Z",
     "start_time": "2020-10-28T06:09:52.993325Z"
    }
   },
   "outputs": [],
   "source": [
    "# Mean in kips\n",
    "p4_mean_x1 = 3\n",
    "p4_mean_x2 = 6\n",
    "\n",
    "# Sd in kips\n",
    "p4_sd_x1 = 0.8\n",
    "p4_sd_x2 = 1.6\n",
    "\n",
    "# Distance in ft\n",
    "p4_a1 = 9\n",
    "p4_a2 = 18"
   ]
  },
  {
   "cell_type": "code",
   "execution_count": 16,
   "metadata": {
    "ExecuteTime": {
     "end_time": "2020-10-28T06:09:53.022349Z",
     "start_time": "2020-10-28T06:09:53.008337Z"
    }
   },
   "outputs": [],
   "source": [
    "from functools import reduce\n",
    "\n",
    "# Custom function for summation\n",
    "# def summation(*args, function=None):\n",
    "#     return reduce(lambda x, y: x + y if function is None else function(x) + function(y), args)"
   ]
  },
  {
   "cell_type": "markdown",
   "metadata": {},
   "source": [
    "#### expected bending moment (kip-ft)"
   ]
  },
  {
   "cell_type": "code",
   "execution_count": 17,
   "metadata": {
    "ExecuteTime": {
     "end_time": "2020-10-28T06:09:53.038362Z",
     "start_time": "2020-10-28T06:09:53.023350Z"
    }
   },
   "outputs": [
    {
     "name": "stdout",
     "output_type": "stream",
     "text": [
      "Expected bending moment\n",
      "135\n"
     ]
    }
   ],
   "source": [
    "# p4_mean_sum = (a1 * mean1) + (a2 * mean2)\n",
    "p4_mean_sum = (p4_a1 * p4_mean_x1) + (p4_a2 * p4_mean_x2)\n",
    "\n",
    "print(\"Expected bending moment\")\n",
    "print(p4_mean_sum)\n",
    "# print(f\"{p4_mean_sum} kip-ft\")"
   ]
  },
  {
   "cell_type": "markdown",
   "metadata": {},
   "source": [
    "#### standard deviation (kip-ft)"
   ]
  },
  {
   "cell_type": "code",
   "execution_count": 18,
   "metadata": {
    "ExecuteTime": {
     "end_time": "2020-10-28T06:09:53.053376Z",
     "start_time": "2020-10-28T06:09:53.039364Z"
    }
   },
   "outputs": [
    {
     "name": "stdout",
     "output_type": "stream",
     "text": [
      "Variance Sum\n",
      "881.2800000000002 kip-ft^2\n",
      "\n",
      "Standard Deviation\n",
      "29.68636050444716\n"
     ]
    }
   ],
   "source": [
    "# V1\n",
    "# p4_variance_sum = (a1 * sd1)^2 + (a2 * sd2)^2\n",
    "p4_variance_sum = (p4_a1 * p4_sd_x1)**2 + (p4_a2 * p4_sd_x2)**2\n",
    "\n",
    "# V2\n",
    "# p4_variance_sum = (a1^2 * sd1^2) + (a2^2 * sd2^2)\n",
    "p4_variance_sum = (p4_a1**2 * p4_sd_x1**2) + (p4_a2**2 * p4_sd_x2**2)\n",
    "\n",
    "print(\"Variance Sum\")\n",
    "print(f\"{p4_variance_sum} kip-ft^2\")\n",
    "print()\n",
    "\n",
    "p4_sd = p4_variance_sum**(1/2)\n",
    "print(\"Standard Deviation\")\n",
    "print(p4_sd)\n",
    "# print(f\"{p4_sd} kip-ft\")"
   ]
  },
  {
   "cell_type": "markdown",
   "metadata": {},
   "source": [
    "<h3> (b) If <em>X</em><sub>1</sub> and <em>X</em><sub>2</sub> are normally distributed, what is the probability that the bending moment will exceed 75 kip-ft?  (Round your answer to four decimal places.) (kip-ft)</h3>"
   ]
  },
  {
   "cell_type": "code",
   "execution_count": 19,
   "metadata": {
    "ExecuteTime": {
     "end_time": "2020-10-28T06:09:53.069389Z",
     "start_time": "2020-10-28T06:09:53.054376Z"
    }
   },
   "outputs": [],
   "source": [
    "p4b_bending_moment = 75"
   ]
  },
  {
   "cell_type": "code",
   "execution_count": 20,
   "metadata": {
    "ExecuteTime": {
     "end_time": "2020-10-28T06:09:53.085403Z",
     "start_time": "2020-10-28T06:09:53.070390Z"
    }
   },
   "outputs": [
    {
     "name": "stdout",
     "output_type": "stream",
     "text": [
      "P(X > 75): 0.9783669"
     ]
    }
   ],
   "source": [
    "%%R -i p4b_bending_moment -i p4_mean_sum -i p4_sd\n",
    "\n",
    "# pnorm(numberline, mean, sd)\n",
    "# pnorm(75, 135, 29.68636050444716) => probability\n",
    "p4b_probability = 1 - pnorm(p4b_bending_moment, p4_mean_sum, p4_sd)\n",
    "\n",
    "cat(\"P(X > 75):\",p4b_probability)"
   ]
  },
  {
   "cell_type": "markdown",
   "metadata": {},
   "source": [
    "<h3>(c) Suppose the positions of the two loads are random variables. Denoting them by <em>A</em><sub>1</sub> and <em>A</em><sub>2</sub>, assume that these variables have means of <font color=\"red\">9</font> and <font color=\"red\">18</font> ft, respectively, that each has a standard deviation of 0.5, and that all A</span></span><sub><span style=\"font-style: italic;\"><span style=\"font-style: italic;\">i</span></span></sub><span style=\"font-style: italic;\"><span style=\"font-style: italic;\">' and X</span></span><sub><span style=\"font-style: italic;\"><span style=\"font-style: italic;\">i</span></span></sub><span style=\"font-style: italic;\"><span style=\"font-style: italic;\">' are independent of one another. What is the expected moment now? (kip-ft)</h3>"
   ]
  },
  {
   "cell_type": "code",
   "execution_count": 21,
   "metadata": {
    "ExecuteTime": {
     "end_time": "2020-10-28T06:09:53.100416Z",
     "start_time": "2020-10-28T06:09:53.086403Z"
    }
   },
   "outputs": [],
   "source": [
    "p4c_mean_A1 = 9\n",
    "p4c_mean_A2 = 18\n",
    "\n",
    "p4c_sd_A1 = .5\n",
    "p4c_sd_A2 = p4c_sd_A1"
   ]
  },
  {
   "cell_type": "code",
   "execution_count": 22,
   "metadata": {
    "ExecuteTime": {
     "end_time": "2020-10-28T06:09:53.115428Z",
     "start_time": "2020-10-28T06:09:53.103418Z"
    }
   },
   "outputs": [
    {
     "name": "stdout",
     "output_type": "stream",
     "text": [
      "Recall given a values:\n",
      "Given: p4_a1=9\n",
      "Given: p4_a2=18\n",
      "\n",
      "New given a values:\n",
      "Given: p4c_mean_A1=9\n",
      "Given: p4c_mean_A2=18\n",
      "\n",
      "Expected bending moment\n",
      "135\n"
     ]
    }
   ],
   "source": [
    "print(\"Recall given a values:\")\n",
    "print(f\"Given: {p4_a1=}\")\n",
    "print(f\"Given: {p4_a2=}\")\n",
    "print()\n",
    "print(\"New given a values:\")\n",
    "print(f\"Given: {p4c_mean_A1=}\")\n",
    "print(f\"Given: {p4c_mean_A2=}\")\n",
    "print()\n",
    "\n",
    "# p4_mean_sum = (a1 * meanA1) + (a2 * meanA2)\n",
    "p4c_mean_sum = (p4c_mean_A1 * p4_mean_x1) + (p4c_mean_A2 * p4_mean_x2)\n",
    "\n",
    "print(\"Expected bending moment\")\n",
    "print(p4c_mean_sum)\n",
    "# print(f\"{p4c_mean_sum} kip-ft\")"
   ]
  },
  {
   "cell_type": "markdown",
   "metadata": {},
   "source": [
    "<h3> (d) For the situation of part (c), what is the variance of the bending moment? (Round your answer to two decimal places.) (kip-ft<sup>2</sup>) </h3>\n"
   ]
  },
  {
   "cell_type": "code",
   "execution_count": 24,
   "metadata": {
    "ExecuteTime": {
     "end_time": "2020-10-28T06:10:01.394719Z",
     "start_time": "2020-10-28T06:10:01.383709Z"
    }
   },
   "outputs": [
    {
     "name": "stdout",
     "output_type": "stream",
     "text": [
      "Recall given SD values:\n",
      "Given: p4_sd_x1=0.8\n",
      "Given: p4_sd_x2=1.6\n",
      "\n",
      "New given SD values:\n",
      "Given: p4c_sd_A1=0.5\n",
      "Given: p4c_sd_A2=0.5\n",
      "\n",
      "Variance Sum\n",
      "101.25 kip-ft^2\n",
      "\n",
      "Standard Deviation\n",
      "10.062305898749054\n",
      "893.3300000000002\n"
     ]
    }
   ],
   "source": [
    "print(\"Recall given SD values:\")\n",
    "print(f\"Given: {p4_sd_x1=}\")\n",
    "print(f\"Given: {p4_sd_x2=}\")\n",
    "print()\n",
    "print(\"New given SD values:\")\n",
    "print(f\"Given: {p4c_sd_A1=}\")\n",
    "print(f\"Given: {p4c_sd_A2=}\")\n",
    "print()\n",
    "\n",
    "# V1\n",
    "# p4d_variance_sum = (a1 * sd1)^2 + (a2 * sd2)^2\n",
    "p4d_variance_sum = (p4_a1 * p4c_sd_A1)**2 + (p4_a2 * p4c_sd_A2)**2\n",
    "\n",
    "# V2\n",
    "# p4d_variance_sum = (a1^2 * sd1^2) + (a2^2 * sd2^2)\n",
    "p4d_variance_sum = (p4_a1**2 * p4c_sd_A1**2) + (p4_a2**2 * p4c_sd_A2**2)\n",
    "\n",
    "print(\"Variance Sum\")\n",
    "print(f\"{p4d_variance_sum} kip-ft^2\")\n",
    "print()\n",
    "\n",
    "p4d_sd = p4d_variance_sum**(1/2)\n",
    "print(\"Standard Deviation\")\n",
    "print(p4d_sd)\n",
    "# print(f\"{p4d_sd} kip-ft\")\n",
    "\n",
    "\n",
    "p4d_variance_sum = ((p4c_sd_A1**2 * p4_sd_x1**2) + (p4c_sd_A1**2 * p4_mean_x1**2) + (p4_sd_x1**2 * p4c_mean_A1**2) +\n",
    "                    (p4c_sd_A2**2 * p4_sd_x2**2) + (p4c_sd_A2**2 * p4_mean_x2**2) + (p4_sd_x2**2 * p4c_mean_A2**2))\n",
    "                    \n",
    "\n",
    "print(p4d_variance_sum)\n",
    "\n",
    "\n"
   ]
  },
  {
   "cell_type": "markdown",
   "metadata": {},
   "source": [
    "<h3> (e) If the situation is as described in part (a) except that <span class=\"watexinlineblock\"><span class=\"watex watexlineheightnormal\">Corr(<span style=\"font-style: italic;\"><span style=\"font-style: italic;\">X</span></span><sub>1</sub>, <span style=\"font-style: italic;\"><span style=\"font-style: italic;\">X</span></span><sub>2</sub>) = 0.5</span></span> (so that the two loads are not independent), what is the variance of the bending moment? (kip-ft<sup>2</sup>) </h3>"
   ]
  },
  {
   "cell_type": "code",
   "execution_count": 39,
   "metadata": {
    "ExecuteTime": {
     "end_time": "2020-10-28T08:51:15.309921Z",
     "start_time": "2020-10-28T08:51:15.291906Z"
    }
   },
   "outputs": [],
   "source": [
    "p4e_corr = .5"
   ]
  },
  {
   "cell_type": "code",
   "execution_count": 40,
   "metadata": {
    "ExecuteTime": {
     "end_time": "2020-10-28T08:51:16.147117Z",
     "start_time": "2020-10-28T08:51:16.140113Z"
    }
   },
   "outputs": [
    {
     "name": "stdout",
     "output_type": "stream",
     "text": [
      "1088.6400000000003\n"
     ]
    }
   ],
   "source": [
    "# It's now dependent\n",
    "x = p4_variance_sum + (2 * p4_a1 * p4_a2 * p4_sd_x1 * p4_sd_x2 * p4e_corr)\n",
    "print(x)"
   ]
  }
 ],
 "metadata": {
  "kernelspec": {
   "display_name": "Python 3.8.5 64-bit Anaconda (Only works with Anaconda's Jupyter)",
   "language": "python",
   "name": "python_3.8.5_64-bit_anaconda"
  },
  "language_info": {
   "codemirror_mode": {
    "name": "ipython",
    "version": 3
   },
   "file_extension": ".py",
   "mimetype": "text/x-python",
   "name": "python",
   "nbconvert_exporter": "python",
   "pygments_lexer": "ipython3",
   "version": "3.8.5"
  },
  "varInspector": {
   "cols": {
    "lenName": 16,
    "lenType": 16,
    "lenVar": 40
   },
   "kernels_config": {
    "python": {
     "delete_cmd_postfix": "",
     "delete_cmd_prefix": "del ",
     "library": "var_list.py",
     "varRefreshCmd": "print(var_dic_list())"
    },
    "r": {
     "delete_cmd_postfix": ") ",
     "delete_cmd_prefix": "rm(",
     "library": "var_list.r",
     "varRefreshCmd": "cat(var_dic_list()) "
    }
   },
   "types_to_exclude": [
    "module",
    "function",
    "builtin_function_or_method",
    "instance",
    "_Feature"
   ],
   "window_display": false
  }
 },
 "nbformat": 4,
 "nbformat_minor": 4
}

{
 "cells": [
  {
   "cell_type": "markdown",
   "metadata": {},
   "source": [
    "# 1. DEVORESTAT9 5.E.058.\n",
    "<div class=\"studentQuestionBox studentQuestionContent\">\n",
    "                <!-- Converted from DevoreStat8 5.E.058. -->\n",
    "\n",
    "<!-- Version of DevoreStat8 5.E.058. -->\n",
    "\n",
    "\n",
    "\n",
    "A shipping company handles containers in three different sizes: (1) 27 ft<sup>3</sup> <nobr>(3 <span style=\"font-family: 'Cambria', 'Georgia', serif; font-size: 1.25em\">&#215;</span> 3 <span style=\"font-family: 'Cambria', 'Georgia', serif; font-size: 1.25em\">&#215;</span> 3),</nobr> (2) 125 ft<sup>3</sup>, and (3) 512 ft<sup>3</sup>. Let <i>X</i><sub><i>i</i></sub> <nobr>(<i>i</i> = 1, 2, 3)</nobr> denote the number of type <i>i</i> containers shipped during a given week. With <nobr><span class='watexinlineblock'><span class='watex watexlineheightnormal'><div class='watexline'><span style=\"font-family: Cambria, Georgia, serif; font-style: italic; font-size: 1.15em\">&#956;</span><sub ><span style='font-style: italic;'><span style='font-style: italic;'>i</span></span></sub> = <span style='font-style: italic;'><span style='font-style: italic;'>E</span></span>(<span style='font-style: italic;'><span style='font-style: italic;'>X</span></span><sub ><span style='font-style: italic;'><span style='font-style: italic;'>i</span></span></sub>)</div></span></span></nobr> and <nobr><span class='watexinlineblock'><span class='watex watexlineheightnormal'><div class='watexline'><span style=\"font-family: 'Cambria', 'Georgia', serif; font-style: italic; font-size: 1.15em\">&#963;</span><sub ><span style='font-style: italic;'><span style='font-style: italic;'>i</span></span></sub><sup >2</sup> = <span style='font-style: italic;'><span style='font-style: italic;'>V</span></span>(<span style='font-style: italic;'><span style='font-style: italic;'>X</span></span><sub ><span style='font-style: italic;'><span style='font-style: italic;'>i</span></span></sub>),</div></span></span></nobr> suppose that the mean values and standard deviations are as follows:\n",
    "<div class='indent'>\n",
    "        <span class='watexinlineblock'><span class='watex watexlineheightnormal'><div class='watexline'><span class='watexinlineblock watexmiddle'><span class='watexarraycomplex'><table class='watexarray'><tr><td class='watexmiddle watexleft'><span style=\"font-family: Cambria, Georgia, serif; font-style: italic; font-size: 1.15em\">&#956;</span><sub >1</sub> = <span style='color: red'>230</span><span style=\"white-space: nowrap\">&#160;&#160;&#160;&#160;</span></td><td class='watexmiddle watexleft'><span style=\"font-family: Cambria, Georgia, serif; font-style: italic; font-size: 1.15em\">&#956;</span><sub >2</sub> = <span style='color: red'>250</span><span style=\"white-space: nowrap\">&#160;&#160;&#160;&#160;</span></td><td class='watexmiddle watexleft'><span style=\"font-family: Cambria, Georgia, serif; font-style: italic; font-size: 1.15em\">&#956;</span><sub >3</sub> = <span style='color: red'>120</span> </td></tr><tr><td class='watexmiddle watexleft'>    <span style=\"font-family: 'Cambria', 'Georgia', serif; font-style: italic; font-size: 1.15em\">&#963;</span><sub >1</sub> = <span style='color: red'>11</span></td><td class='watexmiddle watexleft'><span style=\"font-family: 'Cambria', 'Georgia', serif; font-style: italic; font-size: 1.15em\">&#963;</span><sub >2</sub> = <span style='color: red'>12</span></td><td class='watexmiddle watexleft'><span style=\"font-family: 'Cambria', 'Georgia', serif; font-style: italic; font-size: 1.15em\">&#963;</span><sub >3</sub> = <span style='color: red'>8</span></td></tr></table></span></span></div>"
   ]
  },
  {
   "cell_type": "markdown",
   "metadata": {},
   "source": [
    "<h3>\n",
    "(a) Assuming that <i>X</i><sub>1</sub>, <i>X</i><sub>2</sub>, <i>X</i><sub>3</sub> are independent, calculate the expected value and variance of the total volume shipped. [<i>Hint</i>: <nobr>Volume = 27<i>X</i><sub>1</sub> + 125<i>X</i><sub>2</sub> + 512<i>X</i><sub>3</sub>.]</nobr><br>\n",
    "</h3>"
   ]
  },
  {
   "cell_type": "code",
   "execution_count": null,
   "metadata": {},
   "outputs": [],
   "source": []
  },
  {
   "cell_type": "markdown",
   "metadata": {},
   "source": [
    "### (b) Would your calculations necessarily be correct if the <i>X</i><sub><i>i</i></sub>'s were not independent? Explain."
   ]
  },
  {
   "cell_type": "code",
   "execution_count": null,
   "metadata": {},
   "outputs": [],
   "source": []
  },
  {
   "cell_type": "markdown",
   "metadata": {},
   "source": [
    "# 2. DEVORESTAT9 5.E.062.S\n",
    "Manufacture of a certain component requires three different machining operations. Machining time for each operation has a normal distribution, and the three times are independent of one another. The mean values are <font color=\"red\">15</font>, <font color=\"red\">30</font>, and <font color=\"red\">20</font> min, respectively, and the standard deviations are <font color=\"red\">2</font>, <font color=\"red\">1</font>, and <font color=\"red\">1.5</font> min, respectively. What is the probability that it takes a\n",
    "t most 1 hour of machining time to produce a randomly selected component? (Round your answer to four decimal places.)<br>\n"
   ]
  },
  {
   "cell_type": "code",
   "execution_count": null,
   "metadata": {},
   "outputs": [],
   "source": []
  },
  {
   "cell_type": "markdown",
   "metadata": {},
   "source": [
    "# 3. DEVORESTAT9 5.E.072.S.\n",
    "\n",
    "<div class=\"wa1par\">\n",
    "  I have three errands to take care of in the Administration Building. Let <span class=\"watexinlineblock\"><span class=\"watex watexlineheightnormal\"><div class=\"watexline\"><span style=\"font-style: italic;\"><span style=\"font-style: italic;\">X</span></span><sub><span style=\"font-style: italic;\"><span style=\"font-style: italic;\">i</span></span></sub> = the time</div></span></span> that it takes for the <em>i</em>th errand <span class=\"watexinlineblock\"><span class=\"watex watexlineheightnormal\"><div class=\"watexline\">(<span style=\"font-style: italic;\"><span style=\"font-style: italic;\">i</span></span> = 1, 2, 3),</div></span></span> and let <span class=\"watexinlineblock\"><span class=\"watex watexlineheightnormal\"><div class=\"watexline\"><span style=\"font-style: italic;\"><span style=\"font-style: italic;\">X</span></span><sub>4</sub> = the total time</div></span></span> in minutes that I spend walking to and from the building and between each errand. Suppose the <span class=\"watexinlineblock\"><span class=\"watex watexlineheightnormal\"><div class=\"watexline\"><span style=\"font-style: italic;\"><span style=\"font-style: italic;\">X</span></span><sub><span style=\"font-style: italic;\"><span style=\"font-style: italic;\">i</span></span></sub><span style=\"font-style: italic;\"><span style=\"font-style: italic;\">'</span></span>s</div></span></span> are independent, and normally distributed, with the following means and standard deviations: <span class=\"watexinlineblock\"><span class=\"watex watexlineheightnormal\"><div class=\"watexline\"><span style=\"font-family: Cambria, Georgia, serif; font-style: italic; font-size: 1.15em\">μ</span><sub>1</sub> = <font color=\"red\">14</font>,</div></span></span> <span class=\"watexinlineblock\"><span class=\"watex watexlineheightnormal\"><div class=\"watexline\"><span style=\"font-family: 'Cambria', 'Georgia', serif; font-style: italic; font-size: 1.15em\">σ</span><sub>1</sub> = 4,</div></span></span> <span class=\"watexinlineblock\"><span class=\"watex watexlineheightnormal\"><div class=\"watexline\"><span style=\"font-family: Cambria, Georgia, serif; font-style: italic; font-size: 1.15em\">μ</span><sub>2</sub> = <font color=\"red\">7</font>,</div></span></span> <span class=\"watexinlineblock\"><span class=\"watex watexlineheightnormal\"><div class=\"watexline\"><span style=\"font-family: 'Cambria', 'Georgia', serif; font-style: italic; font-size: 1.15em\">σ</span><sub>2</sub> = 1,</div></span></span> <span class=\"watexinlineblock\"><span class=\"watex watexlineheightnormal\"><div class=\"watexline\"><span style=\"font-family: Cambria, Georgia, serif; font-style: italic; font-size: 1.15em\">μ</span><sub>3</sub> = <font color=\"red\">10</font>,</div></span></span> <span class=\"watexinlineblock\"><span class=\"watex watexlineheightnormal\"><div class=\"watexline\"><span style=\"font-family: 'Cambria', 'Georgia', serif; font-style: italic; font-size: 1.15em\">σ</span><sub>3</sub> = 2,</div></span></span> <span class=\"watexinlineblock\"><span class=\"watex watexlineheightnormal\"><div class=\"watexline\"><span style=\"font-family: Cambria, Georgia, serif; font-style: italic; font-size: 1.15em\">μ</span><sub>4</sub> = <font color=\"red\">14</font>,</div></span></span> <span class=\"watexinlineblock\"><span class=\"watex watexlineheightnormal\"><div class=\"watexline\"><span style=\"font-family: 'Cambria', 'Georgia', serif; font-style: italic; font-size: 1.15em\">σ</span><sub>4</sub> = <font color=\"red\">4</font>.</div></span></span> I plan to leave my office at precisely <span class=\"nobr\">10:00 A.M.</span> and wish to post a note on my door that reads, \"I will return by <span class=\"nobr\"><em>t</em> A.M.\"</span> How long should I estimate my trip will take if I want the probability of the trip taking longer than my estimate to be 0.01? (Round your answer to two decimal places.)\n",
    "</div>"
   ]
  },
  {
   "cell_type": "markdown",
   "metadata": {},
   "source": [
    "# 4. DEVORESTAT9 5.E.066.S.\n",
    "\n",
    "If two loads are applied to a cantilever beam as shown in the accompanying drawing, the bending moment at 0 due to the loads is <span class=\"watexinlineblock\"><span class=\"watex watexlineheightnormal\"><div class=\"watexline\"><span style=\"font-style: italic;\"><span style=\"font-style: italic;\">a</span></span><sub>1</sub><span style=\"font-style: italic;\"><span style=\"font-style: italic;\">X</span></span><sub>1</sub> + <span style=\"font-style: italic;\"><span style=\"font-style: italic;\">a</span></span><sub>2</sub><span style=\"font-style: italic;\"><span style=\"font-style: italic;\">X</span></span><sub>2</sub>.</div></span></span>\n",
    "\n",
    "<img src=\"images/5_5_problem_4.png\" alt=\"5_5_problem_4.png\" style=\"float:left;\">\n",
    "<div style=\"float:left;\">\n",
    "  (a) Suppose that <em>X</em><sub>1</sub> and <em>X</em><sub>2</sub> are independent rv's with means <font color=\"red\">3</font> and <font color=\"red\">6</font> kips, respectively, and standard deviations <font color=\"red\">0.8</font> and <font color=\"red\">1.6</font> kip, respectively. If <span class=\"watexinlineblock\"><span class=\"watex watexlineheightnormal\"><div class=\"watexline\"><span style=\"font-style: italic;\"><span style=\"font-style: italic;\">a</span></span><sub>1</sub> = <span style=\"color: red\">9</span> ft</div></span></span> and <span class=\"watexinlineblock\"><span class=\"watex watexlineheightnormal\"><div class=\"watexline\"><span style=\"font-style: italic;\"><span style=\"font-style: italic;\">a</span></span><sub>2</sub> = <font color=\"red\">18</font> ft,</div></span></span> what is the expected bending moment and what is the standard deviation of the bending moment? (Round your standard deviation to three decimal places.) </div>"
   ]
  },
  {
   "cell_type": "code",
   "execution_count": null,
   "metadata": {},
   "outputs": [],
   "source": []
  },
  {
   "cell_type": "markdown",
   "metadata": {},
   "source": [
    "#### expected bending moment"
   ]
  },
  {
   "cell_type": "code",
   "execution_count": null,
   "metadata": {},
   "outputs": [],
   "source": []
  },
  {
   "cell_type": "markdown",
   "metadata": {},
   "source": [
    "#### standard deviation"
   ]
  },
  {
   "cell_type": "code",
   "execution_count": null,
   "metadata": {},
   "outputs": [],
   "source": []
  },
  {
   "cell_type": "markdown",
   "metadata": {},
   "source": [
    "<h3> (b) If <em>X</em><sub>1</sub> and <em>X</em><sub>2</sub> are normally distributed, what is the probability that the bending moment will exceed 75 kip-ft?  (Round your answer to four decimal places.) </h3>"
   ]
  },
  {
   "cell_type": "code",
   "execution_count": null,
   "metadata": {},
   "outputs": [],
   "source": []
  },
  {
   "cell_type": "markdown",
   "metadata": {},
   "source": [
    "<h3>(c) Suppose the positions of the two loads are random variables. Denoting them by <em>A</em><sub>1</sub> and <em>A</em><sub>2</sub>, assume that these variables have means of <font color=\"red\">9</font> and <font color=\"red\">18</font> ft, respectively, that each has a standard deviation of 0.5, and that all <span class=\"watexinlineblock\"><span class=\"watex watexlineheightnormal\"><div class=\"watexline\"><span style=\"font-style: italic;\"><span style=\"font-style: italic;\">A</span></span><sub><span style=\"font-style: italic;\"><span style=\"font-style: italic;\">i</span></span></sub><span style=\"font-style: italic;\"><span style=\"font-style: italic;\">'</span></span>s</div></span></span> and <span class=\"watexinlineblock\"><span class=\"watex watexlineheightnormal\"><div class=\"watexline\"><span style=\"font-style: italic;\"><span style=\"font-style: italic;\">X</span></span><sub><span style=\"font-style: italic;\"><span style=\"font-style: italic;\">i</span></span></sub><span style=\"font-style: italic;\"><span style=\"font-style: italic;\">'</span></span>s</div></span></span> are independent of one another. What is the expected moment now?</h3>"
   ]
  },
  {
   "cell_type": "code",
   "execution_count": null,
   "metadata": {},
   "outputs": [],
   "source": []
  },
  {
   "cell_type": "markdown",
   "metadata": {},
   "source": [
    "### (d) For the situation of part (c), what is the variance of the bending moment? (Round your answer to two decimal places.)\n"
   ]
  },
  {
   "cell_type": "code",
   "execution_count": null,
   "metadata": {},
   "outputs": [],
   "source": []
  },
  {
   "cell_type": "markdown",
   "metadata": {},
   "source": [
    "<h3> (e) If the situation is as described in part (a) except that <span class=\"watexinlineblock\"><span class=\"watex watexlineheightnormal\"><div class=\"watexline\">Corr(<span style=\"font-style: italic;\"><span style=\"font-style: italic;\">X</span></span><sub>1</sub>, <span style=\"font-style: italic;\"><span style=\"font-style: italic;\">X</span></span><sub>2</sub>) = 0.5</div></span></span> (so that the two loads are not independent), what is the variance of the bending moment? </h3>"
   ]
  }
 ],
 "metadata": {
  "kernelspec": {
   "display_name": "Python 3.8.5 64-bit Anaconda (Only works with Anaconda's Jupyter)",
   "language": "python",
   "name": "python_3.8.5_64-bit_anaconda"
  },
  "language_info": {
   "codemirror_mode": {
    "name": "ipython",
    "version": 3
   },
   "file_extension": ".py",
   "mimetype": "text/x-python",
   "name": "python",
   "nbconvert_exporter": "python",
   "pygments_lexer": "ipython3",
   "version": "3.8.5"
  },
  "varInspector": {
   "cols": {
    "lenName": 16,
    "lenType": 16,
    "lenVar": 40
   },
   "kernels_config": {
    "python": {
     "delete_cmd_postfix": "",
     "delete_cmd_prefix": "del ",
     "library": "var_list.py",
     "varRefreshCmd": "print(var_dic_list())"
    },
    "r": {
     "delete_cmd_postfix": ") ",
     "delete_cmd_prefix": "rm(",
     "library": "var_list.r",
     "varRefreshCmd": "cat(var_dic_list()) "
    }
   },
   "types_to_exclude": [
    "module",
    "function",
    "builtin_function_or_method",
    "instance",
    "_Feature"
   ],
   "window_display": false
  }
 },
 "nbformat": 4,
 "nbformat_minor": 4
}

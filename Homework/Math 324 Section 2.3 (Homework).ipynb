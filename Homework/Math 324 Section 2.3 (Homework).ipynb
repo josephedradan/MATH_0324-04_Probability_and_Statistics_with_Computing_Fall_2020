{
 "cells": [
  {
   "cell_type": "markdown",
   "metadata": {},
   "source": [
    "# 1.DEVORESTAT9 2.E.032.MI.\n",
    "A stereo store is offering a special price on a complete set of components (receiver, compact disc player, speakers, turntable). A purchaser is offered a choice of manufacturer for each component.\n",
    "<ul class=\"none\">\n",
    "    <li>\n",
    "        Receiver: <font color=\"red\">Kenwood</font>, Sony, Sherwood\n",
    "    </li>\n",
    "    <li>\n",
    "        Compact disc player: Onkyo, Pioneer, Sony, Technics\n",
    "    </li>\n",
    "    <li>\n",
    "        Speakers: <font color=\"red\">Boston, Infinity</font>\n",
    "    </li>\n",
    "    <li>\n",
    "        Turntable: Onkyo, Sony, Teac, Technics\n",
    "    </li>\n",
    "</ul>\n",
    "<p>A switchboard display in the store allows a customer to hook together any selection of components (consisting of one of each type). Use the product rules to answer the following questions.</p>"
   ]
  },
  {
   "cell_type": "code",
   "execution_count": 1,
   "metadata": {
    "ExecuteTime": {
     "end_time": "2020-10-28T20:16:42.464657Z",
     "start_time": "2020-10-28T20:16:42.450645Z"
    }
   },
   "outputs": [],
   "source": [
    "import math"
   ]
  },
  {
   "cell_type": "markdown",
   "metadata": {},
   "source": [
    "### (a) In how many ways can one component of each type be selected?"
   ]
  },
  {
   "cell_type": "code",
   "execution_count": 2,
   "metadata": {
    "ExecuteTime": {
     "end_time": "2020-10-28T20:16:42.479670Z",
     "start_time": "2020-10-28T20:16:42.465658Z"
    }
   },
   "outputs": [
    {
     "name": "stdout",
     "output_type": "stream",
     "text": [
      "96\n"
     ]
    }
   ],
   "source": [
    "recevier = math.comb(3, 1)\n",
    "compact_disc_player = math.comb(4, 1)\n",
    "speakers = math.comb(2, 1)\n",
    "turntable = math.comb(4, 1)\n",
    "\n",
    "complete_set_of_components_all_possible = (recevier *\n",
    "                                           compact_disc_player *\n",
    "                                           speakers *\n",
    "                                           turntable)\n",
    "\n",
    "print(complete_set_of_components_all_possible)"
   ]
  },
  {
   "cell_type": "markdown",
   "metadata": {},
   "source": [
    "### (b) In how many ways can components be selected if both the receiver and the compact disc player are to be Sony?"
   ]
  },
  {
   "cell_type": "code",
   "execution_count": 3,
   "metadata": {
    "ExecuteTime": {
     "end_time": "2020-10-28T20:16:42.494683Z",
     "start_time": "2020-10-28T20:16:42.480671Z"
    }
   },
   "outputs": [
    {
     "name": "stdout",
     "output_type": "stream",
     "text": [
      "8\n"
     ]
    }
   ],
   "source": [
    "recevier = 1  # receiver is Sony\n",
    "compact_disc_player = 1 # compact disc player is Sony\n",
    "speakers = math.comb(2, 1)\n",
    "turntable = math.comb(4, 1)  \n",
    "\n",
    "receiver_turntable_sony = (recevier *\n",
    "                           compact_disc_player *\n",
    "                           speakers *\n",
    "                           turntable)\n",
    "\n",
    "print(receiver_turntable_sony)"
   ]
  },
  {
   "cell_type": "markdown",
   "metadata": {
    "ExecuteTime": {
     "end_time": "2020-09-09T04:12:53.407960Z",
     "start_time": "2020-09-09T04:12:53.406959Z"
    }
   },
   "source": [
    "### (c) In how many ways can components be selected if none is to be Sony?"
   ]
  },
  {
   "cell_type": "code",
   "execution_count": 4,
   "metadata": {
    "ExecuteTime": {
     "end_time": "2020-10-28T20:16:42.509834Z",
     "start_time": "2020-10-28T20:16:42.495684Z"
    }
   },
   "outputs": [
    {
     "name": "stdout",
     "output_type": "stream",
     "text": [
      "36\n"
     ]
    }
   ],
   "source": [
    "recevier = math.comb(2, 1)  # DECREASE from 3 to 2 to exclude Sony. math.comb(3, 1) -> math.comb(2, 1)\n",
    "compact_disc_player = math.comb(3, 1)  # DECREASE from 4 to 3 to exclude Sony.  math.comb(4, 1) -> math.comb(3, 1)\n",
    "speakers = math.comb(2, 1)\n",
    "turntable = math.comb(3, 1)  # DECREASE from 4 to 3 to exclude Sony. math.comb(4, 1) -> math.comb(3, 1)\n",
    "\n",
    "none_sony = (recevier *\n",
    "             compact_disc_player *\n",
    "             speakers *\n",
    "             turntable)\n",
    "\n",
    "print(none_sony)"
   ]
  },
  {
   "cell_type": "markdown",
   "metadata": {},
   "source": [
    "### (d) In how many ways can a selection be made if at least one Sony component is to be included?\n"
   ]
  },
  {
   "cell_type": "code",
   "execution_count": 5,
   "metadata": {
    "ExecuteTime": {
     "end_time": "2020-10-28T20:16:42.525847Z",
     "start_time": "2020-10-28T20:16:42.510834Z"
    }
   },
   "outputs": [
    {
     "name": "stdout",
     "output_type": "stream",
     "text": [
      "60\n"
     ]
    }
   ],
   "source": [
    "at_least_1_sony = complete_set_of_components_all_possible - none_sony\n",
    "\n",
    "print(at_least_1_sony)"
   ]
  },
  {
   "cell_type": "markdown",
   "metadata": {},
   "source": [
    "### (e) If someone flips switches on the selection in a completely random fashion, what is the probability that the system selected contains at least one Sony component? Exactly one Sony component? (Round your answer to three decimal places.)"
   ]
  },
  {
   "cell_type": "markdown",
   "metadata": {},
   "source": [
    "#### at least one Sony component\t"
   ]
  },
  {
   "cell_type": "code",
   "execution_count": 6,
   "metadata": {
    "ExecuteTime": {
     "end_time": "2020-10-28T20:16:42.541861Z",
     "start_time": "2020-10-28T20:16:42.526848Z"
    }
   },
   "outputs": [
    {
     "name": "stdout",
     "output_type": "stream",
     "text": [
      "prob_at_least_1_sony=0.625\n"
     ]
    }
   ],
   "source": [
    "prob_at_least_1_sony = (at_least_1_sony /\n",
    "                        complete_set_of_components_all_possible)\n",
    "\n",
    "print(f\"{prob_at_least_1_sony=}\")"
   ]
  },
  {
   "cell_type": "markdown",
   "metadata": {},
   "source": [
    "#### exactly one Sony component"
   ]
  },
  {
   "cell_type": "code",
   "execution_count": 7,
   "metadata": {
    "ExecuteTime": {
     "end_time": "2020-10-28T20:16:42.557874Z",
     "start_time": "2020-10-28T20:16:42.543863Z"
    }
   },
   "outputs": [
    {
     "name": "stdout",
     "output_type": "stream",
     "text": [
      "prob_exactly_1_sony=0.4375\n"
     ]
    }
   ],
   "source": [
    "########################################################################################################\n",
    "# Sony receiver only\n",
    "\n",
    "recevier = 1  # receiver is Sony\n",
    "\n",
    "# DECREASE from 4 to 3 to exclude Sony. math.comb(4, 1) -> math.comb(3, 1)\n",
    "compact_disc_player = math.comb(3, 1)\n",
    "\n",
    "speakers = math.comb(2, 1)\n",
    "\n",
    "# DECREASE from 4 to 3 to exclude Sony. math.comb(4, 1) -> math.comb(3, 1)\n",
    "turntable = math.comb(3, 1)\n",
    "\n",
    "recevier_exactly_1_sony_component = (recevier * \n",
    "                                     compact_disc_player * \n",
    "                                     speakers *\n",
    "                                     turntable)\n",
    "\n",
    "########################################################################################################\n",
    "# Sony compact_disc_player only\n",
    "\n",
    "# DECREASE from 3 to 2 to exclude Sony. math.comb(3, 1) -> math.comb(2, 1)\n",
    "recevier = math.comb(2, 1)\n",
    "\n",
    "compact_disc_player = 1  # compact_disc_player is Sony\n",
    "speakers = math.comb(2, 1)\n",
    "\n",
    "# DECREASE from 4 to 3 to exclude Sony. math.comb(4, 1) -> math.comb(3, 1)\n",
    "turntable = math.comb(3, 1)\n",
    "\n",
    "compact_disc_player_exactly_1_sony_component = (recevier * \n",
    "                                                compact_disc_player * \n",
    "                                                speakers * \n",
    "                                                turntable)\n",
    "\n",
    "########################################################################################################\n",
    "# Sony turntable only\n",
    "\n",
    "# DECREASE from 3 to 2 to exclude Sony. math.comb(3, 1) -> math.comb(2, 1)\n",
    "recevier = math.comb(2, 1)\n",
    "\n",
    "# DECREASE from 4 to 3 to exclude Sony. math.comb(4, 1) -> math.comb(3, 1)\n",
    "compact_disc_player = math.comb(3, 1)\n",
    "\n",
    "speakers = math.comb(2, 1)\n",
    "\n",
    "turntable = 1  # turntable is Sony\n",
    "\n",
    "turntable_exactly_1_sony_component = (recevier * \n",
    "                                      compact_disc_player * \n",
    "                                      speakers * \n",
    "                                      turntable)\n",
    "\n",
    "########################################################################################################\n",
    "\n",
    "# Calculating exactly 1\n",
    "exactly_1_sony = (recevier_exactly_1_sony_component +\n",
    "                  compact_disc_player_exactly_1_sony_component +\n",
    "                  turntable_exactly_1_sony_component)\n",
    "\n",
    "# print(f\"{exactly_1_sony=}\")\n",
    "# print()\n",
    "\n",
    "prob_exactly_1_sony = exactly_1_sony / complete_set_of_components_all_possible\n",
    "\n",
    "print(f\"{prob_exactly_1_sony=}\")"
   ]
  },
  {
   "cell_type": "markdown",
   "metadata": {},
   "source": [
    "# 2. DEVORESTAT9 2.E.034.\n",
    "<div class=\"wa1par\"> Computer keyboard failures can be attributed to electrical defects or mechanical defects. A repair facility currently has 25 failed keyboards, <font color=\"red\">12</font> of which have electrical defects and <font color=\"red\">13</font> of which have mechanical defects. </div>"
   ]
  },
  {
   "cell_type": "code",
   "execution_count": 8,
   "metadata": {
    "ExecuteTime": {
     "end_time": "2020-10-28T20:16:42.572887Z",
     "start_time": "2020-10-28T20:16:42.558875Z"
    }
   },
   "outputs": [],
   "source": [
    "defect_electric = 12\n",
    "defect_mechanical = 13"
   ]
  },
  {
   "cell_type": "markdown",
   "metadata": {
    "ExecuteTime": {
     "end_time": "2020-09-09T04:53:34.244694Z",
     "start_time": "2020-09-09T04:53:34.242692Z"
    }
   },
   "source": [
    "<h3> (a) How many ways are there to randomly select <font color=\"red\">6</font> of these keyboards for a thorough inspection (without regard to order)?</h3>"
   ]
  },
  {
   "cell_type": "code",
   "execution_count": 9,
   "metadata": {
    "ExecuteTime": {
     "end_time": "2020-10-28T20:16:42.587900Z",
     "start_time": "2020-10-28T20:16:42.573888Z"
    }
   },
   "outputs": [
    {
     "name": "stdout",
     "output_type": "stream",
     "text": [
      "177100\n"
     ]
    }
   ],
   "source": [
    "ways_to_randomly_select_6_keyboards = math.comb(\n",
    "    defect_electric + defect_mechanical, 6)\n",
    "\n",
    "print(ways_to_randomly_select_6_keyboards)"
   ]
  },
  {
   "cell_type": "markdown",
   "metadata": {},
   "source": [
    "<h3> (b) In how many ways can a sample of <font color=\"red\">6</font> keyboards be selected so that exactly two have an electrical defect? </h3>"
   ]
  },
  {
   "cell_type": "code",
   "execution_count": 10,
   "metadata": {
    "ExecuteTime": {
     "end_time": "2020-10-28T20:16:42.602913Z",
     "start_time": "2020-10-28T20:16:42.588901Z"
    }
   },
   "outputs": [
    {
     "name": "stdout",
     "output_type": "stream",
     "text": [
      "47190\n"
     ]
    }
   ],
   "source": [
    "# Have 2 be electric defects\n",
    "choose_2_defect_electric_given = math.comb(\n",
    "    defect_electric, 2)  \n",
    "\n",
    "# Have 4 be mechanical defects (the remaining. 6 - 2 = 4)\n",
    "choose_4_defect_mechanical_implied = math.comb(\n",
    "    defect_mechanical, 4)  \n",
    "\n",
    "exactly_2_electric_defect_4_mechanical_defect_implied = (choose_2_defect_electric_given *\n",
    "                                                         choose_4_defect_mechanical_implied)\n",
    "\n",
    "print(exactly_2_electric_defect_4_mechanical_defect_implied)"
   ]
  },
  {
   "cell_type": "markdown",
   "metadata": {
    "ExecuteTime": {
     "end_time": "2020-09-09T05:03:28.140967Z",
     "start_time": "2020-09-09T05:03:28.138965Z"
    }
   },
   "source": [
    "<h3> (c) If a sample of <font color=\"red\">6</font> keyboards is randomly selected, what is the probability that at least <font color=\"red\">5</font> of these will have a mechanical defect? (Round your answer to four decimal places.) </h3>"
   ]
  },
  {
   "cell_type": "code",
   "execution_count": 11,
   "metadata": {
    "ExecuteTime": {
     "end_time": "2020-10-28T20:16:42.618436Z",
     "start_time": "2020-10-28T20:16:42.603914Z"
    }
   },
   "outputs": [
    {
     "name": "stdout",
     "output_type": "stream",
     "text": [
      "0.0969\n"
     ]
    }
   ],
   "source": [
    "# AT LEAST MEANS 5 or 6 MECHANICAL DEFECT\n",
    "\n",
    "# CHOOSE 5 MECHANICAL DEFECT\n",
    "choose_1_defect_electric_implied = math.comb(defect_electric, 1)\n",
    "choose_5_defect_mechanical_given = math.comb(defect_mechanical, 5)\n",
    "\n",
    "ways_to_choose_5_mechanical_defect = (choose_1_defect_electric_implied *\n",
    "                                      choose_5_defect_mechanical_given)\n",
    "\n",
    "# CHOOSE 6 MECHANICAL DEFECT\n",
    "choose_0_defect_electric_implied = math.comb(defect_electric, 0)\n",
    "choose_6_defect_mechanical_given = math.comb(defect_mechanical, 6)\n",
    "\n",
    "ways_to_choose_6_mechanical_defect = (choose_0_defect_electric_implied *\n",
    "                                      choose_6_defect_mechanical_given)\n",
    "\n",
    "# Add ways\n",
    "at_least_5_mechanical_defect = (ways_to_choose_5_mechanical_defect +\n",
    "                                ways_to_choose_6_mechanical_defect)\n",
    "\n",
    "prob_at_least_5_mechanical_defect = (at_least_5_mechanical_defect /\n",
    "                                     ways_to_randomly_select_6_keyboards)\n",
    "\n",
    "print(\"{:.4f}\".format(prob_at_least_5_mechanical_defect))"
   ]
  },
  {
   "cell_type": "markdown",
   "metadata": {},
   "source": [
    "# 3. DEVORESTAT9 2.E.039.\n",
    "<h3>\n",
    "A box in a supply room contains <font color=\"red\">24</font> compact fluorescent lightbulbs, of which <font color=\"red\">8</font> are rated 13-watt, <font color=\"red\">9</font> are rated <span class=\"nobr\">18-watt,</span> and <font color=\"red\">7</font> are rated <span class=\"nobr\">23-watt.</span> Suppose that three of these bulbs are randomly selected. (Round your answers to three decimal places.)\n",
    "</h3>"
   ]
  },
  {
   "cell_type": "code",
   "execution_count": 12,
   "metadata": {
    "ExecuteTime": {
     "end_time": "2020-10-28T20:16:42.634449Z",
     "start_time": "2020-10-28T20:16:42.619436Z"
    }
   },
   "outputs": [
    {
     "name": "stdout",
     "output_type": "stream",
     "text": [
      "ways_to_choose_all_possible_fluorescent_lightbulbs=2024\n"
     ]
    }
   ],
   "source": [
    "amount_rated_13_watt = 8\n",
    "amount_rated_18_watt = 9\n",
    "amount_rated_23_watt = 7\n",
    "\n",
    "total_fluorescent_lightbulbs = (amount_rated_13_watt +\n",
    "                                amount_rated_18_watt + \n",
    "                                amount_rated_23_watt)\n",
    "\n",
    "ways_to_choose_all_possible_fluorescent_lightbulbs = math.comb(\n",
    "    total_fluorescent_lightbulbs, 3)\n",
    "\n",
    "print(f\"{ways_to_choose_all_possible_fluorescent_lightbulbs=}\")"
   ]
  },
  {
   "cell_type": "markdown",
   "metadata": {},
   "source": [
    "### (a) What is the probability that exactly two of the selected bulbs are rated 23-watt?"
   ]
  },
  {
   "cell_type": "code",
   "execution_count": 13,
   "metadata": {
    "ExecuteTime": {
     "end_time": "2020-10-28T20:16:42.650463Z",
     "start_time": "2020-10-28T20:16:42.635450Z"
    }
   },
   "outputs": [
    {
     "name": "stdout",
     "output_type": "stream",
     "text": [
      "0.176\n"
     ]
    }
   ],
   "source": [
    "# Choose 2 23-watt\n",
    "choose_2_23_watt = math.comb(amount_rated_23_watt, 2)\n",
    "\n",
    "# Choose 1 13-watt or 18-watt\n",
    "choose_1_13_or_18_watt = math.comb(\n",
    "    amount_rated_18_watt + amount_rated_13_watt, 1)\n",
    "\n",
    "# Choose 3 with 2 23-watt and 1 of 13-watt or 18-watt\n",
    "choose_3_with_2_23_watt = (choose_2_23_watt * choose_1_13_or_18_watt)\n",
    "\n",
    "# Prob Choose 3 with 2 23-watt and 1 of 13-watt or 18-watt\n",
    "prob_choose_3_with_2_23_watt = (choose_3_with_2_23_watt /\n",
    "                                ways_to_choose_all_possible_fluorescent_lightbulbs)\n",
    "\n",
    "# print(prob_choose_3_with_2_23_watt)\n",
    "print(\"{:.3f}\".format(prob_choose_3_with_2_23_watt))"
   ]
  },
  {
   "cell_type": "markdown",
   "metadata": {},
   "source": [
    "### (b) What is the probability that all three of the bulbs have the same rating?"
   ]
  },
  {
   "cell_type": "code",
   "execution_count": 14,
   "metadata": {
    "ExecuteTime": {
     "end_time": "2020-10-28T20:16:42.665476Z",
     "start_time": "2020-10-28T20:16:42.651464Z"
    },
    "scrolled": true
   },
   "outputs": [
    {
     "name": "stdout",
     "output_type": "stream",
     "text": [
      "0.086\n"
     ]
    }
   ],
   "source": [
    "choose_3_23_watt = math.comb(amount_rated_23_watt, 3)\n",
    "choose_3_18_watt = math.comb(amount_rated_18_watt, 3)\n",
    "choose_3_13_watt = math.comb(amount_rated_13_watt, 3)\n",
    "\n",
    "# Notice adding. 3 choose 3 is 1 so it's basically (1 + 1 + 1) since there is 1 way to choose 3 of same bulb\n",
    "choose_3_same_watt = choose_3_13_watt + choose_3_18_watt + choose_3_23_watt\n",
    "\n",
    "prob_choose_3_same_watt = (choose_3_same_watt /\n",
    "                           ways_to_choose_all_possible_fluorescent_lightbulbs)\n",
    "\n",
    "# print(prob_choose_3_same_watt)\n",
    "print(\"{:.3f}\".format(prob_choose_3_same_watt))"
   ]
  },
  {
   "cell_type": "markdown",
   "metadata": {
    "ExecuteTime": {
     "end_time": "2020-09-09T05:10:57.912707Z",
     "start_time": "2020-09-09T05:10:57.910704Z"
    }
   },
   "source": [
    "### (c) What is the probability that one bulb of each type is selected?"
   ]
  },
  {
   "cell_type": "code",
   "execution_count": 15,
   "metadata": {
    "ExecuteTime": {
     "end_time": "2020-10-28T20:16:42.681489Z",
     "start_time": "2020-10-28T20:16:42.666477Z"
    }
   },
   "outputs": [
    {
     "name": "stdout",
     "output_type": "stream",
     "text": [
      "0.249\n"
     ]
    }
   ],
   "source": [
    "choose_1_13_watt = math.comb(amount_rated_13_watt, 1)\n",
    "choose_1_18_watt = math.comb(amount_rated_18_watt, 1)\n",
    "choose_1_23_watt = math.comb(amount_rated_23_watt, 1)\n",
    "\n",
    "# 3 choose 1 is 3. We multiply this by the other ways to get 3 (3 * 3 * 3)\n",
    "choose_3_1_of_each_watt = choose_1_13_watt * choose_1_18_watt * choose_1_23_watt\n",
    "\n",
    "prob_choose_3_1_of_each_watt = (choose_3_1_of_each_watt /\n",
    "                                ways_to_choose_all_possible_fluorescent_lightbulbs)\n",
    "\n",
    "# print(prob_choose_3_1_of_each_watt)\n",
    "print(\"{:.3f}\".format(prob_choose_3_1_of_each_watt))"
   ]
  },
  {
   "cell_type": "markdown",
   "metadata": {},
   "source": [
    "### (d) If bulbs are selected one by one until a 23-watt bulb is obtained, what is the probability that it is necessary to examine at least 6 bulbs?"
   ]
  },
  {
   "cell_type": "code",
   "execution_count": 16,
   "metadata": {
    "ExecuteTime": {
     "end_time": "2020-10-28T20:16:42.697503Z",
     "start_time": "2020-10-28T20:16:42.682490Z"
    }
   },
   "outputs": [
    {
     "name": "stdout",
     "output_type": "stream",
     "text": [
      "0.146\n"
     ]
    }
   ],
   "source": [
    "# HARD\n",
    "\n",
    "# The 6th bulb is guaranteed is 23 watt\n",
    "# So we really need 5\n",
    "\n",
    "ways_to_choose_5_bulbs_from_18_and_13_watt = math.comb(amount_rated_18_watt +\n",
    "                                                       amount_rated_13_watt, 5)\n",
    "\n",
    "ways_to_choose_5_bulbs_from_total_fluorescent_lightbulbs = (\n",
    "    math.comb(total_fluorescent_lightbulbs, 5))\n",
    "\n",
    "prob_to_examine_6_bulbs_till_23_watt_found = (ways_to_choose_5_bulbs_from_18_and_13_watt /\n",
    "                                              ways_to_choose_5_bulbs_from_total_fluorescent_lightbulbs)\n",
    "\n",
    "print(\"{:.3f}\".format(prob_to_examine_6_bulbs_till_23_watt_found))"
   ]
  },
  {
   "cell_type": "markdown",
   "metadata": {},
   "source": [
    "# 4. DEVORESTAT9 2.E.040.\n",
    "Three molecules of type A, three of type B, three of type C, and three of type D are to be linked together to form a chain molecule. One such chain molecule is ABCDABCDABCD, and another is BCDDAAABDBCC."
   ]
  },
  {
   "cell_type": "code",
   "execution_count": 17,
   "metadata": {
    "ExecuteTime": {
     "end_time": "2020-10-28T20:16:42.713517Z",
     "start_time": "2020-10-28T20:16:42.698504Z"
    }
   },
   "outputs": [],
   "source": [
    "type_a = 3\n",
    "type_b = 3\n",
    "type_c = 3\n",
    "type_d = 3"
   ]
  },
  {
   "cell_type": "markdown",
   "metadata": {
    "ExecuteTime": {
     "end_time": "2020-09-09T05:46:06.263724Z",
     "start_time": "2020-09-09T05:46:06.260721Z"
    }
   },
   "source": [
    "<h3> (a) How many such chain molecules are there? [<em>Hint:</em> If the three <em>A</em>'s were distinguishable from one another<span style=\"font: inherit 2.00em/2.00em Trebuchet MS, Lucida Grande, sans-serif; padding: 0px\">—</span><span class=\"watexinlineblock\"><span class=\"watex watexlineheightnormal\"><span style=\"font-style: italic;\"><span style=\"font-style: italic;\">A</span></span><sub>1</sub>,</span></span> <span class=\"watexinlineblock\"><span class=\"watex watexlineheightnormal\"><span style=\"font-style: italic;\"><span style=\"font-style: italic;\">A</span></span><sub>2</sub>,</span></span> <span class=\"watexinlineblock\"><span class=\"watex watexlineheightnormal\"><span style=\"font-style: italic;\"><span style=\"font-style: italic;\">A</span></span><sub>3</sub><span style=\"font: inherit 2.00em/2.00em Trebuchet MS, Lucida Grande, sans-serif; padding: 0px\">—</span></span></span> and the <em>B</em>'s, <em>C</em>'s, and <em>D</em>'s were also, how many molecules would there be? How is this number reduced when the subscripts are removed from the <em>A</em>'s?] </h3>"
   ]
  },
  {
   "cell_type": "code",
   "execution_count": 18,
   "metadata": {
    "ExecuteTime": {
     "end_time": "2020-10-28T20:16:42.729531Z",
     "start_time": "2020-10-28T20:16:42.714519Z"
    }
   },
   "outputs": [
    {
     "name": "stdout",
     "output_type": "stream",
     "text": [
      "total_amount_of_combinations: 479001600\n",
      "amount_of_chain_molecules: 369600.0\n"
     ]
    }
   ],
   "source": [
    "import functools\n",
    "import itertools\n",
    "\n",
    "# HARD\n",
    "\n",
    "def factorial(i):\n",
    "    return functools.reduce(lambda x, y: x * y, range(1, i + 1))\n",
    "\n",
    "total_amount_of_combinations = factorial(12)  # EQUAL to Permutations(12,12)\n",
    "\n",
    "print(\"total_amount_of_combinations:\", total_amount_of_combinations)\n",
    "\n",
    "# len(list(itertools.combinations([1, 2, 3, 4, 5, 6, 7, 8, 9, 10, 11, 12], 12)))\n",
    "# x = [1, 2, 3, 4, 5, 6, 7, 8, 9, 10, 11, 12]\n",
    "\n",
    "ways_to_order_3 = factorial(3)\n",
    "\n",
    "# A's are indistinguishable from each other (6 * 6 * 6)\n",
    "ways_to_order_3_of_4_letter = (ways_to_order_3 *\n",
    "                               ways_to_order_3 * \n",
    "                               ways_to_order_3 * \n",
    "                               ways_to_order_3)\n",
    "\n",
    "amount_of_chain_molecules = (total_amount_of_combinations /\n",
    "                             ways_to_order_3_of_4_letter)\n",
    "\n",
    "print(\"amount_of_chain_molecules:\", amount_of_chain_molecules)"
   ]
  },
  {
   "cell_type": "markdown",
   "metadata": {},
   "source": [
    "### (b) Suppose a chain molecule of the type described is randomly selected. What is the probability that all three molecules of each type end up next to one another (such as in BBBAAADDDCCC)? (Round your answer to eight decimal places.)"
   ]
  },
  {
   "cell_type": "code",
   "execution_count": 19,
   "metadata": {
    "ExecuteTime": {
     "end_time": "2020-10-28T20:16:42.744543Z",
     "start_time": "2020-10-28T20:16:42.730531Z"
    }
   },
   "outputs": [
    {
     "name": "stdout",
     "output_type": "stream",
     "text": [
      "permutation_of_ordered_letters_next_to_each_other\n",
      "('BBB', 'AAA', 'DDD', 'CCC')\n",
      "('BBB', 'AAA', 'CCC', 'DDD')\n",
      "('BBB', 'DDD', 'AAA', 'CCC')\n",
      "('BBB', 'DDD', 'CCC', 'AAA')\n",
      "('BBB', 'CCC', 'AAA', 'DDD')\n",
      "('BBB', 'CCC', 'DDD', 'AAA')\n",
      "('AAA', 'BBB', 'DDD', 'CCC')\n",
      "('AAA', 'BBB', 'CCC', 'DDD')\n",
      "('AAA', 'DDD', 'BBB', 'CCC')\n",
      "('AAA', 'DDD', 'CCC', 'BBB')\n",
      "('AAA', 'CCC', 'BBB', 'DDD')\n",
      "('AAA', 'CCC', 'DDD', 'BBB')\n",
      "('DDD', 'BBB', 'AAA', 'CCC')\n",
      "('DDD', 'BBB', 'CCC', 'AAA')\n",
      "('DDD', 'AAA', 'BBB', 'CCC')\n",
      "('DDD', 'AAA', 'CCC', 'BBB')\n",
      "('DDD', 'CCC', 'BBB', 'AAA')\n",
      "('DDD', 'CCC', 'AAA', 'BBB')\n",
      "('CCC', 'BBB', 'AAA', 'DDD')\n",
      "('CCC', 'BBB', 'DDD', 'AAA')\n",
      "('CCC', 'AAA', 'BBB', 'DDD')\n",
      "('CCC', 'AAA', 'DDD', 'BBB')\n",
      "('CCC', 'DDD', 'BBB', 'AAA')\n",
      "('CCC', 'DDD', 'AAA', 'BBB')\n",
      "\n",
      "Amount of perumtaions:  24\n",
      "\n",
      "Probability that all three molecules of each type end up next to one another: 0.00006494\n"
     ]
    }
   ],
   "source": [
    "# VERY HARD\n",
    "\n",
    "permutation_of_ordered_letters_next_to_each_other = list(\n",
    "    itertools.permutations([\"BBB\", \"AAA\", \"DDD\", \"CCC\"]))\n",
    "\n",
    "print(\"permutation_of_ordered_letters_next_to_each_other\")\n",
    "[print(i) for i in permutation_of_ordered_letters_next_to_each_other]\n",
    "print()\n",
    "\n",
    "amount_permutation_of_ordered_letters_next_to_each_other = len(\n",
    "    permutation_of_ordered_letters_next_to_each_other)\n",
    "\n",
    "print(\"Amount of perumtaions: \",\n",
    "      amount_permutation_of_ordered_letters_next_to_each_other)\n",
    "print()\n",
    "\n",
    "probability_all_three_molecules_of_type_next_to_one_another = (amount_permutation_of_ordered_letters_next_to_each_other /\n",
    "                                                               amount_of_chain_molecules)\n",
    "\n",
    "print(\"Probability that all three molecules of each type end up next to one another: {:.8f}\".format(\n",
    "    probability_all_three_molecules_of_type_next_to_one_another))"
   ]
  }
 ],
 "metadata": {
  "kernelspec": {
   "display_name": "Python 3.8.5 64-bit Anaconda (Only works with Anaconda's Jupyter)",
   "language": "python",
   "name": "python_3.8.5_64-bit_anaconda"
  },
  "language_info": {
   "codemirror_mode": {
    "name": "ipython",
    "version": 3
   },
   "file_extension": ".py",
   "mimetype": "text/x-python",
   "name": "python",
   "nbconvert_exporter": "python",
   "pygments_lexer": "ipython3",
   "version": "3.8.5"
  },
  "varInspector": {
   "cols": {
    "lenName": 16,
    "lenType": 16,
    "lenVar": 40
   },
   "kernels_config": {
    "python": {
     "delete_cmd_postfix": "",
     "delete_cmd_prefix": "del ",
     "library": "var_list.py",
     "varRefreshCmd": "print(var_dic_list())"
    },
    "r": {
     "delete_cmd_postfix": ") ",
     "delete_cmd_prefix": "rm(",
     "library": "var_list.r",
     "varRefreshCmd": "cat(var_dic_list()) "
    }
   },
   "types_to_exclude": [
    "module",
    "function",
    "builtin_function_or_method",
    "instance",
    "_Feature"
   ],
   "window_display": false
  }
 },
 "nbformat": 4,
 "nbformat_minor": 4
}
